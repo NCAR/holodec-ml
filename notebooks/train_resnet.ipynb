{
 "cells": [
  {
   "cell_type": "code",
   "execution_count": 2,
   "metadata": {},
   "outputs": [],
   "source": [
    "import warnings\n",
    "warnings.filterwarnings(\"ignore\")\n",
    "\n",
    "import os\n",
    "import sys\n",
    "import glob\n",
    "import tqdm\n",
    "import time\n",
    "import yaml\n",
    "import torch\n",
    "import pickle\n",
    "import joblib\n",
    "import random\n",
    "import sklearn\n",
    "import logging\n",
    "import datetime\n",
    "import torch.fft\n",
    "import torchvision\n",
    "import torchvision.models as models\n",
    "\n",
    "from holodecml.torch.tqdm import tqdm\n",
    "\n",
    "#torch.multiprocessing.set_start_method('spawn')\n",
    "\n",
    "import numpy as np\n",
    "import pandas as pd\n",
    "import xarray as xr\n",
    "import torch.nn.functional as F\n",
    "import matplotlib.pyplot as plt\n",
    "from scipy.sparse import csr_matrix\n",
    "\n",
    "from torch import nn\n",
    "from collections import defaultdict\n",
    "from scipy.signal import convolve2d\n",
    "from torch.optim.lr_scheduler import *\n",
    "from sklearn.model_selection import train_test_split\n",
    "from torch.utils.data import Dataset, DataLoader, TensorDataset\n",
    "from typing import List, Dict, Callable, Union, Any, TypeVar, Tuple"
   ]
  },
  {
   "cell_type": "code",
   "execution_count": 3,
   "metadata": {},
   "outputs": [],
   "source": [
    "is_cuda = torch.cuda.is_available()\n",
    "device = torch.device(torch.cuda.current_device()) if is_cuda else torch.device(\"cpu\")\n",
    "\n",
    "if is_cuda:\n",
    "    torch.backends.cudnn.benchmark = True\n",
    "    #torch.backends.cudnn.deterministic = True"
   ]
  },
  {
   "cell_type": "markdown",
   "metadata": {},
   "source": [
    "### Load data from disk"
   ]
  },
  {
   "cell_type": "code",
   "execution_count": 4,
   "metadata": {},
   "outputs": [],
   "source": [
    "class DataLoader(Dataset):\n",
    "    \n",
    "    def __init__(self, fn, max_buffer_size = 5000, max_images = 40000, shuffle = True, normalize = True):\n",
    "        self.fn = fn\n",
    "        self.buffer = []\n",
    "        self.max_buffer_size = max_buffer_size\n",
    "        self.shuffle = shuffle\n",
    "        self.max_images = max_images\n",
    "            \n",
    "        self.fid = open(self.fn, \"rb\")\n",
    "        self.loaded = 0 \n",
    "        self.epoch = 0\n",
    "        \n",
    "        self.normalize = normalize\n",
    "        self.mean = np.mean([0.485, 0.456, 0.406])\n",
    "        self.std = np.mean([0.229, 0.224, 0.225])\n",
    "        \n",
    "    def __getitem__(self, idx):    \n",
    "        \n",
    "        self.on_epoch_end()\n",
    "        \n",
    "        while True:\n",
    "        \n",
    "            try:\n",
    "                data = joblib.load(self.fid)\n",
    "                image, label, mask = data\n",
    "                \n",
    "                if self.normalize:\n",
    "                    image /= 255.0\n",
    "                    image = (image - self.mean) / self.std\n",
    "                \n",
    "                #image, label, mask = data\n",
    "                image = torch.FloatTensor(image)\n",
    "                label = torch.LongTensor([label])\n",
    "                #mask = torch.FloatTensor(mask.toarray().squeeze(0))\n",
    "                \n",
    "                data = (image, label)#, mask)\n",
    "\n",
    "                self.loaded += 1\n",
    "\n",
    "                if not self.shuffle:\n",
    "                    return data\n",
    "                \n",
    "                self.buffer.append(data)\n",
    "                random.shuffle(self.buffer)\n",
    "\n",
    "                if len(self.buffer) > self.max_buffer_size:\n",
    "                    self.buffer = self.buffer[:self.max_buffer_size]\n",
    "\n",
    "                if self.epoch > 0:\n",
    "                    return self.buffer.pop()\n",
    "\n",
    "                else: # wait until all data has been seen before sampling from the buffer\n",
    "                    return data\n",
    "\n",
    "\n",
    "            except EOFError:\n",
    "                self.fid = open(self.fn, \"rb\")\n",
    "                self.loaded = 0\n",
    "                continue\n",
    "                    \n",
    "    def __len__(self):\n",
    "        return self.max_images\n",
    "    \n",
    "    def on_epoch_end(self):\n",
    "        if self.loaded == self.__len__():\n",
    "            self.fid = open(self.fn, \"rb\")\n",
    "            self.loaded = 0\n",
    "            self.epoch += 1"
   ]
  },
  {
   "cell_type": "markdown",
   "metadata": {},
   "source": [
    "### Load the binary model "
   ]
  },
  {
   "cell_type": "code",
   "execution_count": 5,
   "metadata": {},
   "outputs": [],
   "source": [
    "class ResNet(nn.Module):\n",
    "    def __init__(self, fcl_layers = [], color_dim = 2, dr = 0.0, output_size = 1, resnet_model = 18, pretrained = True):\n",
    "        super(ResNet, self).__init__()\n",
    "        self.pretrained = pretrained\n",
    "        self.resnet_model = resnet_model \n",
    "        if self.resnet_model == 18:\n",
    "            resnet = models.resnet18(pretrained=self.pretrained)\n",
    "        elif self.resnet_model == 34:\n",
    "            resnet = models.resnet34(pretrained=self.pretrained)\n",
    "        elif self.resnet_model == 50:\n",
    "            resnet = models.resnet50(pretrained=self.pretrained)\n",
    "        elif self.resnet_model == 101:\n",
    "            resnet = models.resnet101(pretrained=self.pretrained)\n",
    "        elif self.resnet_model == 152:\n",
    "            resnet = models.resnet152(pretrained=self.pretrained)\n",
    "        resnet.conv1 = torch.nn.Conv2d(color_dim, 64, (7, 7), (2, 2), (3, 3), bias=False) # Manually change color dim to match our data\n",
    "        modules = list(resnet.children())[:-1]      # delete the last fc layer.\n",
    "        self.resnet_output_dim = resnet.fc.in_features\n",
    "        self.resnet = nn.Sequential(*modules)\n",
    "        self.fcn = self.make_fcn(self.resnet_output_dim, output_size, fcl_layers, dr)\n",
    "        \n",
    "    def make_fcn(self, input_size, output_size, fcl_layers, dr):\n",
    "        if len(fcl_layers) > 0:\n",
    "            fcn = [\n",
    "                nn.Dropout(dr),\n",
    "                nn.Linear(input_size, fcl_layers[0]),\n",
    "                nn.BatchNorm1d(fcl_layers[0]),\n",
    "                torch.nn.LeakyReLU()\n",
    "            ]\n",
    "            if len(fcl_layers) == 1:\n",
    "                fcn.append(nn.Linear(fcl_layers[0], output_size))\n",
    "            else:\n",
    "                for i in range(len(fcl_layers)-1):\n",
    "                    fcn += [\n",
    "                        nn.Linear(fcl_layers[i], fcl_layers[i+1]),\n",
    "                        nn.BatchNorm1d(fcl_layers[i+1]),\n",
    "                        torch.nn.LeakyReLU(),\n",
    "                        nn.Dropout(dr)\n",
    "                    ]\n",
    "                fcn.append(nn.Linear(fcl_layers[i+1], output_size))\n",
    "        else:\n",
    "            fcn = [\n",
    "                nn.Dropout(dr),\n",
    "                nn.Linear(input_size, output_size)\n",
    "            ]\n",
    "        if output_size > 1:\n",
    "            fcn.append(torch.nn.LogSoftmax(dim=1))\n",
    "        return nn.Sequential(*fcn)\n",
    "\n",
    "    def _make_layer(self, block, planes, num_blocks, stride):\n",
    "        strides = [stride] + [1]*(num_blocks-1)\n",
    "        layers = []\n",
    "        for stride in strides:\n",
    "            layers.append(block(self.in_planes, planes, stride))\n",
    "            self.in_planes = planes * block.expansion\n",
    "        return nn.Sequential(*layers)\n",
    "\n",
    "    def forward(self, x):\n",
    "        x = self.resnet(x)\n",
    "        x = x.view(x.size(0), -1)  # flatten\n",
    "        x = self.fcn(x)\n",
    "        return x"
   ]
  },
  {
   "cell_type": "code",
   "execution_count": 6,
   "metadata": {},
   "outputs": [],
   "source": [
    "with open(\"models/resnet18_double_duplicate/holo_data.yml\") as cf:\n",
    "    conf = yaml.load(cf, Loader=yaml.FullLoader)"
   ]
  },
  {
   "cell_type": "code",
   "execution_count": 7,
   "metadata": {},
   "outputs": [],
   "source": [
    "tile_size = conf[\"data\"][\"tile_size\"]\n",
    "step_size = conf[\"data\"][\"step_size\"]\n",
    "data_path = conf[\"data\"][\"output_path\"]\n",
    "\n",
    "fn_train = f\"{data_path}/training_{tile_size}_{step_size}.pkl\"\n",
    "fn_valid = f\"{data_path}/validation_{tile_size}_{step_size}.pkl\"\n",
    "\n",
    "epochs = conf[\"trainer\"][\"epochs\"]\n",
    "train_batch_size = conf[\"trainer\"][\"train_batch_size\"]\n",
    "valid_batch_size = conf[\"trainer\"][\"valid_batch_size\"]\n",
    "batches_per_epoch = conf[\"trainer\"][\"batches_per_epoch\"]\n",
    "stopping_patience = conf[\"trainer\"][\"stopping_patience\"]\n",
    "model_loc = conf[\"trainer\"][\"output_path\"]\n",
    "\n",
    "fcl_layers = conf[\"resnet\"][\"fcl_layers\"]\n",
    "dropout = conf[\"resnet\"][\"dropout\"]\n",
    "output_size = conf[\"resnet\"][\"output_size\"]\n",
    "resnet_model = conf[\"resnet\"][\"resnet_model\"]\n",
    "pretrained = conf[\"resnet\"][\"pretrained\"]\n",
    "\n",
    "learning_rate = conf[\"optimizer\"][\"learning_rate\"]\n",
    "weight_decay = conf[\"optimizer\"][\"weight_decay\"]"
   ]
  },
  {
   "cell_type": "code",
   "execution_count": 8,
   "metadata": {},
   "outputs": [],
   "source": [
    "train_dataset = DataLoader(\n",
    "    fn_train, \n",
    "    max_images = int(0.8 * conf[\"data\"][\"total_training\"]), \n",
    "    max_buffer_size = int(0.1 * conf[\"data\"][\"total_training\"]), \n",
    "    shuffle = True, \n",
    "    normalize = False\n",
    ")\n",
    "\n",
    "test_dataset = DataLoader(\n",
    "    fn_valid, \n",
    "    max_images = int(0.1 * conf[\"data\"][\"total_training\"]),\n",
    "    shuffle = False, \n",
    "    normalize = False\n",
    ")"
   ]
  },
  {
   "cell_type": "code",
   "execution_count": 9,
   "metadata": {},
   "outputs": [],
   "source": [
    "train_loader = torch.utils.data.DataLoader(\n",
    "    train_dataset,\n",
    "    batch_size=train_batch_size, \n",
    "    #num_workers=0,\n",
    "    pin_memory=True,\n",
    "    shuffle=True)\n",
    "\n",
    "test_loader = torch.utils.data.DataLoader(\n",
    "    test_dataset,\n",
    "    batch_size=valid_batch_size,\n",
    "    #num_workers=0,\n",
    "    pin_memory=True,\n",
    "    shuffle=False)"
   ]
  },
  {
   "cell_type": "code",
   "execution_count": 10,
   "metadata": {},
   "outputs": [],
   "source": [
    "model = ResNet(fcl_layers, \n",
    "               dr = dropout, \n",
    "               output_size = output_size, \n",
    "               resnet_model = resnet_model, \n",
    "               pretrained = pretrained).to(device)"
   ]
  },
  {
   "cell_type": "code",
   "execution_count": 11,
   "metadata": {},
   "outputs": [],
   "source": [
    "total_params = sum(p.numel() for p in model.parameters())\n",
    "trainable_params = sum(p.numel() for p in model.parameters() if p.requires_grad)"
   ]
  },
  {
   "cell_type": "code",
   "execution_count": 12,
   "metadata": {},
   "outputs": [
    {
     "data": {
      "text/plain": [
       "11174402"
      ]
     },
     "execution_count": 12,
     "metadata": {},
     "output_type": "execute_result"
    }
   ],
   "source": [
    "trainable_params"
   ]
  },
  {
   "cell_type": "code",
   "execution_count": 13,
   "metadata": {},
   "outputs": [],
   "source": [
    "optimizer = torch.optim.Adam(\n",
    "    model.parameters(), \n",
    "    lr=learning_rate, \n",
    "    weight_decay=weight_decay\n",
    ")"
   ]
  },
  {
   "cell_type": "code",
   "execution_count": 14,
   "metadata": {},
   "outputs": [],
   "source": [
    "train_criterion = torch.nn.CrossEntropyLoss()\n",
    "test_criterion = torch.nn.CrossEntropyLoss() "
   ]
  },
  {
   "cell_type": "code",
   "execution_count": 15,
   "metadata": {},
   "outputs": [],
   "source": [
    "lr_scheduler = ReduceLROnPlateau(\n",
    "    optimizer, \n",
    "    patience = 1, \n",
    "    min_lr = 1.0e-10,\n",
    "    verbose = True\n",
    ")"
   ]
  },
  {
   "cell_type": "code",
   "execution_count": 16,
   "metadata": {},
   "outputs": [
    {
     "name": "stderr",
     "output_type": "stream",
     "text": [
      "  0%|          | 0/200 [00:03<?, ?it/s]\n"
     ]
    },
    {
     "ename": "KeyboardInterrupt",
     "evalue": "",
     "output_type": "error",
     "traceback": [
      "\u001b[0;31m---------------------------------------------------------------------------\u001b[0m",
      "\u001b[0;31mKeyboardInterrupt\u001b[0m                         Traceback (most recent call last)",
      "\u001b[0;32m<ipython-input-16-fc93d2486d50>\u001b[0m in \u001b[0;36m<module>\u001b[0;34m\u001b[0m\n\u001b[1;32m     38\u001b[0m \u001b[0;34m\u001b[0m\u001b[0m\n\u001b[1;32m     39\u001b[0m         \u001b[0;31m# get gradients w.r.t to parameters\u001b[0m\u001b[0;34m\u001b[0m\u001b[0;34m\u001b[0m\u001b[0;34m\u001b[0m\u001b[0m\n\u001b[0;32m---> 40\u001b[0;31m         \u001b[0mloss\u001b[0m\u001b[0;34m.\u001b[0m\u001b[0mbackward\u001b[0m\u001b[0;34m(\u001b[0m\u001b[0;34m)\u001b[0m\u001b[0;34m\u001b[0m\u001b[0;34m\u001b[0m\u001b[0m\n\u001b[0m\u001b[1;32m     41\u001b[0m         \u001b[0mbatch_loss\u001b[0m\u001b[0;34m.\u001b[0m\u001b[0mappend\u001b[0m\u001b[0;34m(\u001b[0m\u001b[0mloss\u001b[0m\u001b[0;34m.\u001b[0m\u001b[0mitem\u001b[0m\u001b[0;34m(\u001b[0m\u001b[0;34m)\u001b[0m\u001b[0;34m)\u001b[0m\u001b[0;34m\u001b[0m\u001b[0;34m\u001b[0m\u001b[0m\n\u001b[1;32m     42\u001b[0m \u001b[0;34m\u001b[0m\u001b[0m\n",
      "\u001b[0;32m/glade/work/schreck/py37/lib/python3.7/site-packages/torch/_tensor.py\u001b[0m in \u001b[0;36mbackward\u001b[0;34m(self, gradient, retain_graph, create_graph, inputs)\u001b[0m\n\u001b[1;32m    253\u001b[0m                 \u001b[0mcreate_graph\u001b[0m\u001b[0;34m=\u001b[0m\u001b[0mcreate_graph\u001b[0m\u001b[0;34m,\u001b[0m\u001b[0;34m\u001b[0m\u001b[0;34m\u001b[0m\u001b[0m\n\u001b[1;32m    254\u001b[0m                 inputs=inputs)\n\u001b[0;32m--> 255\u001b[0;31m         \u001b[0mtorch\u001b[0m\u001b[0;34m.\u001b[0m\u001b[0mautograd\u001b[0m\u001b[0;34m.\u001b[0m\u001b[0mbackward\u001b[0m\u001b[0;34m(\u001b[0m\u001b[0mself\u001b[0m\u001b[0;34m,\u001b[0m \u001b[0mgradient\u001b[0m\u001b[0;34m,\u001b[0m \u001b[0mretain_graph\u001b[0m\u001b[0;34m,\u001b[0m \u001b[0mcreate_graph\u001b[0m\u001b[0;34m,\u001b[0m \u001b[0minputs\u001b[0m\u001b[0;34m=\u001b[0m\u001b[0minputs\u001b[0m\u001b[0;34m)\u001b[0m\u001b[0;34m\u001b[0m\u001b[0;34m\u001b[0m\u001b[0m\n\u001b[0m\u001b[1;32m    256\u001b[0m \u001b[0;34m\u001b[0m\u001b[0m\n\u001b[1;32m    257\u001b[0m     \u001b[0;32mdef\u001b[0m \u001b[0mregister_hook\u001b[0m\u001b[0;34m(\u001b[0m\u001b[0mself\u001b[0m\u001b[0;34m,\u001b[0m \u001b[0mhook\u001b[0m\u001b[0;34m)\u001b[0m\u001b[0;34m:\u001b[0m\u001b[0;34m\u001b[0m\u001b[0;34m\u001b[0m\u001b[0m\n",
      "\u001b[0;32m/glade/work/schreck/py37/lib/python3.7/site-packages/torch/autograd/__init__.py\u001b[0m in \u001b[0;36mbackward\u001b[0;34m(tensors, grad_tensors, retain_graph, create_graph, grad_variables, inputs)\u001b[0m\n\u001b[1;32m    147\u001b[0m     Variable._execution_engine.run_backward(\n\u001b[1;32m    148\u001b[0m         \u001b[0mtensors\u001b[0m\u001b[0;34m,\u001b[0m \u001b[0mgrad_tensors_\u001b[0m\u001b[0;34m,\u001b[0m \u001b[0mretain_graph\u001b[0m\u001b[0;34m,\u001b[0m \u001b[0mcreate_graph\u001b[0m\u001b[0;34m,\u001b[0m \u001b[0minputs\u001b[0m\u001b[0;34m,\u001b[0m\u001b[0;34m\u001b[0m\u001b[0;34m\u001b[0m\u001b[0m\n\u001b[0;32m--> 149\u001b[0;31m         allow_unreachable=True, accumulate_grad=True)  # allow_unreachable flag\n\u001b[0m\u001b[1;32m    150\u001b[0m \u001b[0;34m\u001b[0m\u001b[0m\n\u001b[1;32m    151\u001b[0m \u001b[0;34m\u001b[0m\u001b[0m\n",
      "\u001b[0;31mKeyboardInterrupt\u001b[0m: "
     ]
    }
   ],
   "source": [
    "epoch_test_losses = []\n",
    "results_dict = defaultdict(list)\n",
    "\n",
    "\n",
    "for epoch in range(epochs):\n",
    "\n",
    "    ### Train the model \n",
    "    model.train()\n",
    "\n",
    "    batch_loss = []\n",
    "    accuracy = [] \n",
    "        \n",
    "    # set up a custom tqdm\n",
    "    batch_group_generator = tqdm(\n",
    "        enumerate(train_loader), \n",
    "        total=batches_per_epoch,\n",
    "        leave=True\n",
    "    )\n",
    " \n",
    "    for k, (inputs, y) in batch_group_generator:\n",
    "        \n",
    "        # Move data to the GPU, if not there already\n",
    "        inputs = inputs.to(device).float()\n",
    "        y = y.to(device).long()\n",
    "        \n",
    "        # Clear gradient\n",
    "        optimizer.zero_grad()\n",
    "\n",
    "        # get output from the model, given the inputs\n",
    "        pred_z_logits = model(inputs)\n",
    "\n",
    "        # get loss for the predicted output\n",
    "        loss = train_criterion(pred_z_logits, y.squeeze(-1))\n",
    "        \n",
    "        # compute the top-1 accuracy\n",
    "        pred_z_labels = torch.argmax(pred_z_logits, 1)\n",
    "        accuracy += list((pred_z_labels == y.squeeze(1)).float().detach().cpu().numpy())\n",
    "        \n",
    "        # get gradients w.r.t to parameters\n",
    "        loss.backward()\n",
    "        batch_loss.append(loss.item())\n",
    "\n",
    "        # update parameters\n",
    "        optimizer.step()\n",
    "\n",
    "        # update tqdm\n",
    "        to_print = \"Epoch {} train_loss: {:.4f}\".format(epoch, np.mean(batch_loss))\n",
    "        to_print += \" train_acc: {:.4f}\".format(np.mean(accuracy))\n",
    "        to_print += \" lr: {:.12f}\".format(optimizer.param_groups[0]['lr'])\n",
    "        batch_group_generator.set_description(to_print)\n",
    "        batch_group_generator.update()\n",
    "                     \n",
    "        # stop the training epoch when train_batches_per_epoch have been used to update \n",
    "        # the weights to the model\n",
    "        if k >= batches_per_epoch and k > 0:\n",
    "            break\n",
    "            \n",
    "        #lr_scheduler.step(epoch + k / batches_per_epoch)\n",
    "        \n",
    "    # Compuate final performance metrics before doing validation\n",
    "    train_loss = np.mean(batch_loss)\n",
    "    train_acc = np.mean(accuracy)\n",
    "        \n",
    "    # clear the cached memory from the gpu\n",
    "    if torch.cuda.is_available():\n",
    "        torch.cuda.empty_cache()\n",
    "\n",
    "    ### Test the model \n",
    "    model.eval()\n",
    "    with torch.no_grad():\n",
    "\n",
    "        batch_loss = []\n",
    "        accuracy = []\n",
    "        \n",
    "        # set up a custom tqdm\n",
    "        batch_group_generator = tqdm(\n",
    "            enumerate(test_loader),\n",
    "            leave=True\n",
    "        )\n",
    "\n",
    "        for k, (inputs, y) in batch_group_generator:\n",
    "            # Move data to the GPU, if not there already\n",
    "            inputs = inputs.to(device).float()\n",
    "            y = y.to(device).long()\n",
    "            # get output from the model, given the inputs\n",
    "            pred_z_logits = model(inputs)\n",
    "            # get loss for the predicted output\n",
    "            loss = test_criterion(pred_z_logits, y.squeeze(-1))\n",
    "            batch_loss.append(loss.item())\n",
    "            # compute the accuracy\n",
    "            pred_z_labels = torch.argmax(pred_z_logits, 1)\n",
    "            accuracy += list((pred_z_labels == y.squeeze(1)).float().detach().cpu().numpy())\n",
    "            # update tqdm\n",
    "            to_print = \"Epoch {} test_loss: {:.4f}\".format(epoch, np.mean(batch_loss))\n",
    "            to_print += \" test_acc: {:.4f}\".format(np.mean(accuracy))\n",
    "            batch_group_generator.set_description(to_print)\n",
    "            batch_group_generator.update()\n",
    "\n",
    "    # Use the accuracy as the performance metric to toggle learning rate and early stopping\n",
    "    test_loss = 1 - np.mean(accuracy)\n",
    "    epoch_test_losses.append(test_loss)\n",
    "    \n",
    "    # Lower the learning rate if we are not improving\n",
    "    lr_scheduler.step(test_loss)\n",
    "\n",
    "    # Save the model if its the best so far.\n",
    "    if test_loss == min(epoch_test_losses):\n",
    "        state_dict = {\n",
    "            'epoch': epoch,\n",
    "            'model_state_dict': model.state_dict(),\n",
    "            'optimizer_state_dict': optimizer.state_dict(),\n",
    "            'loss': test_loss\n",
    "        }\n",
    "        torch.save(state_dict, f\"{model_loc}/best.pt\")\n",
    "        \n",
    "    # Get the last learning rate\n",
    "    learning_rate = optimizer.param_groups[0]['lr']\n",
    "        \n",
    "    # Put things into a results dictionary -> dataframe\n",
    "    results_dict['epoch'].append(epoch)\n",
    "    results_dict['train_loss'].append(train_loss)\n",
    "    results_dict['valid_loss'].append(np.mean(batch_loss))\n",
    "    results_dict['train_accuracy'].append(train_acc)\n",
    "    results_dict['valid_accuracy'].append(np.mean(accuracy))\n",
    "    results_dict[\"learning_rate\"].append(learning_rate)\n",
    "    df = pd.DataFrame.from_dict(results_dict).reset_index()\n",
    "\n",
    "    # Save the dataframe to disk\n",
    "    df.to_csv(f\"{model_loc}/training_log.csv\", index = False)\n",
    "        \n",
    "    # Stop training if we have not improved after X epochs\n",
    "    best_epoch = [i for i,j in enumerate(epoch_test_losses) if j == min(epoch_test_losses)][0]\n",
    "    offset = epoch - best_epoch\n",
    "    if offset >= stopping_patience:\n",
    "        break\n",
    "        \n",
    "    if results_dict['valid_accuracy'][-1] == 1.0:\n",
    "        break"
   ]
  },
  {
   "cell_type": "markdown",
   "metadata": {},
   "source": [
    "### Load the best model"
   ]
  },
  {
   "cell_type": "code",
   "execution_count": 57,
   "metadata": {},
   "outputs": [],
   "source": [
    "with open(\"models/resnet18_double_duplicate/holo_data.yml\") as cf:\n",
    "    conf = yaml.load(cf, Loader=yaml.FullLoader)"
   ]
  },
  {
   "cell_type": "code",
   "execution_count": 58,
   "metadata": {},
   "outputs": [],
   "source": [
    "tile_size = conf[\"data\"][\"tile_size\"]\n",
    "step_size = conf[\"data\"][\"step_size\"]\n",
    "data_path = conf[\"data\"][\"output_path\"]\n",
    "\n",
    "fn_train = f\"{data_path}/training_{tile_size}_{step_size}.pkl\"\n",
    "fn_valid = f\"{data_path}/validation_{tile_size}_{step_size}.pkl\"\n",
    "\n",
    "epochs = conf[\"trainer\"][\"epochs\"]\n",
    "train_batch_size = conf[\"trainer\"][\"train_batch_size\"]\n",
    "valid_batch_size = conf[\"trainer\"][\"valid_batch_size\"]\n",
    "batches_per_epoch = conf[\"trainer\"][\"batches_per_epoch\"]\n",
    "stopping_patience = conf[\"trainer\"][\"stopping_patience\"]\n",
    "model_loc = conf[\"trainer\"][\"output_path\"]\n",
    "\n",
    "fcl_layers = conf[\"resnet\"][\"fcl_layers\"]\n",
    "dropout = conf[\"resnet\"][\"dropout\"]\n",
    "output_size = conf[\"resnet\"][\"output_size\"]\n",
    "resnet_model = conf[\"resnet\"][\"resnet_model\"]\n",
    "pretrained = conf[\"resnet\"][\"pretrained\"]\n",
    "\n",
    "learning_rate = conf[\"optimizer\"][\"learning_rate\"]\n",
    "weight_decay = conf[\"optimizer\"][\"weight_decay\"]"
   ]
  },
  {
   "cell_type": "code",
   "execution_count": 59,
   "metadata": {},
   "outputs": [
    {
     "data": {
      "image/png": "[encoded data removed]",
      "text/plain": [
       "<Figure size 432x288 with 1 Axes>"
      ]
     },
     "metadata": {
      "needs_background": "light"
     },
     "output_type": "display_data"
    }
   ],
   "source": [
    "f = pd.read_csv(f\"{model_loc}/training_log.csv\")\n",
    "plt.plot(f[\"epoch\"], f[\"train_accuracy\"], c = 'k')\n",
    "plt.plot(f[\"epoch\"], f[\"valid_accuracy\"], c = 'r')\n",
    "\n",
    "plt.xlabel(\"Epochs\")\n",
    "plt.ylabel(\"Accuracy\")\n",
    "plt.legend([\"Training\", \"Validation\"], loc = \"best\")\n",
    "\n",
    "plt.tight_layout()"
   ]
  },
  {
   "cell_type": "code",
   "execution_count": 60,
   "metadata": {},
   "outputs": [
    {
     "data": {
      "text/plain": [
       "ResNet(\n",
       "  (resnet): Sequential(\n",
       "    (0): Conv2d(2, 64, kernel_size=(7, 7), stride=(2, 2), padding=(3, 3), bias=False)\n",
       "    (1): BatchNorm2d(64, eps=1e-05, momentum=0.1, affine=True, track_running_stats=True)\n",
       "    (2): ReLU(inplace=True)\n",
       "    (3): MaxPool2d(kernel_size=3, stride=2, padding=1, dilation=1, ceil_mode=False)\n",
       "    (4): Sequential(\n",
       "      (0): BasicBlock(\n",
       "        (conv1): Conv2d(64, 64, kernel_size=(3, 3), stride=(1, 1), padding=(1, 1), bias=False)\n",
       "        (bn1): BatchNorm2d(64, eps=1e-05, momentum=0.1, affine=True, track_running_stats=True)\n",
       "        (relu): ReLU(inplace=True)\n",
       "        (conv2): Conv2d(64, 64, kernel_size=(3, 3), stride=(1, 1), padding=(1, 1), bias=False)\n",
       "        (bn2): BatchNorm2d(64, eps=1e-05, momentum=0.1, affine=True, track_running_stats=True)\n",
       "      )\n",
       "      (1): BasicBlock(\n",
       "        (conv1): Conv2d(64, 64, kernel_size=(3, 3), stride=(1, 1), padding=(1, 1), bias=False)\n",
       "        (bn1): BatchNorm2d(64, eps=1e-05, momentum=0.1, affine=True, track_running_stats=True)\n",
       "        (relu): ReLU(inplace=True)\n",
       "        (conv2): Conv2d(64, 64, kernel_size=(3, 3), stride=(1, 1), padding=(1, 1), bias=False)\n",
       "        (bn2): BatchNorm2d(64, eps=1e-05, momentum=0.1, affine=True, track_running_stats=True)\n",
       "      )\n",
       "    )\n",
       "    (5): Sequential(\n",
       "      (0): BasicBlock(\n",
       "        (conv1): Conv2d(64, 128, kernel_size=(3, 3), stride=(2, 2), padding=(1, 1), bias=False)\n",
       "        (bn1): BatchNorm2d(128, eps=1e-05, momentum=0.1, affine=True, track_running_stats=True)\n",
       "        (relu): ReLU(inplace=True)\n",
       "        (conv2): Conv2d(128, 128, kernel_size=(3, 3), stride=(1, 1), padding=(1, 1), bias=False)\n",
       "        (bn2): BatchNorm2d(128, eps=1e-05, momentum=0.1, affine=True, track_running_stats=True)\n",
       "        (downsample): Sequential(\n",
       "          (0): Conv2d(64, 128, kernel_size=(1, 1), stride=(2, 2), bias=False)\n",
       "          (1): BatchNorm2d(128, eps=1e-05, momentum=0.1, affine=True, track_running_stats=True)\n",
       "        )\n",
       "      )\n",
       "      (1): BasicBlock(\n",
       "        (conv1): Conv2d(128, 128, kernel_size=(3, 3), stride=(1, 1), padding=(1, 1), bias=False)\n",
       "        (bn1): BatchNorm2d(128, eps=1e-05, momentum=0.1, affine=True, track_running_stats=True)\n",
       "        (relu): ReLU(inplace=True)\n",
       "        (conv2): Conv2d(128, 128, kernel_size=(3, 3), stride=(1, 1), padding=(1, 1), bias=False)\n",
       "        (bn2): BatchNorm2d(128, eps=1e-05, momentum=0.1, affine=True, track_running_stats=True)\n",
       "      )\n",
       "    )\n",
       "    (6): Sequential(\n",
       "      (0): BasicBlock(\n",
       "        (conv1): Conv2d(128, 256, kernel_size=(3, 3), stride=(2, 2), padding=(1, 1), bias=False)\n",
       "        (bn1): BatchNorm2d(256, eps=1e-05, momentum=0.1, affine=True, track_running_stats=True)\n",
       "        (relu): ReLU(inplace=True)\n",
       "        (conv2): Conv2d(256, 256, kernel_size=(3, 3), stride=(1, 1), padding=(1, 1), bias=False)\n",
       "        (bn2): BatchNorm2d(256, eps=1e-05, momentum=0.1, affine=True, track_running_stats=True)\n",
       "        (downsample): Sequential(\n",
       "          (0): Conv2d(128, 256, kernel_size=(1, 1), stride=(2, 2), bias=False)\n",
       "          (1): BatchNorm2d(256, eps=1e-05, momentum=0.1, affine=True, track_running_stats=True)\n",
       "        )\n",
       "      )\n",
       "      (1): BasicBlock(\n",
       "        (conv1): Conv2d(256, 256, kernel_size=(3, 3), stride=(1, 1), padding=(1, 1), bias=False)\n",
       "        (bn1): BatchNorm2d(256, eps=1e-05, momentum=0.1, affine=True, track_running_stats=True)\n",
       "        (relu): ReLU(inplace=True)\n",
       "        (conv2): Conv2d(256, 256, kernel_size=(3, 3), stride=(1, 1), padding=(1, 1), bias=False)\n",
       "        (bn2): BatchNorm2d(256, eps=1e-05, momentum=0.1, affine=True, track_running_stats=True)\n",
       "      )\n",
       "    )\n",
       "    (7): Sequential(\n",
       "      (0): BasicBlock(\n",
       "        (conv1): Conv2d(256, 512, kernel_size=(3, 3), stride=(2, 2), padding=(1, 1), bias=False)\n",
       "        (bn1): BatchNorm2d(512, eps=1e-05, momentum=0.1, affine=True, track_running_stats=True)\n",
       "        (relu): ReLU(inplace=True)\n",
       "        (conv2): Conv2d(512, 512, kernel_size=(3, 3), stride=(1, 1), padding=(1, 1), bias=False)\n",
       "        (bn2): BatchNorm2d(512, eps=1e-05, momentum=0.1, affine=True, track_running_stats=True)\n",
       "        (downsample): Sequential(\n",
       "          (0): Conv2d(256, 512, kernel_size=(1, 1), stride=(2, 2), bias=False)\n",
       "          (1): BatchNorm2d(512, eps=1e-05, momentum=0.1, affine=True, track_running_stats=True)\n",
       "        )\n",
       "      )\n",
       "      (1): BasicBlock(\n",
       "        (conv1): Conv2d(512, 512, kernel_size=(3, 3), stride=(1, 1), padding=(1, 1), bias=False)\n",
       "        (bn1): BatchNorm2d(512, eps=1e-05, momentum=0.1, affine=True, track_running_stats=True)\n",
       "        (relu): ReLU(inplace=True)\n",
       "        (conv2): Conv2d(512, 512, kernel_size=(3, 3), stride=(1, 1), padding=(1, 1), bias=False)\n",
       "        (bn2): BatchNorm2d(512, eps=1e-05, momentum=0.1, affine=True, track_running_stats=True)\n",
       "      )\n",
       "    )\n",
       "    (8): AdaptiveAvgPool2d(output_size=(1, 1))\n",
       "  )\n",
       "  (fcn): Sequential(\n",
       "    (0): Dropout(p=0.2, inplace=False)\n",
       "    (1): Linear(in_features=512, out_features=2, bias=True)\n",
       "    (2): LogSoftmax(dim=1)\n",
       "  )\n",
       ")"
      ]
     },
     "execution_count": 60,
     "metadata": {},
     "output_type": "execute_result"
    }
   ],
   "source": [
    "model = ResNet(fcl_layers, \n",
    "               dr = dropout, \n",
    "               output_size = output_size, \n",
    "               resnet_model=resnet_model, \n",
    "               pretrained = pretrained).to(device)\n",
    "\n",
    "checkpoint = torch.load(\n",
    "    f\"{model_loc}/best.pt\",\n",
    "    map_location=lambda storage, loc: storage\n",
    ")\n",
    "model.load_state_dict(checkpoint[\"model_state_dict\"])\n",
    "\n",
    "model.eval()"
   ]
  },
  {
   "cell_type": "markdown",
   "metadata": {},
   "source": [
    "### Predict on the validation data set"
   ]
  },
  {
   "cell_type": "code",
   "execution_count": 61,
   "metadata": {},
   "outputs": [
    {
     "name": "stderr",
     "output_type": "stream",
     "text": [
      "Epoch 10 test_loss: 0.0623 test_acc: 0.9846: : 40it [00:28,  1.40it/s]\n"
     ]
    }
   ],
   "source": [
    "valid_batch_size = 128\n",
    "buffer_size = valid_batch_size\n",
    "\n",
    "batch_loss = []\n",
    "accuracy = []\n",
    "\n",
    "truths = []\n",
    "preds = []\n",
    "probs = []\n",
    "\n",
    "epoch = checkpoint[\"epoch\"]\n",
    "\n",
    "# set up a custom tqdm\n",
    "batch_group_generator = tqdm(\n",
    "    enumerate(test_loader),\n",
    "    leave=True\n",
    ")\n",
    "\n",
    "test_criterion = torch.nn.CrossEntropyLoss() \n",
    "\n",
    "with torch.no_grad():\n",
    "    for k, (inputs, y) in batch_group_generator:\n",
    "        # get output from the model, given the inputs\n",
    "        inputs = inputs.to(device)\n",
    "        y = y.to(device)\n",
    "        pred_z_logits = model(inputs)\n",
    "        # get loss for the predicted output\n",
    "        loss = test_criterion(pred_z_logits, y.squeeze(-1))\n",
    "        batch_loss.append(loss.item())\n",
    "        # compute the accuracy\n",
    "        pred_z_labels = torch.argmax(pred_z_logits, 1)\n",
    "        accuracy += list((pred_z_labels == y.squeeze(1)).float().detach().cpu().numpy())\n",
    "\n",
    "        truths.append(y.squeeze(1).float().detach().cpu().numpy())\n",
    "        preds.append(pred_z_labels.float().detach().cpu().numpy())\n",
    "\n",
    "        pred_prob = np.max(pred_z_logits.exp().detach().cpu().numpy(), 1)\n",
    "        probs.append(pred_prob)\n",
    "\n",
    "        # update tqdm\n",
    "        to_print = \"Epoch {} test_loss: {:.4f}\".format(epoch, np.mean(batch_loss))\n",
    "        to_print += \" test_acc: {:.4f}\".format(np.mean(accuracy))\n",
    "        batch_group_generator.set_description(to_print)\n",
    "        batch_group_generator.update()\n",
    "    \n",
    "truths = np.hstack(truths)\n",
    "preds = np.hstack(preds)\n",
    "probs = np.hstack(probs)"
   ]
  },
  {
   "cell_type": "markdown",
   "metadata": {},
   "source": [
    "### Compute the confusion matrix"
   ]
  },
  {
   "cell_type": "code",
   "execution_count": 62,
   "metadata": {},
   "outputs": [],
   "source": [
    "from sklearn.metrics import confusion_matrix\n",
    "import seaborn as sn"
   ]
  },
  {
   "cell_type": "code",
   "execution_count": 63,
   "metadata": {},
   "outputs": [],
   "source": [
    "cm = confusion_matrix(truths, preds, normalize = 'true')\n",
    "tn, fp, fn, tp = cm.ravel()"
   ]
  },
  {
   "cell_type": "code",
   "execution_count": 64,
   "metadata": {},
   "outputs": [],
   "source": [
    "df_cm = pd.DataFrame(cm, index = sorted(list(set(preds))), columns = sorted(list(set(preds))))"
   ]
  },
  {
   "cell_type": "code",
   "execution_count": 65,
   "metadata": {},
   "outputs": [
    {
     "data": {
      "text/html": [
       "<div>\n",
       "<style scoped>\n",
       "    .dataframe tbody tr th:only-of-type {\n",
       "        vertical-align: middle;\n",
       "    }\n",
       "\n",
       "    .dataframe tbody tr th {\n",
       "        vertical-align: top;\n",
       "    }\n",
       "\n",
       "    .dataframe thead th {\n",
       "        text-align: right;\n",
       "    }\n",
       "</style>\n",
       "<table border=\"1\" class=\"dataframe\">\n",
       "  <thead>\n",
       "    <tr style=\"text-align: right;\">\n",
       "      <th></th>\n",
       "      <th>0.0</th>\n",
       "      <th>1.0</th>\n",
       "    </tr>\n",
       "  </thead>\n",
       "  <tbody>\n",
       "    <tr>\n",
       "      <th>0.0</th>\n",
       "      <td>0.9796</td>\n",
       "      <td>0.0204</td>\n",
       "    </tr>\n",
       "    <tr>\n",
       "      <th>1.0</th>\n",
       "      <td>0.0104</td>\n",
       "      <td>0.9896</td>\n",
       "    </tr>\n",
       "  </tbody>\n",
       "</table>\n",
       "</div>"
      ],
      "text/plain": [
       "        0.0     1.0\n",
       "0.0  0.9796  0.0204\n",
       "1.0  0.0104  0.9896"
      ]
     },
     "execution_count": 65,
     "metadata": {},
     "output_type": "execute_result"
    }
   ],
   "source": [
    "df_cm"
   ]
  },
  {
   "cell_type": "code",
   "execution_count": 66,
   "metadata": {},
   "outputs": [
    {
     "data": {
      "image/png": "[encoded data removed]",
      "text/plain": [
       "<Figure size 360x252 with 2 Axes>"
      ]
     },
     "metadata": {
      "needs_background": "light"
     },
     "output_type": "display_data"
    }
   ],
   "source": [
    "plt.figure(figsize = (5,3.5))\n",
    "sn.heatmap(df_cm, annot=cm, vmin = 0, vmax = 1)\n",
    "plt.xlabel(\"Predicted particle\", fontsize = 12)\n",
    "plt.ylabel(\"True particle\", fontsize = 12)\n",
    "\n",
    "plt.tight_layout()\n",
    "\n",
    "plt.savefig(f'{model_loc}/confusion_matrix.pdf', dpi = 300)"
   ]
  },
  {
   "cell_type": "markdown",
   "metadata": {},
   "source": [
    "### Compute a confidence threshold on label 1 predictions"
   ]
  },
  {
   "cell_type": "code",
   "execution_count": 44,
   "metadata": {},
   "outputs": [],
   "source": [
    "df = defaultdict(list)\n",
    "\n",
    "for yt, yp, ypp in zip(truths, preds, probs):\n",
    "    df[\"y_true\"].append(yt)\n",
    "    df[\"y_pred\"].append(yp)\n",
    "    df[\"y_conf\"].append(ypp)\n",
    "    df[\"acc\"].append(int(yt==yp))\n",
    "    \n",
    "df = pd.DataFrame.from_dict(df)"
   ]
  },
  {
   "cell_type": "code",
   "execution_count": 51,
   "metadata": {},
   "outputs": [],
   "source": [
    "ACCURACY = 0.995\n",
    "\n",
    "c = (df[\"y_true\"] >= 1)\n",
    "df = df[c].copy()\n",
    "\n",
    "# sort df by prediction probability, greatest to least\n",
    "df = df.sort_values(f\"y_conf\", ascending=False)\n",
    "\n",
    "# compute the cumulative accuracy \n",
    "df[\"dummy\"] = 1\n",
    "df[\"correct\"] = df[\"y_true\"] == df[\"y_pred\"]\n",
    "df[\"accuracy\"] = df[\"correct\"].cumsum() / df[\"dummy\"].cumsum()\n",
    "df[\"coverage\"] = df[\"dummy\"].cumsum() / len(df)\n",
    "\n",
    "thresh = df[df.accuracy>=ACCURACY]\n",
    "conf = thresh[f\"y_conf\"].min()\n",
    "cv = thresh[\"coverage\"].max()"
   ]
  },
  {
   "cell_type": "code",
   "execution_count": 52,
   "metadata": {},
   "outputs": [
    {
     "data": {
      "text/plain": [
       "Text(0, 0.5, 'Accuracy')"
      ]
     },
     "execution_count": 52,
     "metadata": {},
     "output_type": "execute_result"
    },
    {
     "data": {
      "image/png": "[encoded data removed]",
      "text/plain": [
       "<Figure size 432x288 with 1 Axes>"
      ]
     },
     "metadata": {
      "needs_background": "light"
     },
     "output_type": "display_data"
    }
   ],
   "source": [
    "plt.plot(df.coverage.values, df.accuracy.values)\n",
    "plt.xlabel(\"Coverage\")\n",
    "plt.ylabel(\"Accuracy\")"
   ]
  },
  {
   "cell_type": "code",
   "execution_count": 53,
   "metadata": {},
   "outputs": [
    {
     "data": {
      "text/plain": [
       "0.985430121421814"
      ]
     },
     "execution_count": 53,
     "metadata": {},
     "output_type": "execute_result"
    }
   ],
   "source": [
    "conf"
   ]
  },
  {
   "cell_type": "markdown",
   "metadata": {},
   "source": [
    "### Performance diagram"
   ]
  },
  {
   "cell_type": "code",
   "execution_count": 54,
   "metadata": {},
   "outputs": [],
   "source": [
    "from hagelslag.evaluation.ProbabilityMetrics import *\n",
    "from hagelslag.evaluation.MetricPlotter import *"
   ]
  },
  {
   "cell_type": "code",
   "execution_count": 55,
   "metadata": {},
   "outputs": [],
   "source": [
    "obs_threshold = 1.0\n",
    "thresholds = 1.0 - np.logspace(-5, 0, num=100, endpoint=True, base=10.0, dtype=None, axis=0)\n",
    "thresholds = thresholds[::-1]"
   ]
  },
  {
   "cell_type": "code",
   "execution_count": 56,
   "metadata": {},
   "outputs": [],
   "source": [
    "#thresholds = np.array([0.1, 0.2, 0.3, 0.4, 0.5, 0.6, 0.7, 0.8, 0.9, 0.91, 0.92, 0.93, 0.94, 0.95, 0.96, 0.97, 0.98, 0.99, 1.0])\n",
    "\n",
    "roc = DistributedROC(thresholds=thresholds, obs_threshold=1.0)\n",
    "\n",
    "roc.update(probs.ravel(), truths.ravel())"
   ]
  },
  {
   "cell_type": "code",
   "execution_count": 57,
   "metadata": {},
   "outputs": [
    {
     "data": {
      "text/plain": [
       "(0.9966483973490612, 0.5586034912718204)"
      ]
     },
     "execution_count": 57,
     "metadata": {},
     "output_type": "execute_result"
    }
   ],
   "source": [
    "roc.max_threshold_score()"
   ]
  },
  {
   "cell_type": "code",
   "execution_count": 58,
   "metadata": {},
   "outputs": [
    {
     "data": {
      "text/plain": [
       "0.7210401891252955"
      ]
     },
     "execution_count": 58,
     "metadata": {},
     "output_type": "execute_result"
    }
   ],
   "source": [
    "roc.max_csi()"
   ]
  },
  {
   "cell_type": "code",
   "execution_count": 60,
   "metadata": {},
   "outputs": [],
   "source": [
    "roc_curve([roc], [\"ResNet-18\"], [\"orange\"], [\"o\"], f\"{model_loc}/roc_training.png\")"
   ]
  },
  {
   "cell_type": "code",
   "execution_count": 61,
   "metadata": {},
   "outputs": [],
   "source": [
    "performance_diagram([roc], [\"ResNet-18\"], [\"orange\"], [\"o\"], f\"{model_loc}/performance_training.png\")"
   ]
  },
  {
   "cell_type": "code",
   "execution_count": 62,
   "metadata": {},
   "outputs": [],
   "source": [
    "with open(f\"{model_loc}/roc_training.pkl\", \"wb\") as fid:\n",
    "    joblib.dump(roc, fid)"
   ]
  }
 ],
 "metadata": {
  "kernelspec": {
   "display_name": "py37",
   "language": "python",
   "name": "py37"
  },
  "language_info": {
   "codemirror_mode": {
    "name": "ipython",
    "version": 3
   },
   "file_extension": ".py",
   "mimetype": "text/x-python",
   "name": "python",
   "nbconvert_exporter": "python",
   "pygments_lexer": "ipython3",
   "version": "3.7.5"
  }
 },
 "nbformat": 4,
 "nbformat_minor": 5
}
