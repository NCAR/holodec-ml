{
 "cells": [
  {
   "cell_type": "code",
   "execution_count": 185,
   "metadata": {},
   "outputs": [],
   "source": [
    "from hagelslag.evaluation.MetricPlotter import roc_curve, performance_diagram\n",
    "from holodecml.models import load_model\n",
    "from functools import partial\n",
    "from argparse import ArgumentParser\n",
    "import torch.multiprocessing as mp\n",
    "import matplotlib.pyplot as plt\n",
    "import numpy as np\n",
    "import subprocess\n",
    "import traceback\n",
    "import logging\n",
    "import signal\n",
    "import joblib\n",
    "import scipy\n",
    "import sys\n",
    "import yaml\n",
    "import time\n",
    "import tqdm\n",
    "import glob\n",
    "import gc\n",
    "import os\n",
    "import torch\n",
    "import warnings\n",
    "warnings.filterwarnings(\"ignore\")\n",
    "import pandas as pd\n",
    "\n",
    "import torch\n",
    "import torch.fft\n",
    "import torch.nn.functional as F\n",
    "import torchvision.models as models\n",
    "\n",
    "if torch.cuda.is_available():\n",
    "    torch.backends.cudnn.enabled = True\n",
    "    torch.backends.cudnn.benchmark = True\n",
    "    torch.backends.cudnn.deterministic = True\n",
    "\n",
    "from holodecml.metrics import DistributedROC\n",
    "from holodecml.transforms import LoadTransformations\n",
    "from holodecml.propagation import InferencePropagator\n",
    "from holodecml.data import save_sparse_csr, load_sparse_csr \n",
    "\n",
    "import matplotlib\n",
    "import matplotlib.pyplot as plt\n",
    "from scipy.signal import convolve2d"
   ]
  },
  {
   "cell_type": "code",
   "execution_count": 2,
   "metadata": {},
   "outputs": [],
   "source": [
    "def pad(a, padding = 512, fx = False, fy = False):\n",
    "    \"\"\"Return bottom right padding.\"\"\"\n",
    "    zeros = np.zeros((padding, padding))\n",
    "    if not fx and not fy:\n",
    "        zeros[:a.shape[0], :a.shape[1]] = a\n",
    "    if fx and not fy:\n",
    "        zeros[-a.shape[0]:, :a.shape[1]] = a\n",
    "    if fy and not fx:\n",
    "        zeros[:a.shape[0], -a.shape[1]:] = a\n",
    "    else:\n",
    "        zeros[-a.shape[0]:, -a.shape[1]:] = a\n",
    "    return zeros"
   ]
  },
  {
   "cell_type": "code",
   "execution_count": 110,
   "metadata": {},
   "outputs": [],
   "source": [
    "def propagate(prop, image, zp):\n",
    "    real_zp_im = prop.torch_holo_set(\n",
    "        torch.from_numpy(image).to(device),\n",
    "        torch.FloatTensor([zp*1e-6]).to(device)\n",
    "    ).squeeze(0)\n",
    "    prop_real = torch.abs(real_zp_im).cpu().numpy()\n",
    "    return prop_real\n",
    "\n",
    "def get_particle(prop, h_idx, max_coor = 0, repeat = 0, predicted_particles = None):\n",
    "    indices = predicted_particles[\"h\"] == h_idx\n",
    "    predicted_particles = predicted_particles[indices].copy().sort_values(\"z_p\")\n",
    "    predicted_particles[\"x_t\"] = predicted_particles[\"x_t\"] * (2 * 7209 / 4872) - 7209\n",
    "    predicted_particles[\"y_t\"] = predicted_particles[\"y_t\"] * (2 * 4806 / 3248) - 4806\n",
    "    predicted_particles[\"x_p\"] = predicted_particles[\"x_p\"] * (2 * 7209 / 4872) - 7209\n",
    "    predicted_particles[\"y_p\"] = predicted_particles[\"y_p\"] * (2 * 4806 / 3248) - 4806\n",
    "    predicted_particles[\"d_t\"] = 2.96 * predicted_particles[\"d_t\"] \n",
    "    predicted_particles[\"d_p\"] = 2.96 * predicted_particles[\"d_p\"] \n",
    "    \n",
    "    particle_idx = np.where(prop.h_ds['hid'].values == h_idx+1)\n",
    "    c = np.isfinite(predicted_particles[\"x_p\"]) & ~np.isfinite(predicted_particles[\"x_t\"])\n",
    "    \n",
    "    print(\"Total examples that need labeled\", c.sum())\n",
    "\n",
    "    x_locations = predicted_particles[c][\"x_p\"]\n",
    "    y_locations = predicted_particles[c][\"y_p\"]\n",
    "    z_locations = predicted_particles[c][\"z_p\"]\n",
    "    d_locations = predicted_particles[c][\"d_p\"]\n",
    "        \n",
    "#     indices = np.where(prop.h_ds[\"hid\"] == h_idx + 1)\n",
    "#     d_locations = prop.h_ds[\"d\"].values[indices]\n",
    "#     x_locations = prop.h_ds[\"x\"].values[indices]\n",
    "#     y_locations = prop.h_ds[\"y\"].values[indices]\n",
    "#     z_locations = prop.h_ds[\"z\"].values[indices]\n",
    "    xp = np.digitize(x_locations, 1e6 * prop.x_arr, right=True)\n",
    "    yp = np.digitize(y_locations, 1e6 * prop.y_arr, right=True)\n",
    "    zp = z_locations\n",
    "    dp = d_locations\n",
    "    \n",
    "    for (x, y, z, d) in zip(xp, yp, zp, dp):\n",
    "        yield x, y, z, d"
   ]
  },
  {
   "cell_type": "code",
   "execution_count": 85,
   "metadata": {},
   "outputs": [],
   "source": [
    "is_cuda = torch.cuda.is_available()\n",
    "device = torch.device(torch.cuda.current_device()) if is_cuda else torch.device(\"cpu\")\n",
    "\n",
    "if is_cuda:\n",
    "    torch.backends.cudnn.benchmark = True\n",
    "    torch.backends.cudnn.deterministic = True"
   ]
  },
  {
   "cell_type": "code",
   "execution_count": 86,
   "metadata": {},
   "outputs": [],
   "source": [
    "path = \"../../results/style_transfer/\"\n",
    "config = f'{path}/best.yml'\n",
    "\n",
    "with open(config) as cf:\n",
    "    conf = yaml.load(cf, Loader=yaml.FullLoader)"
   ]
  },
  {
   "cell_type": "code",
   "execution_count": null,
   "metadata": {},
   "outputs": [],
   "source": [
    "table = pd.read_csv(f\"{path}/real_1020/prediction_table_0.001.csv\")"
   ]
  },
  {
   "cell_type": "code",
   "execution_count": 87,
   "metadata": {},
   "outputs": [],
   "source": [
    "n_nodes = conf[\"inference\"][\"n_nodes\"]\n",
    "n_gpus = conf[\"inference\"][\"gpus_per_node\"]\n",
    "threads_per_gpu = conf[\"inference\"][\"threads_per_gpu\"]\n",
    "workers = int(n_nodes * n_gpus * threads_per_gpu)\n",
    "this_worker = 0\n",
    "\n",
    "save_arrays = conf[\"inference\"][\"save_arrays\"]\n",
    "\n",
    "n_bins = conf[\"data\"][\"n_bins\"]\n",
    "tile_size = conf[\"data\"][\"tile_size\"]\n",
    "step_size = conf[\"data\"][\"step_size\"]\n",
    "marker_size = conf[\"data\"][\"marker_size\"]\n",
    "transform_mode = \"None\" if \"transform_mode\" not in conf[\n",
    "    \"data\"] else conf[\"data\"][\"transform_mode\"]\n",
    "\n",
    "model_loc = conf[\"save_loc\"]\n",
    "model_name = conf[\"model\"][\"name\"]\n",
    "color_dim = conf[\"model\"][\"in_channels\"]\n",
    "\n",
    "batch_size = conf[\"inference\"][\"batch_size\"]\n",
    "save_arrays = conf[\"inference\"][\"save_arrays\"]\n",
    "save_prob = conf[\"inference\"][\"save_probs\"]\n",
    "inference_mode = conf[\"inference\"][\"mode\"]\n",
    "\n",
    "if \"probability_threshold\" in conf[\"inference\"]:\n",
    "    probability_threshold = conf[\"inference\"][\"probability_threshold\"]\n",
    "else:\n",
    "    probability_threshold = 0.5\n",
    "\n",
    "verbose = conf[\"inference\"][\"verbose\"]\n",
    "data_set = conf[\"inference\"][\"data_set\"][\"path\"]\n",
    "data_set_name = conf[\"inference\"][\"data_set\"][\"name\"]\n",
    "\n",
    "prop_data_loc = os.path.join(model_loc, f\"{data_set_name}/propagated\")\n",
    "roc_data_loc = os.path.join(model_loc, f\"{data_set_name}/roc\")\n",
    "image_data_loc = os.path.join(model_loc, f\"{data_set_name}/images\")\n",
    "\n",
    "for directory in [prop_data_loc, roc_data_loc, image_data_loc]:\n",
    "    if not os.path.exists(directory):\n",
    "        os.makedirs(directory, exist_ok=True)"
   ]
  },
  {
   "cell_type": "code",
   "execution_count": 6,
   "metadata": {},
   "outputs": [
    {
     "name": "stdout",
     "output_type": "stream",
     "text": [
      "Worker 0: Loading and moving model to device cuda:0\n",
      "Worker 0: There are 10483137 total model parameters\n",
      "Worker 0: Loading image transformations\n"
     ]
    }
   ],
   "source": [
    "h_conf = conf[\"inference\"][\"data_set\"][\"holograms\"]\n",
    "if isinstance(h_conf, dict):\n",
    "    h_min = conf[\"inference\"][\"data_set\"][\"holograms\"][\"min\"]\n",
    "    h_max = conf[\"inference\"][\"data_set\"][\"holograms\"][\"max\"]\n",
    "    h_range = range(h_min, h_max)\n",
    "elif isinstance(h_conf, list):\n",
    "    h_range = h_conf\n",
    "elif isinstance(h_conf, int) or isinstance(h_conf, float):\n",
    "    h_range = [h_conf]\n",
    "else:\n",
    "    raise OSError(f\"Unidentified h-range settings {h_conf}\")\n",
    "\n",
    "# Load the model\n",
    "print(\n",
    "    f\"Worker {this_worker}: Loading and moving model to device {device}\")\n",
    "model = load_model(conf[\"model\"]).to(device)\n",
    "\n",
    "# Load the weights from the training location\n",
    "checkpoint = torch.load(\n",
    "    os.path.join(model_loc, \"best.pt\"),\n",
    "    map_location=lambda storage, loc: storage\n",
    ")\n",
    "model.load_state_dict(checkpoint[\"model_state_dict\"])\n",
    "model.eval()\n",
    "\n",
    "total_params = sum(p.numel() for p in model.parameters())\n",
    "trainable_params = sum(p.numel()\n",
    "                       for p in model.parameters() if p.requires_grad)\n",
    "print(\n",
    "    f\"Worker {this_worker}: There are {total_params} total model parameters\")\n",
    "\n",
    "# Load the image transformations\n",
    "if \"inference\" in conf[\"transforms\"]:\n",
    "    print(f\"Worker {this_worker}: Loading image transformations\")\n",
    "    if \"Normalize\" in conf[\"transforms\"][\"training\"]:\n",
    "        conf[\"transforms\"][\"inference\"][\"Normalize\"][\"mode\"] = conf[\"transforms\"][\"training\"][\"Normalize\"][\"mode\"]\n",
    "    tile_transforms = LoadTransformations(conf[\"transforms\"][\"inference\"])\n",
    "else:\n",
    "    tile_transforms = None"
   ]
  },
  {
   "cell_type": "code",
   "execution_count": 7,
   "metadata": {},
   "outputs": [
    {
     "name": "stdout",
     "output_type": "stream",
     "text": [
      "Worker 0: Loading an inference wave-prop generator\n"
     ]
    }
   ],
   "source": [
    "print(f\"Worker {this_worker}: Loading an inference wave-prop generator\")\n",
    "\n",
    "prop = InferencePropagator(\n",
    "    data_set,\n",
    "    n_bins=n_bins,\n",
    "    color_dim=color_dim,\n",
    "    tile_size=tile_size,\n",
    "    step_size=step_size,\n",
    "    marker_size=marker_size,\n",
    "    transform_mode=transform_mode,\n",
    "    device=device,\n",
    "    model=model,\n",
    "    mode=inference_mode,\n",
    "    probability_threshold=probability_threshold,\n",
    "    transforms=tile_transforms\n",
    ")\n",
    "\n",
    "# Create a list of z-values to propagate to\n",
    "z_list = prop.create_z_plane_lst(planes_per_call=1)\n",
    "z_list = np.array_split(z_list, workers)[this_worker]"
   ]
  },
  {
   "cell_type": "code",
   "execution_count": 196,
   "metadata": {},
   "outputs": [
    {
     "name": "stdout",
     "output_type": "stream",
     "text": [
      "Total examples that need labeled 37\n",
      "11 2567 2467 15368.0 23.68\n",
      "11 3604 916 16376.0 2.96\n",
      "11 1615 2775 18104.0 13.32\n",
      "11 4197 1262 18680.0 5.328\n",
      "11 604 1526 18721.14285714286 25.37142857142857\n",
      "11 508 1751 31496.0 40.45333333333333\n",
      "11 4246 2398 35792.0 15.786666666666665\n",
      "11 1905 2546 38148.8 26.048000000000002\n",
      "11 4175 2214 38840.0 38.48\n",
      "11 217 3112 41576.0 8.879999999999999\n",
      "11 1808 862 46472.0 8.879999999999999\n",
      "11 4579 2008 46640.0 14.306666666666665\n",
      "11 2429 1995 52520.0 29.6\n",
      "11 1702 1994 60224.0 14.8\n",
      "11 1787 2921 61941.71428571428 25.79428571428571\n",
      "11 777 1074 63368.0 24.666666666666668\n",
      "11 1604 2280 67442.0 29.6\n",
      "11 1325 1997 69704.0 23.68\n",
      "11 1324 1996 72536.0 41.44\n",
      "11 3040 645 72536.0 17.759999999999998\n",
      "11 2823 1110 72656.0 17.759999999999998\n",
      "11 1861 7 79412.0 6.66\n",
      "11 1965 1987 80240.0 21.46\n",
      "11 1272 2087 89816.0 17.759999999999998\n",
      "11 1273 2086 90420.8 24.864\n",
      "11 159 900 90680.0 2.96\n",
      "11 2793 2822 93905.6 18.944\n",
      "11 2313 2683 101019.2 24.272\n",
      "11 691 903 102104.0 23.68\n",
      "11 3816 3007 103424.0 10.36\n",
      "11 4485 199 109832.0 2.96\n",
      "11 1038 3240 116960.0 8.879999999999999\n",
      "11 2697 2445 150200.0 28.61333333333333\n",
      "11 3029 2173 150224.0 21.706666666666667\n",
      "11 3028 2172 151688.0 25.653333333333332\n",
      "11 2353 2520 152672.0 34.04\n",
      "11 1478 1047 157640.0 2.96\n",
      "Total examples that need labeled 41\n",
      "12 2739 1743 14648.0 16.068571428571428\n",
      "12 664 2230 17384.0 10.853333333333333\n",
      "12 3518 2117 17456.0 11.1\n",
      "12 3504 781 18680.0 25.16\n",
      "12 218 2292 19112.0 23.68\n",
      "12 2671 466 21272.0 8.879999999999999\n",
      "12 532 2724 32288.0 23.68\n",
      "12 533 2727 34772.0 15.54\n",
      "12 4860 2041 35672.0 8.879999999999999\n",
      "12 2830 2544 35816.0 26.64\n",
      "12 29 2860 41720.0 14.8\n",
      "12 2386 1438 41960.0 12.826666666666666\n",
      "12 39 1044 42944.0 8.879999999999999\n",
      "12 1340 624 46904.0 5.92\n",
      "12 2200 1391 67150.4 24.272\n",
      "12 3303 797 72680.0 2.96\n",
      "12 1058 908 73904.0 8.879999999999999\n",
      "12 2965 958 74984.0 23.68\n",
      "12 2282 2973 76424.0 5.92\n",
      "12 2390 1300 78008.0 14.8\n",
      "12 2394 1300 79016.0 16.28\n",
      "12 2684 2768 82904.0 2.96\n",
      "12 2839 1490 84056.0 21.904\n",
      "12 4796 2917 84200.0 8.879999999999999\n",
      "12 4706 2803 92696.0 2.96\n",
      "12 4265 1269 93128.0 10.853333333333333\n",
      "12 2179 1917 99104.0 2.96\n",
      "12 2178 2701 106746.28571428572 22.41142857142857\n",
      "12 1783 1478 109352.0 10.853333333333333\n",
      "12 3367 1454 112136.0 5.92\n",
      "12 1981 3227 114800.0 4.4399999999999995\n",
      "12 3905 2585 117752.0 4.4399999999999995\n",
      "12 264 3185 119984.0 7.4\n",
      "12 1287 3159 140840.0 9.373333333333333\n",
      "12 1850 2349 145256.0 17.759999999999998\n",
      "12 2931 317 150296.0 12.826666666666666\n",
      "12 3322 1776 150440.0 2.96\n",
      "12 2483 2358 151160.0 26.64\n",
      "12 1212 2768 152312.0 2.96\n",
      "12 942 2328 154760.0 2.96\n",
      "12 765 1207 154904.0 7.893333333333333\n",
      "Total examples that need labeled 48\n",
      "13 3107 1720 24843.2 18.352\n",
      "13 227 17 30248.0 7.893333333333333\n",
      "13 226 14 30920.0 5.92\n",
      "13 3610 85 31856.0 17.759999999999998\n",
      "13 3187 102 32936.0 2.96\n",
      "13 1387 2900 34491.2 18.352\n",
      "13 1359 3235 34904.0 12.333333333333334\n",
      "13 1359 3236 35528.0 8.879999999999999\n",
      "13 2164 1342 37112.0 18.944\n",
      "13 2032 962 37328.0 23.68\n",
      "13 3962 94 38552.0 5.92\n",
      "13 2822 3119 39416.0 26.64\n",
      "13 2670 2262 41360.0 17.02\n",
      "13 981 1421 44024.0 29.6\n",
      "13 10 2676 45224.0 6.906666666666665\n",
      "13 2204 1106 47120.0 9.373333333333333\n",
      "13 3277 2614 47288.0 27.62666666666667\n",
      "13 4482 1935 49784.0 10.994285714285711\n",
      "13 615 1464 60584.0 30.58666666666667\n",
      "13 3776 3036 61520.0 10.36\n",
      "13 3776 3037 62081.6 17.168\n",
      "13 1743 109 62456.0 8.879999999999999\n",
      "13 1594 1259 64472.0 8.879999999999999\n",
      "13 2583 1305 66272.0 28.12\n",
      "13 550 867 77576.0 8.879999999999999\n",
      "13 1484 2057 78044.0 21.46\n",
      "13 4864 1996 78440.0 5.92\n",
      "13 1484 2058 79016.0 17.759999999999998\n",
      "13 2253 2159 84488.0 29.6\n",
      "13 2092 2734 94280.0 23.68\n",
      "13 588 2506 99752.0 17.759999999999998\n",
      "13 1089 3004 106016.0 14.8\n",
      "13 3234 3086 120416.0 16.28\n",
      "13 3496 2565 120632.0 8.879999999999999\n",
      "13 3489 2565 122984.0 13.813333333333334\n",
      "13 1205 3076 124376.0 5.92\n",
      "13 3366 3205 133592.0 9.472\n",
      "13 801 321 134528.0 29.6\n",
      "13 4711 2772 136040.0 2.96\n",
      "13 4273 3013 137912.0 5.92\n",
      "13 875 1231 140936.0 26.64\n",
      "13 2455 1129 141368.0 20.72\n",
      "13 959 2907 143864.0 16.773333333333333\n",
      "13 1638 375 148337.6 6.5120000000000005\n",
      "13 970 1307 152168.0 16.773333333333333\n",
      "13 1967 658 153608.0 5.92\n",
      "13 3864 2826 157496.0 2.96\n",
      "13 1816 2316 157928.0 5.92\n",
      "Total examples that need labeled 19\n",
      "14 1335 2729 17816.0 13.024000000000001\n",
      "14 1376 1391 71600.0 23.68\n",
      "14 73 1917 74552.0 2.96\n",
      "14 2865 743 75992.0 33.54666666666667\n",
      "14 997 1459 78296.0 2.96\n",
      "14 4496 2550 80120.0 22.693333333333335\n",
      "14 4495 2550 81089.6 23.088\n",
      "14 3232 2280 83048.0 2.96\n",
      "14 3863 1271 84776.0 5.92\n",
      "14 3548 2938 84812.0 13.32\n",
      "14 601 1611 93560.0 28.12\n",
      "14 4635 1117 102056.0 2.96\n",
      "14 1298 298 102560.0 2.96\n",
      "14 3733 3061 104734.4 17.168\n",
      "14 384 147 123152.0 7.4\n",
      "14 58 1973 131360.0 6.66\n",
      "14 1925 19 150224.0 4.4399999999999995\n",
      "14 3256 2016 151016.0 9.866666666666665\n",
      "14 3760 966 155768.0 5.92\n",
      "Total examples that need labeled 0\n",
      "Total examples that need labeled 4\n",
      "16 2428 1992 52520.0 8.879999999999999\n",
      "16 2430 1993 52520.0 2.96\n",
      "16 2429 1995 52664.0 23.68\n",
      "16 2759 700 148712.0 2.96\n",
      "Total examples that need labeled 1\n",
      "17 2024 1086 102056.0 2.96\n",
      "Total examples that need labeled 6\n",
      "18 2426 1999 53096.0 41.44\n",
      "18 4200 930 70232.0 2.96\n",
      "18 577 1230 85784.0 2.96\n",
      "18 3179 2818 103784.0 2.96\n",
      "18 3179 2818 104072.0 8.879999999999999\n",
      "18 3901 1747 141944.0 2.96\n",
      "Total examples that need labeled 7\n",
      "19 2726 1342 33080.0 5.92\n",
      "19 4105 1057 33656.0 5.92\n",
      "19 3300 1229 40712.0 5.92\n",
      "19 2424 2000 52664.0 8.879999999999999\n",
      "19 2428 2002 52664.0 2.96\n",
      "19 3037 1371 86360.0 2.96\n",
      "19 893 1100 157928.0 2.96\n"
     ]
    },
    {
     "data": {
      "text/plain": [
       "<Figure size 864x360 with 0 Axes>"
      ]
     },
     "metadata": {},
     "output_type": "display_data"
    },
    {
     "data": {
      "text/plain": [
       "<Figure size 864x360 with 0 Axes>"
      ]
     },
     "metadata": {},
     "output_type": "display_data"
    },
    {
     "data": {
      "text/plain": [
       "<Figure size 864x360 with 0 Axes>"
      ]
     },
     "metadata": {},
     "output_type": "display_data"
    },
    {
     "data": {
      "text/plain": [
       "<Figure size 864x360 with 0 Axes>"
      ]
     },
     "metadata": {},
     "output_type": "display_data"
    },
    {
     "data": {
      "text/plain": [
       "<Figure size 864x360 with 0 Axes>"
      ]
     },
     "metadata": {},
     "output_type": "display_data"
    },
    {
     "data": {
      "text/plain": [
       "<Figure size 864x360 with 0 Axes>"
      ]
     },
     "metadata": {},
     "output_type": "display_data"
    },
    {
     "data": {
      "text/plain": [
       "<Figure size 864x360 with 0 Axes>"
      ]
     },
     "metadata": {},
     "output_type": "display_data"
    },
    {
     "data": {
      "text/plain": [
       "<Figure size 864x360 with 0 Axes>"
      ]
     },
     "metadata": {},
     "output_type": "display_data"
    },
    {
     "data": {
      "text/plain": [
       "<Figure size 864x360 with 0 Axes>"
      ]
     },
     "metadata": {},
     "output_type": "display_data"
    },
    {
     "data": {
      "text/plain": [
       "<Figure size 864x360 with 0 Axes>"
      ]
     },
     "metadata": {},
     "output_type": "display_data"
    },
    {
     "data": {
      "text/plain": [
       "<Figure size 864x360 with 0 Axes>"
      ]
     },
     "metadata": {},
     "output_type": "display_data"
    },
    {
     "data": {
      "text/plain": [
       "<Figure size 864x360 with 0 Axes>"
      ]
     },
     "metadata": {},
     "output_type": "display_data"
    },
    {
     "data": {
      "text/plain": [
       "<Figure size 864x360 with 0 Axes>"
      ]
     },
     "metadata": {},
     "output_type": "display_data"
    },
    {
     "data": {
      "text/plain": [
       "<Figure size 864x360 with 0 Axes>"
      ]
     },
     "metadata": {},
     "output_type": "display_data"
    },
    {
     "data": {
      "text/plain": [
       "<Figure size 864x360 with 0 Axes>"
      ]
     },
     "metadata": {},
     "output_type": "display_data"
    },
    {
     "data": {
      "text/plain": [
       "<Figure size 864x360 with 0 Axes>"
      ]
     },
     "metadata": {},
     "output_type": "display_data"
    },
    {
     "data": {
      "text/plain": [
       "<Figure size 864x360 with 0 Axes>"
      ]
     },
     "metadata": {},
     "output_type": "display_data"
    },
    {
     "data": {
      "text/plain": [
       "<Figure size 864x360 with 0 Axes>"
      ]
     },
     "metadata": {},
     "output_type": "display_data"
    },
    {
     "data": {
      "text/plain": [
       "<Figure size 864x360 with 0 Axes>"
      ]
     },
     "metadata": {},
     "output_type": "display_data"
    },
    {
     "data": {
      "text/plain": [
       "<Figure size 864x360 with 0 Axes>"
      ]
     },
     "metadata": {},
     "output_type": "display_data"
    },
    {
     "data": {
      "text/plain": [
       "<Figure size 864x360 with 0 Axes>"
      ]
     },
     "metadata": {},
     "output_type": "display_data"
    },
    {
     "data": {
      "text/plain": [
       "<Figure size 864x360 with 0 Axes>"
      ]
     },
     "metadata": {},
     "output_type": "display_data"
    },
    {
     "data": {
      "text/plain": [
       "<Figure size 864x360 with 0 Axes>"
      ]
     },
     "metadata": {},
     "output_type": "display_data"
    },
    {
     "data": {
      "text/plain": [
       "<Figure size 864x360 with 0 Axes>"
      ]
     },
     "metadata": {},
     "output_type": "display_data"
    },
    {
     "data": {
      "text/plain": [
       "<Figure size 864x360 with 0 Axes>"
      ]
     },
     "metadata": {},
     "output_type": "display_data"
    },
    {
     "data": {
      "text/plain": [
       "<Figure size 864x360 with 0 Axes>"
      ]
     },
     "metadata": {},
     "output_type": "display_data"
    },
    {
     "data": {
      "text/plain": [
       "<Figure size 864x360 with 0 Axes>"
      ]
     },
     "metadata": {},
     "output_type": "display_data"
    },
    {
     "data": {
      "text/plain": [
       "<Figure size 864x360 with 0 Axes>"
      ]
     },
     "metadata": {},
     "output_type": "display_data"
    },
    {
     "data": {
      "text/plain": [
       "<Figure size 864x360 with 0 Axes>"
      ]
     },
     "metadata": {},
     "output_type": "display_data"
    },
    {
     "data": {
      "text/plain": [
       "<Figure size 864x360 with 0 Axes>"
      ]
     },
     "metadata": {},
     "output_type": "display_data"
    },
    {
     "data": {
      "text/plain": [
       "<Figure size 864x360 with 0 Axes>"
      ]
     },
     "metadata": {},
     "output_type": "display_data"
    },
    {
     "data": {
      "text/plain": [
       "<Figure size 864x360 with 0 Axes>"
      ]
     },
     "metadata": {},
     "output_type": "display_data"
    },
    {
     "data": {
      "text/plain": [
       "<Figure size 864x360 with 0 Axes>"
      ]
     },
     "metadata": {},
     "output_type": "display_data"
    },
    {
     "data": {
      "text/plain": [
       "<Figure size 864x360 with 0 Axes>"
      ]
     },
     "metadata": {},
     "output_type": "display_data"
    },
    {
     "data": {
      "text/plain": [
       "<Figure size 864x360 with 0 Axes>"
      ]
     },
     "metadata": {},
     "output_type": "display_data"
    },
    {
     "data": {
      "text/plain": [
       "<Figure size 864x360 with 0 Axes>"
      ]
     },
     "metadata": {},
     "output_type": "display_data"
    },
    {
     "data": {
      "text/plain": [
       "<Figure size 864x360 with 0 Axes>"
      ]
     },
     "metadata": {},
     "output_type": "display_data"
    },
    {
     "data": {
      "text/plain": [
       "<Figure size 864x360 with 0 Axes>"
      ]
     },
     "metadata": {},
     "output_type": "display_data"
    },
    {
     "data": {
      "text/plain": [
       "<Figure size 864x360 with 0 Axes>"
      ]
     },
     "metadata": {},
     "output_type": "display_data"
    },
    {
     "data": {
      "text/plain": [
       "<Figure size 864x360 with 0 Axes>"
      ]
     },
     "metadata": {},
     "output_type": "display_data"
    },
    {
     "data": {
      "text/plain": [
       "<Figure size 864x360 with 0 Axes>"
      ]
     },
     "metadata": {},
     "output_type": "display_data"
    },
    {
     "data": {
      "text/plain": [
       "<Figure size 864x360 with 0 Axes>"
      ]
     },
     "metadata": {},
     "output_type": "display_data"
    },
    {
     "data": {
      "text/plain": [
       "<Figure size 864x360 with 0 Axes>"
      ]
     },
     "metadata": {},
     "output_type": "display_data"
    },
    {
     "data": {
      "text/plain": [
       "<Figure size 864x360 with 0 Axes>"
      ]
     },
     "metadata": {},
     "output_type": "display_data"
    },
    {
     "data": {
      "text/plain": [
       "<Figure size 864x360 with 0 Axes>"
      ]
     },
     "metadata": {},
     "output_type": "display_data"
    },
    {
     "data": {
      "text/plain": [
       "<Figure size 864x360 with 0 Axes>"
      ]
     },
     "metadata": {},
     "output_type": "display_data"
    },
    {
     "data": {
      "text/plain": [
       "<Figure size 864x360 with 0 Axes>"
      ]
     },
     "metadata": {},
     "output_type": "display_data"
    },
    {
     "data": {
      "text/plain": [
       "<Figure size 864x360 with 0 Axes>"
      ]
     },
     "metadata": {},
     "output_type": "display_data"
    },
    {
     "data": {
      "text/plain": [
       "<Figure size 864x360 with 0 Axes>"
      ]
     },
     "metadata": {},
     "output_type": "display_data"
    },
    {
     "data": {
      "text/plain": [
       "<Figure size 864x360 with 0 Axes>"
      ]
     },
     "metadata": {},
     "output_type": "display_data"
    },
    {
     "data": {
      "text/plain": [
       "<Figure size 864x360 with 0 Axes>"
      ]
     },
     "metadata": {},
     "output_type": "display_data"
    },
    {
     "data": {
      "text/plain": [
       "<Figure size 864x360 with 0 Axes>"
      ]
     },
     "metadata": {},
     "output_type": "display_data"
    },
    {
     "data": {
      "text/plain": [
       "<Figure size 864x360 with 0 Axes>"
      ]
     },
     "metadata": {},
     "output_type": "display_data"
    },
    {
     "data": {
      "text/plain": [
       "<Figure size 864x360 with 0 Axes>"
      ]
     },
     "metadata": {},
     "output_type": "display_data"
    },
    {
     "data": {
      "text/plain": [
       "<Figure size 864x360 with 0 Axes>"
      ]
     },
     "metadata": {},
     "output_type": "display_data"
    },
    {
     "data": {
      "text/plain": [
       "<Figure size 864x360 with 0 Axes>"
      ]
     },
     "metadata": {},
     "output_type": "display_data"
    },
    {
     "data": {
      "text/plain": [
       "<Figure size 864x360 with 0 Axes>"
      ]
     },
     "metadata": {},
     "output_type": "display_data"
    },
    {
     "data": {
      "text/plain": [
       "<Figure size 864x360 with 0 Axes>"
      ]
     },
     "metadata": {},
     "output_type": "display_data"
    },
    {
     "data": {
      "text/plain": [
       "<Figure size 864x360 with 0 Axes>"
      ]
     },
     "metadata": {},
     "output_type": "display_data"
    },
    {
     "data": {
      "text/plain": [
       "<Figure size 864x360 with 0 Axes>"
      ]
     },
     "metadata": {},
     "output_type": "display_data"
    },
    {
     "data": {
      "text/plain": [
       "<Figure size 864x360 with 0 Axes>"
      ]
     },
     "metadata": {},
     "output_type": "display_data"
    },
    {
     "data": {
      "text/plain": [
       "<Figure size 864x360 with 0 Axes>"
      ]
     },
     "metadata": {},
     "output_type": "display_data"
    },
    {
     "data": {
      "text/plain": [
       "<Figure size 864x360 with 0 Axes>"
      ]
     },
     "metadata": {},
     "output_type": "display_data"
    },
    {
     "data": {
      "text/plain": [
       "<Figure size 864x360 with 0 Axes>"
      ]
     },
     "metadata": {},
     "output_type": "display_data"
    },
    {
     "data": {
      "text/plain": [
       "<Figure size 864x360 with 0 Axes>"
      ]
     },
     "metadata": {},
     "output_type": "display_data"
    },
    {
     "data": {
      "text/plain": [
       "<Figure size 864x360 with 0 Axes>"
      ]
     },
     "metadata": {},
     "output_type": "display_data"
    },
    {
     "data": {
      "text/plain": [
       "<Figure size 864x360 with 0 Axes>"
      ]
     },
     "metadata": {},
     "output_type": "display_data"
    },
    {
     "data": {
      "text/plain": [
       "<Figure size 864x360 with 0 Axes>"
      ]
     },
     "metadata": {},
     "output_type": "display_data"
    },
    {
     "data": {
      "text/plain": [
       "<Figure size 864x360 with 0 Axes>"
      ]
     },
     "metadata": {},
     "output_type": "display_data"
    },
    {
     "data": {
      "text/plain": [
       "<Figure size 864x360 with 0 Axes>"
      ]
     },
     "metadata": {},
     "output_type": "display_data"
    },
    {
     "data": {
      "text/plain": [
       "<Figure size 864x360 with 0 Axes>"
      ]
     },
     "metadata": {},
     "output_type": "display_data"
    },
    {
     "data": {
      "text/plain": [
       "<Figure size 864x360 with 0 Axes>"
      ]
     },
     "metadata": {},
     "output_type": "display_data"
    },
    {
     "data": {
      "text/plain": [
       "<Figure size 864x360 with 0 Axes>"
      ]
     },
     "metadata": {},
     "output_type": "display_data"
    },
    {
     "data": {
      "text/plain": [
       "<Figure size 864x360 with 0 Axes>"
      ]
     },
     "metadata": {},
     "output_type": "display_data"
    },
    {
     "data": {
      "text/plain": [
       "<Figure size 864x360 with 0 Axes>"
      ]
     },
     "metadata": {},
     "output_type": "display_data"
    },
    {
     "data": {
      "text/plain": [
       "<Figure size 864x360 with 0 Axes>"
      ]
     },
     "metadata": {},
     "output_type": "display_data"
    },
    {
     "data": {
      "text/plain": [
       "<Figure size 864x360 with 0 Axes>"
      ]
     },
     "metadata": {},
     "output_type": "display_data"
    },
    {
     "data": {
      "text/plain": [
       "<Figure size 864x360 with 0 Axes>"
      ]
     },
     "metadata": {},
     "output_type": "display_data"
    },
    {
     "data": {
      "text/plain": [
       "<Figure size 864x360 with 0 Axes>"
      ]
     },
     "metadata": {},
     "output_type": "display_data"
    },
    {
     "data": {
      "text/plain": [
       "<Figure size 864x360 with 0 Axes>"
      ]
     },
     "metadata": {},
     "output_type": "display_data"
    },
    {
     "data": {
      "text/plain": [
       "<Figure size 864x360 with 0 Axes>"
      ]
     },
     "metadata": {},
     "output_type": "display_data"
    },
    {
     "data": {
      "text/plain": [
       "<Figure size 864x360 with 0 Axes>"
      ]
     },
     "metadata": {},
     "output_type": "display_data"
    },
    {
     "data": {
      "text/plain": [
       "<Figure size 864x360 with 0 Axes>"
      ]
     },
     "metadata": {},
     "output_type": "display_data"
    },
    {
     "data": {
      "text/plain": [
       "<Figure size 864x360 with 0 Axes>"
      ]
     },
     "metadata": {},
     "output_type": "display_data"
    },
    {
     "data": {
      "text/plain": [
       "<Figure size 864x360 with 0 Axes>"
      ]
     },
     "metadata": {},
     "output_type": "display_data"
    },
    {
     "data": {
      "text/plain": [
       "<Figure size 864x360 with 0 Axes>"
      ]
     },
     "metadata": {},
     "output_type": "display_data"
    },
    {
     "data": {
      "text/plain": [
       "<Figure size 864x360 with 0 Axes>"
      ]
     },
     "metadata": {},
     "output_type": "display_data"
    },
    {
     "data": {
      "text/plain": [
       "<Figure size 864x360 with 0 Axes>"
      ]
     },
     "metadata": {},
     "output_type": "display_data"
    },
    {
     "data": {
      "text/plain": [
       "<Figure size 864x360 with 0 Axes>"
      ]
     },
     "metadata": {},
     "output_type": "display_data"
    },
    {
     "data": {
      "text/plain": [
       "<Figure size 864x360 with 0 Axes>"
      ]
     },
     "metadata": {},
     "output_type": "display_data"
    },
    {
     "data": {
      "text/plain": [
       "<Figure size 864x360 with 0 Axes>"
      ]
     },
     "metadata": {},
     "output_type": "display_data"
    },
    {
     "data": {
      "text/plain": [
       "<Figure size 864x360 with 0 Axes>"
      ]
     },
     "metadata": {},
     "output_type": "display_data"
    },
    {
     "data": {
      "text/plain": [
       "<Figure size 864x360 with 0 Axes>"
      ]
     },
     "metadata": {},
     "output_type": "display_data"
    },
    {
     "data": {
      "text/plain": [
       "<Figure size 864x360 with 0 Axes>"
      ]
     },
     "metadata": {},
     "output_type": "display_data"
    },
    {
     "data": {
      "text/plain": [
       "<Figure size 864x360 with 0 Axes>"
      ]
     },
     "metadata": {},
     "output_type": "display_data"
    },
    {
     "data": {
      "text/plain": [
       "<Figure size 864x360 with 0 Axes>"
      ]
     },
     "metadata": {},
     "output_type": "display_data"
    },
    {
     "data": {
      "text/plain": [
       "<Figure size 864x360 with 0 Axes>"
      ]
     },
     "metadata": {},
     "output_type": "display_data"
    },
    {
     "data": {
      "text/plain": [
       "<Figure size 864x360 with 0 Axes>"
      ]
     },
     "metadata": {},
     "output_type": "display_data"
    },
    {
     "data": {
      "text/plain": [
       "<Figure size 864x360 with 0 Axes>"
      ]
     },
     "metadata": {},
     "output_type": "display_data"
    },
    {
     "data": {
      "text/plain": [
       "<Figure size 864x360 with 0 Axes>"
      ]
     },
     "metadata": {},
     "output_type": "display_data"
    },
    {
     "data": {
      "text/plain": [
       "<Figure size 864x360 with 0 Axes>"
      ]
     },
     "metadata": {},
     "output_type": "display_data"
    },
    {
     "data": {
      "text/plain": [
       "<Figure size 864x360 with 0 Axes>"
      ]
     },
     "metadata": {},
     "output_type": "display_data"
    },
    {
     "data": {
      "text/plain": [
       "<Figure size 864x360 with 0 Axes>"
      ]
     },
     "metadata": {},
     "output_type": "display_data"
    },
    {
     "data": {
      "text/plain": [
       "<Figure size 864x360 with 0 Axes>"
      ]
     },
     "metadata": {},
     "output_type": "display_data"
    },
    {
     "data": {
      "text/plain": [
       "<Figure size 864x360 with 0 Axes>"
      ]
     },
     "metadata": {},
     "output_type": "display_data"
    },
    {
     "data": {
      "text/plain": [
       "<Figure size 864x360 with 0 Axes>"
      ]
     },
     "metadata": {},
     "output_type": "display_data"
    },
    {
     "data": {
      "text/plain": [
       "<Figure size 864x360 with 0 Axes>"
      ]
     },
     "metadata": {},
     "output_type": "display_data"
    },
    {
     "data": {
      "text/plain": [
       "<Figure size 864x360 with 0 Axes>"
      ]
     },
     "metadata": {},
     "output_type": "display_data"
    },
    {
     "data": {
      "text/plain": [
       "<Figure size 864x360 with 0 Axes>"
      ]
     },
     "metadata": {},
     "output_type": "display_data"
    },
    {
     "data": {
      "text/plain": [
       "<Figure size 864x360 with 0 Axes>"
      ]
     },
     "metadata": {},
     "output_type": "display_data"
    },
    {
     "data": {
      "text/plain": [
       "<Figure size 864x360 with 0 Axes>"
      ]
     },
     "metadata": {},
     "output_type": "display_data"
    },
    {
     "data": {
      "text/plain": [
       "<Figure size 864x360 with 0 Axes>"
      ]
     },
     "metadata": {},
     "output_type": "display_data"
    },
    {
     "data": {
      "text/plain": [
       "<Figure size 864x360 with 0 Axes>"
      ]
     },
     "metadata": {},
     "output_type": "display_data"
    },
    {
     "data": {
      "text/plain": [
       "<Figure size 864x360 with 0 Axes>"
      ]
     },
     "metadata": {},
     "output_type": "display_data"
    },
    {
     "data": {
      "text/plain": [
       "<Figure size 864x360 with 0 Axes>"
      ]
     },
     "metadata": {},
     "output_type": "display_data"
    },
    {
     "data": {
      "text/plain": [
       "<Figure size 864x360 with 0 Axes>"
      ]
     },
     "metadata": {},
     "output_type": "display_data"
    },
    {
     "data": {
      "text/plain": [
       "<Figure size 864x360 with 0 Axes>"
      ]
     },
     "metadata": {},
     "output_type": "display_data"
    },
    {
     "data": {
      "text/plain": [
       "<Figure size 864x360 with 0 Axes>"
      ]
     },
     "metadata": {},
     "output_type": "display_data"
    },
    {
     "data": {
      "text/plain": [
       "<Figure size 864x360 with 0 Axes>"
      ]
     },
     "metadata": {},
     "output_type": "display_data"
    },
    {
     "data": {
      "text/plain": [
       "<Figure size 864x360 with 0 Axes>"
      ]
     },
     "metadata": {},
     "output_type": "display_data"
    },
    {
     "data": {
      "text/plain": [
       "<Figure size 864x360 with 0 Axes>"
      ]
     },
     "metadata": {},
     "output_type": "display_data"
    },
    {
     "data": {
      "text/plain": [
       "<Figure size 864x360 with 0 Axes>"
      ]
     },
     "metadata": {},
     "output_type": "display_data"
    },
    {
     "data": {
      "text/plain": [
       "<Figure size 864x360 with 0 Axes>"
      ]
     },
     "metadata": {},
     "output_type": "display_data"
    },
    {
     "data": {
      "text/plain": [
       "<Figure size 864x360 with 0 Axes>"
      ]
     },
     "metadata": {},
     "output_type": "display_data"
    },
    {
     "data": {
      "text/plain": [
       "<Figure size 864x360 with 0 Axes>"
      ]
     },
     "metadata": {},
     "output_type": "display_data"
    },
    {
     "data": {
      "text/plain": [
       "<Figure size 864x360 with 0 Axes>"
      ]
     },
     "metadata": {},
     "output_type": "display_data"
    },
    {
     "data": {
      "text/plain": [
       "<Figure size 864x360 with 0 Axes>"
      ]
     },
     "metadata": {},
     "output_type": "display_data"
    },
    {
     "data": {
      "text/plain": [
       "<Figure size 864x360 with 0 Axes>"
      ]
     },
     "metadata": {},
     "output_type": "display_data"
    },
    {
     "data": {
      "text/plain": [
       "<Figure size 864x360 with 0 Axes>"
      ]
     },
     "metadata": {},
     "output_type": "display_data"
    },
    {
     "data": {
      "text/plain": [
       "<Figure size 864x360 with 0 Axes>"
      ]
     },
     "metadata": {},
     "output_type": "display_data"
    },
    {
     "data": {
      "text/plain": [
       "<Figure size 864x360 with 0 Axes>"
      ]
     },
     "metadata": {},
     "output_type": "display_data"
    },
    {
     "data": {
      "text/plain": [
       "<Figure size 864x360 with 0 Axes>"
      ]
     },
     "metadata": {},
     "output_type": "display_data"
    },
    {
     "data": {
      "text/plain": [
       "<Figure size 864x360 with 0 Axes>"
      ]
     },
     "metadata": {},
     "output_type": "display_data"
    },
    {
     "data": {
      "text/plain": [
       "<Figure size 864x360 with 0 Axes>"
      ]
     },
     "metadata": {},
     "output_type": "display_data"
    },
    {
     "data": {
      "text/plain": [
       "<Figure size 864x360 with 0 Axes>"
      ]
     },
     "metadata": {},
     "output_type": "display_data"
    },
    {
     "data": {
      "text/plain": [
       "<Figure size 864x360 with 0 Axes>"
      ]
     },
     "metadata": {},
     "output_type": "display_data"
    },
    {
     "data": {
      "text/plain": [
       "<Figure size 864x360 with 0 Axes>"
      ]
     },
     "metadata": {},
     "output_type": "display_data"
    },
    {
     "data": {
      "text/plain": [
       "<Figure size 864x360 with 0 Axes>"
      ]
     },
     "metadata": {},
     "output_type": "display_data"
    },
    {
     "data": {
      "text/plain": [
       "<Figure size 864x360 with 0 Axes>"
      ]
     },
     "metadata": {},
     "output_type": "display_data"
    },
    {
     "data": {
      "text/plain": [
       "<Figure size 864x360 with 0 Axes>"
      ]
     },
     "metadata": {},
     "output_type": "display_data"
    },
    {
     "data": {
      "text/plain": [
       "<Figure size 864x360 with 0 Axes>"
      ]
     },
     "metadata": {},
     "output_type": "display_data"
    },
    {
     "data": {
      "text/plain": [
       "<Figure size 864x360 with 0 Axes>"
      ]
     },
     "metadata": {},
     "output_type": "display_data"
    },
    {
     "data": {
      "text/plain": [
       "<Figure size 864x360 with 0 Axes>"
      ]
     },
     "metadata": {},
     "output_type": "display_data"
    },
    {
     "data": {
      "text/plain": [
       "<Figure size 864x360 with 0 Axes>"
      ]
     },
     "metadata": {},
     "output_type": "display_data"
    },
    {
     "data": {
      "text/plain": [
       "<Figure size 864x360 with 0 Axes>"
      ]
     },
     "metadata": {},
     "output_type": "display_data"
    },
    {
     "data": {
      "text/plain": [
       "<Figure size 864x360 with 0 Axes>"
      ]
     },
     "metadata": {},
     "output_type": "display_data"
    },
    {
     "data": {
      "text/plain": [
       "<Figure size 864x360 with 0 Axes>"
      ]
     },
     "metadata": {},
     "output_type": "display_data"
    },
    {
     "data": {
      "text/plain": [
       "<Figure size 864x360 with 0 Axes>"
      ]
     },
     "metadata": {},
     "output_type": "display_data"
    },
    {
     "data": {
      "text/plain": [
       "<Figure size 864x360 with 0 Axes>"
      ]
     },
     "metadata": {},
     "output_type": "display_data"
    },
    {
     "data": {
      "text/plain": [
       "<Figure size 864x360 with 0 Axes>"
      ]
     },
     "metadata": {},
     "output_type": "display_data"
    },
    {
     "data": {
      "text/plain": [
       "<Figure size 864x360 with 0 Axes>"
      ]
     },
     "metadata": {},
     "output_type": "display_data"
    },
    {
     "data": {
      "text/plain": [
       "<Figure size 864x360 with 0 Axes>"
      ]
     },
     "metadata": {},
     "output_type": "display_data"
    },
    {
     "data": {
      "text/plain": [
       "<Figure size 864x360 with 0 Axes>"
      ]
     },
     "metadata": {},
     "output_type": "display_data"
    },
    {
     "data": {
      "text/plain": [
       "<Figure size 864x360 with 0 Axes>"
      ]
     },
     "metadata": {},
     "output_type": "display_data"
    },
    {
     "data": {
      "text/plain": [
       "<Figure size 864x360 with 0 Axes>"
      ]
     },
     "metadata": {},
     "output_type": "display_data"
    },
    {
     "data": {
      "text/plain": [
       "<Figure size 864x360 with 0 Axes>"
      ]
     },
     "metadata": {},
     "output_type": "display_data"
    },
    {
     "data": {
      "text/plain": [
       "<Figure size 864x360 with 0 Axes>"
      ]
     },
     "metadata": {},
     "output_type": "display_data"
    },
    {
     "data": {
      "text/plain": [
       "<Figure size 864x360 with 0 Axes>"
      ]
     },
     "metadata": {},
     "output_type": "display_data"
    },
    {
     "data": {
      "text/plain": [
       "<Figure size 864x360 with 0 Axes>"
      ]
     },
     "metadata": {},
     "output_type": "display_data"
    },
    {
     "data": {
      "text/plain": [
       "<Figure size 864x360 with 0 Axes>"
      ]
     },
     "metadata": {},
     "output_type": "display_data"
    },
    {
     "data": {
      "text/plain": [
       "<Figure size 864x360 with 0 Axes>"
      ]
     },
     "metadata": {},
     "output_type": "display_data"
    },
    {
     "data": {
      "text/plain": [
       "<Figure size 864x360 with 0 Axes>"
      ]
     },
     "metadata": {},
     "output_type": "display_data"
    },
    {
     "data": {
      "text/plain": [
       "<Figure size 864x360 with 0 Axes>"
      ]
     },
     "metadata": {},
     "output_type": "display_data"
    }
   ],
   "source": [
    "for h_idx in range(11, 20):\n",
    "    k = 0 \n",
    "    prop.model.eval()\n",
    "    real_image = prop.h_ds[\"image\"][h_idx].values\n",
    "    for (x, y, z, d) in get_particle(prop, h_idx, predicted_particles = table):\n",
    "\n",
    "        prop_image = propagate(prop, real_image, z)\n",
    "\n",
    "        dz = prop.z_centers[1] - prop.z_centers[0]\n",
    "        prop_image_m1 = propagate(prop, real_image, z - dz)\n",
    "        prop_image_p1 = propagate(prop, real_image, z + dz)\n",
    "\n",
    "        print(h_idx, x, y, z, d)\n",
    "\n",
    "        x, y, z = int(x), int(y), int(z)\n",
    "\n",
    "        ### 512 x 512 image\n",
    "        fig, (ax1, ax2, ax3, ax4, ax5) = plt.subplots(nrows=1, ncols=5, sharey='col', figsize=(12,5))\n",
    "\n",
    "        _x = x if x < 256 else 256\n",
    "        _y = y if y < 256 else 256\n",
    "\n",
    "        image = pad(prop_image[(x-_x):(x+_x), (y-_y):(y+_y)].transpose((1,0)), \n",
    "            padding = 512,\n",
    "            fx = _x < 256,\n",
    "            fy = _y < 256)\n",
    "        ax1.imshow(image, origin ='lower', cmap = \"gray\")\n",
    "        ax1.set_title(\"Input image\")\n",
    "\n",
    "        X = torch.from_numpy(prop.apply_transforms(prop_image[(x-_x):(x+_x), (y-_y):(y+_y)])).unsqueeze(0).unsqueeze(0)\n",
    "        with torch.no_grad():\n",
    "            _, _, a, b = X.shape\n",
    "            if a != b:\n",
    "                _X = torch.zeros(1, 1, 512, 512)\n",
    "                _X[:, :, :a, :b] = X\n",
    "                X = _X\n",
    "            mask = (prop.model(X.to(device)).detach().cpu().squeeze(0).squeeze(0).numpy() > 0.5).astype(float)\n",
    "\n",
    "        ### 32 x 32 image \n",
    "        _x = x if x < 32 else 32\n",
    "        _y = y if y < 32 else 32\n",
    "        image = pad(prop_image_m1[(x-_x):(x+_x), (y-_y):(y+_y)].transpose((1,0)), \n",
    "            padding = 64,\n",
    "            fx = _x < 32,\n",
    "            fy = _y < 32)\n",
    "\n",
    "        ax2.imshow(image, origin ='lower', cmap = \"gray\")\n",
    "        ax2.set_title(\"z(i-1)\")\n",
    "\n",
    "        ### 32 x 32 image \n",
    "        _x = x if x < 32 else 32\n",
    "        _y = y if y < 32 else 32\n",
    "        image = pad(prop_image[(x-_x):(x+_x), (y-_y):(y+_y)].transpose((1,0)), \n",
    "            padding = 64,\n",
    "            fx = _x < 32,\n",
    "            fy = _y < 32)\n",
    "\n",
    "        ax3.imshow(image, origin ='lower', cmap = \"gray\")\n",
    "        ax3.set_title(\"z(i)\")\n",
    "\n",
    "        ### 32 x 32 image \n",
    "        _x = x if x < 32 else 32\n",
    "        _y = y if y < 32 else 32\n",
    "        image = pad(prop_image_p1[(x-_x):(x+_x), (y-_y):(y+_y)].transpose((1,0)), \n",
    "            padding = 64,\n",
    "            fx = _x < 32,\n",
    "            fy = _y < 32)\n",
    "\n",
    "        ax4.imshow(image, origin ='lower', cmap = \"gray\")\n",
    "        ax4.set_title(\"z(i+1)\")\n",
    "\n",
    "        ### Mask prediction\n",
    "        image = mask.transpose((1,0))\n",
    "    #     image = pad(image, \n",
    "    #         padding = 64,\n",
    "    #         fx = _x < 32,\n",
    "    #         fy = _y < 32)\n",
    "        ax5.imshow(image, origin ='lower', cmap = \"gray\")\n",
    "        ax5.set_xlim(256-32, 256+32)\n",
    "        ax5.set_ylim(256-32, 256+32)\n",
    "        ax5.set_title(\"Predicted mask\")\n",
    "\n",
    "        plt.tight_layout()\n",
    "        #plt.show()\n",
    "\n",
    "        k += 1\n",
    "        \n",
    "        name = f\"{h_idx} {int(x)} {int(y)} {int(z)} {np.round(d, 2)}\"\n",
    "        fig.savefig(f'{path}/labeling/{name}.png', dpi = 300, bbox_inches = \"tight\")\n",
    "        \n",
    "        fig.clear()\n",
    "        del fig\n",
    "        gc.collect()"
   ]
  },
  {
   "cell_type": "code",
   "execution_count": null,
   "metadata": {},
   "outputs": [],
   "source": []
  }
 ],
 "metadata": {
  "kernelspec": {
   "display_name": "py37",
   "language": "python",
   "name": "py37"
  },
  "language_info": {
   "codemirror_mode": {
    "name": "ipython",
    "version": 3
   },
   "file_extension": ".py",
   "mimetype": "text/x-python",
   "name": "python",
   "nbconvert_exporter": "python",
   "pygments_lexer": "ipython3",
   "version": "3.7.5"
  }
 },
 "nbformat": 4,
 "nbformat_minor": 4
}
