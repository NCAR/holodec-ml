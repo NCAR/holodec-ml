{
 "cells": [
  {
   "cell_type": "code",
   "execution_count": 12,
   "metadata": {},
   "outputs": [],
   "source": [
    "import warnings\n",
    "warnings.filterwarnings(\"ignore\")\n",
    "\n",
    "import sys \n",
    "sys.path.append(\"/glade/work/schreck/repos/HOLO/clean/holodec-ml\")\n",
    "from holodecml.data import *\n",
    "from holodecml.losses import *\n",
    "from holodecml.models import *\n",
    "from holodecml.metrics import *\n",
    "from holodecml.transforms import *\n",
    "from holodecml.propagation import *\n",
    "\n",
    "import os\n",
    "import glob\n",
    "import tqdm\n",
    "import time\n",
    "import yaml\n",
    "import scipy\n",
    "import torch\n",
    "import shutil\n",
    "import pickle\n",
    "import joblib\n",
    "import random\n",
    "import sklearn\n",
    "import logging\n",
    "import datetime\n",
    "import matplotlib\n",
    "\n",
    "import torch.fft\n",
    "import torchvision\n",
    "import torchvision.models as models\n",
    "\n",
    "import numpy as np\n",
    "import pandas as pd\n",
    "import xarray as xr\n",
    "import torch.nn.functional as F\n",
    "import matplotlib.pyplot as plt\n",
    "\n",
    "from torch import nn\n",
    "from collections import defaultdict\n",
    "from scipy.signal import convolve2d\n",
    "from torch.optim.lr_scheduler import *\n",
    "from sklearn.model_selection import train_test_split\n",
    "from torch.utils.data import Dataset, DataLoader, TensorDataset\n",
    "from typing import List, Dict, Callable, Union, Any, TypeVar, Tuple\n",
    "\n",
    "from colour import Color\n",
    "import multiprocessing as mp\n",
    "from functools import partial\n",
    "\n",
    "from mpl_toolkits.axes_grid1.inset_locator import zoomed_inset_axes, mark_inset\n",
    "from scipy.spatial import distance_matrix"
   ]
  },
  {
   "cell_type": "code",
   "execution_count": 13,
   "metadata": {},
   "outputs": [],
   "source": [
    "path = \"/glade/work/schreck/repos/HOLO/clean/holodec-ml/results/manopt\"\n",
    "config = f'{path}/model.yml'\n",
    "\n",
    "with open(config) as cf:\n",
    "    conf = yaml.load(cf, Loader=yaml.FullLoader)"
   ]
  },
  {
   "cell_type": "code",
   "execution_count": 3,
   "metadata": {},
   "outputs": [],
   "source": [
    "test_synthetic_data = '/glade/p/cisl/aiml/ai4ess_hackathon/holodec/synthetic_holograms_500particle_gamma_4872x3248_test.nc'\n",
    "test_real_data = '/glade/p/cisl/aiml/ai4ess_hackathon/holodec/real_holograms_CSET_RF07_20150719_200000-210000.nc'\n",
    "\n",
    "dataset = test_synthetic_data\n",
    "\n",
    "if dataset == test_real_data:\n",
    "    set_flag = \"real_10_20\"\n",
    "else:\n",
    "    set_flag = \"synthetic\""
   ]
  },
  {
   "cell_type": "code",
   "execution_count": 4,
   "metadata": {},
   "outputs": [],
   "source": [
    "n_nodes = conf[\"inference\"][\"n_nodes\"]\n",
    "n_gpus = conf[\"inference\"][\"gpus_per_node\"]\n",
    "threads_per_gpu = conf[\"inference\"][\"threads_per_gpu\"]\n",
    "workers = int(n_nodes * n_gpus * threads_per_gpu)\n",
    "\n",
    "save_arrays = conf[\"inference\"][\"save_arrays\"]\n",
    "plot = conf[\"inference\"][\"plot\"]\n",
    "\n",
    "n_bins = conf[\"data\"][\"n_bins\"]\n",
    "tile_size = conf[\"data\"][\"tile_size\"]\n",
    "step_size = conf[\"data\"][\"step_size\"]\n",
    "marker_size = conf[\"data\"][\"marker_size\"]\n",
    "data_path = conf[\"data\"][\"data_path\"]\n",
    "raw_path = conf[\"data\"][\"raw_data\"]\n",
    "transform_mode = \"None\" if \"transform_mode\" not in conf[\"data\"] else conf[\"data\"][\"transform_mode\"]\n",
    "\n",
    "model_loc = conf[\"save_loc\"]\n",
    "model_name = conf[\"model\"][\"name\"]\n",
    "color_dim = conf[\"model\"][\"in_channels\"]\n",
    "\n",
    "batch_size = conf[\"inference\"][\"batch_size\"]\n",
    "save_arrays = conf[\"inference\"][\"save_arrays\"]\n",
    "save_prob = conf[\"inference\"][\"save_probs\"]\n",
    "inference_mode = conf[\"inference\"][\"mode\"]\n",
    "probability_threshold = conf[\"inference\"][\"probability_threshold\"]\n",
    "\n",
    "plot = conf[\"inference\"][\"plot\"]\n",
    "verbose = conf[\"inference\"][\"verbose\"]\n",
    "data_set = conf[\"inference\"][\"data_set\"][\"path\"]\n",
    "data_set_name = conf[\"inference\"][\"data_set\"][\"name\"]\n",
    "\n",
    "prop_data_loc = os.path.join(model_loc, f\"{data_set_name}/propagated\")\n",
    "roc_data_loc = os.path.join(model_loc, f\"{data_set_name}/roc\")\n",
    "image_data_loc = os.path.join(model_loc, f\"{data_set_name}/images\")"
   ]
  },
  {
   "cell_type": "code",
   "execution_count": 121,
   "metadata": {},
   "outputs": [
    {
     "name": "stderr",
     "output_type": "stream",
     "text": [
      "  0%|          | 2/1000 [00:00<00:04, 215.75it/s]\n",
      "  0%|          | 1/1000 [00:00<00:05, 196.74it/s]\n"
     ]
    }
   ],
   "source": [
    "pred_coordinates = defaultdict(list)\n",
    "true_coordinates = defaultdict(list)\n",
    "\n",
    "for h_idx in [0, 2]:\n",
    "    \n",
    "    processed_preds = f'{model_loc}/{set_flag}/propagated/pred_{h_idx}_*'\n",
    "    holo_predictions = sorted(glob.glob(processed_preds), key = lambda x: int(x.split(\"_\")[-1].strip(\".npz\")))\n",
    "\n",
    "    true_particles = 0\n",
    "    pred_particles = 0\n",
    "    for k, holo_file in tqdm.tqdm(enumerate(holo_predictions), total = len(holo_predictions)):\n",
    "        \n",
    "        zind = int(holo_file.split(\"_\")[-1].strip(\".npz\"))\n",
    "\n",
    "        # Check if there are any TRUE masks for this z-plane\n",
    "        _array = load_sparse_csr(holo_file.strip(\".npz\").replace(\"pred\", \"true\"))\n",
    "        \n",
    "        if _array.sum() > 0:\n",
    "\n",
    "            arr, n = scipy.ndimage.label(_array.toarray() == 1)\n",
    "            _centroid = scipy.ndimage.find_objects(arr)\n",
    "\n",
    "            for particle in _centroid:\n",
    "                xind = int(np.mean([int(x) for x in str(particle[0]).strip(\"slice(\").strip(\", None)\").split(\", \")]))\n",
    "                yind = int(np.mean([int(x) for x in str(particle[1]).strip(\"slice(\").strip(\", None)\").split(\", \")]))\n",
    "                true_coordinates[h_idx].append([xind,yind,zind])\n",
    "                true_particles += 1\n",
    "\n",
    "        # Check if there are any PREDICTED masks for this z-plane\n",
    "        _array = load_sparse_csr(holo_file.strip(\".npz\"))\n",
    "\n",
    "        if _array.sum() > 0:\n",
    "\n",
    "            arr, n = scipy.ndimage.label(_array.toarray() == 1)\n",
    "            _centroid = scipy.ndimage.find_objects(arr)\n",
    "\n",
    "            for particle in _centroid:\n",
    "                xind = int(np.mean([int(x) for x in str(particle[0]).strip(\"slice(\").strip(\", None)\").split(\", \")]))\n",
    "                yind = int(np.mean([int(x) for x in str(particle[1]).strip(\"slice(\").strip(\", None)\").split(\", \")]))\n",
    "                pred_coordinates[h_idx].append([xind,yind,zind])\n",
    "                pred_particles += 1\n",
    "            \n",
    "    print(h_idx, true_particles, pred_particles)"
   ]
  },
  {
   "cell_type": "code",
   "execution_count": 6,
   "metadata": {},
   "outputs": [],
   "source": [
    "# scale_x = 1.0 # 4872 2.96e-06 4286\n",
    "# scale_y = 1.0 # 3248, #2.96e-06\n",
    "# scale_z = 0.01 # 14072 - 157928 #143.856e-06\n",
    "\n",
    "class Threshold:\n",
    "    \n",
    "    def __init_(self):\n",
    "        self.n = None\n",
    "    \n",
    "    def load_dist_matrix(self, h_idx, coordinates):\n",
    "        \n",
    "        vol = np.array(coordinates[h_idx], dtype = float)\n",
    "        \n",
    "#         vol[:,0] *= scale_x\n",
    "#         vol[:,1] *= scale_y\n",
    "#         vol[:,2] *= scale_z\n",
    "\n",
    "        # just min-max x,y,z to put onto same scale\n",
    "        vol[:, 0] /= 4872\n",
    "        vol[:, 1] /= 3248\n",
    "        vol[:, 2] -= 14072\n",
    "        vol[:, 2] /= 157928\n",
    "\n",
    "        self.dist_matrix = distance_matrix(vol, vol)\n",
    "        self.n = self.dist_matrix.shape[0]\n",
    "    \n",
    "    def search(self, threshold):\n",
    "        results = {}\n",
    "        for label in range(self.n):\n",
    "            # Find experiments at or below the threshold\n",
    "            members = np.where(self.dist_matrix[label] <= threshold)[0]\n",
    "            results[label] = [x for x in members if x != label]\n",
    "        results = sorted([\n",
    "            [len(x), i, x] for (i, x) in results.items()\n",
    "        ])\n",
    "        return results #sorted(results, reverse=True)\n",
    "    \n",
    "    def Cluster(self, threshold):\n",
    "        # Use Leader clustering\n",
    "        true_singletons = []\n",
    "        false_singletons = []\n",
    "        clusters = []\n",
    "        seen = set()\n",
    "        for (size, experiment, members) in self.search(threshold):\n",
    "            if experiment in seen:\n",
    "                # Can't use a centroid which is already assigned\n",
    "                continue\n",
    "            seen.add(experiment)\n",
    "            # Figure out which ones haven't yet been assigned\n",
    "            unassigned = set(members) - seen\n",
    "            if not unassigned:\n",
    "                false_singletons.append(experiment)\n",
    "                continue\n",
    "            # this is a new cluster\n",
    "            clusters.append((experiment, unassigned))\n",
    "            seen.update(unassigned)\n",
    "            \n",
    "        seen = []\n",
    "        for a,b in clusters:\n",
    "            seen.append(a)\n",
    "            for c in b:\n",
    "                if c not in seen:\n",
    "                    seen.append(c)\n",
    "        \n",
    "        not_clustered = set(range(self.n)) - set(seen)\n",
    "        return sorted(clusters, key = lambda x: -len(x[1])), list(not_clustered)"
   ]
  },
  {
   "cell_type": "markdown",
   "metadata": {},
   "source": [
    "### As an example, cluster on just one hologram"
   ]
  },
  {
   "cell_type": "code",
   "execution_count": 53,
   "metadata": {},
   "outputs": [],
   "source": [
    "h_idx = 2"
   ]
  },
  {
   "cell_type": "code",
   "execution_count": 54,
   "metadata": {},
   "outputs": [],
   "source": [
    "t = Threshold()"
   ]
  },
  {
   "cell_type": "code",
   "execution_count": 55,
   "metadata": {},
   "outputs": [],
   "source": [
    "t.load_dist_matrix(h_idx, pred_coordinates)"
   ]
  },
  {
   "cell_type": "code",
   "execution_count": 56,
   "metadata": {},
   "outputs": [
    {
     "name": "stderr",
     "output_type": "stream",
     "text": [
      "100%|██████████| 5000/5000 [03:39<00:00, 22.73it/s]\n"
     ]
    }
   ],
   "source": [
    "thresholds = np.logspace(-3.2, -2, 5000)\n",
    "y1, y2 = [], []\n",
    "\n",
    "for ts in tqdm.tqdm(thresholds):\n",
    "    clusters, unassigned = t.Cluster(ts)\n",
    "    y1.append(len(clusters))\n",
    "    y2.append(len(unassigned))\n",
    "    #print(ts, len(clusters), len(unassigned))\n",
    "y3 = [p1+p2 for p1, p2 in zip(y1, y2)]"
   ]
  },
  {
   "cell_type": "code",
   "execution_count": 57,
   "metadata": {},
   "outputs": [
    {
     "data": {
      "image/png": "[encoded data removed]",
      "text/plain": [
       "<Figure size 432x288 with 1 Axes>"
      ]
     },
     "metadata": {
      "needs_background": "light"
     },
     "output_type": "display_data"
    }
   ],
   "source": [
    "plt.plot(thresholds, y1)\n",
    "plt.plot(thresholds, y2)\n",
    "plt.plot(thresholds, y3)\n",
    "plt.plot(thresholds, [500 for p1 in y1], ls = '--')\n",
    "plt.legend([\"N clusters\", \"N unassigned\", \"Total\", \"N true\"])\n",
    "plt.ylabel(\"Number of particles\")\n",
    "plt.xlabel(\"Distance threshold\") \n",
    "\n",
    "plt.xscale(\"log\")"
   ]
  },
  {
   "cell_type": "code",
   "execution_count": 58,
   "metadata": {},
   "outputs": [
    {
     "data": {
      "text/plain": [
       "486"
      ]
     },
     "execution_count": 58,
     "metadata": {},
     "output_type": "execute_result"
    }
   ],
   "source": [
    "# Find the largest number of clustered particles less the true value\n",
    "total_true_particles = len(true_coordinates[h_idx])\n",
    "\n",
    "min(y3, key=lambda x: abs(x - total_true_particles))"
   ]
  },
  {
   "cell_type": "code",
   "execution_count": 59,
   "metadata": {},
   "outputs": [],
   "source": [
    "which_id = np.where(np.array(y3) == min(y3, key=lambda x: abs(x - total_true_particles)))"
   ]
  },
  {
   "cell_type": "code",
   "execution_count": 60,
   "metadata": {},
   "outputs": [
    {
     "data": {
      "text/plain": [
       "array([0.00193668, 0.00193775, 0.00193882, 0.00193989, 0.00194096,\n",
       "       0.00194204, 0.00194311, 0.00194419, 0.00194526, 0.00194634,\n",
       "       0.00194741, 0.00194849, 0.00194957, 0.00195064, 0.00195172,\n",
       "       0.0019528 , 0.00195388, 0.00195496])"
      ]
     },
     "execution_count": 60,
     "metadata": {},
     "output_type": "execute_result"
    }
   ],
   "source": [
    "thresholds[which_id]"
   ]
  },
  {
   "cell_type": "code",
   "execution_count": 61,
   "metadata": {},
   "outputs": [],
   "source": [
    "clusters, unassigned = t.Cluster(thresholds[which_id][0])"
   ]
  },
  {
   "cell_type": "code",
   "execution_count": 90,
   "metadata": {},
   "outputs": [],
   "source": [
    "clusters, unassigned = t.Cluster(0.0024)"
   ]
  },
  {
   "cell_type": "code",
   "execution_count": 91,
   "metadata": {},
   "outputs": [
    {
     "data": {
      "text/plain": [
       "(382, 90)"
      ]
     },
     "execution_count": 91,
     "metadata": {},
     "output_type": "execute_result"
    }
   ],
   "source": [
    "len(clusters), len(unassigned)"
   ]
  },
  {
   "cell_type": "code",
   "execution_count": 92,
   "metadata": {},
   "outputs": [],
   "source": [
    "centroid, members = clusters[0]"
   ]
  },
  {
   "cell_type": "code",
   "execution_count": 93,
   "metadata": {},
   "outputs": [
    {
     "data": {
      "text/plain": [
       "875"
      ]
     },
     "execution_count": 93,
     "metadata": {},
     "output_type": "execute_result"
    }
   ],
   "source": [
    "centroid"
   ]
  },
  {
   "cell_type": "code",
   "execution_count": 94,
   "metadata": {},
   "outputs": [
    {
     "data": {
      "text/plain": [
       "{876, 877, 878, 879, 880}"
      ]
     },
     "execution_count": 94,
     "metadata": {},
     "output_type": "execute_result"
    }
   ],
   "source": [
    "members"
   ]
  },
  {
   "cell_type": "code",
   "execution_count": 95,
   "metadata": {},
   "outputs": [
    {
     "data": {
      "text/plain": [
       "[2635, 1292, 104935]"
      ]
     },
     "execution_count": 95,
     "metadata": {},
     "output_type": "execute_result"
    }
   ],
   "source": [
    "pred_coordinates[0][centroid]"
   ]
  },
  {
   "cell_type": "code",
   "execution_count": 96,
   "metadata": {},
   "outputs": [
    {
     "data": {
      "text/plain": [
       "[[2648, 3077, 104935],\n",
       " [1097, 1881, 105079],\n",
       " [2635, 1293, 105079],\n",
       " [2650, 3077, 105079],\n",
       " [4528, 499, 105079]]"
      ]
     },
     "execution_count": 96,
     "metadata": {},
     "output_type": "execute_result"
    }
   ],
   "source": [
    "[pred_coordinates[0][xx] for xx in members]"
   ]
  },
  {
   "cell_type": "markdown",
   "metadata": {},
   "source": [
    "### Align the clustered particles against the real ones using distance matrix"
   ]
  },
  {
   "cell_type": "code",
   "execution_count": 97,
   "metadata": {},
   "outputs": [],
   "source": [
    "pred_r_centroids = np.array([pred_coordinates[0][centroid] for centroid, members in clusters]).astype(float)\n",
    "pred_r_not_matched = np.array([pred_coordinates[0][idx] for idx in unassigned]).astype(float)\n",
    "pred_r = np.concatenate([pred_r_centroids, pred_r_not_matched])\n",
    "\n",
    "true_r = np.array(true_coordinates[0]).astype(float)"
   ]
  },
  {
   "cell_type": "code",
   "execution_count": 98,
   "metadata": {},
   "outputs": [],
   "source": [
    "scale_x = 2.96e-06 \n",
    "scale_y = 2.96e-06\n",
    "scale_z = 143.856e-06"
   ]
  },
  {
   "cell_type": "code",
   "execution_count": 99,
   "metadata": {},
   "outputs": [],
   "source": [
    "import math\n",
    "\n",
    "scales = [scale_x, scale_y, scale_z]\n",
    "\n",
    "# Define a distance function between two points\n",
    "def distance(x, y):\n",
    "    return math.sqrt(sum([(scales[i] * x[i] - scales[i] * y[i])**2 for i,_ in enumerate(x)]))\n",
    "\n",
    "# For a point x, loop over candidates and find the closest point y\n",
    "# Use tuples so we can refer to the y value with shortest distance by \n",
    "# sorting over the latter\n",
    "def get_closest(x, B):\n",
    "    distances = ((y, distance(x,y)) for y in B)\n",
    "    closest = sorted(distances, key=lambda x: x[1])[0][0]\n",
    "    return closest\n",
    "\n",
    "# Loop over x points and find each of their closest points\n",
    "# Output results as a list of (x,y) tuples\n",
    "def match_up(A, B):\n",
    "    pairs = [list((x, get_closest(x, B))) for x in A]\n",
    "    return pairs"
   ]
  },
  {
   "cell_type": "code",
   "execution_count": 100,
   "metadata": {},
   "outputs": [],
   "source": [
    "matched = match_up(pred_r, true_r)"
   ]
  },
  {
   "cell_type": "code",
   "execution_count": 101,
   "metadata": {},
   "outputs": [
    {
     "data": {
      "text/plain": [
       "472"
      ]
     },
     "execution_count": 101,
     "metadata": {},
     "output_type": "execute_result"
    }
   ],
   "source": [
    "len([set(list(x[0])) for x in matched])"
   ]
  },
  {
   "cell_type": "code",
   "execution_count": 102,
   "metadata": {},
   "outputs": [
    {
     "data": {
      "text/plain": [
       "323"
      ]
     },
     "execution_count": 102,
     "metadata": {},
     "output_type": "execute_result"
    }
   ],
   "source": [
    "# how many of the true particles were matched uniquely:\n",
    "len(set([str(list(x[1])) for x in matched]))"
   ]
  },
  {
   "cell_type": "code",
   "execution_count": 103,
   "metadata": {},
   "outputs": [],
   "source": [
    "total_error = []\n",
    "for a1, b1 in matched:\n",
    "    error = distance(a1, b1)\n",
    "    total_error.append(np.mean(np.abs(error)))"
   ]
  },
  {
   "cell_type": "code",
   "execution_count": 104,
   "metadata": {},
   "outputs": [
    {
     "data": {
      "text/plain": [
       "0.00985850864860816"
      ]
     },
     "execution_count": 104,
     "metadata": {},
     "output_type": "execute_result"
    }
   ],
   "source": [
    "np.mean(total_error)"
   ]
  },
  {
   "cell_type": "markdown",
   "metadata": {},
   "source": [
    "### Compute without duplication"
   ]
  },
  {
   "cell_type": "code",
   "execution_count": 105,
   "metadata": {},
   "outputs": [
    {
     "name": "stderr",
     "output_type": "stream",
     "text": [
      "472it [00:03, 131.79it/s]\n"
     ]
    }
   ],
   "source": [
    "# compute the distance matrix b/t the two datasets --> pandas df\n",
    "result_dict = defaultdict(list)\n",
    "for k1, x in tqdm.tqdm(enumerate(pred_r)):\n",
    "    for k2, y in enumerate(true_r):        \n",
    "        error = distance(x, y) \n",
    "        result_dict[\"pred_id\"].append(k1)\n",
    "        result_dict[\"true_id\"].append(k2)\n",
    "        result_dict[\"error\"].append(np.mean(np.abs(error)))   \n",
    "        \n",
    "df = pd.DataFrame(result_dict)"
   ]
  },
  {
   "cell_type": "code",
   "execution_count": 153,
   "metadata": {},
   "outputs": [],
   "source": [
    "pred_seen = []\n",
    "true_seen = []\n",
    "error = []\n",
    "\n",
    "while True:\n",
    "    \n",
    "    c1 = df[\"true_id\"].isin(true_seen)\n",
    "    c2 = df[\"pred_id\"].isin(pred_seen)\n",
    "    c = c1 | c2\n",
    "    \n",
    "    if c.sum() == df.shape[0]:\n",
    "        break\n",
    "    \n",
    "    smallest_error = df[~c][\"error\"] == min(df[~c][\"error\"])\n",
    "    true_id = list(df[~c][smallest_error][\"true_id\"])[0]\n",
    "    pred_id = list(df[~c][smallest_error][\"pred_id\"])[0]\n",
    "    pred_seen.append(pred_id)\n",
    "    true_seen.append(true_id)\n",
    "    error.append(list(df[~c][smallest_error][\"error\"])[0])"
   ]
  },
  {
   "cell_type": "code",
   "execution_count": 154,
   "metadata": {},
   "outputs": [
    {
     "data": {
      "text/plain": [
       "[<matplotlib.lines.Line2D at 0x2b367463c410>]"
      ]
     },
     "execution_count": 154,
     "metadata": {},
     "output_type": "execute_result"
    },
    {
     "data": {
      "image/png": "[encoded data removed]",
      "text/plain": [
       "<Figure size 432x288 with 1 Axes>"
      ]
     },
     "metadata": {
      "needs_background": "light"
     },
     "output_type": "display_data"
    }
   ],
   "source": [
    "plt.plot(range(len(error)), error)"
   ]
  },
  {
   "cell_type": "code",
   "execution_count": 155,
   "metadata": {},
   "outputs": [
    {
     "data": {
      "text/plain": [
       "0.8973932025308197"
      ]
     },
     "execution_count": 155,
     "metadata": {},
     "output_type": "execute_result"
    }
   ],
   "source": [
    "np.mean([x for x in error])"
   ]
  }
 ],
 "metadata": {
  "kernelspec": {
   "display_name": "py37",
   "language": "python",
   "name": "py37"
  },
  "language_info": {
   "codemirror_mode": {
    "name": "ipython",
    "version": 3
   },
   "file_extension": ".py",
   "mimetype": "text/x-python",
   "name": "python",
   "nbconvert_exporter": "python",
   "pygments_lexer": "ipython3",
   "version": "3.7.5"
  }
 },
 "nbformat": 4,
 "nbformat_minor": 4
}
