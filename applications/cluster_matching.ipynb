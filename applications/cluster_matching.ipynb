{
 "cells": [
  {
   "cell_type": "code",
   "execution_count": 1,
   "metadata": {},
   "outputs": [],
   "source": [
    "import warnings\n",
    "warnings.filterwarnings(\"ignore\")\n",
    "\n",
    "import sys \n",
    "sys.path.append(\"/glade/work/schreck/repos/HOLO/clean/holodec-ml\")\n",
    "from holodecml.data import *\n",
    "from holodecml.losses import *\n",
    "from holodecml.models import *\n",
    "from holodecml.metrics import *\n",
    "from holodecml.transforms import *\n",
    "from holodecml.propagation import *\n",
    "\n",
    "import os\n",
    "import glob\n",
    "import tqdm\n",
    "import time\n",
    "import yaml\n",
    "import scipy\n",
    "import torch\n",
    "import shutil\n",
    "import pickle\n",
    "import joblib\n",
    "import random\n",
    "import sklearn\n",
    "import logging\n",
    "import datetime\n",
    "import matplotlib\n",
    "\n",
    "import torch.fft\n",
    "import torchvision\n",
    "import torchvision.models as models\n",
    "\n",
    "import numpy as np\n",
    "import pandas as pd\n",
    "import xarray as xr\n",
    "import torch.nn.functional as F\n",
    "import matplotlib.pyplot as plt\n",
    "\n",
    "from torch import nn\n",
    "from collections import defaultdict\n",
    "from scipy.signal import convolve2d\n",
    "from torch.optim.lr_scheduler import *\n",
    "from sklearn.model_selection import train_test_split\n",
    "from torch.utils.data import Dataset, DataLoader, TensorDataset\n",
    "from typing import List, Dict, Callable, Union, Any, TypeVar, Tuple\n",
    "\n",
    "from colour import Color\n",
    "import multiprocessing as mp\n",
    "from functools import partial\n",
    "\n",
    "from mpl_toolkits.axes_grid1.inset_locator import zoomed_inset_axes, mark_inset\n",
    "from scipy.spatial import distance_matrix"
   ]
  },
  {
   "cell_type": "code",
   "execution_count": 2,
   "metadata": {},
   "outputs": [],
   "source": [
    "path = \"/glade/work/schreck/repos/HOLO/clean/holodec-ml/results/manopt\"\n",
    "config = f'{path}/model.yml'\n",
    "\n",
    "with open(config) as cf:\n",
    "    conf = yaml.load(cf, Loader=yaml.FullLoader)"
   ]
  },
  {
   "cell_type": "code",
   "execution_count": 3,
   "metadata": {},
   "outputs": [],
   "source": [
    "test_synthetic_data = '/glade/p/cisl/aiml/ai4ess_hackathon/holodec/synthetic_holograms_500particle_gamma_4872x3248_test.nc'\n",
    "test_real_data = '/glade/p/cisl/aiml/ai4ess_hackathon/holodec/real_holograms_CSET_RF07_20150719_200000-210000.nc'\n",
    "\n",
    "dataset = test_synthetic_data\n",
    "\n",
    "if dataset == test_real_data:\n",
    "    set_flag = \"real_10_20\"\n",
    "else:\n",
    "    set_flag = \"synthetic\""
   ]
  },
  {
   "cell_type": "code",
   "execution_count": 4,
   "metadata": {},
   "outputs": [],
   "source": [
    "n_nodes = conf[\"inference\"][\"n_nodes\"]\n",
    "n_gpus = conf[\"inference\"][\"gpus_per_node\"]\n",
    "threads_per_gpu = conf[\"inference\"][\"threads_per_gpu\"]\n",
    "workers = int(n_nodes * n_gpus * threads_per_gpu)\n",
    "\n",
    "save_arrays = conf[\"inference\"][\"save_arrays\"]\n",
    "plot = conf[\"inference\"][\"plot\"]\n",
    "\n",
    "n_bins = conf[\"data\"][\"n_bins\"]\n",
    "tile_size = conf[\"data\"][\"tile_size\"]\n",
    "step_size = conf[\"data\"][\"step_size\"]\n",
    "marker_size = conf[\"data\"][\"marker_size\"]\n",
    "data_path = conf[\"data\"][\"data_path\"]\n",
    "raw_path = conf[\"data\"][\"raw_data\"]\n",
    "transform_mode = \"None\" if \"transform_mode\" not in conf[\"data\"] else conf[\"data\"][\"transform_mode\"]\n",
    "\n",
    "model_loc = conf[\"save_loc\"]\n",
    "model_name = conf[\"model\"][\"name\"]\n",
    "color_dim = conf[\"model\"][\"in_channels\"]\n",
    "\n",
    "batch_size = conf[\"inference\"][\"batch_size\"]\n",
    "save_arrays = conf[\"inference\"][\"save_arrays\"]\n",
    "save_prob = conf[\"inference\"][\"save_probs\"]\n",
    "inference_mode = conf[\"inference\"][\"mode\"]\n",
    "probability_threshold = conf[\"inference\"][\"probability_threshold\"]\n",
    "\n",
    "plot = conf[\"inference\"][\"plot\"]\n",
    "verbose = conf[\"inference\"][\"verbose\"]\n",
    "data_set = conf[\"inference\"][\"data_set\"][\"path\"]\n",
    "data_set_name = conf[\"inference\"][\"data_set\"][\"name\"]\n",
    "\n",
    "prop_data_loc = os.path.join(model_loc, f\"{data_set_name}/propagated\")\n",
    "roc_data_loc = os.path.join(model_loc, f\"{data_set_name}/roc\")\n",
    "image_data_loc = os.path.join(model_loc, f\"{data_set_name}/images\")"
   ]
  },
  {
   "cell_type": "code",
   "execution_count": 525,
   "metadata": {},
   "outputs": [],
   "source": [
    "pred_coordinates = defaultdict(list)\n",
    "true_coordinates = defaultdict(list)\n",
    "\n",
    "for h_idx in list(range(10)):\n",
    "    \n",
    "    processed_preds = f'{model_loc}/{set_flag}/propagated/pred_{h_idx}_*'\n",
    "    holo_predictions = sorted(glob.glob(processed_preds), key = lambda x: int(x.split(\"_\")[-1].strip(\".npz\")))\n",
    "\n",
    "    true_particles = 0\n",
    "    pred_particles = 0\n",
    "    for k, holo_file in tqdm.tqdm(enumerate(holo_predictions), total = len(holo_predictions)):\n",
    "        \n",
    "        zind = int(holo_file.split(\"_\")[-1].strip(\".npz\"))\n",
    "\n",
    "        # Check if there are any TRUE masks for this z-plane\n",
    "        _array = load_sparse_csr(holo_file.strip(\".npz\").replace(\"pred\", \"true\"))\n",
    "        \n",
    "        if _array.sum() > 0:\n",
    "\n",
    "            arr, n = scipy.ndimage.label(_array.toarray() == 1)\n",
    "            _centroid = scipy.ndimage.find_objects(arr)\n",
    "\n",
    "            for particle in _centroid:\n",
    "                xind = int(np.mean([int(x) for x in str(particle[0]).strip(\"slice(\").strip(\", None)\").split(\", \")]))\n",
    "                yind = int(np.mean([int(x) for x in str(particle[1]).strip(\"slice(\").strip(\", None)\").split(\", \")]))\n",
    "                true_coordinates[h_idx].append([xind,yind,zind])\n",
    "                true_particles += 1\n",
    "\n",
    "        # Check if there are any PREDICTED masks for this z-plane\n",
    "        _array = load_sparse_csr(holo_file.strip(\".npz\"))\n",
    "\n",
    "        if _array.sum() > 0:\n",
    "\n",
    "            arr, n = scipy.ndimage.label(_array.toarray() == 1)\n",
    "            _centroid = scipy.ndimage.find_objects(arr)\n",
    "\n",
    "            for particle in _centroid:\n",
    "                xind = int(np.mean([int(x) for x in str(particle[0]).strip(\"slice(\").strip(\", None)\").split(\", \")]))\n",
    "                yind = int(np.mean([int(x) for x in str(particle[1]).strip(\"slice(\").strip(\", None)\").split(\", \")]))\n",
    "                pred_coordinates[h_idx].append([xind,yind,zind])\n",
    "                pred_particles += 1\n",
    "            \n",
    "    print(h_idx, true_particles, pred_particles)"
   ]
  },
  {
   "cell_type": "code",
   "execution_count": 526,
   "metadata": {},
   "outputs": [],
   "source": [
    "# scale_x = 1.0 # 4872 2.96e-06 4286\n",
    "# scale_y = 1.0 # 3248, #2.96e-06\n",
    "# scale_z = 0.01 # 14072 - 157928 #143.856e-06\n",
    "\n",
    "class Threshold:\n",
    "    \n",
    "    def __init_(self):\n",
    "        self.n = None\n",
    "    \n",
    "    def load_dist_matrix(self, h_idx, coordinates):\n",
    "        \n",
    "        vol = np.array(coordinates[h_idx], dtype = float)\n",
    "        \n",
    "#         vol[:,0] *= scale_x\n",
    "#         vol[:,1] *= scale_y\n",
    "#         vol[:,2] *= scale_z\n",
    "\n",
    "        # just min-max x,y,z to put onto same scale\n",
    "        vol[:, 0] /= 4872\n",
    "        vol[:, 1] /= 3248\n",
    "        vol[:, 2] -= 14072\n",
    "        vol[:, 2] /= 157928\n",
    "\n",
    "        self.dist_matrix = distance_matrix(vol, vol)\n",
    "        self.n = self.dist_matrix.shape[0]\n",
    "    \n",
    "    def search(self, threshold):\n",
    "        results = {}\n",
    "        for label in range(self.n):\n",
    "            # Find experiments at or below the threshold\n",
    "            members = np.where(self.dist_matrix[label] <= threshold)[0]\n",
    "            results[label] = [x for x in members if x != label]\n",
    "        results = sorted([\n",
    "            [len(x), i, x] for (i, x) in results.items()\n",
    "        ])\n",
    "        return results #sorted(results, reverse=True)\n",
    "    \n",
    "    def Cluster(self, threshold):\n",
    "        # Use Leader clustering\n",
    "        true_singletons = []\n",
    "        false_singletons = []\n",
    "        clusters = []\n",
    "        seen = set()\n",
    "        for (size, experiment, members) in self.search(threshold):\n",
    "            if experiment in seen:\n",
    "                # Can't use a centroid which is already assigned\n",
    "                continue\n",
    "            seen.add(experiment)\n",
    "            # Figure out which ones haven't yet been assigned\n",
    "            unassigned = set(members) - seen\n",
    "            if not unassigned:\n",
    "                false_singletons.append(experiment)\n",
    "                continue\n",
    "            # this is a new cluster\n",
    "            clusters.append((experiment, unassigned))\n",
    "            seen.update(unassigned)\n",
    "        not_clustered = set(range(self.n)) - set([y for x in clusters for y in x[1]])\n",
    "        return sorted(clusters, key = lambda x: -len(x[1])), list(not_clustered)"
   ]
  },
  {
   "cell_type": "markdown",
   "metadata": {},
   "source": [
    "### As an example, cluster on just one hologram"
   ]
  },
  {
   "cell_type": "code",
   "execution_count": 527,
   "metadata": {},
   "outputs": [],
   "source": [
    "h_idx = 0"
   ]
  },
  {
   "cell_type": "code",
   "execution_count": 528,
   "metadata": {},
   "outputs": [],
   "source": [
    "t = Threshold()"
   ]
  },
  {
   "cell_type": "code",
   "execution_count": 529,
   "metadata": {},
   "outputs": [],
   "source": [
    "t.load_dist_matrix(h_idx, pred_coordinates)"
   ]
  },
  {
   "cell_type": "code",
   "execution_count": 554,
   "metadata": {},
   "outputs": [
    {
     "name": "stderr",
     "output_type": "stream",
     "text": [
      "100%|██████████| 1000/1000 [00:10<00:00, 91.40it/s]\n"
     ]
    }
   ],
   "source": [
    "thresholds = np.logspace(-3.2, -2.5, 1000)\n",
    "y1, y2 = [], []\n",
    "\n",
    "for ts in tqdm.tqdm(thresholds):\n",
    "    clusters, unassigned = t.Cluster(ts)\n",
    "    y1.append(len(clusters))\n",
    "    y2.append(len(unassigned))\n",
    "    #print(ts, len(clusters), len(unassigned))"
   ]
  },
  {
   "cell_type": "code",
   "execution_count": 555,
   "metadata": {},
   "outputs": [
    {
     "data": {
      "image/png": "[encoded data removed]",
      "text/plain": [
       "<Figure size 432x288 with 1 Axes>"
      ]
     },
     "metadata": {
      "needs_background": "light"
     },
     "output_type": "display_data"
    }
   ],
   "source": [
    "plt.plot(thresholds, y1)\n",
    "plt.plot(thresholds, y2)\n",
    "plt.plot(thresholds, [p1+p2 for p1, p2 in zip(y1, y2)])\n",
    "plt.plot(thresholds, [500 for p1 in x], ls = '--')\n",
    "plt.legend([\"N clusters\", \"N unassigned\", \"Total\", \"N true\"])\n",
    "plt.ylabel(\"Number of particles\")\n",
    "plt.xlabel(\"Distance threshold\") \n",
    "\n",
    "plt.xscale(\"log\")"
   ]
  },
  {
   "cell_type": "code",
   "execution_count": 556,
   "metadata": {},
   "outputs": [],
   "source": [
    "#set(y1)"
   ]
  },
  {
   "cell_type": "code",
   "execution_count": 557,
   "metadata": {},
   "outputs": [
    {
     "data": {
      "text/plain": [
       "499"
      ]
     },
     "execution_count": 557,
     "metadata": {},
     "output_type": "execute_result"
    }
   ],
   "source": [
    "# Find the largest number of clustered particles less the true value\n",
    "total_true_particles = len(true_coordinates[h_idx])\n",
    "\n",
    "min(y1, key=lambda x: abs(x - total_true_particles))"
   ]
  },
  {
   "cell_type": "code",
   "execution_count": 562,
   "metadata": {},
   "outputs": [],
   "source": [
    "which_id = np.where(np.array(y1) == 499)"
   ]
  },
  {
   "cell_type": "code",
   "execution_count": 563,
   "metadata": {},
   "outputs": [
    {
     "data": {
      "text/plain": [
       "array([0.00185682])"
      ]
     },
     "execution_count": 563,
     "metadata": {},
     "output_type": "execute_result"
    }
   ],
   "source": [
    "thresholds[which_id]"
   ]
  },
  {
   "cell_type": "code",
   "execution_count": 564,
   "metadata": {},
   "outputs": [],
   "source": [
    "clusters, unassigned = t.Cluster(thresholds[which_id][0])"
   ]
  },
  {
   "cell_type": "code",
   "execution_count": 565,
   "metadata": {},
   "outputs": [
    {
     "data": {
      "text/plain": [
       "499"
      ]
     },
     "execution_count": 565,
     "metadata": {},
     "output_type": "execute_result"
    }
   ],
   "source": [
    "len(clusters)"
   ]
  },
  {
   "cell_type": "code",
   "execution_count": 566,
   "metadata": {},
   "outputs": [],
   "source": [
    "centroid, members = clusters[0]"
   ]
  },
  {
   "cell_type": "code",
   "execution_count": 567,
   "metadata": {},
   "outputs": [
    {
     "data": {
      "text/plain": [
       "1092"
      ]
     },
     "execution_count": 567,
     "metadata": {},
     "output_type": "execute_result"
    }
   ],
   "source": [
    "centroid"
   ]
  },
  {
   "cell_type": "code",
   "execution_count": 568,
   "metadata": {},
   "outputs": [
    {
     "data": {
      "text/plain": [
       "{1093, 1094, 1095, 1096}"
      ]
     },
     "execution_count": 568,
     "metadata": {},
     "output_type": "execute_result"
    }
   ],
   "source": [
    "members"
   ]
  },
  {
   "cell_type": "code",
   "execution_count": 569,
   "metadata": {},
   "outputs": [
    {
     "data": {
      "text/plain": [
       "[1566, 74, 130855]"
      ]
     },
     "execution_count": 569,
     "metadata": {},
     "output_type": "execute_result"
    }
   ],
   "source": [
    "pred_coordinates[0][centroid]"
   ]
  },
  {
   "cell_type": "code",
   "execution_count": 570,
   "metadata": {},
   "outputs": [
    {
     "data": {
      "text/plain": [
       "[[1572, 71, 130855],\n",
       " [1570, 69, 130855],\n",
       " [1570, 71, 130855],\n",
       " [1571, 72, 130855]]"
      ]
     },
     "execution_count": 570,
     "metadata": {},
     "output_type": "execute_result"
    }
   ],
   "source": [
    "[pred_coordinates[0][xx] for xx in members]"
   ]
  },
  {
   "cell_type": "code",
   "execution_count": 571,
   "metadata": {},
   "outputs": [],
   "source": [
    "#coordinates"
   ]
  },
  {
   "cell_type": "markdown",
   "metadata": {},
   "source": [
    "### Align the clustered particles against the real ones using distance matrix"
   ]
  },
  {
   "cell_type": "code",
   "execution_count": 589,
   "metadata": {},
   "outputs": [],
   "source": [
    "pred_r = np.array([pred_coordinates[0][centroid] for centroid, members in clusters]).astype(float)\n",
    "true_r = np.array(true_coordinates[0]).astype(float)"
   ]
  },
  {
   "cell_type": "code",
   "execution_count": 590,
   "metadata": {},
   "outputs": [],
   "source": [
    "import math\n",
    "\n",
    "# Define a distance function between two points\n",
    "def distance(x, y):\n",
    "    return math.sqrt(sum([(x[i] - y[i])**2 for i,_ in enumerate(x)]))\n",
    "\n",
    "# For a point x, loop over candidates and find the closest point y\n",
    "# Use tuples so we can refer to the y value with shortest distance by \n",
    "# sorting over the latter\n",
    "def get_closest(x, B):\n",
    "    distances = ((y, distance(x,y)) for y in B)\n",
    "    closest = sorted(distances, key=lambda x: x[1])[0][0]\n",
    "    return closest\n",
    "\n",
    "# Loop over x points and find each of their closest points\n",
    "# Output results as a list of (x,y) tuples\n",
    "def match_up(A, B):\n",
    "    pairs = [list((x, get_closest(x, B))) for x in A]\n",
    "    return pairs"
   ]
  },
  {
   "cell_type": "code",
   "execution_count": 591,
   "metadata": {},
   "outputs": [],
   "source": [
    "matched = match_up(pred_r, true_r)"
   ]
  },
  {
   "cell_type": "code",
   "execution_count": 592,
   "metadata": {},
   "outputs": [
    {
     "data": {
      "text/plain": [
       "499"
      ]
     },
     "execution_count": 592,
     "metadata": {},
     "output_type": "execute_result"
    }
   ],
   "source": [
    "len([set(list(x[0])) for x in matched])"
   ]
  },
  {
   "cell_type": "code",
   "execution_count": 593,
   "metadata": {},
   "outputs": [
    {
     "data": {
      "text/plain": [
       "454"
      ]
     },
     "execution_count": 593,
     "metadata": {},
     "output_type": "execute_result"
    }
   ],
   "source": [
    "# how many of the true particles were matched uniquely:\n",
    "len(set([str(list(x[1])) for x in matched]))"
   ]
  },
  {
   "cell_type": "code",
   "execution_count": null,
   "metadata": {},
   "outputs": [],
   "source": [
    "# lets try without duplication"
   ]
  },
  {
   "cell_type": "code",
   "execution_count": 609,
   "metadata": {},
   "outputs": [],
   "source": [
    "scale_x = 2.96e-06 # 4872 2.96e-06 4286\n",
    "scale_y = 2.96e-06 # 3248, #2.96e-06\n",
    "scale_z = 143.856e-06 # 14072 - 157928 #143.856e-06\n",
    "\n",
    "# find the best pair\n",
    "best = 1e10\n",
    "last_best = 1e10\n",
    "\n",
    "for k, x in enumerate(pred_r):\n",
    "    \n",
    "    result = get_closest(x, true_r)\n",
    "    error = (x - result)\n",
    "    \n",
    "    error[0] *= scale_x\n",
    "    error[1] *= scale_y\n",
    "    error[2] *= scale_z\n",
    "    \n",
    "    best = min(np.mean(np.abs(error)), best)\n",
    "    if best < last_best:\n",
    "        last_best = best\n",
    "        K = k\n",
    "        \n",
    "# Remove the matched partices\n",
    "# Repeat"
   ]
  },
  {
   "cell_type": "code",
   "execution_count": null,
   "metadata": {},
   "outputs": [],
   "source": []
  }
 ],
 "metadata": {
  "kernelspec": {
   "display_name": "py37",
   "language": "python",
   "name": "py37"
  },
  "language_info": {
   "codemirror_mode": {
    "name": "ipython",
    "version": 3
   },
   "file_extension": ".py",
   "mimetype": "text/x-python",
   "name": "python",
   "nbconvert_exporter": "python",
   "pygments_lexer": "ipython3",
   "version": "3.7.5"
  }
 },
 "nbformat": 4,
 "nbformat_minor": 4
}
