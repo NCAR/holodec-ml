{
 "cells": [
  {
   "cell_type": "code",
   "execution_count": 16,
   "id": "864847a2-0f92-44b8-829f-c1ac8c494afc",
   "metadata": {},
   "outputs": [],
   "source": [
    "import pandas as pd\n",
    "import matplotlib as mpl\n",
    "import seaborn as sns"
   ]
  },
  {
   "cell_type": "code",
   "execution_count": 17,
   "id": "81db8930-dd29-48d7-ac48-c2b82bb54aab",
   "metadata": {},
   "outputs": [
    {
     "data": {
      "text/html": [
       "<div>\n",
       "<style scoped>\n",
       "    .dataframe tbody tr th:only-of-type {\n",
       "        vertical-align: middle;\n",
       "    }\n",
       "\n",
       "    .dataframe tbody tr th {\n",
       "        vertical-align: top;\n",
       "    }\n",
       "\n",
       "    .dataframe thead th {\n",
       "        text-align: right;\n",
       "    }\n",
       "</style>\n",
       "<table border=\"1\" class=\"dataframe\">\n",
       "  <thead>\n",
       "    <tr style=\"text-align: right;\">\n",
       "      <th></th>\n",
       "      <th>train_loss</th>\n",
       "      <th>valid_loss</th>\n",
       "      <th>mask_train_loss</th>\n",
       "      <th>mask_test_loss</th>\n",
       "      <th>learning_rate</th>\n",
       "    </tr>\n",
       "    <tr>\n",
       "      <th>epoch</th>\n",
       "      <th></th>\n",
       "      <th></th>\n",
       "      <th></th>\n",
       "      <th></th>\n",
       "      <th></th>\n",
       "    </tr>\n",
       "  </thead>\n",
       "  <tbody>\n",
       "    <tr>\n",
       "      <th>0</th>\n",
       "      <td>0.999161</td>\n",
       "      <td>0.995193</td>\n",
       "      <td>0.999856</td>\n",
       "      <td>0.989239</td>\n",
       "      <td>1.410565e-07</td>\n",
       "    </tr>\n",
       "    <tr>\n",
       "      <th>1</th>\n",
       "      <td>0.443561</td>\n",
       "      <td>0.330300</td>\n",
       "      <td>0.000024</td>\n",
       "      <td>0.998700</td>\n",
       "      <td>1.410565e-07</td>\n",
       "    </tr>\n",
       "    <tr>\n",
       "      <th>2</th>\n",
       "      <td>0.119167</td>\n",
       "      <td>0.330311</td>\n",
       "      <td>0.000054</td>\n",
       "      <td>0.998700</td>\n",
       "      <td>1.410565e-07</td>\n",
       "    </tr>\n",
       "    <tr>\n",
       "      <th>3</th>\n",
       "      <td>0.113753</td>\n",
       "      <td>0.330301</td>\n",
       "      <td>0.000020</td>\n",
       "      <td>0.998700</td>\n",
       "      <td>1.410565e-07</td>\n",
       "    </tr>\n",
       "    <tr>\n",
       "      <th>4</th>\n",
       "      <td>0.103091</td>\n",
       "      <td>0.330296</td>\n",
       "      <td>0.000026</td>\n",
       "      <td>0.998700</td>\n",
       "      <td>1.410565e-07</td>\n",
       "    </tr>\n",
       "  </tbody>\n",
       "</table>\n",
       "</div>"
      ],
      "text/plain": [
       "       train_loss  valid_loss  mask_train_loss  mask_test_loss  learning_rate\n",
       "epoch                                                                        \n",
       "0        0.999161    0.995193         0.999856        0.989239   1.410565e-07\n",
       "1        0.443561    0.330300         0.000024        0.998700   1.410565e-07\n",
       "2        0.119167    0.330311         0.000054        0.998700   1.410565e-07\n",
       "3        0.113753    0.330301         0.000020        0.998700   1.410565e-07\n",
       "4        0.103091    0.330296         0.000026        0.998700   1.410565e-07"
      ]
     },
     "execution_count": 17,
     "metadata": {},
     "output_type": "execute_result"
    }
   ],
   "source": [
    "performance_data = pd.read_csv(\"../results/batch4/training_log.csv\").set_index(\"epoch\").drop(\"index\", axis = 1)\n",
    "performance_data.head()"
   ]
  },
  {
   "cell_type": "code",
   "execution_count": 18,
   "id": "d2d4d7fe-03d5-4805-9662-ff3ba7850cab",
   "metadata": {},
   "outputs": [
    {
     "data": {
      "text/plain": [
       "[Text(0, 0.5, 'loss')]"
      ]
     },
     "execution_count": 18,
     "metadata": {},
     "output_type": "execute_result"
    },
    {
     "data": {
      "image/png": "[encoded data removed]",
      "text/plain": [
       "<Figure size 640x480 with 1 Axes>"
      ]
     },
     "metadata": {},
     "output_type": "display_data"
    }
   ],
   "source": [
    "sns.lineplot(data = performance_data[[\"train_loss\", \"valid_loss\"]]).set(ylabel = \"loss\")"
   ]
  },
  {
   "cell_type": "code",
   "execution_count": null,
   "id": "6b7eba76-7bfd-40e9-8d15-a1826aa824f4",
   "metadata": {},
   "outputs": [],
   "source": []
  },
  {
   "cell_type": "code",
   "execution_count": null,
   "id": "3e133c52-c956-4e3f-bafc-aa975332006f",
   "metadata": {},
   "outputs": [],
   "source": []
  }
 ],
 "metadata": {
  "kernelspec": {
   "display_name": "holodec",
   "language": "python",
   "name": "holodec"
  },
  "language_info": {
   "codemirror_mode": {
    "name": "ipython",
    "version": 3
   },
   "file_extension": ".py",
   "mimetype": "text/x-python",
   "name": "python",
   "nbconvert_exporter": "python",
   "pygments_lexer": "ipython3",
   "version": "3.8.16"
  }
 },
 "nbformat": 4,
 "nbformat_minor": 5
}
