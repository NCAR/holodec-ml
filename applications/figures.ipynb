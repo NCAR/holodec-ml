{
 "cells": [
  {
   "cell_type": "code",
   "execution_count": 1,
   "id": "864847a2-0f92-44b8-829f-c1ac8c494afc",
   "metadata": {},
   "outputs": [],
   "source": [
    "import pandas as pd\n",
    "import matplotlib as mpl\n",
    "import seaborn as sns\n",
    "import torch"
   ]
  },
  {
   "cell_type": "code",
   "execution_count": 2,
   "id": "81db8930-dd29-48d7-ac48-c2b82bb54aab",
   "metadata": {},
   "outputs": [
    {
     "data": {
      "text/html": [
       "<div>\n",
       "<style scoped>\n",
       "    .dataframe tbody tr th:only-of-type {\n",
       "        vertical-align: middle;\n",
       "    }\n",
       "\n",
       "    .dataframe tbody tr th {\n",
       "        vertical-align: top;\n",
       "    }\n",
       "\n",
       "    .dataframe thead th {\n",
       "        text-align: right;\n",
       "    }\n",
       "</style>\n",
       "<table border=\"1\" class=\"dataframe\">\n",
       "  <thead>\n",
       "    <tr style=\"text-align: right;\">\n",
       "      <th></th>\n",
       "      <th>train_loss</th>\n",
       "      <th>valid_loss</th>\n",
       "      <th>mask_train_loss</th>\n",
       "      <th>mask_test_loss</th>\n",
       "      <th>learning_rate</th>\n",
       "      <th>training_truepr</th>\n",
       "      <th>test_truepr</th>\n",
       "    </tr>\n",
       "    <tr>\n",
       "      <th>epoch</th>\n",
       "      <th></th>\n",
       "      <th></th>\n",
       "      <th></th>\n",
       "      <th></th>\n",
       "      <th></th>\n",
       "      <th></th>\n",
       "      <th></th>\n",
       "    </tr>\n",
       "  </thead>\n",
       "  <tbody>\n",
       "    <tr>\n",
       "      <th>0</th>\n",
       "      <td>0.700476</td>\n",
       "      <td>0.068962</td>\n",
       "      <td>0.700476</td>\n",
       "      <td>0.068962</td>\n",
       "      <td>1.410565e-07</td>\n",
       "      <td>1.0</td>\n",
       "      <td>1.0</td>\n",
       "    </tr>\n",
       "    <tr>\n",
       "      <th>1</th>\n",
       "      <td>0.043280</td>\n",
       "      <td>0.037134</td>\n",
       "      <td>0.043280</td>\n",
       "      <td>0.037134</td>\n",
       "      <td>1.410565e-07</td>\n",
       "      <td>1.0</td>\n",
       "      <td>1.0</td>\n",
       "    </tr>\n",
       "    <tr>\n",
       "      <th>2</th>\n",
       "      <td>0.020484</td>\n",
       "      <td>0.036352</td>\n",
       "      <td>0.020484</td>\n",
       "      <td>0.036352</td>\n",
       "      <td>1.410565e-07</td>\n",
       "      <td>1.0</td>\n",
       "      <td>1.0</td>\n",
       "    </tr>\n",
       "    <tr>\n",
       "      <th>3</th>\n",
       "      <td>0.010353</td>\n",
       "      <td>0.036050</td>\n",
       "      <td>0.010353</td>\n",
       "      <td>0.036050</td>\n",
       "      <td>1.410565e-07</td>\n",
       "      <td>1.0</td>\n",
       "      <td>1.0</td>\n",
       "    </tr>\n",
       "    <tr>\n",
       "      <th>4</th>\n",
       "      <td>0.020085</td>\n",
       "      <td>0.035907</td>\n",
       "      <td>0.020085</td>\n",
       "      <td>0.035907</td>\n",
       "      <td>1.410565e-07</td>\n",
       "      <td>1.0</td>\n",
       "      <td>1.0</td>\n",
       "    </tr>\n",
       "  </tbody>\n",
       "</table>\n",
       "</div>"
      ],
      "text/plain": [
       "       train_loss  valid_loss  mask_train_loss  mask_test_loss  learning_rate  \\\n",
       "epoch                                                                           \n",
       "0        0.700476    0.068962         0.700476        0.068962   1.410565e-07   \n",
       "1        0.043280    0.037134         0.043280        0.037134   1.410565e-07   \n",
       "2        0.020484    0.036352         0.020484        0.036352   1.410565e-07   \n",
       "3        0.010353    0.036050         0.010353        0.036050   1.410565e-07   \n",
       "4        0.020085    0.035907         0.020085        0.035907   1.410565e-07   \n",
       "\n",
       "       training_truepr  test_truepr  \n",
       "epoch                                \n",
       "0                  1.0          1.0  \n",
       "1                  1.0          1.0  \n",
       "2                  1.0          1.0  \n",
       "3                  1.0          1.0  \n",
       "4                  1.0          1.0  "
      ]
     },
     "execution_count": 2,
     "metadata": {},
     "output_type": "execute_result"
    }
   ],
   "source": [
    "performance_data = pd.read_csv(\"../results/batch7/training_log.csv\").set_index(\"epoch\").drop(\"index\", axis = 1)\n",
    "performance_data.head()"
   ]
  },
  {
   "cell_type": "code",
   "execution_count": 3,
   "id": "d2d4d7fe-03d5-4805-9662-ff3ba7850cab",
   "metadata": {},
   "outputs": [
    {
     "data": {
      "text/plain": [
       "[Text(0, 0.5, 'loss')]"
      ]
     },
     "execution_count": 3,
     "metadata": {},
     "output_type": "execute_result"
    },
    {
     "data": {
      "image/png": "[encoded data removed]",
      "text/plain": [
       "<Figure size 640x480 with 1 Axes>"
      ]
     },
     "metadata": {},
     "output_type": "display_data"
    }
   ],
   "source": [
    "sns.lineplot(data = performance_data[[\"train_loss\", \"valid_loss\"]]).set(ylabel = \"loss\")"
   ]
  },
  {
   "cell_type": "code",
   "execution_count": 4,
   "id": "6b7eba76-7bfd-40e9-8d15-a1826aa824f4",
   "metadata": {},
   "outputs": [],
   "source": [
    "model = torch.load(\"../results/batch1/best.pt\")"
   ]
  },
  {
   "cell_type": "code",
   "execution_count": null,
   "id": "3e133c52-c956-4e3f-bafc-aa975332006f",
   "metadata": {},
   "outputs": [],
   "source": []
  }
 ],
 "metadata": {
  "kernelspec": {
   "display_name": "holodec",
   "language": "python",
   "name": "holodec"
  },
  "language_info": {
   "codemirror_mode": {
    "name": "ipython",
    "version": 3
   },
   "file_extension": ".py",
   "mimetype": "text/x-python",
   "name": "python",
   "nbconvert_exporter": "python",
   "pygments_lexer": "ipython3",
   "version": "3.8.16"
  }
 },
 "nbformat": 4,
 "nbformat_minor": 5
}
