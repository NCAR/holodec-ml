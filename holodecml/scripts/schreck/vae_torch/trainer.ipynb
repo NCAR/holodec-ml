{
 "cells": [
  {
   "cell_type": "code",
   "execution_count": 1,
   "metadata": {},
   "outputs": [],
   "source": [
    "import warnings\n",
    "warnings.filterwarnings(\"ignore\")\n",
    "\n",
    "import os\n",
    "import sys\n",
    "import yaml\n",
    "import torch\n",
    "\n",
    "from torch.utils.data import Dataset, DataLoader\n",
    "from torch.optim.lr_scheduler import ReduceLROnPlateau\n",
    "\n",
    "from typing import List, Dict\n",
    "from multiprocessing import cpu_count\n",
    "\n",
    "# custom\n",
    "from checkpointer import EarlyStopping, MetricsLogger\n",
    "from data_loader import HologramDataset\n",
    "from optimizers import LookaheadDiffGrad\n",
    "from transforms import *\n",
    "from models import count_parameters, CNN_VAE\n",
    "from visual import generate_video\n",
    "from losses import loss_fn"
   ]
  },
  {
   "cell_type": "code",
   "execution_count": 2,
   "metadata": {},
   "outputs": [],
   "source": [
    "is_cuda = torch.cuda.is_available()\n",
    "device = torch.device(torch.cuda.current_device()) if is_cuda else torch.device(\"cpu\")"
   ]
  },
  {
   "cell_type": "code",
   "execution_count": 3,
   "metadata": {},
   "outputs": [],
   "source": [
    "if \"ipykernel_launcher\" in sys.argv[0]:\n",
    "    from tqdm import tqdm as tqdm_base\n",
    "    def tqdm(*args, **kwargs):\n",
    "        if hasattr(tqdm_base, '_instances'):\n",
    "            for instance in list(tqdm_base._instances):\n",
    "                tqdm_base._decr_instances(instance)\n",
    "        return tqdm_base(*args, **kwargs)\n",
    "else:\n",
    "    import tqdm \n",
    "    tqdm = tqdm.tqdm"
   ]
  },
  {
   "cell_type": "code",
   "execution_count": 4,
   "metadata": {},
   "outputs": [],
   "source": [
    "config_file = \"config.yml\""
   ]
  },
  {
   "cell_type": "code",
   "execution_count": 5,
   "metadata": {},
   "outputs": [],
   "source": [
    "with open(config_file) as config_file:\n",
    "    config = yaml.load(config_file, Loader=yaml.FullLoader)"
   ]
  },
  {
   "cell_type": "code",
   "execution_count": 6,
   "metadata": {},
   "outputs": [],
   "source": [
    "try:\n",
    "    os.makedirs(config[\"path_save\"])\n",
    "except:\n",
    "    pass"
   ]
  },
  {
   "cell_type": "code",
   "execution_count": 7,
   "metadata": {},
   "outputs": [],
   "source": [
    "path_data = config[\"path_data\"]\n",
    "path_save = config[\"path_save\"]\n",
    "num_particles = config[\"num_particles\"]\n",
    "split = 'train'\n",
    "subset = False\n",
    "output_cols = [\"x\", \"y\", \"z\", \"d\", \"hid\"]\n",
    "\n",
    "batch_size = config[\"conv2d_network\"][\"batch_size\"]\n",
    "\n",
    "input_shape = (600, 400, 1)\n",
    "\n",
    "n_particles = config[\"num_particles\"]\n",
    "output_channels = len(output_cols) - 1"
   ]
  },
  {
   "cell_type": "code",
   "execution_count": 8,
   "metadata": {},
   "outputs": [],
   "source": [
    "transform = transforms.Compose([\n",
    "    Rescale(384),\n",
    "    #RandomCrop(224),\n",
    "    #Standardize(),\n",
    "    Normalize(),\n",
    "    ToTensor(device)\n",
    "])"
   ]
  },
  {
   "cell_type": "code",
   "execution_count": 9,
   "metadata": {},
   "outputs": [],
   "source": [
    "train_gen = HologramDataset(\n",
    "    path_data, num_particles, \"train\", subset, \n",
    "    output_cols, maxnum_particles = 3, transform = transform\n",
    ")"
   ]
  },
  {
   "cell_type": "code",
   "execution_count": 10,
   "metadata": {},
   "outputs": [],
   "source": [
    "dataloader = DataLoader(\n",
    "    train_gen,\n",
    "    batch_size = batch_size,\n",
    "    shuffle = True,\n",
    "    num_workers = 24\n",
    ")"
   ]
  },
  {
   "cell_type": "code",
   "execution_count": 11,
   "metadata": {},
   "outputs": [],
   "source": [
    "train_scalers = train_gen.get_transform()\n",
    "\n",
    "valid_gen = HologramDataset(\n",
    "    path_data, num_particles, \"test\", subset, \n",
    "    output_cols, scaler = train_scalers, maxnum_particles = 3,\n",
    "    transform = transform\n",
    ")"
   ]
  },
  {
   "cell_type": "code",
   "execution_count": 12,
   "metadata": {},
   "outputs": [],
   "source": [
    "valid_dataloader = DataLoader(\n",
    "    valid_gen,\n",
    "    batch_size = batch_size,\n",
    "    shuffle = False,\n",
    "    num_workers = 24\n",
    ")"
   ]
  },
  {
   "cell_type": "markdown",
   "metadata": {},
   "source": [
    "### VAE model"
   ]
  },
  {
   "cell_type": "code",
   "execution_count": 13,
   "metadata": {},
   "outputs": [],
   "source": [
    "epochs = 100\n",
    "image_channels = 1\n",
    "h_dim = 50176\n",
    "z_dim = 1000\n",
    "\n",
    "start_epoch = 0"
   ]
  },
  {
   "cell_type": "code",
   "execution_count": 14,
   "metadata": {},
   "outputs": [],
   "source": [
    "vae = CNN_VAE(image_channels = image_channels, h_dim = h_dim, z_dim = z_dim).to(device)"
   ]
  },
  {
   "cell_type": "code",
   "execution_count": 15,
   "metadata": {},
   "outputs": [
    {
     "name": "stdout",
     "output_type": "stream",
     "text": [
      "104995849\n"
     ]
    }
   ],
   "source": [
    "print(count_parameters(vae))"
   ]
  },
  {
   "cell_type": "code",
   "execution_count": 16,
   "metadata": {},
   "outputs": [],
   "source": [
    "optimizer = LookaheadDiffGrad(vae.parameters(), lr=1e-3)"
   ]
  },
  {
   "cell_type": "code",
   "execution_count": 17,
   "metadata": {},
   "outputs": [],
   "source": [
    "# Initialize LR annealing scheduler \n",
    "scheduler = ReduceLROnPlateau(optimizer,\n",
    "                              mode='min',\n",
    "                              patience=5,\n",
    "                              factor=0.5,\n",
    "                              min_lr=1e-14,\n",
    "                              verbose=True)\n",
    "\n",
    "# Early stopping\n",
    "model_save_path = os.path.join(f\"{path_save}\", \"checkpoint.pt\")\n",
    "early_stopping = EarlyStopping(path=model_save_path, \n",
    "                               patience=10, \n",
    "                               verbose=True)"
   ]
  },
  {
   "cell_type": "code",
   "execution_count": 18,
   "metadata": {},
   "outputs": [],
   "source": [
    "def train_one_epoch(epoch):\n",
    "    \n",
    "    vae.train()\n",
    "    batches_per_epoch = int(np.ceil(train_gen.__len__() / batch_size))\n",
    "    batch_group_generator = tqdm(enumerate(dataloader), \n",
    "                                 total=batches_per_epoch, \n",
    "                                 leave=True)\n",
    "    \n",
    "    epoch_losses = {\"loss\": [], \"bce\": [], \"kld\": []}\n",
    "    for idx, images in batch_group_generator:\n",
    "        \n",
    "        images = images.to(device)\n",
    "        recon_images, mu, logvar = vae(images)\n",
    "        loss, bce, kld = loss_fn(recon_images, images, mu, logvar)\n",
    "        \n",
    "        optimizer.zero_grad()\n",
    "        loss.backward()\n",
    "        optimizer.step()\n",
    "\n",
    "        batch_loss = loss.item() / batch_size\n",
    "        bce_loss = bce.item() / batch_size\n",
    "        kld_loss = kld.item() / batch_size\n",
    "        \n",
    "        epoch_losses[\"loss\"].append(batch_loss)\n",
    "        epoch_losses[\"bce\"].append(bce_loss)\n",
    "        epoch_losses[\"kld\"].append(kld_loss)\n",
    "        \n",
    "        loss = np.mean(epoch_losses[\"loss\"])\n",
    "        bce = np.mean(epoch_losses[\"bce\"])\n",
    "        kld = np.mean(epoch_losses[\"kld\"])\n",
    "        \n",
    "        to_print = \"loss: {:.3f} bce: {:.3f} kld: {:.3f}\".format(loss, bce, kld)\n",
    "        batch_group_generator.set_description(to_print)\n",
    "        batch_group_generator.update()\n",
    "        \n",
    "    return loss, bce, kld"
   ]
  },
  {
   "cell_type": "code",
   "execution_count": 19,
   "metadata": {},
   "outputs": [],
   "source": [
    "def compare(epoch, x):\n",
    "    x = x.to(device)\n",
    "    recon_x, _, _ = vae(x)\n",
    "    compare_x = torch.cat([x, recon_x])\n",
    "    save_image(compare_x.data.cpu(), f'{path_save}/image_epoch_{epoch}.png')"
   ]
  },
  {
   "cell_type": "code",
   "execution_count": 20,
   "metadata": {},
   "outputs": [],
   "source": [
    "def test(epoch):\n",
    "    \n",
    "    vae.eval()\n",
    "    batches_per_epoch = int(np.ceil(valid_gen.__len__() / batch_size))\n",
    "    \n",
    "    with torch.no_grad():\n",
    "        \n",
    "        batch_group_generator = tqdm(enumerate(valid_dataloader), \n",
    "                                     total=batches_per_epoch, \n",
    "                                     leave=True)\n",
    "        \n",
    "        epoch_losses = {\"loss\": [], \"bce\": [], \"kld\": []}\n",
    "        for idx, images in batch_group_generator:\n",
    "            \n",
    "            images = images.to(device)\n",
    "            recon_images, mu, logvar = vae(images)\n",
    "            loss, bce, kld = loss_fn(recon_images, images, mu, logvar)\n",
    "\n",
    "            batch_loss = loss.item() / batch_size\n",
    "            bce_loss = bce.item() / batch_size\n",
    "            kld_loss = kld.item() / batch_size\n",
    "\n",
    "            epoch_losses[\"loss\"].append(batch_loss)\n",
    "            epoch_losses[\"bce\"].append(bce_loss)\n",
    "            epoch_losses[\"kld\"].append(kld_loss)\n",
    "\n",
    "            loss = np.mean(epoch_losses[\"loss\"])\n",
    "            bce = np.mean(epoch_losses[\"bce\"])\n",
    "            kld = np.mean(epoch_losses[\"kld\"])\n",
    "\n",
    "            to_print = \"val_loss: {:.3f} val_bce: {:.3f} val_kld: {:.3f}\".format(loss, bce, kld)\n",
    "            batch_group_generator.set_description(to_print)\n",
    "            batch_group_generator.update()\n",
    "            \n",
    "    with open(f\"image.pkl\", \"rb\") as fid:\n",
    "        pic = pickle.load(fid)\n",
    "    compare(epoch, pic)\n",
    "                \n",
    "    return loss, bce, kld"
   ]
  },
  {
   "cell_type": "code",
   "execution_count": 21,
   "metadata": {},
   "outputs": [],
   "source": [
    "metrics_logger = MetricsLogger(path_save)"
   ]
  },
  {
   "cell_type": "code",
   "execution_count": 22,
   "metadata": {},
   "outputs": [
    {
     "name": "stderr",
     "output_type": "stream",
     "text": [
      "loss: 68719.289 bce: 68719.251 kld: 0.038:   6%|▌         | 22/391 [00:17<05:00,  1.23it/s] \n"
     ]
    },
    {
     "ename": "KeyboardInterrupt",
     "evalue": "",
     "output_type": "error",
     "traceback": [
      "\u001b[0;31m---------------------------------------------------------------------------\u001b[0m",
      "\u001b[0;31mKeyboardInterrupt\u001b[0m                         Traceback (most recent call last)",
      "\u001b[0;32m<ipython-input-22-097a983b98ad>\u001b[0m in \u001b[0;36m<module>\u001b[0;34m\u001b[0m\n\u001b[1;32m      1\u001b[0m \u001b[0;32mfor\u001b[0m \u001b[0mepoch\u001b[0m \u001b[0;32min\u001b[0m \u001b[0mrange\u001b[0m\u001b[0;34m(\u001b[0m\u001b[0mstart_epoch\u001b[0m\u001b[0;34m,\u001b[0m \u001b[0mepochs\u001b[0m\u001b[0;34m)\u001b[0m\u001b[0;34m:\u001b[0m\u001b[0;34m\u001b[0m\u001b[0;34m\u001b[0m\u001b[0m\n\u001b[1;32m      2\u001b[0m \u001b[0;34m\u001b[0m\u001b[0m\n\u001b[0;32m----> 3\u001b[0;31m     \u001b[0mtrain_loss\u001b[0m\u001b[0;34m,\u001b[0m \u001b[0mtrain_bce\u001b[0m\u001b[0;34m,\u001b[0m \u001b[0mtrain_kld\u001b[0m \u001b[0;34m=\u001b[0m \u001b[0mtrain_one_epoch\u001b[0m\u001b[0;34m(\u001b[0m\u001b[0mepoch\u001b[0m\u001b[0;34m)\u001b[0m\u001b[0;34m\u001b[0m\u001b[0;34m\u001b[0m\u001b[0m\n\u001b[0m\u001b[1;32m      4\u001b[0m     \u001b[0mtest_loss\u001b[0m\u001b[0;34m,\u001b[0m \u001b[0mtest_bce\u001b[0m\u001b[0;34m,\u001b[0m \u001b[0mtest_kld\u001b[0m \u001b[0;34m=\u001b[0m \u001b[0mtest\u001b[0m\u001b[0;34m(\u001b[0m\u001b[0mepoch\u001b[0m\u001b[0;34m)\u001b[0m\u001b[0;34m\u001b[0m\u001b[0;34m\u001b[0m\u001b[0m\n\u001b[1;32m      5\u001b[0m \u001b[0;34m\u001b[0m\u001b[0m\n",
      "\u001b[0;32m<ipython-input-18-ef5be1308495>\u001b[0m in \u001b[0;36mtrain_one_epoch\u001b[0;34m(epoch)\u001b[0m\n\u001b[1;32m     10\u001b[0m     \u001b[0;32mfor\u001b[0m \u001b[0midx\u001b[0m\u001b[0;34m,\u001b[0m \u001b[0mimages\u001b[0m \u001b[0;32min\u001b[0m \u001b[0mbatch_group_generator\u001b[0m\u001b[0;34m:\u001b[0m\u001b[0;34m\u001b[0m\u001b[0;34m\u001b[0m\u001b[0m\n\u001b[1;32m     11\u001b[0m \u001b[0;34m\u001b[0m\u001b[0m\n\u001b[0;32m---> 12\u001b[0;31m         \u001b[0mimages\u001b[0m \u001b[0;34m=\u001b[0m \u001b[0mimages\u001b[0m\u001b[0;34m.\u001b[0m\u001b[0mto\u001b[0m\u001b[0;34m(\u001b[0m\u001b[0mdevice\u001b[0m\u001b[0;34m)\u001b[0m\u001b[0;34m\u001b[0m\u001b[0;34m\u001b[0m\u001b[0m\n\u001b[0m\u001b[1;32m     13\u001b[0m         \u001b[0mrecon_images\u001b[0m\u001b[0;34m,\u001b[0m \u001b[0mmu\u001b[0m\u001b[0;34m,\u001b[0m \u001b[0mlogvar\u001b[0m \u001b[0;34m=\u001b[0m \u001b[0mvae\u001b[0m\u001b[0;34m(\u001b[0m\u001b[0mimages\u001b[0m\u001b[0;34m)\u001b[0m\u001b[0;34m\u001b[0m\u001b[0;34m\u001b[0m\u001b[0m\n\u001b[1;32m     14\u001b[0m         \u001b[0mloss\u001b[0m\u001b[0;34m,\u001b[0m \u001b[0mbce\u001b[0m\u001b[0;34m,\u001b[0m \u001b[0mkld\u001b[0m \u001b[0;34m=\u001b[0m \u001b[0mloss_fn\u001b[0m\u001b[0;34m(\u001b[0m\u001b[0mrecon_images\u001b[0m\u001b[0;34m,\u001b[0m \u001b[0mimages\u001b[0m\u001b[0;34m,\u001b[0m \u001b[0mmu\u001b[0m\u001b[0;34m,\u001b[0m \u001b[0mlogvar\u001b[0m\u001b[0;34m)\u001b[0m\u001b[0;34m\u001b[0m\u001b[0;34m\u001b[0m\u001b[0m\n",
      "\u001b[0;31mKeyboardInterrupt\u001b[0m: "
     ]
    }
   ],
   "source": [
    "for epoch in range(start_epoch, epochs):\n",
    "\n",
    "    train_loss, train_bce, train_kld = train_one_epoch(epoch)\n",
    "    test_loss, test_bce, test_kld = test(epoch)\n",
    "    \n",
    "    scheduler.step(test_loss)\n",
    "    early_stopping(epoch, test_loss, vae, optimizer)\n",
    "    \n",
    "    # Write results to logger / separate file\n",
    "    result = {\n",
    "        \"epoch\": epoch,\n",
    "        \"train_loss\": train_loss,\n",
    "        \"train_bce\": train_bce,\n",
    "        \"train_kld\": train_kld,\n",
    "        \"valid_loss\": test_loss,\n",
    "        \"valid_bce\": test_bce,\n",
    "        \"valid_kld\": test_kld,\n",
    "        \"lr\": early_stopping.print_learning_rate(optimizer)\n",
    "    }\n",
    "    metrics_logger.update(result)\n",
    "    \n",
    "    if early_stopping.early_stop:\n",
    "        print(\"Early stopping\")\n",
    "        break"
   ]
  },
  {
   "cell_type": "code",
   "execution_count": 30,
   "metadata": {},
   "outputs": [
    {
     "name": "stdout",
     "output_type": "stream",
     "text": [
      "['image_epoch_0.png', 'image_epoch_1.png', 'image_epoch_2.png', 'image_epoch_3.png', 'image_epoch_4.png', 'image_epoch_5.png', 'image_epoch_6.png', 'image_epoch_7.png', 'image_epoch_8.png', 'image_epoch_9.png', 'image_epoch_10.png', 'image_epoch_11.png', 'image_epoch_12.png', 'image_epoch_13.png', 'image_epoch_14.png', 'image_epoch_15.png', 'image_epoch_16.png', 'image_epoch_17.png', 'image_epoch_18.png', 'image_epoch_19.png', 'image_epoch_20.png', 'image_epoch_21.png', 'image_epoch_22.png', 'image_epoch_23.png', 'image_epoch_24.png', 'image_epoch_25.png', 'image_epoch_26.png', 'image_epoch_27.png', 'image_epoch_28.png', 'image_epoch_29.png', 'image_epoch_30.png', 'image_epoch_31.png', 'image_epoch_32.png', 'image_epoch_33.png', 'image_epoch_34.png', 'image_epoch_35.png', 'image_epoch_36.png', 'image_epoch_37.png', 'image_epoch_38.png', 'image_epoch_39.png', 'image_epoch_40.png', 'image_epoch_41.png', 'image_epoch_42.png', 'image_epoch_43.png', 'image_epoch_44.png', 'image_epoch_45.png', 'image_epoch_46.png', 'image_epoch_47.png', 'image_epoch_48.png', 'image_epoch_49.png', 'image_epoch_50.png', 'image_epoch_51.png', 'image_epoch_52.png', 'image_epoch_53.png']\n"
     ]
    }
   ],
   "source": [
    "generate_video(\"./\", \"generated_hologram.avi\") "
   ]
  },
  {
   "cell_type": "code",
   "execution_count": null,
   "metadata": {},
   "outputs": [],
   "source": []
  }
 ],
 "metadata": {
  "kernelspec": {
   "display_name": "py37",
   "language": "python",
   "name": "py37"
  },
  "language_info": {
   "codemirror_mode": {
    "name": "ipython",
    "version": 3
   },
   "file_extension": ".py",
   "mimetype": "text/x-python",
   "name": "python",
   "nbconvert_exporter": "python",
   "pygments_lexer": "ipython3",
   "version": "3.7.5"
  }
 },
 "nbformat": 4,
 "nbformat_minor": 4
}
