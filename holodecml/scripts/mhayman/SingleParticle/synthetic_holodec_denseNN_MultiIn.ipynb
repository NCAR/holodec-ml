{
 "cells": [
  {
   "cell_type": "code",
   "execution_count": null,
   "metadata": {},
   "outputs": [],
   "source": [
    "import os\n",
    "import sys\n",
    "\n",
    "import numpy as np\n",
    "import xarray as xr\n",
    "import pandas as pd\n",
    "import datetime\n",
    "\n",
    "from tensorflow.keras.layers import Input, Conv2D, Dense, Flatten, Activation, MaxPool2D, SeparableConv2D, AveragePooling2D, concatenate,add,Reshape\n",
    "from tensorflow.keras.models import Model, save_model, load_model\n",
    "from tensorflow.keras.utils import plot_model\n",
    "from tensorflow import concat\n",
    "from tensorflow.keras import regularizers\n",
    "\n",
    "import matplotlib.pyplot as plt\n",
    "\n",
    "# set path to local libraries\n",
    "dirP_str = '../../../library'\n",
    "if dirP_str not in sys.path:\n",
    "    sys.path.append(dirP_str)\n",
    "\n",
    "import ml_utils as ml\n",
    "\n",
    "%matplotlib inline\n",
    "\n",
    "run_num = 0"
   ]
  },
  {
   "cell_type": "code",
   "execution_count": null,
   "metadata": {},
   "outputs": [],
   "source": [
    "ds_path = \"/scr/sci/mhayman/holodec/holodec-ml-data/\"\n",
    "\n",
    "\n",
    "# ds_file = \"synthetic_holograms_v02.nc\"  # 3 particle data (raw data)\n",
    "ds_file = \"synthetic_holograms_v02_ft_multipart_real_imag_amplitude_float.nc\" # 3 particle data\n",
    "channel_name = \"channels\"\n",
    "data_rescale = 2"
   ]
  },
  {
   "cell_type": "code",
   "execution_count": null,
   "metadata": {},
   "outputs": [],
   "source": [
    "num_epochs = 10"
   ]
  },
  {
   "cell_type": "code",
   "execution_count": null,
   "metadata": {},
   "outputs": [],
   "source": [
    "run_num = 0"
   ]
  },
  {
   "cell_type": "code",
   "execution_count": null,
   "metadata": {},
   "outputs": [],
   "source": [
    "ds = xr.open_dataset(ds_path+ds_file)  # file with mean (DC) value removed"
   ]
  },
  {
   "cell_type": "code",
   "execution_count": null,
   "metadata": {},
   "outputs": [],
   "source": [
    "ds['particle_data'].dims"
   ]
  },
  {
   "cell_type": "code",
   "execution_count": null,
   "metadata": {},
   "outputs": [],
   "source": [
    "ds['particle_property']"
   ]
  },
  {
   "cell_type": "code",
   "execution_count": null,
   "metadata": {},
   "outputs": [],
   "source": [
    "split_index = 7000  # number of training+validation points\n",
    "valid_index = 2000  # number of validation points\n",
    "all_labels = ds['particle_data'].transpose('hologram_number','particle_property','particle_number')\n",
    "all_labels = all_labels.sel(particle_property=['d'])\n",
    "\n",
    "train_labels = all_labels.isel(hologram_number=slice(valid_index,split_index))\n",
    "test_labels = all_labels.isel(hologram_number=slice(split_index,None))\n",
    "val_labels = all_labels.isel(hologram_number=slice(None,valid_index))\n",
    "\n",
    "scaler = ml.MinMaxScalerX(train_labels,dim=('hologram_number','particle_number'))\n",
    "scaled_train_labels = scaler.fit_transform(train_labels)\n",
    "scaled_val_labels = scaler.fit_transform(val_labels)\n",
    "scaled_test_labels = scaler.fit_transform(test_labels)\n",
    "scaled_all_labels = scaler.fit_transform(all_labels)"
   ]
  },
  {
   "cell_type": "code",
   "execution_count": null,
   "metadata": {},
   "outputs": [],
   "source": [
    "# train_labels.min(dim=('hologram_number','particle_number'))\n",
    "scaled_train_labels"
   ]
  },
  {
   "cell_type": "code",
   "execution_count": null,
   "metadata": {},
   "outputs": [],
   "source": []
  },
  {
   "cell_type": "code",
   "execution_count": null,
   "metadata": {},
   "outputs": [],
   "source": [
    "all_labels.shape\n"
   ]
  },
  {
   "cell_type": "code",
   "execution_count": null,
   "metadata": {},
   "outputs": [],
   "source": [
    "if channel_name is None:\n",
    "    in_data = ds[\"image_ft\"].transpose(\"hologram_number\", \"ysize\", 'xsize').expand_dims(\"channel\", 3)\n",
    "else:\n",
    "    in_data = ds[\"image_ft\"].transpose(\"hologram_number\", \"ysize\", \"xsize\",channel_name)"
   ]
  },
  {
   "cell_type": "code",
   "execution_count": null,
   "metadata": {},
   "outputs": [],
   "source": [
    "scaled_in_data = in_data / data_rescale\n",
    "# scaled_in_image = in_data"
   ]
  },
  {
   "cell_type": "code",
   "execution_count": null,
   "metadata": {},
   "outputs": [],
   "source": [
    "(np.prod(all_labels.shape[1:]),)"
   ]
  },
  {
   "cell_type": "code",
   "execution_count": null,
   "metadata": {},
   "outputs": [],
   "source": [
    "# nn_input = Input(shape=scaled_in_data.shape[1:])  # input\n",
    "\n",
    "# nn_descript = 'CNN4layer_DenseNN_mae'\n",
    "\n",
    "# # conv_input = Input(shape=scaled_in_data.shape[1:])  # input\n",
    "# conv_1 = SeparableConv2D(32, (15, 15), padding=\"same\")(nn_input)\n",
    "# act_1 = Activation(\"relu\")(conv_1)\n",
    "# pool_1 = MaxPool2D(pool_size=(4, 4))(act_1)\n",
    "\n",
    "# conv_2 = Conv2D(32, (15, 15), padding=\"same\")(pool_1)\n",
    "# act_2 = Activation(\"relu\")(conv_2)\n",
    "# pool_2 = MaxPool2D(pool_size=(4, 4))(act_2)\n",
    "\n",
    "# conv_3 = Conv2D(32, (15, 15), padding=\"same\")(pool_2)\n",
    "# act_3 = Activation(\"relu\")(conv_3)\n",
    "# pool_3 = MaxPool2D(pool_size=(4, 4))(act_3)\n",
    "\n",
    "# conv_4 = Conv2D(64, (15, 15), padding=\"same\")(pool_3)\n",
    "# act_4 = Activation(\"relu\")(conv_4)\n",
    "# pool_4 = MaxPool2D(pool_size=(4, 4))(act_4)\n",
    "\n",
    "# flat_c = Flatten()(pool_4)\n",
    "# dense_1 = Dense(64, activation=\"relu\")(flat_c)\n",
    "\n",
    "# # #nn_descript = 'DenseNN_mae'\n",
    "\n",
    "# #filter_input = Input(shape=scaled_in_data.shape[1:])\n",
    "\n",
    "# # # use average pooling for input\n",
    "# # # pool_d1 = AveragePooling2D(pool_size=(4, 4))(nn_input)\n",
    "# # # flat_d = Flatten()(pool_d1)\n",
    "\n",
    "# # # skip average pooling\n",
    "# # nn_descript = 'DenseNN_noPool_mae'\n",
    "# # flat_d = Flatten()(nn_input)  \n",
    "\n",
    "# # dense_d1 = Dense(128, activation=\"relu\")(flat_d)\n",
    "# # dense_d2 = Dense(64, activation=\"relu\")(dense_d1)\n",
    "\n",
    "# # # dense_d3 = Dense(128, activation=\"relu\")(dense_d2)\n",
    "# # # dense_d4 = Dense(64, activation=\"relu\")(dense_d3)\n",
    "# # dense_d5 = Dense(32, activation=\"relu\")(dense_d2)\n",
    "# # dense_d6 = Dense(16, activation=\"relu\")(dense_d5)\n",
    "# # dense_d7 = Dense(8, activation=\"relu\")(dense_d6)\n",
    "# # dense_1 = Dense(4, activation=\"relu\")(dense_d7)\n",
    "\n",
    "# # comb = concatenate([dense_d2,flat_c])\n",
    "# # dense_1 = Dense(64, activation=\"relu\")(comb)\n",
    "\n",
    "# dense_2 = Dense(32, activation=\"relu\")(dense_1)\n",
    "# dense_3 = Dense(np.prod(all_labels.shape[1:]), activation=\"relu\")(dense_2) # encoding layer to sort particles by size\n",
    "# flat_out = Dense(np.prod(all_labels.shape[1:]))(dense_3)  # number of outputs determined by the parameters we are training to\n",
    "# out = Reshape(all_labels.shape[1:], input_shape=(np.prod(all_labels.shape[1:]),))(flat_out)\n",
    "# mod = Model(nn_input, out)\n",
    "# mod.compile(optimizer=\"adam\", loss=\"mae\",metrics=['acc'])\n",
    "# mod.summary()"
   ]
  },
  {
   "cell_type": "code",
   "execution_count": null,
   "metadata": {},
   "outputs": [],
   "source": [
    "nn_descript = 'DenseNN_RegInput7_mae'\n",
    "\n",
    "filter_input = Input(shape=scaled_in_data.shape[1:])\n",
    "flat_input = Flatten()(filter_input)\n",
    "dense_1 = Dense(36, activation=\"relu\",kernel_regularizer=regularizers.l1(1e-7))(flat_input)\n",
    "dense_2 = Dense(64, activation=\"relu\")(dense_1)\n",
    "dense_3 = Dense(32, activation=\"relu\")(dense_2)\n",
    "dense_4 = Dense(np.prod(all_labels.shape[1:]), activation=\"relu\")(dense_3)\n",
    "flat_out = Dense(np.prod(all_labels.shape[1:]))(dense_3)  # number of outputs determined by the parameters we are training to\n",
    "out = Reshape(all_labels.shape[1:], input_shape=(np.prod(all_labels.shape[1:]),))(flat_out)\n",
    "mod = Model(filter_input, out)\n",
    "mod.compile(optimizer=\"adam\", loss=\"mae\",metrics=['acc'])\n",
    "mod.summary()"
   ]
  },
  {
   "cell_type": "code",
   "execution_count": null,
   "metadata": {},
   "outputs": [],
   "source": [
    "plot_model(mod,show_shapes=True,to_file=\"results/holodec_\"+nn_descript+'_'+ds_file.replace(\".nc\",\"\")+\".png\")"
   ]
  },
  {
   "cell_type": "code",
   "execution_count": null,
   "metadata": {},
   "outputs": [],
   "source": [
    "history = mod.fit(scaled_in_data[valid_index:split_index].values,\n",
    "                  scaled_train_labels.values, \n",
    "                  batch_size=16, epochs=num_epochs, verbose=1,\n",
    "                  validation_data=(scaled_in_data[:valid_index].values,scaled_val_labels.values))\n",
    "run_num+=1"
   ]
  },
  {
   "cell_type": "code",
   "execution_count": null,
   "metadata": {},
   "outputs": [],
   "source": [
    "epochs = np.arange(len(history.history['loss']))+1\n",
    "fig, ax = plt.subplots(1, 1, figsize=(8, 4))\n",
    "ax.plot(epochs,history.history['loss'],'bo-',alpha=0.5,label='Training')\n",
    "ax.plot(epochs,history.history['val_loss'],'rs-',alpha=0.5,label='Validation')\n",
    "ax.set_xlabel('Epoch')\n",
    "ax.set_ylabel('Loss')\n",
    "ax.grid(b=True)\n",
    "plt.legend()\n",
    "plt.savefig(\"results/LossHistory_\"+nn_descript+'_'+ds_file.replace(\".nc\",\"\")+f\"_{num_epochs}epochs_run{run_num}\"+\".png\", dpi=200, bbox_inches=\"tight\")\n",
    "\n",
    "fig, bx = plt.subplots(1, 1, figsize=(8, 4))\n",
    "bx.plot(epochs,history.history['acc'],'bo-',alpha=0.5,label='Training')\n",
    "bx.plot(epochs,history.history['val_acc'],'rs-',alpha=0.5,label='Validation')\n",
    "bx.set_xlabel('Epoch')\n",
    "bx.set_ylabel('Accuracy')\n",
    "bx.grid(b=True)\n",
    "plt.legend()\n",
    "plt.savefig(\"results/AccuracyHistory_\"+nn_descript+'_'+ds_file.replace(\".nc\",\"\")+f\"_{num_epochs}epochs_run{run_num}\"+\".png\", dpi=200, bbox_inches=\"tight\")\n"
   ]
  },
  {
   "cell_type": "code",
   "execution_count": null,
   "metadata": {},
   "outputs": [],
   "source": [
    "# can skip the training process and just load the CNN model\n",
    "# mod = load_model(\"holodec_ft_dxyz_cnn.h5\")"
   ]
  },
  {
   "cell_type": "code",
   "execution_count": null,
   "metadata": {},
   "outputs": [],
   "source": [
    "cnn_start = datetime.datetime.now()\n",
    "preds_out = mod.predict(scaled_in_data.values, batch_size=64)\n",
    "cnn_stop = datetime.datetime.now()\n",
    "print(f\"{scaled_in_data.values.shape[0]} samples in {(cnn_stop-cnn_start).total_seconds()} seconds\")\n",
    "print(f\"for {(cnn_stop-cnn_start).total_seconds()/scaled_in_data.values.shape[0]} seconds per hologram\")"
   ]
  },
  {
   "cell_type": "code",
   "execution_count": null,
   "metadata": {},
   "outputs": [],
   "source": [
    "save_model(mod, ds_path+\"/models/holodec_histogram_\"+nn_descript+'_'+ds_file.replace(\".nc\",\"\")+f\"{num_epochs}epochs_run{run_num}\"+\".h5\", save_format=\"h5\")"
   ]
  },
  {
   "cell_type": "code",
   "execution_count": null,
   "metadata": {},
   "outputs": [],
   "source": [
    "preds_out.shape"
   ]
  },
  {
   "cell_type": "code",
   "execution_count": null,
   "metadata": {},
   "outputs": [],
   "source": [
    "preds_out_da = xr.DataArray(preds_out,dims=('hologram_number','particle_property','particle_number'),\n",
    "                            coords=all_labels.coords)"
   ]
  },
  {
   "cell_type": "code",
   "execution_count": null,
   "metadata": {},
   "outputs": [],
   "source": [
    "preds_original = scaler.inverse_transform(preds_out_da)"
   ]
  },
  {
   "cell_type": "code",
   "execution_count": null,
   "metadata": {},
   "outputs": [],
   "source": [
    "(test_labels.max() - test_labels.min())"
   ]
  },
  {
   "cell_type": "code",
   "execution_count": null,
   "metadata": {},
   "outputs": [],
   "source": [
    "preds_original"
   ]
  },
  {
   "cell_type": "code",
   "execution_count": null,
   "metadata": {},
   "outputs": [],
   "source": [
    "mean_error = (preds_original[split_index:] - test_labels).mean(dim=('hologram_number','particle_number'))\n",
    "std_error = (preds_original[split_index:] - test_labels).std(dim=('hologram_number','particle_number'))"
   ]
  },
  {
   "cell_type": "code",
   "execution_count": null,
   "metadata": {},
   "outputs": [],
   "source": [
    "validation_data = {}\n",
    "fig, axes = plt.subplots(2, 2, figsize=(8, 8))\n",
    "for a, clabel in enumerate(all_labels.coords['particle_property'].values):\n",
    "    ax=axes.ravel()[a]\n",
    "    ax.scatter(test_labels.sel(particle_property=clabel), preds_original.sel(particle_property=clabel,hologram_number=slice(split_index,None)), 1, 'k')\n",
    "    diag = np.linspace(test_labels.sel(particle_property=clabel).min(), test_labels.sel(particle_property=clabel).max(), 10)\n",
    "    ax.plot(diag, diag, 'b--' )\n",
    "    ax.set_title(clabel)\n",
    "    plt.text(0.1,0.9,f\"${mean_error.sel(particle_property=clabel).values:.1f} \\pm {std_error.sel(particle_property=clabel).values:.1f} \\mu m$\",ha='left',va='top',transform=ax.transAxes)\n",
    "#     validation_data[test_labels.columns[a]] = test_labels.iloc[:, a]\n",
    "#     validation_data[test_labels.columns[a]+'_pred'] = preds_original[split_index:, a]\n",
    "plt.savefig(\"results/error_scatter_\"+nn_descript+'_'+ds_file.replace(\".nc\",\"\")+f\"{num_epochs}epochs_run{run_num}\"+\".png\", dpi=200, bbox_inches=\"tight\")\n",
    "# validation_data_df = pd.DataFrame(validation_data)\n",
    "# validation_data_df.to_csv('results/validation_data_denseNN_MultiIn_'+ds_file.replace(\".nc\",\"_\")+''.join(all_labels.columns)+'.txt')\n",
    "    "
   ]
  },
  {
   "cell_type": "code",
   "execution_count": null,
   "metadata": {},
   "outputs": [],
   "source": [
    "mean_error.sel(particle_property=clabel)"
   ]
  },
  {
   "cell_type": "code",
   "execution_count": null,
   "metadata": {},
   "outputs": [],
   "source": [
    "fig, axes = plt.subplots(2, 2, figsize=(8, 8))\n",
    "for a, clabel in enumerate(all_labels.coords['particle_property'].values):\n",
    "    ax=axes.ravel()[a]\n",
    "    ax.hist( (preds_original.sel(particle_property=clabel,hologram_number=slice(split_index,None)).values - test_labels.sel(particle_property=clabel).values).flatten() / (test_labels.sel(particle_property=clabel).values.max() - test_labels.sel(particle_property=clabel).values.min()),\n",
    "           bins=20)\n",
    "    ax.set_yscale(\"log\")\n",
    "    ax.set_xlabel(\"Error in \"+clabel)\n",
    "plt.savefig(\"results/relative_error_histogram\"+nn_descript+'_'+ds_file.replace(\".nc\",\"\")+f\"{num_epochs}epochs_run{run_num}\"+\".png\", dpi=200, bbox_inches=\"tight\")"
   ]
  },
  {
   "cell_type": "code",
   "execution_count": null,
   "metadata": {},
   "outputs": [],
   "source": [
    "\n",
    "fig, axes = plt.subplots(2, 2, figsize=(8, 8))\n",
    "for a, clabel in enumerate(all_labels.coords['particle_property'].values):\n",
    "    ax=axes.ravel()[a]\n",
    "    hprop = np.histogram2d(test_labels.sel(particle_property=clabel).values.flatten(),preds_original.sel(particle_property=clabel,hologram_number=slice(split_index,None)).values.flatten(),bins=100)\n",
    "    im = ax.pcolor(hprop[1], hprop[2],hprop[0].T/np.sum(hprop[0]))\n",
    "    diag = np.linspace(test_labels.sel(particle_property=clabel).min(), test_labels.sel(particle_property=clabel).max(), 10)\n",
    "    ax.plot(diag, diag, 'w--' )\n",
    "    im.set_clim([0,sorted((hprop[0].flatten()/np.sum(hprop[0])))[-2]])\n",
    "    ax.set_title(clabel)\n",
    "\n",
    "plt.savefig(\"results/histogram2D_\"+nn_descript+'_'+ds_file.replace(\".nc\",\"\")+f\"{num_epochs}epochs_run{run_num}\"+\".png\", dpi=200, bbox_inches=\"tight\")"
   ]
  },
  {
   "cell_type": "code",
   "execution_count": null,
   "metadata": {},
   "outputs": [],
   "source": []
  }
 ],
 "metadata": {
  "kernelspec": {
   "display_name": "Python 3",
   "language": "python",
   "name": "python3"
  },
  "language_info": {
   "codemirror_mode": {
    "name": "ipython",
    "version": 3
   },
   "file_extension": ".py",
   "mimetype": "text/x-python",
   "name": "python",
   "nbconvert_exporter": "python",
   "pygments_lexer": "ipython3",
   "version": "3.7.3"
  }
 },
 "nbformat": 4,
 "nbformat_minor": 4
}
