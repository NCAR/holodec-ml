{
 "cells": [
  {
   "cell_type": "code",
   "execution_count": null,
   "metadata": {},
   "outputs": [],
   "source": [
    "import sys\n",
    "import numpy as np\n",
    "import xarray as xr\n",
    "\n",
    "from tensorflow.keras.layers import Input, Conv2D, Dense, Flatten, Activation, MaxPool2D, SeparableConv2D, UpSampling2D,concatenate\n",
    "\n",
    "from tensorflow.keras.models import Model, save_model, load_model\n",
    "from tensorflow.keras.utils import plot_model\n",
    "#from tensorflow import concat\n",
    "import matplotlib.pyplot as plt\n",
    "\n",
    "import datetime\n",
    "%matplotlib inline\n",
    "\n",
    "# set path to local libraries\n",
    "dirP_str = '../../../library'\n",
    "if dirP_str not in sys.path:\n",
    "    sys.path.append(dirP_str)\n",
    "\n",
    "import ml_utils as ml"
   ]
  },
  {
   "cell_type": "code",
   "execution_count": null,
   "metadata": {},
   "outputs": [],
   "source": [
    "ds_path='/scr/sci/mhayman/holodec/holodec-ml-data/'\n",
    "# ds_file = 'image_data_256x256_50count.nc'\n",
    "# ds_file = 'image_data_256x256_5000count.nc'\n",
    "ds_file = 'image_data_64x64_5000count.nc'\n",
    "\n",
    "ds = xr.open_dataset(ds_path+ds_file)\n",
    "\n",
    "run_num = 0\n",
    "num_epochs = 10"
   ]
  },
  {
   "cell_type": "code",
   "execution_count": null,
   "metadata": {},
   "outputs": [],
   "source": [
    "# class MinMaxScalerX:\n",
    "#     def __init__(self,in_array,dim=None):\n",
    "#         \"\"\"\n",
    "#         Create a min/max scaler object that scales\n",
    "#         across dims.  If dims is not provided, perform\n",
    "#         the scaling across all dims.\n",
    "#         Input is an xarray object\n",
    "#         \"\"\"\n",
    "#         self.min = in_array.min(dim=dim)\n",
    "#         self.max = in_array.max(dim=dim)\n",
    "#         self.delta = self.max-self.min\n",
    "#         self.mid = 0.5*(self.max+self.min)\n",
    "#     def fit_transform(self,new_array):\n",
    "#         return (new_array-self.min)/self.delta\n",
    "    \n",
    "#     def inverse_transform(self,out_array):\n",
    "#         return out_array*self.delta+self.min"
   ]
  },
  {
   "cell_type": "code",
   "execution_count": null,
   "metadata": {},
   "outputs": [],
   "source": [
    "ds"
   ]
  },
  {
   "cell_type": "code",
   "execution_count": null,
   "metadata": {},
   "outputs": [],
   "source": [
    "split_index = np.int(0.7*ds.sizes['hologram_number'])  # number of training+validation points\n",
    "valid_index = np.int(0.2*ds.sizes['hologram_number'])  # number of validation points\n",
    "all_labels = ds['labels']\n",
    "\n",
    "train_labels = all_labels.isel(hologram_number=slice(valid_index,split_index))\n",
    "test_labels = all_labels.isel(hologram_number=slice(split_index,None))\n",
    "val_labels = all_labels.isel(hologram_number=slice(None,valid_index))\n",
    "\n",
    "scaler = ml.MinMaxScalerX(train_labels,dim=('hologram_number','xsize','ysize'))\n",
    "scaled_train_labels = scaler.fit_transform(train_labels)\n",
    "scaled_val_labels = scaler.fit_transform(val_labels)\n",
    "scaled_test_labels = scaler.fit_transform(test_labels)\n",
    "scaled_all_labels = scaler.fit_transform(all_labels)"
   ]
  },
  {
   "cell_type": "code",
   "execution_count": null,
   "metadata": {},
   "outputs": [],
   "source": [
    "in_data = ds['image']"
   ]
  },
  {
   "cell_type": "code",
   "execution_count": null,
   "metadata": {},
   "outputs": [],
   "source": [
    "scaler.max"
   ]
  },
  {
   "cell_type": "code",
   "execution_count": null,
   "metadata": {},
   "outputs": [],
   "source": [
    "valid_index"
   ]
  },
  {
   "cell_type": "code",
   "execution_count": null,
   "metadata": {},
   "outputs": [],
   "source": [
    "if not 'channel' in in_data.dims:\n",
    "    in_data = in_data.expand_dims(\"channel\", 3)"
   ]
  },
  {
   "cell_type": "code",
   "execution_count": null,
   "metadata": {},
   "outputs": [],
   "source": [
    "scaled_in_data = in_data/2"
   ]
  },
  {
   "cell_type": "code",
   "execution_count": null,
   "metadata": {},
   "outputs": [],
   "source": [
    "plt_index = 32\n",
    "plt.figure()\n",
    "plt.imshow(scaled_in_data.values[plt_index,:,:,0])\n",
    "plt.colorbar()\n",
    "\n",
    "plt.figure()\n",
    "plt.imshow(scaled_train_labels[plt_index,:,:,0])\n",
    "plt.colorbar()"
   ]
  },
  {
   "cell_type": "code",
   "execution_count": null,
   "metadata": {},
   "outputs": [],
   "source": [
    "plt.figure()\n",
    "plt.hist(scaled_train_labels.values[:,:,:,0].flatten(),log=True)"
   ]
  },
  {
   "cell_type": "code",
   "execution_count": null,
   "metadata": {},
   "outputs": [],
   "source": [
    "scaled_in_data.shape"
   ]
  },
  {
   "cell_type": "code",
   "execution_count": null,
   "metadata": {},
   "outputs": [],
   "source": [
    "# nn_descript = 'Lossless_UNET'\n",
    "# cnn_input = Input(shape=scaled_in_data.shape[1:])  # input\n",
    "\n",
    "# conv_1a = SeparableConv2D(4, (5, 5), padding=\"same\")(cnn_input)\n",
    "# act_1a = Activation(\"relu\")(conv_1a)\n",
    "# conv_1b = SeparableConv2D(4, (5, 5), padding=\"same\")(act_1a)\n",
    "# act_1b = Activation(\"relu\")(conv_1b)\n",
    "# pool_1 = MaxPool2D(pool_size=(4, 4))(act_1b)\n",
    "\n",
    "# conv_2a = SeparableConv2D(16,(5,5),padding=\"same\")(pool_1)\n",
    "# act_2a = Activation(\"relu\")(conv_2a)\n",
    "# conv_2b = SeparableConv2D(16,(5,5),padding=\"same\")(act_2a)\n",
    "# act_2b = Activation(\"relu\")(conv_2b)\n",
    "# pool_2 = MaxPool2D(pool_size=(4, 4))(act_2b)\n",
    "\n",
    "# conv_3a = SeparableConv2D(256,(5,5),padding=\"same\")(pool_2)\n",
    "# act_3a = Activation(\"relu\")(conv_3a)\n",
    "# conv_3b = SeparableConv2D(256,(5,5),padding=\"same\")(act_3a)\n",
    "# act_3b = Activation(\"relu\")(conv_3b)\n",
    "# pool_3 = MaxPool2D(pool_size=(4, 4))(act_3b)\n",
    "\n",
    "# conv_4a = SeparableConv2D(4096,(5,5),padding=\"same\")(pool_3)\n",
    "# act_4a = Activation(\"relu\")(conv_4a)\n",
    "\n",
    "# conv_4b = SeparableConv2D(4096,(5,5),padding=\"same\")(act_4a)\n",
    "# act_4b = Activation(\"relu\")(conv_4b)\n",
    "\n",
    "# upsamp_5 = UpSampling2D((4,4))(act_4b)\n",
    "# concat_5 = concatenate([upsamp_5,act_3b],axis=3)\n",
    "# conv_5a = SeparableConv2D(256,(5,5),padding=\"same\")(concat_5)\n",
    "# act_5a = Activation(\"relu\")(conv_5a)\n",
    "# conv_5b = SeparableConv2D(256,(5,5),padding=\"same\")(act_5a)\n",
    "# act_5b = Activation(\"relu\")(conv_5b)\n",
    "\n",
    "\n",
    "# upsamp_6 = UpSampling2D((4,4))(act_5b)\n",
    "# concat_6 = concatenate([upsamp_6,act_2b],axis=3)\n",
    "# conv_6a = SeparableConv2D(16,(5,5),padding=\"same\")(concat_6)\n",
    "# act_6a = Activation(\"relu\")(conv_6a)\n",
    "# conv_6b = SeparableConv2D(16,(5,5),padding=\"same\")(act_6a)\n",
    "# act_6b = Activation(\"relu\")(conv_6b)\n",
    "\n",
    "# upsamp_7 = UpSampling2D((4,4))(act_6b)\n",
    "# concat_7 = concatenate([upsamp_7,act_1b],axis=3)\n",
    "# conv_7 = SeparableConv2D(8,(5,5),padding=\"same\")(concat_7)\n",
    "# act_7 = Activation(\"relu\")(conv_7)\n",
    "\n",
    "# conv_8 = SeparableConv2D(8,(5,5),padding=\"same\")(act_7)\n",
    "# act_8 = Activation(\"relu\")(conv_8)\n",
    "\n",
    "# out = SeparableConv2D(2,(1,1),padding=\"same\")(act_8)\n",
    "\n",
    "\n",
    "# mod = Model(cnn_input, out)\n",
    "# mod.compile(optimizer=\"adam\", loss=\"mae\",metrics=['acc'])\n",
    "# mod.summary()\n",
    "# run_num=0"
   ]
  },
  {
   "cell_type": "code",
   "execution_count": null,
   "metadata": {},
   "outputs": [],
   "source": [
    "nn_descript = 'UNET'\n",
    "cnn_input = Input(shape=scaled_in_data.shape[1:])  # input\n",
    "\n",
    "conv_1a = SeparableConv2D(8, (5, 5), padding=\"same\")(cnn_input)\n",
    "act_1a = Activation(\"relu\")(conv_1a)\n",
    "conv_1b = SeparableConv2D(8, (5, 5), padding=\"same\")(act_1a)\n",
    "act_1b = Activation(\"relu\")(conv_1b)\n",
    "pool_1 = MaxPool2D(pool_size=(4, 4))(act_1b)\n",
    "\n",
    "conv_2a = SeparableConv2D(32,(5,5),padding=\"same\")(pool_1)\n",
    "act_2a = Activation(\"relu\")(conv_2a)\n",
    "conv_2b = SeparableConv2D(32,(5,5),padding=\"same\")(act_2a)\n",
    "act_2b = Activation(\"relu\")(conv_2b)\n",
    "pool_2 = MaxPool2D(pool_size=(4, 4))(act_2b)\n",
    "\n",
    "conv_3a = SeparableConv2D(64,(5,5),padding=\"same\")(pool_2)\n",
    "act_3a = Activation(\"relu\")(conv_3a)\n",
    "conv_3b = SeparableConv2D(64,(5,5),padding=\"same\")(act_3a)\n",
    "act_3b = Activation(\"relu\")(conv_3b)\n",
    "pool_3 = MaxPool2D(pool_size=(4, 4))(act_3b)\n",
    "\n",
    "conv_4a = SeparableConv2D(128,(5,5),padding=\"same\")(pool_3)\n",
    "act_4a = Activation(\"relu\")(conv_4a)\n",
    "\n",
    "conv_4b = SeparableConv2D(128,(5,5),padding=\"same\")(act_4a)\n",
    "act_4b = Activation(\"relu\")(conv_4b)\n",
    "\n",
    "upsamp_5 = UpSampling2D((4,4))(act_4b)\n",
    "concat_5 = concatenate([upsamp_5,act_3b],axis=3)\n",
    "conv_5a = SeparableConv2D(64,(5,5),padding=\"same\")(concat_5)\n",
    "act_5a = Activation(\"relu\")(conv_5a)\n",
    "conv_5b = SeparableConv2D(64,(5,5),padding=\"same\")(act_5a)\n",
    "act_5b = Activation(\"relu\")(conv_5b)\n",
    "\n",
    "\n",
    "upsamp_6 = UpSampling2D((4,4))(act_5b)\n",
    "concat_6 = concatenate([upsamp_6,act_2b],axis=3)\n",
    "conv_6a = SeparableConv2D(32,(5,5),padding=\"same\")(concat_6)\n",
    "act_6a = Activation(\"relu\")(conv_6a)\n",
    "conv_6b = SeparableConv2D(32,(5,5),padding=\"same\")(act_6a)\n",
    "act_6b = Activation(\"relu\")(conv_6b)\n",
    "\n",
    "upsamp_7 = UpSampling2D((4,4))(act_6b)\n",
    "concat_7 = concatenate([upsamp_7,act_1b],axis=3)\n",
    "conv_7 = SeparableConv2D(8,(5,5),padding=\"same\")(concat_7)\n",
    "act_7 = Activation(\"relu\")(conv_7)\n",
    "\n",
    "conv_8 = SeparableConv2D(8,(5,5),padding=\"same\")(act_7)\n",
    "act_8 = Activation(\"relu\")(conv_8)\n",
    "\n",
    "out = SeparableConv2D(2,(1,1),padding=\"same\")(act_8)\n",
    "\n",
    "\n",
    "mod = Model(cnn_input, out)\n",
    "mod.compile(optimizer=\"adam\", loss=\"mae\",metrics=['acc'])\n",
    "mod.summary()\n",
    "run_num=0"
   ]
  },
  {
   "cell_type": "code",
   "execution_count": null,
   "metadata": {},
   "outputs": [],
   "source": [
    "plot_model(mod,show_shapes=True,to_file=\"results/holodec_\"+nn_descript+'_'+ds_file.replace(\".nc\",\"\")+\".png\")"
   ]
  },
  {
   "cell_type": "code",
   "execution_count": null,
   "metadata": {},
   "outputs": [],
   "source": [
    "scaled_in_data[valid_index:split_index].shape"
   ]
  },
  {
   "cell_type": "code",
   "execution_count": null,
   "metadata": {},
   "outputs": [],
   "source": [
    "history = mod.fit(scaled_in_data[valid_index:split_index].values,\n",
    "                  scaled_train_labels.values, \n",
    "                  batch_size=64, epochs=num_epochs, verbose=1,\n",
    "                  validation_data=(scaled_in_data[:valid_index].values,scaled_val_labels.values))\n",
    "run_num+=1"
   ]
  },
  {
   "cell_type": "code",
   "execution_count": null,
   "metadata": {},
   "outputs": [],
   "source": [
    "epochs = np.arange(len(history.history['loss']))+1\n",
    "fig, ax = plt.subplots(1, 1, figsize=(8, 4))\n",
    "ax.plot(epochs,history.history['loss'],'bo-',alpha=0.5,label='Training')\n",
    "ax.plot(epochs,history.history['val_loss'],'rs-',alpha=0.5,label='Validation')\n",
    "ax.set_xlabel('Epoch')\n",
    "ax.set_ylabel('Loss')\n",
    "ax.grid(b=True)\n",
    "plt.legend()\n",
    "plt.savefig(\"results/LossHistory_\"+nn_descript+'_'+ds_file.replace(\".nc\",\"\")+f\"_{num_epochs}epochs_run{run_num}\"+\".png\", dpi=200, bbox_inches=\"tight\")\n",
    "\n",
    "fig, bx = plt.subplots(1, 1, figsize=(8, 4))\n",
    "bx.plot(epochs,history.history['acc'],'bo-',alpha=0.5,label='Training')\n",
    "bx.plot(epochs,history.history['val_acc'],'rs-',alpha=0.5,label='Validation')\n",
    "bx.set_xlabel('Epoch')\n",
    "bx.set_ylabel('Accuracy')\n",
    "bx.grid(b=True)\n",
    "plt.legend()\n",
    "plt.savefig(\"results/AccuracyHistory_\"+nn_descript+'_'+ds_file.replace(\".nc\",\"\")+f\"_{num_epochs}epochs_run{run_num}\"+\".png\", dpi=200, bbox_inches=\"tight\")\n"
   ]
  },
  {
   "cell_type": "code",
   "execution_count": null,
   "metadata": {},
   "outputs": [],
   "source": [
    "save_model(mod, ds_path+\"/models/holodec_\"+nn_descript+'_'+ds_file.replace(\".nc\",\"\")+f\"{num_epochs}epochs_run{run_num}\"+\".h5\", save_format=\"h5\")"
   ]
  },
  {
   "cell_type": "code",
   "execution_count": null,
   "metadata": {},
   "outputs": [],
   "source": [
    "# can skip the training process and just load the CNN model\n",
    "# mod = load_model(ds_path+\"/models/holodec_UNET_image_data_256x256_5000count30epochs_run1.h5\")"
   ]
  },
  {
   "cell_type": "code",
   "execution_count": null,
   "metadata": {},
   "outputs": [],
   "source": [
    "cnn_start = datetime.datetime.now()\n",
    "preds_out = mod.predict(scaled_in_data.values, batch_size=64)\n",
    "cnn_stop = datetime.datetime.now()\n",
    "print(f\"{scaled_in_data.values.shape[0]} samples in {(cnn_stop-cnn_start).total_seconds()} seconds\")\n",
    "print(f\"for {(cnn_stop-cnn_start).total_seconds()/scaled_in_data.values.shape[0]} seconds per hologram\")"
   ]
  },
  {
   "cell_type": "code",
   "execution_count": null,
   "metadata": {},
   "outputs": [],
   "source": [
    "preds_out.shape"
   ]
  },
  {
   "cell_type": "code",
   "execution_count": null,
   "metadata": {},
   "outputs": [],
   "source": [
    "preds_out_da = xr.DataArray(preds_out,dims=('hologram_number','xsize','ysize','type'),\n",
    "                            coords=all_labels.coords)"
   ]
  },
  {
   "cell_type": "code",
   "execution_count": null,
   "metadata": {},
   "outputs": [],
   "source": [
    "preds_original = scaler.inverse_transform(preds_out_da)"
   ]
  },
  {
   "cell_type": "code",
   "execution_count": null,
   "metadata": {},
   "outputs": [],
   "source": [
    "mean_error = (preds_original[split_index:] - test_labels).mean(dim=('hologram_number','xsize','ysize'))\n",
    "std_error = (preds_original[split_index:] - test_labels).std(dim=('hologram_number','xsize','ysize'))"
   ]
  },
  {
   "cell_type": "code",
   "execution_count": null,
   "metadata": {},
   "outputs": [],
   "source": [
    "validation_data = {}\n",
    "fig, axes = plt.subplots(1, 2, figsize=(8, 4))\n",
    "for a, clabel in enumerate(all_labels.coords['type'].values):\n",
    "    ax=axes.ravel()[a]\n",
    "    ax.scatter(test_labels.sel(channel=clabel).values.flatten(), preds_original.sel(channel=clabel,hologram_number=slice(split_index,None)).values.flatten(), 1, 'k')\n",
    "    diag = np.linspace(test_labels.sel(channel=clabel).min(), test_labels.sel(channel=clabel).max(), 10)\n",
    "    ax.plot(diag, diag, 'b--' )\n",
    "    ax.set_title(clabel)\n",
    "    plt.text(0.1,0.9,f\"${mean_error.sel(channel=clabel).values:.1f} \\pm {std_error.sel(channel=clabel).values:.1f} \\mu m$\",ha='left',va='top',transform=ax.transAxes)\n",
    "#     validation_data[test_labels.columns[a]] = test_labels.iloc[:, a]\n",
    "#     validation_data[test_labels.columns[a]+'_pred'] = preds_original[split_index:, a]\n",
    "plt.savefig(\"results/error_scatter_\"+nn_descript+'_'+ds_file.replace(\".nc\",\"\")+f\"{num_epochs}epochs_run{run_num}\"+\".png\", dpi=200, bbox_inches=\"tight\")\n",
    "# validation_data_df = pd.DataFrame(validation_data)"
   ]
  },
  {
   "cell_type": "code",
   "execution_count": null,
   "metadata": {},
   "outputs": [],
   "source": [
    "mean_error"
   ]
  },
  {
   "cell_type": "code",
   "execution_count": null,
   "metadata": {},
   "outputs": [],
   "source": [
    "std_error"
   ]
  },
  {
   "cell_type": "code",
   "execution_count": null,
   "metadata": {},
   "outputs": [],
   "source": [
    "ind=428\n",
    "fig, ax = plt.subplots(2, 2, figsize=(8, 8))\n",
    "ax = ax.ravel()\n",
    "ax[0].imshow(preds_original.sel(type='amplitude',hologram_number=ind).values)\n",
    "ax[1].imshow(all_labels.sel(type='amplitude',hologram_number=ind).values,vmin=0,vmax=1)\n",
    "ax[2].imshow(preds_original.sel(type='z',hologram_number=ind).values,vmin=-1e-3,vmax=0)\n",
    "ax[3].imshow(all_labels.sel(type='z',hologram_number=ind).values,vmin=-1e-3,vmax=0)"
   ]
  },
  {
   "cell_type": "code",
   "execution_count": null,
   "metadata": {},
   "outputs": [],
   "source": [
    "preds_original.sel(channel='amplitude',hologram_number=ind).values"
   ]
  },
  {
   "cell_type": "code",
   "execution_count": null,
   "metadata": {},
   "outputs": [],
   "source": [
    "test_labels.sel(channel='z').max()"
   ]
  },
  {
   "cell_type": "code",
   "execution_count": null,
   "metadata": {},
   "outputs": [],
   "source": [
    "all_labels.coords['channel'].values"
   ]
  },
  {
   "cell_type": "code",
   "execution_count": null,
   "metadata": {},
   "outputs": [],
   "source": [
    "test_z = test_labels.sel(type='z').values.flatten()\n",
    "pred_z = preds_original.sel(type='z',hologram_number=slice(split_index,None)).values.flatten()"
   ]
  },
  {
   "cell_type": "code",
   "execution_count": null,
   "metadata": {},
   "outputs": [],
   "source": [
    "test_a = test_labels.sel(type='amplitude').values.flatten()\n",
    "pred_a = preds_original.sel(type='amplitude',hologram_number=slice(split_index,None)).values.flatten()"
   ]
  },
  {
   "cell_type": "code",
   "execution_count": null,
   "metadata": {},
   "outputs": [],
   "source": [
    "idel = np.nonzero(test_a==1)[0]\n",
    "test_z = np.delete(test_z,idel)\n",
    "pred_z = np.delete(pred_z,idel)"
   ]
  },
  {
   "cell_type": "code",
   "execution_count": null,
   "metadata": {},
   "outputs": [],
   "source": [
    "test_a = np.delete(test_a,idel)\n",
    "pred_a = np.delete(pred_a,idel)"
   ]
  },
  {
   "cell_type": "code",
   "execution_count": null,
   "metadata": {},
   "outputs": [],
   "source": [
    "fig, axes = plt.subplots(1, 2, figsize=(8, 4))\n",
    "axes[0].scatter(test_z, pred_z, 1, 'k')\n",
    "axes[1].scatter(test_a, pred_a, 1, 'k')"
   ]
  },
  {
   "cell_type": "code",
   "execution_count": null,
   "metadata": {},
   "outputs": [],
   "source": [
    "\n",
    "\n",
    "fig, axes = plt.subplots(1, 2, figsize=(8, 4))\n",
    "axes[0].scatter(test_a, pred_a, 1, 'k')"
   ]
  },
  {
   "cell_type": "code",
   "execution_count": null,
   "metadata": {},
   "outputs": [],
   "source": [
    "preds_original.sel(channel='amplitude',hologram_number=ind).values.min()"
   ]
  },
  {
   "cell_type": "code",
   "execution_count": null,
   "metadata": {},
   "outputs": [],
   "source": []
  }
 ],
 "metadata": {
  "kernelspec": {
   "display_name": "Python 3",
   "language": "python",
   "name": "python3"
  },
  "language_info": {
   "codemirror_mode": {
    "name": "ipython",
    "version": 3
   },
   "file_extension": ".py",
   "mimetype": "text/x-python",
   "name": "python",
   "nbconvert_exporter": "python",
   "pygments_lexer": "ipython3",
   "version": "3.7.3"
  }
 },
 "nbformat": 4,
 "nbformat_minor": 2
}
