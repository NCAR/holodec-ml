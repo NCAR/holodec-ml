{
 "cells": [
  {
   "cell_type": "code",
   "execution_count": 1,
   "id": "cb874539-704c-4569-a871-cb0e4233e789",
   "metadata": {},
   "outputs": [],
   "source": [
    "import glob\n",
    "import pickle\n",
    "import numpy as np\n",
    "import xarray as xr\n",
    "from munkres import Munkres\n",
    "from datetime import datetime\n",
    "import matplotlib.pyplot as plt\n",
    "import plotly.express as px\n",
    "\n",
    "import plotly.graph_objects as go\n",
    "\n",
    "from scipy.sparse import csr_matrix, save_npz\n",
    "from scipy.ndimage import label, find_objects"
   ]
  },
  {
   "cell_type": "markdown",
   "id": "149ea6c0-0ed9-47bf-a218-584eaa014692",
   "metadata": {},
   "source": [
    "### Establish paths, load original data"
   ]
  },
  {
   "cell_type": "code",
   "execution_count": 2,
   "id": "57c12ff8-df20-4cd8-8788-51e9a5526601",
   "metadata": {},
   "outputs": [],
   "source": [
    "real='synthetic' # real or synthetic\n",
    "model='holosuite' # manopt or holosuite or optimized_noiselss\n",
    "model_loc=f\"/glade/work/schreck/repos/HOLO/dev/holodec-ml/results/{model}/\"\n",
    "model_save=f\"/glade/scratch/ggantos/holodec/models/{model}/\""
   ]
  },
  {
   "cell_type": "code",
   "execution_count": null,
   "id": "092c4153-07f3-4635-8ae6-8ea422023c01",
   "metadata": {},
   "outputs": [],
   "source": [
    "try:\n",
    "    h_idx_indices = list(set(sorted([int(x.split(\"_\")[1]) for x in glob.glob(f\"{model_loc}/{real}/propagated/true*\")])))\n",
    "except:\n",
    "    h_idx_indices = list(set(sorted([int(x.split(\"_\")[2]) for x in glob.glob(f\"{model_loc}/{real}/propagated/true*\")])))\n",
    "print(f\"h_idx_indices: {h_idx_indices}\")"
   ]
  },
  {
   "cell_type": "code",
   "execution_count": null,
   "id": "727480e8-d08a-46d9-b4ab-cc952882f7d4",
   "metadata": {},
   "outputs": [],
   "source": [
    "try:\n",
    "    z_file_indices = list(np.load(f\"{model_save}inference/z_indices.npy\"))\n",
    "    print(f\"z_file_indices from file {model_save}inference/z_indices.npy range from {min(z_file_indices)} to {max(z_file_indices)} and there are {len(z_file_indices)} indices.\")\n",
    "except:\n",
    "    z_file_indices = sorted([int(x.replace(\".npz\", \"\").split(\"_\")[-1]) for x in glob.glob(f\"{model_loc}/{real}/propagated/true_{h_idx_indices[0]}_*\")])\n",
    "    print(f\"z_file_indices range from {min(z_file_indices)} to {max(z_file_indices)} and there are {len(z_file_indices)} indices.\")"
   ]
  },
  {
   "cell_type": "code",
   "execution_count": 3,
   "id": "49f60bac-5cfb-4f05-bb7b-1ab2310c11f2",
   "metadata": {},
   "outputs": [],
   "source": [
    "if 'real' in real:\n",
    "    print(\"real\")\n",
    "    ds = xr.open_dataset(\"/glade/p/cisl/aiml/ai4ess_hackathon/holodec/real_holograms_CSET_RF07_20150719_200000-210000.nc\")\n",
    "else:\n",
    "    ds = xr.open_dataset(\"/glade/p/cisl/aiml/ai4ess_hackathon/holodec/synthetic_holograms_500particle_gamma_4872x3248_test.nc\")\n",
    "dx = ds.attrs['dx']      # horizontal resolution\n",
    "dy = ds.attrs['dy']      # vertical resolution\n"
   ]
  },
  {
   "cell_type": "markdown",
   "id": "14e5b527-179b-4cca-b93e-657779dff6f8",
   "metadata": {},
   "source": [
    "### Create SciPy Objects\n"
   ]
  },
  {
   "cell_type": "code",
   "execution_count": null,
   "id": "25167727-f985-463b-affa-9a3c8aaeee02",
   "metadata": {},
   "outputs": [],
   "source": [
    "def load_sparse_csr(filename):\n",
    "    # here we need to add .npz extension manually\n",
    "    loader = np.load(filename + '.npz')\n",
    "    return csr_matrix((loader['data'], loader['indices'], loader['indptr']),\n",
    "                      shape=loader['shape'])"
   ]
  },
  {
   "cell_type": "code",
   "execution_count": null,
   "id": "f98fe93c-fccb-41b0-8764-a88546382811",
   "metadata": {
    "scrolled": true,
    "tags": []
   },
   "outputs": [],
   "source": [
    "# Create scipy objects\n",
    "for h_idx in h_idx_indices:\n",
    "    for true in ['true', 'pred']:\n",
    "        start_3d = datetime.now()\n",
    "        array3d = []\n",
    "        for z_file in z_file_indices:\n",
    "            try:\n",
    "                array2d = load_sparse_csr(f\"{model_loc}/{real}/propagated/{true}_{h_idx}_{z_file}\").toarray()\n",
    "                array3d.append(array2d)\n",
    "            except:\n",
    "                array2d = np.zeros((4872, 3248))\n",
    "                array3d.append(array2d)\n",
    "        array3d = np.stack(array3d)\n",
    "        print(array3d.shape)\n",
    "        print(f\"Loading 3D {true} took {datetime.now() - start_3d} time\")\n",
    "        print(f\"\\th_idx {h_idx} has {np.sum(array3d)} non-zero values\")\n",
    "\n",
    "        start_label = datetime.now()\n",
    "        labeled_array, num_features = label(array3d, structure=None)\n",
    "#         np.save(f\"{model_save}inference/{real}/num_features_{true}_{h_idx}\", num_features)\n",
    "#         np.save(f\"{model_save}inference/{real}/labeled_array_{true}_{h_idx}\", labeled_array)\n",
    "        print(f\"Number of features found from {true} masks is {num_features}.\")\n",
    "        print(f\"Shape of labeled_array_{true} {labeled_array.shape}.\")\n",
    "        print(f\"Scipy label for {true}_3D took {datetime.now() - start_label} time\")\n",
    "\n",
    "        start_fo = datetime.now()\n",
    "        objects = find_objects(labeled_array)\n",
    "        np.save(f\"{model_save}inference/{real}/objects_{true}_{h_idx}\", objects)\n",
    "        print(f\"Scipy find_objects for {true}_3D took {datetime.now() - start_fo} time\\n\")\n",
    "del array2d, array3d, labeled_array, num_features, objects"
   ]
  },
  {
   "cell_type": "markdown",
   "id": "aae0d1f4-1b39-4e05-862f-83c9e591a012",
   "metadata": {},
   "source": [
    "<!-- ### Load all hologram data (predicted, true, and original) into one dictionary -->\n",
    "\n",
    "* predicted: model output\n",
    "* true: model masks input as target variable and processed with scipy label & find_objects\n",
    "* original: original data without scipy or model interference"
   ]
  },
  {
   "cell_type": "code",
   "execution_count": null,
   "id": "3af52eac-dae4-41bc-b3e7-413cbf278d12",
   "metadata": {},
   "outputs": [],
   "source": [
    "particles= {}\n",
    "for h_idx in h_idx_indices:\n",
    "    particles[h_idx] = {}\n",
    "    particles[h_idx]['orig'] = {}\n",
    "\n",
    "    particle_idx = np.where(ds['hid'].values==h_idx+1)\n",
    "    particles[h_idx]['orig']['x'] = ds['x'].values[particle_idx]\n",
    "    particles[h_idx]['orig']['y'] = ds['y'].values[particle_idx]\n",
    "    particles[h_idx]['orig']['z'] = ds['z'].values[particle_idx]\n",
    "    particles[h_idx]['orig']['d'] = ds['d'].values[particle_idx]\n",
    "\n",
    "    for true in ('true', 'pred'):\n",
    "        particles[h_idx][true] = {}\n",
    "        objects = np.load(f\"{model_save}inference/{real}/objects_{true}_{h_idx}.npy\", allow_pickle=True)\n",
    "        if objects.shape[0] == 0:\n",
    "            print(f\"Removing h_idx {h_idx} from h_idx_indices: {model_save}inference/{real}/objects_{true}_{h_idx}.npy empty\")\n",
    "            h_idx_indices = list(set(h_idx_indices)^set([h_idx]))\n",
    "            particles.pop(h_idx, None)\n",
    "        else:\n",
    "            x = []\n",
    "            y = []\n",
    "            z = []\n",
    "            d = []\n",
    "            for obj in objects:\n",
    "                x.append(int((obj[1].stop + obj[1].start)/2))\n",
    "                y.append(int((obj[2].stop + obj[2].start)/2))\n",
    "                z.append(z_file_indices[int((obj[0].stop + obj[0].start)/2)])\n",
    "\n",
    "                d_x = (obj[1].stop + obj[1].start) * dx\n",
    "                d_y = (obj[2].stop + obj[2].start) * dy\n",
    "                d.append((d_x + d_y) / 2 / 1e-6)\n",
    "\n",
    "            particles[h_idx][true]['z'] = np.array(z)\n",
    "            x = np.array(x) * dx * 1e6\n",
    "            particles[h_idx][true]['x'] = x - (np.max(x) - np.min(x)) / 2\n",
    "            y = np.array(y) * dy * 1e6\n",
    "            particles[h_idx][true]['y'] = y - (np.max(y) - np.min(y)) / 2\n",
    "            particles[h_idx][true]['d'] = np.array(d)\n"
   ]
  },
  {
   "cell_type": "code",
   "execution_count": null,
   "id": "2cd6e52b-2923-46e4-badf-ef44c5d4b151",
   "metadata": {},
   "outputs": [],
   "source": [
    "print(f\"{real} find objects\")\n",
    "for h_idx in h_idx_indices:\n",
    "    pred_count = particles[h_idx]['pred']['x'].shape[0]\n",
    "    true_count = particles[h_idx]['true']['x'].shape[0]\n",
    "    orig_count = particles[h_idx]['orig']['x'].shape[0]\n",
    "    print(f\"Hologram {h_idx} -- pred: {pred_count} (- {orig_count - pred_count})\\ttrue: {true_count} (- {orig_count - true_count})\\torig: {orig_count}\")"
   ]
  },
  {
   "cell_type": "code",
   "execution_count": null,
   "id": "aadda3d3-aba4-42ba-80f5-f72143189082",
   "metadata": {},
   "outputs": [],
   "source": [
    "train = [0, 2, 3, 7] # 6,9\n",
    "test = [1, 4, 5, 8] # 6,9"
   ]
  },
  {
   "cell_type": "markdown",
   "id": "e674f31a-bd84-4bd8-b59a-f2f2e4b86758",
   "metadata": {},
   "source": [
    "### Load 2D \n",
    "\n",
    "[true, pred]"
   ]
  },
  {
   "cell_type": "code",
   "execution_count": 4,
   "id": "b7894830-f875-4f65-a790-6b291d117992",
   "metadata": {},
   "outputs": [],
   "source": [
    "model_table = \"holosuite\" # \"manopt\" #holosuite\n",
    "with open(f\"/glade/work/schreck/repos/HOLO/dev/holodec-ml/results/paper_figures/data/holodec_{model_table}_table.pkl\", \"rb\") as input_file:\n",
    "# with open(f\"/glade/work/schreck/repos/HOLO/dev/holodec-ml/results/paper_figures/data/{model_table}.pkl\", \"rb\") as input_file:\n",
    "    mapping_table = pickle.load(input_file)"
   ]
  },
  {
   "cell_type": "code",
   "execution_count": null,
   "id": "acea2b10-3779-4cca-92ed-169fd03e2dd4",
   "metadata": {
    "scrolled": true,
    "tags": []
   },
   "outputs": [],
   "source": [
    "for t in mapping_table:\n",
    "    print(type(t[4]))"
   ]
  },
  {
   "cell_type": "code",
   "execution_count": 5,
   "id": "2911b32f-cabd-49f4-92e8-bbee2e9fa51d",
   "metadata": {},
   "outputs": [],
   "source": [
    "scale_x = 2.96e-06\n",
    "scale_y = 2.96e-06\n",
    "scale_z = 1.00e-06\n",
    "scale_d = 2.96e-06\n",
    "\n",
    "particles = {}\n",
    "\n",
    "for h_idx in list(mapping_table.keys()):\n",
    "\n",
    "    particles[h_idx] = {}\n",
    "    particles[h_idx]['true_2d'] = {}\n",
    "    particles[h_idx]['pred_2d'] = {}\n",
    "    particles[h_idx]['true_2d_matched'] = {}\n",
    "    particles[h_idx]['true_2d_unmatched'] = {}\n",
    "    particles[h_idx]['pred_2d_matched'] = {}\n",
    "    particles[h_idx]['pred_2d_unmatched'] = {}\n",
    "\n",
    "    for k in particles[h_idx].keys():\n",
    "        for coord in ['x', 'y', 'z', 'd']:\n",
    "            particles[h_idx][k][coord] = []\n",
    "\n",
    "    for p in range(len(mapping_table[h_idx])):\n",
    "        if mapping_table[h_idx][p][0] == 'None':\n",
    "            pred = [int(c) for c in mapping_table[h_idx][p][1].split()]\n",
    "            particles[h_idx]['pred_2d_unmatched']['x'].append(pred[0])\n",
    "            particles[h_idx]['pred_2d_unmatched']['y'].append(pred[1])\n",
    "            particles[h_idx]['pred_2d_unmatched']['z'].append(pred[2])\n",
    "            particles[h_idx]['pred_2d_unmatched']['d'].append(pred[3])\n",
    "            particles[h_idx]['pred_2d']['x'].append(pred[0])\n",
    "            particles[h_idx]['pred_2d']['y'].append(pred[1])\n",
    "            particles[h_idx]['pred_2d']['z'].append(pred[2])\n",
    "            particles[h_idx]['pred_2d']['d'].append(pred[3])\n",
    "        elif mapping_table[h_idx][p][1] == 'None':\n",
    "            true = [int(c) for c in mapping_table[h_idx][p][0].split()]\n",
    "            particles[h_idx]['true_2d_unmatched']['x'].append(true[0])\n",
    "            particles[h_idx]['true_2d_unmatched']['y'].append(true[1])\n",
    "            particles[h_idx]['true_2d_unmatched']['z'].append(true[2])\n",
    "            particles[h_idx]['true_2d_unmatched']['d'].append(true[3])\n",
    "            particles[h_idx]['true_2d']['x'].append(true[0])\n",
    "            particles[h_idx]['true_2d']['y'].append(true[1])\n",
    "            particles[h_idx]['true_2d']['z'].append(true[2])\n",
    "            particles[h_idx]['true_2d']['d'].append(true[3])\n",
    "        else:\n",
    "            true = [int(c) for c in mapping_table[h_idx][p][0].split()]\n",
    "            particles[h_idx]['true_2d_matched']['x'].append(true[0])\n",
    "            particles[h_idx]['true_2d_matched']['y'].append(true[1])\n",
    "            particles[h_idx]['true_2d_matched']['z'].append(true[2])\n",
    "            particles[h_idx]['true_2d_matched']['d'].append(true[3])\n",
    "            particles[h_idx]['true_2d']['x'].append(true[0])\n",
    "            particles[h_idx]['true_2d']['y'].append(true[1])\n",
    "            particles[h_idx]['true_2d']['z'].append(true[2])\n",
    "            particles[h_idx]['true_2d']['d'].append(true[3])\n",
    "            pred = [int(c) for c in mapping_table[h_idx][p][1].split()]\n",
    "            particles[h_idx]['pred_2d_matched']['x'].append(pred[0])\n",
    "            particles[h_idx]['pred_2d_matched']['y'].append(pred[1])\n",
    "            particles[h_idx]['pred_2d_matched']['z'].append(pred[2])\n",
    "            particles[h_idx]['pred_2d_matched']['d'].append(pred[3])\n",
    "            particles[h_idx]['pred_2d']['x'].append(pred[0])\n",
    "            particles[h_idx]['pred_2d']['y'].append(pred[1])\n",
    "            particles[h_idx]['pred_2d']['z'].append(pred[2])\n",
    "            particles[h_idx]['pred_2d']['d'].append(pred[3])\n",
    "\n",
    "    for k in particles[h_idx].keys():\n",
    "        particles[h_idx][k]['x'] = np.array(particles[h_idx][k]['x']) * dx * 1e6\n",
    "        particles[h_idx][k]['y'] = np.array(particles[h_idx][k]['y']) * dy * 1e6\n",
    "        particles[h_idx][k]['z'] = np.array(particles[h_idx][k]['z'])\n",
    "        particles[h_idx][k]['d'] = np.array(particles[h_idx][k]['d']) * dx * 1e6\n",
    "\n",
    "    for k in particles[h_idx].keys():\n",
    "        if particles[h_idx][k]['x'].shape[0] > 0:\n",
    "            if 'true' in k:\n",
    "                particles[h_idx][k]['x'] = particles[h_idx][k]['x'] - (np.max(particles[h_idx]['true_2d']['x']) - np.min(particles[h_idx]['true_2d']['x'])) / 2\n",
    "                particles[h_idx][k]['y'] = particles[h_idx][k]['y'] - (np.max(particles[h_idx]['true_2d']['y']) - np.min(particles[h_idx]['true_2d']['y'])) / 2\n",
    "            else:\n",
    "                particles[h_idx][k]['x'] = particles[h_idx][k]['x'] - (np.max(particles[h_idx]['pred_2d']['x']) - np.min(particles[h_idx]['pred_2d']['x'])) / 2\n",
    "                particles[h_idx][k]['y'] = particles[h_idx][k]['y'] - (np.max(particles[h_idx]['pred_2d']['y']) - np.min(particles[h_idx]['pred_2d']['y'])) / 2                \n"
   ]
  },
  {
   "cell_type": "code",
   "execution_count": 7,
   "id": "c0476289-4e9a-47c4-a759-6a4ee133931f",
   "metadata": {},
   "outputs": [],
   "source": [
    "with open(f\"{model_save}inference/{real}/{model}_particles.pkl\", 'wb') as handle:\n",
    "    pickle.dump(particles, handle, protocol=pickle.HIGHEST_PROTOCOL)"
   ]
  },
  {
   "cell_type": "markdown",
   "id": "582a0183-8468-461d-a0b6-900d0661963a",
   "metadata": {},
   "source": [
    "### Summary of particles captured by both methods"
   ]
  },
  {
   "cell_type": "code",
   "execution_count": null,
   "id": "cb17d698-78b8-4cfa-b8f2-d348fc6fd8d5",
   "metadata": {},
   "outputs": [],
   "source": [
    "trues = ['true', 'pred', 'true_2d', 'pred_2d', 'orig']\n",
    "particle_counts = []\n",
    "for h_idx in h_idx_indices:\n",
    "    counts = []\n",
    "    for true in trues:\n",
    "        counts.append(particles[h_idx][true]['x'].shape[0])\n",
    "    particle_counts.append(counts)"
   ]
  },
  {
   "cell_type": "code",
   "execution_count": null,
   "id": "b4e87c2e-1078-4780-b0d7-83a0e23f4ae1",
   "metadata": {},
   "outputs": [],
   "source": [
    "totals = []\n",
    "for i in range(5):\n",
    "    total = 0\n",
    "    for j in range(len(particle_counts)):\n",
    "        total += particle_counts[j][i]\n",
    "    totals.append(total)\n",
    "particle_counts.append(totals)"
   ]
  },
  {
   "cell_type": "code",
   "execution_count": null,
   "id": "d7238941-7a21-4e9c-90ab-a05606132b6a",
   "metadata": {},
   "outputs": [],
   "source": [
    "rcolors = plt.cm.BuPu(np.full(len(h_idx_indices) + 1, 0.1))\n",
    "ccolors = plt.cm.BuPu(np.full(len(trues), 0.1))\n",
    "\n",
    "fig, ax = plt.subplots()\n",
    "ax.set_axis_off()\n",
    "table = ax.table(\n",
    "    cellText=particle_counts,\n",
    "    rowLabels=h_idx_indices + ['total'],\n",
    "    colLabels=trues,\n",
    "    rowColours=rcolors,\n",
    "    colColours=ccolors,\n",
    "    rowLoc='right',\n",
    "    cellLoc='center',\n",
    "    loc='upper left')\n",
    "\n",
    "ax.set_title('Particle Counts by h_idx', fontweight =\"bold\")\n",
    "plt.savefig(f\"{model_save}inference/{real}/particle_counts_by_h_idx.png\")\n",
    "plt.show()"
   ]
  },
  {
   "cell_type": "markdown",
   "id": "3ff6676d-1751-451a-a4f4-ead668e061e6",
   "metadata": {},
   "source": [
    "### Histograms Depicting Average of 10 particles"
   ]
  },
  {
   "cell_type": "code",
   "execution_count": null,
   "id": "aed658a4-1751-4470-b6b9-c17f1cf0cb9b",
   "metadata": {},
   "outputs": [],
   "source": [
    "bins = {'z': np.arange(14000,158000,2000),\n",
    "        'x': np.arange(-7300,7300,200),\n",
    "        'y': np.arange(-4800,4800,200),\n",
    "        'd': np.arange(0,139,3)}\n",
    "\n",
    "widths = {'x': 130,\n",
    "          'y': 130,\n",
    "          'z': 1300,\n",
    "          'd': 2}\n",
    "\n",
    "if 'real' in real:\n",
    "    true_label = \"Holosuite\"\n",
    "else:\n",
    "    true_label = \"True\"\n"
   ]
  },
  {
   "cell_type": "code",
   "execution_count": null,
   "id": "e6a3246e-4201-4bc4-a8bc-542833912349",
   "metadata": {},
   "outputs": [],
   "source": [
    "hist_avg = {}\n",
    "\n",
    "for true in ('true', 'pred', 'orig', 'pred_2d', 'true_2d'):\n",
    "    hist_avg[true] = {}\n",
    "    for coord in ['x', 'y', 'z', 'd']:\n",
    "        hist = []\n",
    "        for h_idx in h_idx_indices:\n",
    "            h, binEdges = np.histogram(particles[h_idx][true][coord], bins=bins[coord])\n",
    "            hist.append(h)\n",
    "        hist_avg[true][coord] = np.stack(hist)\n",
    "        hist_avg[true][coord+'_mean'] = np.stack(hist).mean(axis=0)\n",
    "        hist_avg[true][coord+'_std'] = np.stack(hist).std(axis=0) / ((len(h_idx_indices) - 1) ** 0.5)\n"
   ]
  },
  {
   "cell_type": "code",
   "execution_count": null,
   "id": "6fe131f5-b6de-4d32-9add-38f467084765",
   "metadata": {},
   "outputs": [],
   "source": [
    "for coord in ['x', 'y', 'z', 'd']:\n",
    "    plt.figure(figsize=(20,6))\n",
    "    _, binEdges = np.histogram(particles[h_idx]['pred'][coord], bins=bins[coord])\n",
    "    bincenters = 0.5*(binEdges[1:]+binEdges[:-1])\n",
    "    plt.title(f\"{coord} Coordinate Average Histogram\", fontsize=30)\n",
    "    plt.bar(bincenters, hist_avg['true'][f'{coord}_mean'], alpha=0.6, width=widths[coord], yerr=hist_avg['true'][f'{coord}_std'], label=true_label,\n",
    "            color='#ff7f0e', ecolor='#ff7f0e')\n",
    "    plt.bar(bincenters, hist_avg['pred'][f'{coord}_mean'], alpha=0.8, width=widths[coord], yerr=hist_avg['pred'][f'{coord}_std'], label='Predicted',\n",
    "            fill=False, linewidth=3, edgecolor='#1f77b4', ecolor='#1f77b4')\n",
    "    plt.legend()\n",
    "    plt.savefig(f\"{model_save}inference/{real}/hist_{coord}_avg.png\")\n",
    "    plt.yscale('log')\n",
    "    plt.show()"
   ]
  },
  {
   "cell_type": "code",
   "execution_count": null,
   "id": "e2899844-2df6-44f9-9670-716fb0f3118a",
   "metadata": {},
   "outputs": [],
   "source": [
    "for coord in ['x', 'y', 'z', 'd']:\n",
    "    plt.figure(figsize=(20,6))\n",
    "    _, binEdges = np.histogram(particles[h_idx]['pred_2d'][coord], bins=bins[coord])\n",
    "    bincenters = 0.5*(binEdges[1:]+binEdges[:-1])\n",
    "    plt.title(f\"{coord} Coordinate Average Histogram\", fontsize=30)\n",
    "    plt.bar(bincenters, hist_avg['true'][f'{coord}_mean'], alpha=0.6, width=widths[coord], yerr=hist_avg['true_2d'][f'{coord}_std'], label=true_label+'_2D',\n",
    "            color='#ff7f0e', ecolor='#ff7f0e')\n",
    "    plt.bar(bincenters, hist_avg['pred'][f'{coord}_mean'], alpha=0.8, width=widths[coord], yerr=hist_avg['pred_2d'][f'{coord}_std'], label='Predicted_2D',\n",
    "            fill=False, linewidth=3, edgecolor='#1f77b4', ecolor='#1f77b4')\n",
    "    plt.legend()\n",
    "    plt.savefig(f\"{model_save}inference/{real}/hist_{coord}_avg_2D.png\")\n",
    "    plt.yscale('log')\n",
    "    plt.show()"
   ]
  },
  {
   "cell_type": "markdown",
   "id": "7e21adcf-0bda-4c85-aca2-2a18e71f0d7c",
   "metadata": {},
   "source": [
    "### Histograms for individual holograms"
   ]
  },
  {
   "cell_type": "code",
   "execution_count": null,
   "id": "b0901701-4fca-4189-ad23-b4c2e44647d6",
   "metadata": {},
   "outputs": [],
   "source": [
    "for h_idx in h_idx_indices:\n",
    "    fig, ax = plt.subplots(nrows=1, ncols=4, figsize=(24,3))\n",
    "    fig.suptitle(f\"Hologram {h_idx}\", fontsize=16)\n",
    "    for i, coord in enumerate(['x', 'y', 'z', 'd']):\n",
    "        ax[i].hist(particles[h_idx]['pred'][coord], bins=bins[coord], alpha=0.8, label='Predicted', histtype='step', linewidth=3)\n",
    "        ax[i].hist(particles[h_idx]['true'][coord], bins=bins[coord], alpha=0.6, label=true_label)\n",
    "#         ax[i].hist(particles[h_idx]['orig'][coord], bins=bins[coord], alpha=0.6, label='Original')\n",
    "        ax[i].set_xlabel(f\"{coord} coordinate (µm)\")\n",
    "    plt.subplots_adjust(wspace=0.1)\n",
    "    plt.legend()\n",
    "    plt.show()\n",
    "    fig.savefig(f\"{model_save}inference/{real}/hist_{h_idx}.png\", bbox_inches = \"tight\")"
   ]
  },
  {
   "cell_type": "code",
   "execution_count": null,
   "id": "80c45cd8-af58-4eb2-bd95-6d7a13d50595",
   "metadata": {},
   "outputs": [],
   "source": [
    "for h_idx in h_idx_indices:\n",
    "    fig, ax = plt.subplots(nrows=1, ncols=4, figsize=(24,3))\n",
    "    fig.suptitle(f\"Hologram {h_idx}\", fontsize=16)\n",
    "    for i, coord in enumerate(['x', 'y', 'z', 'd']):\n",
    "        ax[i].hist(particles[h_idx]['pred_2d'][coord], bins=bins[coord], alpha=0.8, label='Predicted_2D', histtype='step', linewidth=3)\n",
    "        ax[i].hist(particles[h_idx]['true_2d'][coord], bins=bins[coord], alpha=0.6, label=true_label+'_2D')\n",
    "#         ax[i].hist(particles[h_idx]['orig'][coord], bins=bins[coord], alpha=0.6, label='Original')\n",
    "        ax[i].set_xlabel(f\"{coord} coordinate (µm)\")\n",
    "    plt.subplots_adjust(wspace=0.1)\n",
    "    plt.legend()\n",
    "    plt.show()\n",
    "    fig.savefig(f\"{model_save}inference/{real}/hist_{h_idx}_2d.png\", bbox_inches = \"tight\")"
   ]
  },
  {
   "cell_type": "markdown",
   "id": "5d11902b-2351-4c33-bec8-e9031f627835",
   "metadata": {},
   "source": [
    "### Calculating the Z-Relative Mass\n"
   ]
  },
  {
   "cell_type": "code",
   "execution_count": null,
   "id": "4d60c93e-c2b4-4654-9cad-276a739ba9cd",
   "metadata": {},
   "outputs": [],
   "source": [
    "z_bins = np.linspace(min(z_file_indices) - 100,\n",
    "                     max(z_file_indices) + 100,\n",
    "                     20)\n",
    "\n",
    "z_mass_dict = {}\n",
    "for true in ['true', 'pred']:\n",
    "    z_mass = np.zeros((len(h_idx_indices), 20), dtype=np.float32)\n",
    "    for i,h_idx in enumerate(h_idx_indices):\n",
    "        for p in range(particles[h_idx][true]['z'].shape[0]):\n",
    "            z_pos = np.searchsorted(z_bins, particles[h_idx][true]['z'][p], side=\"right\") - 1\n",
    "            mass = 4 / 3 * np.pi * (particles[h_idx][true]['d'][p]/2)**3\n",
    "            z_mass[i, z_pos] += mass\n",
    "    z_mass /= np.expand_dims(z_mass.sum(axis=1), -1)\n",
    "    z_mass_dict[true] = z_mass"
   ]
  },
  {
   "cell_type": "code",
   "execution_count": null,
   "id": "04b34e39-e7d4-472d-859d-0d6bc61ce76c",
   "metadata": {},
   "outputs": [],
   "source": [
    "plt.figure(figsize=(12,6))\n",
    "plt.bar(z_bins / 1000, z_mass_dict['true'].mean(axis=0),\n",
    "        (z_bins[1]-z_bins[0]) / 1000, color='#ff7f0e', alpha=0.6,\n",
    "        label=true_label)\n",
    "plt.bar(z_bins / 1000, z_mass_dict['pred'].mean(axis=0),\n",
    "        (z_bins[1] - z_bins[0]) / 1000, edgecolor='#1f77b4', linewidth=3, alpha=0.8, facecolor=\"none\", label='Predicted')\n",
    "plt.xlabel(\"z location (mm)\", fontsize=16)\n",
    "plt.ylabel(\"Mean Mass Distribution\", fontsize=16)\n",
    "plt.legend(loc=\"best\", fontsize=12)\n",
    "plt.savefig(f\"{model_save}inference/{real}/zmass_avg.png\")\n",
    "plt.show()"
   ]
  },
  {
   "cell_type": "markdown",
   "id": "6cc40b35-452d-4b01-8e3a-a630e0e111d1",
   "metadata": {},
   "source": [
    "### Calculating the Z-Relative Mass 2D\n"
   ]
  },
  {
   "cell_type": "code",
   "execution_count": null,
   "id": "aed9faa3-79db-44e9-91c5-2b75714b238e",
   "metadata": {},
   "outputs": [],
   "source": [
    "z_bins = np.linspace(min(z_file_indices) - 100,\n",
    "                     max(z_file_indices) + 100,\n",
    "                     20)\n",
    "\n",
    "z_mass_dict = {}\n",
    "for true in ['true_2d', 'pred_2d']:\n",
    "    z_mass = np.zeros((len(h_idx_indices), 20), dtype=np.float32)\n",
    "    for i,h_idx in enumerate(h_idx_indices):\n",
    "        for p in range(particles[h_idx][true]['z'].shape[0]):\n",
    "            z_pos = np.searchsorted(z_bins, particles[h_idx][true]['z'][p], side=\"right\") - 1\n",
    "            mass = 4 / 3 * np.pi * (particles[h_idx][true]['d'][p]/2)**3\n",
    "            z_mass[i, z_pos] += mass\n",
    "    z_mass /= np.expand_dims(z_mass.sum(axis=1), -1)\n",
    "    z_mass_dict[true] = z_mass"
   ]
  },
  {
   "cell_type": "code",
   "execution_count": null,
   "id": "acad9ae2-ed86-4609-9aa3-ff9ae6d714ea",
   "metadata": {},
   "outputs": [],
   "source": [
    "plt.figure(figsize=(12,6))\n",
    "plt.bar(z_bins / 1000, z_mass_dict['true_2d'].mean(axis=0),\n",
    "        (z_bins[1]-z_bins[0]) / 1000, color='#ff7f0e', alpha=0.6,\n",
    "        label=true_label+'_2D')\n",
    "plt.bar(z_bins / 1000, z_mass_dict['pred_2d'].mean(axis=0),\n",
    "        (z_bins[1] - z_bins[0]) / 1000, edgecolor='#1f77b4', linewidth=3, alpha=0.8, facecolor=\"none\", label='Predicted_2D')\n",
    "plt.xlabel(\"z location (mm)\", fontsize=16)\n",
    "plt.ylabel(\"Mean Mass Distribution\", fontsize=16)\n",
    "plt.legend(loc=\"best\", fontsize=12)\n",
    "plt.savefig(f\"{model_save}inference/{real}/zmass_avg_2D.png\")\n",
    "plt.show()"
   ]
  },
  {
   "cell_type": "markdown",
   "id": "e2c7c111-0c6c-4632-bfea-5185653e7312",
   "metadata": {},
   "source": [
    "### 3D Visualizations"
   ]
  },
  {
   "cell_type": "code",
   "execution_count": null,
   "id": "46e1c724-6aaa-4500-876f-d97d4cd4df87",
   "metadata": {
    "scrolled": true,
    "tags": []
   },
   "outputs": [],
   "source": [
    "for h_idx in h_idx_indices:\n",
    "    for true in ['pred', 'true', 'orig', 'true_2d', 'pred_2d']:\n",
    "        data = [go.Scatter3d(x=particles[h_idx][true]['x'],\n",
    "                             y=particles[h_idx][true]['y'],\n",
    "                             z=particles[h_idx][true]['z'],\n",
    "                             color=color=particles[h_idx][true]['d'],\n",
    "                             mode='markers',\n",
    "                             marker=dict(size=particles[h_idx][true]['d']/2,\n",
    "                                         color=particles[h_idx][true]['d'],\n",
    "                                         colorscale='Rainbow',\n",
    "                                         opacity=0.8),\n",
    "                             text=[f\"diameter: {d_i}\" for d_i in particles[h_idx][true]['d']])]\n",
    "\n",
    "        layout = go.Layout(title=f'{true_label} coordinates from scipy',\n",
    "                           autosize=True,\n",
    "                           width=700,\n",
    "                           height=700,\n",
    "                           margin=go.layout.Margin(\n",
    "                                l=0,\n",
    "                                r=0,\n",
    "                                b=0,\n",
    "                                t=40))\n",
    "        fig = go.Figure(data=data, layout=layout)\n",
    "        fig.update_layout(hovermode=\"x\",\n",
    "                          scene_aspectmode='manual',\n",
    "                          scene_aspectratio=dict(x=1, y=1, z=1))\n",
    "        fig.write_image(f\"{model_save}inference/{real}/3D_{h_idx}_{true}.png\")\n",
    "        fig.show()"
   ]
  },
  {
   "cell_type": "markdown",
   "id": "7527135a-fc2e-4516-a098-3c361d702a2d",
   "metadata": {},
   "source": [
    "## Calculating Particle Distance and MAE"
   ]
  },
  {
   "cell_type": "code",
   "execution_count": null,
   "id": "9cfddd7c-b638-41ad-ab31-ec6aeebbc805",
   "metadata": {},
   "outputs": [],
   "source": [
    "for h_idx in h_idx_indices:\n",
    "    print(h_idx)\n",
    "    plt.figure(figsize=(12, 24))\n",
    "    plt.imshow(ds['image'][h_idx].T)\n",
    "    plt.show()"
   ]
  },
  {
   "cell_type": "markdown",
   "id": "0a555e2a-a807-4a85-9d94-22bdb57533aa",
   "metadata": {},
   "source": [
    "### Calculating Particle Distance and MAE\n"
   ]
  },
  {
   "cell_type": "markdown",
   "id": "014af604-5b41-41f9-8b2b-67f3ca983f9c",
   "metadata": {},
   "source": [
    "<!-- ### Calculating the Euclidian Distance -->"
   ]
  },
  {
   "cell_type": "code",
   "execution_count": null,
   "id": "edfb0af1-0906-498f-a487-7db361faa670",
   "metadata": {},
   "outputs": [],
   "source": [
    "def normalize(x):\n",
    "    return (x - x.min()) / (x.max() - x.min())"
   ]
  },
  {
   "cell_type": "code",
   "execution_count": null,
   "id": "3f3ed0e3-f262-4a65-bf90-54f3c45b7b02",
   "metadata": {},
   "outputs": [],
   "source": [
    "maes={}\n",
    "\n",
    "for true in ['true', 'orig']:\n",
    "    maes[true] = {}\n",
    "    for h_idx in h_idx_indices:\n",
    "        maes[true][h_idx] = {}\n",
    "        mae = np.zeros((particles[h_idx]['pred']['x'].shape[0], particles[h_idx][true]['x'].shape[0]))\n",
    "        for coord in ['x', 'y', 'z']:\n",
    "            mae += np.abs(normalize(particles[h_idx]['pred'][coord]).reshape(-1,1) - normalize(particles[h_idx][true][coord]).reshape(1,-1))\n",
    "        maes[true][h_idx]['no_diam'] = np.copy(mae)\n",
    "        mae += np.abs(normalize(particles[h_idx]['pred']['d']).reshape(-1,1) - normalize(particles[h_idx][true]['d']).reshape(1,-1))\n",
    "        maes[true][h_idx]['with_diam'] = mae\n",
    "\n",
    "with open(f\"{model_save}inference/{real}/maes.pkl\", 'wb') as handle:\n",
    "    pickle.dump(maes, handle, protocol=pickle.HIGHEST_PROTOCOL)\n"
   ]
  },
  {
   "cell_type": "code",
   "execution_count": null,
   "id": "cd34f38c-f541-427b-826b-552b275b7a7b",
   "metadata": {},
   "outputs": [],
   "source": [
    "with open(f\"{model_save}inference/{real}/maes.pkl\", \"rb\") as input_file:\n",
    "    maes = pickle.load(input_file)"
   ]
  },
  {
   "cell_type": "code",
   "execution_count": null,
   "id": "67031235-3eff-40fe-99a8-dd40a0f7b587",
   "metadata": {},
   "outputs": [],
   "source": [
    "distances = {}\n",
    "\n",
    "for true in ['true', 'orig']:\n",
    "    distances[true] = {}\n",
    "    for h_idx in h_idx_indices:\n",
    "        distances[true][h_idx] = {}\n",
    "        dist = np.zeros((particles[h_idx]['pred']['x'].shape[0], particles[h_idx][true]['x'].shape[0]))\n",
    "        for coord in ['x', 'y', 'z']:\n",
    "            dist += (normalize(particles[h_idx]['pred'][coord]).reshape(-1,1) - normalize(particles[h_idx][true][coord]).reshape(1,-1)) ** 2\n",
    "        distances[true][h_idx]['no_diam'] = np.copy(dist)\n",
    "        dist += (normalize(particles[h_idx]['pred']['d']).reshape(-1,1) - normalize(particles[h_idx][true]['d']).reshape(1,-1)) ** 2\n",
    "        distances[true][h_idx]['with_diam'] = dist\n",
    "\n",
    "with open(f\"{model_save}inference/{real}/distances.pkl\", 'wb') as handle:\n",
    "    pickle.dump(distances, handle, protocol=pickle.HIGHEST_PROTOCOL)"
   ]
  },
  {
   "cell_type": "code",
   "execution_count": null,
   "id": "1cc56620-2c98-4a17-928c-c269933eed93",
   "metadata": {},
   "outputs": [],
   "source": [
    "with open(f\"{model_save}inference/{real}/distances.pkl\", \"rb\") as input_file:\n",
    "    distances = pickle.load(input_file)"
   ]
  },
  {
   "cell_type": "markdown",
   "id": "4898f194-6f6d-4b40-ad5a-b605f27d025d",
   "metadata": {},
   "source": [
    "### Using MunkRes (with and without diameters)"
   ]
  },
  {
   "cell_type": "code",
   "execution_count": null,
   "id": "3d6aec67-8e03-4606-9c31-0ba0834e4145",
   "metadata": {},
   "outputs": [],
   "source": [
    "pairs = {}\n",
    "\n",
    "for true in ['true', 'orig']:\n",
    "    pairs[true] = {}\n",
    "    for h_idx in h_idx_indices:\n",
    "        pairs[true][h_idx] = {}\n",
    "        for diam in ['with_diam', 'no_diam']:\n",
    "            pairs[true][h_idx][diam] = {}\n",
    "            distance = np.copy(distances[true][h_idx][diam])\n",
    "            start_munkres = datetime.now()\n",
    "            m = Munkres()\n",
    "            if distance.shape[0] > distance.shape[1]:\n",
    "                distance = np.swapaxes(distance, 0, 1)\n",
    "                indexes = m.compute(distance)\n",
    "                indexes = [tuple((i[1], i[0])) for i in indexes]\n",
    "                pairs[true][h_idx][diam]['indexes'] = indexes\n",
    "            else:\n",
    "                pairs[true][h_idx][diam]['indexes'] = m.compute(distance)\n",
    "            print('___________________________________________________________________________________________')\n",
    "            print(f\"Munkres for {true} {h_idx} took {datetime.now() - start_munkres} time\")\n",
    "            print(f\"{distance.shape[0]} predicted particles paired with {len(list(set([i[1] for i in pairs[true][h_idx][diam]['indexes']])))} unique true particles.\")\n",
    "\n",
    "            ds = []\n",
    "            ms = []\n",
    "            for row, column in pairs[true][h_idx][diam]['indexes']:\n",
    "                ds.append(distances[true][h_idx][diam][row][column])\n",
    "                ms.append(maes[true][h_idx][diam][row][column])\n",
    "            pairs[true][h_idx][diam]['distances'] = np.array(ds)\n",
    "            pairs[true][h_idx][diam]['maes'] = np.array(ms)\n",
    "            print(f\"Total Distance for Hologram {h_idx} predicted vs {true} and {diam} = {np.sum(pairs[true][h_idx][diam]['distances'])}\")\n",
    "            print(f\"Total MAE for Hologram {h_idx} predicted vs {true} and {diam} = {np.sum(pairs[true][h_idx][diam]['maes'])}\\n\")\n",
    "\n",
    "with open(f\"{model_save}inference/{real}/pairs.pkl\", 'wb') as handle:\n",
    "    pickle.dump(pairs, handle, protocol=pickle.HIGHEST_PROTOCOL)"
   ]
  },
  {
   "cell_type": "code",
   "execution_count": null,
   "id": "a475ff45-9783-4718-99d2-dd347cff81e0",
   "metadata": {},
   "outputs": [],
   "source": [
    "with open(f\"{model_save}inference/{real}/pairs.pkl\", \"rb\") as input_file:\n",
    "    pairs = pickle.load(input_file)"
   ]
  },
  {
   "cell_type": "code",
   "execution_count": null,
   "id": "772d61a4-e192-442f-8fef-777a146f614c",
   "metadata": {},
   "outputs": [],
   "source": [
    "for true in ['true', 'orig']:\n",
    "    for h_idx in h_idx_indices:\n",
    "        for diam in ['with_diam', 'no_diam']:\n",
    "            print('___________________________________________________________________________________________')\n",
    "            print(f\"{distances[true][h_idx][diam].shape[0]} predicted particles paired with {len(list(set([i[1] for i in pairs[true][h_idx][diam]['indexes']])))} unique true particles.\")\n",
    "            print(f\"Total Distance for Hologram {h_idx} predicted vs {true} and {diam} = {np.sum(pairs[true][h_idx][diam]['distances']):.3f}\")\n",
    "            print(f\"Total MAE for Hologram {h_idx} predicted vs {true} and {diam} = {np.sum(pairs[true][h_idx][diam]['maes']):.2f}\\n\")"
   ]
  },
  {
   "cell_type": "code",
   "execution_count": null,
   "id": "d541ce73-1eb2-4dd6-9442-71adbe3a6a94",
   "metadata": {},
   "outputs": [],
   "source": [
    "for h_idx in h_idx_indices:\n",
    "    for diam in ['with_diam', 'no_diam']:\n",
    "        for m in ['min', 'max']:\n",
    "            if m == 'min':\n",
    "                pred_idx = int(np.where(pairs[\"true\"][h_idx][diam]['distances'] == min(pairs[\"true\"][h_idx][diam]['distances']))[0])\n",
    "            if m == 'max':\n",
    "                pred_idx = int(np.where(pairs[\"true\"][h_idx][diam]['distances'] == max(pairs[\"true\"][h_idx][diam]['distances']))[0])\n",
    "            data = [go.Scatter3d(x=[particles[h_idx]['pred']['x'][pred_idx]],\n",
    "                     y=[particles[h_idx]['pred']['y'][pred_idx]],\n",
    "                     z=[particles[h_idx]['pred']['z'][pred_idx]],\n",
    "                     mode='markers',\n",
    "                     marker=dict(size=[particles[h_idx]['pred']['d'][pred_idx]],\n",
    "                                 color='rgb(150,0,90)',\n",
    "                                 opacity=0.8),\n",
    "                     text = f\"diameter: {particles[h_idx]['pred']['d'][pred_idx]:.2f}\",\n",
    "                     name=\"Predicted\")]\n",
    "\n",
    "            layout = go.Layout(title=f'''Comparison of predicted particle for {diam} hologram {h_idx} and {m} distance<br>\n",
    "            Pred: {particles[h_idx]['pred']['x'][pred_idx]:.1f},\n",
    "             {particles[h_idx]['pred']['y'][pred_idx]:.1f},\n",
    "             {particles[h_idx]['pred']['z'][pred_idx]:.0f},\n",
    "             {particles[h_idx]['pred']['d'][pred_idx]:.2f}<br>\n",
    "            True: {particles[h_idx]['true']['x'][pairs['true'][h_idx][diam]['indexes'][pred_idx][1]]:.1f},\n",
    "             {particles[h_idx]['true']['y'][pairs['true'][h_idx][diam]['indexes'][pred_idx][1]]:.1f},\n",
    "             {particles[h_idx]['true']['z'][pairs['true'][h_idx][diam]['indexes'][pred_idx][1]]:.0f},\n",
    "             {particles[h_idx]['true']['d'][pairs['true'][h_idx][diam]['indexes'][pred_idx][1]]:.2f}<br>\n",
    "            Orig: {particles[h_idx]['orig']['x'][pairs['orig'][h_idx][diam]['indexes'][pred_idx][1]]:.1f},\n",
    "             {particles[h_idx]['orig']['y'][pairs['orig'][h_idx][diam]['indexes'][pred_idx][1]]:.1f},\n",
    "             {particles[h_idx]['orig']['z'][pairs['orig'][h_idx][diam]['indexes'][pred_idx][1]]:.0f},\n",
    "             {particles[h_idx]['orig']['d'][pairs['orig'][h_idx][diam]['indexes'][pred_idx][1]]:.2f}<br>\n",
    "            MAE true: {maes['true'][h_idx][diam][pred_idx][pairs['true'][h_idx][diam]['indexes'][pred_idx][1]]:.4f}<br>\n",
    "            MAE orig: {maes['orig'][h_idx][diam][pred_idx][pairs['orig'][h_idx][diam]['indexes'][pred_idx][1]]:.4f}''',\n",
    "                               width=700,\n",
    "                               height=700,\n",
    "                               margin=go.layout.Margin(\n",
    "                                    l=0,\n",
    "                                    r=0,\n",
    "                                    b=0,\n",
    "                                    t=40))\n",
    "            fig = go.Figure(data=data, layout=layout)\n",
    "            fig.add_trace(go.Scatter3d(x=[particles[h_idx]['true']['x'][pairs['true'][h_idx][diam]['indexes'][pred_idx][1]]],\n",
    "                                 y=[particles[h_idx]['true']['y'][pairs['true'][h_idx][diam]['indexes'][pred_idx][1]]],\n",
    "                                 z=[particles[h_idx]['true']['z'][pairs['true'][h_idx][diam]['indexes'][pred_idx][1]]],\n",
    "                                 mode='markers',\n",
    "                                 marker=dict(size=[particles[h_idx]['true']['d'][pairs['true'][h_idx][diam]['indexes'][pred_idx][1]]],\n",
    "                                             color='rgb(0,0,200)',\n",
    "                                             opacity=0.8),\n",
    "                                 text = f\"diameter: {particles[h_idx]['true']['d'][pairs['true'][h_idx][diam]['indexes'][pred_idx][1]]:.2f}\",\n",
    "                                 name = \"True\"))\n",
    "            fig.add_trace(go.Scatter3d(x=[particles[h_idx]['orig']['x'][pairs['orig'][h_idx][diam]['indexes'][pred_idx][1]]],\n",
    "                                 y=[particles[h_idx]['orig']['y'][pairs['orig'][h_idx][diam]['indexes'][pred_idx][1]]],\n",
    "                                 z=[particles[h_idx]['orig']['z'][pairs['orig'][h_idx][diam]['indexes'][pred_idx][1]]],\n",
    "                                 mode='markers',\n",
    "                                 marker=dict(size=[particles[h_idx]['orig']['d'][pairs['orig'][h_idx][diam]['indexes'][pred_idx][1]]],\n",
    "                                             color='rgb(151,255,0)',\n",
    "                                             opacity=0.8),\n",
    "                                 text = f\"diameter: {particles[h_idx]['orig']['d'][pairs['orig'][h_idx][diam]['indexes'][pred_idx][1]]:.2f}\",\n",
    "                                 name = \"Original\"))\n",
    "\n",
    "            fig.update_layout(hovermode=\"x\",\n",
    "                              scene_aspectmode='manual',\n",
    "                              scene_aspectratio=dict(x=1, y=1, z=1),\n",
    "                              scene=dict(xaxis=dict(nticks=6,range=[-7300, 7300]),\n",
    "                                         yaxis=dict(nticks=6, range=[-4800, 4800]),\n",
    "                                         zaxis=dict(nticks=6, range=[14000, 158000])))\n",
    "\n",
    "            fig.write_image(f\"{model_save}inference/{real}/3D_{h_idx}_{diam}_{m}.png\")\n",
    "            fig.show()"
   ]
  },
  {
   "cell_type": "code",
   "execution_count": null,
   "id": "6ef6c8cb-c0ce-4762-bf3c-36220b36a020",
   "metadata": {},
   "outputs": [],
   "source": []
  }
 ],
 "metadata": {
  "kernelspec": {
   "display_name": "Python [conda env:miniconda2-holo_torch]",
   "language": "python",
   "name": "conda-env-miniconda2-holo_torch-py"
  },
  "language_info": {
   "codemirror_mode": {
    "name": "ipython",
    "version": 3
   },
   "file_extension": ".py",
   "mimetype": "text/x-python",
   "name": "python",
   "nbconvert_exporter": "python",
   "pygments_lexer": "ipython3",
   "version": "3.6.13"
  }
 },
 "nbformat": 4,
 "nbformat_minor": 5
}
