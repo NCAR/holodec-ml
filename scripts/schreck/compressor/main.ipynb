{
 "cells": [
  {
   "cell_type": "code",
   "execution_count": 1,
   "metadata": {
    "pycharm": {
     "is_executing": true
    }
   },
   "outputs": [],
   "source": [
    "import warnings\n",
    "warnings.filterwarnings(\"ignore\")\n",
    "\n",
    "import os\n",
    "import sys\n",
    "import yaml\n",
    "import tqdm\n",
    "import torch\n",
    "import pickle\n",
    "import logging\n",
    "\n",
    "from sklearn.metrics import accuracy_score as Accuracy\n",
    "\n",
    "from torch.utils.data import Dataset, DataLoader\n",
    "from torch.optim.lr_scheduler import *\n",
    "from torch import nn\n",
    "\n",
    "from typing import List, Dict, Callable, Union, Any, TypeVar, Tuple\n",
    "from multiprocessing import cpu_count\n",
    "from shutil import copyfile\n",
    "\n",
    "# custom\n",
    "from holodecml.vae.checkpointer import *\n",
    "from holodecml.vae.data_loader import *\n",
    "from holodecml.vae.optimizers import *\n",
    "from holodecml.vae.transforms import *\n",
    "from holodecml.vae.spectral import *\n",
    "\n",
    "from holodecml.vae.trainers import *\n",
    "from holodecml.vae.models import *\n",
    "from holodecml.vae.visual import *\n",
    "from holodecml.vae.losses import *\n",
    "\n",
    "from aimlutils.gpu import gpu_report"
   ]
  },
  {
   "cell_type": "code",
   "execution_count": 2,
   "metadata": {},
   "outputs": [
    {
     "data": {
      "text/plain": [
       "{0: 32510,\n",
       " 1: 32510,\n",
       " 2: 32510,\n",
       " 3: 32510,\n",
       " 4: 32510,\n",
       " 5: 32510,\n",
       " 6: 32510,\n",
       " 7: 32510}"
      ]
     },
     "execution_count": 2,
     "metadata": {},
     "output_type": "execute_result"
    }
   ],
   "source": [
    "gpu_report()"
   ]
  },
  {
   "cell_type": "code",
   "execution_count": 2,
   "metadata": {},
   "outputs": [],
   "source": [
    "with open(\"config.yml\") as config_file:\n",
    "    config = yaml.load(config_file, Loader=yaml.FullLoader)\n",
    "\n",
    "data_save = config[\"log\"]\n",
    "model_type = config[\"type\"]"
   ]
  },
  {
   "cell_type": "code",
   "execution_count": 3,
   "metadata": {},
   "outputs": [],
   "source": [
    "root = logging.getLogger()\n",
    "root.setLevel(logging.DEBUG)\n",
    "formatter = logging.Formatter('%(levelname)s:%(name)s:%(message)s')\n",
    "\n",
    "# Stream output to stdout\n",
    "ch = logging.StreamHandler()\n",
    "ch.setLevel(logging.INFO)\n",
    "ch.setFormatter(formatter)\n",
    "root.addHandler(ch)"
   ]
  },
  {
   "cell_type": "code",
   "execution_count": null,
   "metadata": {},
   "outputs": [],
   "source": [
    "is_cuda = torch.cuda.is_available()\n",
    "device = torch.device(torch.cuda.current_device()) if is_cuda else torch.device(\"cpu\")\n",
    "    \n",
    "logging.info(f'Preparing to use device {device}')"
   ]
  },
  {
   "cell_type": "code",
   "execution_count": 5,
   "metadata": {},
   "outputs": [
    {
     "name": "stderr",
     "output_type": "stream",
     "text": [
      "INFO:holodecml.vae.transforms:Loaded Rescale transformation with output size 600\n",
      "INFO:holodecml.vae.transforms:Loaded Normalize transformation that normalizes data in the range 0 to 1\n",
      "INFO:holodecml.vae.transforms:Loaded ToTensor transformation, putting tensors on device cuda:0\n"
     ]
    }
   ],
   "source": [
    "transform = LoadTransformations(config[\"transforms\"], device = device)"
   ]
  },
  {
   "cell_type": "code",
   "execution_count": 6,
   "metadata": {},
   "outputs": [
    {
     "name": "stderr",
     "output_type": "stream",
     "text": [
      "INFO:holodecml.vae.data_loader:Loading reader-type encoder-vae\n",
      "INFO:holodecml.vae.data_loader:Loaded train hologram data containing 5000 images\n",
      "INFO:holodecml.vae.data_loader:Loading reader-type encoder-vae\n",
      "INFO:holodecml.vae.data_loader:Loaded test hologram data containing 1000 images\n"
     ]
    }
   ],
   "source": [
    "train_gen = LoadReader(\n",
    "    reader_type = model_type, \n",
    "    split = \"train\", \n",
    "    transform = transform,\n",
    "    scaler = None,\n",
    "    config = config[\"data\"]\n",
    ")\n",
    "\n",
    "valid_gen = LoadReader(\n",
    "    reader_type = model_type, \n",
    "    split = \"test\", \n",
    "    transform = transform, \n",
    "    scaler = train_gen.get_transform(),\n",
    "    config = config[\"data\"],\n",
    ")"
   ]
  },
  {
   "cell_type": "code",
   "execution_count": 7,
   "metadata": {},
   "outputs": [
    {
     "name": "stderr",
     "output_type": "stream",
     "text": [
      "INFO:root:Loading training data iterator using 16 workers\n"
     ]
    }
   ],
   "source": [
    "logging.info(f\"Loading training data iterator using {config['iterator']['num_workers']} workers\")\n",
    "\n",
    "dataloader = DataLoader(\n",
    "    train_gen,\n",
    "    **config[\"iterator\"]\n",
    ")\n",
    "\n",
    "valid_dataloader = DataLoader(\n",
    "    valid_gen,\n",
    "    **config[\"iterator\"]\n",
    ")"
   ]
  },
  {
   "cell_type": "code",
   "execution_count": 8,
   "metadata": {
    "tags": []
   },
   "outputs": [
    {
     "name": "stderr",
     "output_type": "stream",
     "text": [
      "INFO:holodecml.vae.models:Loading model-type encoder-vae\n",
      "INFO:holodecml.vae.models:Loaded a self-attentive encoder-decoder VAE model\n",
      "INFO:root:Loaded VAE weights test/pretrained.pt and froze these parameters\n",
      "INFO:holodecml.vae.models:The model contains 689500 trainable parameters\n"
     ]
    }
   ],
   "source": [
    "model = LoadModel(model_type, config[\"model\"], device)"
   ]
  },
  {
   "cell_type": "code",
   "execution_count": 9,
   "metadata": {},
   "outputs": [
    {
     "name": "stderr",
     "output_type": "stream",
     "text": [
      "INFO:holodecml.vae.optimizers:Loaded the lookahead-diffgrad optimizer with learning rate 1e-05 and L2 penalty 0.0\n"
     ]
    }
   ],
   "source": [
    "retrain = config[\"trainer\"][\"start_epoch\"] > 0\n",
    "\n",
    "optimizer_config = config[\"optimizer\"]\n",
    "learning_rate = optimizer_config[\"lr\"] #if not retrain else model_dict[\"lr\"]\n",
    "optimizer_type = optimizer_config[\"type\"]\n",
    "\n",
    "optimizer = LoadOptimizer(optimizer_type, model.parameters(), learning_rate)\n",
    "\n",
    "#if retrain:\n",
    "#   optimizer.load_state_dict(model_dict[\"optimizer_state_dict\"])\n",
    "#   logging.info(f\"Loaded optimizer weights from {model_dict}\")"
   ]
  },
  {
   "cell_type": "code",
   "execution_count": 10,
   "metadata": {},
   "outputs": [
    {
     "name": "stderr",
     "output_type": "stream",
     "text": [
      "INFO:holodecml.vae.trainers:Loading trainer-type encoder-vae\n",
      "INFO:holodecml.vae.trainers:Clipping gradients to range [-1.0, 1.0]\n"
     ]
    }
   ],
   "source": [
    "trainer = LoadTrainer(\n",
    "    model_type, \n",
    "    model = model,\n",
    "    optimizer = optimizer,\n",
    "    train_gen = train_gen,\n",
    "    valid_gen = valid_gen,\n",
    "    dataloader = dataloader,\n",
    "    valid_dataloader = valid_dataloader,\n",
    "    device = device,\n",
    "    config = config[\"trainer\"]\n",
    ")"
   ]
  },
  {
   "cell_type": "code",
   "execution_count": 11,
   "metadata": {},
   "outputs": [
    {
     "name": "stderr",
     "output_type": "stream",
     "text": [
      "INFO:root:Loaded ExponentialLR learning rate annealer with reduce factor 0.99\n",
      "INFO:holodecml.vae.checkpointer:Loaded EarlyStopping checkpointer with patience 5\n",
      "INFO:holodecml.vae.checkpointer:Loaded a metrics logger test/training_log.csv to track the training results\n"
     ]
    }
   ],
   "source": [
    "# Initialize LR annealing scheduler \n",
    "if \"ReduceLROnPlateau\" in config[\"callbacks\"]:\n",
    "    schedule_config = config[\"callbacks\"][\"ReduceLROnPlateau\"]\n",
    "    scheduler = ReduceLROnPlateau(trainer.optimizer, **schedule_config)\n",
    "    logging.info(\n",
    "        f\"Loaded ReduceLROnPlateau learning rate annealer with patience {schedule_config['patience']}\"\n",
    "    )\n",
    "elif \"ExponentialLR\" in config[\"callbacks\"]:\n",
    "    schedule_config = config[\"callbacks\"][\"ExponentialLR\"]\n",
    "    scheduler = ExponentialLR(trainer.optimizer, **schedule_config)\n",
    "    logging.info(\n",
    "        f\"Loaded ExponentialLR learning rate annealer with reduce factor {schedule_config['gamma']}\"\n",
    "    )\n",
    "\n",
    "# Early stopping\n",
    "checkpoint_config = config[\"callbacks\"][\"EarlyStopping\"]\n",
    "early_stopping = EarlyStopping(**checkpoint_config)\n",
    "\n",
    "# Write metrics to csv each epoch\n",
    "metrics_logger = MetricsLogger(**config[\"callbacks\"][\"MetricsLogger\"])"
   ]
  },
  {
   "cell_type": "code",
   "execution_count": 12,
   "metadata": {
    "tags": []
   },
   "outputs": [
    {
     "name": "stderr",
     "output_type": "stream",
     "text": [
      "INFO:holodecml.vae.trainers:Training the model for up to 500 epochs starting at epoch 0\n",
      "loss: 0.769 accuracy: 0.529: 100%|██████████| 157/157 [01:01<00:00,  2.55it/s]\n",
      "valid_loss: 1.220 accuracy: 0.549: 100%|██████████| 32/32 [00:13<00:00,  2.44it/s]\n",
      "INFO:holodecml.vae.checkpointer:Validation loss decreased on epoch 0 (inf --> 1.220418).  Saving model.\n",
      "loss: 0.755 accuracy: 0.566: 100%|██████████| 157/157 [01:01<00:00,  2.57it/s]\n",
      "valid_loss: 1.196 accuracy: 0.585: 100%|██████████| 32/32 [00:12<00:00,  2.48it/s]\n",
      "INFO:holodecml.vae.checkpointer:Validation loss decreased on epoch 1 (1.220418 --> 1.196434).  Saving model.\n",
      "loss: 0.742 accuracy: 0.600: 100%|██████████| 157/157 [01:01<00:00,  2.56it/s]\n",
      "valid_loss: 1.178 accuracy: 0.616: 100%|██████████| 32/32 [00:13<00:00,  2.45it/s]\n",
      "INFO:holodecml.vae.checkpointer:Validation loss decreased on epoch 2 (1.196434 --> 1.177638).  Saving model.\n",
      "loss: 0.728 accuracy: 0.633: 100%|██████████| 157/157 [01:02<00:00,  2.52it/s]\n",
      "valid_loss: 1.154 accuracy: 0.647: 100%|██████████| 32/32 [00:13<00:00,  2.40it/s]\n",
      "INFO:holodecml.vae.checkpointer:Validation loss decreased on epoch 3 (1.177638 --> 1.154467).  Saving model.\n",
      "loss: 0.714 accuracy: 0.661: 100%|██████████| 157/157 [01:02<00:00,  2.52it/s]\n",
      "valid_loss: 1.133 accuracy: 0.674: 100%|██████████| 32/32 [00:13<00:00,  2.43it/s]\n",
      "INFO:holodecml.vae.checkpointer:Validation loss decreased on epoch 4 (1.154467 --> 1.132730).  Saving model.\n",
      "loss: 0.700 accuracy: 0.687: 100%|██████████| 157/157 [01:01<00:00,  2.55it/s]\n",
      "valid_loss: 1.111 accuracy: 0.697: 100%|██████████| 32/32 [00:13<00:00,  2.38it/s]\n",
      "INFO:holodecml.vae.checkpointer:Validation loss decreased on epoch 5 (1.132730 --> 1.111130).  Saving model.\n",
      "loss: 0.685 accuracy: 0.710: 100%|██████████| 157/157 [01:01<00:00,  2.56it/s]\n",
      "valid_loss: 1.089 accuracy: 0.719: 100%|██████████| 32/32 [00:13<00:00,  2.42it/s]\n",
      "INFO:holodecml.vae.checkpointer:Validation loss decreased on epoch 6 (1.111130 --> 1.089484).  Saving model.\n",
      "loss: 0.669 accuracy: 0.730: 100%|██████████| 157/157 [01:02<00:00,  2.52it/s]\n",
      "valid_loss: 1.065 accuracy: 0.738: 100%|██████████| 32/32 [00:13<00:00,  2.38it/s]\n",
      "INFO:holodecml.vae.checkpointer:Validation loss decreased on epoch 7 (1.089484 --> 1.064563).  Saving model.\n",
      "loss: 0.653 accuracy: 0.748: 100%|██████████| 157/157 [01:01<00:00,  2.55it/s]\n",
      "valid_loss: 1.042 accuracy: 0.754: 100%|██████████| 32/32 [00:12<00:00,  2.46it/s]\n",
      "INFO:holodecml.vae.checkpointer:Validation loss decreased on epoch 8 (1.064563 --> 1.041929).  Saving model.\n",
      "loss: 0.637 accuracy: 0.763: 100%|██████████| 157/157 [01:01<00:00,  2.55it/s]\n",
      "valid_loss: 1.020 accuracy: 0.767: 100%|██████████| 32/32 [00:13<00:00,  2.39it/s]\n",
      "INFO:holodecml.vae.checkpointer:Validation loss decreased on epoch 9 (1.041929 --> 1.020461).  Saving model.\n",
      "loss: 0.621 accuracy: 0.776: 100%|██████████| 157/157 [01:01<00:00,  2.56it/s]\n",
      "valid_loss: 0.995 accuracy: 0.781: 100%|██████████| 32/32 [00:13<00:00,  2.36it/s]\n",
      "INFO:holodecml.vae.checkpointer:Validation loss decreased on epoch 10 (1.020461 --> 0.994689).  Saving model.\n",
      "loss: 0.605 accuracy: 0.788: 100%|██████████| 157/157 [01:02<00:00,  2.53it/s]\n",
      "valid_loss: 0.973 accuracy: 0.791: 100%|██████████| 32/32 [00:13<00:00,  2.43it/s]\n",
      "INFO:holodecml.vae.checkpointer:Validation loss decreased on epoch 11 (0.994689 --> 0.972970).  Saving model.\n",
      "loss: 0.590 accuracy: 0.798: 100%|██████████| 157/157 [01:02<00:00,  2.51it/s]\n",
      "valid_loss: 0.949 accuracy: 0.802: 100%|██████████| 32/32 [00:13<00:00,  2.44it/s]\n",
      "INFO:holodecml.vae.checkpointer:Validation loss decreased on epoch 12 (0.972970 --> 0.948923).  Saving model.\n",
      "loss: 0.575 accuracy: 0.807: 100%|██████████| 157/157 [01:01<00:00,  2.55it/s]\n",
      "valid_loss: 0.925 accuracy: 0.811: 100%|██████████| 32/32 [00:13<00:00,  2.40it/s]\n",
      "INFO:holodecml.vae.checkpointer:Validation loss decreased on epoch 13 (0.948923 --> 0.925081).  Saving model.\n",
      "loss: 0.560 accuracy: 0.814: 100%|██████████| 157/157 [01:01<00:00,  2.54it/s]\n",
      "valid_loss: 0.906 accuracy: 0.818: 100%|██████████| 32/32 [00:13<00:00,  2.35it/s]\n",
      "INFO:holodecml.vae.checkpointer:Validation loss decreased on epoch 14 (0.925081 --> 0.905715).  Saving model.\n",
      "loss: 0.545 accuracy: 0.821: 100%|██████████| 157/157 [01:01<00:00,  2.55it/s]\n",
      "valid_loss: 0.879 accuracy: 0.826: 100%|██████████| 32/32 [00:13<00:00,  2.46it/s]\n",
      "INFO:holodecml.vae.checkpointer:Validation loss decreased on epoch 15 (0.905715 --> 0.879424).  Saving model.\n",
      "loss: 0.531 accuracy: 0.827: 100%|██████████| 157/157 [01:02<00:00,  2.53it/s]\n",
      "valid_loss: 0.865 accuracy: 0.829: 100%|██████████| 32/32 [00:13<00:00,  2.35it/s]\n",
      "INFO:holodecml.vae.checkpointer:Validation loss decreased on epoch 16 (0.879424 --> 0.865315).  Saving model.\n",
      "loss: 0.519 accuracy: 0.832: 100%|██████████| 157/157 [01:02<00:00,  2.52it/s]\n",
      "valid_loss: 0.843 accuracy: 0.833: 100%|██████████| 32/32 [00:12<00:00,  2.47it/s]\n",
      "INFO:holodecml.vae.checkpointer:Validation loss decreased on epoch 17 (0.865315 --> 0.843236).  Saving model.\n",
      "loss: 0.506 accuracy: 0.836: 100%|██████████| 157/157 [01:01<00:00,  2.56it/s]\n",
      "valid_loss: 0.828 accuracy: 0.837: 100%|██████████| 32/32 [00:13<00:00,  2.33it/s]\n",
      "INFO:holodecml.vae.checkpointer:Validation loss decreased on epoch 18 (0.843236 --> 0.827967).  Saving model.\n",
      "loss: 0.495 accuracy: 0.839: 100%|██████████| 157/157 [01:02<00:00,  2.52it/s]\n",
      "valid_loss: 0.811 accuracy: 0.841: 100%|██████████| 32/32 [00:13<00:00,  2.36it/s]\n",
      "INFO:holodecml.vae.checkpointer:Validation loss decreased on epoch 19 (0.827967 --> 0.810721).  Saving model.\n",
      "loss: 0.483 accuracy: 0.843: 100%|██████████| 157/157 [01:01<00:00,  2.54it/s]\n",
      "valid_loss: 0.795 accuracy: 0.843: 100%|██████████| 32/32 [00:13<00:00,  2.46it/s]\n",
      "INFO:holodecml.vae.checkpointer:Validation loss decreased on epoch 20 (0.810721 --> 0.794978).  Saving model.\n",
      "loss: 0.474 accuracy: 0.845: 100%|██████████| 157/157 [00:59<00:00,  2.63it/s]\n",
      "valid_loss: 0.781 accuracy: 0.846: 100%|██████████| 32/32 [00:12<00:00,  2.50it/s]\n",
      "INFO:holodecml.vae.checkpointer:Validation loss decreased on epoch 21 (0.794978 --> 0.780574).  Saving model.\n",
      "loss: 0.463 accuracy: 0.847: 100%|██████████| 157/157 [01:00<00:00,  2.61it/s]\n",
      "valid_loss: 0.767 accuracy: 0.848: 100%|██████████| 32/32 [00:12<00:00,  2.50it/s]\n",
      "INFO:holodecml.vae.checkpointer:Validation loss decreased on epoch 22 (0.780574 --> 0.766994).  Saving model.\n",
      "loss: 0.454 accuracy: 0.849: 100%|██████████| 157/157 [00:59<00:00,  2.63it/s]\n",
      "valid_loss: 0.752 accuracy: 0.849: 100%|██████████| 32/32 [00:12<00:00,  2.55it/s]\n",
      "INFO:holodecml.vae.checkpointer:Validation loss decreased on epoch 23 (0.766994 --> 0.751670).  Saving model.\n",
      "loss: 0.446 accuracy: 0.850: 100%|██████████| 157/157 [00:59<00:00,  2.64it/s]\n",
      "valid_loss: 0.738 accuracy: 0.851: 100%|██████████| 32/32 [00:12<00:00,  2.46it/s]\n",
      "INFO:holodecml.vae.checkpointer:Validation loss decreased on epoch 24 (0.751670 --> 0.738271).  Saving model.\n",
      "loss: 0.438 accuracy: 0.851: 100%|██████████| 157/157 [00:59<00:00,  2.62it/s]\n",
      "valid_loss: 0.730 accuracy: 0.850: 100%|██████████| 32/32 [00:12<00:00,  2.50it/s]\n",
      "INFO:holodecml.vae.checkpointer:Validation loss decreased on epoch 25 (0.738271 --> 0.729833).  Saving model.\n",
      "loss: 0.431 accuracy: 0.852: 100%|██████████| 157/157 [00:59<00:00,  2.62it/s]\n",
      "valid_loss: 0.720 accuracy: 0.852: 100%|██████████| 32/32 [00:12<00:00,  2.50it/s]\n",
      "INFO:holodecml.vae.checkpointer:Validation loss decreased on epoch 26 (0.729833 --> 0.720452).  Saving model.\n",
      "loss: 0.424 accuracy: 0.853: 100%|██████████| 157/157 [01:00<00:00,  2.62it/s]\n",
      "valid_loss: 0.706 accuracy: 0.853: 100%|██████████| 32/32 [00:13<00:00,  2.45it/s]\n",
      "INFO:holodecml.vae.checkpointer:Validation loss decreased on epoch 27 (0.720452 --> 0.706214).  Saving model.\n",
      "loss: 0.417 accuracy: 0.853: 100%|██████████| 157/157 [00:59<00:00,  2.65it/s]\n",
      "valid_loss: 0.703 accuracy: 0.852: 100%|██████████| 32/32 [00:12<00:00,  2.54it/s]\n",
      "INFO:holodecml.vae.checkpointer:Validation loss decreased on epoch 28 (0.706214 --> 0.703443).  Saving model.\n",
      "loss: 0.412 accuracy: 0.854: 100%|██████████| 157/157 [01:00<00:00,  2.61it/s]\n",
      "valid_loss: 0.692 accuracy: 0.854: 100%|██████████| 32/32 [00:12<00:00,  2.51it/s]\n",
      "INFO:holodecml.vae.checkpointer:Validation loss decreased on epoch 29 (0.703443 --> 0.692205).  Saving model.\n",
      "loss: 0.406 accuracy: 0.853: 100%|██████████| 157/157 [00:59<00:00,  2.63it/s]\n",
      "valid_loss: 0.683 accuracy: 0.853: 100%|██████████| 32/32 [00:12<00:00,  2.57it/s]\n",
      "INFO:holodecml.vae.checkpointer:Validation loss decreased on epoch 30 (0.692205 --> 0.683078).  Saving model.\n",
      "loss: 0.401 accuracy: 0.854: 100%|██████████| 157/157 [00:59<00:00,  2.63it/s]\n",
      "valid_loss: 0.679 accuracy: 0.853: 100%|██████████| 32/32 [00:12<00:00,  2.52it/s]\n",
      "INFO:holodecml.vae.checkpointer:Validation loss decreased on epoch 31 (0.683078 --> 0.679471).  Saving model.\n",
      "loss: 0.397 accuracy: 0.854: 100%|██████████| 157/157 [00:59<00:00,  2.63it/s]\n",
      "valid_loss: 0.670 accuracy: 0.855: 100%|██████████| 32/32 [00:12<00:00,  2.47it/s]\n",
      "INFO:holodecml.vae.checkpointer:Validation loss decreased on epoch 32 (0.679471 --> 0.669727).  Saving model.\n",
      "loss: 0.392 accuracy: 0.854: 100%|██████████| 157/157 [00:59<00:00,  2.63it/s]\n",
      "valid_loss: 0.665 accuracy: 0.853: 100%|██████████| 32/32 [00:13<00:00,  2.46it/s]\n",
      "INFO:holodecml.vae.checkpointer:Validation loss decreased on epoch 33 (0.669727 --> 0.665464).  Saving model.\n",
      "loss: 0.388 accuracy: 0.854: 100%|██████████| 157/157 [01:00<00:00,  2.61it/s]\n",
      "valid_loss: 0.661 accuracy: 0.852: 100%|██████████| 32/32 [00:12<00:00,  2.48it/s]\n",
      "INFO:holodecml.vae.checkpointer:Validation loss decreased on epoch 34 (0.665464 --> 0.661168).  Saving model.\n",
      "loss: 0.384 accuracy: 0.854: 100%|██████████| 157/157 [00:59<00:00,  2.64it/s]\n",
      "valid_loss: 0.653 accuracy: 0.854: 100%|██████████| 32/32 [00:12<00:00,  2.59it/s]\n",
      "INFO:holodecml.vae.checkpointer:Validation loss decreased on epoch 35 (0.661168 --> 0.652842).  Saving model.\n",
      "loss: 0.381 accuracy: 0.854: 100%|██████████| 157/157 [00:59<00:00,  2.62it/s]\n",
      "valid_loss: 0.652 accuracy: 0.853: 100%|██████████| 32/32 [00:12<00:00,  2.49it/s]\n",
      "INFO:holodecml.vae.checkpointer:Validation loss decreased on epoch 36 (0.652842 --> 0.651920).  Saving model.\n",
      "loss: 0.377 accuracy: 0.855: 100%|██████████| 157/157 [00:59<00:00,  2.63it/s]\n",
      "valid_loss: 0.648 accuracy: 0.854: 100%|██████████| 32/32 [00:12<00:00,  2.47it/s]\n",
      "INFO:holodecml.vae.checkpointer:Validation loss decreased on epoch 37 (0.651920 --> 0.647519).  Saving model.\n",
      "loss: 0.374 accuracy: 0.854: 100%|██████████| 157/157 [00:59<00:00,  2.64it/s]\n",
      "valid_loss: 0.641 accuracy: 0.853: 100%|██████████| 32/32 [00:12<00:00,  2.50it/s]\n",
      "INFO:holodecml.vae.checkpointer:Validation loss decreased on epoch 38 (0.647519 --> 0.641130).  Saving model.\n",
      "loss: 0.372 accuracy: 0.854: 100%|██████████| 157/157 [00:59<00:00,  2.62it/s]\n",
      "valid_loss: 0.634 accuracy: 0.855: 100%|██████████| 32/32 [00:12<00:00,  2.57it/s]\n",
      "INFO:holodecml.vae.checkpointer:Validation loss decreased on epoch 39 (0.641130 --> 0.634099).  Saving model.\n",
      "loss: 0.369 accuracy: 0.854: 100%|██████████| 157/157 [01:00<00:00,  2.61it/s]\n",
      "valid_loss: 0.633 accuracy: 0.853: 100%|██████████| 32/32 [00:12<00:00,  2.51it/s]\n",
      "INFO:holodecml.vae.checkpointer:Validation loss decreased on epoch 40 (0.634099 --> 0.633079).  Saving model.\n",
      "loss: 0.367 accuracy: 0.854: 100%|██████████| 157/157 [00:59<00:00,  2.62it/s]\n",
      "valid_loss: 0.626 accuracy: 0.855: 100%|██████████| 32/32 [00:13<00:00,  2.45it/s]\n",
      "INFO:holodecml.vae.checkpointer:Validation loss decreased on epoch 41 (0.633079 --> 0.625718).  Saving model.\n",
      "loss: 0.364 accuracy: 0.855: 100%|██████████| 157/157 [00:59<00:00,  2.64it/s]\n",
      "valid_loss: 0.625 accuracy: 0.854: 100%|██████████| 32/32 [00:12<00:00,  2.47it/s]\n",
      "INFO:holodecml.vae.checkpointer:Validation loss decreased on epoch 42 (0.625718 --> 0.624961).  Saving model.\n",
      "loss: 0.363 accuracy: 0.854: 100%|██████████| 157/157 [01:00<00:00,  2.61it/s]\n",
      "valid_loss: 0.620 accuracy: 0.855: 100%|██████████| 32/32 [00:12<00:00,  2.54it/s]\n",
      "INFO:holodecml.vae.checkpointer:Validation loss decreased on epoch 43 (0.624961 --> 0.619521).  Saving model.\n",
      "loss: 0.361 accuracy: 0.854: 100%|██████████| 157/157 [00:59<00:00,  2.63it/s]\n",
      "valid_loss: 0.620 accuracy: 0.853: 100%|██████████| 32/32 [00:12<00:00,  2.50it/s]\n",
      "INFO:holodecml.vae.checkpointer:EarlyStopping counter: 1 out of 5\n",
      "loss: 0.358 accuracy: 0.854: 100%|██████████| 157/157 [01:00<00:00,  2.61it/s]\n",
      "valid_loss: 0.616 accuracy: 0.854: 100%|██████████| 32/32 [00:12<00:00,  2.50it/s]\n",
      "INFO:holodecml.vae.checkpointer:Validation loss decreased on epoch 45 (0.619521 --> 0.615608).  Saving model.\n",
      "loss: 0.357 accuracy: 0.854: 100%|██████████| 157/157 [00:59<00:00,  2.65it/s]\n",
      "valid_loss: 0.614 accuracy: 0.854: 100%|██████████| 32/32 [00:12<00:00,  2.50it/s]\n",
      "INFO:holodecml.vae.checkpointer:Validation loss decreased on epoch 46 (0.615608 --> 0.614449).  Saving model.\n",
      "loss: 0.355 accuracy: 0.854: 100%|██████████| 157/157 [00:59<00:00,  2.65it/s]\n",
      "valid_loss: 0.611 accuracy: 0.853: 100%|██████████| 32/32 [00:13<00:00,  2.46it/s]\n",
      "INFO:holodecml.vae.checkpointer:Validation loss decreased on epoch 47 (0.614449 --> 0.611037).  Saving model.\n",
      "loss: 0.354 accuracy: 0.854: 100%|██████████| 157/157 [00:59<00:00,  2.64it/s]\n",
      "valid_loss: 0.609 accuracy: 0.854: 100%|██████████| 32/32 [00:12<00:00,  2.48it/s]\n",
      "INFO:holodecml.vae.checkpointer:Validation loss decreased on epoch 48 (0.611037 --> 0.608952).  Saving model.\n",
      "loss: 0.352 accuracy: 0.854: 100%|██████████| 157/157 [00:59<00:00,  2.64it/s]\n",
      "valid_loss: 0.606 accuracy: 0.853: 100%|██████████| 32/32 [00:12<00:00,  2.55it/s]\n",
      "INFO:holodecml.vae.checkpointer:Validation loss decreased on epoch 49 (0.608952 --> 0.605629).  Saving model.\n",
      "loss: 0.351 accuracy: 0.854: 100%|██████████| 157/157 [00:59<00:00,  2.62it/s]\n",
      "valid_loss: 0.605 accuracy: 0.853: 100%|██████████| 32/32 [00:12<00:00,  2.60it/s]\n",
      "INFO:holodecml.vae.checkpointer:Validation loss decreased on epoch 50 (0.605629 --> 0.604618).  Saving model.\n",
      "loss: 0.350 accuracy: 0.854: 100%|██████████| 157/157 [00:59<00:00,  2.64it/s]\n",
      "valid_loss: 0.600 accuracy: 0.855: 100%|██████████| 32/32 [00:12<00:00,  2.48it/s]\n",
      "INFO:holodecml.vae.checkpointer:Validation loss decreased on epoch 51 (0.604618 --> 0.599536).  Saving model.\n",
      "loss: 0.349 accuracy: 0.854: 100%|██████████| 157/157 [00:59<00:00,  2.62it/s]\n",
      "valid_loss: 0.602 accuracy: 0.853: 100%|██████████| 32/32 [00:12<00:00,  2.51it/s]\n",
      "INFO:holodecml.vae.checkpointer:EarlyStopping counter: 1 out of 5\n",
      "loss: 0.347 accuracy: 0.854: 100%|██████████| 157/157 [00:59<00:00,  2.62it/s]\n",
      "valid_loss: 0.601 accuracy: 0.853: 100%|██████████| 32/32 [00:12<00:00,  2.52it/s]\n",
      "INFO:holodecml.vae.checkpointer:EarlyStopping counter: 2 out of 5\n",
      "loss: 0.346 accuracy: 0.854: 100%|██████████| 157/157 [01:00<00:00,  2.61it/s]\n",
      "valid_loss: 0.594 accuracy: 0.855: 100%|██████████| 32/32 [00:12<00:00,  2.50it/s]\n",
      "INFO:holodecml.vae.checkpointer:Validation loss decreased on epoch 54 (0.599536 --> 0.593569).  Saving model.\n",
      "loss: 0.345 accuracy: 0.854: 100%|██████████| 157/157 [00:59<00:00,  2.64it/s]\n",
      "valid_loss: 0.593 accuracy: 0.854: 100%|██████████| 32/32 [00:13<00:00,  2.37it/s]\n",
      "INFO:holodecml.vae.checkpointer:Validation loss decreased on epoch 55 (0.593569 --> 0.593405).  Saving model.\n",
      "loss: 0.345 accuracy: 0.854: 100%|██████████| 157/157 [01:00<00:00,  2.61it/s]\n",
      "valid_loss: 0.591 accuracy: 0.854: 100%|██████████| 32/32 [00:12<00:00,  2.55it/s]\n",
      "INFO:holodecml.vae.checkpointer:Validation loss decreased on epoch 56 (0.593405 --> 0.590610).  Saving model.\n",
      "loss: 0.343 accuracy: 0.854: 100%|██████████| 157/157 [01:00<00:00,  2.61it/s]\n",
      "valid_loss: 0.591 accuracy: 0.854: 100%|██████████| 32/32 [00:12<00:00,  2.49it/s]\n",
      "INFO:holodecml.vae.checkpointer:EarlyStopping counter: 1 out of 5\n",
      "loss: 0.342 accuracy: 0.854: 100%|██████████| 157/157 [00:59<00:00,  2.62it/s]\n",
      "valid_loss: 0.586 accuracy: 0.855: 100%|██████████| 32/32 [00:12<00:00,  2.49it/s]\n",
      "INFO:holodecml.vae.checkpointer:Validation loss decreased on epoch 58 (0.590610 --> 0.586032).  Saving model.\n",
      "loss: 0.342 accuracy: 0.853: 100%|██████████| 157/157 [01:00<00:00,  2.61it/s]\n",
      "valid_loss: 0.591 accuracy: 0.853: 100%|██████████| 32/32 [00:12<00:00,  2.50it/s]\n",
      "INFO:holodecml.vae.checkpointer:EarlyStopping counter: 1 out of 5\n",
      "loss: 0.341 accuracy: 0.853: 100%|██████████| 157/157 [00:59<00:00,  2.62it/s]\n",
      "valid_loss: 0.590 accuracy: 0.852: 100%|██████████| 32/32 [00:12<00:00,  2.51it/s]\n",
      "INFO:holodecml.vae.checkpointer:EarlyStopping counter: 2 out of 5\n",
      "loss: 0.340 accuracy: 0.854: 100%|██████████| 157/157 [01:00<00:00,  2.62it/s]\n",
      "valid_loss: 0.591 accuracy: 0.851: 100%|██████████| 32/32 [00:12<00:00,  2.49it/s]\n",
      "INFO:holodecml.vae.checkpointer:EarlyStopping counter: 3 out of 5\n",
      "loss: 0.339 accuracy: 0.854: 100%|██████████| 157/157 [00:59<00:00,  2.62it/s]\n",
      "valid_loss: 0.589 accuracy: 0.852: 100%|██████████| 32/32 [00:12<00:00,  2.56it/s]\n",
      "INFO:holodecml.vae.checkpointer:EarlyStopping counter: 4 out of 5\n",
      "loss: 0.339 accuracy: 0.853: 100%|██████████| 157/157 [00:59<00:00,  2.64it/s]\n",
      "valid_loss: 0.582 accuracy: 0.853: 100%|██████████| 32/32 [00:12<00:00,  2.54it/s]\n",
      "INFO:holodecml.vae.checkpointer:Validation loss decreased on epoch 63 (0.586032 --> 0.582093).  Saving model.\n",
      "loss: 0.338 accuracy: 0.853: 100%|██████████| 157/157 [00:59<00:00,  2.62it/s]\n",
      "valid_loss: 0.579 accuracy: 0.855: 100%|██████████| 32/32 [00:13<00:00,  2.45it/s]\n",
      "INFO:holodecml.vae.checkpointer:Validation loss decreased on epoch 64 (0.582093 --> 0.579315).  Saving model.\n",
      "loss: 0.338 accuracy: 0.854: 100%|██████████| 157/157 [01:00<00:00,  2.61it/s]\n",
      "valid_loss: 0.582 accuracy: 0.853: 100%|██████████| 32/32 [00:12<00:00,  2.49it/s]\n",
      "INFO:holodecml.vae.checkpointer:EarlyStopping counter: 1 out of 5\n",
      "loss: 0.337 accuracy: 0.853: 100%|██████████| 157/157 [00:59<00:00,  2.64it/s]\n",
      "valid_loss: 0.581 accuracy: 0.853: 100%|██████████| 32/32 [00:12<00:00,  2.51it/s]\n",
      "INFO:holodecml.vae.checkpointer:EarlyStopping counter: 2 out of 5\n",
      "loss: 0.337 accuracy: 0.853: 100%|██████████| 157/157 [00:59<00:00,  2.63it/s]\n",
      "valid_loss: 0.585 accuracy: 0.851: 100%|██████████| 32/32 [00:12<00:00,  2.48it/s]\n",
      "INFO:holodecml.vae.checkpointer:EarlyStopping counter: 3 out of 5\n",
      "loss: 0.336 accuracy: 0.853: 100%|██████████| 157/157 [00:59<00:00,  2.64it/s]\n",
      "valid_loss: 0.584 accuracy: 0.852: 100%|██████████| 32/32 [00:12<00:00,  2.52it/s]\n",
      "INFO:holodecml.vae.checkpointer:EarlyStopping counter: 4 out of 5\n",
      "loss: 0.335 accuracy: 0.853: 100%|██████████| 157/157 [00:59<00:00,  2.62it/s]\n",
      "valid_loss: 0.577 accuracy: 0.853: 100%|██████████| 32/32 [00:12<00:00,  2.52it/s]\n",
      "INFO:holodecml.vae.checkpointer:Validation loss decreased on epoch 69 (0.579315 --> 0.577496).  Saving model.\n",
      "loss: 0.335 accuracy: 0.853: 100%|██████████| 157/157 [00:59<00:00,  2.63it/s]\n",
      "valid_loss: 0.578 accuracy: 0.853: 100%|██████████| 32/32 [00:12<00:00,  2.51it/s]\n",
      "INFO:holodecml.vae.checkpointer:EarlyStopping counter: 1 out of 5\n",
      "loss: 0.334 accuracy: 0.853: 100%|██████████| 157/157 [00:59<00:00,  2.62it/s]\n",
      "valid_loss: 0.576 accuracy: 0.854: 100%|██████████| 32/32 [00:12<00:00,  2.55it/s]\n",
      "INFO:holodecml.vae.checkpointer:Validation loss decreased on epoch 71 (0.577496 --> 0.576122).  Saving model.\n",
      "loss: 0.334 accuracy: 0.854: 100%|██████████| 157/157 [01:00<00:00,  2.60it/s]\n",
      "valid_loss: 0.577 accuracy: 0.853: 100%|██████████| 32/32 [00:12<00:00,  2.50it/s]\n",
      "INFO:holodecml.vae.checkpointer:EarlyStopping counter: 1 out of 5\n",
      "loss: 0.334 accuracy: 0.853: 100%|██████████| 157/157 [00:59<00:00,  2.63it/s]\n",
      "valid_loss: 0.581 accuracy: 0.850: 100%|██████████| 32/32 [00:12<00:00,  2.47it/s]\n",
      "INFO:holodecml.vae.checkpointer:EarlyStopping counter: 2 out of 5\n",
      "loss: 0.333 accuracy: 0.853: 100%|██████████| 157/157 [01:00<00:00,  2.60it/s]\n",
      "valid_loss: 0.574 accuracy: 0.853: 100%|██████████| 32/32 [00:12<00:00,  2.51it/s]\n",
      "INFO:holodecml.vae.checkpointer:Validation loss decreased on epoch 74 (0.576122 --> 0.573941).  Saving model.\n",
      "loss: 0.333 accuracy: 0.853: 100%|██████████| 157/157 [00:59<00:00,  2.65it/s]\n",
      "valid_loss: 0.576 accuracy: 0.853: 100%|██████████| 32/32 [00:12<00:00,  2.51it/s]\n",
      "INFO:holodecml.vae.checkpointer:EarlyStopping counter: 1 out of 5\n",
      "loss: 0.332 accuracy: 0.853: 100%|██████████| 157/157 [01:00<00:00,  2.60it/s]\n",
      "valid_loss: 0.579 accuracy: 0.850: 100%|██████████| 32/32 [00:13<00:00,  2.44it/s]\n",
      "INFO:holodecml.vae.checkpointer:EarlyStopping counter: 2 out of 5\n",
      "loss: 0.332 accuracy: 0.854: 100%|██████████| 157/157 [01:00<00:00,  2.59it/s]\n",
      "valid_loss: 0.575 accuracy: 0.852: 100%|██████████| 32/32 [00:12<00:00,  2.46it/s]\n",
      "INFO:holodecml.vae.checkpointer:EarlyStopping counter: 3 out of 5\n",
      "loss: 0.332 accuracy: 0.853: 100%|██████████| 157/157 [01:00<00:00,  2.60it/s]\n",
      "valid_loss: 0.575 accuracy: 0.852: 100%|██████████| 32/32 [00:12<00:00,  2.49it/s]\n",
      "INFO:holodecml.vae.checkpointer:EarlyStopping counter: 4 out of 5\n",
      "loss: 0.331 accuracy: 0.854: 100%|██████████| 157/157 [00:58<00:00,  2.66it/s]\n",
      "valid_loss: 0.574 accuracy: 0.851: 100%|██████████| 32/32 [00:12<00:00,  2.51it/s]\n",
      "INFO:holodecml.vae.checkpointer:EarlyStopping counter: 5 out of 5\n",
      "INFO:holodecml.vae.trainers:Early stopping\n"
     ]
    }
   ],
   "source": [
    "trainer.train(scheduler, early_stopping, metrics_logger)"
   ]
  },
  {
   "cell_type": "code",
   "execution_count": null,
   "metadata": {},
   "outputs": [],
   "source": []
  },
  {
   "cell_type": "code",
   "execution_count": null,
   "metadata": {},
   "outputs": [],
   "source": []
  }
 ],
 "metadata": {
  "kernelspec": {
   "display_name": "py37",
   "language": "python",
   "name": "py37"
  },
  "language_info": {
   "codemirror_mode": {
    "name": "ipython",
    "version": 3
   },
   "file_extension": ".py",
   "mimetype": "text/x-python",
   "name": "python",
   "nbconvert_exporter": "python",
   "pygments_lexer": "ipython3",
   "version": "3.7.5"
  }
 },
 "nbformat": 4,
 "nbformat_minor": 4
}
