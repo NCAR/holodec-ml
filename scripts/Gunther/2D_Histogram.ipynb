{
 "cells": [
  {
   "cell_type": "markdown",
   "metadata": {},
   "source": [
    "Currently, the particles are x,y,z and diameter  \n",
    "Find Upper and lower limits for x and y to find paremeter of data cube  \n",
    "Using np.histogram2D, pass in the data cubes as ones and zeros  \n",
    "z plane of the cube is the multiple images  \n",
    "Will use zlib compression becuse there will not be much data"
   ]
  },
  {
   "cell_type": "code",
   "execution_count": null,
   "metadata": {},
   "outputs": [],
   "source": []
  },
  {
   "cell_type": "code",
   "execution_count": null,
   "metadata": {},
   "outputs": [],
   "source": [
    "import numpy as np\n",
    "import xarray as xr\n",
    "import pandas as pd\n",
    "import matplotlib.pyplot as plt\n",
    "import time,sys\n",
    "from IPython.display import clear_output"
   ]
  },
  {
   "cell_type": "code",
   "execution_count": null,
   "metadata": {},
   "outputs": [],
   "source": [
    "ds = xr.open_dataset('/glade/u/home/gwallach/synthetic_holograms_v01.nc')\n",
    "ds.sizes\n",
    "xsize = 600\n",
    "ysise = 400"
   ]
  },
  {
   "cell_type": "markdown",
   "metadata": {},
   "source": [
    "Passing only the x & y variables into new arrays, so that they can be passed into histogram2d"
   ]
  },
  {
   "cell_type": "code",
   "execution_count": null,
   "metadata": {},
   "outputs": [],
   "source": [
    "xa = []\n",
    "ya = []\n",
    "xa = ds.data_vars['x'].values\n",
    "xa = xa.astype(int)\n",
    "ya = ds.data_vars['y'].values\n",
    "ya = ya.astype(int)\n",
    "print(len(xa))\n",
    "print(len(ya))\n",
    "print(xa.min())\n",
    "print(xa.max())\n",
    "print(ya.min())\n",
    "print(ya.max())"
   ]
  },
  {
   "cell_type": "code",
   "execution_count": null,
   "metadata": {},
   "outputs": [],
   "source": [
    "ds[\"hid\"]"
   ]
  },
  {
   "cell_type": "code",
   "execution_count": null,
   "metadata": {},
   "outputs": [],
   "source": [
    "hist = plt.hist2d(xa,ya,bins = 100)\n",
    "plt.colorbar()\n"
   ]
  },
  {
   "cell_type": "code",
   "execution_count": null,
   "metadata": {},
   "outputs": [],
   "source": [
    "#turn the data into a seperate 2d histogram for each image\n",
    "#Use 3 particle image \n",
    "#Also use varying particle image\n",
    "#meant to make it easier to train the nueral network\n",
    "#Make 2d array of fixed size that divides the domain up into bins\n",
    "#Find 2d histogram for every image of the multiple particle data, and stack those histograms on top of eachother"
   ]
  },
  {
   "cell_type": "code",
   "execution_count": null,
   "metadata": {},
   "outputs": [],
   "source": [
    "#get 3 particle image\n",
    "ds3 = xr.open_dataset('/glade/u/home/gwallach/synthetic_holograms_v02.nc')\n",
    "ds3.values()\n",
    "len(ds3['x'])\n",
    "hists3 = []\n",
    "#create 2D histogram for every image\n",
    "x_values = []\n",
    "y_values = []\n",
    "#increment by 3 to seperate images\n",
    "for i in ds3['x'].values[::3]:\n",
    "    x_values.append([i,i+1,i+2])\n",
    "for i in ds3['y'].values[::3]:\n",
    "    y_values.append([i,i+1,i+2])\n",
    "#create 2D histogram for every image\n",
    "#hist = np.histogram2d(x_values[1],y_values[1])\n",
    "#print(type(hist))\n",
    "#print(hist)\n",
    "for ii in range(len(x_values)):\n",
    "    hist = np.histogram2d(x_values[ii],y_values[ii],bins = 240000)\n",
    "    hists3.append(hist)\n",
    "#for i in range(3):\n",
    "    #print(hists3[i])\n",
    "\n",
    "#create data cube\n"
   ]
  },
  {
   "cell_type": "code",
   "execution_count": null,
   "metadata": {},
   "outputs": [],
   "source": [
    "for i in range(10):\n",
    "    print(hists3[i])"
   ]
  },
  {
   "cell_type": "code",
   "execution_count": null,
   "metadata": {},
   "outputs": [],
   "source": [
    "#combine the matrices into a data cube\n",
    "#print(hists3[0][0])\n",
    "#print(hists3[1][0])\n",
    "\n",
    "\n",
    "data_cube = hists3[0][0]\n",
    "\n",
    "for i in range(1,10000):\n",
    "    data_cube = data_cube + hists3[i][0]\n",
    "    \n",
    "#visualize datacube\n",
    "print(data_cube)"
   ]
  },
  {
   "cell_type": "code",
   "execution_count": null,
   "metadata": {},
   "outputs": [],
   "source": [
    "#get multiparticle data\n",
    "dsmulti = xr.open_dataset('/glade/u/home/gwallach/synthetic_holograms_v03.nc')\n",
    "dsmulti.values()\n",
    "dsmulti['image']\n"
   ]
  },
  {
   "cell_type": "code",
   "execution_count": null,
   "metadata": {},
   "outputs": [],
   "source": []
  }
 ],
 "metadata": {
  "kernelspec": {
   "display_name": "Pangeo (Python 3.6)",
   "language": "python",
   "name": "pangeo-3.6"
  },
  "language_info": {
   "codemirror_mode": {
    "name": "ipython",
    "version": 3
   },
   "file_extension": ".py",
   "mimetype": "text/x-python",
   "name": "python",
   "nbconvert_exporter": "python",
   "pygments_lexer": "ipython3",
   "version": "3.6.7"
  }
 },
 "nbformat": 4,
 "nbformat_minor": 4
}
