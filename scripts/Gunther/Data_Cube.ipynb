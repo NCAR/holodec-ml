{
 "cells": [
  {
   "cell_type": "markdown",
   "metadata": {},
   "source": [
    "Prepare and Seperate Data"
   ]
  },
  {
   "cell_type": "code",
   "execution_count": null,
   "metadata": {},
   "outputs": [],
   "source": [
    "import numpy as np\n",
    "import xarray as xr\n",
    "import pandas as pd\n",
    "import matplotlib.pyplot as plt\n",
    "\n",
    "ds3 = xr.open_dataset('/glade/u/home/gwallach/synthetic_holograms_v02.nc')\n",
    "x_values = []\n",
    "y_values = []\n",
    "hists3 = [0] * 10000\n",
    "\n",
    "\n",
    "#increment by 3 to seperate images\n",
    "for i in ds3['x'].values[::3]:\n",
    "    x_values.append([i,i+1,i+2])\n",
    "for i in ds3['y'].values[::3]:\n",
    "    y_values.append([i,i+1,i+2])    "
   ]
  },
  {
   "cell_type": "markdown",
   "metadata": {},
   "source": [
    "Create Array of Histograms"
   ]
  },
  {
   "cell_type": "code",
   "execution_count": 2,
   "metadata": {},
   "outputs": [
    {
     "data": {
      "image/png": "[encoded data removed]",
      "text/plain": [
       "<Figure size 432x288 with 1 Axes>"
      ]
     },
     "metadata": {
      "needs_background": "light"
     },
     "output_type": "display_data"
    }
   ],
   "source": [
    "binsx = np.arange(-885,885,10)\n",
    "binsy = np.arange(-590,590,10)\n",
    "hists3[0] = plt.hist2d(x_values[0],y_values[0],bins = 100)[0]\n",
    "for ii in range(1,10000):    \n",
    "    #print(x_values[ii],y_values[ii])\n",
    "    hist = plt.hist2d(x_values[ii],y_values[ii],bins = [binsx,binsy])[0]\n",
    "    #if hist.all() == hists3[ii-1].all():\n",
    "        #print(\"Repeat of previous\")\n",
    "        #break\n",
    "    hists3[ii] = hist"
   ]
  },
  {
   "cell_type": "markdown",
   "metadata": {},
   "source": [
    "Check For Repeats"
   ]
  },
  {
   "cell_type": "code",
   "execution_count": 3,
   "metadata": {},
   "outputs": [
    {
     "name": "stdout",
     "output_type": "stream",
     "text": [
      "10000\n",
      "[[1. 0. 0. ... 0. 0. 0.]\n",
      " [0. 0. 0. ... 0. 0. 0.]\n",
      " [0. 0. 0. ... 0. 0. 0.]\n",
      " ...\n",
      " [0. 0. 0. ... 0. 0. 0.]\n",
      " [0. 0. 0. ... 0. 0. 0.]\n",
      " [0. 0. 0. ... 0. 0. 1.]]\n",
      "Length Repeats =  10000\n"
     ]
    }
   ],
   "source": [
    "print(len(hists3))\n",
    "print(hists3[0])\n",
    "repeats = []\n",
    "for i in range(len(hists3)):\n",
    "    if hists3[0].all() == hists3[i].all():\n",
    "        repeats.append(1)\n",
    "    else:\n",
    "        repeats.append(0)\n",
    "if 0 in repeats:\n",
    "    print(\"Non-Repeat\")\n",
    "print(\"Length Repeats = \", len(repeats))\n",
    "#print(repeats)"
   ]
  },
  {
   "cell_type": "code",
   "execution_count": 4,
   "metadata": {},
   "outputs": [
    {
     "name": "stdout",
     "output_type": "stream",
     "text": [
      "[731.4519, 732.451904296875, 733.451904296875] [-263.08246, -262.08245849609375, -261.08245849609375]\n",
      "[395.65204, 396.65203857421875, 397.65203857421875] [-412.92368, -411.9236755371094, -410.9236755371094]\n",
      "[45.1899, 46.18989944458008, 47.18989944458008] [341.10986, 342.10986328125, 343.10986328125]\n"
     ]
    }
   ],
   "source": [
    "for i in range(3):\n",
    "    print(x_values[i],y_values[i])"
   ]
  },
  {
   "cell_type": "markdown",
   "metadata": {},
   "source": [
    "Include labels and dimensions for writting out  \n",
    "Image x, image y for the datacube  \n",
    "Make the dimensions a little smallers  \n",
    "Including coordinate arrays with the boundaries of each bin so that you know what range of x values and y values\n",
    "are included in each pixel. \n",
    "Pass in array of bins as the coordinates  \n",
    "Coordinate variables  \n",
    "need to make sure that the coordinates are the same length as the array itself  \n",
    "Either chop off the last value or define it by the average of the bins  \n",
    "sum up x values through colon negative 1  \n",
    "(x:-1)/2 will give the bin center  \n"
   ]
  },
  {
   "cell_type": "code",
   "execution_count": 5,
   "metadata": {},
   "outputs": [
    {
     "name": "stdout",
     "output_type": "stream",
     "text": [
      "[-885 -875 -865 -855 -845 -835 -825 -815 -805 -795 -785 -775 -765 -755\n",
      " -745 -735 -725 -715 -705 -695 -685 -675 -665 -655 -645 -635 -625 -615\n",
      " -605 -595 -585 -575 -565 -555 -545 -535 -525 -515 -505 -495 -485 -475\n",
      " -465 -455 -445 -435 -425 -415 -405 -395 -385 -375 -365 -355 -345 -335\n",
      " -325 -315 -305 -295 -285 -275 -265 -255 -245 -235 -225 -215 -205 -195\n",
      " -185 -175 -165 -155 -145 -135 -125 -115 -105  -95  -85  -75  -65  -55\n",
      "  -45  -35  -25  -15   -5    5   15   25   35   45   55   65   75   85\n",
      "   95  105  115  125  135  145  155  165  175  185  195  205  215  225\n",
      "  235  245  255  265  275  285  295  305  315  325  335  345  355  365\n",
      "  375  385  395  405  415  425  435  445  455  465  475  485  495  505\n",
      "  515  525  535  545  555  565  575  585  595  605  615  625  635  645\n",
      "  655  665  675  685  695  705  715  725  735  745  755  765  775  785\n",
      "  795  805  815  825  835  845  855  865  875]\n",
      "[-885 -875 -865 -855 -845 -835 -825 -815 -805 -795 -785 -775 -765 -755\n",
      " -745 -735 -725 -715 -705 -695 -685 -675 -665 -655 -645 -635 -625 -615\n",
      " -605 -595 -585 -575 -565 -555 -545 -535 -525 -515 -505 -495 -485 -475\n",
      " -465 -455 -445 -435 -425 -415 -405 -395 -385 -375 -365 -355 -345 -335\n",
      " -325 -315 -305 -295 -285 -275 -265 -255 -245 -235 -225 -215 -205 -195\n",
      " -185 -175 -165 -155 -145 -135 -125 -115 -105  -95  -85  -75  -65  -55\n",
      "  -45  -35  -25  -15   -5    5   15   25   35   45   55   65   75   85\n",
      "   95  105  115  125  135  145  155  165  175  185  195  205  215  225\n",
      "  235  245  255  265  275  285  295  305  315  325  335  345  355  365\n",
      "  375  385  395  405  415  425  435  445  455  465  475  485  495  505\n",
      "  515  525  535  545  555  565  575  585  595  605  615  625  635  645\n",
      "  655  665  675  685  695  705  715  725  735  745  755  765  775  785\n",
      "  795  805  815  825  835  845  855  865]\n"
     ]
    }
   ],
   "source": [
    "print(binsx)\n",
    "print(binsx[:-1])"
   ]
  },
  {
   "cell_type": "code",
   "execution_count": null,
   "metadata": {},
   "outputs": [],
   "source": [
    "#dimensions are image x and image y values\n",
    "cube = xr.DataArray(hists3,coords = {'x pixels':binsx[:-1],'y pixels':binsy[:-1]}, dims = {'x':1770,'y':1180})\n",
    "cube.to_netcdf('data_cube.nc')"
   ]
  },
  {
   "cell_type": "code",
   "execution_count": null,
   "metadata": {},
   "outputs": [],
   "source": []
  }
 ],
 "metadata": {
  "kernelspec": {
   "display_name": "Pangeo (2019.09.12 - py3.7)",
   "language": "python",
   "name": "pangeo-2019.09.12"
  },
  "language_info": {
   "codemirror_mode": {
    "name": "ipython",
    "version": 3
   },
   "file_extension": ".py",
   "mimetype": "text/x-python",
   "name": "python",
   "nbconvert_exporter": "python",
   "pygments_lexer": "ipython3",
   "version": "3.7.3"
  }
 },
 "nbformat": 4,
 "nbformat_minor": 4
}
