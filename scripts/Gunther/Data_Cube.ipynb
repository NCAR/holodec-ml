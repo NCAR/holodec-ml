{
 "cells": [
  {
   "cell_type": "code",
   "execution_count": 37,
   "metadata": {},
   "outputs": [],
   "source": [
    "import numpy as np\n",
    "import xarray as xr\n",
    "import pandas as pd\n",
    "import matplotlib.pyplot as plt\n",
    "\n",
    "ds3 = xr.open_dataset('/glade/u/home/gwallach/synthetic_holograms_v02.nc')\n",
    "x_values = []\n",
    "y_values = []\n",
    "hists3 = [0] * 10000\n",
    "\n",
    "\n",
    "#increment by 3 to seperate images\n",
    "for i in ds3['x'].values[::3]:\n",
    "    x_values.append([i,i+1,i+2])\n",
    "for i in ds3['y'].values[::3]:\n",
    "    y_values.append([i,i+1,i+2])    "
   ]
  },
  {
   "cell_type": "code",
   "execution_count": null,
   "metadata": {},
   "outputs": [],
   "source": [
    "binsx = np.arange(-885,885,10)\n",
    "binsy = np.arange(-590,590,10)\n",
    "hists3[0] = plt.hist2d(x_values[0],y_values[0],bins = 100)[0]\n",
    "for ii in range(1,10000):    \n",
    "    #print(x_values[ii],y_values[ii])\n",
    "    hist = plt.hist2d(x_values[ii],y_values[ii],bins = [binsx,binsy])[0]\n",
    "    #if hist.all() == hists3[ii-1].all():\n",
    "        #print(\"Repeat of previous\")\n",
    "        #break\n",
    "    hists3[ii] = hist"
   ]
  },
  {
   "cell_type": "code",
   "execution_count": null,
   "metadata": {},
   "outputs": [],
   "source": [
    "print(len(hists3))\n",
    "print(hists3[0])\n",
    "repeats = []\n",
    "for i in range(len(hists3)):\n",
    "    if hists3[0].all() == hists3[i].all():\n",
    "        repeats.append(1)\n",
    "    else:\n",
    "        repeats.append(0)\n",
    "if 0 in repeats:\n",
    "    print(\"Non-Repeat\")\n",
    "print(\"Length Repeats = \", len(repeats))\n",
    "#print(repeats)"
   ]
  },
  {
   "cell_type": "code",
   "execution_count": null,
   "metadata": {},
   "outputs": [],
   "source": [
    "for i in range(3):\n",
    "    print(x_values[i],y_values[i])"
   ]
  },
  {
   "cell_type": "markdown",
   "metadata": {},
   "source": [
    "Include labels and dimensions for writting out  \n",
    "Image x, image y for the datacube  \n",
    "Make the dimensions a little smallers  \n",
    "Including coordinate arrays with the boundaries of each bin so that you know what range of x values and y values\n",
    "are included in each pixel. \n",
    "Pass in array of bins as the coordinates  \n",
    "Coordinate variables  \n",
    "need to make sure that the coordinates are the same length as the array itself  \n",
    "Either chop off the last value or define it by the average of the bins  \n",
    "sum up x values through colon negative 1  \n",
    "(x:-1)/2 will give the bin center  \n"
   ]
  },
  {
   "cell_type": "code",
   "execution_count": null,
   "metadata": {},
   "outputs": [],
   "source": [
    "cube = xr.DataArray(hists3)\n",
    "cube.to_netcdf('data_cube.nc')"
   ]
  },
  {
   "cell_type": "code",
   "execution_count": null,
   "metadata": {},
   "outputs": [],
   "source": []
  }
 ],
 "metadata": {
  "kernelspec": {
   "display_name": "Pangeo (Python 3.6)",
   "language": "python",
   "name": "pangeo-3.6"
  },
  "language_info": {
   "codemirror_mode": {
    "name": "ipython",
    "version": 3
   },
   "file_extension": ".py",
   "mimetype": "text/x-python",
   "name": "python",
   "nbconvert_exporter": "python",
   "pygments_lexer": "ipython3",
   "version": "3.6.7"
  }
 },
 "nbformat": 4,
 "nbformat_minor": 4
}
