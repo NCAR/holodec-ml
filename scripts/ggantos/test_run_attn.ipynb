{
 "cells": [
  {
   "cell_type": "code",
   "execution_count": 7,
   "metadata": {},
   "outputs": [
    {
     "name": "stdout",
     "output_type": "stream",
     "text": [
      "2020-12-04 11:39:12.969497: I tensorflow/stream_executor/platform/default/dso_loader.cc:48] Successfully opened dynamic library libcudart.so.10.1\n",
      "Traceback (most recent call last):\n",
      "  File \"train_attn.py\", line 14, in <module>\n",
      "    from holodecml.data import load_scaled_datasets, make_random_outputs\n",
      "ModuleNotFoundError: No module named 'holodecml'\n"
     ]
    }
   ],
   "source": [
    "!python -u train_attn.py ../../config/attn.yml"
   ]
  },
  {
   "cell_type": "code",
   "execution_count": 8,
   "metadata": {},
   "outputs": [
    {
     "name": "stdout",
     "output_type": "stream",
     "text": [
      "0\n",
      "(4, 3)\n",
      "1 - real_idx.shape (4,)\n",
      "2 - real_idx.shape (None, 1)\n",
      "3 - real_idx.shape (None,)\n",
      "REAL INDICES [0 1]\n",
      "REAL SHAPE (2, 3)\n",
      "1\n",
      "(4, 3)\n",
      "1 - real_idx.shape (4,)\n",
      "2 - real_idx.shape (None, 1)\n",
      "3 - real_idx.shape (None,)\n",
      "REAL INDICES [0]\n",
      "REAL SHAPE (1, 3)\n",
      "2\n",
      "(4, 3)\n",
      "1 - real_idx.shape (4,)\n",
      "2 - real_idx.shape (None, 1)\n",
      "3 - real_idx.shape (None,)\n",
      "REAL INDICES [0 1 2]\n",
      "REAL SHAPE (3, 3)\n",
      "3\n",
      "(4, 3)\n",
      "1 - real_idx.shape (4,)\n",
      "2 - real_idx.shape (None, 1)\n",
      "3 - real_idx.shape (None,)\n",
      "REAL INDICES [0 1 2 3]\n",
      "REAL SHAPE (4, 3)\n",
      "4\n",
      "(4, 3)\n",
      "1 - real_idx.shape (4,)\n",
      "2 - real_idx.shape (None, 1)\n",
      "3 - real_idx.shape (None,)\n",
      "REAL INDICES [0 1]\n",
      "REAL SHAPE (2, 3)\n"
     ]
    }
   ],
   "source": [
    "import tensorflow as tf\n",
    "tf.compat.v1.disable_eager_execution()\n",
    "\n",
    "y_true = tf.constant([[[0.5, 0.5, 1], [0.5, 0.5, 1], [0.5, 0.5, 0], [0.5, 0.5, 0]],\n",
    "                      [[0.5, 0.5, 1], [0.5, 0.5, 0], [0.5, 0.5, 0], [0.5, 0.5, 0]],\n",
    "                      [[0.5, 0.5, 1], [0.5, 0.5, 1], [0.5, 0.5, 1], [0.5, 0.5, 0]],\n",
    "                      [[0.5, 0.5, 1], [0.5, 0.5, 1], [0.5, 0.5, 1], [0.5, 0.5, 1]],\n",
    "                      [[0.5, 0.5, 1], [0.5, 0.5, 1], [0.5, 0.5, 0], [0.5, 0.5, 0]]])\n",
    "\n",
    "for h in range(y_true.shape[0]):\n",
    "    print(h)\n",
    "    y_true_h = y_true[h]\n",
    "    print(y_true_h.shape)\n",
    "    real_idx = tf.math.greater(y_true_h[:, -1], 0)\n",
    "    print(\"1 - real_idx.shape\", real_idx.get_shape())\n",
    "    real_idx = tf.where(tf.math.greater(y_true_h[:, -1], 0))\n",
    "    print(\"2 - real_idx.shape\", real_idx.get_shape())\n",
    "    real_idx = tf.cast(tf.keras.backend.flatten(real_idx), dtype=tf.int32)\n",
    "    print(\"3 - real_idx.shape\", real_idx.get_shape())\n",
    "    y_true_h = tf.gather(y_true_h, real_idx)    \n",
    "    with tf.compat.v1.Session() as sess:\n",
    "        real_idx_out = sess.run(real_idx)\n",
    "        print(\"REAL INDICES\", real_idx_out)\n",
    "        y_true_h_out = sess.run(y_true_h)\n",
    "        print(\"REAL SHAPE\", y_true_h_out.shape)\n"
   ]
  },
  {
   "cell_type": "code",
   "execution_count": 16,
   "metadata": {},
   "outputs": [
    {
     "name": "stdout",
     "output_type": "stream",
     "text": [
      "0\n",
      "(4, 3)\n",
      "real_idx.shape ()\n",
      "real_idx Tensor(\"ArgMin_21:0\", shape=(), dtype=int64)\n",
      "y_true_h.shape (2, 3)\n",
      "y_true_h Tensor(\"strided_slice_84:0\", shape=(2, 3), dtype=float32)\n",
      "REAL INDICES 2\n",
      "REAL SHAPE (2, 3)\n",
      "1\n",
      "(4, 3)\n",
      "real_idx.shape ()\n",
      "real_idx Tensor(\"ArgMin_22:0\", shape=(), dtype=int64)\n",
      "y_true_h.shape (1, 3)\n",
      "y_true_h Tensor(\"strided_slice_87:0\", shape=(1, 3), dtype=float32)\n",
      "REAL INDICES 1\n",
      "REAL SHAPE (1, 3)\n",
      "2\n",
      "(4, 3)\n",
      "real_idx.shape ()\n",
      "real_idx Tensor(\"ArgMin_23:0\", shape=(), dtype=int64)\n",
      "y_true_h.shape (3, 3)\n",
      "y_true_h Tensor(\"strided_slice_90:0\", shape=(3, 3), dtype=float32)\n",
      "REAL INDICES 3\n",
      "REAL SHAPE (3, 3)\n",
      "3\n",
      "(4, 3)\n",
      "real_idx.shape ()\n",
      "real_idx Tensor(\"ArgMin_24:0\", shape=(), dtype=int64)\n",
      "y_true_h.shape (0, 3)\n",
      "y_true_h Tensor(\"strided_slice_93:0\", shape=(0, 3), dtype=float32)\n",
      "REAL INDICES 0\n",
      "REAL SHAPE (0, 3)\n",
      "4\n",
      "(4, 3)\n",
      "real_idx.shape ()\n",
      "real_idx Tensor(\"ArgMin_25:0\", shape=(), dtype=int64)\n",
      "y_true_h.shape (2, 3)\n",
      "y_true_h Tensor(\"strided_slice_96:0\", shape=(2, 3), dtype=float32)\n",
      "REAL INDICES 2\n",
      "REAL SHAPE (2, 3)\n"
     ]
    }
   ],
   "source": [
    "import tensorflow as tf\n",
    "tf.compat.v1.disable_eager_execution()\n",
    "\n",
    "y_true = tf.constant([[[0.5, 0.5, 1], [0.5, 0.5, 1], [0.5, 0.5, 0], [0.5, 0.5, 0]],\n",
    "                      [[0.5, 0.5, 1], [0.5, 0.5, 0], [0.5, 0.5, 0], [0.5, 0.5, 0]],\n",
    "                      [[0.5, 0.5, 1], [0.5, 0.5, 1], [0.5, 0.5, 1], [0.5, 0.5, 0]],\n",
    "                      [[0.5, 0.5, 1], [0.5, 0.5, 1], [0.5, 0.5, 1], [0.5, 0.5, 1]],\n",
    "                      [[0.5, 0.5, 1], [0.5, 0.5, 1], [0.5, 0.5, 0], [0.5, 0.5, 0]]])\n",
    "\n",
    "for h in range(y_true.shape[0]):\n",
    "    print(h)\n",
    "    y_true_h = y_true[h]\n",
    "    print(y_true_h.shape)\n",
    "    \n",
    "    real_idx = tf.argmin(y_true_h[:, -1], axis=0)\n",
    "    print(\"real_idx.shape\", real_idx.get_shape())\n",
    "    print(\"real_idx\", real_idx)\n",
    "    y_true_h = y_true_h[:real_idx]\n",
    "    print(\"y_true_h.shape\", y_true_h.get_shape())\n",
    "    print(\"y_true_h\", y_true_h)\n",
    "\n",
    "    with tf.compat.v1.Session() as sess:\n",
    "        real_idx_out = sess.run(real_idx)\n",
    "        print(\"REAL INDICES\", real_idx_out)\n",
    "        y_true_h_out = sess.run(y_true_h)\n",
    "        print(\"REAL SHAPE\", y_true_h_out.shape)\n"
   ]
  },
  {
   "cell_type": "code",
   "execution_count": 2,
   "metadata": {},
   "outputs": [
    {
     "data": {
      "text/plain": [
       "<tf.Operation 'PrintV2_10' type=PrintV2>"
      ]
     },
     "execution_count": 2,
     "metadata": {},
     "output_type": "execute_result"
    }
   ],
   "source": [
    "tf.print(real_idx)"
   ]
  },
  {
   "cell_type": "code",
   "execution_count": 49,
   "metadata": {},
   "outputs": [
    {
     "data": {
      "text/plain": [
       "TensorShape([4])"
      ]
     },
     "execution_count": 49,
     "metadata": {},
     "output_type": "execute_result"
    }
   ],
   "source": [
    "y_h.shape"
   ]
  },
  {
   "cell_type": "code",
   "execution_count": 19,
   "metadata": {},
   "outputs": [
    {
     "name": "stdout",
     "output_type": "stream",
     "text": [
      "<class 'tensorflow.python.framework.ops.Tensor'>\n"
     ]
    }
   ],
   "source": [
    "print(type(y))"
   ]
  },
  {
   "cell_type": "code",
   "execution_count": 20,
   "metadata": {},
   "outputs": [
    {
     "name": "stdout",
     "output_type": "stream",
     "text": [
      "<class 'numpy.ndarray'>\n",
      "[[False False False False]\n",
      " [False False False False]\n",
      " [False False False False]\n",
      " [False False False False]\n",
      " [False False False False]]\n"
     ]
    }
   ],
   "source": [
    "with tf.compat.v1.Session() as sess:\n",
    "    y_out = sess.run(mask)\n",
    "    print(type(y_out))\n",
    "    print(y_out)"
   ]
  },
  {
   "cell_type": "code",
   "execution_count": 2,
   "metadata": {},
   "outputs": [
    {
     "data": {
      "text/plain": [
       "<tf.Tensor: shape=(0, 3), dtype=float32, numpy=array([], shape=(0, 3), dtype=float32)>"
      ]
     },
     "execution_count": 2,
     "metadata": {},
     "output_type": "execute_result"
    }
   ],
   "source": [
    "slice_y_greater_than_one"
   ]
  },
  {
   "cell_type": "code",
   "execution_count": 45,
   "metadata": {},
   "outputs": [],
   "source": [
    "import numpy as np\n",
    "pred = np.array([[[0.5, 0.5, 1], [0.5, 0.5, 1], [0.5, 0.5, 0], [0.5, 0.5, 0]],\n",
    "                 [[0.5, 0.5, 0], [0.5, 0.5, 0], [0.5, 0.5, 1], [0.5, 0.5, 1]], \n",
    "                 [[0.5, 0.5, 1], [0.5, 0.5, 0], [0.5, 0.5, 1], [0.5, 0.5, 1]], \n",
    "                 [[0.5, 0.5, 1], [0.5, 0.5, 1], [0.5, 0.5, 1], [0.5, 0.5, 0]], \n",
    "                 [[0.5, 0.5, 0], [0.5, 0.5, 0], [0.5, 0.5, 0], [0.5, 0.5, 1]]])"
   ]
  },
  {
   "cell_type": "code",
   "execution_count": 46,
   "metadata": {},
   "outputs": [
    {
     "data": {
      "text/plain": [
       "(5, 4, 3)"
      ]
     },
     "execution_count": 46,
     "metadata": {},
     "output_type": "execute_result"
    }
   ],
   "source": [
    "pred.shape"
   ]
  },
  {
   "cell_type": "code",
   "execution_count": 47,
   "metadata": {},
   "outputs": [],
   "source": [
    "pred_real = pred[0]"
   ]
  },
  {
   "cell_type": "code",
   "execution_count": 48,
   "metadata": {},
   "outputs": [
    {
     "data": {
      "text/plain": [
       "(4, 3)"
      ]
     },
     "execution_count": 48,
     "metadata": {},
     "output_type": "execute_result"
    }
   ],
   "source": [
    "pred_real.shape"
   ]
  },
  {
   "cell_type": "code",
   "execution_count": null,
   "metadata": {},
   "outputs": [],
   "source": [
    "pred_real[pred_real]"
   ]
  }
 ],
 "metadata": {
  "kernelspec": {
   "display_name": "Python 3",
   "language": "python",
   "name": "python3"
  },
  "language_info": {
   "codemirror_mode": {
    "name": "ipython",
    "version": 3
   },
   "file_extension": ".py",
   "mimetype": "text/x-python",
   "name": "python",
   "nbconvert_exporter": "python",
   "pygments_lexer": "ipython3",
   "version": "3.7.5"
  }
 },
 "nbformat": 4,
 "nbformat_minor": 4
}
