{
 "cells": [
  {
   "cell_type": "code",
   "execution_count": 1,
   "metadata": {},
   "outputs": [],
   "source": [
    "import os\n",
    "import sys\n",
    "import numpy as np\n",
    "import pandas as pd\n",
    "from sklearn.metrics import mean_absolute_error\n",
    "from sklearn.preprocessing import StandardScaler, MinMaxScaler, MaxAbsScaler, RobustScaler, minmax_scale\n",
    "from datetime import datetime\n",
    "\n",
    "sys.path.append('../../library/')\n",
    "\n",
    "from data import open_dataset, load_scaled_datasets, scale_images"
   ]
  },
  {
   "cell_type": "code",
   "execution_count": 2,
   "metadata": {},
   "outputs": [],
   "source": [
    "data_path = \"/glade/p/cisl/aiml/ai4ess_hackathon/holodec/\"\n",
    "num_particles = 3\n",
    "split = \"train\"\n",
    "output_cols = [\"x\", \"y\", \"z\", \"d\", \"hid\"]\n",
    "input_scaler = MinMaxScaler()"
   ]
  },
  {
   "cell_type": "code",
   "execution_count": null,
   "metadata": {},
   "outputs": [],
   "source": [
    "scaled_train_inputs, \\\n",
    "scaled_valid_inputs, \\\n",
    "scaled_train_outputs, \\\n",
    "scaled_valid_outputs, \\\n",
    "input_scaler = load_scaled_datasets(data_path,\n",
    "                                    num_particles,\n",
    "                                    output_cols,\n",
    "                                    input_scaler)"
   ]
  },
  {
   "cell_type": "code",
   "execution_count": 3,
   "metadata": {},
   "outputs": [
    {
     "data": {
      "text/plain": [
       "['/glade/p/cisl/aiml/ggantos/holodec/conv2d_3particle',\n",
       " '/glade/p/cisl/aiml/ggantos/holodec/conv2d_1particle_test',\n",
       " '/glade/p/cisl/aiml/ggantos/holodec/conv2d_3particle_middle',\n",
       " '/glade/p/cisl/aiml/ggantos/holodec/conv2d_3particle_bigger',\n",
       " '/glade/p/cisl/aiml/ggantos/holodec/conv2d_1particle',\n",
       " '/glade/p/cisl/aiml/ggantos/holodec/conv2d_3particle_test',\n",
       " '/glade/p/cisl/aiml/ggantos/holodec/conv2d_1particle_20']"
      ]
     },
     "execution_count": 3,
     "metadata": {},
     "output_type": "execute_result"
    }
   ],
   "source": [
    "model_path = \"/glade/p/cisl/aiml/ggantos/holodec/\"\n",
    "models = [x[0] for x in os.walk(model_path)][1:]\n",
    "models"
   ]
  },
  {
   "cell_type": "code",
   "execution_count": 4,
   "metadata": {},
   "outputs": [
    {
     "name": "stdout",
     "output_type": "stream",
     "text": [
      "cnn.h5\t    pred_train_outputs.csv\t   scaled_pred_valid_outputs.csv\n",
      "config.yml  pred_valid_outputs.csv\n",
      "error.csv   scaled_pred_train_outputs.csv\n"
     ]
    }
   ],
   "source": [
    "! ls /glade/p/cisl/aiml/ggantos/holodec/conv2d_3particle_test"
   ]
  },
  {
   "cell_type": "code",
   "execution_count": 5,
   "metadata": {},
   "outputs": [],
   "source": [
    "train_outputs = open_dataset(data_path, num_particles, \"train\")[output_cols].to_dataframe()\n",
    "valid_outputs = open_dataset(data_path, num_particles, \"valid\")[output_cols].to_dataframe()\n",
    "if len(output_cols) == 5:\n",
    "    train_outputs = flatten_dataset(train_outputs)\n",
    "    valid_outputs = flatten_dataset(valid_outputs)"
   ]
  },
  {
   "cell_type": "code",
   "execution_count": 6,
   "metadata": {},
   "outputs": [],
   "source": [
    "model = models[0]\n",
    "# error = pd.read_csv(os.path.join(model, 'error.csv'))\n",
    "pred_train_outputs = pd.read_csv(os.path.join(model, 'pred_train_outputs.csv'))\n",
    "pred_valid_outputs = pd.read_csv(os.path.join(model, 'pred_valid_outputs.csv'))\n",
    "scaled_pred_train_outputs = pd.read_csv(os.path.join(model, 'scaled_pred_train_outputs.csv'))\n",
    "scaled_pred_valid_outputs = pd.read_csv(os.path.join(model, 'scaled_pred_valid_outputs.csv'))"
   ]
  },
  {
   "cell_type": "code",
   "execution_count": 9,
   "metadata": {},
   "outputs": [
    {
     "data": {
      "text/plain": [
       "Index(['index', '0', '1', '2', '3', '4', '5', '6', '7', '8', '9', '10', '11'], dtype='object')"
      ]
     },
     "execution_count": 9,
     "metadata": {},
     "output_type": "execute_result"
    }
   ],
   "source": [
    "pred_valid_outputs.columns"
   ]
  },
  {
   "cell_type": "code",
   "execution_count": 11,
   "metadata": {},
   "outputs": [
    {
     "name": "stdout",
     "output_type": "stream",
     "text": [
      "Training error in x1:  316.52819556925556\n",
      "Training error in y1:  210.96780811121016\n",
      "Training error in z1:  27083.941061460653\n",
      "Training error in d1:  9.39672404200442\n",
      "Training error in x2:  317.9517007582583\n",
      "Training error in y2:  211.0155743174734\n",
      "Training error in z2:  25877.62634116\n",
      "Training error in d2:  9.175959639524848\n",
      "Training error in x3:  318.52826259454747\n",
      "Training error in y3:  213.5020698560284\n",
      "Training error in z3:  26712.795618144202\n",
      "Training error in d3:  9.35161267816209\n",
      "Validation error in x1:  313.25150140775014\n",
      "Validation error in y1:  216.95434742877424\n",
      "Validation error in z1:  28872.224312064845\n",
      "Validation error in d1:  9.78174555984602\n",
      "Validation error in x2:  325.53328065126595\n",
      "Validation error in y2:  212.56501547349467\n",
      "Validation error in z2:  28849.615738700908\n",
      "Validation error in d2:  9.746923511759583\n",
      "Validation error in x3:  321.2350278685548\n",
      "Validation error in y3:  212.42184387061295\n",
      "Validation error in z3:  28580.104557069586\n",
      "Validation error in d3:  9.781003169541407\n"
     ]
    }
   ],
   "source": [
    "error = {\"train\": {}, \"valid\": {}}\n",
    "for i, var in enumerate(train_outputs.columns):\n",
    "    err = mean_absolute_error(train_outputs[var], pred_train_outputs[str(i)])\n",
    "    error[\"train\"][var] = err\n",
    "    print (f\"Training error in {var}: \", err)\n",
    "for i, var in enumerate(valid_outputs.columns):\n",
    "    err = mean_absolute_error(valid_outputs[var], pred_valid_outputs[str(i)])\n",
    "    error[\"valid\"][var] = err\n",
    "    print (f\"Validation error in {var}: \", err)    "
   ]
  },
  {
   "cell_type": "code",
   "execution_count": null,
   "metadata": {},
   "outputs": [],
   "source": [
    "error"
   ]
  }
 ],
 "metadata": {
  "kernelspec": {
   "display_name": "Pangeo (2019.09.12 - py3.7)",
   "language": "python",
   "name": "pangeo-2019.09.12"
  },
  "language_info": {
   "codemirror_mode": {
    "name": "ipython",
    "version": 3
   },
   "file_extension": ".py",
   "mimetype": "text/x-python",
   "name": "python",
   "nbconvert_exporter": "python",
   "pygments_lexer": "ipython3",
   "version": "3.7.3"
  }
 },
 "nbformat": 4,
 "nbformat_minor": 4
}
