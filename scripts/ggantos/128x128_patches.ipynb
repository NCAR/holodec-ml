{
 "cells": [
  {
   "cell_type": "code",
   "execution_count": 1,
   "id": "weird-music",
   "metadata": {},
   "outputs": [],
   "source": [
    "from holodecml.data import dataset_name, load_raw_datasets, open_dataset, load_unet_datasets_xy\n",
    "import matplotlib.pyplot as plt\n",
    "import xarray as xr\n"
   ]
  },
  {
   "cell_type": "code",
   "execution_count": 2,
   "id": "elder-sauce",
   "metadata": {},
   "outputs": [],
   "source": [
    "path_data = \"/glade/p/cisl/aiml/ai4ess_hackathon/holodec/\"\n",
    "num_particles = \"patches\"\n",
    "output_cols = [\"x\", \"y\", \"hid\"]\n",
    "bin_factor = 10\n",
    "subset = 0.01\n",
    "input_col=\"image\"\n",
    "\n",
    "train_inputs,\\\n",
    "train_outputs,\\\n",
    "valid_inputs,\\\n",
    "valid_outputs = load_unet_datasets_xy(path_data, num_particles, output_cols,\n",
    "                                      subset, bin_factor,\n",
    "                                      input_col)\n"
   ]
  },
  {
   "cell_type": "code",
   "execution_count": null,
   "id": "incident-siemens",
   "metadata": {},
   "outputs": [],
   "source": [
    "path_data = \"/glade/p/cisl/aiml/ai4ess_hackathon/holodec/\"\n",
    "num_particles = \"patches\"\n",
    "output_cols = [\"hid\",\"pid\",\"x_patch_pixels\",\"y_patch_pixels\"]\n",
    "input_col = \"patch\"\n",
    "subset = 0.01\n",
    "rad = 32"
   ]
  },
  {
   "cell_type": "code",
   "execution_count": null,
   "id": "significant-cement",
   "metadata": {},
   "outputs": [],
   "source": [
    "train_inputs_raw, train_outputs_raw = load_raw_datasets(path_data, num_particles,\n",
    "                                                        'train', output_cols, subset, input_col)\n"
   ]
  },
  {
   "cell_type": "code",
   "execution_count": null,
   "id": "aquatic-fault",
   "metadata": {},
   "outputs": [],
   "source": [
    "train_inputs.shape"
   ]
  },
  {
   "cell_type": "code",
   "execution_count": null,
   "id": "ceramic-catholic",
   "metadata": {},
   "outputs": [],
   "source": [
    "train_inputs_raw.shape"
   ]
  },
  {
   "cell_type": "code",
   "execution_count": null,
   "id": "brazilian-schema",
   "metadata": {},
   "outputs": [],
   "source": [
    "train_outputs_raw"
   ]
  },
  {
   "cell_type": "code",
   "execution_count": null,
   "id": "defined-parliament",
   "metadata": {},
   "outputs": [],
   "source": [
    "ds = xr.open_dataset(path_data+'synthetic_holograms_10particle_gamma_512x512_training_patches128x128.nc')\n",
    "ds"
   ]
  },
  {
   "cell_type": "code",
   "execution_count": null,
   "id": "durable-salon",
   "metadata": {},
   "outputs": [],
   "source": [
    "ds.attrs"
   ]
  },
  {
   "cell_type": "code",
   "execution_count": null,
   "id": "expressed-crawford",
   "metadata": {},
   "outputs": [],
   "source": [
    "ds.x_patch_pixels.attrs"
   ]
  },
  {
   "cell_type": "code",
   "execution_count": null,
   "id": "insured-geneva",
   "metadata": {},
   "outputs": [],
   "source": [
    "2.96e-06 * 512 * 1e6 // 2"
   ]
  },
  {
   "cell_type": "code",
   "execution_count": null,
   "id": "acoustic-active",
   "metadata": {},
   "outputs": [],
   "source": [
    "ds_old = xr.open_dataset(path_data+'synthetic_holograms_12-25particle_gamma_600x400_training.nc')\n",
    "ds_old"
   ]
  },
  {
   "cell_type": "code",
   "execution_count": null,
   "id": "dying-drawing",
   "metadata": {},
   "outputs": [],
   "source": [
    "ds_old.attrs"
   ]
  },
  {
   "cell_type": "code",
   "execution_count": null,
   "id": "forbidden-conference",
   "metadata": {},
   "outputs": [],
   "source": [
    "2.96e-06 * 1200 * 1e6 // 2"
   ]
  },
  {
   "cell_type": "code",
   "execution_count": null,
   "id": "exposed-territory",
   "metadata": {},
   "outputs": [],
   "source": []
  }
 ],
 "metadata": {
  "kernelspec": {
   "display_name": "Python 3",
   "language": "python",
   "name": "python3"
  },
  "language_info": {
   "codemirror_mode": {
    "name": "ipython",
    "version": 3
   },
   "file_extension": ".py",
   "mimetype": "text/x-python",
   "name": "python",
   "nbconvert_exporter": "python",
   "pygments_lexer": "ipython3",
   "version": "3.6.11"
  }
 },
 "nbformat": 4,
 "nbformat_minor": 5
}
