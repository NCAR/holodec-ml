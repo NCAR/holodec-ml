{
 "cells": [
  {
   "cell_type": "code",
   "execution_count": 1,
   "metadata": {},
   "outputs": [],
   "source": [
    "from holodecml.data import load_raw_datasets, load_unet_datasets, load_unet_datasets_xy\n",
    "from holodecml.losses import unet_loss, unet_loss_xy\n",
    "from holodecml.models import custom_unet, custom_jnet, custom_jnet_full\n",
    "import numpy as np\n",
    "import matplotlib.pyplot as plt\n",
    "from sklearn.preprocessing import MinMaxScaler\n",
    "import xarray as xr\n",
    "import os\n",
    "from os.path import join\n",
    "import yaml\n",
    "from tensorflow.keras.optimizers import Adam\n"
   ]
  },
  {
   "cell_type": "code",
   "execution_count": 2,
   "metadata": {},
   "outputs": [],
   "source": [
    "path_data = \"/glade/p/cisl/aiml/ai4ess_hackathon/holodec/\"\n",
    "num_particles = \"medium\"\n",
    "output_cols = [\"x\", \"y\", \"z\", \"d\", \"hid\"]\n",
    "subset = False\n",
    "scaler_out = MinMaxScaler()\n",
    "bin_factor = 10\n",
    "h = 0\n"
   ]
  },
  {
   "cell_type": "code",
   "execution_count": null,
   "metadata": {},
   "outputs": [],
   "source": [
    "train_inputs_raw, train_outputs_raw = load_raw_datasets(path_data, num_particles,\n",
    "                                                'train', output_cols, subset)\n"
   ]
  },
  {
   "cell_type": "code",
   "execution_count": null,
   "metadata": {},
   "outputs": [],
   "source": [
    "valid_inputs_raw, valid_outputs_raw = load_raw_datasets(path_data, num_particles,\n",
    "                                                'valid', output_cols, subset)\n"
   ]
  },
  {
   "cell_type": "code",
   "execution_count": null,
   "metadata": {},
   "outputs": [],
   "source": [
    "print(len(np.where(valid_outputs_raw[\"hid\"] == h + 1)[0]))\n",
    "fig, ax = plt.subplots(figsize=(18, 12))\n",
    "ax.imshow(valid_inputs_raw[h].T, cmap='gray', vmin=0, vmax=255)\n",
    "ax.set_xticks([])\n",
    "ax.set_yticks([])\n",
    "plt.show()\n"
   ]
  },
  {
   "cell_type": "code",
   "execution_count": null,
   "metadata": {},
   "outputs": [],
   "source": [
    "def plot_hologram_xy(h, inputs, outputs):\n",
    "    \"\"\"\n",
    "    Given a hologram number, plot hologram and particle point\n",
    "    \n",
    "    Args: \n",
    "        h: (int) hologram index\n",
    "        inputs: (pd df) input images\n",
    "        outputs: (pd df) output x and y values by hid\n",
    "    \n",
    "    Returns:\n",
    "        print of pseudocolor plot of hologram and hologram particles\n",
    "    \"\"\"    \n",
    "    x_vals = np.linspace(-888, 888, inputs[h, :, :].shape[0])\n",
    "    y_vals = np.linspace(-592, 592, inputs[h, :, :].shape[1])\n",
    "\n",
    "    plt.figure(figsize=(12, 8))\n",
    "    plt.pcolormesh(x_vals, y_vals, inputs[h, :, :].T, cmap=\"RdBu_r\")\n",
    "    h_particles = np.where(outputs[\"hid\"] == h + 1)[0]\n",
    "    for h_particle in h_particles:\n",
    "        plt.scatter(outputs.loc[h_particle, \"x\"],\n",
    "                    outputs.loc[h_particle, \"y\"],\n",
    "                    c=\"b\", s=100)\n",
    "    plt.xlabel(\"horizontal particle position (µm)\", fontsize=16)\n",
    "    plt.ylabel(\"vertical particle position (µm)\", fontsize=16)\n",
    "    plt.title(f\"Hologram and particle positions plotted in two dimensions: {h_particles.shape[0]} particles\", fontsize=20, pad=20)\n"
   ]
  },
  {
   "cell_type": "code",
   "execution_count": null,
   "metadata": {},
   "outputs": [],
   "source": [
    "plot_hologram_xy(h, valid_inputs_raw, valid_outputs_raw)\n"
   ]
  },
  {
   "cell_type": "code",
   "execution_count": null,
   "metadata": {
    "scrolled": true
   },
   "outputs": [],
   "source": [
    "train_inputs, train_outputs, valid_inputs, valid_outputs = load_unet_datasets(path_data, num_particles, \n",
    "                                                                              output_cols, scaler_out, subset, bin_factor)"
   ]
  },
  {
   "cell_type": "code",
   "execution_count": null,
   "metadata": {},
   "outputs": [],
   "source": [
    "with open(\"../../config/jnet_xy.yml\") as config_file:\n",
    "    config = yaml.load(config_file, Loader=yaml.FullLoader)\n",
    "\n",
    "path_data = config[\"path_data\"]\n",
    "path_save = config[\"path_save\"]\n",
    "if not os.path.exists(path_save):\n",
    "    os.makedirs(path_save)\n",
    "num_particles = config[\"num_particles\"]\n",
    "output_cols = config[\"output_cols\"]\n",
    "seed = config[\"random_seed\"]\n"
   ]
  },
  {
   "cell_type": "code",
   "execution_count": null,
   "metadata": {},
   "outputs": [],
   "source": [
    "model = custom_jnet_full(\n",
    "    np.expand_dims(train_inputs, axis=-1).shape[1:],\n",
    "    **config[\"unet\"]\n",
    ")\n",
    "model.compile(optimizer=Adam(lr=config[\"train\"]['learning_rate']), loss=unet_loss)\n",
    "model.summary()\n"
   ]
  },
  {
   "cell_type": "code",
   "execution_count": null,
   "metadata": {},
   "outputs": [],
   "source": [
    "hist = model.fit(\n",
    "    np.expand_dims(train_inputs, axis=-1),\n",
    "    train_outputs,\n",
    "    batch_size=config[\"train\"]['batch_size'],\n",
    "    epochs=config[\"train\"]['epochs'],\n",
    "    validation_data=(np.expand_dims(valid_inputs, axis=-1), valid_outputs),\n",
    "    verbose=config[\"train\"][\"verbose\"]\n",
    ")"
   ]
  },
  {
   "cell_type": "code",
   "execution_count": null,
   "metadata": {},
   "outputs": [],
   "source": [
    "valid_outputs_pred = xr.open_dataset(\"/glade/p/cisl/aiml/ggantos/holodec/unet/jnet_10_dz/valid_outputs_pred.nc\")\n",
    "valid_outputs_pred = valid_outputs_pred.to_array().values[0]\n"
   ]
  },
  {
   "cell_type": "code",
   "execution_count": null,
   "metadata": {},
   "outputs": [],
   "source": [
    "image_pred = valid_outputs_pred[h, :, :, 0]\n",
    "image_true = valid_outputs[h, :, :, 0]\n",
    "\n",
    "coords_true = np.where(image_true > 0)\n",
    "\n",
    "idx = np.argwhere(np.diff(np.sort(valid_outputs_pred[h, :, :, 0].flatten())) > .0001)+1\n",
    "pred_argsort = valid_outputs_pred[h, :, :, 0].flatten().argsort()\n",
    "coords_pred = []\n",
    "for i in pred_argsort[-idx.shape[0]:][::-1]:\n",
    "    coord = np.array([c[0] for c in np.where(image_pred == image_pred.flatten()[i])])\n",
    "    coords_pred.append(coord)\n",
    "coords_pred = np.stack(coords_pred)\n"
   ]
  },
  {
   "cell_type": "code",
   "execution_count": null,
   "metadata": {},
   "outputs": [],
   "source": [
    "fig=plt.figure(figsize=(12, 8))\n",
    "plt.pcolormesh(np.log(valid_outputs_pred[0, :, :, 0]).T, cmap=\"RdBu_r\")\n",
    "plt.colorbar()\n",
    "plt.scatter(np.where(image_true > 0)[0], np.where(image_true > 0)[1], color='blue', s=100, label=\"True\")\n",
    "print(np.sum(valid_outputs_pred[h, :, :, 0]))\n",
    "print(np.min(valid_outputs_pred[h, :, :, 0]))\n",
    "print(np.max(valid_outputs_pred[h, :, :, 0]))\n",
    "plt.title(f'Log of probability field for validation hologram {h}', fontsize=20)\n",
    "plt.legend(fontsize=20)\n",
    "plt.xticks([])\n",
    "plt.yticks([])\n",
    "plt.savefig(\"./prob_field_log.png\", dpi=200, bbox_inches=\"tight\")\n"
   ]
  },
  {
   "cell_type": "code",
   "execution_count": null,
   "metadata": {},
   "outputs": [],
   "source": [
    "plt.plot(np.diff(np.sort(valid_outputs_pred[h, :, :, 0].flatten())), color='red')\n",
    "plt.plot(np.diff(np.sort(valid_outputs_pred[h, :, :, 0].flatten()))[np.diff(np.sort(valid_outputs_pred[h, :, :, 0].flatten())) > .0001], color='blue')"
   ]
  },
  {
   "cell_type": "code",
   "execution_count": null,
   "metadata": {},
   "outputs": [],
   "source": [
    "plt.figure(figsize=(12, 8))\n",
    "x_vals = np.linspace(0, 60, valid_inputs[h, :, :].shape[0])\n",
    "y_vals = np.linspace(0, 40, valid_inputs[h, :, :].shape[1])\n",
    "plt.xticks([])\n",
    "plt.yticks([])\n",
    "plt.pcolormesh(x_vals, y_vals, valid_inputs[h, :, :].T, cmap=\"RdBu_r\")\n",
    "plt.scatter(np.where(image_true > 0)[0], np.where(image_true > 0)[1], color='blue', s=100, label=\"True\", zorder=2)\n",
    "plt.scatter(coords_pred[:, 0], coords_pred[:, 1], color='red', s=100, label=\"Predicted\", zorder=1)\n",
    "plt.legend(fontsize=20)\n",
    "plt.title(f'{int(np.sum(image_true))} True vs Top {idx.shape[0]} Predicted Particles for validation hologram {h}', fontsize=20)\n",
    "plt.savefig(\"./true_vs_pred_diff.png\", dpi=200, bbox_inches=\"tight\")\n"
   ]
  },
  {
   "cell_type": "code",
   "execution_count": null,
   "metadata": {},
   "outputs": [],
   "source": [
    "pred_argsort = valid_outputs_pred[h, :, :, 0].flatten().argsort()\n",
    "coords_pred = []\n",
    "for i in pred_argsort[-int(np.sum(image_true)):][::-1]:\n",
    "    coord = np.array([c[0] for c in np.where(image_pred == image_pred.flatten()[i])])\n",
    "    coords_pred.append(coord)\n",
    "coords_pred = np.stack(coords_pred)\n"
   ]
  },
  {
   "cell_type": "code",
   "execution_count": null,
   "metadata": {},
   "outputs": [],
   "source": [
    "plt.figure(figsize=(12, 8))\n",
    "x_vals = np.linspace(0, 60, valid_inputs[h, :, :].shape[0])\n",
    "y_vals = np.linspace(0, 40, valid_inputs[h, :, :].shape[1])\n",
    "plt.xticks([])\n",
    "plt.yticks([])\n",
    "plt.pcolormesh(x_vals, y_vals, valid_inputs[h, :, :].T, cmap=\"RdBu_r\")\n",
    "plt.scatter(np.where(image_true > 0)[0], np.where(image_true > 0)[1], color='blue', s=100, label=\"True\", zorder=2)\n",
    "plt.scatter(coords_pred[:, 0], coords_pred[:, 1], color='red', s=100, label=\"Predicted\", zorder=1)\n",
    "plt.legend(fontsize=20)\n",
    "plt.title(f'{int(np.sum(image_true))} True vs Top {int(np.sum(image_true))} Predicted Particles for validation hologram {h}', fontsize=20)\n",
    "plt.savefig(\"./true_vs_pred_toptrue.png\", dpi=200, bbox_inches=\"tight\")\n"
   ]
  },
  {
   "cell_type": "code",
   "execution_count": null,
   "metadata": {},
   "outputs": [],
   "source": [
    "fig=plt.figure(figsize=(12, 8))\n",
    "plt.imshow(valid_outputs[h, :, :, 0].T, interpolation='bilinear', cmap=plt.cm.gray, aspect='auto', vmin=0, vmax=1)\n",
    "plt.title(f'True probability field for validation hologram {h}\\nSum of non-zero values: {np.sum(valid_outputs[h, :, :, 0]):.2f}\\nMax predicted value: {np.max(valid_outputs[h, :, :, 0]):.2f}', fontsize=20)\n",
    "plt.savefig(\"./prob_true.png\", dpi=200, bbox_inches=\"tight\")\n"
   ]
  },
  {
   "cell_type": "code",
   "execution_count": null,
   "metadata": {},
   "outputs": [],
   "source": [
    "fig=plt.figure(figsize=(12, 8))\n",
    "plt.imshow(valid_outputs_pred[h, :, :, 0].T, interpolation='bilinear', cmap=plt.cm.gray, aspect='auto', vmin=0, vmax=1)\n",
    "plt.title(f'Predicted probability field for validation hologram {h}\\nSum of non-zero values: {np.sum(valid_outputs_pred[h, :, :, 0]):.2f}\\nMax predicted value: {np.max(valid_outputs_pred[h, :, :, 0]):.2f}', fontsize=20)\n",
    "plt.savefig(\"./prob_pred.png\", dpi=200, bbox_inches=\"tight\")\n"
   ]
  },
  {
   "cell_type": "code",
   "execution_count": null,
   "metadata": {},
   "outputs": [],
   "source": [
    "xr.DataArray(valid_outputs_pred[:, :, :, 0]).to_netcdf(path='holo_all.nc')"
   ]
  },
  {
   "cell_type": "code",
   "execution_count": null,
   "metadata": {},
   "outputs": [],
   "source": [
    "fig=plt.figure(figsize=(12, 8))\n",
    "plt.imshow(valid_outputs_pred[h, :, :, 1].T, interpolation='bilinear', cmap=plt.cm.gray, aspect='auto', vmin=0, vmax=1)\n",
    "plt.title(f'Predicted Z-coordinate field for validation hologram {h}', fontsize=20)\n",
    "plt.savefig(\"./z_pred.png\", dpi=200, bbox_inches=\"tight\")\n"
   ]
  },
  {
   "cell_type": "code",
   "execution_count": null,
   "metadata": {},
   "outputs": [],
   "source": [
    "fig=plt.figure(figsize=(12, 8))\n",
    "plt.imshow(valid_outputs[h, :, :, 1].T, interpolation='bilinear', cmap=plt.cm.gray, aspect='auto', vmin=0, vmax=1)\n",
    "plt.title(f'True Z-coordinate field for validation hologram {h}', fontsize=20)\n",
    "plt.savefig(\"./z_true.png\", dpi=200, bbox_inches=\"tight\")\n"
   ]
  },
  {
   "cell_type": "code",
   "execution_count": null,
   "metadata": {},
   "outputs": [],
   "source": [
    "fig=plt.figure(figsize=(12, 8))\n",
    "plt.imshow(valid_outputs_pred[h, :, :, 2].T, interpolation='bilinear', cmap=plt.cm.gray, aspect='auto', vmin=0, vmax=1)\n",
    "plt.title(f'Predicted Diameter field for validation hologram {h}', fontsize=20)\n",
    "plt.savefig(\"./d_pred.png\", dpi=200, bbox_inches=\"tight\")\n"
   ]
  },
  {
   "cell_type": "code",
   "execution_count": null,
   "metadata": {},
   "outputs": [],
   "source": [
    "fig=plt.figure(figsize=(12, 8))\n",
    "plt.imshow(valid_outputs[h, :, :, 2].T, interpolation='bilinear', cmap=plt.cm.gray, aspect='auto', vmin=0, vmax=1)\n",
    "plt.title(f'True Diameter field for validation hologram {h}', fontsize=20)\n",
    "plt.savefig(\"./d_true.png\", dpi=200, bbox_inches=\"tight\")\n"
   ]
  },
  {
   "cell_type": "code",
   "execution_count": null,
   "metadata": {},
   "outputs": [],
   "source": [
    "valid_outputs[h, 55, 19, 2]"
   ]
  },
  {
   "cell_type": "code",
   "execution_count": null,
   "metadata": {},
   "outputs": [],
   "source": [
    "np.where(valid_outputs[h, :, :, 2])\n"
   ]
  },
  {
   "cell_type": "code",
   "execution_count": null,
   "metadata": {},
   "outputs": [],
   "source": [
    "fig=plt.figure(figsize=(12, 8))\n",
    "plt.scatter(valid_outputs[h, :, :, 2][np.where(valid_outputs[h, :, :, 2])], valid_outputs_pred[h, :, :, 2][np.where(valid_outputs[h, :, :, 2])])\n",
    "plt.title(f'Diameter field for validation hologram {h}', fontsize=20)\n",
    "plt.savefig(\"./d_scatter.png\", dpi=200, bbox_inches=\"tight\")\n"
   ]
  },
  {
   "cell_type": "code",
   "execution_count": null,
   "metadata": {},
   "outputs": [],
   "source": [
    "fig=plt.figure(figsize=(12, 8))\n",
    "plt.scatter(valid_outputs[h, :, :, 1][np.where(valid_outputs[h, :, :, 1])], valid_outputs_pred[h, :, :, 1][np.where(valid_outputs[h, :, :, 1])])\n",
    "plt.title(f'Z-coordinate field for validation hologram {h}', fontsize=20)\n",
    "plt.savefig(\"./z_scatter.png\", dpi=200, bbox_inches=\"tight\")\n"
   ]
  },
  {
   "cell_type": "code",
   "execution_count": null,
   "metadata": {},
   "outputs": [],
   "source": [
    "fig=plt.figure(figsize=(12, 8))\n",
    "plt.scatter(valid_outputs[:, :, :, 1][np.where(valid_outputs[:, :, :, 1])], valid_outputs_pred[:, :, :, 1][np.where(valid_outputs[:, :, :, 1])])\n",
    "plt.title(f'Z-coordinate field for validation hologram {h}', fontsize=20)\n",
    "plt.savefig(\"./z_scatter_all.png\", dpi=200, bbox_inches=\"tight\")\n"
   ]
  },
  {
   "cell_type": "code",
   "execution_count": null,
   "metadata": {},
   "outputs": [],
   "source": [
    "fig=plt.figure(figsize=(12, 8))\n",
    "plt.scatter(valid_outputs[:, :, :, 2][np.where(valid_outputs[:, :, :, 2])], valid_outputs_pred[:, :, :, 2][np.where(valid_outputs[:, :, :, 2])])\n",
    "plt.title(f'Diameter field for validation hologram {h}', fontsize=20)\n",
    "plt.savefig(\"./d_scatter_all.png\", dpi=200, bbox_inches=\"tight\")\n"
   ]
  },
  {
   "cell_type": "code",
   "execution_count": null,
   "metadata": {},
   "outputs": [],
   "source": []
  }
 ],
 "metadata": {
  "kernelspec": {
   "display_name": "Python 3",
   "language": "python",
   "name": "python3"
  },
  "language_info": {
   "codemirror_mode": {
    "name": "ipython",
    "version": 3
   },
   "file_extension": ".py",
   "mimetype": "text/x-python",
   "name": "python",
   "nbconvert_exporter": "python",
   "pygments_lexer": "ipython3",
   "version": "3.6.11"
  }
 },
 "nbformat": 4,
 "nbformat_minor": 4
}
