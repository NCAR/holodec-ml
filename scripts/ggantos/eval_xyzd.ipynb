{
 "cells": [
  {
   "cell_type": "code",
   "execution_count": 1,
   "metadata": {},
   "outputs": [],
   "source": [
    "import os\n",
    "import sys\n",
    "import pickle\n",
    "import numpy as np\n",
    "import pandas as pd\n",
    "import matplotlib.pyplot as plt\n",
    "from sklearn.metrics import mean_absolute_error\n",
    "from sklearn.preprocessing import StandardScaler, MinMaxScaler, MaxAbsScaler, RobustScaler, minmax_scale\n",
    "from datetime import datetime\n",
    "\n",
    "from holodecml.data import load_scaled_datasets, load_raw_datasets, calc_z_bins"
   ]
  },
  {
   "cell_type": "code",
   "execution_count": 2,
   "metadata": {},
   "outputs": [],
   "source": [
    "path_data = \"/glade/p/cisl/aiml/ai4ess_hackathon/holodec/\"\n",
    "num_particles = 3\n",
    "output_cols = [\"hid\", \"x\", \"y\", \"z\", \"d\"]\n",
    "scaler_out = False\n",
    "subset = False\n",
    "num_z_bins = 20"
   ]
  },
  {
   "cell_type": "code",
   "execution_count": 4,
   "metadata": {},
   "outputs": [],
   "source": [
    "train_inputs,\\\n",
    "train_outputs,\\\n",
    "valid_inputs,\\\n",
    "valid_outputs = load_scaled_datasets(path_data,\n",
    "                                     num_particles,\n",
    "                                     output_cols,\n",
    "                                     scaler_out,\n",
    "                                     subset,\n",
    "                                     num_z_bins)"
   ]
  },
  {
   "cell_type": "code",
   "execution_count": 5,
   "metadata": {},
   "outputs": [
    {
     "data": {
      "text/plain": [
       "['/glade/p/cisl/aiml/ggantos/holodec/zmass_3_new/base3',\n",
       " '/glade/p/cisl/aiml/ggantos/holodec/zmass_3_new/base1',\n",
       " '/glade/p/cisl/aiml/ggantos/holodec/zmass_3_new/filters81216',\n",
       " '/glade/p/cisl/aiml/ggantos/holodec/zmass_3_new/base4',\n",
       " '/glade/p/cisl/aiml/ggantos/holodec/zmass_3_new/base2',\n",
       " '/glade/p/cisl/aiml/ggantos/holodec/zmass_3_new/dense168',\n",
       " '/glade/p/cisl/aiml/ggantos/holodec/zmass_3_new/base',\n",
       " '/glade/p/cisl/aiml/ggantos/holodec/zmass_3_new/dense3216filters81216',\n",
       " '/glade/p/cisl/aiml/ggantos/holodec/zmass_3_new/dense3216']"
      ]
     },
     "execution_count": 5,
     "metadata": {},
     "output_type": "execute_result"
    }
   ],
   "source": [
    "model_path = \"/glade/p/cisl/aiml/ggantos/holodec/zmass_3_new/\"\n",
    "models = [x[0] for x in os.walk(model_path)][1:]\n",
    "models"
   ]
  },
  {
   "cell_type": "code",
   "execution_count": 6,
   "metadata": {},
   "outputs": [],
   "source": [
    "models = [\"/glade/p/cisl/aiml/ggantos/holodec/zmass_3_new/base1\",\n",
    "          \"/glade/p/cisl/aiml/ggantos/holodec/zmass_3_new/base2\",\n",
    "          \"/glade/p/cisl/aiml/ggantos/holodec/zmass_3_new/base3\",\n",
    "          \"/glade/p/cisl/aiml/ggantos/holodec/zmass_3_new/base4\"]"
   ]
  },
  {
   "cell_type": "code",
   "execution_count": 7,
   "metadata": {},
   "outputs": [
    {
     "name": "stdout",
     "output_type": "stream",
     "text": [
      "cnn.h5\tconfig.yml  hist.pkl  train_outputs_pred.pkl  valid_outputs_pred.pkl\n"
     ]
    }
   ],
   "source": [
    "! ls /glade/p/cisl/aiml/ggantos/holodec/zmass_3_new/base3"
   ]
  },
  {
   "cell_type": "code",
   "execution_count": 8,
   "metadata": {},
   "outputs": [
    {
     "data": {
      "text/plain": [
       "{'conv2d_network': {'batch_size': 256,\n",
       "  'conv2d_activation': 'relu',\n",
       "  'decay': 0.1,\n",
       "  'dense_activation': 'elu',\n",
       "  'dense_sizes': [64, 32],\n",
       "  'epochs': 20,\n",
       "  'filters': [8, 12, 16],\n",
       "  'kernel_sizes': [5, 5, 5],\n",
       "  'loss': 'categorical_crossentropy',\n",
       "  'lr': 0.0003,\n",
       "  'optimizer': 'adam',\n",
       "  'pool_sizes': [4, 4, 4],\n",
       "  'verbose': 1},\n",
       " 'metric': 'mae',\n",
       " 'model_name': 'cnn',\n",
       " 'num_particles': 3,\n",
       " 'num_z_bins': 20,\n",
       " 'output_cols': ['x', 'y', 'z', 'd', 'hid'],\n",
       " 'path_data': '/glade/p/cisl/aiml/ai4ess_hackathon/holodec/',\n",
       " 'path_save': '/glade/p/cisl/aiml/ggantos/holodec/zmass_3_new/base4/',\n",
       " 'random_seed': 328942,\n",
       " 'scaler_out': 'MinMaxScaler',\n",
       " 'subset': False}"
      ]
     },
     "execution_count": 8,
     "metadata": {},
     "output_type": "execute_result"
    }
   ],
   "source": [
    "import yaml\n",
    "config_file = \"/glade/p/cisl/aiml/ggantos/holodec/zmass_3_new/base4/config.yml\"\n",
    "config = yaml.load(open(config_file), Loader=yaml.FullLoader)\n",
    "config"
   ]
  },
  {
   "cell_type": "code",
   "execution_count": 9,
   "metadata": {},
   "outputs": [],
   "source": [
    "valid_outputs_pred_base1 = pickle.load(open(\"/glade/p/cisl/aiml/ggantos/holodec/zmass_3_new/base1/valid_outputs_pred.pkl\", \"rb\"))\n",
    "valid_outputs_pred_base2 = pickle.load(open(\"/glade/p/cisl/aiml/ggantos/holodec/zmass_3_new/base2/valid_outputs_pred.pkl\", \"rb\"))\n",
    "valid_outputs_pred_base3 = pickle.load(open(\"/glade/p/cisl/aiml/ggantos/holodec/zmass_3_new/base3/valid_outputs_pred.pkl\", \"rb\"))\n",
    "valid_outputs_pred_base4 = pickle.load(open(\"/glade/p/cisl/aiml/ggantos/holodec/zmass_3_new/base4/valid_outputs_pred.pkl\", \"rb\"))\n"
   ]
  },
  {
   "cell_type": "code",
   "execution_count": 10,
   "metadata": {},
   "outputs": [],
   "source": [
    "train_inputs_raw, train_outputs_raw = load_raw_datasets(path_data, num_particles, \"train\", subset, output_cols)\n",
    "valid_inputs_raw, valid_outputs_raw = load_raw_datasets(path_data, num_particles, \"valid\", subset, output_cols)"
   ]
  },
  {
   "cell_type": "code",
   "execution_count": 11,
   "metadata": {},
   "outputs": [],
   "source": [
    "z_bins = calc_z_bins(train_outputs_raw, valid_outputs_raw, num_z_bins)"
   ]
  },
  {
   "cell_type": "code",
   "execution_count": 12,
   "metadata": {},
   "outputs": [
    {
     "data": {
      "text/plain": [
       "<matplotlib.legend.Legend at 0x2acceaa4e7b8>"
      ]
     },
     "execution_count": 12,
     "metadata": {},
     "output_type": "execute_result"
    },
    {
     "data": {
      "image/png": "[encoded data removed]",
      "text/plain": [
       "<Figure size 720x432 with 1 Axes>"
      ]
     },
     "metadata": {
      "needs_background": "light"
     },
     "output_type": "display_data"
    }
   ],
   "source": [
    "valid_index = 11\n",
    "bin_size = z_bins[1] - z_bins[0]\n",
    "plt.figure(figsize=(10, 6))\n",
    "plt.bar(z_bins / 1000, valid_outputs_pred_base1[valid_index], bin_size / 1000, color='red', label=\"Predicted\")\n",
    "plt.bar(z_bins / 1000, valid_outputs[valid_index], bin_size / 1000, edgecolor='blue', facecolor=\"none\", lw=3, label=\"True\")\n",
    "plt.ylim(0, 1)\n",
    "plt.xlabel(\"z-axis particle position (mm)\", fontsize=16)\n",
    "plt.ylabel(\"relative mass\", fontsize=16)\n",
    "plt.legend(loc=\"best\")\n"
   ]
  },
  {
   "cell_type": "code",
   "execution_count": 13,
   "metadata": {},
   "outputs": [
    {
     "data": {
      "text/plain": [
       "<matplotlib.legend.Legend at 0x2accead5be10>"
      ]
     },
     "execution_count": 13,
     "metadata": {},
     "output_type": "execute_result"
    },
    {
     "data": {
      "image/png": "[encoded data removed]",
      "text/plain": [
       "<Figure size 720x432 with 1 Axes>"
      ]
     },
     "metadata": {
      "needs_background": "light"
     },
     "output_type": "display_data"
    }
   ],
   "source": [
    "valid_index = 11\n",
    "bin_size = z_bins[1] - z_bins[0]\n",
    "plt.figure(figsize=(10, 6))\n",
    "plt.bar(z_bins / 1000, valid_outputs_pred_base2[valid_index], bin_size / 1000, color='red', label=\"Predicted\")\n",
    "plt.bar(z_bins / 1000, valid_outputs[valid_index], bin_size / 1000, edgecolor='blue', facecolor=\"none\", lw=3, label=\"True\")\n",
    "plt.ylim(0, 1)\n",
    "plt.xlabel(\"z-axis particle position (mm)\", fontsize=16)\n",
    "plt.ylabel(\"relative mass\", fontsize=16)\n",
    "plt.legend(loc=\"best\")\n"
   ]
  },
  {
   "cell_type": "code",
   "execution_count": 14,
   "metadata": {},
   "outputs": [
    {
     "data": {
      "text/plain": [
       "<matplotlib.legend.Legend at 0x2acceae34160>"
      ]
     },
     "execution_count": 14,
     "metadata": {},
     "output_type": "execute_result"
    },
    {
     "data": {
      "image/png": "[encoded data removed]",
      "text/plain": [
       "<Figure size 720x432 with 1 Axes>"
      ]
     },
     "metadata": {
      "needs_background": "light"
     },
     "output_type": "display_data"
    }
   ],
   "source": [
    "valid_index = 11\n",
    "bin_size = z_bins[1] - z_bins[0]\n",
    "plt.figure(figsize=(10, 6))\n",
    "plt.bar(z_bins / 1000, valid_outputs_pred_base3[valid_index], bin_size / 1000, color='red', label=\"Predicted\")\n",
    "plt.bar(z_bins / 1000, valid_outputs[valid_index], bin_size / 1000, edgecolor='blue', facecolor=\"none\", lw=3, label=\"True\")\n",
    "plt.ylim(0, 1)\n",
    "plt.xlabel(\"z-axis particle position (mm)\", fontsize=16)\n",
    "plt.ylabel(\"relative mass\", fontsize=16)\n",
    "plt.legend(loc=\"best\")\n"
   ]
  },
  {
   "cell_type": "code",
   "execution_count": 15,
   "metadata": {},
   "outputs": [
    {
     "data": {
      "text/plain": [
       "<matplotlib.legend.Legend at 0x2acceaf0a160>"
      ]
     },
     "execution_count": 15,
     "metadata": {},
     "output_type": "execute_result"
    },
    {
     "data": {
      "image/png": "[encoded data removed]",
      "text/plain": [
       "<Figure size 720x432 with 1 Axes>"
      ]
     },
     "metadata": {
      "needs_background": "light"
     },
     "output_type": "display_data"
    }
   ],
   "source": [
    "valid_index = 11\n",
    "bin_size = z_bins[1] - z_bins[0]\n",
    "plt.figure(figsize=(10, 6))\n",
    "plt.bar(z_bins / 1000, valid_outputs_pred_base4[valid_index], bin_size / 1000, color='red', label=\"Predicted\")\n",
    "plt.bar(z_bins / 1000, valid_outputs[valid_index], bin_size / 1000, edgecolor='blue', facecolor=\"none\", lw=3, label=\"True\")\n",
    "plt.ylim(0, 1)\n",
    "plt.xlabel(\"z-axis particle position (mm)\", fontsize=16)\n",
    "plt.ylabel(\"relative mass\", fontsize=16)\n",
    "plt.legend(loc=\"best\")\n"
   ]
  },
  {
   "cell_type": "code",
   "execution_count": 16,
   "metadata": {},
   "outputs": [
    {
     "data": {
      "text/plain": [
       "Text(0, 0.5, 'Mean Relative Mass')"
      ]
     },
     "execution_count": 16,
     "metadata": {},
     "output_type": "execute_result"
    },
    {
     "data": {
      "image/png": "[encoded data removed]",
      "text/plain": [
       "<Figure size 432x288 with 1 Axes>"
      ]
     },
     "metadata": {
      "needs_background": "light"
     },
     "output_type": "display_data"
    }
   ],
   "source": [
    "plt.bar(z_bins / 1000, valid_outputs_pred_base1.mean(axis=0), (z_bins[1] - z_bins[0]) / 1000, color='red')\n",
    "plt.bar(z_bins / 1000, valid_outputs.mean(axis=0), (z_bins[1]-z_bins[0]) / 1000, edgecolor='blue', facecolor=\"none\", lw=3)\n",
    "plt.xlabel(\"z location (mm)\", fontsize=16)\n",
    "plt.ylabel(\"Mean Relative Mass\", fontsize=16)"
   ]
  },
  {
   "cell_type": "code",
   "execution_count": 17,
   "metadata": {},
   "outputs": [
    {
     "data": {
      "text/plain": [
       "Text(0, 0.5, 'Mean Relative Mass')"
      ]
     },
     "execution_count": 17,
     "metadata": {},
     "output_type": "execute_result"
    },
    {
     "data": {
      "image/png": "[encoded data removed]",
      "text/plain": [
       "<Figure size 432x288 with 1 Axes>"
      ]
     },
     "metadata": {
      "needs_background": "light"
     },
     "output_type": "display_data"
    }
   ],
   "source": [
    "plt.bar(z_bins / 1000, valid_outputs_pred_base2.mean(axis=0), (z_bins[1] - z_bins[0]) / 1000, color='red')\n",
    "plt.bar(z_bins / 1000, valid_outputs.mean(axis=0), (z_bins[1]-z_bins[0]) / 1000, edgecolor='blue', facecolor=\"none\", lw=3)\n",
    "plt.xlabel(\"z location (mm)\", fontsize=16)\n",
    "plt.ylabel(\"Mean Relative Mass\", fontsize=16)"
   ]
  },
  {
   "cell_type": "code",
   "execution_count": 18,
   "metadata": {},
   "outputs": [
    {
     "data": {
      "text/plain": [
       "Text(0, 0.5, 'Mean Relative Mass')"
      ]
     },
     "execution_count": 18,
     "metadata": {},
     "output_type": "execute_result"
    },
    {
     "data": {
      "image/png": "[encoded data removed]",
      "text/plain": [
       "<Figure size 432x288 with 1 Axes>"
      ]
     },
     "metadata": {
      "needs_background": "light"
     },
     "output_type": "display_data"
    }
   ],
   "source": [
    "plt.bar(z_bins / 1000, valid_outputs_pred_base3.mean(axis=0), (z_bins[1] - z_bins[0]) / 1000, color='red')\n",
    "plt.bar(z_bins / 1000, valid_outputs.mean(axis=0), (z_bins[1]-z_bins[0]) / 1000, edgecolor='blue', facecolor=\"none\", lw=3)\n",
    "plt.xlabel(\"z location (mm)\", fontsize=16)\n",
    "plt.ylabel(\"Mean Relative Mass\", fontsize=16)"
   ]
  },
  {
   "cell_type": "code",
   "execution_count": 19,
   "metadata": {},
   "outputs": [
    {
     "data": {
      "text/plain": [
       "Text(0, 0.5, 'Mean Relative Mass')"
      ]
     },
     "execution_count": 19,
     "metadata": {},
     "output_type": "execute_result"
    },
    {
     "data": {
      "image/png": "[encoded data removed]",
      "text/plain": [
       "<Figure size 432x288 with 1 Axes>"
      ]
     },
     "metadata": {
      "needs_background": "light"
     },
     "output_type": "display_data"
    }
   ],
   "source": [
    "plt.bar(z_bins / 1000, valid_outputs_pred_base4.mean(axis=0), (z_bins[1] - z_bins[0]) / 1000, color='red')\n",
    "plt.bar(z_bins / 1000, valid_outputs.mean(axis=0), (z_bins[1]-z_bins[0]) / 1000, edgecolor='blue', facecolor=\"none\", lw=3)\n",
    "plt.xlabel(\"z location (mm)\", fontsize=16)\n",
    "plt.ylabel(\"Mean Relative Mass\", fontsize=16)"
   ]
  },
  {
   "cell_type": "code",
   "execution_count": 20,
   "metadata": {},
   "outputs": [],
   "source": [
    "def ranked_probability_score(y_true, y_pred):\n",
    "    return np.mean((np.cumsum(y_true, axis=1) - np.cumsum(y_pred, axis=1)) ** 2) / (y_true.shape[1] -1)"
   ]
  },
  {
   "cell_type": "code",
   "execution_count": 21,
   "metadata": {},
   "outputs": [
    {
     "name": "stdout",
     "output_type": "stream",
     "text": [
      "0.0012822739387813367 0.004072869221491917\n",
      "RPSS: 0.685\n"
     ]
    }
   ],
   "source": [
    "rps_nn = ranked_probability_score(valid_outputs, valid_outputs_pred_base1)\n",
    "rps_climo = ranked_probability_score(valid_outputs, np.ones(valid_outputs_pred_base1.shape) / valid_outputs_pred_base1.shape[1])\n",
    "print(rps_nn, rps_climo)\n",
    "rpss = 1 - rps_nn / rps_climo\n",
    "print(f\"RPSS: {rpss:0.3f}\")"
   ]
  },
  {
   "cell_type": "code",
   "execution_count": 22,
   "metadata": {},
   "outputs": [
    {
     "name": "stdout",
     "output_type": "stream",
     "text": [
      "0.0012952257928095367 0.004072869221491917\n",
      "RPSS: 0.682\n"
     ]
    }
   ],
   "source": [
    "rps_nn = ranked_probability_score(valid_outputs, valid_outputs_pred_base2)\n",
    "rps_climo = ranked_probability_score(valid_outputs, np.ones(valid_outputs_pred_base2.shape) / valid_outputs_pred_base2.shape[1])\n",
    "print(rps_nn, rps_climo)\n",
    "rpss = 1 - rps_nn / rps_climo\n",
    "print(f\"RPSS: {rpss:0.3f}\")\n"
   ]
  },
  {
   "cell_type": "code",
   "execution_count": 23,
   "metadata": {},
   "outputs": [
    {
     "name": "stdout",
     "output_type": "stream",
     "text": [
      "0.001420088798591965 0.004072869221491917\n",
      "RPSS: 0.651\n"
     ]
    }
   ],
   "source": [
    "rps_nn = ranked_probability_score(valid_outputs, valid_outputs_pred_base3)\n",
    "rps_climo = ranked_probability_score(valid_outputs, np.ones(valid_outputs_pred_base3.shape) / valid_outputs_pred_base3.shape[1])\n",
    "print(rps_nn, rps_climo)\n",
    "rpss = 1 - rps_nn / rps_climo\n",
    "print(f\"RPSS: {rpss:0.3f}\")"
   ]
  },
  {
   "cell_type": "code",
   "execution_count": 24,
   "metadata": {},
   "outputs": [
    {
     "name": "stdout",
     "output_type": "stream",
     "text": [
      "0.00403377060827456 0.004072869221491917\n",
      "RPSS: 0.010\n"
     ]
    }
   ],
   "source": [
    "rps_nn = ranked_probability_score(valid_outputs, valid_outputs_pred_base4)\n",
    "rps_climo = ranked_probability_score(valid_outputs, np.ones(valid_outputs_pred_base4.shape) / valid_outputs_pred_base4.shape[1])\n",
    "print(rps_nn, rps_climo)\n",
    "rpss = 1 - rps_nn / rps_climo\n",
    "print(f\"RPSS: {rpss:0.3f}\")"
   ]
  },
  {
   "cell_type": "code",
   "execution_count": 25,
   "metadata": {},
   "outputs": [],
   "source": [
    "ytrue = np.array([[.2, 0, .3, .5, 0],\n",
    "                  [0, .1, .6, 0, .3],\n",
    "                  [.1, .2, .7, 0, 0]])\n",
    "ypred_perf = np.array([[.2, 0, .3, .5, 0],\n",
    "                       [0, .1, .6, 0, .3],\n",
    "                       [.1, .2, .7, 0, 0]])\n",
    "ypred_close = np.array([[.3, 0, .4, .3, 0],\n",
    "                        [0, .2, .4, 0, .4],\n",
    "                        [.3, .1, .6, 0, 0]])\n",
    "ypred_far = np.array([[0, .1, .5, 0, .4],\n",
    "                      [.1, 0, .4, .5, 0],\n",
    "                      [.4, 0, 0, .3, .3]])"
   ]
  },
  {
   "cell_type": "code",
   "execution_count": 26,
   "metadata": {},
   "outputs": [
    {
     "name": "stdout",
     "output_type": "stream",
     "text": [
      "RPS_nn:0.000\n",
      "RPS_climo:0.008\n",
      "RPSS: 1.000\n"
     ]
    }
   ],
   "source": [
    "rps_nn = ranked_probability_score(ytrue, ypred_perf)\n",
    "rps_climo = ranked_probability_score(ytrue, np.ones(ypred_perf.shape) / ypred_perf.shape[1])\n",
    "print(f\"RPS_nn:{rps_nn:0.3f}\")\n",
    "print(f\"RPS_climo:{rps_climo:0.3f}\")\n",
    "rpss = 1 - rps_nn / rps_climo\n",
    "print(f\"RPSS: {rpss:0.3f}\")"
   ]
  },
  {
   "cell_type": "code",
   "execution_count": 27,
   "metadata": {},
   "outputs": [
    {
     "name": "stdout",
     "output_type": "stream",
     "text": [
      "RPS_nn:0.002\n",
      "RPS_climo:0.008\n",
      "RPSS: 0.696\n"
     ]
    }
   ],
   "source": [
    "rps_nn = ranked_probability_score(ytrue, ypred_close)\n",
    "rps_climo = ranked_probability_score(ytrue, np.ones(ypred_close.shape) / ypred_close.shape[1])\n",
    "print(f\"RPS_nn:{rps_nn:0.3f}\")\n",
    "print(f\"RPS_climo:{rps_climo:0.3f}\")\n",
    "rpss = 1 - rps_nn / rps_climo\n",
    "print(f\"RPSS: {rpss:0.3f}\")"
   ]
  },
  {
   "cell_type": "code",
   "execution_count": 28,
   "metadata": {},
   "outputs": [
    {
     "name": "stdout",
     "output_type": "stream",
     "text": [
      "RPS_nn:0.015\n",
      "RPS_climo:0.008\n",
      "RPSS: -0.978\n"
     ]
    }
   ],
   "source": [
    "rps_nn = ranked_probability_score(ytrue, ypred_far)\n",
    "rps_climo = ranked_probability_score(ytrue, np.ones(ypred_far.shape) / ypred_far.shape[1])\n",
    "print(f\"RPS_nn:{rps_nn:0.3f}\")\n",
    "print(f\"RPS_climo:{rps_climo:0.3f}\")\n",
    "rpss = 1 - rps_nn / rps_climo\n",
    "print(f\"RPSS: {rpss:0.3f}\")"
   ]
  },
  {
   "cell_type": "code",
   "execution_count": null,
   "metadata": {},
   "outputs": [],
   "source": []
  }
 ],
 "metadata": {
  "kernelspec": {
   "display_name": "Python 3",
   "language": "python",
   "name": "python3"
  },
  "language_info": {
   "codemirror_mode": {
    "name": "ipython",
    "version": 3
   },
   "file_extension": ".py",
   "mimetype": "text/x-python",
   "name": "python",
   "nbconvert_exporter": "python",
   "pygments_lexer": "ipython3",
   "version": "3.6.8"
  }
 },
 "nbformat": 4,
 "nbformat_minor": 4
}
