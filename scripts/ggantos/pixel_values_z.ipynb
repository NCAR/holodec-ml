{
 "cells": [
  {
   "cell_type": "code",
   "execution_count": 1,
   "id": "black-explanation",
   "metadata": {},
   "outputs": [],
   "source": [
    "import numpy as np\n",
    "from sklearn.preprocessing import MinMaxScaler\n",
    "from sklearn.metrics import r2_score\n",
    "import matplotlib.pyplot as plt\n",
    "\n",
    "from holodecml.data import load_raw_datasets, get_linspace\n"
   ]
  },
  {
   "cell_type": "code",
   "execution_count": 2,
   "id": "eligible-satisfaction",
   "metadata": {},
   "outputs": [],
   "source": [
    "path_data = \"/glade/p/cisl/aiml/ai4ess_hackathon/holodec/\"\n",
    "num_particles = \"medium\"\n",
    "output_cols = [\"x\", \"y\", \"z\", \"d\", \"hid\"]\n",
    "subset = False\n",
    "scaler_out = MinMaxScaler()\n"
   ]
  },
  {
   "cell_type": "code",
   "execution_count": 3,
   "id": "scientific-dairy",
   "metadata": {},
   "outputs": [],
   "source": [
    "train_inputs,\\\n",
    "train_outputs = load_raw_datasets(path_data, num_particles, 'train',\n",
    "                                  output_cols, subset)\n",
    "# valid_inputs,\\\n",
    "# valid_outputs = load_raw_datasets(path_data, num_particles, 'valid',\n",
    "#                                   output_cols, subset)"
   ]
  },
  {
   "cell_type": "code",
   "execution_count": 4,
   "id": "known-priest",
   "metadata": {},
   "outputs": [
    {
     "data": {
      "text/plain": [
       "particle\n",
       "0           18706.232422\n",
       "1          124515.554688\n",
       "2           42935.140625\n",
       "3          107522.531250\n",
       "4           46511.492188\n",
       "               ...      \n",
       "1478993    101693.742188\n",
       "1478994     56084.054688\n",
       "1478995     32169.593750\n",
       "1478996     23816.279297\n",
       "1478997     89869.617188\n",
       "Name: z, Length: 1478998, dtype: float32"
      ]
     },
     "execution_count": 4,
     "metadata": {},
     "output_type": "execute_result"
    }
   ],
   "source": [
    "train_outputs[\"z\"]"
   ]
  },
  {
   "cell_type": "code",
   "execution_count": 5,
   "id": "rising-latest",
   "metadata": {},
   "outputs": [],
   "source": [
    "x_linspace, y_linspace = get_linspace(train_inputs[0].shape)\n",
    "train_outputs[\"x_bin\"] = np.digitize(train_outputs['x'], x_linspace)\n",
    "train_outputs[\"y_bin\"] = np.digitize(train_outputs['y'], y_linspace)"
   ]
  },
  {
   "cell_type": "code",
   "execution_count": 6,
   "id": "virtual-conviction",
   "metadata": {},
   "outputs": [
    {
     "data": {
      "text/plain": [
       "particle\n",
       "0          494\n",
       "1           75\n",
       "2          331\n",
       "3          477\n",
       "4          583\n",
       "          ... \n",
       "1478993    415\n",
       "1478994     16\n",
       "1478995    409\n",
       "1478996    306\n",
       "1478997     38\n",
       "Name: x_bin, Length: 1478998, dtype: int64"
      ]
     },
     "execution_count": 6,
     "metadata": {},
     "output_type": "execute_result"
    }
   ],
   "source": [
    "train_outputs[\"x_bin\"]"
   ]
  },
  {
   "cell_type": "code",
   "execution_count": 7,
   "id": "tender-china",
   "metadata": {},
   "outputs": [],
   "source": [
    "for hid in train_outputs[\"hid\"].unique().astype(int):\n",
    "    outputs_hid = train_outputs.loc[train_outputs['hid'] == hid]\n",
    "    hologram = train_inputs[hid-1]\n",
    "    z_pixel_value = hologram[outputs_hid[\"x_bin\"], outputs_hid[\"y_bin\"]]\n",
    "    train_outputs.loc[train_outputs['hid'] == hid, \"z_pixel_value\"] = z_pixel_value\n"
   ]
  },
  {
   "cell_type": "code",
   "execution_count": 8,
   "id": "welsh-color",
   "metadata": {},
   "outputs": [
    {
     "data": {
      "text/html": [
       "<div>\n",
       "<style scoped>\n",
       "    .dataframe tbody tr th:only-of-type {\n",
       "        vertical-align: middle;\n",
       "    }\n",
       "\n",
       "    .dataframe tbody tr th {\n",
       "        vertical-align: top;\n",
       "    }\n",
       "\n",
       "    .dataframe thead th {\n",
       "        text-align: right;\n",
       "    }\n",
       "</style>\n",
       "<table border=\"1\" class=\"dataframe\">\n",
       "  <thead>\n",
       "    <tr style=\"text-align: right;\">\n",
       "      <th></th>\n",
       "      <th>x</th>\n",
       "      <th>y</th>\n",
       "      <th>z</th>\n",
       "      <th>d</th>\n",
       "      <th>hid</th>\n",
       "      <th>x_bin</th>\n",
       "      <th>y_bin</th>\n",
       "      <th>z_pixel_value</th>\n",
       "    </tr>\n",
       "    <tr>\n",
       "      <th>particle</th>\n",
       "      <th></th>\n",
       "      <th></th>\n",
       "      <th></th>\n",
       "      <th></th>\n",
       "      <th></th>\n",
       "      <th></th>\n",
       "      <th></th>\n",
       "      <th></th>\n",
       "    </tr>\n",
       "  </thead>\n",
       "  <tbody>\n",
       "    <tr>\n",
       "      <th>0</th>\n",
       "      <td>574.064636</td>\n",
       "      <td>-406.768372</td>\n",
       "      <td>18706.232422</td>\n",
       "      <td>18.144970</td>\n",
       "      <td>1.0</td>\n",
       "      <td>494</td>\n",
       "      <td>63</td>\n",
       "      <td>104.0</td>\n",
       "    </tr>\n",
       "    <tr>\n",
       "      <th>1</th>\n",
       "      <td>-668.388184</td>\n",
       "      <td>466.142151</td>\n",
       "      <td>124515.554688</td>\n",
       "      <td>19.381775</td>\n",
       "      <td>1.0</td>\n",
       "      <td>75</td>\n",
       "      <td>357</td>\n",
       "      <td>127.0</td>\n",
       "    </tr>\n",
       "    <tr>\n",
       "      <th>2</th>\n",
       "      <td>92.994080</td>\n",
       "      <td>128.131302</td>\n",
       "      <td>42935.140625</td>\n",
       "      <td>29.533314</td>\n",
       "      <td>1.0</td>\n",
       "      <td>331</td>\n",
       "      <td>243</td>\n",
       "      <td>113.0</td>\n",
       "    </tr>\n",
       "    <tr>\n",
       "      <th>3</th>\n",
       "      <td>526.069153</td>\n",
       "      <td>-224.790375</td>\n",
       "      <td>107522.531250</td>\n",
       "      <td>44.516953</td>\n",
       "      <td>1.0</td>\n",
       "      <td>477</td>\n",
       "      <td>124</td>\n",
       "      <td>133.0</td>\n",
       "    </tr>\n",
       "    <tr>\n",
       "      <th>4</th>\n",
       "      <td>839.312927</td>\n",
       "      <td>-63.917049</td>\n",
       "      <td>46511.492188</td>\n",
       "      <td>50.600452</td>\n",
       "      <td>1.0</td>\n",
       "      <td>583</td>\n",
       "      <td>178</td>\n",
       "      <td>144.0</td>\n",
       "    </tr>\n",
       "    <tr>\n",
       "      <th>...</th>\n",
       "      <td>...</td>\n",
       "      <td>...</td>\n",
       "      <td>...</td>\n",
       "      <td>...</td>\n",
       "      <td>...</td>\n",
       "      <td>...</td>\n",
       "      <td>...</td>\n",
       "      <td>...</td>\n",
       "    </tr>\n",
       "    <tr>\n",
       "      <th>1478993</th>\n",
       "      <td>341.269043</td>\n",
       "      <td>55.084465</td>\n",
       "      <td>101693.742188</td>\n",
       "      <td>47.653740</td>\n",
       "      <td>80000.0</td>\n",
       "      <td>415</td>\n",
       "      <td>219</td>\n",
       "      <td>126.0</td>\n",
       "    </tr>\n",
       "    <tr>\n",
       "      <th>1478994</th>\n",
       "      <td>-841.722046</td>\n",
       "      <td>-241.848877</td>\n",
       "      <td>56084.054688</td>\n",
       "      <td>24.521036</td>\n",
       "      <td>80000.0</td>\n",
       "      <td>16</td>\n",
       "      <td>118</td>\n",
       "      <td>120.0</td>\n",
       "    </tr>\n",
       "    <tr>\n",
       "      <th>1478995</th>\n",
       "      <td>322.008453</td>\n",
       "      <td>-338.126190</td>\n",
       "      <td>32169.593750</td>\n",
       "      <td>45.862312</td>\n",
       "      <td>80000.0</td>\n",
       "      <td>409</td>\n",
       "      <td>86</td>\n",
       "      <td>125.0</td>\n",
       "    </tr>\n",
       "    <tr>\n",
       "      <th>1478996</th>\n",
       "      <td>16.823271</td>\n",
       "      <td>228.060272</td>\n",
       "      <td>23816.279297</td>\n",
       "      <td>34.388065</td>\n",
       "      <td>80000.0</td>\n",
       "      <td>306</td>\n",
       "      <td>277</td>\n",
       "      <td>140.0</td>\n",
       "    </tr>\n",
       "    <tr>\n",
       "      <th>1478997</th>\n",
       "      <td>-775.552429</td>\n",
       "      <td>364.451324</td>\n",
       "      <td>89869.617188</td>\n",
       "      <td>15.773337</td>\n",
       "      <td>80000.0</td>\n",
       "      <td>38</td>\n",
       "      <td>323</td>\n",
       "      <td>121.0</td>\n",
       "    </tr>\n",
       "  </tbody>\n",
       "</table>\n",
       "<p>1478998 rows × 8 columns</p>\n",
       "</div>"
      ],
      "text/plain": [
       "                   x           y              z          d      hid  x_bin  \\\n",
       "particle                                                                     \n",
       "0         574.064636 -406.768372   18706.232422  18.144970      1.0    494   \n",
       "1        -668.388184  466.142151  124515.554688  19.381775      1.0     75   \n",
       "2          92.994080  128.131302   42935.140625  29.533314      1.0    331   \n",
       "3         526.069153 -224.790375  107522.531250  44.516953      1.0    477   \n",
       "4         839.312927  -63.917049   46511.492188  50.600452      1.0    583   \n",
       "...              ...         ...            ...        ...      ...    ...   \n",
       "1478993   341.269043   55.084465  101693.742188  47.653740  80000.0    415   \n",
       "1478994  -841.722046 -241.848877   56084.054688  24.521036  80000.0     16   \n",
       "1478995   322.008453 -338.126190   32169.593750  45.862312  80000.0    409   \n",
       "1478996    16.823271  228.060272   23816.279297  34.388065  80000.0    306   \n",
       "1478997  -775.552429  364.451324   89869.617188  15.773337  80000.0     38   \n",
       "\n",
       "          y_bin  z_pixel_value  \n",
       "particle                        \n",
       "0            63          104.0  \n",
       "1           357          127.0  \n",
       "2           243          113.0  \n",
       "3           124          133.0  \n",
       "4           178          144.0  \n",
       "...         ...            ...  \n",
       "1478993     219          126.0  \n",
       "1478994     118          120.0  \n",
       "1478995      86          125.0  \n",
       "1478996     277          140.0  \n",
       "1478997     323          121.0  \n",
       "\n",
       "[1478998 rows x 8 columns]"
      ]
     },
     "execution_count": 8,
     "metadata": {},
     "output_type": "execute_result"
    }
   ],
   "source": [
    "train_outputs"
   ]
  },
  {
   "cell_type": "code",
   "execution_count": 9,
   "id": "superior-interference",
   "metadata": {},
   "outputs": [
    {
     "data": {
      "image/png": "[encoded data removed]",
      "text/plain": [
       "<Figure size 432x288 with 1 Axes>"
      ]
     },
     "metadata": {
      "needs_background": "light"
     },
     "output_type": "display_data"
    },
    {
     "name": "stdout",
     "output_type": "stream",
     "text": [
      "-4.269539303808938\n"
     ]
    }
   ],
   "source": [
    "plt.scatter(train_outputs[\"z\"], train_outputs[\"z_pixel_value\"])\n",
    "print(r2_score(train_outputs[\"z\"], train_outputs[\"z_pixel_value\"]))\n",
    "plt.show()\n"
   ]
  },
  {
   "cell_type": "code",
   "execution_count": null,
   "id": "immediate-singles",
   "metadata": {},
   "outputs": [],
   "source": []
  }
 ],
 "metadata": {
  "kernelspec": {
   "display_name": "Python 3",
   "language": "python",
   "name": "python3"
  },
  "language_info": {
   "codemirror_mode": {
    "name": "ipython",
    "version": 3
   },
   "file_extension": ".py",
   "mimetype": "text/x-python",
   "name": "python",
   "nbconvert_exporter": "python",
   "pygments_lexer": "ipython3",
   "version": "3.6.11"
  }
 },
 "nbformat": 4,
 "nbformat_minor": 5
}
