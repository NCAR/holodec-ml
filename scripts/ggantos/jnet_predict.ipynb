{
 "cells": [
  {
   "cell_type": "code",
   "execution_count": 12,
   "id": "favorite-james",
   "metadata": {},
   "outputs": [],
   "source": [
    "import xarray as xr\n",
    "import numpy as np\n",
    "import tensorflow as tf\n",
    "\n",
    "from sklearn.preprocessing import MinMaxScaler\n",
    "from os.path import join\n",
    "\n",
    "from holodecml.data import load_unet_datasets_xy_1to25, load_train_patches_1to25\n",
    "from holodecml.losses import unet_loss_xy\n"
   ]
  },
  {
   "cell_type": "code",
   "execution_count": 2,
   "id": "molecular-proxy",
   "metadata": {},
   "outputs": [],
   "source": [
    "path_data = \"/glade/p/cisl/aiml/ai4ess_hackathon/holodec/\"\n",
    "num_particles = [1,2,3,4,5,6,7,8,9,10,\"12-25\"]\n",
    "output_cols = [\"x\", \"y\", \"z\", \"d\", \"hid\"]\n",
    "subset = [500,500,500,500,500,500,500,500,500,500,6500]\n",
    "scaler_out = MinMaxScaler()\n",
    "bin_factor = 10\n",
    "rad = 64\n",
    "input_col = \"image\"\n"
   ]
  },
  {
   "cell_type": "code",
   "execution_count": 3,
   "id": "federal-sally",
   "metadata": {},
   "outputs": [],
   "source": [
    "train_inputs,\\\n",
    "train_outputs,\\\n",
    "valid_inputs,\\\n",
    "valid_outputs = load_unet_datasets_xy_1to25(path_data,\n",
    "                                            num_particles,\n",
    "                                            output_cols,\n",
    "                                            subset,\n",
    "                                            bin_factor)\n"
   ]
  },
  {
   "cell_type": "code",
   "execution_count": 4,
   "id": "engaging-israeli",
   "metadata": {},
   "outputs": [],
   "source": [
    "model_path = \"/glade/p/cisl/aiml/ggantos/holodec/unet/jnet_10_1to25/\""
   ]
  },
  {
   "cell_type": "code",
   "execution_count": 5,
   "id": "saving-arena",
   "metadata": {},
   "outputs": [
    {
     "name": "stdout",
     "output_type": "stream",
     "text": [
      "Model: \"functional_1\"\n",
      "__________________________________________________________________________________________________\n",
      "Layer (type)                    Output Shape         Param #     Connected to                     \n",
      "==================================================================================================\n",
      "input_1 (InputLayer)            [(None, 600, 400, 1) 0                                            \n",
      "__________________________________________________________________________________________________\n",
      "conv2d (Conv2D)                 (None, 600, 400, 64) 576         input_1[0][0]                    \n",
      "__________________________________________________________________________________________________\n",
      "batch_normalization (BatchNorma (None, 600, 400, 64) 256         conv2d[0][0]                     \n",
      "__________________________________________________________________________________________________\n",
      "spatial_dropout2d (SpatialDropo (None, 600, 400, 64) 0           batch_normalization[0][0]        \n",
      "__________________________________________________________________________________________________\n",
      "conv2d_1 (Conv2D)               (None, 600, 400, 64) 36864       spatial_dropout2d[0][0]          \n",
      "__________________________________________________________________________________________________\n",
      "batch_normalization_1 (BatchNor (None, 600, 400, 64) 256         conv2d_1[0][0]                   \n",
      "__________________________________________________________________________________________________\n",
      "max_pooling2d (MaxPooling2D)    (None, 300, 200, 64) 0           batch_normalization_1[0][0]      \n",
      "__________________________________________________________________________________________________\n",
      "conv2d_2 (Conv2D)               (None, 300, 200, 128 73728       max_pooling2d[0][0]              \n",
      "__________________________________________________________________________________________________\n",
      "batch_normalization_2 (BatchNor (None, 300, 200, 128 512         conv2d_2[0][0]                   \n",
      "__________________________________________________________________________________________________\n",
      "spatial_dropout2d_1 (SpatialDro (None, 300, 200, 128 0           batch_normalization_2[0][0]      \n",
      "__________________________________________________________________________________________________\n",
      "conv2d_3 (Conv2D)               (None, 300, 200, 128 147456      spatial_dropout2d_1[0][0]        \n",
      "__________________________________________________________________________________________________\n",
      "batch_normalization_3 (BatchNor (None, 300, 200, 128 512         conv2d_3[0][0]                   \n",
      "__________________________________________________________________________________________________\n",
      "max_pooling2d_1 (MaxPooling2D)  (None, 150, 100, 128 0           batch_normalization_3[0][0]      \n",
      "__________________________________________________________________________________________________\n",
      "conv2d_4 (Conv2D)               (None, 150, 100, 256 294912      max_pooling2d_1[0][0]            \n",
      "__________________________________________________________________________________________________\n",
      "batch_normalization_4 (BatchNor (None, 150, 100, 256 1024        conv2d_4[0][0]                   \n",
      "__________________________________________________________________________________________________\n",
      "spatial_dropout2d_2 (SpatialDro (None, 150, 100, 256 0           batch_normalization_4[0][0]      \n",
      "__________________________________________________________________________________________________\n",
      "conv2d_5 (Conv2D)               (None, 150, 100, 256 589824      spatial_dropout2d_2[0][0]        \n",
      "__________________________________________________________________________________________________\n",
      "batch_normalization_5 (BatchNor (None, 150, 100, 256 1024        conv2d_5[0][0]                   \n",
      "__________________________________________________________________________________________________\n",
      "max_pooling2d_2 (MaxPooling2D)  (None, 75, 50, 256)  0           batch_normalization_5[0][0]      \n",
      "__________________________________________________________________________________________________\n",
      "conv2d_6 (Conv2D)               (None, 75, 50, 512)  1179648     max_pooling2d_2[0][0]            \n",
      "__________________________________________________________________________________________________\n",
      "batch_normalization_6 (BatchNor (None, 75, 50, 512)  2048        conv2d_6[0][0]                   \n",
      "__________________________________________________________________________________________________\n",
      "spatial_dropout2d_3 (SpatialDro (None, 75, 50, 512)  0           batch_normalization_6[0][0]      \n",
      "__________________________________________________________________________________________________\n",
      "conv2d_7 (Conv2D)               (None, 75, 50, 512)  2359296     spatial_dropout2d_3[0][0]        \n",
      "__________________________________________________________________________________________________\n",
      "batch_normalization_7 (BatchNor (None, 75, 50, 512)  2048        conv2d_7[0][0]                   \n",
      "__________________________________________________________________________________________________\n",
      "max_pooling2d_3 (MaxPooling2D)  (None, 15, 10, 512)  0           batch_normalization_7[0][0]      \n",
      "__________________________________________________________________________________________________\n",
      "conv2d_8 (Conv2D)               (None, 15, 10, 1024) 4718592     max_pooling2d_3[0][0]            \n",
      "__________________________________________________________________________________________________\n",
      "batch_normalization_8 (BatchNor (None, 15, 10, 1024) 4096        conv2d_8[0][0]                   \n",
      "__________________________________________________________________________________________________\n",
      "spatial_dropout2d_4 (SpatialDro (None, 15, 10, 1024) 0           batch_normalization_8[0][0]      \n",
      "__________________________________________________________________________________________________\n",
      "conv2d_9 (Conv2D)               (None, 15, 10, 1024) 9437184     spatial_dropout2d_4[0][0]        \n",
      "__________________________________________________________________________________________________\n",
      "batch_normalization_9 (BatchNor (None, 15, 10, 1024) 4096        conv2d_9[0][0]                   \n",
      "__________________________________________________________________________________________________\n",
      "conv2d_transpose (Conv2DTranspo (None, 30, 20, 512)  2097664     batch_normalization_9[0][0]      \n",
      "__________________________________________________________________________________________________\n",
      "max_pooling2d_4 (MaxPooling2D)  (None, 30, 20, 128)  0           batch_normalization_3[0][0]      \n",
      "__________________________________________________________________________________________________\n",
      "conv2d_10 (Conv2D)              (None, 30, 20, 512)  66048       max_pooling2d_4[0][0]            \n",
      "__________________________________________________________________________________________________\n",
      "conv2d_11 (Conv2D)              (None, 30, 20, 512)  262656      conv2d_transpose[0][0]           \n",
      "__________________________________________________________________________________________________\n",
      "add (Add)                       (None, 30, 20, 512)  0           conv2d_10[0][0]                  \n",
      "                                                                 conv2d_11[0][0]                  \n",
      "__________________________________________________________________________________________________\n",
      "activation (Activation)         (None, 30, 20, 512)  0           add[0][0]                        \n",
      "__________________________________________________________________________________________________\n",
      "conv2d_12 (Conv2D)              (None, 30, 20, 1)    513         activation[0][0]                 \n",
      "__________________________________________________________________________________________________\n",
      "activation_1 (Activation)       (None, 30, 20, 1)    0           conv2d_12[0][0]                  \n",
      "__________________________________________________________________________________________________\n",
      "multiply (Multiply)             (None, 30, 20, 128)  0           max_pooling2d_4[0][0]            \n",
      "                                                                 activation_1[0][0]               \n",
      "__________________________________________________________________________________________________\n",
      "concatenate (Concatenate)       (None, 30, 20, 640)  0           conv2d_transpose[0][0]           \n",
      "                                                                 multiply[0][0]                   \n",
      "__________________________________________________________________________________________________\n",
      "conv2d_13 (Conv2D)              (None, 30, 20, 512)  2949120     concatenate[0][0]                \n",
      "__________________________________________________________________________________________________\n",
      "batch_normalization_10 (BatchNo (None, 30, 20, 512)  2048        conv2d_13[0][0]                  \n",
      "__________________________________________________________________________________________________\n",
      "conv2d_14 (Conv2D)              (None, 30, 20, 512)  2359296     batch_normalization_10[0][0]     \n",
      "__________________________________________________________________________________________________\n",
      "batch_normalization_11 (BatchNo (None, 30, 20, 512)  2048        conv2d_14[0][0]                  \n",
      "__________________________________________________________________________________________________\n",
      "conv2d_transpose_1 (Conv2DTrans (None, 60, 40, 256)  524544      batch_normalization_11[0][0]     \n",
      "__________________________________________________________________________________________________\n",
      "max_pooling2d_5 (MaxPooling2D)  (None, 60, 40, 64)   0           batch_normalization_1[0][0]      \n",
      "__________________________________________________________________________________________________\n",
      "conv2d_15 (Conv2D)              (None, 60, 40, 256)  16640       max_pooling2d_5[0][0]            \n",
      "__________________________________________________________________________________________________\n",
      "conv2d_16 (Conv2D)              (None, 60, 40, 256)  65792       conv2d_transpose_1[0][0]         \n",
      "__________________________________________________________________________________________________\n",
      "add_1 (Add)                     (None, 60, 40, 256)  0           conv2d_15[0][0]                  \n",
      "                                                                 conv2d_16[0][0]                  \n",
      "__________________________________________________________________________________________________\n",
      "activation_2 (Activation)       (None, 60, 40, 256)  0           add_1[0][0]                      \n",
      "__________________________________________________________________________________________________\n",
      "conv2d_17 (Conv2D)              (None, 60, 40, 1)    257         activation_2[0][0]               \n",
      "__________________________________________________________________________________________________\n",
      "activation_3 (Activation)       (None, 60, 40, 1)    0           conv2d_17[0][0]                  \n",
      "__________________________________________________________________________________________________\n",
      "multiply_1 (Multiply)           (None, 60, 40, 64)   0           max_pooling2d_5[0][0]            \n",
      "                                                                 activation_3[0][0]               \n",
      "__________________________________________________________________________________________________\n",
      "concatenate_1 (Concatenate)     (None, 60, 40, 320)  0           conv2d_transpose_1[0][0]         \n",
      "                                                                 multiply_1[0][0]                 \n",
      "__________________________________________________________________________________________________\n",
      "conv2d_18 (Conv2D)              (None, 60, 40, 256)  737280      concatenate_1[0][0]              \n",
      "__________________________________________________________________________________________________\n",
      "batch_normalization_12 (BatchNo (None, 60, 40, 256)  1024        conv2d_18[0][0]                  \n",
      "__________________________________________________________________________________________________\n",
      "conv2d_19 (Conv2D)              (None, 60, 40, 256)  589824      batch_normalization_12[0][0]     \n",
      "__________________________________________________________________________________________________\n",
      "batch_normalization_13 (BatchNo (None, 60, 40, 256)  1024        conv2d_19[0][0]                  \n",
      "__________________________________________________________________________________________________\n",
      "conv2d_20 (Conv2D)              (None, 60, 40, 1)    257         batch_normalization_13[0][0]     \n",
      "==================================================================================================\n",
      "Total params: 28,529,987\n",
      "Trainable params: 28,518,979\n",
      "Non-trainable params: 11,008\n",
      "__________________________________________________________________________________________________\n"
     ]
    }
   ],
   "source": [
    "model = tf.keras.models.load_model(model_path, custom_objects={'unet_loss_xy': unet_loss_xy})\n",
    "model.summary()\n"
   ]
  },
  {
   "cell_type": "code",
   "execution_count": 6,
   "id": "inner-blend",
   "metadata": {},
   "outputs": [],
   "source": [
    "train_outputs_pred = model.predict(np.expand_dims(train_inputs, axis=-1),\n",
    "                                   batch_size=128)\n"
   ]
  },
  {
   "cell_type": "code",
   "execution_count": 10,
   "id": "peaceful-external",
   "metadata": {},
   "outputs": [],
   "source": [
    "train_outputs_pred_da = xr.DataArray(train_outputs_pred,\n",
    "                                     coords={\"hid\": np.arange(train_outputs_pred.shape[0]),\n",
    "                                             \"x\": np.arange(train_outputs_pred.shape[1]),\n",
    "                                             \"y\": np.arange(train_outputs_pred.shape[2]),\n",
    "                                             \"output\": [\"p\"]},\n",
    "                                     dims=(\"hid\", \"x\", \"y\", \"output\"),\n",
    "                                     name=\"train_pred_scaled\")\n",
    "train_outputs_pred_da.to_netcdf(join(model_path, \"train_outputs_pred.nc\"))\n"
   ]
  },
  {
   "cell_type": "code",
   "execution_count": 15,
   "id": "political-industry",
   "metadata": {},
   "outputs": [],
   "source": [
    "valid_outputs_pred = model.predict(np.expand_dims(valid_inputs, axis=-1),\n",
    "                                   batch_size=128)\n"
   ]
  },
  {
   "cell_type": "code",
   "execution_count": 16,
   "id": "opened-equivalent",
   "metadata": {},
   "outputs": [],
   "source": [
    "valid_outputs_pred_da = xr.DataArray(valid_outputs_pred,\n",
    "                                     coords={\"hid\": np.arange(valid_outputs_pred.shape[0]),\n",
    "                                             \"x\": np.arange(valid_outputs_pred.shape[1]),\n",
    "                                             \"y\": np.arange(valid_outputs_pred.shape[2]),\n",
    "                                             \"output\": [\"p\"]},\n",
    "                                     dims=(\"hid\", \"x\", \"y\", \"output\"),\n",
    "                                     name=\"valid_pred_scaled\")\n",
    "valid_outputs_pred_da.to_netcdf(join(model_path, \"valid_outputs_pred.nc\"))\n"
   ]
  },
  {
   "cell_type": "code",
   "execution_count": 17,
   "id": "sharing-luther",
   "metadata": {},
   "outputs": [
    {
     "data": {
      "text/plain": [
       "(11500, 60, 40, 1)"
      ]
     },
     "execution_count": 17,
     "metadata": {},
     "output_type": "execute_result"
    }
   ],
   "source": [
    "train_outputs_pred.shape"
   ]
  },
  {
   "cell_type": "code",
   "execution_count": null,
   "id": "objective-velvet",
   "metadata": {},
   "outputs": [],
   "source": []
  }
 ],
 "metadata": {
  "kernelspec": {
   "display_name": "Python 3",
   "language": "python",
   "name": "python3"
  },
  "language_info": {
   "codemirror_mode": {
    "name": "ipython",
    "version": 3
   },
   "file_extension": ".py",
   "mimetype": "text/x-python",
   "name": "python",
   "nbconvert_exporter": "python",
   "pygments_lexer": "ipython3",
   "version": "3.6.11"
  }
 },
 "nbformat": 4,
 "nbformat_minor": 5
}
