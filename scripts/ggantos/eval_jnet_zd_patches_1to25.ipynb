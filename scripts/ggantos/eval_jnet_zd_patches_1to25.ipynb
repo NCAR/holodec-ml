{
 "cells": [
  {
   "cell_type": "code",
   "execution_count": 72,
   "id": "nervous-study",
   "metadata": {},
   "outputs": [],
   "source": [
    "from sklearn.preprocessing import MinMaxScaler\n",
    "import tensorflow as tf\n",
    "import numpy as np\n",
    "import xarray as xr\n",
    "import pandas as pd\n",
    "from scipy.ndimage import label, center_of_mass\n",
    "from sklearn.metrics import r2_score\n",
    "import math\n",
    "import matplotlib.pyplot as plt\n",
    "\n",
    "from holodecml.data import load_raw_datasets, load_train_patches, load_train_patches_1to25\n"
   ]
  },
  {
   "cell_type": "code",
   "execution_count": 2,
   "id": "blocked-moral",
   "metadata": {},
   "outputs": [],
   "source": [
    "path_data = \"/glade/p/cisl/aiml/ai4ess_hackathon/holodec/\"\n",
    "num_particles = [1,2,3,4,5,6,7,8,9,10,\"12-25\"]\n",
    "output_cols = [\"x\", \"y\", \"z\", \"d\", \"hid\"]\n",
    "subset = [500,500,500,500,500,500,500,500,500,500,6500]\n",
    "scaler_out = MinMaxScaler()\n",
    "rad = 64\n"
   ]
  },
  {
   "cell_type": "code",
   "execution_count": 3,
   "id": "alike-effort",
   "metadata": {},
   "outputs": [],
   "source": [
    "def scale_images(images, scaler_in=None):\n",
    "    \"\"\"\n",
    "    Takes in array of images and scales pixel values between 0 and 1\n",
    "    \n",
    "    Args: \n",
    "        images: (np array) Input image data\n",
    "        scaler_in: (dict) Image scaler 'max' and 'min' values\n",
    "        \n",
    "    Returns:\n",
    "        images_scaled: (np array) Input image data scaled between 0 and 1\n",
    "        scaler_in: (dict) Image scaler 'max' and 'min' values\n",
    "    \"\"\"\n",
    "    \n",
    "    if scaler_in is None:\n",
    "        scaler_in = {}\n",
    "        scaler_in[\"min\"] = images.min()\n",
    "        scaler_in[\"max\"] = images.max()\n",
    "    images_scaled = (images.astype(np.float32) - scaler_in[\"min\"])\n",
    "    images_scaled /= (scaler_in[\"max\"] - scaler_in[\"min\"])\n",
    "\n",
    "    return images_scaled, scaler_in"
   ]
  },
  {
   "cell_type": "code",
   "execution_count": 4,
   "id": "demonstrated-patrick",
   "metadata": {},
   "outputs": [],
   "source": [
    "def load_pred_patches_1to25(path_preds, path_data, num_particles, output_cols,\n",
    "                            scaler_out=False, subset=False, rad=False, threshold=0.3):\n",
    "    \n",
    "    '''Creates hologram patches centered around predicted particles.'''\n",
    "    \n",
    "    # load raw datasets    \n",
    "    train_patches_all = []\n",
    "    train_hids_all = []\n",
    "    train_outputs_all = []\n",
    "    valid_patches_all = []\n",
    "    valid_hids_all = []\n",
    "    valid_outputs_all = []\n",
    "        \n",
    "    idx_start = 0\n",
    "    for num,sub in zip(num_particles, subset):\n",
    "        train_inputs,\\\n",
    "        train_outputs = load_raw_datasets(path_data, num, 'train',\n",
    "                                          output_cols, sub)\n",
    "        valid_inputs,\\\n",
    "        valid_outputs = load_raw_datasets(path_data, num, 'valid',\n",
    "                                          output_cols, sub//10)\n",
    "        print(f\"finished loading raw dataset for num_particles: {num}\")\n",
    "\n",
    "        # scale images\n",
    "        train_inputs, scaler_in = scale_images(train_inputs)\n",
    "        valid_inputs, _ = scale_images(valid_inputs, scaler_in)\n",
    "        \n",
    "        # use scipy.ndimage.label and scipy.ndimage.center_of_mass to extract predicted particles\n",
    "        preds = xr.open_dataset(path_preds + \"train_outputs_pred.nc\").to_array()[0, :, :, :, 0]\n",
    "        coms = []\n",
    "        for pred in preds[idx_start:idx_start+sub]:\n",
    "            holo_label, label_count = label(np.where(pred >= threshold, 1, 0))\n",
    "            com = np.array(center_of_mass(pred, holo_label, np.arange(1, label_count+1)))\n",
    "            coms.append(np.round(com).astype(int))\n",
    "        print(\"Finished extracting coms from train preds\")\n",
    "\n",
    "        # calculate bin factor from inputs to the jnet model\n",
    "        x_factor = train_inputs.shape[1] // preds.x.shape[0]\n",
    "        y_factor = train_inputs.shape[2] // preds.y.shape[0]\n",
    "    \n",
    "        # exise patches from zero-padded holograms for training set\n",
    "        train_patches = []\n",
    "        train_x = []\n",
    "        train_y = []\n",
    "        train_hids = []\n",
    "        for hid in train_outputs[\"hid\"].unique().astype(int):\n",
    "            input_hid = np.pad(train_inputs[hid-1], rad)\n",
    "            com = coms[hid-1]\n",
    "            for c in com:\n",
    "                idx_x, idx_y = int(c[0]*x_factor)+rad, int(c[1]*y_factor)+rad            \n",
    "                patch = input_hid[idx_x-rad:idx_x+rad+1, idx_y-rad:idx_y+rad+1]\n",
    "                train_patches.append(patch)\n",
    "                train_x.append(idx_x-rad)\n",
    "                train_y.append(idx_y-rad)\n",
    "                train_hids.append(hid)\n",
    "        train_patches = np.stack(train_patches)\n",
    "        train_x = np.array(train_x).reshape(-1,1)\n",
    "        train_y = np.array(train_y).reshape(-1,1)\n",
    "        train_hids = np.array(train_hids).reshape(-1,1)\n",
    "        train_hids = np.hstack((train_hids, train_x, train_y))\n",
    "        print(\"Finished extracting train patches\")\n",
    "\n",
    "        # use scipy.ndimage.label and scipy.ndimage.center_of_mass to extract predicted particles\n",
    "        preds = xr.open_dataset(path_preds + \"valid_outputs_pred.nc\").to_array()[0, :, :, :, 0]\n",
    "        coms = []\n",
    "        for pred in preds:\n",
    "            holo_label, label_count = label(np.where(pred >= threshold, 1, 0))\n",
    "            com = np.array(center_of_mass(pred, holo_label, np.arange(1, label_count+1)))\n",
    "            coms.append(np.round(com).astype(int))\n",
    "        print(\"Finished extracting coms from valid preds\")\n",
    "\n",
    "        # calculate bin factor from inputs to the jnet model\n",
    "        x_factor = valid_inputs.shape[1] // preds.x.shape[0]\n",
    "        y_factor = valid_inputs.shape[2] // preds.y.shape[0]\n",
    "\n",
    "        # exise patches from zero-padded holograms for validation set\n",
    "        valid_patches = []\n",
    "        valid_x = []\n",
    "        valid_y = []\n",
    "        valid_hids = []\n",
    "        for hid in valid_outputs[\"hid\"].unique().astype(int):\n",
    "            input_hid = np.pad(valid_inputs[hid-1], rad)\n",
    "            com = coms[hid-1]\n",
    "            for c in com:\n",
    "                idx_x, idx_y = int(c[0]*x_factor)+rad, int(c[1]*y_factor)+rad\n",
    "                patch = input_hid[idx_x-rad:idx_x+rad+1, idx_y-rad:idx_y+rad+1]\n",
    "                valid_patches.append(patch)\n",
    "                valid_x.append(idx_x-rad)\n",
    "                valid_y.append(idx_y-rad)\n",
    "                valid_hids.append(hid)\n",
    "        valid_patches = np.stack(valid_patches)\n",
    "        valid_x = np.array(valid_x).reshape(-1,1)\n",
    "        valid_y = np.array(valid_y).reshape(-1,1)\n",
    "        valid_hids = np.array(valid_hids).reshape(-1,1)\n",
    "        valid_hids = np.hstack((valid_hids, valid_x, valid_y))\n",
    "        print(\"Finished extracting valid patches\")\n",
    "        \n",
    "        train_patches_all.append(train_patches)\n",
    "        train_hids_all.append(train_hids)\n",
    "        train_outputs_all.append(train_outputs)\n",
    "        valid_patches_all.append(valid_patches)\n",
    "        valid_hids_all.append(valid_hids)\n",
    "        valid_outputs_all.append(valid_outputs)\n",
    "    \n",
    "    train_patches_all = np.vstack(train_patches_all)\n",
    "    train_hids_all = np.vstack(train_hids_all)\n",
    "    train_outputs_all = np.vstack(train_outputs_all)\n",
    "    valid_patches_all = np.vstack(valid_patches_all)\n",
    "    valid_hids_all = np.vstack(valid_hids_all)\n",
    "    valid_outputs_all = np.vstack(valid_outputs_all)\n",
    "    \n",
    "    train_outputs = train_outputs.drop(['hid'], axis=1)\n",
    "    train_outputs = scaler_out.fit_transform(train_outputs)\n",
    "    \n",
    "    valid_outputs = valid_outputs.drop(['hid'], axis=1)\n",
    "    valid_outputs = scaler_out.transform(valid_outputs)\n",
    "    \n",
    "    return train_patches, train_hids, train_outputs, valid_patches, valid_hids, valid_outputs\n"
   ]
  },
  {
   "cell_type": "code",
   "execution_count": 5,
   "id": "superior-lending",
   "metadata": {},
   "outputs": [
    {
     "name": "stdout",
     "output_type": "stream",
     "text": [
      "finished loading raw dataset for num_particles: 1\n",
      "Finished extracting coms from train preds\n",
      "Finished extracting train patches\n",
      "Finished extracting coms from valid preds\n",
      "Finished extracting valid patches\n",
      "finished loading raw dataset for num_particles: 2\n",
      "Finished extracting coms from train preds\n",
      "Finished extracting train patches\n",
      "Finished extracting coms from valid preds\n",
      "Finished extracting valid patches\n",
      "finished loading raw dataset for num_particles: 3\n",
      "Finished extracting coms from train preds\n",
      "Finished extracting train patches\n",
      "Finished extracting coms from valid preds\n",
      "Finished extracting valid patches\n",
      "finished loading raw dataset for num_particles: 4\n",
      "Finished extracting coms from train preds\n",
      "Finished extracting train patches\n",
      "Finished extracting coms from valid preds\n",
      "Finished extracting valid patches\n",
      "finished loading raw dataset for num_particles: 5\n",
      "Finished extracting coms from train preds\n",
      "Finished extracting train patches\n",
      "Finished extracting coms from valid preds\n",
      "Finished extracting valid patches\n",
      "finished loading raw dataset for num_particles: 6\n",
      "Finished extracting coms from train preds\n",
      "Finished extracting train patches\n",
      "Finished extracting coms from valid preds\n",
      "Finished extracting valid patches\n",
      "finished loading raw dataset for num_particles: 7\n",
      "Finished extracting coms from train preds\n",
      "Finished extracting train patches\n",
      "Finished extracting coms from valid preds\n",
      "Finished extracting valid patches\n",
      "finished loading raw dataset for num_particles: 8\n",
      "Finished extracting coms from train preds\n",
      "Finished extracting train patches\n",
      "Finished extracting coms from valid preds\n",
      "Finished extracting valid patches\n",
      "finished loading raw dataset for num_particles: 9\n",
      "Finished extracting coms from train preds\n",
      "Finished extracting train patches\n",
      "Finished extracting coms from valid preds\n",
      "Finished extracting valid patches\n",
      "finished loading raw dataset for num_particles: 10\n",
      "Finished extracting coms from train preds\n",
      "Finished extracting train patches\n",
      "Finished extracting coms from valid preds\n",
      "Finished extracting valid patches\n",
      "finished loading raw dataset for num_particles: 12-25\n",
      "Finished extracting coms from train preds\n",
      "Finished extracting train patches\n",
      "Finished extracting coms from valid preds\n",
      "Finished extracting valid patches\n"
     ]
    }
   ],
   "source": [
    "path_preds = \"/glade/p/cisl/aiml/ggantos/holodec/unet/jnet_10_1to25/\"\n",
    "\n",
    "train_patches,\\\n",
    "train_patch_hids,\\\n",
    "train_patch_outputs,\\\n",
    "valid_patches,\\\n",
    "valid_patch_hids,\\\n",
    "valid_patch_outputs = load_pred_patches_1to25(path_preds,\n",
    "                                        path_data,\n",
    "                                        num_particles,\n",
    "                                        output_cols,\n",
    "                                        scaler_out,\n",
    "                                        subset,\n",
    "                                        rad)\n"
   ]
  },
  {
   "cell_type": "code",
   "execution_count": 6,
   "id": "hidden-pipeline",
   "metadata": {},
   "outputs": [
    {
     "name": "stdout",
     "output_type": "stream",
     "text": [
      "Model: \"functional_1\"\n",
      "_________________________________________________________________\n",
      "Layer (type)                 Output Shape              Param #   \n",
      "=================================================================\n",
      "input (InputLayer)           [(None, 129, 129, 1)]     0         \n",
      "_________________________________________________________________\n",
      "conv2D_00 (Conv2D)           (None, 129, 129, 8)       208       \n",
      "_________________________________________________________________\n",
      "maxpool2D_00 (MaxPooling2D)  (None, 32, 32, 8)         0         \n",
      "_________________________________________________________________\n",
      "conv2D_01 (Conv2D)           (None, 32, 32, 16)        3216      \n",
      "_________________________________________________________________\n",
      "maxpool2D_01 (MaxPooling2D)  (None, 8, 8, 16)          0         \n",
      "_________________________________________________________________\n",
      "conv2D_02 (Conv2D)           (None, 8, 8, 32)          12832     \n",
      "_________________________________________________________________\n",
      "maxpool2D_02 (MaxPooling2D)  (None, 2, 2, 32)          0         \n",
      "_________________________________________________________________\n",
      "flatten (Flatten)            (None, 128)               0         \n",
      "_________________________________________________________________\n",
      "dense_00 (Dense)             (None, 64)                8256      \n",
      "_________________________________________________________________\n",
      "dense_01 (Dense)             (None, 32)                2080      \n",
      "_________________________________________________________________\n",
      "dense_output (Dense)         (None, 2)                 66        \n",
      "=================================================================\n",
      "Total params: 26,658\n",
      "Trainable params: 26,658\n",
      "Non-trainable params: 0\n",
      "_________________________________________________________________\n"
     ]
    }
   ],
   "source": [
    "path_model = \"/glade/p/cisl/aiml/ggantos/holodec/jnet/zd/1to25_10_new/\"\n",
    "new_model = tf.keras.models.load_model(path_model + \"cnn.h5\")\n",
    "new_model.summary()\n"
   ]
  },
  {
   "cell_type": "code",
   "execution_count": 7,
   "id": "environmental-specific",
   "metadata": {},
   "outputs": [
    {
     "data": {
      "text/plain": [
       "array([[0.55431616, 0.44568393],\n",
       "       [0.5478844 , 0.45211557],\n",
       "       [0.553453  , 0.44654703],\n",
       "       ...,\n",
       "       [0.5405204 , 0.4594796 ],\n",
       "       [0.5485844 , 0.45141563],\n",
       "       [0.5470055 , 0.45299456]], dtype=float32)"
      ]
     },
     "execution_count": 7,
     "metadata": {},
     "output_type": "execute_result"
    }
   ],
   "source": [
    "valid_patch_outputs_pred = new_model.predict(valid_patches)\n",
    "valid_patch_outputs_pred\n"
   ]
  },
  {
   "cell_type": "code",
   "execution_count": 8,
   "id": "blessed-elder",
   "metadata": {},
   "outputs": [
    {
     "data": {
      "text/plain": [
       "array([[  1, 140,  50],\n",
       "       [  2,  50, 250],\n",
       "       [  3, 430,  80],\n",
       "       ...,\n",
       "       [650, 510, 390],\n",
       "       [650, 550, 260],\n",
       "       [650, 560,  70]])"
      ]
     },
     "execution_count": 8,
     "metadata": {},
     "output_type": "execute_result"
    }
   ],
   "source": [
    "valid_patch_hids"
   ]
  },
  {
   "cell_type": "code",
   "execution_count": 20,
   "id": "generic-preparation",
   "metadata": {},
   "outputs": [
    {
     "data": {
      "text/plain": [
       "(3636, 2)"
      ]
     },
     "execution_count": 20,
     "metadata": {},
     "output_type": "execute_result"
    }
   ],
   "source": [
    "valid_patch_outputs_pred"
   ]
  },
  {
   "cell_type": "code",
   "execution_count": 10,
   "id": "recreational-details",
   "metadata": {},
   "outputs": [
    {
     "data": {
      "text/html": [
       "<div>\n",
       "<style scoped>\n",
       "    .dataframe tbody tr th:only-of-type {\n",
       "        vertical-align: middle;\n",
       "    }\n",
       "\n",
       "    .dataframe tbody tr th {\n",
       "        vertical-align: top;\n",
       "    }\n",
       "\n",
       "    .dataframe thead th {\n",
       "        text-align: right;\n",
       "    }\n",
       "</style>\n",
       "<table border=\"1\" class=\"dataframe\">\n",
       "  <thead>\n",
       "    <tr style=\"text-align: right;\">\n",
       "      <th></th>\n",
       "      <th>hid</th>\n",
       "      <th>x</th>\n",
       "      <th>y</th>\n",
       "      <th>z</th>\n",
       "      <th>d</th>\n",
       "    </tr>\n",
       "  </thead>\n",
       "  <tbody>\n",
       "    <tr>\n",
       "      <th>0</th>\n",
       "      <td>1.0</td>\n",
       "      <td>140.0</td>\n",
       "      <td>50.0</td>\n",
       "      <td>0.554316</td>\n",
       "      <td>0.445684</td>\n",
       "    </tr>\n",
       "    <tr>\n",
       "      <th>1</th>\n",
       "      <td>2.0</td>\n",
       "      <td>50.0</td>\n",
       "      <td>250.0</td>\n",
       "      <td>0.547884</td>\n",
       "      <td>0.452116</td>\n",
       "    </tr>\n",
       "    <tr>\n",
       "      <th>2</th>\n",
       "      <td>3.0</td>\n",
       "      <td>430.0</td>\n",
       "      <td>80.0</td>\n",
       "      <td>0.553453</td>\n",
       "      <td>0.446547</td>\n",
       "    </tr>\n",
       "    <tr>\n",
       "      <th>3</th>\n",
       "      <td>6.0</td>\n",
       "      <td>480.0</td>\n",
       "      <td>180.0</td>\n",
       "      <td>0.552744</td>\n",
       "      <td>0.447256</td>\n",
       "    </tr>\n",
       "    <tr>\n",
       "      <th>4</th>\n",
       "      <td>7.0</td>\n",
       "      <td>110.0</td>\n",
       "      <td>350.0</td>\n",
       "      <td>0.550235</td>\n",
       "      <td>0.449765</td>\n",
       "    </tr>\n",
       "  </tbody>\n",
       "</table>\n",
       "</div>"
      ],
      "text/plain": [
       "   hid      x      y         z         d\n",
       "0  1.0  140.0   50.0  0.554316  0.445684\n",
       "1  2.0   50.0  250.0  0.547884  0.452116\n",
       "2  3.0  430.0   80.0  0.553453  0.446547\n",
       "3  6.0  480.0  180.0  0.552744  0.447256\n",
       "4  7.0  110.0  350.0  0.550235  0.449765"
      ]
     },
     "execution_count": 10,
     "metadata": {},
     "output_type": "execute_result"
    }
   ],
   "source": [
    "df_pred = np.hstack((valid_patch_hids, valid_patch_outputs_pred))\n",
    "df_pred = pd.DataFrame(data=df_pred, columns=[\"hid\", \"x\", \"y\", \"z\", \"d\"])\n",
    "df_pred.head()"
   ]
  },
  {
   "cell_type": "code",
   "execution_count": 11,
   "id": "liked-supplier",
   "metadata": {},
   "outputs": [],
   "source": [
    "train_inputs,\\\n",
    "train_outputs,\\\n",
    "train_hids,\\\n",
    "valid_inputs,\\\n",
    "valid_outputs,\\\n",
    "valid_hids = load_train_patches_1to25(path_data,\n",
    "                                         num_particles,\n",
    "                                         output_cols,\n",
    "                                         scaler_out,\n",
    "                                         subset,\n",
    "                                         rad)\n"
   ]
  },
  {
   "cell_type": "code",
   "execution_count": 58,
   "id": "numerous-tennessee",
   "metadata": {},
   "outputs": [
    {
     "data": {
      "text/html": [
       "<div>\n",
       "<style scoped>\n",
       "    .dataframe tbody tr th:only-of-type {\n",
       "        vertical-align: middle;\n",
       "    }\n",
       "\n",
       "    .dataframe tbody tr th {\n",
       "        vertical-align: top;\n",
       "    }\n",
       "\n",
       "    .dataframe thead th {\n",
       "        text-align: right;\n",
       "    }\n",
       "</style>\n",
       "<table border=\"1\" class=\"dataframe\">\n",
       "  <thead>\n",
       "    <tr style=\"text-align: right;\">\n",
       "      <th></th>\n",
       "      <th>x</th>\n",
       "      <th>y</th>\n",
       "      <th>hid</th>\n",
       "      <th>z</th>\n",
       "      <th>d</th>\n",
       "    </tr>\n",
       "  </thead>\n",
       "  <tbody>\n",
       "    <tr>\n",
       "      <th>0</th>\n",
       "      <td>0.058370</td>\n",
       "      <td>0.489981</td>\n",
       "      <td>1.0</td>\n",
       "      <td>0.234506</td>\n",
       "      <td>0.115869</td>\n",
       "    </tr>\n",
       "    <tr>\n",
       "      <th>1</th>\n",
       "      <td>0.382913</td>\n",
       "      <td>0.410304</td>\n",
       "      <td>2.0</td>\n",
       "      <td>0.073702</td>\n",
       "      <td>0.619647</td>\n",
       "    </tr>\n",
       "    <tr>\n",
       "      <th>2</th>\n",
       "      <td>0.951453</td>\n",
       "      <td>0.796795</td>\n",
       "      <td>3.0</td>\n",
       "      <td>0.723618</td>\n",
       "      <td>0.178841</td>\n",
       "    </tr>\n",
       "    <tr>\n",
       "      <th>3</th>\n",
       "      <td>0.273513</td>\n",
       "      <td>0.034688</td>\n",
       "      <td>4.0</td>\n",
       "      <td>0.051926</td>\n",
       "      <td>0.710327</td>\n",
       "    </tr>\n",
       "    <tr>\n",
       "      <th>4</th>\n",
       "      <td>0.453935</td>\n",
       "      <td>0.232921</td>\n",
       "      <td>5.0</td>\n",
       "      <td>0.901173</td>\n",
       "      <td>0.471033</td>\n",
       "    </tr>\n",
       "    <tr>\n",
       "      <th>...</th>\n",
       "      <td>...</td>\n",
       "      <td>...</td>\n",
       "      <td>...</td>\n",
       "      <td>...</td>\n",
       "      <td>...</td>\n",
       "    </tr>\n",
       "    <tr>\n",
       "      <th>147832</th>\n",
       "      <td>0.967876</td>\n",
       "      <td>0.258680</td>\n",
       "      <td>6500.0</td>\n",
       "      <td>0.991625</td>\n",
       "      <td>0.483627</td>\n",
       "    </tr>\n",
       "    <tr>\n",
       "      <th>147833</th>\n",
       "      <td>0.490013</td>\n",
       "      <td>0.521385</td>\n",
       "      <td>6500.0</td>\n",
       "      <td>0.760469</td>\n",
       "      <td>0.176322</td>\n",
       "    </tr>\n",
       "    <tr>\n",
       "      <th>147834</th>\n",
       "      <td>0.228768</td>\n",
       "      <td>0.380058</td>\n",
       "      <td>6500.0</td>\n",
       "      <td>0.187605</td>\n",
       "      <td>0.730479</td>\n",
       "    </tr>\n",
       "    <tr>\n",
       "      <th>147835</th>\n",
       "      <td>0.177232</td>\n",
       "      <td>0.262809</td>\n",
       "      <td>6500.0</td>\n",
       "      <td>0.649916</td>\n",
       "      <td>0.269521</td>\n",
       "    </tr>\n",
       "    <tr>\n",
       "      <th>147836</th>\n",
       "      <td>0.580435</td>\n",
       "      <td>0.214859</td>\n",
       "      <td>6500.0</td>\n",
       "      <td>0.757119</td>\n",
       "      <td>0.586902</td>\n",
       "    </tr>\n",
       "  </tbody>\n",
       "</table>\n",
       "<p>147837 rows × 5 columns</p>\n",
       "</div>"
      ],
      "text/plain": [
       "               x         y     hid         z         d\n",
       "0       0.058370  0.489981     1.0  0.234506  0.115869\n",
       "1       0.382913  0.410304     2.0  0.073702  0.619647\n",
       "2       0.951453  0.796795     3.0  0.723618  0.178841\n",
       "3       0.273513  0.034688     4.0  0.051926  0.710327\n",
       "4       0.453935  0.232921     5.0  0.901173  0.471033\n",
       "...          ...       ...     ...       ...       ...\n",
       "147832  0.967876  0.258680  6500.0  0.991625  0.483627\n",
       "147833  0.490013  0.521385  6500.0  0.760469  0.176322\n",
       "147834  0.228768  0.380058  6500.0  0.187605  0.730479\n",
       "147835  0.177232  0.262809  6500.0  0.649916  0.269521\n",
       "147836  0.580435  0.214859  6500.0  0.757119  0.586902\n",
       "\n",
       "[147837 rows x 5 columns]"
      ]
     },
     "execution_count": 58,
     "metadata": {},
     "output_type": "execute_result"
    }
   ],
   "source": [
    "df_true = np.hstack((valid_hids, valid_outputs))\n",
    "df_true = pd.DataFrame(data=df_true, columns=[\"x\", \"y\", \"hid\", \"z\", \"d\"])\n",
    "df_true[\"z\"] = MinMaxScaler().fit_transform(df_true[\"z\"].values.reshape(-1, 1))\n",
    "df_true[\"d\"] = MinMaxScaler().fit_transform(df_true[\"d\"].values.reshape(-1, 1))\n",
    "df_true\n"
   ]
  },
  {
   "cell_type": "code",
   "execution_count": 59,
   "id": "proud-bulgaria",
   "metadata": {},
   "outputs": [],
   "source": [
    "loss_counts = []\n",
    "loss_maxima = []\n",
    "loss_zs = []\n",
    "loss_ds = []\n",
    "true_z = []\n",
    "true_d = []\n",
    "\n",
    "for hid in df_pred[\"hid\"].unique().astype(int):\n",
    "    df_true_hid = df_true.loc[df_true['hid'] == hid]\n",
    "    df_pred_hid = df_pred.loc[df_pred['hid'] == hid]\n",
    "    dist_x = (df_true_hid['x'].to_numpy() - df_pred_hid['x'].to_numpy()[:, np.newaxis]) ** 2\n",
    "    dist_y = (df_true_hid['y'].to_numpy() - df_pred_hid['y'].to_numpy()[:, np.newaxis]) ** 2\n",
    "    dist_z = (df_true_hid['z'].to_numpy() - df_pred_hid['z'].to_numpy()[:, np.newaxis]) ** 2\n",
    "    dist_d = (df_true_hid['d'].to_numpy() - df_pred_hid['d'].to_numpy()[:, np.newaxis]) ** 2\n",
    "    dist_xy = dist_x + dist_y\n",
    "    matches = np.argmin(dist_xy, axis=1)\n",
    "    loss_counts.append((df_true_hid.shape[0] - df_pred_hid.shape[0]) ** 2)\n",
    "    loss_maxima.append(df_true_hid.shape[0] - df_pred_hid.shape[0])\n",
    "    loss_zs.append(np.sum(dist_z[(np.arange(dist_z.shape[0]), matches)]))\n",
    "    loss_ds.append(np.sum(dist_d[(np.arange(dist_d.shape[0]), matches)]))\n",
    "    true_z.append(df_true_hid[\"z\"].to_numpy()[matches])\n",
    "    true_d.append(df_true_hid[\"d\"].to_numpy()[matches])\n",
    "loss_count = math.sqrt(sum(loss_counts))\n",
    "loss_max = max(loss_maxima)\n",
    "loss_z = math.sqrt(sum(loss_zs))\n",
    "loss_d = math.sqrt(sum(loss_ds))\n",
    "true_z = np.hstack(true_z)\n",
    "true_d = np.hstack(true_d)"
   ]
  },
  {
   "cell_type": "code",
   "execution_count": 64,
   "id": "standard-brass",
   "metadata": {},
   "outputs": [
    {
     "name": "stdout",
     "output_type": "stream",
     "text": [
      "\n"
     ]
    },
    {
     "data": {
      "image/png": "[encoded data removed]",
      "text/plain": [
       "<Figure size 1008x576 with 2 Axes>"
      ]
     },
     "metadata": {
      "needs_background": "light"
     },
     "output_type": "display_data"
    }
   ],
   "source": [
    "h = 6500\n",
    "print()\n",
    "plt.figure(figsize=(14, 8))\n",
    "plt.scatter(df_true.loc[df_true['hid'] == h, \"x\"],\n",
    "            df_true.loc[df_true['hid'] == h, \"y\"],\n",
    "            df_true.loc[df_true['hid'] == h, \"d\"]*335,\n",
    "            df_true.loc[df_true['hid'] == h, \"z\"],\n",
    "            edgecolors=\"blue\",\n",
    "            vmin=df_true[\"z\"].min(),\n",
    "            vmax=df_true[\"z\"].max(),\n",
    "            cmap=\"cool\",\n",
    "            label=\"True\",\n",
    "            zorder=2)\n",
    "# plt.scatter(df_pred.loc[df_pred['hid'] == h/10, \"x\"],\n",
    "#             df_pred.loc[df_pred['hid'] == h/10, \"y\"],\n",
    "#             df_pred.loc[df_pred['hid'] == h/10, \"d\"] *335,\n",
    "#             df_pred.loc[df_pred['hid'] == h/10, \"z\"],\n",
    "#             edgecolors=\"magenta\",\n",
    "#             vmin=df_pred[\"z\"].min(),\n",
    "#             vmax=df_pred[\"z\"].max(),\n",
    "#             cmap=\"cool\",\n",
    "#             label=\"Predicted\",\n",
    "#             zorder=1,\n",
    "#             alpha=0.5)\n",
    "plt.colorbar().set_label(label=\"z-axis particle position (µm)\", size=16)\n",
    "plt.legend(fontsize=20)\n",
    "plt.show()"
   ]
  },
  {
   "cell_type": "code",
   "execution_count": 65,
   "id": "contained-macro",
   "metadata": {},
   "outputs": [
    {
     "name": "stdout",
     "output_type": "stream",
     "text": [
      "\n"
     ]
    },
    {
     "data": {
      "image/png": "[encoded data removed]",
      "text/plain": [
       "<Figure size 1008x576 with 2 Axes>"
      ]
     },
     "metadata": {
      "needs_background": "light"
     },
     "output_type": "display_data"
    }
   ],
   "source": [
    "h = 6500\n",
    "print()\n",
    "plt.figure(figsize=(14, 8))\n",
    "# plt.scatter(df_true.loc[df_true['hid'] == h, \"x\"],\n",
    "#             df_true.loc[df_true['hid'] == h, \"y\"],\n",
    "#             df_true.loc[df_true['hid'] == h, \"d\"]*2,\n",
    "#             df_true.loc[df_true['hid'] == h, \"z\"],\n",
    "#             edgecolors=\"blue\",\n",
    "#             vmin=df_true[\"z\"].min(),\n",
    "#             vmax=df_true[\"z\"].max(),\n",
    "#             cmap=\"cool\",\n",
    "#             label=\"True\",\n",
    "#             zorder=2)\n",
    "plt.scatter(df_pred.loc[df_pred['hid'] == h/10, \"x\"],\n",
    "            df_pred.loc[df_pred['hid'] == h/10, \"y\"],\n",
    "            df_pred.loc[df_pred['hid'] == h/10, \"d\"] *335,\n",
    "            df_pred.loc[df_pred['hid'] == h/10, \"z\"],\n",
    "            edgecolors=\"magenta\",\n",
    "            vmin=df_pred[\"z\"].min(),\n",
    "            vmax=df_pred[\"z\"].max(),\n",
    "            cmap=\"cool\",\n",
    "            label=\"Predicted\",\n",
    "            zorder=1)\n",
    "plt.colorbar().set_label(label=\"z-axis particle position (µm)\", size=16)\n",
    "plt.legend(fontsize=20)\n",
    "plt.show()"
   ]
  },
  {
   "cell_type": "code",
   "execution_count": 66,
   "id": "breeding-uganda",
   "metadata": {
    "scrolled": false
   },
   "outputs": [
    {
     "name": "stdout",
     "output_type": "stream",
     "text": [
      "r-squared = -0.030\n"
     ]
    },
    {
     "data": {
      "image/png": "[encoded data removed]",
      "text/plain": [
       "<Figure size 432x288 with 1 Axes>"
      ]
     },
     "metadata": {
      "needs_background": "light"
     },
     "output_type": "display_data"
    }
   ],
   "source": [
    "plt.scatter(true_d, df_pred[\"d\"])\n",
    "print(\"r-squared = {:.3f}\".format(r2_score(true_d, df_pred[\"d\"])))\n",
    "plt.axis('square')\n",
    "plt.show()\n"
   ]
  },
  {
   "cell_type": "code",
   "execution_count": 67,
   "id": "worldwide-longitude",
   "metadata": {},
   "outputs": [
    {
     "data": {
      "text/plain": [
       "0.5581222176551819"
      ]
     },
     "execution_count": 67,
     "metadata": {},
     "output_type": "execute_result"
    }
   ],
   "source": [
    "df_pred[\"z\"].max()"
   ]
  },
  {
   "cell_type": "code",
   "execution_count": 68,
   "id": "unable-irrigation",
   "metadata": {},
   "outputs": [
    {
     "data": {
      "text/plain": [
       "1.0"
      ]
     },
     "execution_count": 68,
     "metadata": {},
     "output_type": "execute_result"
    }
   ],
   "source": [
    "df_true[\"z\"].max()"
   ]
  },
  {
   "cell_type": "code",
   "execution_count": 69,
   "id": "played-singles",
   "metadata": {},
   "outputs": [
    {
     "name": "stdout",
     "output_type": "stream",
     "text": [
      "r-squared = -0.049\n"
     ]
    },
    {
     "data": {
      "image/png": "[encoded data removed]",
      "text/plain": [
       "<Figure size 432x288 with 1 Axes>"
      ]
     },
     "metadata": {
      "needs_background": "light"
     },
     "output_type": "display_data"
    }
   ],
   "source": [
    "plt.scatter(true_z, df_pred[\"z\"])\n",
    "print(\"r-squared = {:.3f}\".format(r2_score(true_z, df_pred[\"z\"])))\n",
    "plt.axis('square')\n",
    "plt.show()\n"
   ]
  },
  {
   "cell_type": "code",
   "execution_count": 70,
   "id": "acoustic-jimmy",
   "metadata": {},
   "outputs": [
    {
     "name": "stdout",
     "output_type": "stream",
     "text": [
      "1515.7140231587223\n",
      "79\n",
      "17.98492897063152\n",
      "17.731035312163407\n"
     ]
    }
   ],
   "source": [
    "print(loss_count)\n",
    "print(loss_max)\n",
    "print(loss_z)\n",
    "print(loss_d)\n"
   ]
  },
  {
   "cell_type": "code",
   "execution_count": 71,
   "id": "missing-companion",
   "metadata": {},
   "outputs": [
    {
     "data": {
      "text/html": [
       "<div>\n",
       "<style scoped>\n",
       "    .dataframe tbody tr th:only-of-type {\n",
       "        vertical-align: middle;\n",
       "    }\n",
       "\n",
       "    .dataframe tbody tr th {\n",
       "        vertical-align: top;\n",
       "    }\n",
       "\n",
       "    .dataframe thead th {\n",
       "        text-align: right;\n",
       "    }\n",
       "</style>\n",
       "<table border=\"1\" class=\"dataframe\">\n",
       "  <thead>\n",
       "    <tr style=\"text-align: right;\">\n",
       "      <th></th>\n",
       "      <th>x</th>\n",
       "      <th>y</th>\n",
       "      <th>hid</th>\n",
       "      <th>z</th>\n",
       "      <th>d</th>\n",
       "    </tr>\n",
       "  </thead>\n",
       "  <tbody>\n",
       "    <tr>\n",
       "      <th>0</th>\n",
       "      <td>0.058370</td>\n",
       "      <td>0.489981</td>\n",
       "      <td>1.0</td>\n",
       "      <td>0.234506</td>\n",
       "      <td>0.115869</td>\n",
       "    </tr>\n",
       "    <tr>\n",
       "      <th>1</th>\n",
       "      <td>0.382913</td>\n",
       "      <td>0.410304</td>\n",
       "      <td>2.0</td>\n",
       "      <td>0.073702</td>\n",
       "      <td>0.619647</td>\n",
       "    </tr>\n",
       "    <tr>\n",
       "      <th>2</th>\n",
       "      <td>0.951453</td>\n",
       "      <td>0.796795</td>\n",
       "      <td>3.0</td>\n",
       "      <td>0.723618</td>\n",
       "      <td>0.178841</td>\n",
       "    </tr>\n",
       "    <tr>\n",
       "      <th>3</th>\n",
       "      <td>0.273513</td>\n",
       "      <td>0.034688</td>\n",
       "      <td>4.0</td>\n",
       "      <td>0.051926</td>\n",
       "      <td>0.710327</td>\n",
       "    </tr>\n",
       "    <tr>\n",
       "      <th>4</th>\n",
       "      <td>0.453935</td>\n",
       "      <td>0.232921</td>\n",
       "      <td>5.0</td>\n",
       "      <td>0.901173</td>\n",
       "      <td>0.471033</td>\n",
       "    </tr>\n",
       "    <tr>\n",
       "      <th>...</th>\n",
       "      <td>...</td>\n",
       "      <td>...</td>\n",
       "      <td>...</td>\n",
       "      <td>...</td>\n",
       "      <td>...</td>\n",
       "    </tr>\n",
       "    <tr>\n",
       "      <th>147832</th>\n",
       "      <td>0.967876</td>\n",
       "      <td>0.258680</td>\n",
       "      <td>6500.0</td>\n",
       "      <td>0.991625</td>\n",
       "      <td>0.483627</td>\n",
       "    </tr>\n",
       "    <tr>\n",
       "      <th>147833</th>\n",
       "      <td>0.490013</td>\n",
       "      <td>0.521385</td>\n",
       "      <td>6500.0</td>\n",
       "      <td>0.760469</td>\n",
       "      <td>0.176322</td>\n",
       "    </tr>\n",
       "    <tr>\n",
       "      <th>147834</th>\n",
       "      <td>0.228768</td>\n",
       "      <td>0.380058</td>\n",
       "      <td>6500.0</td>\n",
       "      <td>0.187605</td>\n",
       "      <td>0.730479</td>\n",
       "    </tr>\n",
       "    <tr>\n",
       "      <th>147835</th>\n",
       "      <td>0.177232</td>\n",
       "      <td>0.262809</td>\n",
       "      <td>6500.0</td>\n",
       "      <td>0.649916</td>\n",
       "      <td>0.269521</td>\n",
       "    </tr>\n",
       "    <tr>\n",
       "      <th>147836</th>\n",
       "      <td>0.580435</td>\n",
       "      <td>0.214859</td>\n",
       "      <td>6500.0</td>\n",
       "      <td>0.757119</td>\n",
       "      <td>0.586902</td>\n",
       "    </tr>\n",
       "  </tbody>\n",
       "</table>\n",
       "<p>147837 rows × 5 columns</p>\n",
       "</div>"
      ],
      "text/plain": [
       "               x         y     hid         z         d\n",
       "0       0.058370  0.489981     1.0  0.234506  0.115869\n",
       "1       0.382913  0.410304     2.0  0.073702  0.619647\n",
       "2       0.951453  0.796795     3.0  0.723618  0.178841\n",
       "3       0.273513  0.034688     4.0  0.051926  0.710327\n",
       "4       0.453935  0.232921     5.0  0.901173  0.471033\n",
       "...          ...       ...     ...       ...       ...\n",
       "147832  0.967876  0.258680  6500.0  0.991625  0.483627\n",
       "147833  0.490013  0.521385  6500.0  0.760469  0.176322\n",
       "147834  0.228768  0.380058  6500.0  0.187605  0.730479\n",
       "147835  0.177232  0.262809  6500.0  0.649916  0.269521\n",
       "147836  0.580435  0.214859  6500.0  0.757119  0.586902\n",
       "\n",
       "[147837 rows x 5 columns]"
      ]
     },
     "execution_count": 71,
     "metadata": {},
     "output_type": "execute_result"
    }
   ],
   "source": [
    "df_true"
   ]
  },
  {
   "cell_type": "code",
   "execution_count": 75,
   "id": "continent-trigger",
   "metadata": {},
   "outputs": [
    {
     "data": {
      "text/plain": [
       "(array([14769., 15090., 14826., 14618., 14805., 14747., 14315., 14948.,\n",
       "        14774., 14945.]),\n",
       " array([0. , 0.1, 0.2, 0.3, 0.4, 0.5, 0.6, 0.7, 0.8, 0.9, 1. ]),\n",
       " <BarContainer object of 10 artists>)"
      ]
     },
     "execution_count": 75,
     "metadata": {},
     "output_type": "execute_result"
    },
    {
     "data": {
      "image/png": "[encoded data removed]",
      "text/plain": [
       "<Figure size 432x288 with 1 Axes>"
      ]
     },
     "metadata": {
      "needs_background": "light"
     },
     "output_type": "display_data"
    }
   ],
   "source": [
    "plt.hist(df_true[\"d\"].values)"
   ]
  },
  {
   "cell_type": "code",
   "execution_count": 76,
   "id": "administrative-parent",
   "metadata": {},
   "outputs": [
    {
     "data": {
      "text/plain": [
       "(array([15027., 14789., 14719., 14595., 14959., 14792., 14599., 14683.,\n",
       "        14940., 14734.]),\n",
       " array([0. , 0.1, 0.2, 0.3, 0.4, 0.5, 0.6, 0.7, 0.8, 0.9, 1. ]),\n",
       " <BarContainer object of 10 artists>)"
      ]
     },
     "execution_count": 76,
     "metadata": {},
     "output_type": "execute_result"
    },
    {
     "data": {
      "image/png": "[encoded data removed]",
      "text/plain": [
       "<Figure size 432x288 with 1 Axes>"
      ]
     },
     "metadata": {
      "needs_background": "light"
     },
     "output_type": "display_data"
    }
   ],
   "source": [
    "plt.hist(df_true[\"z\"].values)"
   ]
  },
  {
   "cell_type": "code",
   "execution_count": 77,
   "id": "adapted-catch",
   "metadata": {},
   "outputs": [
    {
     "data": {
      "text/plain": [
       "(array([  88.,  907., 1596.,  413.,  102.,  271.,  148.,   98.,    9.,\n",
       "           4.]),\n",
       " array([0.44187775, 0.44444438, 0.44701101, 0.44957763, 0.45214426,\n",
       "        0.45471089, 0.45727751, 0.45984414, 0.46241077, 0.46497739,\n",
       "        0.46754402]),\n",
       " <BarContainer object of 10 artists>)"
      ]
     },
     "execution_count": 77,
     "metadata": {},
     "output_type": "execute_result"
    },
    {
     "data": {
      "image/png": "[encoded data removed]",
      "text/plain": [
       "<Figure size 432x288 with 1 Axes>"
      ]
     },
     "metadata": {
      "needs_background": "light"
     },
     "output_type": "display_data"
    }
   ],
   "source": [
    "plt.hist(df_pred[\"d\"].values)"
   ]
  },
  {
   "cell_type": "code",
   "execution_count": 78,
   "id": "designing-delhi",
   "metadata": {},
   "outputs": [
    {
     "data": {
      "text/plain": [
       "(array([   4.,    9.,   98.,  148.,  271.,  102.,  413., 1596.,  907.,\n",
       "          88.]),\n",
       " array([0.53245598, 0.5350226 , 0.53758923, 0.54015585, 0.54272248,\n",
       "        0.5452891 , 0.54785572, 0.55042235, 0.55298897, 0.55555559,\n",
       "        0.55812222]),\n",
       " <BarContainer object of 10 artists>)"
      ]
     },
     "execution_count": 78,
     "metadata": {},
     "output_type": "execute_result"
    },
    {
     "data": {
      "image/png": "[encoded data removed]",
      "text/plain": [
       "<Figure size 432x288 with 1 Axes>"
      ]
     },
     "metadata": {
      "needs_background": "light"
     },
     "output_type": "display_data"
    }
   ],
   "source": [
    "plt.hist(df_pred[\"z\"].values)"
   ]
  },
  {
   "cell_type": "code",
   "execution_count": null,
   "id": "athletic-width",
   "metadata": {},
   "outputs": [],
   "source": []
  }
 ],
 "metadata": {
  "kernelspec": {
   "display_name": "Python 3",
   "language": "python",
   "name": "python3"
  },
  "language_info": {
   "codemirror_mode": {
    "name": "ipython",
    "version": 3
   },
   "file_extension": ".py",
   "mimetype": "text/x-python",
   "name": "python",
   "nbconvert_exporter": "python",
   "pygments_lexer": "ipython3",
   "version": "3.6.11"
  }
 },
 "nbformat": 4,
 "nbformat_minor": 5
}
