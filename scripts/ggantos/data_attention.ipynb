{
 "cells": [
  {
   "cell_type": "code",
   "execution_count": 1,
   "metadata": {},
   "outputs": [],
   "source": [
    "import os\n",
    "import sys\n",
    "import random\n",
    "import numpy as np\n",
    "import pandas as pd\n",
    "import matplotlib.pyplot as plt\n",
    "from sklearn.metrics import mean_absolute_error\n",
    "from sklearn.preprocessing import StandardScaler, MinMaxScaler, MaxAbsScaler, RobustScaler, minmax_scale\n",
    "from datetime import datetime\n",
    "\n",
    "sys.path.append('../../holodecml/')\n",
    "\n",
    "from data import load_scaled_datasets, load_raw_datasets, calc_z_bins"
   ]
  },
  {
   "cell_type": "code",
   "execution_count": 2,
   "metadata": {},
   "outputs": [],
   "source": [
    "path_data = \"/glade/p/cisl/aiml/ai4ess_hackathon/holodec/\"\n",
    "num_particles = \"large\"\n",
    "output_cols = [\"x\", \"y\", \"z\", \"d\", \"hid\"]\n",
    "scaler_out = MinMaxScaler() #use softmax to bind outputs from 0 to 1\n",
    "subset = False\n",
    "num_z_bins = False\n",
    "mass = False\n"
   ]
  },
  {
   "cell_type": "code",
   "execution_count": 3,
   "metadata": {},
   "outputs": [],
   "source": [
    "inputs, outputs = load_raw_datasets(path_data,\n",
    "                                    num_particles, \n",
    "                                    \"train\",\n",
    "                                    output_cols,\n",
    "                                    subset)\n"
   ]
  },
  {
   "cell_type": "code",
   "execution_count": 4,
   "metadata": {},
   "outputs": [],
   "source": [
    "def make_template(df, num_images):\n",
    "    max_particles = df['hid'].value_counts().max()\n",
    "    size = (max_particles * num_images, 1) \n",
    "    x = np.random.uniform(low=df['x'].min(), high=df['x'].max(), size=size)\n",
    "    y = np.random.uniform(low=df['y'].min(), high=df['y'].max(), size=size)\n",
    "    z = np.random.uniform(low=df['z'].min(), high=df['z'].max(), size=size)\n",
    "    d = np.random.uniform(low=df['d'].min(), high=df['d'].max(), size=size)\n",
    "    prob = np.zeros(d.shape)\n",
    "    template = np.hstack((x, y ,z ,d ,prob))\n",
    "    template = template.reshape((num_images, max_particles, -1))\n",
    "    return template\n",
    "\n",
    "def outputs_3d(outputs, num_images):\n",
    "    outputs_array = make_template(outputs, num_images)\n",
    "    print(outputs_array.shape)\n",
    "    for hid in outputs[\"hid\"].unique():\n",
    "        outputs_hid = outputs.loc[outputs['hid'] == hid].to_numpy()\n",
    "        outputs_hid[:, -1] = 1\n",
    "        outputs_array[int(hid-1), :outputs_hid.shape[0], :] = outputs_hid\n",
    "    return outputs_array\n"
   ]
  },
  {
   "cell_type": "code",
   "execution_count": 5,
   "metadata": {},
   "outputs": [
    {
     "data": {
      "text/html": [
       "<div>\n",
       "<style scoped>\n",
       "    .dataframe tbody tr th:only-of-type {\n",
       "        vertical-align: middle;\n",
       "    }\n",
       "\n",
       "    .dataframe tbody tr th {\n",
       "        vertical-align: top;\n",
       "    }\n",
       "\n",
       "    .dataframe thead th {\n",
       "        text-align: right;\n",
       "    }\n",
       "</style>\n",
       "<table border=\"1\" class=\"dataframe\">\n",
       "  <thead>\n",
       "    <tr style=\"text-align: right;\">\n",
       "      <th></th>\n",
       "      <th>x</th>\n",
       "      <th>y</th>\n",
       "      <th>z</th>\n",
       "      <th>d</th>\n",
       "      <th>hid</th>\n",
       "    </tr>\n",
       "    <tr>\n",
       "      <th>particle</th>\n",
       "      <th></th>\n",
       "      <th></th>\n",
       "      <th></th>\n",
       "      <th></th>\n",
       "      <th></th>\n",
       "    </tr>\n",
       "  </thead>\n",
       "  <tbody>\n",
       "    <tr>\n",
       "      <th>0</th>\n",
       "      <td>-159.248978</td>\n",
       "      <td>992.123230</td>\n",
       "      <td>39779.312500</td>\n",
       "      <td>14.298387</td>\n",
       "      <td>1.0</td>\n",
       "    </tr>\n",
       "    <tr>\n",
       "      <th>1</th>\n",
       "      <td>1312.140991</td>\n",
       "      <td>309.901398</td>\n",
       "      <td>24792.720703</td>\n",
       "      <td>38.611160</td>\n",
       "      <td>1.0</td>\n",
       "    </tr>\n",
       "    <tr>\n",
       "      <th>2</th>\n",
       "      <td>-1534.479980</td>\n",
       "      <td>-323.795258</td>\n",
       "      <td>119003.070312</td>\n",
       "      <td>55.779282</td>\n",
       "      <td>1.0</td>\n",
       "    </tr>\n",
       "    <tr>\n",
       "      <th>3</th>\n",
       "      <td>1163.250000</td>\n",
       "      <td>393.965179</td>\n",
       "      <td>126016.921875</td>\n",
       "      <td>63.675018</td>\n",
       "      <td>1.0</td>\n",
       "    </tr>\n",
       "    <tr>\n",
       "      <th>4</th>\n",
       "      <td>-1425.947876</td>\n",
       "      <td>-452.177429</td>\n",
       "      <td>119391.359375</td>\n",
       "      <td>29.566635</td>\n",
       "      <td>1.0</td>\n",
       "    </tr>\n",
       "    <tr>\n",
       "      <th>...</th>\n",
       "      <td>...</td>\n",
       "      <td>...</td>\n",
       "      <td>...</td>\n",
       "      <td>...</td>\n",
       "      <td>...</td>\n",
       "    </tr>\n",
       "    <tr>\n",
       "      <th>373847</th>\n",
       "      <td>-1273.068970</td>\n",
       "      <td>467.297272</td>\n",
       "      <td>119432.562500</td>\n",
       "      <td>37.348354</td>\n",
       "      <td>5000.0</td>\n",
       "    </tr>\n",
       "    <tr>\n",
       "      <th>373848</th>\n",
       "      <td>-271.437988</td>\n",
       "      <td>683.952148</td>\n",
       "      <td>154884.484375</td>\n",
       "      <td>56.189152</td>\n",
       "      <td>5000.0</td>\n",
       "    </tr>\n",
       "    <tr>\n",
       "      <th>373849</th>\n",
       "      <td>-1498.370972</td>\n",
       "      <td>655.821716</td>\n",
       "      <td>54045.691406</td>\n",
       "      <td>101.987999</td>\n",
       "      <td>5000.0</td>\n",
       "    </tr>\n",
       "    <tr>\n",
       "      <th>373850</th>\n",
       "      <td>144.127823</td>\n",
       "      <td>245.457062</td>\n",
       "      <td>107434.710938</td>\n",
       "      <td>70.702576</td>\n",
       "      <td>5000.0</td>\n",
       "    </tr>\n",
       "    <tr>\n",
       "      <th>373851</th>\n",
       "      <td>-781.741272</td>\n",
       "      <td>873.558289</td>\n",
       "      <td>101461.796875</td>\n",
       "      <td>75.675888</td>\n",
       "      <td>5000.0</td>\n",
       "    </tr>\n",
       "  </tbody>\n",
       "</table>\n",
       "<p>373852 rows × 5 columns</p>\n",
       "</div>"
      ],
      "text/plain": [
       "                    x           y              z           d     hid\n",
       "particle                                                            \n",
       "0         -159.248978  992.123230   39779.312500   14.298387     1.0\n",
       "1         1312.140991  309.901398   24792.720703   38.611160     1.0\n",
       "2        -1534.479980 -323.795258  119003.070312   55.779282     1.0\n",
       "3         1163.250000  393.965179  126016.921875   63.675018     1.0\n",
       "4        -1425.947876 -452.177429  119391.359375   29.566635     1.0\n",
       "...               ...         ...            ...         ...     ...\n",
       "373847   -1273.068970  467.297272  119432.562500   37.348354  5000.0\n",
       "373848    -271.437988  683.952148  154884.484375   56.189152  5000.0\n",
       "373849   -1498.370972  655.821716   54045.691406  101.987999  5000.0\n",
       "373850     144.127823  245.457062  107434.710938   70.702576  5000.0\n",
       "373851    -781.741272  873.558289  101461.796875   75.675888  5000.0\n",
       "\n",
       "[373852 rows x 5 columns]"
      ]
     },
     "execution_count": 5,
     "metadata": {},
     "output_type": "execute_result"
    }
   ],
   "source": [
    "outputs"
   ]
  },
  {
   "cell_type": "code",
   "execution_count": 6,
   "metadata": {},
   "outputs": [],
   "source": [
    "template = make_template(outputs, inputs.shape[0])"
   ]
  },
  {
   "cell_type": "code",
   "execution_count": 7,
   "metadata": {},
   "outputs": [
    {
     "name": "stdout",
     "output_type": "stream",
     "text": [
      "false\n"
     ]
    }
   ],
   "source": [
    "if inputs.shape[0] != outputs.shape[0]:\n",
    "    print(\"false\")\n"
   ]
  },
  {
   "cell_type": "code",
   "execution_count": 8,
   "metadata": {},
   "outputs": [
    {
     "data": {
      "text/html": [
       "<div>\n",
       "<style scoped>\n",
       "    .dataframe tbody tr th:only-of-type {\n",
       "        vertical-align: middle;\n",
       "    }\n",
       "\n",
       "    .dataframe tbody tr th {\n",
       "        vertical-align: top;\n",
       "    }\n",
       "\n",
       "    .dataframe thead th {\n",
       "        text-align: right;\n",
       "    }\n",
       "</style>\n",
       "<table border=\"1\" class=\"dataframe\">\n",
       "  <thead>\n",
       "    <tr style=\"text-align: right;\">\n",
       "      <th></th>\n",
       "      <th>x</th>\n",
       "      <th>y</th>\n",
       "      <th>z</th>\n",
       "      <th>d</th>\n",
       "      <th>hid</th>\n",
       "    </tr>\n",
       "    <tr>\n",
       "      <th>particle</th>\n",
       "      <th></th>\n",
       "      <th></th>\n",
       "      <th></th>\n",
       "      <th></th>\n",
       "      <th></th>\n",
       "    </tr>\n",
       "  </thead>\n",
       "  <tbody>\n",
       "    <tr>\n",
       "      <th>0</th>\n",
       "      <td>0.455544</td>\n",
       "      <td>0.920126</td>\n",
       "      <td>0.179021</td>\n",
       "      <td>0.061103</td>\n",
       "      <td>1.0</td>\n",
       "    </tr>\n",
       "    <tr>\n",
       "      <th>1</th>\n",
       "      <td>0.870134</td>\n",
       "      <td>0.631662</td>\n",
       "      <td>0.074948</td>\n",
       "      <td>0.165479</td>\n",
       "      <td>1.0</td>\n",
       "    </tr>\n",
       "    <tr>\n",
       "      <th>2</th>\n",
       "      <td>0.068048</td>\n",
       "      <td>0.363717</td>\n",
       "      <td>0.729188</td>\n",
       "      <td>0.239183</td>\n",
       "      <td>1.0</td>\n",
       "    </tr>\n",
       "    <tr>\n",
       "      <th>3</th>\n",
       "      <td>0.828181</td>\n",
       "      <td>0.667207</td>\n",
       "      <td>0.777896</td>\n",
       "      <td>0.273080</td>\n",
       "      <td>1.0</td>\n",
       "    </tr>\n",
       "    <tr>\n",
       "      <th>4</th>\n",
       "      <td>0.098629</td>\n",
       "      <td>0.309433</td>\n",
       "      <td>0.731885</td>\n",
       "      <td>0.126651</td>\n",
       "      <td>1.0</td>\n",
       "    </tr>\n",
       "    <tr>\n",
       "      <th>...</th>\n",
       "      <td>...</td>\n",
       "      <td>...</td>\n",
       "      <td>...</td>\n",
       "      <td>...</td>\n",
       "      <td>...</td>\n",
       "    </tr>\n",
       "    <tr>\n",
       "      <th>373847</th>\n",
       "      <td>0.141705</td>\n",
       "      <td>0.698214</td>\n",
       "      <td>0.732171</td>\n",
       "      <td>0.160058</td>\n",
       "      <td>5000.0</td>\n",
       "    </tr>\n",
       "    <tr>\n",
       "      <th>373848</th>\n",
       "      <td>0.423932</td>\n",
       "      <td>0.789822</td>\n",
       "      <td>0.978365</td>\n",
       "      <td>0.240942</td>\n",
       "      <td>5000.0</td>\n",
       "    </tr>\n",
       "    <tr>\n",
       "      <th>373849</th>\n",
       "      <td>0.078223</td>\n",
       "      <td>0.777928</td>\n",
       "      <td>0.278094</td>\n",
       "      <td>0.437559</td>\n",
       "      <td>5000.0</td>\n",
       "    </tr>\n",
       "    <tr>\n",
       "      <th>373850</th>\n",
       "      <td>0.541025</td>\n",
       "      <td>0.604413</td>\n",
       "      <td>0.648852</td>\n",
       "      <td>0.303249</td>\n",
       "      <td>5000.0</td>\n",
       "    </tr>\n",
       "    <tr>\n",
       "      <th>373851</th>\n",
       "      <td>0.280146</td>\n",
       "      <td>0.869993</td>\n",
       "      <td>0.607373</td>\n",
       "      <td>0.324600</td>\n",
       "      <td>5000.0</td>\n",
       "    </tr>\n",
       "  </tbody>\n",
       "</table>\n",
       "<p>373852 rows × 5 columns</p>\n",
       "</div>"
      ],
      "text/plain": [
       "                 x         y         z         d     hid\n",
       "particle                                                \n",
       "0         0.455544  0.920126  0.179021  0.061103     1.0\n",
       "1         0.870134  0.631662  0.074948  0.165479     1.0\n",
       "2         0.068048  0.363717  0.729188  0.239183     1.0\n",
       "3         0.828181  0.667207  0.777896  0.273080     1.0\n",
       "4         0.098629  0.309433  0.731885  0.126651     1.0\n",
       "...            ...       ...       ...       ...     ...\n",
       "373847    0.141705  0.698214  0.732171  0.160058  5000.0\n",
       "373848    0.423932  0.789822  0.978365  0.240942  5000.0\n",
       "373849    0.078223  0.777928  0.278094  0.437559  5000.0\n",
       "373850    0.541025  0.604413  0.648852  0.303249  5000.0\n",
       "373851    0.280146  0.869993  0.607373  0.324600  5000.0\n",
       "\n",
       "[373852 rows x 5 columns]"
      ]
     },
     "execution_count": 8,
     "metadata": {},
     "output_type": "execute_result"
    }
   ],
   "source": [
    "scale_cols = [x for x in output_cols if x != 'hid']\n",
    "outputs[scale_cols] = scaler_out.fit_transform(outputs[scale_cols])\n",
    "outputs\n"
   ]
  },
  {
   "cell_type": "code",
   "execution_count": 9,
   "metadata": {},
   "outputs": [
    {
     "name": "stdout",
     "output_type": "stream",
     "text": [
      "(5000, 100, 5)\n"
     ]
    },
    {
     "data": {
      "text/plain": [
       "(5000, 100, 5)"
      ]
     },
     "execution_count": 9,
     "metadata": {},
     "output_type": "execute_result"
    }
   ],
   "source": [
    "outputs_3d = outputs_3d(outputs, inputs.shape[0])\n",
    "outputs_3d.shape\n"
   ]
  },
  {
   "cell_type": "code",
   "execution_count": 11,
   "metadata": {},
   "outputs": [
    {
     "data": {
      "text/plain": [
       "array([0.45554373, 0.92012572, 0.17902146, 0.06110322, 1.        ])"
      ]
     },
     "execution_count": 11,
     "metadata": {},
     "output_type": "execute_result"
    }
   ],
   "source": [
    "outputs_3d[0][0]"
   ]
  },
  {
   "cell_type": "code",
   "execution_count": 15,
   "metadata": {},
   "outputs": [
    {
     "data": {
      "text/plain": [
       "array([0.99451869, 0.124138  , 0.13986373, 0.73327381, 0.        ])"
      ]
     },
     "execution_count": 15,
     "metadata": {},
     "output_type": "execute_result"
    }
   ],
   "source": [
    "outputs_3d[0][58]"
   ]
  },
  {
   "cell_type": "code",
   "execution_count": null,
   "metadata": {},
   "outputs": [],
   "source": []
  },
  {
   "cell_type": "code",
   "execution_count": null,
   "metadata": {},
   "outputs": [],
   "source": []
  },
  {
   "cell_type": "code",
   "execution_count": null,
   "metadata": {},
   "outputs": [],
   "source": []
  }
 ],
 "metadata": {
  "kernelspec": {
   "display_name": "Python 3",
   "language": "python",
   "name": "python3"
  },
  "language_info": {
   "codemirror_mode": {
    "name": "ipython",
    "version": 3
   },
   "file_extension": ".py",
   "mimetype": "text/x-python",
   "name": "python",
   "nbconvert_exporter": "python",
   "pygments_lexer": "ipython3",
   "version": "3.6.8"
  }
 },
 "nbformat": 4,
 "nbformat_minor": 4
}
