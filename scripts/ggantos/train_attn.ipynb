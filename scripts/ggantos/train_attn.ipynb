{
 "cells": [
  {
   "cell_type": "code",
   "execution_count": null,
   "metadata": {},
   "outputs": [],
   "source": [
    "import sys\n",
    "from sklearn.preprocessing import StandardScaler, MinMaxScaler, MaxAbsScaler, RobustScaler, minmax_scale\n",
    "import tensorflow as tf\n",
    "from tensorflow.keras.losses import mean_absolute_error, binary_crossentropy\n",
    "import numpy as np\n",
    "\n",
    "from holodecml.data import load_scaled_datasets, load_raw_datasets, calc_z_bins\n",
    "from holodecml.models import attention_net_loss"
   ]
  },
  {
   "cell_type": "code",
   "execution_count": null,
   "metadata": {},
   "outputs": [],
   "source": [
    "path_data = \"/glade/p/cisl/aiml/ai4ess_hackathon/holodec/\"\n",
    "num_particles = \"large\"\n",
    "output_cols = [\"x\", \"y\", \"z\", \"d\", \"hid\"]\n",
    "scaler_out = MinMaxScaler()\n",
    "subset = 0.25\n",
    "num_z_bins = False\n",
    "mass = False\n"
   ]
  },
  {
   "cell_type": "code",
   "execution_count": null,
   "metadata": {},
   "outputs": [],
   "source": [
    "train_inputs,\\\n",
    "train_outputs,\\\n",
    "valid_inputs,\\\n",
    "valid_outputs = load_scaled_datasets(path_data,\n",
    "                                     num_particles,\n",
    "                                     output_cols,\n",
    "                                     scaler_out,\n",
    "                                     subset,\n",
    "                                     num_z_bins,\n",
    "                                     mass)\n"
   ]
  },
  {
   "cell_type": "code",
   "execution_count": null,
   "metadata": {},
   "outputs": [],
   "source": [
    "train_inputs_raw, train_outputs_raw = load_raw_datasets(path_data,\n",
    "                                                        num_particles, \n",
    "                                                        \"train\",\n",
    "                                                        output_cols,\n",
    "                                                        subset)\n"
   ]
  },
  {
   "cell_type": "code",
   "execution_count": null,
   "metadata": {},
   "outputs": [],
   "source": [
    "def make_template(df, num_images):\n",
    "    max_particles = df['hid'].value_counts().max()\n",
    "    size = (max_particles * num_images, 1) \n",
    "    x = np.random.uniform(low=df['x'].min(), high=df['x'].max(), size=size)\n",
    "    y = np.random.uniform(low=df['y'].min(), high=df['y'].max(), size=size)\n",
    "    z = np.random.uniform(low=df['z'].min(), high=df['z'].max(), size=size)\n",
    "    d = np.random.uniform(low=df['d'].min(), high=df['d'].max(), size=size)\n",
    "    prob = np.zeros(d.shape)\n",
    "    template = np.hstack((x, y ,z ,d ,prob))\n",
    "    template = template.reshape((num_images, max_particles, -1))\n",
    "    return template"
   ]
  },
  {
   "cell_type": "code",
   "execution_count": null,
   "metadata": {},
   "outputs": [],
   "source": [
    "template = make_template(train_outputs_raw, train_inputs_raw.shape[0])\n",
    "template[:,:50,-1] = 1"
   ]
  },
  {
   "cell_type": "code",
   "execution_count": null,
   "metadata": {},
   "outputs": [],
   "source": [
    "y_true = tf.Variable(template)\n"
   ]
  },
  {
   "cell_type": "code",
   "execution_count": null,
   "metadata": {},
   "outputs": [],
   "source": [
    "y_true.shape"
   ]
  },
  {
   "cell_type": "code",
   "execution_count": null,
   "metadata": {},
   "outputs": [],
   "source": [
    "def attention_net_loss(y_true, y_pred):\n",
    "    # y_true and y_pred will have shape (batch_size x max_num_particles x 5)\n",
    "    loss_real = tf.reduce_mean(tf.abs(y_true[y_true[:, :, -1] > 0] - y_pred[y_true[:, :, -1] > 0]))\n",
    "    \n",
    "    loss_bce = binary_crossentropy(tf.reshape(y_true[:,:,-1], (y_true.shape[0]*y_true.shape[1])),\n",
    "                                   tf.reshape(y_pred[:,:,-1], (y_true.shape[0]*y_true.shape[1])))\n",
    "    loss_total\n",
    "    return loss_total"
   ]
  },
  {
   "cell_type": "code",
   "execution_count": null,
   "metadata": {},
   "outputs": [],
   "source": [
    "loss_real, loss_bce = attention_net_loss(y_true, y_true)\n",
    "print(loss_real)\n",
    "print(loss_bce)"
   ]
  },
  {
   "cell_type": "code",
   "execution_count": null,
   "metadata": {},
   "outputs": [],
   "source": []
  },
  {
   "cell_type": "code",
   "execution_count": null,
   "metadata": {},
   "outputs": [],
   "source": [
    "!python train_attn.py attn.yml"
   ]
  },
  {
   "cell_type": "code",
   "execution_count": null,
   "metadata": {},
   "outputs": [],
   "source": []
  }
 ],
 "metadata": {
  "kernelspec": {
   "display_name": "Python 3",
   "language": "python",
   "name": "python3"
  },
  "language_info": {
   "codemirror_mode": {
    "name": "ipython",
    "version": 3
   },
   "file_extension": ".py",
   "mimetype": "text/x-python",
   "name": "python",
   "nbconvert_exporter": "python",
   "pygments_lexer": "ipython3",
   "version": "3.6.8"
  }
 },
 "nbformat": 4,
 "nbformat_minor": 4
}
