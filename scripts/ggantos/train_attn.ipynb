{
 "cells": [
  {
   "cell_type": "code",
   "execution_count": null,
   "metadata": {},
   "outputs": [],
   "source": [
    "import sys\n",
    "from sklearn.preprocessing import StandardScaler, MinMaxScaler, MaxAbsScaler, RobustScaler, minmax_scale\n",
    "import tensorflow as tf\n",
    "from tensorflow.keras.losses import mean_absolute_error, binary_crossentropy\n",
    "import numpy as np\n",
    "\n",
    "from holodecml.data import load_scaled_datasets, load_raw_datasets, calc_z_bins\n",
    "from holodecml.models import attention_net_loss"
   ]
  },
  {
   "cell_type": "code",
   "execution_count": null,
   "metadata": {},
   "outputs": [],
   "source": [
    "path_data = \"/glade/p/cisl/aiml/ai4ess_hackathon/holodec/\"\n",
    "num_particles = \"large\"\n",
    "output_cols = [\"x\", \"y\", \"z\", \"d\", \"hid\"]\n",
    "scaler_out = MinMaxScaler()\n",
    "subset = 0.25\n",
    "num_z_bins = False\n",
    "mass = False\n"
   ]
  },
  {
   "cell_type": "code",
   "execution_count": null,
   "metadata": {},
   "outputs": [],
   "source": [
    "train_inputs,\\\n",
    "train_outputs,\\\n",
    "valid_inputs,\\\n",
    "valid_outputs = load_scaled_datasets(path_data,\n",
    "                                     num_particles,\n",
    "                                     output_cols,\n",
    "                                     scaler_out,\n",
    "                                     subset,\n",
    "                                     num_z_bins,\n",
    "                                     mass)\n"
   ]
  },
  {
   "cell_type": "code",
   "execution_count": null,
   "metadata": {},
   "outputs": [],
   "source": [
    "train_inputs_raw, train_outputs_raw = load_raw_datasets(path_data,\n",
    "                                                        num_particles, \n",
    "                                                        \"train\",\n",
    "                                                        output_cols,\n",
    "                                                        subset)\n"
   ]
  },
  {
   "cell_type": "code",
   "execution_count": null,
   "metadata": {},
   "outputs": [],
   "source": [
    "def make_template(df, num_images):\n",
    "    max_particles = df['hid'].value_counts().max()\n",
    "    size = (max_particles * num_images, 1) \n",
    "    x = np.random.uniform(low=df['x'].min(), high=df['x'].max(), size=size)\n",
    "    y = np.random.uniform(low=df['y'].min(), high=df['y'].max(), size=size)\n",
    "    z = np.random.uniform(low=df['z'].min(), high=df['z'].max(), size=size)\n",
    "    d = np.random.uniform(low=df['d'].min(), high=df['d'].max(), size=size)\n",
    "    prob = np.zeros(d.shape)\n",
    "    template = np.hstack((x, y ,z ,d ,prob))\n",
    "    template = template.reshape((num_images, max_particles, -1))\n",
    "    return template"
   ]
  },
  {
   "cell_type": "code",
   "execution_count": null,
   "metadata": {},
   "outputs": [],
   "source": [
    "template = make_template(train_outputs_raw, train_inputs_raw.shape[0])\n",
    "template[:,:50,-1] = 1"
   ]
  },
  {
   "cell_type": "code",
   "execution_count": null,
   "metadata": {},
   "outputs": [],
   "source": [
    "y_true = tf.Variable(template)\n"
   ]
  },
  {
   "cell_type": "code",
   "execution_count": null,
   "metadata": {},
   "outputs": [],
   "source": [
    "y_true.shape"
   ]
  },
  {
   "cell_type": "code",
   "execution_count": null,
   "metadata": {},
   "outputs": [],
   "source": [
    "def attention_net_loss(y_true, y_pred):\n",
    "    # y_true and y_pred will have shape (batch_size x max_num_particles x 5)\n",
    "    loss_real = tf.reduce_mean(tf.abs(y_true[y_true[:, :, -1] > 0] - y_pred[y_true[:, :, -1] > 0]))\n",
    "    \n",
    "    print(loss_real)\n",
    "    loss_bce = binary_crossentropy(tf.reshape(y_true[:,:,-1], (y_true.shape[0]*y_true.shape[1])),\n",
    "                                   tf.reshape(y_pred[:,:,-1], (y_true.shape[0]*y_true.shape[1])))\n",
    "    print(loss_bce)\n",
    "    loss_total = loss_real + loss_bce\n",
    "    return loss_total"
   ]
  },
  {
   "cell_type": "code",
   "execution_count": null,
   "metadata": {},
   "outputs": [],
   "source": [
    "loss_real = attention_net_loss(y_true, y_true)\n",
    "print(loss_real)\n"
   ]
  },
  {
   "cell_type": "code",
   "execution_count": null,
   "metadata": {},
   "outputs": [],
   "source": []
  },
  {
   "cell_type": "code",
   "execution_count": 2,
   "metadata": {},
   "outputs": [
    {
     "name": "stdout",
     "output_type": "stream",
     "text": [
      "Starting script...\n",
      "Loading data...\n",
      "2020-09-30 14:24:02.198468: I tensorflow/stream_executor/platform/default/dso_loader.cc:44] Successfully opened dynamic library libcuda.so.1\n",
      "2020-09-30 14:24:02.238384: I tensorflow/core/common_runtime/gpu/gpu_device.cc:1561] Found device 0 with properties: \n",
      "pciBusID: 0000:61:00.0 name: Tesla V100-SXM2-32GB computeCapability: 7.0\n",
      "coreClock: 1.53GHz coreCount: 80 deviceMemorySize: 31.75GiB deviceMemoryBandwidth: 836.37GiB/s\n",
      "2020-09-30 14:24:02.252296: I tensorflow/stream_executor/platform/default/dso_loader.cc:44] Successfully opened dynamic library libcudart.so.10.1\n",
      "2020-09-30 14:24:02.262676: I tensorflow/stream_executor/platform/default/dso_loader.cc:44] Successfully opened dynamic library libcublas.so.10\n",
      "2020-09-30 14:24:02.272090: I tensorflow/stream_executor/platform/default/dso_loader.cc:44] Successfully opened dynamic library libcufft.so.10\n",
      "2020-09-30 14:24:02.274373: I tensorflow/stream_executor/platform/default/dso_loader.cc:44] Successfully opened dynamic library libcurand.so.10\n",
      "2020-09-30 14:24:02.280810: I tensorflow/stream_executor/platform/default/dso_loader.cc:44] Successfully opened dynamic library libcusolver.so.10\n",
      "2020-09-30 14:24:02.283926: I tensorflow/stream_executor/platform/default/dso_loader.cc:44] Successfully opened dynamic library libcusparse.so.10\n",
      "2020-09-30 14:24:02.291872: I tensorflow/stream_executor/platform/default/dso_loader.cc:44] Successfully opened dynamic library libcudnn.so.7\n",
      "2020-09-30 14:24:02.294199: I tensorflow/core/common_runtime/gpu/gpu_device.cc:1703] Adding visible gpu devices: 0\n",
      "2020-09-30 14:24:02.294645: I tensorflow/core/platform/cpu_feature_guard.cc:143] Your CPU supports instructions that this TensorFlow binary was not compiled to use: AVX2 AVX512F FMA\n",
      "2020-09-30 14:24:02.306214: I tensorflow/core/platform/profile_utils/cpu_utils.cc:102] CPU Frequency: 2300000000 Hz\n",
      "2020-09-30 14:24:02.306379: I tensorflow/compiler/xla/service/service.cc:168] XLA service 0x162d0290 initialized for platform Host (this does not guarantee that XLA will be used). Devices:\n",
      "2020-09-30 14:24:02.306398: I tensorflow/compiler/xla/service/service.cc:176]   StreamExecutor device (0): Host, Default Version\n",
      "2020-09-30 14:24:02.416058: I tensorflow/compiler/xla/service/service.cc:168] XLA service 0xfbfed30 initialized for platform CUDA (this does not guarantee that XLA will be used). Devices:\n",
      "2020-09-30 14:24:02.416096: I tensorflow/compiler/xla/service/service.cc:176]   StreamExecutor device (0): Tesla V100-SXM2-32GB, Compute Capability 7.0\n",
      "2020-09-30 14:24:02.417388: I tensorflow/core/common_runtime/gpu/gpu_device.cc:1561] Found device 0 with properties: \n",
      "pciBusID: 0000:61:00.0 name: Tesla V100-SXM2-32GB computeCapability: 7.0\n",
      "coreClock: 1.53GHz coreCount: 80 deviceMemorySize: 31.75GiB deviceMemoryBandwidth: 836.37GiB/s\n",
      "2020-09-30 14:24:02.417451: I tensorflow/stream_executor/platform/default/dso_loader.cc:44] Successfully opened dynamic library libcudart.so.10.1\n",
      "2020-09-30 14:24:02.417465: I tensorflow/stream_executor/platform/default/dso_loader.cc:44] Successfully opened dynamic library libcublas.so.10\n",
      "2020-09-30 14:24:02.417479: I tensorflow/stream_executor/platform/default/dso_loader.cc:44] Successfully opened dynamic library libcufft.so.10\n",
      "2020-09-30 14:24:02.417491: I tensorflow/stream_executor/platform/default/dso_loader.cc:44] Successfully opened dynamic library libcurand.so.10\n",
      "2020-09-30 14:24:02.417504: I tensorflow/stream_executor/platform/default/dso_loader.cc:44] Successfully opened dynamic library libcusolver.so.10\n",
      "2020-09-30 14:24:02.417517: I tensorflow/stream_executor/platform/default/dso_loader.cc:44] Successfully opened dynamic library libcusparse.so.10\n",
      "2020-09-30 14:24:02.417529: I tensorflow/stream_executor/platform/default/dso_loader.cc:44] Successfully opened dynamic library libcudnn.so.7\n",
      "2020-09-30 14:24:02.419663: I tensorflow/core/common_runtime/gpu/gpu_device.cc:1703] Adding visible gpu devices: 0\n",
      "2020-09-30 14:24:02.419712: I tensorflow/stream_executor/platform/default/dso_loader.cc:44] Successfully opened dynamic library libcudart.so.10.1\n",
      "2020-09-30 14:24:02.421416: I tensorflow/core/common_runtime/gpu/gpu_device.cc:1102] Device interconnect StreamExecutor with strength 1 edge matrix:\n",
      "2020-09-30 14:24:02.421439: I tensorflow/core/common_runtime/gpu/gpu_device.cc:1108]      0 \n",
      "2020-09-30 14:24:02.421450: I tensorflow/core/common_runtime/gpu/gpu_device.cc:1121] 0:   N \n",
      "2020-09-30 14:24:02.423681: I tensorflow/core/common_runtime/gpu/gpu_device.cc:1247] Created TensorFlow device (/job:localhost/replica:0/task:0/device:GPU:0 with 30269 MB memory) -> physical GPU (device: 0, name: Tesla V100-SXM2-32GB, pci bus id: 0000:61:00.0, compute capability: 7.0)\n",
      "Epoch 1/2\n",
      "Traceback (most recent call last):\n",
      "  File \"train_attn.py\", line 118, in <module>\n",
      "    main()\n",
      "  File \"train_attn.py\", line 85, in main\n",
      "    verbose=config['attn_network']['verbose'])\n",
      "  File \"/glade/work/ggantos/ncar_20200417/lib/python3.6/site-packages/tensorflow/python/keras/engine/training.py\", line 66, in _method_wrapper\n",
      "    return method(self, *args, **kwargs)\n",
      "  File \"/glade/work/ggantos/ncar_20200417/lib/python3.6/site-packages/tensorflow/python/keras/engine/training.py\", line 848, in fit\n",
      "    tmp_logs = train_function(iterator)\n",
      "  File \"/glade/work/ggantos/ncar_20200417/lib/python3.6/site-packages/tensorflow/python/eager/def_function.py\", line 580, in __call__\n",
      "    result = self._call(*args, **kwds)\n",
      "  File \"/glade/work/ggantos/ncar_20200417/lib/python3.6/site-packages/tensorflow/python/eager/def_function.py\", line 627, in _call\n",
      "    self._initialize(args, kwds, add_initializers_to=initializers)\n",
      "  File \"/glade/work/ggantos/ncar_20200417/lib/python3.6/site-packages/tensorflow/python/eager/def_function.py\", line 506, in _initialize\n",
      "    *args, **kwds))\n",
      "  File \"/glade/work/ggantos/ncar_20200417/lib/python3.6/site-packages/tensorflow/python/eager/function.py\", line 2446, in _get_concrete_function_internal_garbage_collected\n",
      "    graph_function, _, _ = self._maybe_define_function(args, kwargs)\n",
      "  File \"/glade/work/ggantos/ncar_20200417/lib/python3.6/site-packages/tensorflow/python/eager/function.py\", line 2777, in _maybe_define_function\n",
      "    graph_function = self._create_graph_function(args, kwargs)\n",
      "  File \"/glade/work/ggantos/ncar_20200417/lib/python3.6/site-packages/tensorflow/python/eager/function.py\", line 2667, in _create_graph_function\n",
      "    capture_by_value=self._capture_by_value),\n",
      "  File \"/glade/work/ggantos/ncar_20200417/lib/python3.6/site-packages/tensorflow/python/framework/func_graph.py\", line 981, in func_graph_from_py_func\n",
      "    func_outputs = python_func(*func_args, **func_kwargs)\n",
      "  File \"/glade/work/ggantos/ncar_20200417/lib/python3.6/site-packages/tensorflow/python/eager/def_function.py\", line 441, in wrapped_fn\n",
      "    return weak_wrapped_fn().__wrapped__(*args, **kwds)\n",
      "  File \"/glade/work/ggantos/ncar_20200417/lib/python3.6/site-packages/tensorflow/python/framework/func_graph.py\", line 968, in wrapper\n",
      "    raise e.ag_error_metadata.to_exception(e)\n",
      "ValueError: in user code:\n",
      "\n",
      "    /glade/work/ggantos/ncar_20200417/lib/python3.6/site-packages/tensorflow/python/keras/engine/training.py:571 train_function  *\n",
      "        outputs = self.distribute_strategy.run(\n",
      "    /glade/work/ggantos/ncar_20200417/lib/python3.6/site-packages/tensorflow/python/distribute/distribute_lib.py:951 run  **\n",
      "        return self._extended.call_for_each_replica(fn, args=args, kwargs=kwargs)\n",
      "    /glade/work/ggantos/ncar_20200417/lib/python3.6/site-packages/tensorflow/python/distribute/distribute_lib.py:2290 call_for_each_replica\n",
      "        return self._call_for_each_replica(fn, args, kwargs)\n",
      "    /glade/work/ggantos/ncar_20200417/lib/python3.6/site-packages/tensorflow/python/distribute/distribute_lib.py:2649 _call_for_each_replica\n",
      "        return fn(*args, **kwargs)\n",
      "    /glade/work/ggantos/ncar_20200417/lib/python3.6/site-packages/tensorflow/python/keras/engine/training.py:533 train_step  **\n",
      "        y, y_pred, sample_weight, regularization_losses=self.losses)\n",
      "    /glade/work/ggantos/ncar_20200417/lib/python3.6/site-packages/tensorflow/python/keras/engine/compile_utils.py:205 __call__\n",
      "        loss_value = loss_obj(y_t, y_p, sample_weight=sw)\n",
      "    /glade/work/ggantos/ncar_20200417/lib/python3.6/site-packages/tensorflow/python/keras/losses.py:143 __call__\n",
      "        losses = self.call(y_true, y_pred)\n",
      "    /glade/work/ggantos/ncar_20200417/lib/python3.6/site-packages/tensorflow/python/keras/losses.py:246 call\n",
      "        return self.fn(y_true, y_pred, **self._fn_kwargs)\n",
      "    /glade/work/ggantos/holodec-ml/holodecml/losses.py:39 attention_net_loss\n",
      "        loss_real = tf.reduce_mean(tf.abs(y_true[y_true[:, :, -1] > 0] - y_pred[y_true[:, :, -1] > 0]))\n",
      "    /glade/work/ggantos/ncar_20200417/lib/python3.6/site-packages/tensorflow/python/ops/math_ops.py:984 binary_op_wrapper\n",
      "        return func(x, y, name=name)\n",
      "    /glade/work/ggantos/ncar_20200417/lib/python3.6/site-packages/tensorflow/python/ops/gen_math_ops.py:10103 sub\n",
      "        \"Sub\", x=x, y=y, name=name)\n",
      "    /glade/work/ggantos/ncar_20200417/lib/python3.6/site-packages/tensorflow/python/framework/op_def_library.py:744 _apply_op_helper\n",
      "        attrs=attr_protos, op_def=op_def)\n",
      "    /glade/work/ggantos/ncar_20200417/lib/python3.6/site-packages/tensorflow/python/framework/func_graph.py:595 _create_op_internal\n",
      "        compute_device)\n",
      "    /glade/work/ggantos/ncar_20200417/lib/python3.6/site-packages/tensorflow/python/framework/ops.py:3327 _create_op_internal\n",
      "        op_def=op_def)\n",
      "    /glade/work/ggantos/ncar_20200417/lib/python3.6/site-packages/tensorflow/python/framework/ops.py:1817 __init__\n",
      "        control_input_ops, op_def)\n",
      "    /glade/work/ggantos/ncar_20200417/lib/python3.6/site-packages/tensorflow/python/framework/ops.py:1657 _create_c_op\n",
      "        raise ValueError(str(e))\n",
      "\n",
      "    ValueError: Dimensions must be equal, but are 5 and 2 for '{{node attention_net_loss/sub}} = Sub[T=DT_FLOAT](attention_net_loss/boolean_mask/GatherV2, attention_net_loss/boolean_mask_1/GatherV2)' with input shapes: [?,5], [?,2].\n",
      "\n"
     ]
    }
   ],
   "source": [
    "!python train_attn.py ../../config/attn.yml"
   ]
  },
  {
   "cell_type": "code",
   "execution_count": null,
   "metadata": {},
   "outputs": [],
   "source": []
  }
 ],
 "metadata": {
  "kernelspec": {
   "display_name": "Python 3",
   "language": "python",
   "name": "python3"
  },
  "language_info": {
   "codemirror_mode": {
    "name": "ipython",
    "version": 3
   },
   "file_extension": ".py",
   "mimetype": "text/x-python",
   "name": "python",
   "nbconvert_exporter": "python",
   "pygments_lexer": "ipython3",
   "version": "3.6.8"
  }
 },
 "nbformat": 4,
 "nbformat_minor": 4
}
