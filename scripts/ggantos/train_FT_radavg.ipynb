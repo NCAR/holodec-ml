{
 "cells": [
  {
   "cell_type": "code",
   "execution_count": 1,
   "metadata": {},
   "outputs": [],
   "source": [
    "import os\n",
    "import xarray as xr\n",
    "from sklearn.preprocessing import StandardScaler, MinMaxScaler, MaxAbsScaler, RobustScaler, minmax_scale\n",
    "\n",
    "import holodecml.ml_utils as ml\n"
   ]
  },
  {
   "cell_type": "code",
   "execution_count": 7,
   "metadata": {},
   "outputs": [],
   "source": [
    "path_data = \"/glade/p/cisl/aiml/ggantos/holodec/ft_rad_bidis/\"\n",
    "# path_data = \"/glade/p/cisl/aiml/ggantos/holodec/ft_rad_bidis_z/\"\n",
    "# path_data = \"/glade/p/cisl/aiml/ggantos/holodec/ft_rad_bidis_z_realimag/\"\n",
    "fns = [x for x in os.walk(path_data)][0][2]\n",
    "fn_train = [x for x in fns if 'training' in x][0]\n",
    "fn_valid = [x for x in fns if 'validation' in x][0]\n",
    "fn_test = [x for x in fns if 'test' in x][0]\n",
    "\n",
    "batch_size = 256\n",
    "label_variable = 'histogram'  # data variable used labels for training\n",
    "input_variable = 'input_image'  # data variable used as an input\n"
   ]
  },
  {
   "cell_type": "code",
   "execution_count": 8,
   "metadata": {},
   "outputs": [
    {
     "name": "stdout",
     "output_type": "stream",
     "text": [
      "Loading TRAINING dataset\n",
      "\n",
      "\ttrain_labels.shape:(5000, 19, 1)\n",
      "\n",
      "\tscaled_train_labels.shape:(5000, 19, 1)\n",
      "\n",
      "\ttrain_data.shape:(5000, 600, 1)\n",
      "\n",
      "\tscaled_train_input.shape:(5000, 600, 1)\n"
     ]
    }
   ],
   "source": [
    "with xr.open_dataset(path_data+fn_train, chunks={'hologram_number': batch_size}) as ds:\n",
    "    print(\"Loading TRAINING dataset\")\n",
    "\n",
    "    train_labels = ds[label_variable]\n",
    "    print(f\"\\n\\ttrain_labels.shape:{train_labels.shape}\")\n",
    "    output_scaler = ml.MinMaxScalerX(train_labels)\n",
    "    scaled_train_labels = output_scaler.fit_transform(train_labels)\n",
    "    print(f\"\\n\\tscaled_train_labels.shape:{scaled_train_labels.shape}\")\n",
    "\n",
    "    if len(ds[input_variable].dims) == 4:\n",
    "        train_data = ds[input_variable].transpose('hologram_number','xsize','ysize','input_channels')\n",
    "    elif len(ds[input_variable].dims) == 3:\n",
    "        train_data = ds[input_variable].transpose('hologram_number','rsize','input_channels')\n",
    "    print(f\"\\n\\ttrain_data.shape:{train_data.shape}\")\n",
    "    input_scaler = ml.MinMaxScalerX(train_data)\n",
    "    scaled_train_input = input_scaler.fit_transform(train_data)\n",
    "    print(f\"\\n\\tscaled_train_input.shape:{scaled_train_input.shape}\")\n"
   ]
  },
  {
   "cell_type": "code",
   "execution_count": 9,
   "metadata": {},
   "outputs": [
    {
     "data": {
      "text/plain": [
       "array([[[0.04878049],\n",
       "        [0.19512195],\n",
       "        [0.24390244],\n",
       "        ...,\n",
       "        [0.        ],\n",
       "        [0.        ],\n",
       "        [0.        ]],\n",
       "\n",
       "       [[0.31707317],\n",
       "        [0.41463415],\n",
       "        [0.17073171],\n",
       "        ...,\n",
       "        [0.        ],\n",
       "        [0.        ],\n",
       "        [0.        ]],\n",
       "\n",
       "       [[0.02439024],\n",
       "        [0.14634146],\n",
       "        [0.34146341],\n",
       "        ...,\n",
       "        [0.        ],\n",
       "        [0.        ],\n",
       "        [0.        ]],\n",
       "\n",
       "       ...,\n",
       "\n",
       "       [[0.17073171],\n",
       "        [0.56097561],\n",
       "        [0.46341463],\n",
       "        ...,\n",
       "        [0.        ],\n",
       "        [0.        ],\n",
       "        [0.        ]],\n",
       "\n",
       "       [[0.        ],\n",
       "        [0.07317073],\n",
       "        [0.2195122 ],\n",
       "        ...,\n",
       "        [0.        ],\n",
       "        [0.        ],\n",
       "        [0.        ]],\n",
       "\n",
       "       [[0.        ],\n",
       "        [0.        ],\n",
       "        [0.14634146],\n",
       "        ...,\n",
       "        [0.        ],\n",
       "        [0.        ],\n",
       "        [0.        ]]])"
      ]
     },
     "execution_count": 9,
     "metadata": {},
     "output_type": "execute_result"
    }
   ],
   "source": [
    "scaled_train_labels.values"
   ]
  },
  {
   "cell_type": "code",
   "execution_count": 4,
   "metadata": {},
   "outputs": [
    {
     "name": "stdout",
     "output_type": "stream",
     "text": [
      "Loading VALIDATION dataset\n",
      "\n",
      "\tvalid_labels.shape:(1000, 19, 1)\n",
      "\n",
      "\tscaled_valid_labels.shape:(1000, 19, 1)\n",
      "\n",
      "\tvalid_data.shape:(1000, 600, 1)\n",
      "\n",
      "\tscaled_valid_input.shape:(1000, 600, 1)\n"
     ]
    }
   ],
   "source": [
    "with xr.open_dataset(path_data+fn_valid, chunks={'hologram_number': batch_size}) as ds:\n",
    "    print(\"Loading VALIDATION dataset\")\n",
    "\n",
    "    valid_labels = ds[label_variable]\n",
    "    print(f\"\\n\\tvalid_labels.shape:{valid_labels.shape}\")\n",
    "    output_scaler = ml.MinMaxScalerX(valid_labels)\n",
    "    scaled_valid_labels = output_scaler.fit_transform(valid_labels)\n",
    "    print(f\"\\n\\tscaled_valid_labels.shape:{scaled_valid_labels.shape}\")\n",
    "\n",
    "    if len(ds[input_variable].dims) == 4:\n",
    "        valid_data = ds[input_variable].transpose('hologram_number','xsize','ysize','input_channels')\n",
    "    elif len(ds[input_variable].dims) == 3:\n",
    "        valid_data = ds[input_variable].transpose('hologram_number','rsize','input_channels')\n",
    "    print(f\"\\n\\tvalid_data.shape:{valid_data.shape}\")\n",
    "    input_scaler = ml.MinMaxScalerX(valid_data)\n",
    "    scaled_valid_input = input_scaler.fit_transform(valid_data)\n",
    "    print(f\"\\n\\tscaled_valid_input.shape:{scaled_valid_input.shape}\")"
   ]
  },
  {
   "cell_type": "code",
   "execution_count": null,
   "metadata": {},
   "outputs": [],
   "source": [
    "    mod = Sequential()\n",
    "    mod.add(Input(shape=scaled_train_input.shape[1:]))\n"
   ]
  },
  {
   "cell_type": "code",
   "execution_count": null,
   "metadata": {},
   "outputs": [],
   "source": [
    "    history = mod.fit(scaled_train_input.values,\n",
    "                  scaled_train_labels.values, \n",
    "                  batch_size=settings['batch_size'], epochs=settings['num_epochs'], verbose=1,\n",
    "                  validation_data=(scaled_valid_input.values,scaled_val_labels.values))\n"
   ]
  }
 ],
 "metadata": {
  "kernelspec": {
   "display_name": "Python 3",
   "language": "python",
   "name": "python3"
  },
  "language_info": {
   "codemirror_mode": {
    "name": "ipython",
    "version": 3
   },
   "file_extension": ".py",
   "mimetype": "text/x-python",
   "name": "python",
   "nbconvert_exporter": "python",
   "pygments_lexer": "ipython3",
   "version": "3.6.8"
  }
 },
 "nbformat": 4,
 "nbformat_minor": 4
}
