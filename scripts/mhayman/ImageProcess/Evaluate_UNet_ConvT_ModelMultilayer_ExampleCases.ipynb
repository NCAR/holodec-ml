{
 "cells": [
  {
   "cell_type": "code",
   "execution_count": null,
   "metadata": {},
   "outputs": [],
   "source": [
    "import sys\n",
    "import numpy as np\n",
    "import xarray as xr\n",
    "\n",
    "from tensorflow.keras.layers import Input, Conv2D, Dense, Flatten, Activation, MaxPool2D, SeparableConv2D, UpSampling2D, concatenate, Conv2DTranspose\n",
    "\n",
    "from tensorflow.keras.models import Model, save_model, load_model\n",
    "from tensorflow.keras.utils import plot_model\n",
    "#from tensorflow import concat\n",
    "import matplotlib.pyplot as plt\n",
    "\n",
    "import datetime\n",
    "%matplotlib inline\n",
    "\n",
    "# set path to local libraries\n",
    "dirP_str = '../../../library'\n",
    "if dirP_str not in sys.path:\n",
    "    sys.path.append(dirP_str)\n",
    "\n",
    "import ml_utils as ml"
   ]
  },
  {
   "cell_type": "code",
   "execution_count": null,
   "metadata": {},
   "outputs": [],
   "source": [
    "ds_path='/scr/sci/mhayman/holodec/holodec-ml-data/'\n",
    "\n",
    "model_file = 'holodec_UNET_16Filt_5Conv_4Pool_4Layers_mse_linear_random_image_multiplane_data_256x256_1000count_1particles_v05_150epochs_run1.h5'\n",
    "model_file = 'holodec_UNET_16Filt_5Conv_4Pool_5Layers_mse_linear_random_image_multiplane_data_256x256_1000count_1particles_v05_150epochs_run1.h5'\n",
    "\n",
    "ds_file = 'random_image_multiplane_data_256x256_1000count_1particles_v05.nc'\n"
   ]
  },
  {
   "cell_type": "code",
   "execution_count": null,
   "metadata": {},
   "outputs": [],
   "source": [
    "ds = xr.open_dataset(ds_path+ds_file)\n",
    "\n",
    "# run_num = 0\n",
    "# num_epochs = 300"
   ]
  },
  {
   "cell_type": "code",
   "execution_count": null,
   "metadata": {},
   "outputs": [],
   "source": [
    "# select holograms to evaluate\n",
    "# index_list = [18,854,247,858,143,832,21,921,222,431,321]\n",
    "index_list = [10]"
   ]
  },
  {
   "cell_type": "code",
   "execution_count": null,
   "metadata": {},
   "outputs": [],
   "source": [
    "ds"
   ]
  },
  {
   "cell_type": "code",
   "execution_count": null,
   "metadata": {},
   "outputs": [],
   "source": [
    "split_index = np.int(0.7*ds.sizes['hologram_number'])  # number of training+validation points\n",
    "valid_index = np.int(0.2*ds.sizes['hologram_number'])  # number of validation points\n",
    "all_labels = ds['labels'] #.sel(type=['amplitude','z'])\n",
    "\n",
    "train_labels = all_labels.isel(hologram_number=slice(valid_index,split_index))\n",
    "test_labels = all_labels.isel(hologram_number=index_list)\n",
    "# val_labels = all_labels.isel(hologram_number=slice(None,valid_index))\n",
    "\n",
    "scaler = ml.MinMaxScalerX(train_labels,dim=('hologram_number','xsize','ysize'))\n",
    "# scaled_train_labels = scaler.fit_transform(train_labels)\n",
    "# scaled_val_labels = scaler.fit_transform(val_labels)\n",
    "scaled_test_labels = scaler.fit_transform(test_labels)\n",
    "# scaled_all_labels = scaler.fit_transform(all_labels)"
   ]
  },
  {
   "cell_type": "code",
   "execution_count": null,
   "metadata": {},
   "outputs": [],
   "source": [
    "in_data = ds['image'].isel(hologram_number=index_list)"
   ]
  },
  {
   "cell_type": "code",
   "execution_count": null,
   "metadata": {},
   "outputs": [],
   "source": [
    "if not 'channel' in in_data.dims:\n",
    "    in_data = in_data.expand_dims(\"channel\", 3)"
   ]
  },
  {
   "cell_type": "code",
   "execution_count": null,
   "metadata": {},
   "outputs": [],
   "source": [
    "scaled_in_data = in_data"
   ]
  },
  {
   "cell_type": "code",
   "execution_count": null,
   "metadata": {},
   "outputs": [],
   "source": [
    "# load the CNN model\n",
    "mod = load_model(ds_path+\"/models/\"+model_file)"
   ]
  },
  {
   "cell_type": "code",
   "execution_count": null,
   "metadata": {},
   "outputs": [],
   "source": [
    "cnn_start = datetime.datetime.now()\n",
    "preds_out = mod.predict(scaled_in_data.values, batch_size=64)\n",
    "cnn_stop = datetime.datetime.now()\n",
    "print(f\"{scaled_in_data.values.shape[0]} samples in {(cnn_stop-cnn_start).total_seconds()} seconds\")\n",
    "print(f\"for {(cnn_stop-cnn_start).total_seconds()/scaled_in_data.values.shape[0]} seconds per hologram\")"
   ]
  },
  {
   "cell_type": "code",
   "execution_count": null,
   "metadata": {},
   "outputs": [],
   "source": [
    "preds_out.shape"
   ]
  },
  {
   "cell_type": "code",
   "execution_count": null,
   "metadata": {},
   "outputs": [],
   "source": [
    "all_labels.coords"
   ]
  },
  {
   "cell_type": "code",
   "execution_count": null,
   "metadata": {},
   "outputs": [],
   "source": [
    "preds_out_da = xr.DataArray(preds_out,dims=('hologram_number','xsize','ysize','layer'),\n",
    "                            coords=test_labels.coords)"
   ]
  },
  {
   "cell_type": "code",
   "execution_count": null,
   "metadata": {},
   "outputs": [],
   "source": [
    "preds_original = scaler.inverse_transform(preds_out_da)"
   ]
  },
  {
   "cell_type": "code",
   "execution_count": null,
   "metadata": {},
   "outputs": [],
   "source": [
    "preds_original"
   ]
  },
  {
   "cell_type": "code",
   "execution_count": null,
   "metadata": {},
   "outputs": [],
   "source": [
    "iscatter = np.nonzero(preds_original.sel(type='amplitude').values.flatten() > 0.2)\n",
    "fig, axes = plt.subplots(1, 2, figsize=(8, 4))\n",
    "for a, clabel in enumerate(test_labels.coords['layer'].values):\n",
    "    ax=axes.ravel()[a]\n",
    "    ax.scatter(test_labels.sel(type=clabel).values.flatten()[iscatter], preds_original.sel(type=clabel).values.flatten()[iscatter], 1, 'k')\n",
    "    diag = np.linspace(test_labels.sel(type=clabel).min(), test_labels.sel(type=clabel).max(), 10)\n",
    "    ax.plot(diag, diag, 'b--' )\n",
    "    ax.set_title(clabel)\n",
    "    plt.savefig(\"results/\"+model_file.replace(\".h5\",\"\")+f\"_SampleScatterPlot\"+f\"_{num_epochs}epochs_run{run_num}_\"+ds_file.replace(\".nc\",\"\")+\".png\",dpi=300)"
   ]
  },
  {
   "cell_type": "code",
   "execution_count": null,
   "metadata": {},
   "outputs": [],
   "source": [
    "preds_original.sizes['layer']"
   ]
  },
  {
   "cell_type": "code",
   "execution_count": null,
   "metadata": {},
   "outputs": [],
   "source": [
    "diff_cmap = plt.get_cmap('seismic')\n",
    "diff_cmap.set_bad(color='gray')\n",
    "\n",
    "z_cmap = plt.get_cmap('viridis')\n",
    "z_cmap.set_bad(color='gray')\n",
    "\n",
    "for ai,ind in enumerate(index_list):\n",
    "    fig, ax = plt.subplots(preds_original.sizes['layer'], 3, figsize=(12, 4*preds_original.sizes['layer']))\n",
    "#     ax = ax.ravel()\n",
    "    \n",
    "    for iax,ch_layer in enumerate(test_labels.coords['layer'].values):\n",
    "        if 'amplitude' in ch_layer:\n",
    "            inan_mask = np.nonzero((preds_original.sel(layer=ch_layer,hologram_number=ind).values < 0.1)* \\\n",
    "                (test_labels.sel(layer=ch_layer,hologram_number=ind).values < 0.1))\n",
    "            nan_mask = np.ones(preds_original.sel(layer=ch_layer,hologram_number=ind).values.shape)\n",
    "            nan_mask[inan_mask] = np.nan\n",
    "            ax[iax,0].imshow(preds_original.sel(layer=ch_layer,hologram_number=ind).values,vmin=0,vmax=1)\n",
    "            ax[iax,1].imshow(test_labels.sel(layer=ch_layer,hologram_number=ind).values,vmin=0,vmax=1)\n",
    "            ax[iax,2].imshow((preds_original.sel(layer=ch_layer,hologram_number=ind).values-test_labels.sel(layer=ch_layer,hologram_number=ind).values)*nan_mask,vmin=-1,vmax=1,cmap=diff_cmap)\n",
    "        elif 'z' in ch_layer:\n",
    "            ax[iax,0].imshow(preds_original.sel(layer=ch_layer,hologram_number=ind).values*nan_mask,vmin=0,vmax=1e-2,cmap=z_cmap)\n",
    "            ax[iax,1].imshow(test_labels.sel(layer=ch_layer,hologram_number=ind).values*nan_mask,vmin=0,vmax=1e-2,cmap=z_cmap)\n",
    "            ax[iax,2].imshow((preds_original.sel(layer=ch_layer,hologram_number=ind).values-test_labels.sel(layer=ch_layer,hologram_number=ind).values)*nan_mask,vmin=-1e-2,vmax=1e-2,cmap=diff_cmap)\n",
    "            \n",
    "    \n",
    "    \n",
    "#     inan_mask = np.nonzero((preds_original.sel(type='amplitude',hologram_number=ind).values < 0.1)* \\\n",
    "#         (test_labels.sel(type='amplitude',hologram_number=ind).values < 0.1))\n",
    "#     nan_mask = np.ones(preds_original.sel(type='amplitude',hologram_number=ind).values.shape)\n",
    "#     nan_mask[inan_mask] = np.nan\n",
    "    \n",
    "#     ax[0].imshow(preds_original.sel(type='amplitude',hologram_number=ind).values,vmin=0,vmax=1)\n",
    "#     ax[1].imshow(test_labels.sel(type='amplitude',hologram_number=ind).values,vmin=0,vmax=1)\n",
    "#     ax[2].imshow((preds_original.sel(type='amplitude',hologram_number=ind).values-test_labels.sel(type='amplitude',hologram_number=ind).values)*nan_mask,vmin=-1,vmax=1,cmap=diff_cmap)\n",
    "#     # ax[2].imshow(scaled_in_data.values[ind,:,:,0])\n",
    "#     ax[3].imshow(preds_original.sel(type='z',hologram_number=ind).values*nan_mask,vmin=0,vmax=1e-2,cmap=z_cmap)\n",
    "#     ax[4].imshow(test_labels.sel(type='z',hologram_number=ind).values*nan_mask,vmin=0,vmax=1e-2,cmap=z_cmap)\n",
    "#     ax[5].imshow((preds_original.sel(type='z',hologram_number=ind).values-test_labels.sel(type='z',hologram_number=ind).values)*nan_mask,vmin=-1e-2,vmax=1e-2,cmap=diff_cmap)\n",
    "#     plt.savefig(\"results/\"+model_file.replace(\".h5\",\"\")+f\"_ExampleImage{index_list[ind]}\"+f\"_{num_epochs}epochs_run{run_num}_\"+ds_file.replace(\".nc\",\"\")+\".png\",dpi=300)"
   ]
  },
  {
   "cell_type": "code",
   "execution_count": null,
   "metadata": {},
   "outputs": [],
   "source": [
    "ch_layer"
   ]
  },
  {
   "cell_type": "code",
   "execution_count": null,
   "metadata": {},
   "outputs": [],
   "source": [
    "channel_number = in_data.sizes['channel']\n",
    "# index_list = [18]\n",
    "for ind in range(len(index_list)):\n",
    "    fig, ax = plt.subplots(2, channel_number//2, figsize=(channel_number*3, 8))\n",
    "    for ai in range(channel_number):\n",
    "        axind = ai//2+np.mod(ai,2)*channel_number//2\n",
    "        ax[np.mod(ai,2),ai//2].imshow(scaled_in_data.isel(channel=ai,hologram_number=ind),vmin=-0.25,vmax=0.25)\n",
    "    plt.savefig(\"results/\"+model_file.replace(\".h5\",\"\")+f\"_ExampleInput{index_list[ind]}\"+f\"_{num_epochs}epochs_run{run_num}_\"+ds_file.replace(\".nc\",\"\")+\".png\",dpi=300)"
   ]
  },
  {
   "cell_type": "code",
   "execution_count": null,
   "metadata": {},
   "outputs": [],
   "source": [
    "in_data.sizes"
   ]
  },
  {
   "cell_type": "code",
   "execution_count": null,
   "metadata": {},
   "outputs": [],
   "source": [
    "from mpl_toolkits.mplot3d import Axes3D"
   ]
  },
  {
   "cell_type": "code",
   "execution_count": null,
   "metadata": {},
   "outputs": [],
   "source": [
    "xg,yg = np.meshgrid(preds_original['xsize'].values,preds_original['ysize'].values)"
   ]
  },
  {
   "cell_type": "code",
   "execution_count": null,
   "metadata": {},
   "outputs": [],
   "source": [
    "for ind,indact in enumerate(index_list):\n",
    "    ipart = np.nonzero(preds_original.sel(type='amplitude',hologram_number=ind).values > 0.2)\n",
    "    ipart_label = np.nonzero(test_labels.sel(type='amplitude',hologram_number=ind).values > 0.2)\n",
    "    amp_p = preds_original.sel(type='amplitude',hologram_number=ind).values[ipart]\n",
    "    z_p = preds_original.sel(type='z',hologram_number=ind).values[ipart]\n",
    "    x_p = xg[ipart]\n",
    "    y_p = yg[ipart]\n",
    "    \n",
    "    z_l = test_labels.sel(type='z',hologram_number=ind).values[ipart_label]\n",
    "    x_l = xg[ipart_label]\n",
    "    y_l = yg[ipart_label]\n",
    "\n",
    "    fig = plt.figure(figsize=(10,6))\n",
    "    ax = fig.add_subplot(111, projection='3d')\n",
    "    ax.scatter(z_p,x_p,y_p,c=amp_p,vmin=0,vmax=1,s=1)\n",
    "    ax.scatter(z_l,x_l,y_l,c='k',s=1)\n",
    "    ax.set_xlim([ds.attrs['zmin'],ds.attrs['zmax']])\n",
    "    ax.set_ylim([preds_original['xsize'].values[0],preds_original['xsize'].values[-1]])\n",
    "    ax.set_zlim([preds_original['ysize'].values[0],preds_original['ysize'].values[-1]])\n",
    "    ax.set_xlabel('z')\n",
    "    ax.set_ylabel('x')\n",
    "    ax.set_zlabel('y')\n",
    "    plt.savefig(\"results/\"+model_file.replace(\".h5\",\"\")+f\"_Scatter3D{index_list[ind]}\"+f\"_{num_epochs}epochs_run{run_num}_\"+ds_file.replace(\".nc\",\"\")+\".png\",dpi=300)"
   ]
  },
  {
   "cell_type": "code",
   "execution_count": null,
   "metadata": {},
   "outputs": [],
   "source": [
    "preds_original['xsize'].values[0]"
   ]
  },
  {
   "cell_type": "code",
   "execution_count": null,
   "metadata": {},
   "outputs": [],
   "source": []
  }
 ],
 "metadata": {
  "kernelspec": {
   "display_name": "Python 3",
   "language": "python",
   "name": "python3"
  },
  "language_info": {
   "codemirror_mode": {
    "name": "ipython",
    "version": 3
   },
   "file_extension": ".py",
   "mimetype": "text/x-python",
   "name": "python",
   "nbconvert_exporter": "python",
   "pygments_lexer": "ipython3",
   "version": "3.7.3"
  }
 },
 "nbformat": 4,
 "nbformat_minor": 2
}
