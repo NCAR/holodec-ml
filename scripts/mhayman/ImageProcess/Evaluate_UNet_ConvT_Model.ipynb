{
 "cells": [
  {
   "cell_type": "code",
   "execution_count": null,
   "metadata": {},
   "outputs": [],
   "source": [
    "import sys\n",
    "import numpy as np\n",
    "import xarray as xr\n",
    "\n",
    "from tensorflow.keras.layers import Input, Conv2D, Dense, Flatten, Activation, MaxPool2D, SeparableConv2D, UpSampling2D, concatenate, Conv2DTranspose\n",
    "\n",
    "from tensorflow.keras.models import Model, save_model, load_model\n",
    "from tensorflow.keras.utils import plot_model\n",
    "#from tensorflow import concat\n",
    "import matplotlib.pyplot as plt\n",
    "\n",
    "import datetime\n",
    "%matplotlib inline\n",
    "\n",
    "# set path to local libraries\n",
    "dirP_str = '../../../library'\n",
    "if dirP_str not in sys.path:\n",
    "    sys.path.append(dirP_str)\n",
    "\n",
    "import ml_utils as ml"
   ]
  },
  {
   "cell_type": "code",
   "execution_count": null,
   "metadata": {},
   "outputs": [],
   "source": [
    "ds_path='/scr/sci/mhayman/holodec/holodec-ml-data/'\n",
    "# ds_file = 'image_data_256x256_50count.nc'\n",
    "# ds_file = 'image_data_256x256_5000count.nc'\n",
    "# ds_file = 'image_data_64x64_5000count.nc'\n",
    "# ds_file = 'random_image_data_64x64_5000count.nc'\n",
    "# ds_file = 'random_image_data_64x64_5000count_v02.nc' # 1 um PSF with 1 cm depth\n",
    "# ds_file = 'random_image_data_64x64_5000count_v03.nc' # 1 um PSF with 10 cm depth\n",
    "# ds_file = 'random_image_multiplane_data_64x64_5000count.nc' # 1 um PSF with 10 cm depth\n",
    "# ds_file = \"random_image_multiplane_data_64x64_5000count_1particles.nc\" # 1 um PSF with 1 cm depth with 1 particles\n",
    "ds_file = \"random_image_multiplane_data_64x64_5000count_2particles.nc\" # 1 um PSF with 1 cm depth with 2 particles\n",
    "\n",
    "\n",
    "# model file\n",
    "model_file = \"holodec_UNET_16Filt_5Conv_4Pool_mse_linear_random_image_multiplane_data_64x64_5000count300epochs_run1.h5\"\n",
    "\n",
    "ds = xr.open_dataset(ds_path+ds_file)\n",
    "\n",
    "run_num = 0\n",
    "num_epochs = 300"
   ]
  },
  {
   "cell_type": "code",
   "execution_count": null,
   "metadata": {},
   "outputs": [],
   "source": [
    "ds"
   ]
  },
  {
   "cell_type": "code",
   "execution_count": null,
   "metadata": {},
   "outputs": [],
   "source": [
    "split_index = np.int(0.7*ds.sizes['hologram_number'])  # number of training+validation points\n",
    "valid_index = np.int(0.2*ds.sizes['hologram_number'])  # number of validation points\n",
    "all_labels = ds['labels'].sel(type=['amplitude','z'])\n",
    "\n",
    "train_labels = all_labels.isel(hologram_number=slice(valid_index,split_index))\n",
    "test_labels = all_labels.isel(hologram_number=slice(split_index,None))\n",
    "val_labels = all_labels.isel(hologram_number=slice(None,valid_index))\n",
    "\n",
    "scaler = ml.MinMaxScalerX(train_labels,dim=('hologram_number','xsize','ysize'))\n",
    "scaled_train_labels = scaler.fit_transform(train_labels)\n",
    "scaled_val_labels = scaler.fit_transform(val_labels)\n",
    "scaled_test_labels = scaler.fit_transform(test_labels)\n",
    "scaled_all_labels = scaler.fit_transform(all_labels)"
   ]
  },
  {
   "cell_type": "code",
   "execution_count": null,
   "metadata": {},
   "outputs": [],
   "source": [
    "in_data = ds['image']"
   ]
  },
  {
   "cell_type": "code",
   "execution_count": null,
   "metadata": {},
   "outputs": [],
   "source": [
    "scaler.max"
   ]
  },
  {
   "cell_type": "code",
   "execution_count": null,
   "metadata": {},
   "outputs": [],
   "source": [
    "valid_index"
   ]
  },
  {
   "cell_type": "code",
   "execution_count": null,
   "metadata": {},
   "outputs": [],
   "source": [
    "if not 'channel' in in_data.dims:\n",
    "    in_data = in_data.expand_dims(\"channel\", 3)"
   ]
  },
  {
   "cell_type": "code",
   "execution_count": null,
   "metadata": {},
   "outputs": [],
   "source": [
    "scaled_in_data = in_data/2"
   ]
  },
  {
   "cell_type": "code",
   "execution_count": null,
   "metadata": {},
   "outputs": [],
   "source": [
    "plt_index = 25\n",
    "plt.figure()\n",
    "plt.imshow(scaled_in_data.values[plt_index,:,:,-1])\n",
    "plt.colorbar()\n",
    "\n",
    "plt.figure()\n",
    "plt.imshow(all_labels[plt_index,:,:,0],vmin=0,vmax=1)\n",
    "plt.colorbar()\n",
    "\n",
    "plt.figure()\n",
    "plt.imshow(all_labels[plt_index,:,:,1],vmin=0,vmax=1e-1)\n",
    "plt.colorbar()"
   ]
  },
  {
   "cell_type": "code",
   "execution_count": null,
   "metadata": {},
   "outputs": [],
   "source": [
    "plt.figure()\n",
    "plt.hist(scaled_train_labels.values[:,:,:,0].flatten(),log=True)"
   ]
  },
  {
   "cell_type": "code",
   "execution_count": null,
   "metadata": {},
   "outputs": [],
   "source": [
    "scaled_in_data.shape"
   ]
  },
  {
   "cell_type": "code",
   "execution_count": null,
   "metadata": {},
   "outputs": [],
   "source": [
    "scaled_train_labels.sizes"
   ]
  },
  {
   "cell_type": "code",
   "execution_count": null,
   "metadata": {},
   "outputs": [],
   "source": [
    "# load the CNN model\n",
    "mod = load_model(ds_path+\"/models/\"+model_file)"
   ]
  },
  {
   "cell_type": "code",
   "execution_count": null,
   "metadata": {},
   "outputs": [],
   "source": [
    "cnn_start = datetime.datetime.now()\n",
    "preds_out = mod.predict(scaled_in_data.values, batch_size=64)\n",
    "cnn_stop = datetime.datetime.now()\n",
    "print(f\"{scaled_in_data.values.shape[0]} samples in {(cnn_stop-cnn_start).total_seconds()} seconds\")\n",
    "print(f\"for {(cnn_stop-cnn_start).total_seconds()/scaled_in_data.values.shape[0]} seconds per hologram\")"
   ]
  },
  {
   "cell_type": "code",
   "execution_count": null,
   "metadata": {},
   "outputs": [],
   "source": [
    "preds_out.shape"
   ]
  },
  {
   "cell_type": "code",
   "execution_count": null,
   "metadata": {},
   "outputs": [],
   "source": [
    "preds_out_da = xr.DataArray(preds_out,dims=('hologram_number','xsize','ysize','type'),\n",
    "                            coords=all_labels.coords)"
   ]
  },
  {
   "cell_type": "code",
   "execution_count": null,
   "metadata": {},
   "outputs": [],
   "source": [
    "preds_original = scaler.inverse_transform(preds_out_da)"
   ]
  },
  {
   "cell_type": "code",
   "execution_count": null,
   "metadata": {},
   "outputs": [],
   "source": [
    "mean_error = (preds_original[split_index:] - test_labels).mean(dim=('hologram_number','xsize','ysize'))\n",
    "std_error = (preds_original[split_index:] - test_labels).std(dim=('hologram_number','xsize','ysize'))"
   ]
  },
  {
   "cell_type": "code",
   "execution_count": null,
   "metadata": {},
   "outputs": [],
   "source": [
    "iscatter = np.nonzero(preds_original.sel(type='amplitude').values.flatten() > 0.2)\n",
    "fig, axes = plt.subplots(1, 2, figsize=(8, 4))\n",
    "for a, clabel in enumerate(all_labels.coords['type'].values):\n",
    "    ax=axes.ravel()[a]\n",
    "    ax.scatter(all_labels.sel(type=clabel).values.flatten()[iscatter], preds_original.sel(type=clabel).values.flatten()[iscatter], 1, 'k')\n",
    "    diag = np.linspace(all_labels.sel(type=clabel).min(), all_labels.sel(type=clabel).max(), 10)\n",
    "    ax.plot(diag, diag, 'b--' )\n",
    "    ax.set_title(clabel)\n",
    "    plt.savefig(\"results/\"+model_file.replace(\".h5\",\"\")+f\"_ScatterPlot\"+f\"_{num_epochs}epochs_run{run_num}_\"+ds_file.replace(\".nc\",\"\")+\".png\",dpi=300)"
   ]
  },
  {
   "cell_type": "code",
   "execution_count": null,
   "metadata": {},
   "outputs": [],
   "source": [
    "mean_error"
   ]
  },
  {
   "cell_type": "code",
   "execution_count": null,
   "metadata": {},
   "outputs": [],
   "source": [
    "std_error"
   ]
  },
  {
   "cell_type": "code",
   "execution_count": null,
   "metadata": {},
   "outputs": [],
   "source": [
    "index_list = [18,2854,1247,858,3143,832,4021,3921,222,2431,321] #18#2854#1247\n",
    "for ind in index_list:\n",
    "    fig, ax = plt.subplots(2, 3, figsize=(12, 8))\n",
    "    ax = ax.ravel()\n",
    "    ax[0].imshow(preds_original.sel(type='amplitude',hologram_number=ind).values,vmin=0,vmax=1)\n",
    "    ax[1].imshow(all_labels.sel(type='amplitude',hologram_number=ind).values,vmin=0,vmax=1)\n",
    "    ax[2].imshow(preds_original.sel(type='amplitude',hologram_number=ind).values-all_labels.sel(type='amplitude',hologram_number=ind).values,vmin=-1,vmax=1,cmap=plt.get_cmap('seismic'))\n",
    "    # ax[2].imshow(scaled_in_data.values[ind,:,:,0])\n",
    "    ax[3].imshow(preds_original.sel(type='z',hologram_number=ind).values,vmin=0,vmax=1e-2)\n",
    "    ax[4].imshow(all_labels.sel(type='z',hologram_number=ind).values,vmin=0,vmax=1e-2)\n",
    "    ax[5].imshow(preds_original.sel(type='z',hologram_number=ind).values-all_labels.sel(type='z',hologram_number=ind).values,vmin=-1e-2,vmax=1e-2,cmap=plt.get_cmap('seismic'))\n",
    "    plt.savefig(\"results/\"+model_file.replace(\".h5\",\"\")+f\"_ExampleImage{ind}\"+f\"_{num_epochs}epochs_run{run_num}_\"+ds_file.replace(\".nc\",\"\")+\".png\",dpi=300)"
   ]
  },
  {
   "cell_type": "code",
   "execution_count": null,
   "metadata": {},
   "outputs": [],
   "source": [
    "channel_number = in_data.sizes['channel']\n",
    "# index_list = [18]\n",
    "for ind in index_list:\n",
    "    fig, ax = plt.subplots(2, channel_number//2, figsize=(channel_number*3, 8))\n",
    "    for ai in range(channel_number):\n",
    "        axind = ai//2+np.mod(ai,2)*channel_number//2\n",
    "        ax[np.mod(ai,2),ai//2].imshow(scaled_in_data.isel(channel=ai,hologram_number=ind),vmin=-1,vmax=1)\n",
    "    plt.savefig(\"results/\"+model_file.replace(\".h5\",\"\")+f\"_ExampleInput{ind}\"+f\"_{num_epochs}epochs_run{run_num}_\"+ds_file.replace(\".nc\",\"\")+\".png\",dpi=300)"
   ]
  },
  {
   "cell_type": "code",
   "execution_count": null,
   "metadata": {},
   "outputs": [],
   "source": [
    "in_data.sizes"
   ]
  },
  {
   "cell_type": "code",
   "execution_count": null,
   "metadata": {},
   "outputs": [],
   "source": []
  }
 ],
 "metadata": {
  "kernelspec": {
   "display_name": "Python 3",
   "language": "python",
   "name": "python3"
  },
  "language_info": {
   "codemirror_mode": {
    "name": "ipython",
    "version": 3
   },
   "file_extension": ".py",
   "mimetype": "text/x-python",
   "name": "python",
   "nbconvert_exporter": "python",
   "pygments_lexer": "ipython3",
   "version": "3.7.3"
  }
 },
 "nbformat": 4,
 "nbformat_minor": 2
}
