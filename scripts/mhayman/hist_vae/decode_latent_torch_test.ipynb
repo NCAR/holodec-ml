{
 "cells": [
  {
   "cell_type": "code",
   "execution_count": 1,
   "id": "brutal-sandwich",
   "metadata": {},
   "outputs": [],
   "source": [
    "import warnings\n",
    "warnings.filterwarnings(\"ignore\")\n",
    "\n",
    "import os\n",
    "import sys\n",
    "\n",
    "import numpy as np\n",
    "import xarray as xr\n",
    "import datetime\n",
    "\n",
    "# import yaml\n",
    "import tqdm\n",
    "import torch\n",
    "import pickle\n",
    "import logging\n",
    "import random\n",
    "\n",
    "# from torchvision.utils import save_image\n",
    "from torch.utils.data import Dataset, DataLoader, TensorDataset\n",
    "from torch.optim.lr_scheduler import ReduceLROnPlateau\n",
    "\n",
    "from typing import List, Dict, Callable, Union, Any, TypeVar, Tuple\n",
    "# from multiprocessing import cpu_count\n",
    "\n",
    "from torch import nn\n",
    "\n",
    "import torch\n",
    "\n",
    "import torch.nn.functional as F"
   ]
  },
  {
   "cell_type": "code",
   "execution_count": 2,
   "id": "foster-antibody",
   "metadata": {},
   "outputs": [],
   "source": [
    "import matplotlib.pyplot as plt"
   ]
  },
  {
   "cell_type": "code",
   "execution_count": 3,
   "id": "shared-invalid",
   "metadata": {},
   "outputs": [
    {
     "data": {
      "text/plain": [
       "'/glade/u/home/mhayman/miniconda3/envs/ml-torch/bin/python'"
      ]
     },
     "execution_count": 3,
     "metadata": {},
     "output_type": "execute_result"
    }
   ],
   "source": [
    "sys.executable"
   ]
  },
  {
   "cell_type": "code",
   "execution_count": 4,
   "id": "previous-ensemble",
   "metadata": {},
   "outputs": [],
   "source": [
    "# set path to local libraries\n",
    "dirP_str = '../../../library'\n",
    "if dirP_str not in sys.path:\n",
    "    sys.path.append(dirP_str)\n",
    "\n",
    "import ml_utils as ml\n",
    "# import ml_defs as mldef"
   ]
  },
  {
   "cell_type": "code",
   "execution_count": 5,
   "id": "neutral-campaign",
   "metadata": {},
   "outputs": [],
   "source": [
    "paths = {   'load_data':'/glade/scratch/mhayman/holodec/holodec-ml-data/hist-from-vae/',\n",
    "            'save_data':'/glade/scratch/mhayman/holodec/holodec-ml-data/hist-from-vae/'}"
   ]
  },
  {
   "cell_type": "code",
   "execution_count": 39,
   "id": "worth-gateway",
   "metadata": {},
   "outputs": [],
   "source": [
    "files = {'data_file': 'training_1_25particles_gamma2D.nc', # _le4 #'histogram_training_data_5000count20200818T100751.nc',# 'histogram_training_data_5000count20200814T075733.nc',     # training data file\n",
    "        'validation_file':'validation_1_25particles_gamma2D.nc',\n",
    "        'test_file':'test_1_25particles_gamma2D.nc',}"
   ]
  },
  {
   "cell_type": "code",
   "execution_count": 40,
   "id": "psychological-creation",
   "metadata": {},
   "outputs": [],
   "source": [
    "start_time = datetime.datetime.now()\n",
    "\n",
    "save_file_base = files['data_file'].replace('.nc','')+'_DecodeNN_'+start_time.strftime('%Y%m%dT%H%M%S')\n",
    "\n",
    "save_file_path = paths['save_data']+save_file_base+'/'\n",
    "ml.ensure_path(save_file_path)"
   ]
  },
  {
   "cell_type": "code",
   "execution_count": 41,
   "id": "sustainable-poland",
   "metadata": {},
   "outputs": [
    {
     "name": "stdout",
     "output_type": "stream",
     "text": [
      "training_1_25particles_gamma2D_DecodeNN_20210524T141849\n"
     ]
    }
   ],
   "source": [
    "print(save_file_base)"
   ]
  },
  {
   "cell_type": "code",
   "execution_count": 42,
   "id": "pacific-selection",
   "metadata": {},
   "outputs": [
    {
     "data": {
      "text/html": [
       "<div><svg style=\"position: absolute; width: 0; height: 0; overflow: hidden\">\n",
       "<defs>\n",
       "<symbol id=\"icon-database\" viewBox=\"0 0 32 32\">\n",
       "<path d=\"M16 0c-8.837 0-16 2.239-16 5v4c0 2.761 7.163 5 16 5s16-2.239 16-5v-4c0-2.761-7.163-5-16-5z\"></path>\n",
       "<path d=\"M16 17c-8.837 0-16-2.239-16-5v6c0 2.761 7.163 5 16 5s16-2.239 16-5v-6c0 2.761-7.163 5-16 5z\"></path>\n",
       "<path d=\"M16 26c-8.837 0-16-2.239-16-5v6c0 2.761 7.163 5 16 5s16-2.239 16-5v-6c0 2.761-7.163 5-16 5z\"></path>\n",
       "</symbol>\n",
       "<symbol id=\"icon-file-text2\" viewBox=\"0 0 32 32\">\n",
       "<path d=\"M28.681 7.159c-0.694-0.947-1.662-2.053-2.724-3.116s-2.169-2.030-3.116-2.724c-1.612-1.182-2.393-1.319-2.841-1.319h-15.5c-1.378 0-2.5 1.121-2.5 2.5v27c0 1.378 1.122 2.5 2.5 2.5h23c1.378 0 2.5-1.122 2.5-2.5v-19.5c0-0.448-0.137-1.23-1.319-2.841zM24.543 5.457c0.959 0.959 1.712 1.825 2.268 2.543h-4.811v-4.811c0.718 0.556 1.584 1.309 2.543 2.268zM28 29.5c0 0.271-0.229 0.5-0.5 0.5h-23c-0.271 0-0.5-0.229-0.5-0.5v-27c0-0.271 0.229-0.5 0.5-0.5 0 0 15.499-0 15.5 0v7c0 0.552 0.448 1 1 1h7v19.5z\"></path>\n",
       "<path d=\"M23 26h-14c-0.552 0-1-0.448-1-1s0.448-1 1-1h14c0.552 0 1 0.448 1 1s-0.448 1-1 1z\"></path>\n",
       "<path d=\"M23 22h-14c-0.552 0-1-0.448-1-1s0.448-1 1-1h14c0.552 0 1 0.448 1 1s-0.448 1-1 1z\"></path>\n",
       "<path d=\"M23 18h-14c-0.552 0-1-0.448-1-1s0.448-1 1-1h14c0.552 0 1 0.448 1 1s-0.448 1-1 1z\"></path>\n",
       "</symbol>\n",
       "</defs>\n",
       "</svg>\n",
       "<style>/* CSS stylesheet for displaying xarray objects in jupyterlab.\n",
       " *\n",
       " */\n",
       "\n",
       ":root {\n",
       "  --xr-font-color0: var(--jp-content-font-color0, rgba(0, 0, 0, 1));\n",
       "  --xr-font-color2: var(--jp-content-font-color2, rgba(0, 0, 0, 0.54));\n",
       "  --xr-font-color3: var(--jp-content-font-color3, rgba(0, 0, 0, 0.38));\n",
       "  --xr-border-color: var(--jp-border-color2, #e0e0e0);\n",
       "  --xr-disabled-color: var(--jp-layout-color3, #bdbdbd);\n",
       "  --xr-background-color: var(--jp-layout-color0, white);\n",
       "  --xr-background-color-row-even: var(--jp-layout-color1, white);\n",
       "  --xr-background-color-row-odd: var(--jp-layout-color2, #eeeeee);\n",
       "}\n",
       "\n",
       "html[theme=dark],\n",
       "body.vscode-dark {\n",
       "  --xr-font-color0: rgba(255, 255, 255, 1);\n",
       "  --xr-font-color2: rgba(255, 255, 255, 0.54);\n",
       "  --xr-font-color3: rgba(255, 255, 255, 0.38);\n",
       "  --xr-border-color: #1F1F1F;\n",
       "  --xr-disabled-color: #515151;\n",
       "  --xr-background-color: #111111;\n",
       "  --xr-background-color-row-even: #111111;\n",
       "  --xr-background-color-row-odd: #313131;\n",
       "}\n",
       "\n",
       ".xr-wrap {\n",
       "  display: block;\n",
       "  min-width: 300px;\n",
       "  max-width: 700px;\n",
       "}\n",
       "\n",
       ".xr-text-repr-fallback {\n",
       "  /* fallback to plain text repr when CSS is not injected (untrusted notebook) */\n",
       "  display: none;\n",
       "}\n",
       "\n",
       ".xr-header {\n",
       "  padding-top: 6px;\n",
       "  padding-bottom: 6px;\n",
       "  margin-bottom: 4px;\n",
       "  border-bottom: solid 1px var(--xr-border-color);\n",
       "}\n",
       "\n",
       ".xr-header > div,\n",
       ".xr-header > ul {\n",
       "  display: inline;\n",
       "  margin-top: 0;\n",
       "  margin-bottom: 0;\n",
       "}\n",
       "\n",
       ".xr-obj-type,\n",
       ".xr-array-name {\n",
       "  margin-left: 2px;\n",
       "  margin-right: 10px;\n",
       "}\n",
       "\n",
       ".xr-obj-type {\n",
       "  color: var(--xr-font-color2);\n",
       "}\n",
       "\n",
       ".xr-sections {\n",
       "  padding-left: 0 !important;\n",
       "  display: grid;\n",
       "  grid-template-columns: 150px auto auto 1fr 20px 20px;\n",
       "}\n",
       "\n",
       ".xr-section-item {\n",
       "  display: contents;\n",
       "}\n",
       "\n",
       ".xr-section-item input {\n",
       "  display: none;\n",
       "}\n",
       "\n",
       ".xr-section-item input + label {\n",
       "  color: var(--xr-disabled-color);\n",
       "}\n",
       "\n",
       ".xr-section-item input:enabled + label {\n",
       "  cursor: pointer;\n",
       "  color: var(--xr-font-color2);\n",
       "}\n",
       "\n",
       ".xr-section-item input:enabled + label:hover {\n",
       "  color: var(--xr-font-color0);\n",
       "}\n",
       "\n",
       ".xr-section-summary {\n",
       "  grid-column: 1;\n",
       "  color: var(--xr-font-color2);\n",
       "  font-weight: 500;\n",
       "}\n",
       "\n",
       ".xr-section-summary > span {\n",
       "  display: inline-block;\n",
       "  padding-left: 0.5em;\n",
       "}\n",
       "\n",
       ".xr-section-summary-in:disabled + label {\n",
       "  color: var(--xr-font-color2);\n",
       "}\n",
       "\n",
       ".xr-section-summary-in + label:before {\n",
       "  display: inline-block;\n",
       "  content: '►';\n",
       "  font-size: 11px;\n",
       "  width: 15px;\n",
       "  text-align: center;\n",
       "}\n",
       "\n",
       ".xr-section-summary-in:disabled + label:before {\n",
       "  color: var(--xr-disabled-color);\n",
       "}\n",
       "\n",
       ".xr-section-summary-in:checked + label:before {\n",
       "  content: '▼';\n",
       "}\n",
       "\n",
       ".xr-section-summary-in:checked + label > span {\n",
       "  display: none;\n",
       "}\n",
       "\n",
       ".xr-section-summary,\n",
       ".xr-section-inline-details {\n",
       "  padding-top: 4px;\n",
       "  padding-bottom: 4px;\n",
       "}\n",
       "\n",
       ".xr-section-inline-details {\n",
       "  grid-column: 2 / -1;\n",
       "}\n",
       "\n",
       ".xr-section-details {\n",
       "  display: none;\n",
       "  grid-column: 1 / -1;\n",
       "  margin-bottom: 5px;\n",
       "}\n",
       "\n",
       ".xr-section-summary-in:checked ~ .xr-section-details {\n",
       "  display: contents;\n",
       "}\n",
       "\n",
       ".xr-array-wrap {\n",
       "  grid-column: 1 / -1;\n",
       "  display: grid;\n",
       "  grid-template-columns: 20px auto;\n",
       "}\n",
       "\n",
       ".xr-array-wrap > label {\n",
       "  grid-column: 1;\n",
       "  vertical-align: top;\n",
       "}\n",
       "\n",
       ".xr-preview {\n",
       "  color: var(--xr-font-color3);\n",
       "}\n",
       "\n",
       ".xr-array-preview,\n",
       ".xr-array-data {\n",
       "  padding: 0 5px !important;\n",
       "  grid-column: 2;\n",
       "}\n",
       "\n",
       ".xr-array-data,\n",
       ".xr-array-in:checked ~ .xr-array-preview {\n",
       "  display: none;\n",
       "}\n",
       "\n",
       ".xr-array-in:checked ~ .xr-array-data,\n",
       ".xr-array-preview {\n",
       "  display: inline-block;\n",
       "}\n",
       "\n",
       ".xr-dim-list {\n",
       "  display: inline-block !important;\n",
       "  list-style: none;\n",
       "  padding: 0 !important;\n",
       "  margin: 0;\n",
       "}\n",
       "\n",
       ".xr-dim-list li {\n",
       "  display: inline-block;\n",
       "  padding: 0;\n",
       "  margin: 0;\n",
       "}\n",
       "\n",
       ".xr-dim-list:before {\n",
       "  content: '(';\n",
       "}\n",
       "\n",
       ".xr-dim-list:after {\n",
       "  content: ')';\n",
       "}\n",
       "\n",
       ".xr-dim-list li:not(:last-child):after {\n",
       "  content: ',';\n",
       "  padding-right: 5px;\n",
       "}\n",
       "\n",
       ".xr-has-index {\n",
       "  font-weight: bold;\n",
       "}\n",
       "\n",
       ".xr-var-list,\n",
       ".xr-var-item {\n",
       "  display: contents;\n",
       "}\n",
       "\n",
       ".xr-var-item > div,\n",
       ".xr-var-item label,\n",
       ".xr-var-item > .xr-var-name span {\n",
       "  background-color: var(--xr-background-color-row-even);\n",
       "  margin-bottom: 0;\n",
       "}\n",
       "\n",
       ".xr-var-item > .xr-var-name:hover span {\n",
       "  padding-right: 5px;\n",
       "}\n",
       "\n",
       ".xr-var-list > li:nth-child(odd) > div,\n",
       ".xr-var-list > li:nth-child(odd) > label,\n",
       ".xr-var-list > li:nth-child(odd) > .xr-var-name span {\n",
       "  background-color: var(--xr-background-color-row-odd);\n",
       "}\n",
       "\n",
       ".xr-var-name {\n",
       "  grid-column: 1;\n",
       "}\n",
       "\n",
       ".xr-var-dims {\n",
       "  grid-column: 2;\n",
       "}\n",
       "\n",
       ".xr-var-dtype {\n",
       "  grid-column: 3;\n",
       "  text-align: right;\n",
       "  color: var(--xr-font-color2);\n",
       "}\n",
       "\n",
       ".xr-var-preview {\n",
       "  grid-column: 4;\n",
       "}\n",
       "\n",
       ".xr-var-name,\n",
       ".xr-var-dims,\n",
       ".xr-var-dtype,\n",
       ".xr-preview,\n",
       ".xr-attrs dt {\n",
       "  white-space: nowrap;\n",
       "  overflow: hidden;\n",
       "  text-overflow: ellipsis;\n",
       "  padding-right: 10px;\n",
       "}\n",
       "\n",
       ".xr-var-name:hover,\n",
       ".xr-var-dims:hover,\n",
       ".xr-var-dtype:hover,\n",
       ".xr-attrs dt:hover {\n",
       "  overflow: visible;\n",
       "  width: auto;\n",
       "  z-index: 1;\n",
       "}\n",
       "\n",
       ".xr-var-attrs,\n",
       ".xr-var-data {\n",
       "  display: none;\n",
       "  background-color: var(--xr-background-color) !important;\n",
       "  padding-bottom: 5px !important;\n",
       "}\n",
       "\n",
       ".xr-var-attrs-in:checked ~ .xr-var-attrs,\n",
       ".xr-var-data-in:checked ~ .xr-var-data {\n",
       "  display: block;\n",
       "}\n",
       "\n",
       ".xr-var-data > table {\n",
       "  float: right;\n",
       "}\n",
       "\n",
       ".xr-var-name span,\n",
       ".xr-var-data,\n",
       ".xr-attrs {\n",
       "  padding-left: 25px !important;\n",
       "}\n",
       "\n",
       ".xr-attrs,\n",
       ".xr-var-attrs,\n",
       ".xr-var-data {\n",
       "  grid-column: 1 / -1;\n",
       "}\n",
       "\n",
       "dl.xr-attrs {\n",
       "  padding: 0;\n",
       "  margin: 0;\n",
       "  display: grid;\n",
       "  grid-template-columns: 125px auto;\n",
       "}\n",
       "\n",
       ".xr-attrs dt,\n",
       ".xr-attrs dd {\n",
       "  padding: 0;\n",
       "  margin: 0;\n",
       "  float: left;\n",
       "  padding-right: 10px;\n",
       "  width: auto;\n",
       "}\n",
       "\n",
       ".xr-attrs dt {\n",
       "  font-weight: normal;\n",
       "  grid-column: 1;\n",
       "}\n",
       "\n",
       ".xr-attrs dt:hover span {\n",
       "  display: inline-block;\n",
       "  background: var(--xr-background-color);\n",
       "  padding-right: 10px;\n",
       "}\n",
       "\n",
       ".xr-attrs dd {\n",
       "  grid-column: 2;\n",
       "  white-space: pre-wrap;\n",
       "  word-break: break-all;\n",
       "}\n",
       "\n",
       ".xr-icon-database,\n",
       ".xr-icon-file-text2 {\n",
       "  display: inline-block;\n",
       "  vertical-align: middle;\n",
       "  width: 1em;\n",
       "  height: 1.5em !important;\n",
       "  stroke-width: 0;\n",
       "  stroke: currentColor;\n",
       "  fill: currentColor;\n",
       "}\n",
       "</style><pre class='xr-text-repr-fallback'>&lt;xarray.Dataset&gt;\n",
       "Dimensions:          (d_bin_centers: 40, d_bin_edges: 41, hologram_number: 180000, latent_size: 1014, moments: 4, particle_number: 2028998, rsize: 1200, z_bin_centers: 146, z_bin_edges: 147)\n",
       "Coordinates:\n",
       "  * hologram_number  (hologram_number) int64 0 1 2 3 ... 179997 179998 179999\n",
       "  * d_bin_edges      (d_bin_edges) int64 0 5 10 15 20 25 ... 180 185 190 195 200\n",
       "  * d_bin_centers    (d_bin_centers) int64 0 5 10 15 20 ... 175 180 185 190 195\n",
       "  * z_bin_edges      (z_bin_edges) int64 14000 15000 16000 ... 159000 160000\n",
       "  * z_bin_centers    (z_bin_centers) int64 14000 15000 16000 ... 158000 159000\n",
       "  * moments          (moments) int64 0 1 2 3\n",
       "Dimensions without coordinates: latent_size, particle_number, rsize\n",
       "Data variables: (12/17)\n",
       "    source_filename  (hologram_number) object ...\n",
       "    hid              (hologram_number) int64 ...\n",
       "    raft             (hologram_number, rsize) float32 ...\n",
       "    mu               (hologram_number, latent_size) float32 ...\n",
       "    logsig           (hologram_number, latent_size) float32 ...\n",
       "    z_latent         (hologram_number, latent_size) float32 ...\n",
       "    ...               ...\n",
       "    d_hist           (hologram_number, d_bin_centers) int64 ...\n",
       "    d_hist_lim       (hologram_number, d_bin_centers) int64 ...\n",
       "    z_hist           (hologram_number, z_bin_centers) int64 ...\n",
       "    dz_hist          (hologram_number, d_bin_centers, z_bin_centers) float64 ...\n",
       "    moments_zlim     (hologram_number, moments) float64 ...\n",
       "    moments_nolim    (hologram_number, moments) float64 ...\n",
       "Attributes:\n",
       "    generator:  training_1_25particles_gamma.pkl\n",
       "    created:    20210427T122019\n",
       "    zlim_lb:    24000\n",
       "    zlim_ub:    150000\n",
       "    d_bin_wid:  5\n",
       "    d_max:      200\n",
       "    z_bin_wid:  1000\n",
       "    z_max:      160000\n",
       "    z_min:      14000</pre><div class='xr-wrap' hidden><div class='xr-header'><div class='xr-obj-type'>xarray.Dataset</div></div><ul class='xr-sections'><li class='xr-section-item'><input id='section-56703b08-e7b7-4016-99c8-91360a538273' class='xr-section-summary-in' type='checkbox' disabled ><label for='section-56703b08-e7b7-4016-99c8-91360a538273' class='xr-section-summary'  title='Expand/collapse section'>Dimensions:</label><div class='xr-section-inline-details'><ul class='xr-dim-list'><li><span class='xr-has-index'>d_bin_centers</span>: 40</li><li><span class='xr-has-index'>d_bin_edges</span>: 41</li><li><span class='xr-has-index'>hologram_number</span>: 180000</li><li><span>latent_size</span>: 1014</li><li><span class='xr-has-index'>moments</span>: 4</li><li><span>particle_number</span>: 2028998</li><li><span>rsize</span>: 1200</li><li><span class='xr-has-index'>z_bin_centers</span>: 146</li><li><span class='xr-has-index'>z_bin_edges</span>: 147</li></ul></div><div class='xr-section-details'></div></li><li class='xr-section-item'><input id='section-0c78a2d6-aebd-45c7-9f06-1bd1f77c220a' class='xr-section-summary-in' type='checkbox'  checked><label for='section-0c78a2d6-aebd-45c7-9f06-1bd1f77c220a' class='xr-section-summary' >Coordinates: <span>(6)</span></label><div class='xr-section-inline-details'></div><div class='xr-section-details'><ul class='xr-var-list'><li class='xr-var-item'><div class='xr-var-name'><span class='xr-has-index'>hologram_number</span></div><div class='xr-var-dims'>(hologram_number)</div><div class='xr-var-dtype'>int64</div><div class='xr-var-preview xr-preview'>0 1 2 3 ... 179997 179998 179999</div><input id='attrs-e42d86a2-7e9b-4dce-bb7c-521d1499b7e3' class='xr-var-attrs-in' type='checkbox' ><label for='attrs-e42d86a2-7e9b-4dce-bb7c-521d1499b7e3' title='Show/Hide attributes'><svg class='icon xr-icon-file-text2'><use xlink:href='#icon-file-text2'></use></svg></label><input id='data-0d657687-9496-4e36-ab82-20657e917e23' class='xr-var-data-in' type='checkbox'><label for='data-0d657687-9496-4e36-ab82-20657e917e23' title='Show/Hide data repr'><svg class='icon xr-icon-database'><use xlink:href='#icon-database'></use></svg></label><div class='xr-var-attrs'><dl class='xr-attrs'><dt><span>description :</span></dt><dd>hologram ID number within this dataset</dd></dl></div><div class='xr-var-data'><pre>array([     0,      1,      2, ..., 179997, 179998, 179999])</pre></div></li><li class='xr-var-item'><div class='xr-var-name'><span class='xr-has-index'>d_bin_edges</span></div><div class='xr-var-dims'>(d_bin_edges)</div><div class='xr-var-dtype'>int64</div><div class='xr-var-preview xr-preview'>0 5 10 15 20 ... 185 190 195 200</div><input id='attrs-911d8048-dd0c-49ce-b95c-1c1f48ce5fa9' class='xr-var-attrs-in' type='checkbox' ><label for='attrs-911d8048-dd0c-49ce-b95c-1c1f48ce5fa9' title='Show/Hide attributes'><svg class='icon xr-icon-file-text2'><use xlink:href='#icon-file-text2'></use></svg></label><input id='data-d4456e2a-9946-4ea0-8e8d-7483a49148b7' class='xr-var-data-in' type='checkbox'><label for='data-d4456e2a-9946-4ea0-8e8d-7483a49148b7' title='Show/Hide data repr'><svg class='icon xr-icon-database'><use xlink:href='#icon-database'></use></svg></label><div class='xr-var-attrs'><dl class='xr-attrs'><dt><span>description :</span></dt><dd>histogram bin edges for diameters</dd><dt><span>units :</span></dt><dd>micrometers</dd></dl></div><div class='xr-var-data'><pre>array([  0,   5,  10,  15,  20,  25,  30,  35,  40,  45,  50,  55,  60,  65,\n",
       "        70,  75,  80,  85,  90,  95, 100, 105, 110, 115, 120, 125, 130, 135,\n",
       "       140, 145, 150, 155, 160, 165, 170, 175, 180, 185, 190, 195, 200])</pre></div></li><li class='xr-var-item'><div class='xr-var-name'><span class='xr-has-index'>d_bin_centers</span></div><div class='xr-var-dims'>(d_bin_centers)</div><div class='xr-var-dtype'>int64</div><div class='xr-var-preview xr-preview'>0 5 10 15 20 ... 180 185 190 195</div><input id='attrs-672909f5-e0c1-4154-9360-5bb098224716' class='xr-var-attrs-in' type='checkbox' ><label for='attrs-672909f5-e0c1-4154-9360-5bb098224716' title='Show/Hide attributes'><svg class='icon xr-icon-file-text2'><use xlink:href='#icon-file-text2'></use></svg></label><input id='data-497803e2-048c-4af3-bd2b-7969bfedb23f' class='xr-var-data-in' type='checkbox'><label for='data-497803e2-048c-4af3-bd2b-7969bfedb23f' title='Show/Hide data repr'><svg class='icon xr-icon-database'><use xlink:href='#icon-database'></use></svg></label><div class='xr-var-attrs'><dl class='xr-attrs'><dt><span>description :</span></dt><dd>histogram bin centers for diameters</dd><dt><span>units :</span></dt><dd>micrometers</dd></dl></div><div class='xr-var-data'><pre>array([  0,   5,  10,  15,  20,  25,  30,  35,  40,  45,  50,  55,  60,  65,\n",
       "        70,  75,  80,  85,  90,  95, 100, 105, 110, 115, 120, 125, 130, 135,\n",
       "       140, 145, 150, 155, 160, 165, 170, 175, 180, 185, 190, 195])</pre></div></li><li class='xr-var-item'><div class='xr-var-name'><span class='xr-has-index'>z_bin_edges</span></div><div class='xr-var-dims'>(z_bin_edges)</div><div class='xr-var-dtype'>int64</div><div class='xr-var-preview xr-preview'>14000 15000 16000 ... 159000 160000</div><input id='attrs-f58f6e8e-1510-408c-bd68-f76dfcf22372' class='xr-var-attrs-in' type='checkbox' ><label for='attrs-f58f6e8e-1510-408c-bd68-f76dfcf22372' title='Show/Hide attributes'><svg class='icon xr-icon-file-text2'><use xlink:href='#icon-file-text2'></use></svg></label><input id='data-a8f793d9-fb6a-4c3f-a24b-7806d28e01ee' class='xr-var-data-in' type='checkbox'><label for='data-a8f793d9-fb6a-4c3f-a24b-7806d28e01ee' title='Show/Hide data repr'><svg class='icon xr-icon-database'><use xlink:href='#icon-database'></use></svg></label><div class='xr-var-attrs'><dl class='xr-attrs'><dt><span>description :</span></dt><dd>histogram bin edges for z position</dd><dt><span>units :</span></dt><dd>micrometers</dd></dl></div><div class='xr-var-data'><pre>array([ 14000,  15000,  16000,  17000,  18000,  19000,  20000,  21000,  22000,\n",
       "        23000,  24000,  25000,  26000,  27000,  28000,  29000,  30000,  31000,\n",
       "        32000,  33000,  34000,  35000,  36000,  37000,  38000,  39000,  40000,\n",
       "        41000,  42000,  43000,  44000,  45000,  46000,  47000,  48000,  49000,\n",
       "        50000,  51000,  52000,  53000,  54000,  55000,  56000,  57000,  58000,\n",
       "        59000,  60000,  61000,  62000,  63000,  64000,  65000,  66000,  67000,\n",
       "        68000,  69000,  70000,  71000,  72000,  73000,  74000,  75000,  76000,\n",
       "        77000,  78000,  79000,  80000,  81000,  82000,  83000,  84000,  85000,\n",
       "        86000,  87000,  88000,  89000,  90000,  91000,  92000,  93000,  94000,\n",
       "        95000,  96000,  97000,  98000,  99000, 100000, 101000, 102000, 103000,\n",
       "       104000, 105000, 106000, 107000, 108000, 109000, 110000, 111000, 112000,\n",
       "       113000, 114000, 115000, 116000, 117000, 118000, 119000, 120000, 121000,\n",
       "       122000, 123000, 124000, 125000, 126000, 127000, 128000, 129000, 130000,\n",
       "       131000, 132000, 133000, 134000, 135000, 136000, 137000, 138000, 139000,\n",
       "       140000, 141000, 142000, 143000, 144000, 145000, 146000, 147000, 148000,\n",
       "       149000, 150000, 151000, 152000, 153000, 154000, 155000, 156000, 157000,\n",
       "       158000, 159000, 160000])</pre></div></li><li class='xr-var-item'><div class='xr-var-name'><span class='xr-has-index'>z_bin_centers</span></div><div class='xr-var-dims'>(z_bin_centers)</div><div class='xr-var-dtype'>int64</div><div class='xr-var-preview xr-preview'>14000 15000 16000 ... 158000 159000</div><input id='attrs-6169ea19-df2f-402d-85a0-6368f3fba3bd' class='xr-var-attrs-in' type='checkbox' ><label for='attrs-6169ea19-df2f-402d-85a0-6368f3fba3bd' title='Show/Hide attributes'><svg class='icon xr-icon-file-text2'><use xlink:href='#icon-file-text2'></use></svg></label><input id='data-ef3e1229-750c-4ffa-ad10-273f45b7dd7e' class='xr-var-data-in' type='checkbox'><label for='data-ef3e1229-750c-4ffa-ad10-273f45b7dd7e' title='Show/Hide data repr'><svg class='icon xr-icon-database'><use xlink:href='#icon-database'></use></svg></label><div class='xr-var-attrs'><dl class='xr-attrs'><dt><span>description :</span></dt><dd>histogram bin centers for z position</dd><dt><span>units :</span></dt><dd>micrometers</dd></dl></div><div class='xr-var-data'><pre>array([ 14000,  15000,  16000,  17000,  18000,  19000,  20000,  21000,  22000,\n",
       "        23000,  24000,  25000,  26000,  27000,  28000,  29000,  30000,  31000,\n",
       "        32000,  33000,  34000,  35000,  36000,  37000,  38000,  39000,  40000,\n",
       "        41000,  42000,  43000,  44000,  45000,  46000,  47000,  48000,  49000,\n",
       "        50000,  51000,  52000,  53000,  54000,  55000,  56000,  57000,  58000,\n",
       "        59000,  60000,  61000,  62000,  63000,  64000,  65000,  66000,  67000,\n",
       "        68000,  69000,  70000,  71000,  72000,  73000,  74000,  75000,  76000,\n",
       "        77000,  78000,  79000,  80000,  81000,  82000,  83000,  84000,  85000,\n",
       "        86000,  87000,  88000,  89000,  90000,  91000,  92000,  93000,  94000,\n",
       "        95000,  96000,  97000,  98000,  99000, 100000, 101000, 102000, 103000,\n",
       "       104000, 105000, 106000, 107000, 108000, 109000, 110000, 111000, 112000,\n",
       "       113000, 114000, 115000, 116000, 117000, 118000, 119000, 120000, 121000,\n",
       "       122000, 123000, 124000, 125000, 126000, 127000, 128000, 129000, 130000,\n",
       "       131000, 132000, 133000, 134000, 135000, 136000, 137000, 138000, 139000,\n",
       "       140000, 141000, 142000, 143000, 144000, 145000, 146000, 147000, 148000,\n",
       "       149000, 150000, 151000, 152000, 153000, 154000, 155000, 156000, 157000,\n",
       "       158000, 159000])</pre></div></li><li class='xr-var-item'><div class='xr-var-name'><span class='xr-has-index'>moments</span></div><div class='xr-var-dims'>(moments)</div><div class='xr-var-dtype'>int64</div><div class='xr-var-preview xr-preview'>0 1 2 3</div><input id='attrs-4e347a15-971b-4c79-8047-efa0fbf914e2' class='xr-var-attrs-in' type='checkbox' ><label for='attrs-4e347a15-971b-4c79-8047-efa0fbf914e2' title='Show/Hide attributes'><svg class='icon xr-icon-file-text2'><use xlink:href='#icon-file-text2'></use></svg></label><input id='data-18edd78d-a5a6-41b5-b501-ec009d42eff9' class='xr-var-data-in' type='checkbox'><label for='data-18edd78d-a5a6-41b5-b501-ec009d42eff9' title='Show/Hide data repr'><svg class='icon xr-icon-database'><use xlink:href='#icon-database'></use></svg></label><div class='xr-var-attrs'><dl class='xr-attrs'><dt><span>description :</span></dt><dd>diameter moment order</dd></dl></div><div class='xr-var-data'><pre>array([0, 1, 2, 3])</pre></div></li></ul></div></li><li class='xr-section-item'><input id='section-e663f3a4-6254-40ec-bb1b-60c69b1fb4f9' class='xr-section-summary-in' type='checkbox'  ><label for='section-e663f3a4-6254-40ec-bb1b-60c69b1fb4f9' class='xr-section-summary' >Data variables: <span>(17)</span></label><div class='xr-section-inline-details'></div><div class='xr-section-details'><ul class='xr-var-list'><li class='xr-var-item'><div class='xr-var-name'><span>source_filename</span></div><div class='xr-var-dims'>(hologram_number)</div><div class='xr-var-dtype'>object</div><div class='xr-var-preview xr-preview'>...</div><input id='attrs-57d39902-e63a-4491-bf61-d4d9b18f6580' class='xr-var-attrs-in' type='checkbox' ><label for='attrs-57d39902-e63a-4491-bf61-d4d9b18f6580' title='Show/Hide attributes'><svg class='icon xr-icon-file-text2'><use xlink:href='#icon-file-text2'></use></svg></label><input id='data-187401ab-e3f2-48b4-bdf1-c5b5fa1006a6' class='xr-var-data-in' type='checkbox'><label for='data-187401ab-e3f2-48b4-bdf1-c5b5fa1006a6' title='Show/Hide data repr'><svg class='icon xr-icon-database'><use xlink:href='#icon-database'></use></svg></label><div class='xr-var-attrs'><dl class='xr-attrs'><dt><span>description :</span></dt><dd>source file for hologram</dd></dl></div><div class='xr-var-data'><pre>[180000 values with dtype=object]</pre></div></li><li class='xr-var-item'><div class='xr-var-name'><span>hid</span></div><div class='xr-var-dims'>(hologram_number)</div><div class='xr-var-dtype'>int64</div><div class='xr-var-preview xr-preview'>...</div><input id='attrs-05b9c841-b3f0-445e-98d4-c78d75777e96' class='xr-var-attrs-in' type='checkbox' ><label for='attrs-05b9c841-b3f0-445e-98d4-c78d75777e96' title='Show/Hide attributes'><svg class='icon xr-icon-file-text2'><use xlink:href='#icon-file-text2'></use></svg></label><input id='data-0ca13f58-a5ac-416a-9183-6d905d717007' class='xr-var-data-in' type='checkbox'><label for='data-0ca13f58-a5ac-416a-9183-6d905d717007' title='Show/Hide data repr'><svg class='icon xr-icon-database'><use xlink:href='#icon-database'></use></svg></label><div class='xr-var-attrs'><dl class='xr-attrs'><dt><span>description :</span></dt><dd>hologram id number</dd></dl></div><div class='xr-var-data'><pre>[180000 values with dtype=int64]</pre></div></li><li class='xr-var-item'><div class='xr-var-name'><span>raft</span></div><div class='xr-var-dims'>(hologram_number, rsize)</div><div class='xr-var-dtype'>float32</div><div class='xr-var-preview xr-preview'>...</div><input id='attrs-f69aa694-8012-4c44-ba0b-84b6533f1c97' class='xr-var-attrs-in' type='checkbox' ><label for='attrs-f69aa694-8012-4c44-ba0b-84b6533f1c97' title='Show/Hide attributes'><svg class='icon xr-icon-file-text2'><use xlink:href='#icon-file-text2'></use></svg></label><input id='data-e5ac1096-15d6-4700-a994-f5c5b2838c01' class='xr-var-data-in' type='checkbox'><label for='data-e5ac1096-15d6-4700-a994-f5c5b2838c01' title='Show/Hide data repr'><svg class='icon xr-icon-database'><use xlink:href='#icon-database'></use></svg></label><div class='xr-var-attrs'><dl class='xr-attrs'><dt><span>description :</span></dt><dd>radially averaged Fourier Transform</dd></dl></div><div class='xr-var-data'><pre>[216000000 values with dtype=float32]</pre></div></li><li class='xr-var-item'><div class='xr-var-name'><span>mu</span></div><div class='xr-var-dims'>(hologram_number, latent_size)</div><div class='xr-var-dtype'>float32</div><div class='xr-var-preview xr-preview'>...</div><input id='attrs-e4397080-47ae-41bb-b782-ef22223bb387' class='xr-var-attrs-in' type='checkbox' ><label for='attrs-e4397080-47ae-41bb-b782-ef22223bb387' title='Show/Hide attributes'><svg class='icon xr-icon-file-text2'><use xlink:href='#icon-file-text2'></use></svg></label><input id='data-6ea6ec7c-8d89-400e-bebd-c9ea0e05328d' class='xr-var-data-in' type='checkbox'><label for='data-6ea6ec7c-8d89-400e-bebd-c9ea0e05328d' title='Show/Hide data repr'><svg class='icon xr-icon-database'><use xlink:href='#icon-database'></use></svg></label><div class='xr-var-attrs'><dl class='xr-attrs'><dt><span>description :</span></dt><dd>mean of latent value</dd></dl></div><div class='xr-var-data'><pre>[182520000 values with dtype=float32]</pre></div></li><li class='xr-var-item'><div class='xr-var-name'><span>logsig</span></div><div class='xr-var-dims'>(hologram_number, latent_size)</div><div class='xr-var-dtype'>float32</div><div class='xr-var-preview xr-preview'>...</div><input id='attrs-db15bc95-8954-4937-b794-5f0d14e82c76' class='xr-var-attrs-in' type='checkbox' ><label for='attrs-db15bc95-8954-4937-b794-5f0d14e82c76' title='Show/Hide attributes'><svg class='icon xr-icon-file-text2'><use xlink:href='#icon-file-text2'></use></svg></label><input id='data-c9eec98a-a99a-4d31-9f1f-6f8959cfe074' class='xr-var-data-in' type='checkbox'><label for='data-c9eec98a-a99a-4d31-9f1f-6f8959cfe074' title='Show/Hide data repr'><svg class='icon xr-icon-database'><use xlink:href='#icon-database'></use></svg></label><div class='xr-var-attrs'><dl class='xr-attrs'><dt><span>description :</span></dt><dd>log of standard deviation of latent value</dd></dl></div><div class='xr-var-data'><pre>[182520000 values with dtype=float32]</pre></div></li><li class='xr-var-item'><div class='xr-var-name'><span>z_latent</span></div><div class='xr-var-dims'>(hologram_number, latent_size)</div><div class='xr-var-dtype'>float32</div><div class='xr-var-preview xr-preview'>...</div><input id='attrs-5e8dc2b6-1fd5-4d17-b3fa-53062667c3d9' class='xr-var-attrs-in' type='checkbox' ><label for='attrs-5e8dc2b6-1fd5-4d17-b3fa-53062667c3d9' title='Show/Hide attributes'><svg class='icon xr-icon-file-text2'><use xlink:href='#icon-file-text2'></use></svg></label><input id='data-47eb13f1-2b92-49b4-8918-ed779b573465' class='xr-var-data-in' type='checkbox'><label for='data-47eb13f1-2b92-49b4-8918-ed779b573465' title='Show/Hide data repr'><svg class='icon xr-icon-database'><use xlink:href='#icon-database'></use></svg></label><div class='xr-var-attrs'><dl class='xr-attrs'><dt><span>description :</span></dt><dd>decoded latent value, z = mu+exp(logsig)*randn()</dd></dl></div><div class='xr-var-data'><pre>[182520000 values with dtype=float32]</pre></div></li><li class='xr-var-item'><div class='xr-var-name'><span>particle_id</span></div><div class='xr-var-dims'>(particle_number)</div><div class='xr-var-dtype'>int64</div><div class='xr-var-preview xr-preview'>...</div><input id='attrs-2c136b53-fa6a-4500-8653-cb9777af7140' class='xr-var-attrs-in' type='checkbox' ><label for='attrs-2c136b53-fa6a-4500-8653-cb9777af7140' title='Show/Hide attributes'><svg class='icon xr-icon-file-text2'><use xlink:href='#icon-file-text2'></use></svg></label><input id='data-0b4624c2-8f58-4b14-9766-e1649d3d4554' class='xr-var-data-in' type='checkbox'><label for='data-0b4624c2-8f58-4b14-9766-e1649d3d4554' title='Show/Hide data repr'><svg class='icon xr-icon-database'><use xlink:href='#icon-database'></use></svg></label><div class='xr-var-attrs'><dl class='xr-attrs'><dt><span>description :</span></dt><dd>hologram index (hologram_number) in this dataset for x, y, z, d data</dd></dl></div><div class='xr-var-data'><pre>[2028998 values with dtype=int64]</pre></div></li><li class='xr-var-item'><div class='xr-var-name'><span>x</span></div><div class='xr-var-dims'>(particle_number)</div><div class='xr-var-dtype'>float64</div><div class='xr-var-preview xr-preview'>...</div><input id='attrs-8c69b67f-2f87-4141-ae18-e898ef1e0475' class='xr-var-attrs-in' type='checkbox' ><label for='attrs-8c69b67f-2f87-4141-ae18-e898ef1e0475' title='Show/Hide attributes'><svg class='icon xr-icon-file-text2'><use xlink:href='#icon-file-text2'></use></svg></label><input id='data-e506ed7d-7978-4e2c-b1fe-5ec4f5c3e111' class='xr-var-data-in' type='checkbox'><label for='data-e506ed7d-7978-4e2c-b1fe-5ec4f5c3e111' title='Show/Hide data repr'><svg class='icon xr-icon-database'><use xlink:href='#icon-database'></use></svg></label><div class='xr-var-attrs'><dl class='xr-attrs'><dt><span>description :</span></dt><dd>particle x position, for hologram index see particle_id</dd><dt><span>units :</span></dt><dd>micrometers</dd></dl></div><div class='xr-var-data'><pre>[2028998 values with dtype=float64]</pre></div></li><li class='xr-var-item'><div class='xr-var-name'><span>y</span></div><div class='xr-var-dims'>(particle_number)</div><div class='xr-var-dtype'>float64</div><div class='xr-var-preview xr-preview'>...</div><input id='attrs-62337c74-2555-43e5-bfcc-53d2a1e4c126' class='xr-var-attrs-in' type='checkbox' ><label for='attrs-62337c74-2555-43e5-bfcc-53d2a1e4c126' title='Show/Hide attributes'><svg class='icon xr-icon-file-text2'><use xlink:href='#icon-file-text2'></use></svg></label><input id='data-42fcefb7-ccce-4d65-8637-aaeae7c8abd3' class='xr-var-data-in' type='checkbox'><label for='data-42fcefb7-ccce-4d65-8637-aaeae7c8abd3' title='Show/Hide data repr'><svg class='icon xr-icon-database'><use xlink:href='#icon-database'></use></svg></label><div class='xr-var-attrs'><dl class='xr-attrs'><dt><span>description :</span></dt><dd>particle y position, for hologram index see particle_id</dd><dt><span>units :</span></dt><dd>micrometers</dd></dl></div><div class='xr-var-data'><pre>[2028998 values with dtype=float64]</pre></div></li><li class='xr-var-item'><div class='xr-var-name'><span>z</span></div><div class='xr-var-dims'>(particle_number)</div><div class='xr-var-dtype'>float64</div><div class='xr-var-preview xr-preview'>...</div><input id='attrs-084f1f50-2390-4c38-a5d1-c21f0258a52a' class='xr-var-attrs-in' type='checkbox' ><label for='attrs-084f1f50-2390-4c38-a5d1-c21f0258a52a' title='Show/Hide attributes'><svg class='icon xr-icon-file-text2'><use xlink:href='#icon-file-text2'></use></svg></label><input id='data-b313e6c5-18be-49a8-b3c9-d1bffbec2927' class='xr-var-data-in' type='checkbox'><label for='data-b313e6c5-18be-49a8-b3c9-d1bffbec2927' title='Show/Hide data repr'><svg class='icon xr-icon-database'><use xlink:href='#icon-database'></use></svg></label><div class='xr-var-attrs'><dl class='xr-attrs'><dt><span>description :</span></dt><dd>particle z position, for hologram index see particle_id</dd><dt><span>units :</span></dt><dd>micrometers</dd></dl></div><div class='xr-var-data'><pre>[2028998 values with dtype=float64]</pre></div></li><li class='xr-var-item'><div class='xr-var-name'><span>d</span></div><div class='xr-var-dims'>(particle_number)</div><div class='xr-var-dtype'>float64</div><div class='xr-var-preview xr-preview'>...</div><input id='attrs-24ac7696-e6c9-4d39-8482-f13121d0202c' class='xr-var-attrs-in' type='checkbox' ><label for='attrs-24ac7696-e6c9-4d39-8482-f13121d0202c' title='Show/Hide attributes'><svg class='icon xr-icon-file-text2'><use xlink:href='#icon-file-text2'></use></svg></label><input id='data-5e5be495-4b82-4cfa-b741-9033f6bf834b' class='xr-var-data-in' type='checkbox'><label for='data-5e5be495-4b82-4cfa-b741-9033f6bf834b' title='Show/Hide data repr'><svg class='icon xr-icon-database'><use xlink:href='#icon-database'></use></svg></label><div class='xr-var-attrs'><dl class='xr-attrs'><dt><span>description :</span></dt><dd>particle diameter, for hologram index see particle_id</dd><dt><span>units :</span></dt><dd>micrometers</dd></dl></div><div class='xr-var-data'><pre>[2028998 values with dtype=float64]</pre></div></li><li class='xr-var-item'><div class='xr-var-name'><span>d_hist</span></div><div class='xr-var-dims'>(hologram_number, d_bin_centers)</div><div class='xr-var-dtype'>int64</div><div class='xr-var-preview xr-preview'>...</div><input id='attrs-1bd33b8d-f5a8-4f44-9437-b63d2b92b489' class='xr-var-attrs-in' type='checkbox' ><label for='attrs-1bd33b8d-f5a8-4f44-9437-b63d2b92b489' title='Show/Hide attributes'><svg class='icon xr-icon-file-text2'><use xlink:href='#icon-file-text2'></use></svg></label><input id='data-2b32f403-9fbf-419e-a4c1-bbaa65dda074' class='xr-var-data-in' type='checkbox'><label for='data-2b32f403-9fbf-419e-a4c1-bbaa65dda074' title='Show/Hide data repr'><svg class='icon xr-icon-database'><use xlink:href='#icon-database'></use></svg></label><div class='xr-var-attrs'><dl class='xr-attrs'><dt><span>description :</span></dt><dd>histogram of particle diameters</dd></dl></div><div class='xr-var-data'><pre>[7200000 values with dtype=int64]</pre></div></li><li class='xr-var-item'><div class='xr-var-name'><span>d_hist_lim</span></div><div class='xr-var-dims'>(hologram_number, d_bin_centers)</div><div class='xr-var-dtype'>int64</div><div class='xr-var-preview xr-preview'>...</div><input id='attrs-000b81f5-9029-4468-89d6-6233aac56866' class='xr-var-attrs-in' type='checkbox' ><label for='attrs-000b81f5-9029-4468-89d6-6233aac56866' title='Show/Hide attributes'><svg class='icon xr-icon-file-text2'><use xlink:href='#icon-file-text2'></use></svg></label><input id='data-a3a46707-25a3-4c53-867d-aa83c4d75780' class='xr-var-data-in' type='checkbox'><label for='data-a3a46707-25a3-4c53-867d-aa83c4d75780' title='Show/Hide data repr'><svg class='icon xr-icon-database'><use xlink:href='#icon-database'></use></svg></label><div class='xr-var-attrs'><dl class='xr-attrs'><dt><span>description :</span></dt><dd>histogram of particle diameters where particles outside of zlimits are omitted</dd></dl></div><div class='xr-var-data'><pre>[7200000 values with dtype=int64]</pre></div></li><li class='xr-var-item'><div class='xr-var-name'><span>z_hist</span></div><div class='xr-var-dims'>(hologram_number, z_bin_centers)</div><div class='xr-var-dtype'>int64</div><div class='xr-var-preview xr-preview'>...</div><input id='attrs-e77ca891-8b1d-410f-9372-fab052fafd15' class='xr-var-attrs-in' type='checkbox' ><label for='attrs-e77ca891-8b1d-410f-9372-fab052fafd15' title='Show/Hide attributes'><svg class='icon xr-icon-file-text2'><use xlink:href='#icon-file-text2'></use></svg></label><input id='data-64475807-7569-42f4-8b97-dc91c404303b' class='xr-var-data-in' type='checkbox'><label for='data-64475807-7569-42f4-8b97-dc91c404303b' title='Show/Hide data repr'><svg class='icon xr-icon-database'><use xlink:href='#icon-database'></use></svg></label><div class='xr-var-attrs'><dl class='xr-attrs'><dt><span>description :</span></dt><dd>histogram of particle z position</dd></dl></div><div class='xr-var-data'><pre>[26280000 values with dtype=int64]</pre></div></li><li class='xr-var-item'><div class='xr-var-name'><span>dz_hist</span></div><div class='xr-var-dims'>(hologram_number, d_bin_centers, z_bin_centers)</div><div class='xr-var-dtype'>float64</div><div class='xr-var-preview xr-preview'>...</div><input id='attrs-3505151e-b5f2-4b70-8cdb-0e237ba84dc6' class='xr-var-attrs-in' type='checkbox' ><label for='attrs-3505151e-b5f2-4b70-8cdb-0e237ba84dc6' title='Show/Hide attributes'><svg class='icon xr-icon-file-text2'><use xlink:href='#icon-file-text2'></use></svg></label><input id='data-7bb8bb59-f28b-4e3d-8edc-ade1e1547966' class='xr-var-data-in' type='checkbox'><label for='data-7bb8bb59-f28b-4e3d-8edc-ade1e1547966' title='Show/Hide data repr'><svg class='icon xr-icon-database'><use xlink:href='#icon-database'></use></svg></label><div class='xr-var-attrs'><dl class='xr-attrs'><dt><span>description :</span></dt><dd>histogram of particle diameter and z position</dd></dl></div><div class='xr-var-data'><pre>[1051200000 values with dtype=float64]</pre></div></li><li class='xr-var-item'><div class='xr-var-name'><span>moments_zlim</span></div><div class='xr-var-dims'>(hologram_number, moments)</div><div class='xr-var-dtype'>float64</div><div class='xr-var-preview xr-preview'>...</div><input id='attrs-a0653118-78ab-4a5f-8e53-dc69ddffc82f' class='xr-var-attrs-in' type='checkbox' ><label for='attrs-a0653118-78ab-4a5f-8e53-dc69ddffc82f' title='Show/Hide attributes'><svg class='icon xr-icon-file-text2'><use xlink:href='#icon-file-text2'></use></svg></label><input id='data-af0dcad6-e92c-42b5-b8bc-5089fc716938' class='xr-var-data-in' type='checkbox'><label for='data-af0dcad6-e92c-42b5-b8bc-5089fc716938' title='Show/Hide data repr'><svg class='icon xr-icon-database'><use xlink:href='#icon-database'></use></svg></label><div class='xr-var-attrs'><dl class='xr-attrs'><dt><span>description :</span></dt><dd>true computed moments for the hologram where particles outside of zlimits are omitted</dd></dl></div><div class='xr-var-data'><pre>[720000 values with dtype=float64]</pre></div></li><li class='xr-var-item'><div class='xr-var-name'><span>moments_nolim</span></div><div class='xr-var-dims'>(hologram_number, moments)</div><div class='xr-var-dtype'>float64</div><div class='xr-var-preview xr-preview'>...</div><input id='attrs-beb78a27-9c10-4b46-8c49-3bcd6f4c757d' class='xr-var-attrs-in' type='checkbox' ><label for='attrs-beb78a27-9c10-4b46-8c49-3bcd6f4c757d' title='Show/Hide attributes'><svg class='icon xr-icon-file-text2'><use xlink:href='#icon-file-text2'></use></svg></label><input id='data-53b7563f-9b09-4ac5-83c6-52d90f282b7c' class='xr-var-data-in' type='checkbox'><label for='data-53b7563f-9b09-4ac5-83c6-52d90f282b7c' title='Show/Hide data repr'><svg class='icon xr-icon-database'><use xlink:href='#icon-database'></use></svg></label><div class='xr-var-attrs'><dl class='xr-attrs'><dt><span>description :</span></dt><dd>true computed moments for the hologram for all particles</dd></dl></div><div class='xr-var-data'><pre>[720000 values with dtype=float64]</pre></div></li></ul></div></li><li class='xr-section-item'><input id='section-324672cf-6af4-4a60-8e45-f77b46c53418' class='xr-section-summary-in' type='checkbox'  checked><label for='section-324672cf-6af4-4a60-8e45-f77b46c53418' class='xr-section-summary' >Attributes: <span>(9)</span></label><div class='xr-section-inline-details'></div><div class='xr-section-details'><dl class='xr-attrs'><dt><span>generator :</span></dt><dd>training_1_25particles_gamma.pkl</dd><dt><span>created :</span></dt><dd>20210427T122019</dd><dt><span>zlim_lb :</span></dt><dd>24000</dd><dt><span>zlim_ub :</span></dt><dd>150000</dd><dt><span>d_bin_wid :</span></dt><dd>5</dd><dt><span>d_max :</span></dt><dd>200</dd><dt><span>z_bin_wid :</span></dt><dd>1000</dd><dt><span>z_max :</span></dt><dd>160000</dd><dt><span>z_min :</span></dt><dd>14000</dd></dl></div></li></ul></div></div>"
      ],
      "text/plain": [
       "<xarray.Dataset>\n",
       "Dimensions:          (d_bin_centers: 40, d_bin_edges: 41, hologram_number: 180000, latent_size: 1014, moments: 4, particle_number: 2028998, rsize: 1200, z_bin_centers: 146, z_bin_edges: 147)\n",
       "Coordinates:\n",
       "  * hologram_number  (hologram_number) int64 0 1 2 3 ... 179997 179998 179999\n",
       "  * d_bin_edges      (d_bin_edges) int64 0 5 10 15 20 25 ... 180 185 190 195 200\n",
       "  * d_bin_centers    (d_bin_centers) int64 0 5 10 15 20 ... 175 180 185 190 195\n",
       "  * z_bin_edges      (z_bin_edges) int64 14000 15000 16000 ... 159000 160000\n",
       "  * z_bin_centers    (z_bin_centers) int64 14000 15000 16000 ... 158000 159000\n",
       "  * moments          (moments) int64 0 1 2 3\n",
       "Dimensions without coordinates: latent_size, particle_number, rsize\n",
       "Data variables: (12/17)\n",
       "    source_filename  (hologram_number) object ...\n",
       "    hid              (hologram_number) int64 ...\n",
       "    raft             (hologram_number, rsize) float32 ...\n",
       "    mu               (hologram_number, latent_size) float32 ...\n",
       "    logsig           (hologram_number, latent_size) float32 ...\n",
       "    z_latent         (hologram_number, latent_size) float32 ...\n",
       "    ...               ...\n",
       "    d_hist           (hologram_number, d_bin_centers) int64 ...\n",
       "    d_hist_lim       (hologram_number, d_bin_centers) int64 ...\n",
       "    z_hist           (hologram_number, z_bin_centers) int64 ...\n",
       "    dz_hist          (hologram_number, d_bin_centers, z_bin_centers) float64 ...\n",
       "    moments_zlim     (hologram_number, moments) float64 ...\n",
       "    moments_nolim    (hologram_number, moments) float64 ...\n",
       "Attributes:\n",
       "    generator:  training_1_25particles_gamma.pkl\n",
       "    created:    20210427T122019\n",
       "    zlim_lb:    24000\n",
       "    zlim_ub:    150000\n",
       "    d_bin_wid:  5\n",
       "    d_max:      200\n",
       "    z_bin_wid:  1000\n",
       "    z_max:      160000\n",
       "    z_min:      14000"
      ]
     },
     "execution_count": 42,
     "metadata": {},
     "output_type": "execute_result"
    }
   ],
   "source": [
    "training_ds = xr.open_dataset(paths['load_data']+files['data_file'])\n",
    "validation_ds = xr.open_dataset(paths['load_data']+files['validation_file'])\n",
    "training_ds"
   ]
  },
  {
   "cell_type": "code",
   "execution_count": 43,
   "id": "everyday-object",
   "metadata": {},
   "outputs": [],
   "source": [
    "# generator for VAE decoder\n",
    "\n",
    "def read_data(filename, in_var, label_var, max_holograms = 1e10):\n",
    "    \"\"\"\n",
    "    data generator for netcdf data\n",
    "    filename: str\n",
    "        filename including path to use in generator\n",
    "    in_var: str\n",
    "        variable to load from the dataset as an input\n",
    "    label_var: str\n",
    "        variable to load as training data\n",
    "    max_holograms: int\n",
    "        limit the set size to smaller than what is\n",
    "        in the data file\n",
    "    \"\"\"\n",
    "    with xr.open_dataset(filename) as ds:\n",
    "        loaded = 0\n",
    "        while True:\n",
    "            try:\n",
    "                yield torch.tensor(ds[in_var].isel(hologram_number=loaded).values), torch.tensor(ds[label_var].isel(hologram_number=loaded))\n",
    "                loaded += 1\n",
    "            except:\n",
    "                break\n",
    "            if loaded >= max_holograms:\n",
    "                break"
   ]
  },
  {
   "cell_type": "code",
   "execution_count": 9,
   "id": "controlling-binary",
   "metadata": {},
   "outputs": [],
   "source": [
    "train_inputs = read_data(paths['load_data']+files['data_file'],'mu','dz_hist')"
   ]
  },
  {
   "cell_type": "code",
   "execution_count": 13,
   "id": "pacific-student",
   "metadata": {},
   "outputs": [
    {
     "name": "stdout",
     "output_type": "stream",
     "text": [
      "[ 0.62413687  1.3024302   0.43887284 -0.6221197   0.46862   ]\n",
      "[ 1.3646911   1.9504323  -2.9565217  -0.07729426 -1.2910931 ]\n",
      "[-1.7152184  -0.14415681  0.46564174  0.42509437  0.11636823]\n",
      "[ 0.25206912  0.9759215  -1.4234344   0.03159393 -0.4886579 ]\n",
      "[-1.3120594  -2.7010288   0.5597257  -0.25498712 -1.700954  ]\n",
      "[-0.08452333 -1.2303251   1.2030989   0.01935285 -2.692104  ]\n",
      "[-0.20304959 -0.56243324 -0.67152023  0.52487457 -1.2246764 ]\n",
      "[ 1.1349989   0.43329823 -0.78056693  1.1977587   0.23079532]\n",
      "[ 1.4367521  0.6517181 -1.6499256  0.5944417  0.9978596]\n"
     ]
    }
   ],
   "source": [
    "for in_da in training_inputs:\n",
    "    print(in_da[0].values[:5])"
   ]
  },
  {
   "cell_type": "code",
   "execution_count": null,
   "id": "finite-eleven",
   "metadata": {},
   "outputs": [],
   "source": []
  },
  {
   "cell_type": "code",
   "execution_count": null,
   "id": "reduced-gambling",
   "metadata": {},
   "outputs": [],
   "source": [
    "# class HologramDataset(Dataset):\n",
    "    \n",
    "#     def __init__(\n",
    "#         self, \n",
    "#         path_data: str, \n",
    "#         num_particles: int, \n",
    "#         split: str, \n",
    "#         subset: bool, \n",
    "#         output_cols: List[str], \n",
    "#         shuffle: bool = True,\n",
    "#         scaler: Dict[str, str] = False, \n",
    "#         transform = None) -> None:\n",
    "        \n",
    "#         'Initialization'\n",
    "#         self.ds = self.open_dataset(path_data, num_particles, split)\n",
    "#         self.output_cols = [x for x in output_cols if x != 'hid']        \n",
    "#         self.subset = subset\n",
    "#         self.hologram_numbers = self.ds.hologram_number.values\n",
    "#         self.num_particles = num_particles\n",
    "#         self.xsize = len(self.ds.xsize.values)\n",
    "#         self.ysize = len(self.ds.ysize.values)\n",
    "#         self.shuffle = shuffle\n",
    "#         self.maxnum_particles = maxnum_particles\n",
    "#         self.transform = transform\n",
    "#         self.on_epoch_end()\n",
    "                \n",
    "#         if not scaler:\n",
    "#             self.scaler = {col: StandardScaler() for col in output_cols}\n",
    "#             for col in output_cols:\n",
    "#                 scale = self.ds[col].values\n",
    "#                 self.scaler[col].fit(scale.reshape(scale.shape[-1], -1))\n",
    "#         else:\n",
    "#             self.scaler = scaler\n",
    "            \n",
    "#         logger.info(\n",
    "#             f\"Loaded {split} hologram data containing {len(self.hologram_numbers)} images\"\n",
    "#         )\n",
    "        \n",
    "#     def get_transform(self):\n",
    "#         return self.scaler\n",
    "\n",
    "#     def __len__(self):\n",
    "#         'Denotes the number of batches per epoch'\n",
    "#         return len(self.hologram_numbers)\n",
    "    \n",
    "#     def __getitem__(self, idx):\n",
    "#         'Generate one data point'\n",
    "#         hologram = random.choice(self.hologram_numbers)\n",
    "#         im = self.ds[\"image\"][hologram].values\n",
    "#         im = {\"image\": self.reshape(im)}\n",
    "#         if self.transform:\n",
    "#             im = self.transform(im)\n",
    "#         self.processed += 1\n",
    "#         if self.processed == self.__len__():\n",
    "#             self.on_epoch_end()\n",
    "#         return im[\"image\"]\n",
    "    \n",
    "#     def on_epoch_end(self):\n",
    "#         'Updates indexes after each epoch'\n",
    "#         self.processed = 0\n",
    "#         if self.shuffle == True:\n",
    "#             random.shuffle(self.hologram_numbers)\n",
    "                \n",
    "#     def reshape(self, X):\n",
    "#         x, y = X.shape\n",
    "#         return X.reshape((1,x,y))\n",
    "            \n",
    "#     def open_dataset(self, path_data, num_particles, split):\n",
    "#         \"\"\"\n",
    "#         Opens a HOLODEC file\n",
    "\n",
    "#         Args: \n",
    "#             path_data: (str) Path to dataset directory\n",
    "#             num_particles: (int or str) Number of particles per hologram\n",
    "#             split: (str) Dataset split of either 'train', 'valid', or 'test'\n",
    "\n",
    "#         Returns:\n",
    "#             ds: (xarray Dataset) Opened dataset\n",
    "#         \"\"\"\n",
    "#         path_data = os.path.join(path_data, self.dataset_name(num_particles, split))\n",
    "\n",
    "#         if not os.path.isfile(path_data):\n",
    "#             print(f\"Data file does not exist at {path_data}. Exiting.\")\n",
    "#             raise \n",
    "\n",
    "#         ds = xr.open_dataset(path_data)\n",
    "#         return ds\n",
    "    \n",
    "#     def dataset_name(self, num_particles, split, file_extension='nc'):\n",
    "#         \"\"\"\n",
    "#         Return the dataset filename given user inputs\n",
    "\n",
    "#         Args: \n",
    "#             num_particles: (int or str) Number of particles per hologram\n",
    "#             split: (str) Dataset split of either 'train', 'valid', or 'test'\n",
    "#             file_extension: (str) Dataset file extension\n",
    "\n",
    "#         Returns:\n",
    "#             ds_name: (str) Dataset name\n",
    "#         \"\"\"\n",
    "\n",
    "#         valid = [1,3,'multi','50-100']\n",
    "#         if num_particles not in valid:\n",
    "#             raise ValueError(\"results: num_particles must be one of %r.\" % valid)\n",
    "#         num_particles = num_particles_dict[num_particles]\n",
    "\n",
    "#         valid = ['train','test','valid']\n",
    "#         if split not in valid:\n",
    "#             raise ValueError(\"results: split must be one of %r.\" % valid)\n",
    "#         split = split_dict[split]\n",
    "#         ds_name = f'synthetic_holograms_{num_particles}_{split}.{file_extension}'\n",
    "\n",
    "#         return ds_name"
   ]
  },
  {
   "cell_type": "code",
   "execution_count": 10,
   "id": "fiscal-neighbor",
   "metadata": {},
   "outputs": [],
   "source": []
  },
  {
   "cell_type": "code",
   "execution_count": 93,
   "id": "burning-guard",
   "metadata": {},
   "outputs": [],
   "source": [
    "# def loss_fn(y_pred, y_actual,l1=0):\n",
    "#     mse = torch.sum(torch.square(y_pred-y_actual))\n",
    "#     l1reg = l1*torch.sum(torch.abs(y_pred))\n",
    "#     loss_out = mse + l1reg\n",
    "#     return loss_out, mse, l1reg\n",
    "\n",
    "# class Trainer:\n",
    "    \n",
    "#     def __init__(self, \n",
    "#                  model, \n",
    "#                  optimizer,\n",
    "#                  train_gen, \n",
    "#                  valid_gen, \n",
    "#                  dataloader, \n",
    "#                  valid_dataloader,\n",
    "#                  batch_size,\n",
    "#                  path_save,\n",
    "#                  device,\n",
    "#                  l1=0):\n",
    "        \n",
    "#         self.model = model\n",
    "#         self.optimizer = optimizer\n",
    "#         self.train_gen = train_gen\n",
    "#         self.valid_gen = valid_gen\n",
    "#         self.dataloader = dataloader\n",
    "#         self.valid_dataloader = valid_dataloader\n",
    "#         self.batch_size = batch_size\n",
    "#         self.path_save = path_save\n",
    "#         self.device = device\n",
    "#         self.test_image = test_image\n",
    "        \n",
    "        \n",
    "#     def train_one_epoch(self, epoch):\n",
    "\n",
    "#         self.model.train()\n",
    "#         batches_per_epoch = int(np.ceil(self.train_gen.__len__() / self.batch_size))\n",
    "#         batch_group_generator = tqdm.tqdm(\n",
    "#             enumerate(self.dataloader),\n",
    "#             total=batches_per_epoch, \n",
    "#             leave=True\n",
    "#         )\n",
    "\n",
    "#         epoch_losses = {\"loss\": [], \"mse\": [], \"l1reg\": []}\n",
    "#         for idx, images in batch_group_generator:\n",
    "\n",
    "#             images = images.to(self.device)\n",
    "#             recon_images, mu, logvar = self.model(images)\n",
    "            \n",
    "#             loss,mse,l1reg = loss_fn(y_pred, y_act, l1=l1)\n",
    "\n",
    "#             self.optimizer.zero_grad()\n",
    "#             loss.backward()\n",
    "#             self.optimizer.step()\n",
    "\n",
    "#             batch_loss = loss.item() / batch_size\n",
    "#             batch_mse = mse.item() / batch_size\n",
    "#             batch_l1reg = l1reg.item() / batch_size\n",
    "\n",
    "#             epoch_losses[\"loss\"].append(batch_loss)\n",
    "#             epoch_losses[\"mse\"].append(batch_mse)\n",
    "#             epoch_losses[\"l1reg\"].append(batch_l1reg)\n",
    "\n",
    "#             loss = np.mean(epoch_losses[\"loss\"])\n",
    "#             mse = np.mean(epoch_losses[\"mse\"])\n",
    "#             l1reg = np.mean(epoch_losses[\"l1reg\"])\n",
    "\n",
    "#             to_print = \"loss: {:.3f} mse: {:.3f} l1reg: {:.3f}\".format(loss, mse, l1reg)\n",
    "#             batch_group_generator.set_description(to_print)\n",
    "#             batch_group_generator.update()\n",
    "\n",
    "#         return loss, mse, l1reg\n",
    "\n",
    "\n",
    "#     def test(self, epoch):\n",
    "\n",
    "#         self.model.eval()\n",
    "#         batches_per_epoch = int(np.ceil(self.valid_gen.__len__() / self.batch_size))\n",
    "\n",
    "#         with torch.no_grad():\n",
    "\n",
    "#             batch_group_generator = tqdm.tqdm(\n",
    "#                 enumerate(self.valid_dataloader),\n",
    "#                 total=batches_per_epoch, \n",
    "#                 leave=True\n",
    "#             )\n",
    "\n",
    "#             epoch_losses = {\"loss\": [], \"mse\": [], \"l1reg\": []}\n",
    "#             for idx, images in batch_group_generator:\n",
    "\n",
    "#                 images = images.to(self.device)\n",
    "#                 recon_images, mu, logvar = self.model(images)\n",
    "#                 loss,mse,l1reg = loss_fn(y_pred, y_act, l1=l1)\n",
    "\n",
    "#                 batch_loss = loss.item() / batch_size\n",
    "#                 batch_mse = mse.item() / batch_size\n",
    "#                 batch_l1reg = l1reg.item() / batch_size\n",
    "\n",
    "#                 epoch_losses[\"loss\"].append(batch_loss)\n",
    "#                 epoch_losses[\"mse\"].append(batch_mse)\n",
    "#                 epoch_losses[\"l1reg\"].append(batch_l1reg)\n",
    "\n",
    "#                 loss = np.mean(epoch_losses[\"loss\"])\n",
    "#                 mse = np.mean(epoch_losses[\"mse\"])\n",
    "#                 l1reg = np.mean(epoch_losses[\"l1reg\"])\n",
    "\n",
    "#                 to_print = \"loss: {:.3f} mse: {:.3f} l1reg: {:.3f}\".format(loss, mse, l1reg)\n",
    "#                 batch_group_generator.set_description(to_print)\n",
    "#                 batch_group_generator.update()\n",
    "\n",
    "#         return loss"
   ]
  },
  {
   "cell_type": "code",
   "execution_count": 10,
   "id": "molecular-generation",
   "metadata": {},
   "outputs": [],
   "source": [
    "### setup the data logger\n",
    "\n",
    "root = logging.getLogger()\n",
    "root.setLevel(logging.DEBUG)\n",
    "formatter = logging.Formatter('%(levelname)s:%(name)s:%(message)s')\n",
    "\n",
    "# Stream output to stdout\n",
    "ch = logging.StreamHandler()\n",
    "ch.setLevel(logging.INFO)\n",
    "ch.setFormatter(formatter)\n",
    "root.addHandler(ch)\n",
    "\n",
    "# Save the log file\n",
    "logger_name = os.path.join(save_file_path, save_file_path, \"log.txt\")\n",
    "fh = logging.FileHandler(logger_name,\n",
    "                         mode=\"w\",\n",
    "                         encoding='utf-8')\n",
    "fh.setLevel(logging.DEBUG)\n",
    "fh.setFormatter(formatter)\n",
    "root.addHandler(fh)\n",
    "\n",
    "###"
   ]
  },
  {
   "cell_type": "code",
   "execution_count": 44,
   "id": "postal-millennium",
   "metadata": {},
   "outputs": [],
   "source": [
    "# def loss_fn(y_pred, y_actual,l1=0):\n",
    "#     mse = ((y_pred-y_actual)**2).mean()\n",
    "#     l1reg = l1*((y_pred).abs()).mean()\n",
    "#     loss_out = mse + l1reg\n",
    "#     return loss_out #, mse, l1reg\n",
    "\n",
    "def loss_fn(y_pred, y_actual,l1=0):\n",
    "    mse = ((y_pred.cumsum(1).cumsum(2)-y_actual.cumsum(1).cumsum(2))**2).mean()\n",
    "    l1reg = l1*((y_pred).abs()).mean()\n",
    "    loss_out = mse + l1reg\n",
    "    return loss_out #, mse, l1reg\n",
    "\n",
    "# loss_fn = F.binary_cross_entropy\n",
    "# loss_fn = F.mse_loss"
   ]
  },
  {
   "cell_type": "code",
   "execution_count": 45,
   "id": "exotic-creativity",
   "metadata": {},
   "outputs": [],
   "source": [
    "### Use gpu if available\n",
    "is_cuda = torch.cuda.is_available()\n",
    "device = torch.device(torch.cuda.current_device()) if is_cuda else torch.device(\"cpu\")\n",
    "    \n",
    "logging.info(f'Preparing to use device {device}')\n",
    "### "
   ]
  },
  {
   "cell_type": "code",
   "execution_count": 46,
   "id": "standard-dance",
   "metadata": {},
   "outputs": [],
   "source": [
    "### Program Inputs\n",
    "\n",
    "# number of nodes in each dense layer except the last one\n",
    "# the size of the last layer is determined by the output\n",
    "# size\n",
    "layer_nodes = [4000, 2000, 1000]# [1000,800]  \n",
    "epochs = 60\n",
    "learning_rate = 1e-4\n",
    "optimizer_type = 'adam'\n",
    "batch_size = 128\n",
    "workers = 1\n",
    "in_var = 'mu'\n",
    "label_var = 'dz_hist'\n",
    "###\n",
    "\n"
   ]
  },
  {
   "cell_type": "code",
   "execution_count": 47,
   "id": "bronze-alias",
   "metadata": {},
   "outputs": [
    {
     "data": {
      "text/plain": [
       "True"
      ]
     },
     "execution_count": 47,
     "metadata": {},
     "output_type": "execute_result"
    }
   ],
   "source": [
    "is_cuda"
   ]
  },
  {
   "cell_type": "code",
   "execution_count": null,
   "id": "surrounded-unknown",
   "metadata": {},
   "outputs": [],
   "source": []
  },
  {
   "cell_type": "code",
   "execution_count": null,
   "id": "continued-hobby",
   "metadata": {},
   "outputs": [],
   "source": []
  },
  {
   "cell_type": "code",
   "execution_count": 48,
   "id": "quarterly-dublin",
   "metadata": {},
   "outputs": [
    {
     "data": {
      "text/plain": [
       "True"
      ]
     },
     "execution_count": 48,
     "metadata": {},
     "output_type": "execute_result"
    }
   ],
   "source": [
    "is_cuda"
   ]
  },
  {
   "cell_type": "code",
   "execution_count": 49,
   "id": "postal-invitation",
   "metadata": {},
   "outputs": [],
   "source": [
    "input_size = np.prod(training_ds['mu'].shape[1:])\n",
    "# output_size = np.prod(training_ds['dz_hist'].shape[1:])\n",
    "output_shape = training_ds['dz_hist'].shape[1:]\n",
    "\n",
    "class LatentDecoder(nn.Module):\n",
    "    def __init__(self,in_size,out_shape,layer_nodes):\n",
    "        \"\"\"\n",
    "        in_size: int\n",
    "            size of inputs tensor\n",
    "        out_shape: tuple\n",
    "            shape of the output tensor\n",
    "        \"\"\"\n",
    "        super(LatentDecoder, self).__init__()\n",
    "        \n",
    "        self.out_shape = out_shape\n",
    "        out_size = np.prod(out_shape)\n",
    "\n",
    "        # create a list of the NN layers\n",
    "        self.layer_lst = nn.ModuleList()\n",
    "        for idx,node_count in enumerate(layer_nodes):\n",
    "            if idx == 0:\n",
    "                self.layer_lst.append(nn.Linear(in_size,node_count))\n",
    "            else:\n",
    "                self.layer_lst.append(nn.Linear(layer_nodes[idx-1],node_count))\n",
    "            \n",
    "        self.layer_lst.append(nn.Linear(layer_nodes[-1],out_size))\n",
    "        \n",
    "        self.activation = nn.ReLU()\n",
    "        self.output_activation = nn.ReLU() #nn.Sigmoid()\n",
    " \n",
    "    def forward(self, x):\n",
    "        in_shape = x.shape\n",
    "        x = nn.Flatten()(x)\n",
    "        for layer in self.layer_lst[:-1]:\n",
    "            x = self.activation(layer(x))\n",
    "        output = self.output_activation(self.layer_lst[-1](x)).reshape((in_shape[0],)+self.out_shape)\n",
    "#         output = nn.Unflatten(1, output_shape)(self.output_activation(self.layer_lst[-1](x)))\n",
    "\n",
    "        return output"
   ]
  },
  {
   "cell_type": "code",
   "execution_count": 50,
   "id": "herbal-prerequisite",
   "metadata": {},
   "outputs": [],
   "source": [
    "decode_model = LatentDecoder(input_size,output_shape,layer_nodes)"
   ]
  },
  {
   "cell_type": "code",
   "execution_count": 51,
   "id": "residential-globe",
   "metadata": {},
   "outputs": [
    {
     "data": {
      "text/plain": [
       "LatentDecoder(\n",
       "  (layer_lst): ModuleList(\n",
       "    (0): Linear(in_features=1014, out_features=4000, bias=True)\n",
       "    (1): Linear(in_features=4000, out_features=2000, bias=True)\n",
       "    (2): Linear(in_features=2000, out_features=1000, bias=True)\n",
       "    (3): Linear(in_features=1000, out_features=5840, bias=True)\n",
       "  )\n",
       "  (activation): ReLU()\n",
       "  (output_activation): ReLU()\n",
       ")"
      ]
     },
     "execution_count": 51,
     "metadata": {},
     "output_type": "execute_result"
    }
   ],
   "source": [
    "decode_model.to(device)"
   ]
  },
  {
   "cell_type": "code",
   "execution_count": 52,
   "id": "united-subcommittee",
   "metadata": {},
   "outputs": [],
   "source": [
    "if optimizer_type == \"adam\":\n",
    "    optimizer = torch.optim.Adam(decode_model.parameters(), lr=learning_rate)\n",
    "elif optimizer_type == \"sgd\":\n",
    "    optimizer = torch.optim.SGD(decode_model.parameters(), lr=learning_rate)\n",
    "else:\n",
    "    logging.warning(\n",
    "        f\"Optimzer type {optimizer_type} is unknown. Exiting with error.\"\n",
    "    )\n",
    "#     sys.exit(1)"
   ]
  },
  {
   "cell_type": "code",
   "execution_count": 53,
   "id": "characteristic-gardening",
   "metadata": {},
   "outputs": [],
   "source": [
    "# logging.info(f\"Loading training data iterator using {workers} workers\")\n",
    "    \n",
    "# dataloader = DataLoader(\n",
    "#     train_gen,\n",
    "#     batch_size = batch_size,\n",
    "#     shuffle = True,\n",
    "#     num_workers = workers\n",
    "# )\n",
    "\n",
    "# valid_dataloader = DataLoader(\n",
    "#     valid_gen,\n",
    "#     batch_size = batch_size,\n",
    "#     shuffle = False,\n",
    "#     num_workers = workers\n",
    "# )"
   ]
  },
  {
   "cell_type": "code",
   "execution_count": null,
   "id": "three-mapping",
   "metadata": {},
   "outputs": [],
   "source": []
  },
  {
   "cell_type": "code",
   "execution_count": 54,
   "id": "rapid-thomson",
   "metadata": {},
   "outputs": [],
   "source": [
    "train_ds = TensorDataset(torch.tensor(training_ds[in_var].values).float().to(device), torch.tensor(training_ds[label_var].values).float().to(device))\n",
    "train_dl = DataLoader(train_ds, batch_size=batch_size,shuffle=True)\n",
    "\n",
    "valid_ds = TensorDataset(torch.tensor(validation_ds[in_var].values).float().to(device), torch.tensor(validation_ds[label_var].values).float().to(device))\n",
    "valid_dl = DataLoader(valid_ds, batch_size=batch_size)"
   ]
  },
  {
   "cell_type": "code",
   "execution_count": 55,
   "id": "twenty-granny",
   "metadata": {},
   "outputs": [],
   "source": [
    "reg_coef = 0.5"
   ]
  },
  {
   "cell_type": "code",
   "execution_count": 56,
   "id": "powered-rebel",
   "metadata": {},
   "outputs": [
    {
     "name": "stderr",
     "output_type": "stream",
     "text": [
      "100%|██████████| 1407/1407 [00:06<00:00, 209.75it/s]\n",
      "  1%|▏         | 21/1407 [00:00<00:06, 201.04it/s]"
     ]
    },
    {
     "name": "stdout",
     "output_type": "stream",
     "text": [
      "0 7.283458898824923 6.9408183037480224\n"
     ]
    },
    {
     "name": "stderr",
     "output_type": "stream",
     "text": [
      "100%|██████████| 1407/1407 [00:06<00:00, 209.92it/s]\n",
      "  1%|▏         | 21/1407 [00:00<00:06, 201.57it/s]"
     ]
    },
    {
     "name": "stdout",
     "output_type": "stream",
     "text": [
      "1 4.634672212194024 6.656273950504351\n"
     ]
    },
    {
     "name": "stderr",
     "output_type": "stream",
     "text": [
      "100%|██████████| 1407/1407 [00:06<00:00, 202.59it/s]\n",
      "  1%|▏         | 20/1407 [00:00<00:06, 199.99it/s]"
     ]
    },
    {
     "name": "stdout",
     "output_type": "stream",
     "text": [
      "2 3.854808163287035 6.658926275712025\n"
     ]
    },
    {
     "name": "stderr",
     "output_type": "stream",
     "text": [
      "100%|██████████| 1407/1407 [00:06<00:00, 210.04it/s]\n",
      "  1%|▏         | 21/1407 [00:00<00:06, 201.71it/s]"
     ]
    },
    {
     "name": "stdout",
     "output_type": "stream",
     "text": [
      "3 3.02847506903382 7.2343309619758704\n"
     ]
    },
    {
     "name": "stderr",
     "output_type": "stream",
     "text": [
      "100%|██████████| 1407/1407 [00:06<00:00, 210.05it/s]\n",
      "  1%|▏         | 20/1407 [00:00<00:07, 195.51it/s]"
     ]
    },
    {
     "name": "stdout",
     "output_type": "stream",
     "text": [
      "4 2.3965852480876846 7.624949781200554\n"
     ]
    },
    {
     "name": "stderr",
     "output_type": "stream",
     "text": [
      "100%|██████████| 1407/1407 [00:06<00:00, 209.81it/s]\n",
      "  1%|▏         | 20/1407 [00:00<00:07, 197.28it/s]"
     ]
    },
    {
     "name": "stdout",
     "output_type": "stream",
     "text": [
      "5 1.9506157369755988 7.3317986983287184\n"
     ]
    },
    {
     "name": "stderr",
     "output_type": "stream",
     "text": [
      "100%|██████████| 1407/1407 [00:06<00:00, 209.70it/s]\n",
      "  1%|▏         | 21/1407 [00:00<00:06, 200.53it/s]"
     ]
    },
    {
     "name": "stdout",
     "output_type": "stream",
     "text": [
      "6 1.6696559726217577 7.496901886372626\n"
     ]
    },
    {
     "name": "stderr",
     "output_type": "stream",
     "text": [
      "100%|██████████| 1407/1407 [00:06<00:00, 209.89it/s]\n",
      "  3%|▎         | 41/1407 [00:00<00:06, 205.25it/s]"
     ]
    },
    {
     "name": "stdout",
     "output_type": "stream",
     "text": [
      "7 1.4936445344824612 7.576335665545886\n"
     ]
    },
    {
     "name": "stderr",
     "output_type": "stream",
     "text": [
      "100%|██████████| 1407/1407 [00:06<00:00, 209.76it/s]\n",
      "  1%|▏         | 21/1407 [00:00<00:06, 201.91it/s]"
     ]
    },
    {
     "name": "stdout",
     "output_type": "stream",
     "text": [
      "8 1.353793779246419 7.260885117929193\n"
     ]
    },
    {
     "name": "stderr",
     "output_type": "stream",
     "text": [
      "100%|██████████| 1407/1407 [00:06<00:00, 210.07it/s]\n",
      "  1%|▏         | 20/1407 [00:00<00:06, 199.96it/s]"
     ]
    },
    {
     "name": "stdout",
     "output_type": "stream",
     "text": [
      "9 1.2347844222291786 7.406416880933544\n"
     ]
    },
    {
     "name": "stderr",
     "output_type": "stream",
     "text": [
      "100%|██████████| 1407/1407 [00:06<00:00, 208.63it/s]\n",
      "  1%|▏         | 20/1407 [00:00<00:06, 198.95it/s]"
     ]
    },
    {
     "name": "stdout",
     "output_type": "stream",
     "text": [
      "10 1.1405256075391383 7.258320868769778\n"
     ]
    },
    {
     "name": "stderr",
     "output_type": "stream",
     "text": [
      "100%|██████████| 1407/1407 [00:06<00:00, 210.19it/s]\n",
      "  1%|▏         | 21/1407 [00:00<00:06, 200.83it/s]"
     ]
    },
    {
     "name": "stdout",
     "output_type": "stream",
     "text": [
      "11 1.071991991344376 7.4643168389042724\n"
     ]
    },
    {
     "name": "stderr",
     "output_type": "stream",
     "text": [
      "100%|██████████| 1407/1407 [00:06<00:00, 209.97it/s]\n",
      "  1%|▏         | 20/1407 [00:00<00:06, 199.52it/s]"
     ]
    },
    {
     "name": "stdout",
     "output_type": "stream",
     "text": [
      "12 1.0077513631303512 7.273065880884098\n"
     ]
    },
    {
     "name": "stderr",
     "output_type": "stream",
     "text": [
      "100%|██████████| 1407/1407 [00:06<00:00, 209.44it/s]\n",
      "  1%|▏         | 20/1407 [00:00<00:06, 199.31it/s]"
     ]
    },
    {
     "name": "stdout",
     "output_type": "stream",
     "text": [
      "13 0.9434455942836483 7.5164285007911396\n"
     ]
    },
    {
     "name": "stderr",
     "output_type": "stream",
     "text": [
      "100%|██████████| 1407/1407 [00:06<00:00, 209.38it/s]\n",
      "  1%|▏         | 21/1407 [00:00<00:06, 200.50it/s]"
     ]
    },
    {
     "name": "stdout",
     "output_type": "stream",
     "text": [
      "14 0.8972607456629549 7.1419955869264244\n"
     ]
    },
    {
     "name": "stderr",
     "output_type": "stream",
     "text": [
      "100%|██████████| 1407/1407 [00:06<00:00, 209.94it/s]\n",
      "  1%|▏         | 20/1407 [00:00<00:06, 198.94it/s]"
     ]
    },
    {
     "name": "stdout",
     "output_type": "stream",
     "text": [
      "15 0.8576652066624579 7.135781589942642\n"
     ]
    },
    {
     "name": "stderr",
     "output_type": "stream",
     "text": [
      "100%|██████████| 1407/1407 [00:06<00:00, 210.30it/s]\n",
      "  1%|▏         | 21/1407 [00:00<00:06, 201.34it/s]"
     ]
    },
    {
     "name": "stdout",
     "output_type": "stream",
     "text": [
      "16 0.8138335994904823 7.293792338310918\n"
     ]
    },
    {
     "name": "stderr",
     "output_type": "stream",
     "text": [
      "100%|██████████| 1407/1407 [00:06<00:00, 210.40it/s]\n",
      "  1%|▏         | 21/1407 [00:00<00:06, 201.28it/s]"
     ]
    },
    {
     "name": "stdout",
     "output_type": "stream",
     "text": [
      "17 0.7840553343762043 7.175839967365507\n"
     ]
    },
    {
     "name": "stderr",
     "output_type": "stream",
     "text": [
      "100%|██████████| 1407/1407 [00:06<00:00, 210.31it/s]\n",
      "  1%|▏         | 21/1407 [00:00<00:06, 201.53it/s]"
     ]
    },
    {
     "name": "stdout",
     "output_type": "stream",
     "text": [
      "18 0.7555187370816104 7.0601134481309336\n"
     ]
    },
    {
     "name": "stderr",
     "output_type": "stream",
     "text": [
      "100%|██████████| 1407/1407 [00:06<00:00, 210.24it/s]\n",
      "  1%|▏         | 20/1407 [00:00<00:06, 198.69it/s]"
     ]
    },
    {
     "name": "stdout",
     "output_type": "stream",
     "text": [
      "19 0.7253350098250009 7.247439613825159\n"
     ]
    },
    {
     "name": "stderr",
     "output_type": "stream",
     "text": [
      "100%|██████████| 1407/1407 [00:06<00:00, 210.31it/s]\n",
      "  1%|▏         | 21/1407 [00:00<00:06, 201.52it/s]"
     ]
    },
    {
     "name": "stdout",
     "output_type": "stream",
     "text": [
      "20 0.6961486376848471 7.202793555923655\n"
     ]
    },
    {
     "name": "stderr",
     "output_type": "stream",
     "text": [
      "100%|██████████| 1407/1407 [00:06<00:00, 210.36it/s]\n",
      "  1%|▏         | 21/1407 [00:00<00:06, 202.02it/s]"
     ]
    },
    {
     "name": "stdout",
     "output_type": "stream",
     "text": [
      "21 0.6724085929381907 7.1280417140526104\n"
     ]
    },
    {
     "name": "stderr",
     "output_type": "stream",
     "text": [
      "100%|██████████| 1407/1407 [00:06<00:00, 210.26it/s]\n",
      "  1%|▏         | 21/1407 [00:00<00:06, 201.57it/s]"
     ]
    },
    {
     "name": "stdout",
     "output_type": "stream",
     "text": [
      "22 0.6514472683948579 7.110594157931171\n"
     ]
    },
    {
     "name": "stderr",
     "output_type": "stream",
     "text": [
      "100%|██████████| 1407/1407 [00:06<00:00, 210.32it/s]\n",
      "  1%|▏         | 21/1407 [00:00<00:06, 202.20it/s]"
     ]
    },
    {
     "name": "stdout",
     "output_type": "stream",
     "text": [
      "23 0.6340678357535757 7.2350687920292724\n"
     ]
    },
    {
     "name": "stderr",
     "output_type": "stream",
     "text": [
      "100%|██████████| 1407/1407 [00:06<00:00, 210.35it/s]\n",
      "  1%|▏         | 21/1407 [00:00<00:06, 200.33it/s]"
     ]
    },
    {
     "name": "stdout",
     "output_type": "stream",
     "text": [
      "24 0.6141249195387284 7.209307320510285\n"
     ]
    },
    {
     "name": "stderr",
     "output_type": "stream",
     "text": [
      "100%|██████████| 1407/1407 [00:06<00:00, 210.28it/s]\n",
      "  1%|▏         | 21/1407 [00:00<00:06, 201.92it/s]"
     ]
    },
    {
     "name": "stdout",
     "output_type": "stream",
     "text": [
      "25 0.5932205985138073 7.17809208737144\n"
     ]
    },
    {
     "name": "stderr",
     "output_type": "stream",
     "text": [
      "100%|██████████| 1407/1407 [00:06<00:00, 210.26it/s]\n",
      "  1%|▏         | 21/1407 [00:00<00:06, 201.34it/s]"
     ]
    },
    {
     "name": "stdout",
     "output_type": "stream",
     "text": [
      "26 0.578089207580264 7.128039396261867\n"
     ]
    },
    {
     "name": "stderr",
     "output_type": "stream",
     "text": [
      "100%|██████████| 1407/1407 [00:06<00:00, 210.25it/s]\n",
      "  1%|▏         | 21/1407 [00:00<00:06, 201.49it/s]"
     ]
    },
    {
     "name": "stdout",
     "output_type": "stream",
     "text": [
      "27 0.5672888810658336 7.211518492879747\n"
     ]
    },
    {
     "name": "stderr",
     "output_type": "stream",
     "text": [
      "100%|██████████| 1407/1407 [00:06<00:00, 210.21it/s]\n",
      "  1%|          | 14/1407 [00:00<00:11, 120.16it/s]"
     ]
    },
    {
     "name": "stdout",
     "output_type": "stream",
     "text": [
      "28 0.5540493286367673 7.148292251780063\n"
     ]
    },
    {
     "name": "stderr",
     "output_type": "stream",
     "text": [
      "100%|██████████| 1407/1407 [00:06<00:00, 209.01it/s]\n",
      "  1%|▏         | 21/1407 [00:00<00:06, 202.20it/s]"
     ]
    },
    {
     "name": "stdout",
     "output_type": "stream",
     "text": [
      "29 0.5405993588909496 7.131288938884493\n"
     ]
    },
    {
     "name": "stderr",
     "output_type": "stream",
     "text": [
      "100%|██████████| 1407/1407 [00:06<00:00, 210.15it/s]\n",
      "  1%|▏         | 21/1407 [00:00<00:06, 201.74it/s]"
     ]
    },
    {
     "name": "stdout",
     "output_type": "stream",
     "text": [
      "30 0.5280648008380787 7.205234189576741\n"
     ]
    },
    {
     "name": "stderr",
     "output_type": "stream",
     "text": [
      "100%|██████████| 1407/1407 [00:06<00:00, 210.27it/s]\n",
      "  1%|▏         | 21/1407 [00:00<00:06, 202.19it/s]"
     ]
    },
    {
     "name": "stdout",
     "output_type": "stream",
     "text": [
      "31 0.5146762740340908 7.142137744758703\n"
     ]
    },
    {
     "name": "stderr",
     "output_type": "stream",
     "text": [
      "100%|██████████| 1407/1407 [00:06<00:00, 210.24it/s]\n",
      "  1%|▏         | 21/1407 [00:00<00:06, 200.79it/s]"
     ]
    },
    {
     "name": "stdout",
     "output_type": "stream",
     "text": [
      "32 0.5038697467090902 7.24227403085443\n"
     ]
    },
    {
     "name": "stderr",
     "output_type": "stream",
     "text": [
      "100%|██████████| 1407/1407 [00:06<00:00, 210.38it/s]\n",
      "  1%|▏         | 21/1407 [00:00<00:06, 201.52it/s]"
     ]
    },
    {
     "name": "stdout",
     "output_type": "stream",
     "text": [
      "33 0.49599531322569396 7.275991705399525\n"
     ]
    },
    {
     "name": "stderr",
     "output_type": "stream",
     "text": [
      "100%|██████████| 1407/1407 [00:06<00:00, 210.22it/s]\n",
      "  1%|▏         | 21/1407 [00:00<00:06, 202.43it/s]"
     ]
    },
    {
     "name": "stdout",
     "output_type": "stream",
     "text": [
      "34 0.4827894398356128 7.1439255340189876\n"
     ]
    },
    {
     "name": "stderr",
     "output_type": "stream",
     "text": [
      "100%|██████████| 1407/1407 [00:06<00:00, 210.25it/s]\n",
      "  1%|▏         | 21/1407 [00:00<00:06, 201.76it/s]"
     ]
    },
    {
     "name": "stdout",
     "output_type": "stream",
     "text": [
      "35 0.4761437615690794 7.326656293265427\n"
     ]
    },
    {
     "name": "stderr",
     "output_type": "stream",
     "text": [
      "100%|██████████| 1407/1407 [00:06<00:00, 210.16it/s]\n",
      "  1%|▏         | 21/1407 [00:00<00:06, 202.64it/s]"
     ]
    },
    {
     "name": "stdout",
     "output_type": "stream",
     "text": [
      "36 0.46643856385962373 7.332229034810126\n"
     ]
    },
    {
     "name": "stderr",
     "output_type": "stream",
     "text": [
      "100%|██████████| 1407/1407 [00:06<00:00, 210.28it/s]\n",
      "  1%|▏         | 21/1407 [00:00<00:06, 201.04it/s]"
     ]
    },
    {
     "name": "stdout",
     "output_type": "stream",
     "text": [
      "37 0.4572905736903222 7.145245129549051\n"
     ]
    },
    {
     "name": "stderr",
     "output_type": "stream",
     "text": [
      "100%|██████████| 1407/1407 [00:06<00:00, 210.32it/s]\n",
      "  1%|▏         | 20/1407 [00:00<00:06, 199.95it/s]"
     ]
    },
    {
     "name": "stdout",
     "output_type": "stream",
     "text": [
      "38 0.4517017361240007 7.224035335492484\n"
     ]
    },
    {
     "name": "stderr",
     "output_type": "stream",
     "text": [
      "100%|██████████| 1407/1407 [00:06<00:00, 210.23it/s]\n",
      "  1%|▏         | 21/1407 [00:00<00:06, 202.23it/s]"
     ]
    },
    {
     "name": "stdout",
     "output_type": "stream",
     "text": [
      "39 0.4464903081573318 7.3076828582377376\n"
     ]
    },
    {
     "name": "stderr",
     "output_type": "stream",
     "text": [
      "100%|██████████| 1407/1407 [00:06<00:00, 210.17it/s]\n",
      "  1%|▏         | 21/1407 [00:00<00:06, 202.62it/s]"
     ]
    },
    {
     "name": "stdout",
     "output_type": "stream",
     "text": [
      "40 0.4384879825931961 7.207916646064082\n"
     ]
    },
    {
     "name": "stderr",
     "output_type": "stream",
     "text": [
      "100%|██████████| 1407/1407 [00:06<00:00, 210.26it/s]\n",
      "  1%|▏         | 20/1407 [00:00<00:06, 199.30it/s]"
     ]
    },
    {
     "name": "stdout",
     "output_type": "stream",
     "text": [
      "41 0.4285764267407331 7.293643227106409\n"
     ]
    },
    {
     "name": "stderr",
     "output_type": "stream",
     "text": [
      "100%|██████████| 1407/1407 [00:06<00:00, 209.79it/s]\n",
      "  1%|▏         | 21/1407 [00:00<00:06, 202.68it/s]"
     ]
    },
    {
     "name": "stdout",
     "output_type": "stream",
     "text": [
      "42 0.421579375873666 7.247825912282437\n"
     ]
    },
    {
     "name": "stderr",
     "output_type": "stream",
     "text": [
      "100%|██████████| 1407/1407 [00:06<00:00, 210.27it/s]\n",
      "  1%|▏         | 21/1407 [00:00<00:06, 202.54it/s]"
     ]
    },
    {
     "name": "stdout",
     "output_type": "stream",
     "text": [
      "43 0.4148556040209409 7.3292066356803796\n"
     ]
    },
    {
     "name": "stderr",
     "output_type": "stream",
     "text": [
      "100%|██████████| 1407/1407 [00:06<00:00, 210.27it/s]\n",
      "  1%|▏         | 21/1407 [00:00<00:06, 202.59it/s]"
     ]
    },
    {
     "name": "stdout",
     "output_type": "stream",
     "text": [
      "44 0.41474447685857146 7.139096030706091\n"
     ]
    },
    {
     "name": "stderr",
     "output_type": "stream",
     "text": [
      "100%|██████████| 1407/1407 [00:06<00:00, 210.28it/s]\n",
      "  1%|▏         | 21/1407 [00:00<00:06, 201.82it/s]"
     ]
    },
    {
     "name": "stdout",
     "output_type": "stream",
     "text": [
      "45 0.4078865242326353 7.46157334726068\n"
     ]
    },
    {
     "name": "stderr",
     "output_type": "stream",
     "text": [
      "100%|██████████| 1407/1407 [00:06<00:00, 210.10it/s]\n",
      "  1%|          | 15/1407 [00:00<00:09, 144.56it/s]"
     ]
    },
    {
     "name": "stdout",
     "output_type": "stream",
     "text": [
      "46 0.40676556221542415 7.258210387410997\n"
     ]
    },
    {
     "name": "stderr",
     "output_type": "stream",
     "text": [
      "100%|██████████| 1407/1407 [00:06<00:00, 208.58it/s]\n",
      "  1%|▏         | 21/1407 [00:00<00:06, 202.65it/s]"
     ]
    },
    {
     "name": "stdout",
     "output_type": "stream",
     "text": [
      "47 0.39289615172482417 7.139778233781645\n"
     ]
    },
    {
     "name": "stderr",
     "output_type": "stream",
     "text": [
      "100%|██████████| 1407/1407 [00:06<00:00, 210.28it/s]\n",
      "  1%|▏         | 21/1407 [00:00<00:06, 202.75it/s]"
     ]
    },
    {
     "name": "stdout",
     "output_type": "stream",
     "text": [
      "48 0.38716062835623544 7.3255715671973896\n"
     ]
    },
    {
     "name": "stderr",
     "output_type": "stream",
     "text": [
      "100%|██████████| 1407/1407 [00:06<00:00, 210.19it/s]\n",
      "  1%|▏         | 21/1407 [00:00<00:06, 202.13it/s]"
     ]
    },
    {
     "name": "stdout",
     "output_type": "stream",
     "text": [
      "49 0.38713268936739464 7.32829960690269\n"
     ]
    },
    {
     "name": "stderr",
     "output_type": "stream",
     "text": [
      "100%|██████████| 1407/1407 [00:06<00:00, 210.03it/s]\n",
      "  1%|▏         | 21/1407 [00:00<00:06, 200.74it/s]"
     ]
    },
    {
     "name": "stdout",
     "output_type": "stream",
     "text": [
      "50 0.38546946704091123 7.1600728095332276\n"
     ]
    },
    {
     "name": "stderr",
     "output_type": "stream",
     "text": [
      "100%|██████████| 1407/1407 [00:06<00:00, 210.16it/s]\n",
      "  1%|▏         | 21/1407 [00:00<00:06, 203.42it/s]"
     ]
    },
    {
     "name": "stdout",
     "output_type": "stream",
     "text": [
      "51 0.3781941718002881 7.43914794921875\n"
     ]
    },
    {
     "name": "stderr",
     "output_type": "stream",
     "text": [
      "100%|██████████| 1407/1407 [00:06<00:00, 210.24it/s]\n",
      "  1%|▏         | 21/1407 [00:00<00:06, 202.95it/s]"
     ]
    },
    {
     "name": "stdout",
     "output_type": "stream",
     "text": [
      "52 0.3791517529321547 7.4283547703223896\n"
     ]
    },
    {
     "name": "stderr",
     "output_type": "stream",
     "text": [
      "100%|██████████| 1407/1407 [00:06<00:00, 210.30it/s]\n",
      "  1%|▏         | 21/1407 [00:00<00:06, 203.31it/s]"
     ]
    },
    {
     "name": "stdout",
     "output_type": "stream",
     "text": [
      "53 0.3745838760609481 7.406162696548655\n"
     ]
    },
    {
     "name": "stderr",
     "output_type": "stream",
     "text": [
      "100%|██████████| 1407/1407 [00:06<00:00, 210.18it/s]\n",
      "  1%|▏         | 21/1407 [00:00<00:06, 200.82it/s]"
     ]
    },
    {
     "name": "stdout",
     "output_type": "stream",
     "text": [
      "54 0.36248467696331543 7.221090196054193\n"
     ]
    },
    {
     "name": "stderr",
     "output_type": "stream",
     "text": [
      "100%|██████████| 1407/1407 [00:06<00:00, 210.21it/s]\n",
      "  1%|▏         | 21/1407 [00:00<00:06, 202.94it/s]"
     ]
    },
    {
     "name": "stdout",
     "output_type": "stream",
     "text": [
      "55 0.35307832247582244 7.493010315714003\n"
     ]
    },
    {
     "name": "stderr",
     "output_type": "stream",
     "text": [
      "100%|██████████| 1407/1407 [00:06<00:00, 210.26it/s]\n",
      "  1%|▏         | 21/1407 [00:00<00:06, 203.54it/s]"
     ]
    },
    {
     "name": "stdout",
     "output_type": "stream",
     "text": [
      "56 0.3597147338298846 7.353884926325159\n"
     ]
    },
    {
     "name": "stderr",
     "output_type": "stream",
     "text": [
      "100%|██████████| 1407/1407 [00:06<00:00, 210.43it/s]\n",
      "  1%|▏         | 21/1407 [00:00<00:06, 203.41it/s]"
     ]
    },
    {
     "name": "stdout",
     "output_type": "stream",
     "text": [
      "57 0.3711825761925522 7.429101098941851\n"
     ]
    },
    {
     "name": "stderr",
     "output_type": "stream",
     "text": [
      "100%|██████████| 1407/1407 [00:06<00:00, 210.32it/s]\n",
      "  1%|▏         | 21/1407 [00:00<00:06, 203.45it/s]"
     ]
    },
    {
     "name": "stdout",
     "output_type": "stream",
     "text": [
      "58 0.35363819678370295 7.492236173605617\n"
     ]
    },
    {
     "name": "stderr",
     "output_type": "stream",
     "text": [
      "100%|██████████| 1407/1407 [00:06<00:00, 210.08it/s]\n"
     ]
    },
    {
     "name": "stdout",
     "output_type": "stream",
     "text": [
      "59 0.3403423586125567 7.454923605617089\n"
     ]
    }
   ],
   "source": [
    "batches_per_epoch = len(train_dl)\n",
    "train_loss_hist = []\n",
    "valid_loss_hist = []\n",
    "\n",
    "for epoch in range(epochs):\n",
    "    train_loss = 0\n",
    "    decode_model.train()\n",
    "    for batch_idx,(xb,yb) in tqdm.tqdm(enumerate(train_dl),total=batches_per_epoch,leave=True):\n",
    "#         pred = decode_model(xb.float().to(device))\n",
    "#         loss = loss_fn(pred, yb.float().to(device))\n",
    "        pred = decode_model(xb)\n",
    "        loss = loss_fn(pred, yb, l1=reg_coef)\n",
    "        train_loss += loss.sum().to('cpu').item()\n",
    "#         train_loss+=loss.item()\n",
    "\n",
    "        loss.backward()\n",
    "        optimizer.step()\n",
    "        optimizer.zero_grad()\n",
    "        \n",
    "    decode_model.eval()\n",
    "    with torch.no_grad():\n",
    "        valid_loss = sum(loss_fn(decode_model(xb), yb, l1=0) for xb, yb in valid_dl)\n",
    "\n",
    "    train_loss_hist += [train_loss / len(train_dl)]\n",
    "    valid_loss_hist += [valid_loss.item() / len(valid_dl)]\n",
    "    print(epoch, train_loss / len(train_dl), valid_loss.item() / len(valid_dl))"
   ]
  },
  {
   "cell_type": "code",
   "execution_count": 1,
   "id": "applied-rouge",
   "metadata": {},
   "outputs": [
    {
     "ename": "NameError",
     "evalue": "name 'plt' is not defined",
     "output_type": "error",
     "traceback": [
      "\u001b[0;31m---------------------------------------------------------------------------\u001b[0m",
      "\u001b[0;31mNameError\u001b[0m                                 Traceback (most recent call last)",
      "\u001b[0;32m<ipython-input-1-3d0225f77986>\u001b[0m in \u001b[0;36m<module>\u001b[0;34m\u001b[0m\n\u001b[0;32m----> 1\u001b[0;31m \u001b[0mfig\u001b[0m\u001b[0;34m,\u001b[0m\u001b[0max\u001b[0m \u001b[0;34m=\u001b[0m \u001b[0mplt\u001b[0m\u001b[0;34m.\u001b[0m\u001b[0msubplots\u001b[0m\u001b[0;34m(\u001b[0m\u001b[0;36m1\u001b[0m\u001b[0;34m,\u001b[0m\u001b[0;36m1\u001b[0m\u001b[0;34m)\u001b[0m\u001b[0;34m\u001b[0m\u001b[0;34m\u001b[0m\u001b[0m\n\u001b[0m\u001b[1;32m      2\u001b[0m \u001b[0max\u001b[0m\u001b[0;34m.\u001b[0m\u001b[0mplot\u001b[0m\u001b[0;34m(\u001b[0m\u001b[0mnp\u001b[0m\u001b[0;34m.\u001b[0m\u001b[0marange\u001b[0m\u001b[0;34m(\u001b[0m\u001b[0mlen\u001b[0m\u001b[0;34m(\u001b[0m\u001b[0mtrain_loss_hist\u001b[0m\u001b[0;34m)\u001b[0m\u001b[0;34m)\u001b[0m\u001b[0;34m[\u001b[0m\u001b[0;36m1\u001b[0m\u001b[0;34m:\u001b[0m\u001b[0;34m]\u001b[0m\u001b[0;34m,\u001b[0m\u001b[0mtrain_loss_hist\u001b[0m\u001b[0;34m[\u001b[0m\u001b[0;36m1\u001b[0m\u001b[0;34m:\u001b[0m\u001b[0;34m]\u001b[0m\u001b[0;34m,\u001b[0m\u001b[0;34m'b'\u001b[0m\u001b[0;34m,\u001b[0m\u001b[0mlabel\u001b[0m\u001b[0;34m=\u001b[0m\u001b[0;34m\"training\"\u001b[0m\u001b[0;34m)\u001b[0m\u001b[0;34m\u001b[0m\u001b[0;34m\u001b[0m\u001b[0m\n\u001b[1;32m      3\u001b[0m \u001b[0max\u001b[0m\u001b[0;34m.\u001b[0m\u001b[0mplot\u001b[0m\u001b[0;34m(\u001b[0m\u001b[0mnp\u001b[0m\u001b[0;34m.\u001b[0m\u001b[0marange\u001b[0m\u001b[0;34m(\u001b[0m\u001b[0mlen\u001b[0m\u001b[0;34m(\u001b[0m\u001b[0mvalid_loss_hist\u001b[0m\u001b[0;34m)\u001b[0m\u001b[0;34m)\u001b[0m\u001b[0;34m,\u001b[0m\u001b[0mvalid_loss_hist\u001b[0m\u001b[0;34m,\u001b[0m\u001b[0;34m'r'\u001b[0m\u001b[0;34m,\u001b[0m\u001b[0mlabel\u001b[0m\u001b[0;34m=\u001b[0m\u001b[0;34m\"validation\"\u001b[0m\u001b[0;34m)\u001b[0m\u001b[0;34m\u001b[0m\u001b[0;34m\u001b[0m\u001b[0m\n\u001b[1;32m      4\u001b[0m \u001b[0max\u001b[0m\u001b[0;34m.\u001b[0m\u001b[0mset_xlabel\u001b[0m\u001b[0;34m(\u001b[0m\u001b[0;34m'epoch'\u001b[0m\u001b[0;34m)\u001b[0m\u001b[0;34m\u001b[0m\u001b[0;34m\u001b[0m\u001b[0m\n\u001b[1;32m      5\u001b[0m \u001b[0max\u001b[0m\u001b[0;34m.\u001b[0m\u001b[0mset_ylabel\u001b[0m\u001b[0;34m(\u001b[0m\u001b[0;34m'loss'\u001b[0m\u001b[0;34m)\u001b[0m\u001b[0;34m\u001b[0m\u001b[0;34m\u001b[0m\u001b[0m\n",
      "\u001b[0;31mNameError\u001b[0m: name 'plt' is not defined"
     ]
    }
   ],
   "source": [
    "fig,ax = plt.subplots(1,1)\n",
    "ax.plot(np.arange(len(train_loss_hist))[1:],train_loss_hist[1:],'b',label=\"training\")\n",
    "ax.plot(np.arange(len(valid_loss_hist)),valid_loss_hist,'r',label=\"validation\")\n",
    "ax.set_xlabel('epoch')\n",
    "ax.set_ylabel('loss')\n",
    "ax.minorticks_on()\n",
    "ax.grid(b=True)\n",
    "ax.legend()"
   ]
  },
  {
   "cell_type": "code",
   "execution_count": 57,
   "id": "jewish-hunter",
   "metadata": {},
   "outputs": [],
   "source": [
    "valid_sets = []\n",
    "with torch.no_grad():\n",
    "    for xv, yv in valid_dl:\n",
    "        valid_sets.append([decode_model(xv), yv])"
   ]
  },
  {
   "cell_type": "code",
   "execution_count": 58,
   "id": "lovely-characterization",
   "metadata": {},
   "outputs": [
    {
     "data": {
      "text/plain": [
       "<matplotlib.legend.Legend at 0x2b9a6e8add10>"
      ]
     },
     "execution_count": 58,
     "metadata": {},
     "output_type": "execute_result"
    },
    {
     "data": {
      "image/png": "[encoded data removed]",
      "text/plain": [
       "<Figure size 432x288 with 1 Axes>"
      ]
     },
     "metadata": {
      "needs_background": "light"
     },
     "output_type": "display_data"
    }
   ],
   "source": [
    "fig,ax = plt.subplots(1,1)\n",
    "ax.plot(np.arange(len(train_loss_hist))[1:],train_loss_hist[1:],'b',label=\"training\")\n",
    "ax.plot(np.arange(len(valid_loss_hist)),valid_loss_hist,'r',label=\"validation\")\n",
    "ax.set_xlabel('epoch')\n",
    "ax.set_ylabel('loss')\n",
    "ax.minorticks_on()\n",
    "ax.grid(b=True)\n",
    "ax.legend()"
   ]
  },
  {
   "cell_type": "code",
   "execution_count": 59,
   "id": "quality-houston",
   "metadata": {},
   "outputs": [
    {
     "data": {
      "text/plain": [
       "Text(0, 0.5, 'diameter [$\\\\mu m$]')"
      ]
     },
     "execution_count": 59,
     "metadata": {},
     "output_type": "execute_result"
    },
    {
     "data": {
      "image/png": "[encoded data removed]",
      "text/plain": [
       "<Figure size 432x288 with 4 Axes>"
      ]
     },
     "metadata": {
      "needs_background": "light"
     },
     "output_type": "display_data"
    }
   ],
   "source": [
    "idx = 17\n",
    "fig,ax = plt.subplots(2,1)\n",
    "im1=ax[0].pcolormesh(validation_ds['z_bin_edges']*1e-3,validation_ds['d_bin_edges'],yb[idx,:,:].cpu().detach().numpy())\n",
    "plt.colorbar(im1,ax=ax[0])\n",
    "ax[0].set_ylabel('diameter [$\\mu m$]')\n",
    "im2 = ax[1].pcolormesh(validation_ds['z_bin_edges']*1e-3,validation_ds['d_bin_edges'],decode_model(xb).cpu().detach().numpy()[idx,:,:])\n",
    "plt.colorbar(im2,ax=ax[1])\n",
    "ax[1].set_xlabel('z position [$mm$]')\n",
    "ax[1].set_ylabel('diameter [$\\mu m$]')"
   ]
  },
  {
   "cell_type": "code",
   "execution_count": 60,
   "id": "continuing-grant",
   "metadata": {},
   "outputs": [
    {
     "data": {
      "text/plain": [
       "Text(0, 0.5, 'diameter [$\\\\mu m$]')"
      ]
     },
     "execution_count": 60,
     "metadata": {},
     "output_type": "execute_result"
    },
    {
     "data": {
      "image/png": "[encoded data removed]",
      "text/plain": [
       "<Figure size 432x288 with 4 Axes>"
      ]
     },
     "metadata": {
      "needs_background": "light"
     },
     "output_type": "display_data"
    }
   ],
   "source": [
    "idx=1\n",
    "fig,ax = plt.subplots(2,1)\n",
    "im1=ax[0].pcolormesh(validation_ds['z_bin_edges']*1e-3,validation_ds['d_bin_edges'],valid_sets[idx][1][0,:,:].cpu().detach().numpy())\n",
    "plt.colorbar(im1,ax=ax[0])\n",
    "ax[0].set_ylabel('diameter [$\\mu m$]')\n",
    "im2 = ax[1].pcolormesh(validation_ds['z_bin_edges']*1e-3,validation_ds['d_bin_edges'],valid_sets[idx][0].cpu().detach().numpy()[idx,:,:])\n",
    "plt.colorbar(im2,ax=ax[1])\n",
    "ax[1].set_xlabel('z position [$mm$]')\n",
    "ax[1].set_ylabel('diameter [$\\mu m$]')"
   ]
  },
  {
   "cell_type": "code",
   "execution_count": 33,
   "id": "informal-outreach",
   "metadata": {},
   "outputs": [
    {
     "data": {
      "text/plain": [
       "16"
      ]
     },
     "execution_count": 33,
     "metadata": {},
     "output_type": "execute_result"
    }
   ],
   "source": [
    "len(valid_sets)"
   ]
  },
  {
   "cell_type": "code",
   "execution_count": null,
   "id": "continental-elimination",
   "metadata": {},
   "outputs": [],
   "source": [
    "for epoch in range(epochs):\n",
    "    for i in range((n - 1) // bs + 1):\n",
    "        end_i = start_i + bs\n",
    "        start_i = i * bs\n",
    "#         xb = x_train[start_i:end_i]\n",
    "#         yb = y_train[start_i:end_i]\n",
    "        x = torch.tensor(training_ds[in_var].isel(hologram_number=slice(start_i,end_i)).values)\n",
    "        y = torch.tensor(training_ds[label_var].isel(hologram_number=slice(start_i,end_i)).values)\n",
    "        \n",
    "        pred = model(xb)\n",
    "        loss = loss_fn(pred, yb)\n",
    "\n",
    "        loss.backward()\n",
    "        with torch.no_grad():\n",
    "            for p in model.parameters():\n",
    "                p -= p.grad * lr\n",
    "            model.zero_grad()"
   ]
  },
  {
   "cell_type": "code",
   "execution_count": null,
   "id": "opposed-representative",
   "metadata": {},
   "outputs": [],
   "source": [
    "### Training Loop\n",
    "\n",
    "logging.info(\n",
    "    f\"Training the model for up to {epochs} epochs\"\n",
    ")\n",
    "\n",
    "for epoch in range(start_epoch, epochs):\n",
    "    \n",
    "\n",
    "#     train_loss, train_bce, train_kld = trainer.train_one_epoch(epoch)\n",
    "#     test_loss, test_bce, test_kld = trainer.test(epoch)\n",
    "\n",
    "#     scheduler.step(test_loss)\n",
    "#     early_stopping(epoch, test_loss, trainer.model, trainer.optimizer)\n",
    "\n",
    "#     # Write results to the callback logger \n",
    "#     result = {\n",
    "#         \"epoch\": epoch,\n",
    "#         \"train_loss\": train_loss,\n",
    "#         \"train_bce\": train_bce,\n",
    "#         \"train_kld\": train_kld,\n",
    "#         \"valid_loss\": test_loss,\n",
    "#         \"valid_bce\": test_bce,\n",
    "#         \"valid_kld\": test_kld,\n",
    "#         \"lr\": early_stopping.print_learning_rate(trainer.optimizer)\n",
    "#     }\n",
    "#     metrics_logger.update(result)\n",
    "\n",
    "#     if early_stopping.early_stop:\n",
    "#         print(\"Early stopping\")\n",
    "#         break"
   ]
  }
 ],
 "metadata": {
  "kernelspec": {
   "display_name": "Python [conda env:miniconda3-ml-torch]",
   "language": "python",
   "name": "conda-env-miniconda3-ml-torch-py"
  },
  "language_info": {
   "codemirror_mode": {
    "name": "ipython",
    "version": 3
   },
   "file_extension": ".py",
   "mimetype": "text/x-python",
   "name": "python",
   "nbconvert_exporter": "python",
   "pygments_lexer": "ipython3",
   "version": "3.7.10"
  }
 },
 "nbformat": 4,
 "nbformat_minor": 5
}
