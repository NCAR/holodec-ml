{
 "cells": [
  {
   "cell_type": "code",
   "execution_count": null,
   "id": "objective-aging",
   "metadata": {},
   "outputs": [],
   "source": [
    "import numpy as np\n",
    "import matplotlib.pyplot as plt\n",
    "import torch\n",
    "import datetime"
   ]
  },
  {
   "cell_type": "code",
   "execution_count": null,
   "id": "bronze-stable",
   "metadata": {},
   "outputs": [],
   "source": [
    "# set this up to point to the libararies directory in ml-holodec\n",
    "dirP_str = os.path.join(os.environ['HOME'], \n",
    "                    'Python', \n",
    "                    'holodec-ml',\n",
    "                    'library')\n",
    "if dirP_str not in sys.path:\n",
    "    sys.path.append(dirP_str)"
   ]
  },
  {
   "cell_type": "code",
   "execution_count": null,
   "id": "joined-stock",
   "metadata": {},
   "outputs": [],
   "source": [
    "import torch_optics_utils as optics"
   ]
  },
  {
   "cell_type": "code",
   "execution_count": null,
   "id": "weekly-variance",
   "metadata": {},
   "outputs": [],
   "source": [
    "is_cuda = torch.cuda.is_available()\n",
    "device = torch.device(torch.cuda.current_device()) if is_cuda else torch.device(\"cpu\")\n",
    "\n",
    "if is_cuda:\n",
    "    torch.backends.cudnn.benchmark = True\n",
    "\n",
    "print(f'Preparing to use device {device}')"
   ]
  },
  {
   "cell_type": "code",
   "execution_count": null,
   "id": "recreational-uganda",
   "metadata": {},
   "outputs": [],
   "source": [
    "dtype = torch.complex64  # fft required data type"
   ]
  },
  {
   "cell_type": "markdown",
   "id": "duplicate-berry",
   "metadata": {},
   "source": [
    "Load some data to use for input images"
   ]
  },
  {
   "cell_type": "code",
   "execution_count": null,
   "id": "expanded-sleep",
   "metadata": {},
   "outputs": [],
   "source": [
    "data_dir = '/glade/p/cisl/aiml/ai4ess_hackathon/holodec/'"
   ]
  },
  {
   "cell_type": "code",
   "execution_count": null,
   "id": "loaded-declaration",
   "metadata": {},
   "outputs": [],
   "source": [
    "# list all the netcdf files in data_dir\n",
    "file_list = glob.glob(data_dir+'*.nc')\n",
    "for f_idx,file in enumerate(file_list):\n",
    "    print(f'{f_idx}.) '+file.split('/')[-1])"
   ]
  },
  {
   "cell_type": "code",
   "execution_count": null,
   "id": "visible-celebration",
   "metadata": {},
   "outputs": [],
   "source": [
    "# pick the file\n",
    "f_sel = 29  # selected file index\n",
    "dataFile = file_list[f_sel]"
   ]
  },
  {
   "cell_type": "code",
   "execution_count": null,
   "id": "married-receipt",
   "metadata": {},
   "outputs": [],
   "source": [
    "print('loading '+dataFile.split('/')[-1])\n",
    "h_ds = xr.open_dataset(dataFile)  # open the simulated data file"
   ]
  },
  {
   "cell_type": "code",
   "execution_count": null,
   "id": "stopped-voltage",
   "metadata": {},
   "outputs": [],
   "source": [
    "holo_idx = 0  # pick the hologram index to use\n",
    "\n",
    "# define the input tensor based as the selected input hologram\n",
    "E_input = torch.tensor(h_ds['image'].isel(hologram_number=holo_idx).values,device=device,dtype=dtype)[None,:,:]"
   ]
  },
  {
   "cell_type": "markdown",
   "id": "black-reply",
   "metadata": {},
   "source": [
    "These are inputs are needed to perform propagation/reconstruction"
   ]
  },
  {
   "cell_type": "code",
   "execution_count": null,
   "id": "acute-liberal",
   "metadata": {},
   "outputs": [],
   "source": [
    "dx = h_ds.attrs['dx']      # horizontal resolution\n",
    "dy = h_ds.attrs['dy']      # vertical resolution\n",
    "Nx = int(h_ds.attrs['Nx']) # number of horizontal pixels\n",
    "Ny = int(h_ds.attrs['Ny']) # number of vertical pixels\n",
    "lam = h_ds.attrs['lambda'] # laser wavelength"
   ]
  },
  {
   "cell_type": "code",
   "execution_count": null,
   "id": "considerable-farmer",
   "metadata": {},
   "outputs": [],
   "source": [
    "# create the frequency axes on the \"device\" needed for the reconstruction calculation\n",
    "fx = torch.fft.fftfreq(Nx,dx,device=device)[None,:,None]\n",
    "fy = torch.fft.fftfreq(Ny,dy,device=device)[None,None,:]"
   ]
  },
  {
   "cell_type": "markdown",
   "id": "fossil-executive",
   "metadata": {},
   "source": [
    "These inputs are used to define which and how many planes we reconstruct in this demo"
   ]
  },
  {
   "cell_type": "code",
   "execution_count": null,
   "id": "extensive-breast",
   "metadata": {},
   "outputs": [],
   "source": [
    "Nplanes = 1000 #  number of z planes we want to reconstruct between z min and z max"
   ]
  },
  {
   "cell_type": "code",
   "execution_count": null,
   "id": "demanding-distinction",
   "metadata": {},
   "outputs": [],
   "source": [
    "# simulation/hardware definitions for z ranges\n",
    "zMin = h_ds.attrs['zMin']  # minimum z in sample volume\n",
    "zMax = h_ds.attrs['zMax']  # maximum z in sample volume\n",
    "zCCD = 0                   # z position of the image plane"
   ]
  },
  {
   "cell_type": "code",
   "execution_count": null,
   "id": "healthy-appointment",
   "metadata": {},
   "outputs": [],
   "source": [
    "# define the z position of planes we want to reconstruct\n",
    "z_plane = torch.linspace(zMin,zMax,Nplanes,device=device)[:,None,None]"
   ]
  },
  {
   "cell_type": "markdown",
   "id": "raised-conservation",
   "metadata": {},
   "source": [
    "Calculate the electric field at each requested plane (z_plane)\n",
    "The output tensor has dimensions (z,x,y)"
   ]
  },
  {
   "cell_type": "code",
   "execution_count": null,
   "id": "annual-enterprise",
   "metadata": {},
   "outputs": [],
   "source": [
    "start_time = datetime.datetime.now()\n",
    "Eres = optics.torch_holo_set(E_input,fx,fy,z_plane,lam).detach().cpu().numpy()\n",
    "end_time = datetime.datetime.now()"
   ]
  },
  {
   "cell_type": "code",
   "execution_count": null,
   "id": "digital-activity",
   "metadata": {},
   "outputs": [],
   "source": [
    "exec_time = end_time-start_time\n",
    "print(f'{E_input.shape[0]} x {E_input.shape[1]} image')\n",
    "print(f'executed {z_plane.size} planes in {exec_time.total_seconds()} seconds')\n",
    "print(f' for {exec_time.total_seconds()/z_plane.size} seconds per plane')"
   ]
  }
 ],
 "metadata": {
  "kernelspec": {
   "display_name": "Python [conda env:miniconda3-ml-torch]",
   "language": "python",
   "name": "conda-env-miniconda3-ml-torch-py"
  },
  "language_info": {
   "codemirror_mode": {
    "name": "ipython",
    "version": 3
   },
   "file_extension": ".py",
   "mimetype": "text/x-python",
   "name": "python",
   "nbconvert_exporter": "python",
   "pygments_lexer": "ipython3",
   "version": "3.7.10"
  }
 },
 "nbformat": 4,
 "nbformat_minor": 5
}
