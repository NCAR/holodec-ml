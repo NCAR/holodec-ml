{
 "cells": [
  {
   "cell_type": "code",
   "execution_count": 2,
   "id": "completed-accuracy",
   "metadata": {},
   "outputs": [],
   "source": [
    "import warnings\n",
    "warnings.filterwarnings(\"ignore\")\n",
    "\n",
    "import sys,os\n",
    "\n",
    "import numpy as np\n",
    "import matplotlib.pyplot as plt\n",
    "\n",
    "import glob\n",
    "import xarray as xr\n",
    "import datetime"
   ]
  },
  {
   "cell_type": "code",
   "execution_count": 3,
   "id": "mature-lloyd",
   "metadata": {},
   "outputs": [],
   "source": [
    "# import yaml\n",
    "import tqdm\n",
    "import torch\n",
    "import pickle\n",
    "import logging\n",
    "import random\n",
    "\n",
    "from typing import List, Dict, Callable, Union, Any, TypeVar, Tuple\n",
    "# from multiprocessing import cpu_count\n",
    "\n",
    "\n",
    "import torch\n",
    "import torch.fft\n",
    "from torch import nn\n",
    "\n",
    "import torch.nn.functional as F\n",
    "\n",
    "# from torchvision.utils import save_image\n",
    "from torch.utils.data import Dataset, DataLoader, TensorDataset\n",
    "from torch.optim.lr_scheduler import ReduceLROnPlateau"
   ]
  },
  {
   "cell_type": "code",
   "execution_count": 4,
   "id": "representative-wholesale",
   "metadata": {},
   "outputs": [
    {
     "name": "stdout",
     "output_type": "stream",
     "text": [
      "Preparing to use device cuda:0\n"
     ]
    }
   ],
   "source": [
    "is_cuda = torch.cuda.is_available()\n",
    "device = torch.device(torch.cuda.current_device()) if is_cuda else torch.device(\"cpu\")\n",
    "\n",
    "if is_cuda:\n",
    "    torch.backends.cudnn.benchmark = True\n",
    "\n",
    "print(f'Preparing to use device {device}')"
   ]
  },
  {
   "cell_type": "code",
   "execution_count": 5,
   "id": "regular-appeal",
   "metadata": {},
   "outputs": [],
   "source": [
    "dtype = torch.complex64  # fft required data type"
   ]
  },
  {
   "cell_type": "code",
   "execution_count": 6,
   "id": "liquid-westminster",
   "metadata": {},
   "outputs": [],
   "source": [
    "def torch_holo_set(Ein:torch.tensor,fx:torch.tensor,fy:torch.tensor,z_tnsr:torch.tensor,lam:float):\n",
    "    \"\"\"\n",
    "    Propagates an electric field a distance z\n",
    "    Ein complex torch.tensor\n",
    "    - input electric field\n",
    "    \n",
    "    fx:real torch.tensor\n",
    "    - x frequency axis (3D, setup to broadcast)\n",
    "    \n",
    "    fy: real torch.tensor\n",
    "    - y frequency axis (3D, setup to broadcast)\n",
    "    \n",
    "    z_tnsr: torch.tensor\n",
    "    - tensor of distances to propagate the wave Ein\n",
    "        expected to have dims (Nz,1,1) where Nz is the number of z\n",
    "        dimensions\n",
    "    \n",
    "    lam: float\n",
    "    - wavelength\n",
    "    \n",
    "    returns: complex torch.tensor with dims (Nz,fy,fx)\n",
    "    \n",
    "    Note the torch.fft library uses dtype=torch.complex64\n",
    "    This may be an issue for GPU implementation\n",
    "    \n",
    "    \"\"\"\n",
    "    Etfft = torch.fft.fft2(Ein)\n",
    "#     Eofft = Etfft*torch.cos(2*np.pi*z_tnsr/lam*torch.sqrt(1-lam**2*(fx**2+fy**2)))\n",
    "    Eofft = Etfft*torch.exp(1j*2*np.pi*z_tnsr/lam*torch.sqrt(1-lam**2*(fx**2+fy**2)))\n",
    "    \n",
    "    # It might be helpful if we could omit this step.  It would save an inverse fft.\n",
    "    Eout = torch.fft.ifft2(Eofft)\n",
    "    \n",
    "    return Eout"
   ]
  },
  {
   "cell_type": "markdown",
   "id": "recognized-cambodia",
   "metadata": {},
   "source": [
    "# Pick the Dataset"
   ]
  },
  {
   "cell_type": "code",
   "execution_count": 7,
   "id": "herbal-pencil",
   "metadata": {},
   "outputs": [],
   "source": [
    "data_dir = '/glade/p/cisl/aiml/ai4ess_hackathon/holodec/'"
   ]
  },
  {
   "cell_type": "code",
   "execution_count": 8,
   "id": "existing-organization",
   "metadata": {},
   "outputs": [
    {
     "name": "stdout",
     "output_type": "stream",
     "text": [
      "0.) synthetic_holograms_7particle_gamma_600x400_training.nc\n",
      "1.) synthetic_holograms_10particle_gamma_512x512_validation_patches128x128.nc\n",
      "2.) synthetic_holograms_50-100particle_bidisperse_test.nc\n",
      "3.) synthetic_holograms_multiparticle_validation.nc\n",
      "4.) synthetic_holograms_1particle_training_small.nc\n",
      "5.) synthetic_holograms_6particle_gamma_600x400_test.nc\n",
      "6.) synthetic_holograms_multiparticle_training.nc\n",
      "7.) synthetic_holograms_50-100particle_gamma_private.nc\n",
      "8.) synthetic_holograms_12-25particle_gamma_600x400_validation.nc\n",
      "9.) synthetic_holograms_6particle_gamma_600x400_training.nc\n",
      "10.) synthetic_holograms_50-100particle_gamma_training.nc\n",
      "11.) synthetic_holograms_1particle_gamma_600x400_training.nc\n",
      "12.) synthetic_holograms_4particle_gamma_600x400_validation.nc\n",
      "13.) synthetic_holograms_3particle_validation.nc\n",
      "14.) synthetic_holograms_10particle_gamma_600x400_test.nc\n",
      "15.) synthetic_holograms_1particle_gamma_600x400_validation.nc\n",
      "16.) synthetic_holograms_10particle_gamma_600x400_training.nc\n",
      "17.) synthetic_holograms_50-100particle_bidisperse_training.nc\n",
      "18.) synthetic_holograms_7particle_gamma_600x400_validation.nc\n",
      "19.) synthetic_holograms_2particle_gamma_600x400_validation.nc\n",
      "20.) synthetic_holograms_9particle_gamma_600x400_training.nc\n",
      "21.) synthetic_holograms_5particle_gamma_600x400_validation.nc\n",
      "22.) synthetic_holograms_12-25particle_gamma_600x400_test.nc\n",
      "23.) synthetic_holograms_4particle_gamma_600x400_training.nc\n",
      "24.) synthetic_holograms_1particle_test.nc\n",
      "25.) synthetic_holograms_10particle_gamma_600x400_validation.nc\n",
      "26.) synthetic_holograms_2particle_gamma_600x400_test.nc\n",
      "27.) synthetic_holograms_3particle_gamma_600x400_training.nc\n",
      "28.) real_holograms_CSET_RF07_20150719_203600-203700.nc\n",
      "29.) synthetic_holograms_1particle_validation.nc\n",
      "30.) synthetic_holograms_10particle_gamma_512x512_training_patches128x128.nc\n",
      "31.) synthetic_holograms_4particle_gamma_600x400_test.nc\n",
      "32.) synthetic_holograms_8particle_gamma_600x400_test.nc\n",
      "33.) synthetic_holograms_1particle_test_small.nc\n",
      "34.) synthetic_holograms_12-25particle_gamma_600x400_training.nc\n",
      "35.) synthetic_holograms_3particle_gamma_600x400_test.nc\n",
      "36.) synthetic_holograms_8particle_gamma_600x400_validation.nc\n",
      "37.) synthetic_holograms_50-100particle_bidisperse_validation.nc\n",
      "38.) synthetic_holograms_3particle_gamma_600x400_validation.nc\n",
      "39.) synthetic_holograms_50-100particle_gamma_validation.nc\n",
      "40.) synthetic_holograms_1particle_training.nc\n",
      "41.) synthetic_holograms_5particle_gamma_600x400_training.nc\n",
      "42.) synthetic_holograms_8particle_gamma_600x400_training.nc\n",
      "43.) synthetic_holograms_50-100particle_monodisperse_test.nc\n",
      "44.) synthetic_holograms_5particle_gamma_600x400_test.nc\n",
      "45.) synthetic_holograms_7particle_gamma_600x400_test.nc\n",
      "46.) synthetic_holograms_9particle_gamma_600x400_test.nc\n",
      "47.) synthetic_holograms_10particle_gamma_512x512_test_patches128x128.nc\n",
      "48.) synthetic_holograms_2particle_gamma_600x400_training.nc\n",
      "49.) synthetic_holograms_3particle_test.nc\n",
      "50.) synthetic_holograms_1particle_gamma_600x400_test.nc\n",
      "51.) real_holograms_CSET_RF07_20150719_200000-210000.nc\n",
      "52.) synthetic_holograms_50-100particle_monodisperse_training.nc\n",
      "53.) synthetic_holograms_3particle_training.nc\n",
      "54.) synthetic_holograms_50-100particle_gamma_test.nc\n",
      "55.) synthetic_holograms_9particle_gamma_600x400_validation.nc\n",
      "56.) synthetic_holograms_multiparticle_test.nc\n",
      "57.) synthetic_holograms_50-100particle_monodisperse_validation.nc\n",
      "58.) synthetic_holograms_6particle_gamma_600x400_validation.nc\n"
     ]
    }
   ],
   "source": [
    "file_list = glob.glob(data_dir+'*.nc')\n",
    "for f_idx,file in enumerate(file_list):\n",
    "    print(f'{f_idx}.) '+file.split('/')[-1])"
   ]
  },
  {
   "cell_type": "code",
   "execution_count": 9,
   "id": "greater-northeast",
   "metadata": {},
   "outputs": [],
   "source": [
    "f_sel = 40\n",
    "dataFile = file_list[f_sel]"
   ]
  },
  {
   "cell_type": "code",
   "execution_count": 10,
   "id": "twenty-marine",
   "metadata": {},
   "outputs": [],
   "source": [
    "h_ds = xr.open_dataset(dataFile)"
   ]
  },
  {
   "cell_type": "markdown",
   "id": "threatened-disclaimer",
   "metadata": {},
   "source": [
    "# Build Output Map For Labels"
   ]
  },
  {
   "cell_type": "code",
   "execution_count": 11,
   "id": "retained-clone",
   "metadata": {},
   "outputs": [],
   "source": [
    "n_bins = 1000  # number of bins in histogram\n",
    "n_holograms = 1000  # number of holograms to use in data set\n",
    "z_bins = np.linspace(h_ds.attrs['zMin'],h_ds.attrs['zMax'],n_bins)*1e6  # histogram bin edges\n",
    "z_centers = z_bins[:-1] + 0.5*np.diff(z_bins)  # histogram bin centers\n",
    "hologram_slice = slice(None,2*n_holograms)"
   ]
  },
  {
   "cell_type": "code",
   "execution_count": 12,
   "id": "tamil-sword",
   "metadata": {},
   "outputs": [],
   "source": [
    "histogram_lst = []\n",
    "for holo_idx in h_ds['hologram_number'].values[hologram_slice]:\n",
    "    hist_tpl = np.histogram(h_ds['z'].values[np.where(h_ds['hid'].values==holo_idx+1)],bins=z_bins)\n",
    "    histogram_lst.append(hist_tpl[0])"
   ]
  },
  {
   "cell_type": "code",
   "execution_count": 13,
   "id": "wired-college",
   "metadata": {},
   "outputs": [
    {
     "data": {
      "text/plain": [
       "Text(0.5, 0, 'z position [$\\\\mu m$]')"
      ]
     },
     "execution_count": 13,
     "metadata": {},
     "output_type": "execute_result"
    },
    {
     "data": {
      "image/png": "[encoded data removed]",
      "text/plain": [
       "<Figure size 432x288 with 1 Axes>"
      ]
     },
     "metadata": {
      "needs_background": "light"
     },
     "output_type": "display_data"
    }
   ],
   "source": [
    "# confirm histogram and particle data are aligned\n",
    "plt.figure()\n",
    "plt.plot(h_ds['z'].values[np.where(h_ds['hid'].values==holo_idx+1)],np.ones(h_ds['z'].values[np.where(h_ds['hid'].values==holo_idx+1)].shape),'o')\n",
    "plt.plot(z_centers,histogram_lst[holo_idx])\n",
    "plt.xlabel('z position [$\\mu m$]')"
   ]
  },
  {
   "cell_type": "code",
   "execution_count": 14,
   "id": "talented-personal",
   "metadata": {},
   "outputs": [],
   "source": [
    "histogram_arr = np.stack(histogram_lst,axis=0)\n",
    "train_histogram_bin_arr = (histogram_arr[:n_holograms,:]>0).astype(float)\n",
    "valid_histogram_bin_arr = (histogram_arr[n_holograms:,:]>0).astype(float)"
   ]
  },
  {
   "cell_type": "code",
   "execution_count": 15,
   "id": "alpine-steam",
   "metadata": {},
   "outputs": [
    {
     "data": {
      "text/plain": [
       "<matplotlib.image.AxesImage at 0x2ada955ed3d0>"
      ]
     },
     "execution_count": 15,
     "metadata": {},
     "output_type": "execute_result"
    },
    {
     "data": {
      "image/png": "[encoded data removed]",
      "text/plain": [
       "<Figure size 432x288 with 1 Axes>"
      ]
     },
     "metadata": {
      "needs_background": "light"
     },
     "output_type": "display_data"
    },
    {
     "data": {
      "image/png": "[encoded data removed]",
      "text/plain": [
       "<Figure size 432x288 with 1 Axes>"
      ]
     },
     "metadata": {
      "needs_background": "light"
     },
     "output_type": "display_data"
    }
   ],
   "source": [
    "plt.figure()\n",
    "plt.imshow(histogram_arr[0:100,:])\n",
    "plt.figure()\n",
    "plt.imshow(train_histogram_bin_arr[0:100,:])"
   ]
  },
  {
   "cell_type": "markdown",
   "id": "beautiful-skiing",
   "metadata": {},
   "source": [
    "# Build Reconstructed Plane Inputs"
   ]
  },
  {
   "cell_type": "code",
   "execution_count": 16,
   "id": "disciplinary-physiology",
   "metadata": {},
   "outputs": [],
   "source": [
    "dx = h_ds.attrs['dx']      # horizontal resolution\n",
    "dy = h_ds.attrs['dy']      # vertical resolution\n",
    "Nx = int(h_ds.attrs['Nx']) # number of horizontal pixels\n",
    "Ny = int(h_ds.attrs['Ny']) # number of vertical pixels\n",
    "lam = h_ds.attrs['lambda'] # wavelength\n",
    "zMin = h_ds.attrs['zMin']  # minimum z in sample volume\n",
    "zMax = h_ds.attrs['zMax']  # maximum z in sample volume\n",
    "zCCD = 0                   # z position of the image plane\n",
    "num_per_holo = 1\n",
    "image_norm = 255.0"
   ]
  },
  {
   "cell_type": "code",
   "execution_count": 17,
   "id": "adult-warren",
   "metadata": {},
   "outputs": [],
   "source": [
    "x_arr = np.arange(-Nx//2,Nx//2)*dx\n",
    "y_arr = np.arange(-Ny//2,Ny//2)*dy"
   ]
  },
  {
   "cell_type": "code",
   "execution_count": 18,
   "id": "progressive-russell",
   "metadata": {},
   "outputs": [],
   "source": [
    "fx = torch.fft.fftfreq(Nx,dx,device=device)[None,:,None]\n",
    "fy = torch.fft.fftfreq(Ny,dy,device=device)[None,None,:]\n",
    "z_rec = torch.tensor(z_centers*1e-6,device=device)[:,None,None]"
   ]
  },
  {
   "cell_type": "markdown",
   "id": "otherwise-fisher",
   "metadata": {},
   "source": [
    "Test Reconstruction Assumptions"
   ]
  },
  {
   "cell_type": "code",
   "execution_count": 19,
   "id": "perfect-europe",
   "metadata": {},
   "outputs": [
    {
     "name": "stdout",
     "output_type": "stream",
     "text": [
      "(1, 600, 400)\n",
      "(600,)\n",
      "(400,)\n"
     ]
    },
    {
     "data": {
      "image/png": "[encoded data removed]",
      "text/plain": [
       "<Figure size 648x216 with 3 Axes>"
      ]
     },
     "metadata": {
      "needs_background": "light"
     },
     "output_type": "display_data"
    }
   ],
   "source": [
    "holo_idx = 0\n",
    "p_idx = np.where(h_ds['hid'].values==holo_idx+1)[0]\n",
    "xp = h_ds['x'].values[p_idx]\n",
    "yp = h_ds['y'].values[p_idx]\n",
    "zp = h_ds['z'].values[p_idx]\n",
    "dp = h_ds['d'].values[p_idx]\n",
    "z_plane = torch.tensor(zp*1e-6,device=device)[:,None,None]\n",
    "E_input = torch.tensor(h_ds['image'].isel(hologram_number=holo_idx).values,device=device,dtype=dtype)[None,:,:] \n",
    "Eres = torch_holo_set(E_input,fx,fy,z_plane,lam).detach().cpu().numpy()\n",
    "\n",
    "z_idx = np.digitize(zp,bins=z_bins)-1\n",
    "\n",
    "z_maps = np.zeros((z_centers.size,)+h_ds['image'].shape[1:])\n",
    "\n",
    "for p_idx,iz in enumerate(z_idx):\n",
    "    z_maps[iz,:,:] += np.exp(-(y_arr[None,:]*1e6-yp[p_idx])**2/(2*(10)**2) - (x_arr[:,None]*1e6-xp[p_idx])**2/(2*(10)**2) )\n",
    "    \n",
    "    \n",
    "\n",
    "print(Eres.shape)\n",
    "print(x_arr.shape)\n",
    "print(y_arr.shape)\n",
    "\n",
    "for idx,z in enumerate(zp):\n",
    "    fig,ax = plt.subplots(1,3,figsize=(9,3))\n",
    "    ax[0].pcolormesh(y_arr*1e6,x_arr*1e6,np.abs(Eres[idx,:,:]))\n",
    "    ax[0].scatter(yp[idx],xp[idx],c='r',s=2,alpha=0.3)\n",
    "    ax[0].set_title('z=%f $mm$, d=%f $\\mu m$'%(z*1e-3,dp[idx]))\n",
    "    ax[1].pcolormesh(y_arr*1e6,x_arr*1e6,np.angle(Eres[idx,:,:]))\n",
    "    ax[1].scatter(yp[idx],xp[idx],c='r',s=2,alpha=0.3)\n",
    "    iz = np.argmin(np.abs(z_centers-z))\n",
    "    ax[2].pcolormesh(y_arr*1e6,x_arr*1e6,z_maps[iz,:,:])\n",
    "#     ax[2].scatter(yp[idx],xp[idx],c='r',s=2,alpha=0.3)"
   ]
  },
  {
   "cell_type": "code",
   "execution_count": 20,
   "id": "impaired-bracelet",
   "metadata": {},
   "outputs": [],
   "source": [
    "marker_size = 10  # gaussian marker size in micro meters\n",
    "gaus_mult = 1   # multiplier to apply to gaussian (to increase effect in loss function)\n",
    "\n",
    "Eset = []\n",
    "# Eset1 = []\n",
    "# Eset2 = []\n",
    "histset = []\n",
    "z_map_lst = []\n",
    "start_time = datetime.datetime.now()\n",
    "for holo_idx in range(2*n_holograms):\n",
    "    part_idx = np.where(histogram_arr[holo_idx,:] > 0)[0]\n",
    "    empt_idx = np.where(histogram_arr[holo_idx,:] == 0)[0]\n",
    "    set_part = np.random.choice(part_idx, num_per_holo ,replace=False)\n",
    "    set_empt = np.random.choice(empt_idx, num_per_holo ,replace=False)\n",
    "    z_rec_sub = torch.tensor(1e-6*z_centers[np.concatenate([set_part,set_empt])],device=device)[:,None,None]\n",
    "    \n",
    "    # build UNET output mask\n",
    "    p_idx = np.where(h_ds['hid'].values==holo_idx+1)[0]\n",
    "    xp = h_ds['x'].values[p_idx]\n",
    "    yp = h_ds['y'].values[p_idx]\n",
    "    zp = h_ds['z'].values[p_idx]\n",
    "    dp = h_ds['d'].values[p_idx]\n",
    "    \n",
    "    z_maps = np.zeros((set_part.size+set_empt.size,)+h_ds['image'].shape[1:])\n",
    "    \n",
    "    z_idx = np.digitize(zp,bins=z_bins)-1\n",
    "    for ip,iz in enumerate(z_idx):\n",
    "        if iz in set_part:\n",
    "            map_idx = np.where(iz == set_part)[0]\n",
    "            z_maps[map_idx,:,:] += gaus_mult*np.exp(-(y_arr[None,:]*1e6-yp[ip])**2/(2*marker_size**2) - (x_arr[:,None]*1e6-xp[ip])**2/(2*marker_size**2) )\n",
    "            \n",
    "    z_map_lst.append(torch.tensor(z_maps))\n",
    "    \n",
    "    \n",
    "    \n",
    "    # reconstruct the image\n",
    "    image_in = h_ds['image'].isel(hologram_number=holo_idx).values\n",
    "    image_in = image_in/image_in.max()\n",
    "    E_input = torch.tensor(image_in,device=device,dtype=dtype)[None,:,:] \n",
    "    Eres = torch_holo_set(E_input,fx,fy,z_rec_sub,lam).detach().cpu()\n",
    "    Eset.append(torch.stack([Eres.real,Eres.imag],dim=1))\n",
    "#     Eset1.append(Eres[:,None,:,:].abs())\n",
    "#     Eset2.append(Eres[:,None,:,:].angle())\n",
    "    histset.append(histogram_arr[holo_idx,np.concatenate([set_part,set_empt])])\n",
    "\n",
    "#     # Include All Reconstructions\n",
    "#     E_input = torch.tensor(h_ds['image'].isel(hologram_number=holo_idx).values,device=device,dtype=dtype)[None,:,:] \n",
    "#     Eres = torch_holo_set(E_input,fx,fy,z_rec,lam).detach().cpu()\n",
    "#     Eset.append(torch.stack([Eres.abs(),Eres.angle()],dim=1))\n",
    "#     # Eset.append(torch.stack([Eres.real,Eres.imag],dim=1))\n",
    "\n",
    "\n",
    "end_time = datetime.datetime.now()"
   ]
  },
  {
   "cell_type": "code",
   "execution_count": 21,
   "id": "desperate-learning",
   "metadata": {},
   "outputs": [
    {
     "name": "stdout",
     "output_type": "stream",
     "text": [
      "[298]\n",
      "[57026.67]\n"
     ]
    }
   ],
   "source": [
    "print(z_idx)\n",
    "print(zp)"
   ]
  },
  {
   "cell_type": "code",
   "execution_count": 22,
   "id": "preceding-correspondence",
   "metadata": {},
   "outputs": [
    {
     "name": "stdout",
     "output_type": "stream",
     "text": [
      "executed 4000 planes in 31.18246 seconds\n",
      " for 0.007795615 seconds per plane\n"
     ]
    }
   ],
   "source": [
    "exec_time = end_time-start_time\n",
    "print(f'executed {2*num_per_holo*len(Eset)} planes in {exec_time.total_seconds()} seconds')\n",
    "print(f' for {exec_time.total_seconds()/(2*num_per_holo*len(Eset))} seconds per plane')\n",
    "\n",
    "# exec_time = end_time-start_time\n",
    "# print(f'executed {z_centers.size*len(Eset)} planes in {exec_time.total_seconds()} seconds')\n",
    "# print(f' for {exec_time.total_seconds()/(z_centers.size*len(Eset))} seconds per plane')"
   ]
  },
  {
   "cell_type": "code",
   "execution_count": 23,
   "id": "congressional-draft",
   "metadata": {},
   "outputs": [],
   "source": [
    "idx_arr = np.arange(len(Eset)).astype(int)\n",
    "train_idx = np.random.choice(idx_arr, idx_arr[-1]//2 ,replace=False)\n",
    "valid_idx = np.delete(idx_arr,train_idx)"
   ]
  },
  {
   "cell_type": "code",
   "execution_count": 24,
   "id": "sunset-trash",
   "metadata": {},
   "outputs": [],
   "source": [
    "train_inputs = torch.cat(Eset,dim=0)[train_idx,...]\n",
    "valid_inputs = torch.cat(Eset,dim=0)[valid_idx,...]\n",
    "\n",
    "# train_inputs1 = torch.cat(Eset1,dim=0)[train_idx,...]\n",
    "# valid_inputs1 = torch.cat(Eset1,dim=0)[valid_idx,...]\n",
    "# train_inputs2 = torch.cat(Eset2,dim=0)[train_idx,...]/np.pi\n",
    "# valid_inputs2 = torch.cat(Eset2,dim=0)[valid_idx,...]/np.pi"
   ]
  },
  {
   "cell_type": "code",
   "execution_count": 25,
   "id": "postal-plastic",
   "metadata": {},
   "outputs": [],
   "source": [
    "z_map_tns = torch.cat(z_map_lst,dim=0)[:,None,:,:]"
   ]
  },
  {
   "cell_type": "code",
   "execution_count": 26,
   "id": "usual-rider",
   "metadata": {},
   "outputs": [],
   "source": [
    "train_labels = z_map_tns[train_idx,...]\n",
    "valid_labels = z_map_tns[valid_idx,...]"
   ]
  },
  {
   "cell_type": "code",
   "execution_count": 27,
   "id": "ignored-classic",
   "metadata": {},
   "outputs": [],
   "source": [
    "hist_labels = np.concatenate(histset)"
   ]
  },
  {
   "cell_type": "code",
   "execution_count": 28,
   "id": "behavioral-prerequisite",
   "metadata": {},
   "outputs": [
    {
     "data": {
      "text/plain": [
       "<matplotlib.collections.QuadMesh at 0x2ada9e09c490>"
      ]
     },
     "execution_count": 28,
     "metadata": {},
     "output_type": "execute_result"
    },
    {
     "data": {
      "image/png": "[encoded data removed]",
      "text/plain": [
       "<Figure size 648x216 with 3 Axes>"
      ]
     },
     "metadata": {
      "needs_background": "light"
     },
     "output_type": "display_data"
    },
    {
     "data": {
      "image/png": "[encoded data removed]",
      "text/plain": [
       "<Figure size 648x216 with 3 Axes>"
      ]
     },
     "metadata": {
      "needs_background": "light"
     },
     "output_type": "display_data"
    }
   ],
   "source": [
    "idx = np.where(hist_labels[train_idx]>0)[0][3]\n",
    "fig,ax = plt.subplots(1,3,figsize=(9,3))\n",
    "ax[0].pcolormesh(y_arr*1e6,x_arr*1e6,train_inputs[idx,0,:,:])\n",
    "ax[1].pcolormesh(y_arr*1e6,x_arr*1e6,train_inputs[idx,1,:,:])\n",
    "ax[2].pcolormesh(y_arr*1e6,x_arr*1e6,train_labels[idx,0,:,:])\n",
    "\n",
    "\n",
    "idx = np.where(hist_labels[valid_idx]>0)[0][4]\n",
    "fig,ax = plt.subplots(1,3,figsize=(9,3))\n",
    "ax[0].pcolormesh(y_arr*1e6,x_arr*1e6,valid_inputs[idx,0,:,:])\n",
    "ax[1].pcolormesh(y_arr*1e6,x_arr*1e6,valid_inputs[idx,1,:,:])\n",
    "ax[2].pcolormesh(y_arr*1e6,x_arr*1e6,valid_labels[idx,0,:,:])"
   ]
  },
  {
   "cell_type": "code",
   "execution_count": 29,
   "id": "several-humanity",
   "metadata": {},
   "outputs": [
    {
     "data": {
      "text/plain": [
       "tensor(1.1474, dtype=torch.float64)"
      ]
     },
     "execution_count": 29,
     "metadata": {},
     "output_type": "execute_result"
    }
   ],
   "source": [
    "train_inputs.max()"
   ]
  },
  {
   "cell_type": "code",
   "execution_count": 30,
   "id": "collect-lawyer",
   "metadata": {},
   "outputs": [
    {
     "name": "stdout",
     "output_type": "stream",
     "text": [
      "torch.Size([1, 2, 600, 400])\n",
      "torch.Size([1, 4, 600, 400])\n",
      "\n",
      "torch.Size([1, 4, 150, 100])\n",
      "torch.Size([1, 2, 597, 397])\n"
     ]
    }
   ],
   "source": [
    "conv_size = 7\n",
    "pool_stride = 4\n",
    "print(train_inputs.float()[5:6,...].shape)\n",
    "x1 = nn.Conv2d(2, 4, conv_size,padding=(conv_size-1)//2)(train_inputs.float()[5:6,...]) # ,padding=(conv_size-1)//2\n",
    "print(x1.shape)\n",
    "print()\n",
    "x2 = nn.MaxPool2d(pool_stride, pool_stride)(x1)\n",
    "print(x2.shape)\n",
    "x3 = nn.ConvTranspose2d(4, 2, conv_size-pool_stride//2, stride=pool_stride, padding=(conv_size-1-pool_stride//2)//2)(x2) # \n",
    "print(x3.shape)"
   ]
  },
  {
   "cell_type": "markdown",
   "id": "fifteen-efficiency",
   "metadata": {},
   "source": [
    "# Build Model"
   ]
  },
  {
   "cell_type": "code",
   "execution_count": 31,
   "id": "entitled-negotiation",
   "metadata": {},
   "outputs": [],
   "source": [
    "epochs = 100\n",
    "optimizer_type = \"adam\"\n",
    "learning_rate = 1e-5\n",
    "batch_size = 64\n",
    "dtype = torch.float"
   ]
  },
  {
   "cell_type": "code",
   "execution_count": 32,
   "id": "judicial-socket",
   "metadata": {},
   "outputs": [],
   "source": [
    "# train_labels = torch.tensor(train_histogram_bin_arr.reshape(-1,1),dtype=dtype)\n",
    "# valid_labels = torch.tensor(valid_histogram_bin_arr.reshape(-1,1),dtype=dtype)\n",
    "\n",
    "# ### TODO ###\n",
    "# train_labels = torch.tensor(hist_labels[train_idx],dtype=dtype)[:,None]\n",
    "# valid_labels = torch.tensor(hist_labels[valid_idx],dtype=dtype)[:,None]"
   ]
  },
  {
   "cell_type": "code",
   "execution_count": 33,
   "id": "studied-affect",
   "metadata": {},
   "outputs": [
    {
     "data": {
      "text/plain": [
       "torch.Size([999, 1, 600, 400])"
      ]
     },
     "execution_count": 33,
     "metadata": {},
     "output_type": "execute_result"
    }
   ],
   "source": [
    "train_labels.shape"
   ]
  },
  {
   "cell_type": "code",
   "execution_count": 34,
   "id": "dangerous-boring",
   "metadata": {},
   "outputs": [],
   "source": [
    "def element_weighted_MSELoss(y_hat, y):\n",
    "    weights = y ** 2\n",
    "    criterion = torch.nn.MSELoss(reduction='none')\n",
    "    loss = criterion(y_hat, y)\n",
    "    loss = loss * ( (1-1e-4)*weights + 1e-4 )\n",
    "    return loss.sum() / weights.sum()"
   ]
  },
  {
   "cell_type": "code",
   "execution_count": 35,
   "id": "cheap-tuning",
   "metadata": {},
   "outputs": [],
   "source": [
    "# loss_fn = nn.CrossEntropyLoss()\n",
    "# loss_fn = nn.BCELoss()\n",
    "# loss_fn = nn.MSELoss()\n",
    "loss_fn = element_weighted_MSELoss"
   ]
  },
  {
   "cell_type": "code",
   "execution_count": 36,
   "id": "spectacular-friday",
   "metadata": {},
   "outputs": [
    {
     "name": "stdout",
     "output_type": "stream",
     "text": [
      "torch.Size([2, 600, 400])\n",
      "torch.Size([1, 600, 400])\n"
     ]
    }
   ],
   "source": [
    "input_shape = train_inputs.shape[1:]\n",
    "output_shape = train_labels.shape[1:]\n",
    "print(input_shape)\n",
    "print(output_shape)"
   ]
  },
  {
   "cell_type": "code",
   "execution_count": 37,
   "id": "demographic-albert",
   "metadata": {},
   "outputs": [],
   "source": [
    "PoolStride = 2  # don't change this.  I haven't figured out how to match of dims with other strides\n",
    "ConvSize = 3"
   ]
  },
  {
   "cell_type": "code",
   "execution_count": 38,
   "id": "flush-radar",
   "metadata": {},
   "outputs": [],
   "source": [
    "class DoubleConv(nn.Module):\n",
    "\n",
    "    def __init__(self, in_channels, out_channels):\n",
    "        super().__init__()\n",
    "        self.double_conv = nn.Sequential(\n",
    "            nn.Conv2d(in_channels, out_channels, kernel_size=ConvSize, padding=(ConvSize-1)//2),\n",
    "            nn.BatchNorm2d(out_channels),\n",
    "            nn.ReLU(inplace=True),\n",
    "            nn.Conv2d(out_channels, out_channels, kernel_size=ConvSize, padding=(ConvSize-1)//2),\n",
    "            nn.BatchNorm2d(out_channels),\n",
    "            nn.ReLU(inplace=True)\n",
    "        )\n",
    "\n",
    "    def forward(self, x):\n",
    "        return self.double_conv(x)\n",
    "\n",
    "# class DownSamp(nn.Module):\n",
    "#     def __init__(self, in_channels, out_channels):\n",
    "#         super(DownSamp, self).__init__()\n",
    "#         self.doub_conv = DoubleConv(in_channels,out_channels)\n",
    "#         self.pool = nn.MaxPool2d(PoolStride, PoolStride)\n",
    "\n",
    "#     def forward(self, x):\n",
    "#         return self.pool(self.doub_conv(x))\n",
    "    \n",
    "# class UpSamp(nn.Module):\n",
    "#     def __init__(self, in_channels, mid_channels, out_channels):\n",
    "#         super(UpSamp, self).__init__()\n",
    "#         self.conv_transp = nn.ConvTranspose2d(in_channels, \n",
    "#                                             in_channels, \n",
    "#                                             ConvSize-PoolStride//2 , \n",
    "#                                             stride=PoolStride, \n",
    "#                                             padding=(ConvSize-1-PoolStride//2)//2)\n",
    "#         self.doub_conv = DoubleConv(mid_channels,out_channels)\n",
    "\n",
    "#     def forward(self, x, xf):\n",
    "#         return self.doub_conv(torch.cat([self.conv_transp(x),xf],dim=1))"
   ]
  },
  {
   "cell_type": "code",
   "execution_count": 39,
   "id": "fifteen-intention",
   "metadata": {},
   "outputs": [],
   "source": [
    "# ResNet 50 notebook : /glade/work/schreck/repos/goes16ci/gunther_notebook/latest.ipynb\n",
    "\n",
    "\n",
    "\n",
    "class XY_Unet(nn.Module):\n",
    "    def __init__(self):\n",
    "        super().__init__()\n",
    "        self.conv1d = DoubleConv(2, 4)\n",
    "        self.conv2d = DoubleConv(4, 8)\n",
    "        self.conv3d = DoubleConv(8, 16)\n",
    "        self.conv4d = DoubleConv(16, 32)\n",
    "#         self.conv5d = DoubleConv(32, 64)\n",
    "        \n",
    "#         self.convT4u = nn.ConvTranspose2d(64, 64, ConvSize-PoolStride//2, \n",
    "#                                             stride=PoolStride, \n",
    "#                                             padding=(ConvSize-1-PoolStride//2)//2)\n",
    "        \n",
    "#         self.conv4u = DoubleConv(32+64, 32)\n",
    "        \n",
    "        self.convT3u = nn.ConvTranspose2d(32, 32, ConvSize-PoolStride//2, \n",
    "                                            stride=PoolStride, \n",
    "                                            padding=(ConvSize-1-PoolStride//2)//2)\n",
    "        \n",
    "        self.conv3u = DoubleConv(16+32, 16)\n",
    "        \n",
    "        self.convT2u = nn.ConvTranspose2d(16, 16, ConvSize-PoolStride//2, \n",
    "                                            stride=PoolStride, \n",
    "                                            padding=(ConvSize-1-PoolStride//2)//2)\n",
    "        \n",
    "        self.conv2u = DoubleConv(8+16, 8)\n",
    "        \n",
    "        self.convT1u = nn.ConvTranspose2d(8, 8, ConvSize-PoolStride//2, \n",
    "                                            stride=PoolStride, \n",
    "                                            padding=(ConvSize-1-PoolStride//2)//2)\n",
    "        self.conv1u = DoubleConv(4+8, 4)\n",
    "    \n",
    "        \n",
    "        self.pool = nn.MaxPool2d(PoolStride, PoolStride)\n",
    "        \n",
    "        self.conv_out = nn.Conv2d(4, 1, 1)\n",
    "        \n",
    "\n",
    "    def forward(self, x):\n",
    "        x1 = self.conv1d(x)\n",
    "        x2 = self.conv2d(self.pool(x1))\n",
    "        x3 = self.conv3d(self.pool(x2))\n",
    "        x4 = self.conv4d(self.pool(x3))\n",
    "#         x5 = self.conv5d(self.pool(x4))\n",
    "\n",
    "#         x4 = torch.cat([self.convT4u(x5),x4],dim=1)\n",
    "#         x4 = self.conv4u(x4)\n",
    "        x3 = torch.cat([self.convT3u(x4),x3],dim=1)\n",
    "        x3 = self.conv3u(x3)\n",
    "        x2 = torch.cat([self.convT2u(x3),x2],dim=1)\n",
    "        x2 = self.conv2u(x2)\n",
    "        x1 = torch.cat([self.convT1u(x2),x1],dim=1)\n",
    "        x1 = self.conv1u(x1)\n",
    "        \n",
    "        return F.sigmoid(self.conv_out(x1))\n",
    "\n",
    "    \n"
   ]
  },
  {
   "cell_type": "code",
   "execution_count": 40,
   "id": "sixth-stranger",
   "metadata": {},
   "outputs": [
    {
     "data": {
      "text/plain": [
       "XY_Unet(\n",
       "  (conv1d): DoubleConv(\n",
       "    (double_conv): Sequential(\n",
       "      (0): Conv2d(2, 4, kernel_size=(3, 3), stride=(1, 1), padding=(1, 1))\n",
       "      (1): BatchNorm2d(4, eps=1e-05, momentum=0.1, affine=True, track_running_stats=True)\n",
       "      (2): ReLU(inplace=True)\n",
       "      (3): Conv2d(4, 4, kernel_size=(3, 3), stride=(1, 1), padding=(1, 1))\n",
       "      (4): BatchNorm2d(4, eps=1e-05, momentum=0.1, affine=True, track_running_stats=True)\n",
       "      (5): ReLU(inplace=True)\n",
       "    )\n",
       "  )\n",
       "  (conv2d): DoubleConv(\n",
       "    (double_conv): Sequential(\n",
       "      (0): Conv2d(4, 8, kernel_size=(3, 3), stride=(1, 1), padding=(1, 1))\n",
       "      (1): BatchNorm2d(8, eps=1e-05, momentum=0.1, affine=True, track_running_stats=True)\n",
       "      (2): ReLU(inplace=True)\n",
       "      (3): Conv2d(8, 8, kernel_size=(3, 3), stride=(1, 1), padding=(1, 1))\n",
       "      (4): BatchNorm2d(8, eps=1e-05, momentum=0.1, affine=True, track_running_stats=True)\n",
       "      (5): ReLU(inplace=True)\n",
       "    )\n",
       "  )\n",
       "  (conv3d): DoubleConv(\n",
       "    (double_conv): Sequential(\n",
       "      (0): Conv2d(8, 16, kernel_size=(3, 3), stride=(1, 1), padding=(1, 1))\n",
       "      (1): BatchNorm2d(16, eps=1e-05, momentum=0.1, affine=True, track_running_stats=True)\n",
       "      (2): ReLU(inplace=True)\n",
       "      (3): Conv2d(16, 16, kernel_size=(3, 3), stride=(1, 1), padding=(1, 1))\n",
       "      (4): BatchNorm2d(16, eps=1e-05, momentum=0.1, affine=True, track_running_stats=True)\n",
       "      (5): ReLU(inplace=True)\n",
       "    )\n",
       "  )\n",
       "  (conv4d): DoubleConv(\n",
       "    (double_conv): Sequential(\n",
       "      (0): Conv2d(16, 32, kernel_size=(3, 3), stride=(1, 1), padding=(1, 1))\n",
       "      (1): BatchNorm2d(32, eps=1e-05, momentum=0.1, affine=True, track_running_stats=True)\n",
       "      (2): ReLU(inplace=True)\n",
       "      (3): Conv2d(32, 32, kernel_size=(3, 3), stride=(1, 1), padding=(1, 1))\n",
       "      (4): BatchNorm2d(32, eps=1e-05, momentum=0.1, affine=True, track_running_stats=True)\n",
       "      (5): ReLU(inplace=True)\n",
       "    )\n",
       "  )\n",
       "  (convT3u): ConvTranspose2d(32, 32, kernel_size=(2, 2), stride=(2, 2))\n",
       "  (conv3u): DoubleConv(\n",
       "    (double_conv): Sequential(\n",
       "      (0): Conv2d(48, 16, kernel_size=(3, 3), stride=(1, 1), padding=(1, 1))\n",
       "      (1): BatchNorm2d(16, eps=1e-05, momentum=0.1, affine=True, track_running_stats=True)\n",
       "      (2): ReLU(inplace=True)\n",
       "      (3): Conv2d(16, 16, kernel_size=(3, 3), stride=(1, 1), padding=(1, 1))\n",
       "      (4): BatchNorm2d(16, eps=1e-05, momentum=0.1, affine=True, track_running_stats=True)\n",
       "      (5): ReLU(inplace=True)\n",
       "    )\n",
       "  )\n",
       "  (convT2u): ConvTranspose2d(16, 16, kernel_size=(2, 2), stride=(2, 2))\n",
       "  (conv2u): DoubleConv(\n",
       "    (double_conv): Sequential(\n",
       "      (0): Conv2d(24, 8, kernel_size=(3, 3), stride=(1, 1), padding=(1, 1))\n",
       "      (1): BatchNorm2d(8, eps=1e-05, momentum=0.1, affine=True, track_running_stats=True)\n",
       "      (2): ReLU(inplace=True)\n",
       "      (3): Conv2d(8, 8, kernel_size=(3, 3), stride=(1, 1), padding=(1, 1))\n",
       "      (4): BatchNorm2d(8, eps=1e-05, momentum=0.1, affine=True, track_running_stats=True)\n",
       "      (5): ReLU(inplace=True)\n",
       "    )\n",
       "  )\n",
       "  (convT1u): ConvTranspose2d(8, 8, kernel_size=(2, 2), stride=(2, 2))\n",
       "  (conv1u): DoubleConv(\n",
       "    (double_conv): Sequential(\n",
       "      (0): Conv2d(12, 4, kernel_size=(3, 3), stride=(1, 1), padding=(1, 1))\n",
       "      (1): BatchNorm2d(4, eps=1e-05, momentum=0.1, affine=True, track_running_stats=True)\n",
       "      (2): ReLU(inplace=True)\n",
       "      (3): Conv2d(4, 4, kernel_size=(3, 3), stride=(1, 1), padding=(1, 1))\n",
       "      (4): BatchNorm2d(4, eps=1e-05, momentum=0.1, affine=True, track_running_stats=True)\n",
       "      (5): ReLU(inplace=True)\n",
       "    )\n",
       "  )\n",
       "  (pool): MaxPool2d(kernel_size=2, stride=2, padding=0, dilation=1, ceil_mode=False)\n",
       "  (conv_out): Conv2d(4, 1, kernel_size=(1, 1), stride=(1, 1))\n",
       ")"
      ]
     },
     "execution_count": 40,
     "metadata": {},
     "output_type": "execute_result"
    }
   ],
   "source": [
    "unet_model = XY_Unet()\n",
    "unet_model.to(device)"
   ]
  },
  {
   "cell_type": "code",
   "execution_count": 41,
   "id": "temporal-patient",
   "metadata": {},
   "outputs": [],
   "source": [
    "if optimizer_type == \"adam\":\n",
    "    optimizer = torch.optim.Adam(unet_model.parameters(), lr=learning_rate)\n",
    "elif optimizer_type == \"sgd\":\n",
    "    optimizer = torch.optim.SGD(unet_model.parameters(), lr=learning_rate)\n",
    "else:\n",
    "    logging.warning(\n",
    "        f\"Optimzer type {optimizer_type} is unknown. Exiting with error.\"\n",
    "    )"
   ]
  },
  {
   "cell_type": "code",
   "execution_count": 42,
   "id": "norman-depression",
   "metadata": {},
   "outputs": [],
   "source": [
    "train_ds = TensorDataset(train_inputs.float().to(device), train_labels.float().to(device))\n",
    "train_dl = DataLoader(train_ds, batch_size=batch_size,shuffle=True)\n",
    "\n",
    "valid_ds = TensorDataset(valid_inputs.float().to(device), valid_labels.float().to(device))\n",
    "valid_dl = DataLoader(valid_ds, batch_size=batch_size)"
   ]
  },
  {
   "cell_type": "code",
   "execution_count": 43,
   "id": "smooth-spending",
   "metadata": {},
   "outputs": [],
   "source": [
    "train_loss_hist = []\n",
    "valid_loss_hist = []"
   ]
  },
  {
   "cell_type": "code",
   "execution_count": 44,
   "id": "descending-coast",
   "metadata": {},
   "outputs": [],
   "source": [
    "epochs=150"
   ]
  },
  {
   "cell_type": "code",
   "execution_count": null,
   "id": "adolescent-rebate",
   "metadata": {},
   "outputs": [
    {
     "name": "stderr",
     "output_type": "stream",
     "text": [
      " 94%|█████████▍| 16/17 [00:08<00:00,  1.90it/s]\n",
      "  6%|▌         | 1/17 [00:00<00:02,  7.91it/s]"
     ]
    },
    {
     "name": "stdout",
     "output_type": "stream",
     "text": [
      "0 0.5409168172627687 0.5207948088645935\n"
     ]
    },
    {
     "name": "stderr",
     "output_type": "stream",
     "text": [
      " 94%|█████████▍| 16/17 [00:04<00:00,  3.28it/s]\n",
      "  6%|▌         | 1/17 [00:00<00:01,  8.79it/s]"
     ]
    },
    {
     "name": "stdout",
     "output_type": "stream",
     "text": [
      "1 0.5332431457936764 0.5104141235351562\n"
     ]
    },
    {
     "name": "stderr",
     "output_type": "stream",
     "text": [
      " 94%|█████████▍| 16/17 [00:04<00:00,  3.29it/s]\n",
      "  6%|▌         | 1/17 [00:00<00:01,  8.79it/s]"
     ]
    },
    {
     "name": "stdout",
     "output_type": "stream",
     "text": [
      "2 0.5270396899431944 0.5004576444625854\n"
     ]
    },
    {
     "name": "stderr",
     "output_type": "stream",
     "text": [
      " 94%|█████████▍| 16/17 [00:04<00:00,  3.29it/s]\n",
      "  6%|▌         | 1/17 [00:00<00:01,  8.75it/s]"
     ]
    },
    {
     "name": "stdout",
     "output_type": "stream",
     "text": [
      "3 0.5152390468865633 0.49184733629226685\n"
     ]
    },
    {
     "name": "stderr",
     "output_type": "stream",
     "text": [
      " 94%|█████████▍| 16/17 [00:04<00:00,  3.29it/s]\n",
      "  6%|▌         | 1/17 [00:00<00:01,  8.81it/s]"
     ]
    },
    {
     "name": "stdout",
     "output_type": "stream",
     "text": [
      "4 0.5093416515737772 0.4841446876525879\n"
     ]
    },
    {
     "name": "stderr",
     "output_type": "stream",
     "text": [
      " 94%|█████████▍| 16/17 [00:04<00:00,  3.29it/s]\n",
      "  6%|▌         | 1/17 [00:00<00:01,  8.77it/s]"
     ]
    },
    {
     "name": "stdout",
     "output_type": "stream",
     "text": [
      "5 0.5003259889781475 0.4776363670825958\n"
     ]
    },
    {
     "name": "stderr",
     "output_type": "stream",
     "text": [
      " 94%|█████████▍| 16/17 [00:04<00:00,  3.29it/s]\n",
      "  6%|▌         | 1/17 [00:00<00:01,  8.81it/s]"
     ]
    },
    {
     "name": "stdout",
     "output_type": "stream",
     "text": [
      "6 0.4980441089719534 0.4724079966545105\n"
     ]
    },
    {
     "name": "stderr",
     "output_type": "stream",
     "text": [
      " 94%|█████████▍| 16/17 [00:04<00:00,  3.29it/s]\n",
      "  6%|▌         | 1/17 [00:00<00:01,  8.76it/s]"
     ]
    },
    {
     "name": "stdout",
     "output_type": "stream",
     "text": [
      "7 0.49483340978622437 0.46718552708625793\n"
     ]
    },
    {
     "name": "stderr",
     "output_type": "stream",
     "text": [
      " 94%|█████████▍| 16/17 [00:04<00:00,  3.29it/s]\n",
      "  6%|▌         | 1/17 [00:00<00:01,  8.80it/s]"
     ]
    },
    {
     "name": "stdout",
     "output_type": "stream",
     "text": [
      "8 0.4819418005645275 0.4627115726470947\n"
     ]
    },
    {
     "name": "stderr",
     "output_type": "stream",
     "text": [
      " 94%|█████████▍| 16/17 [00:04<00:00,  3.29it/s]\n",
      "  6%|▌         | 1/17 [00:00<00:01,  8.81it/s]"
     ]
    },
    {
     "name": "stdout",
     "output_type": "stream",
     "text": [
      "9 0.4795254021883011 0.45832696557044983\n"
     ]
    },
    {
     "name": "stderr",
     "output_type": "stream",
     "text": [
      " 94%|█████████▍| 16/17 [00:04<00:00,  3.29it/s]\n",
      "  6%|▌         | 1/17 [00:00<00:01,  8.81it/s]"
     ]
    },
    {
     "name": "stdout",
     "output_type": "stream",
     "text": [
      "10 0.476024866104126 0.4540586471557617\n"
     ]
    },
    {
     "name": "stderr",
     "output_type": "stream",
     "text": [
      " 94%|█████████▍| 16/17 [00:04<00:00,  3.29it/s]\n",
      "  6%|▌         | 1/17 [00:00<00:01,  8.81it/s]"
     ]
    },
    {
     "name": "stdout",
     "output_type": "stream",
     "text": [
      "11 0.4705018326640129 0.45009878277778625\n"
     ]
    },
    {
     "name": "stderr",
     "output_type": "stream",
     "text": [
      " 94%|█████████▍| 16/17 [00:04<00:00,  3.29it/s]\n",
      "  6%|▌         | 1/17 [00:00<00:01,  8.81it/s]"
     ]
    },
    {
     "name": "stdout",
     "output_type": "stream",
     "text": [
      "12 0.4666262920945883 0.44640132784843445\n"
     ]
    },
    {
     "name": "stderr",
     "output_type": "stream",
     "text": [
      " 94%|█████████▍| 16/17 [00:04<00:00,  3.29it/s]\n",
      "  6%|▌         | 1/17 [00:00<00:01,  8.82it/s]"
     ]
    },
    {
     "name": "stdout",
     "output_type": "stream",
     "text": [
      "13 0.4695967361330986 0.44296252727508545\n"
     ]
    },
    {
     "name": "stderr",
     "output_type": "stream",
     "text": [
      " 94%|█████████▍| 16/17 [00:04<00:00,  3.29it/s]\n",
      "  6%|▌         | 1/17 [00:00<00:01,  8.81it/s]"
     ]
    },
    {
     "name": "stdout",
     "output_type": "stream",
     "text": [
      "14 0.4620972629636526 0.43942099809646606\n"
     ]
    },
    {
     "name": "stderr",
     "output_type": "stream",
     "text": [
      " 94%|█████████▍| 16/17 [00:04<00:00,  3.29it/s]\n",
      "  6%|▌         | 1/17 [00:00<00:01,  8.77it/s]"
     ]
    },
    {
     "name": "stdout",
     "output_type": "stream",
     "text": [
      "15 0.4621367398649454 0.43626466393470764\n"
     ]
    },
    {
     "name": "stderr",
     "output_type": "stream",
     "text": [
      " 94%|█████████▍| 16/17 [00:04<00:00,  3.29it/s]\n",
      "  6%|▌         | 1/17 [00:00<00:01,  8.80it/s]"
     ]
    },
    {
     "name": "stdout",
     "output_type": "stream",
     "text": [
      "16 0.4553797636181116 0.4331238269805908\n"
     ]
    },
    {
     "name": "stderr",
     "output_type": "stream",
     "text": [
      " 94%|█████████▍| 16/17 [00:04<00:00,  3.29it/s]\n",
      "  6%|▌         | 1/17 [00:00<00:01,  8.79it/s]"
     ]
    },
    {
     "name": "stdout",
     "output_type": "stream",
     "text": [
      "17 0.47422152012586594 0.43062177300453186\n"
     ]
    },
    {
     "name": "stderr",
     "output_type": "stream",
     "text": [
      " 94%|█████████▍| 16/17 [00:04<00:00,  3.29it/s]\n",
      "  6%|▌         | 1/17 [00:00<00:01,  8.79it/s]"
     ]
    },
    {
     "name": "stdout",
     "output_type": "stream",
     "text": [
      "18 0.4489899016916752 0.42879000306129456\n"
     ]
    },
    {
     "name": "stderr",
     "output_type": "stream",
     "text": [
      " 94%|█████████▍| 16/17 [00:04<00:00,  3.29it/s]\n",
      "  6%|▌         | 1/17 [00:00<00:01,  8.79it/s]"
     ]
    },
    {
     "name": "stdout",
     "output_type": "stream",
     "text": [
      "19 0.45383026637136936 0.42655259370803833\n"
     ]
    },
    {
     "name": "stderr",
     "output_type": "stream",
     "text": [
      " 94%|█████████▍| 16/17 [00:04<00:00,  3.29it/s]\n",
      "  6%|▌         | 1/17 [00:00<00:01,  8.79it/s]"
     ]
    },
    {
     "name": "stdout",
     "output_type": "stream",
     "text": [
      "20 0.4463999327272177 0.42440903186798096\n"
     ]
    },
    {
     "name": "stderr",
     "output_type": "stream",
     "text": [
      " 94%|█████████▍| 16/17 [00:04<00:00,  3.29it/s]\n",
      "  6%|▌         | 1/17 [00:00<00:01,  8.79it/s]"
     ]
    },
    {
     "name": "stdout",
     "output_type": "stream",
     "text": [
      "21 0.4452673476189375 0.42256778478622437\n"
     ]
    },
    {
     "name": "stderr",
     "output_type": "stream",
     "text": [
      " 94%|█████████▍| 16/17 [00:04<00:00,  3.29it/s]\n",
      "  6%|▌         | 1/17 [00:00<00:01,  8.79it/s]"
     ]
    },
    {
     "name": "stdout",
     "output_type": "stream",
     "text": [
      "22 0.4448696952313185 0.42028355598449707\n"
     ]
    },
    {
     "name": "stderr",
     "output_type": "stream",
     "text": [
      " 94%|█████████▍| 16/17 [00:04<00:00,  3.29it/s]\n",
      "  6%|▌         | 1/17 [00:00<00:01,  8.79it/s]"
     ]
    },
    {
     "name": "stdout",
     "output_type": "stream",
     "text": [
      "23 0.4379254952073097 0.41856327652931213\n"
     ]
    },
    {
     "name": "stderr",
     "output_type": "stream",
     "text": [
      " 94%|█████████▍| 16/17 [00:04<00:00,  3.29it/s]\n",
      "  6%|▌         | 1/17 [00:00<00:01,  8.79it/s]"
     ]
    },
    {
     "name": "stdout",
     "output_type": "stream",
     "text": [
      "24 0.4415297657251358 0.41793155670166016\n"
     ]
    },
    {
     "name": "stderr",
     "output_type": "stream",
     "text": [
      " 94%|█████████▍| 16/17 [00:04<00:00,  3.29it/s]\n",
      "  6%|▌         | 1/17 [00:00<00:01,  8.79it/s]"
     ]
    },
    {
     "name": "stdout",
     "output_type": "stream",
     "text": [
      "25 0.4376157131046057 0.4162248969078064\n"
     ]
    },
    {
     "name": "stderr",
     "output_type": "stream",
     "text": [
      " 94%|█████████▍| 16/17 [00:04<00:00,  3.29it/s]\n",
      "  6%|▌         | 1/17 [00:00<00:01,  8.75it/s]"
     ]
    },
    {
     "name": "stdout",
     "output_type": "stream",
     "text": [
      "26 0.4413648974150419 0.41539403796195984\n"
     ]
    },
    {
     "name": "stderr",
     "output_type": "stream",
     "text": [
      " 94%|█████████▍| 16/17 [00:04<00:00,  3.29it/s]\n",
      "  6%|▌         | 1/17 [00:00<00:01,  8.97it/s]"
     ]
    },
    {
     "name": "stdout",
     "output_type": "stream",
     "text": [
      "27 0.4421968553215265 0.4150712192058563\n"
     ]
    },
    {
     "name": "stderr",
     "output_type": "stream",
     "text": [
      " 94%|█████████▍| 16/17 [00:04<00:00,  3.29it/s]\n",
      "  6%|▌         | 1/17 [00:00<00:01,  8.96it/s]"
     ]
    },
    {
     "name": "stdout",
     "output_type": "stream",
     "text": [
      "28 0.43756923265755177 0.41474148631095886\n"
     ]
    },
    {
     "name": "stderr",
     "output_type": "stream",
     "text": [
      " 94%|█████████▍| 16/17 [00:04<00:00,  3.29it/s]\n",
      "  6%|▌         | 1/17 [00:00<00:01,  8.95it/s]"
     ]
    },
    {
     "name": "stdout",
     "output_type": "stream",
     "text": [
      "29 0.43639553524553776 0.41476115584373474\n"
     ]
    },
    {
     "name": "stderr",
     "output_type": "stream",
     "text": [
      " 94%|█████████▍| 16/17 [00:04<00:00,  3.29it/s]\n",
      "  6%|▌         | 1/17 [00:00<00:01,  8.96it/s]"
     ]
    },
    {
     "name": "stdout",
     "output_type": "stream",
     "text": [
      "30 0.4388276282697916 0.4154181480407715\n"
     ]
    },
    {
     "name": "stderr",
     "output_type": "stream",
     "text": [
      " 94%|█████████▍| 16/17 [00:04<00:00,  3.29it/s]\n",
      "  6%|▌         | 1/17 [00:00<00:01,  8.97it/s]"
     ]
    },
    {
     "name": "stdout",
     "output_type": "stream",
     "text": [
      "31 0.43934131413698196 0.4159119129180908\n"
     ]
    },
    {
     "name": "stderr",
     "output_type": "stream",
     "text": [
      " 94%|█████████▍| 16/17 [00:04<00:00,  3.29it/s]\n",
      "  6%|▌         | 1/17 [00:00<00:01,  8.98it/s]"
     ]
    },
    {
     "name": "stdout",
     "output_type": "stream",
     "text": [
      "32 0.4425257798284292 0.41657376289367676\n"
     ]
    },
    {
     "name": "stderr",
     "output_type": "stream",
     "text": [
      " 94%|█████████▍| 16/17 [00:04<00:00,  3.29it/s]\n",
      "  6%|▌         | 1/17 [00:00<00:01,  8.96it/s]"
     ]
    },
    {
     "name": "stdout",
     "output_type": "stream",
     "text": [
      "33 0.440990436822176 0.41705432534217834\n"
     ]
    },
    {
     "name": "stderr",
     "output_type": "stream",
     "text": [
      " 94%|█████████▍| 16/17 [00:04<00:00,  3.29it/s]\n",
      "  6%|▌         | 1/17 [00:00<00:01,  8.94it/s]"
     ]
    },
    {
     "name": "stdout",
     "output_type": "stream",
     "text": [
      "34 0.4451024830341339 0.4173746705055237\n"
     ]
    },
    {
     "name": "stderr",
     "output_type": "stream",
     "text": [
      " 94%|█████████▍| 16/17 [00:04<00:00,  3.29it/s]\n",
      "  6%|▌         | 1/17 [00:00<00:01,  8.95it/s]"
     ]
    },
    {
     "name": "stdout",
     "output_type": "stream",
     "text": [
      "35 0.4401324801146984 0.41795477271080017\n"
     ]
    },
    {
     "name": "stderr",
     "output_type": "stream",
     "text": [
      " 94%|█████████▍| 16/17 [00:04<00:00,  3.29it/s]\n",
      "  6%|▌         | 1/17 [00:00<00:01,  8.97it/s]"
     ]
    },
    {
     "name": "stdout",
     "output_type": "stream",
     "text": [
      "36 0.4416563231498003 0.4198310971260071\n"
     ]
    },
    {
     "name": "stderr",
     "output_type": "stream",
     "text": [
      " 94%|█████████▍| 16/17 [00:04<00:00,  3.29it/s]\n",
      "  6%|▌         | 1/17 [00:00<00:01,  8.97it/s]"
     ]
    },
    {
     "name": "stdout",
     "output_type": "stream",
     "text": [
      "37 0.45001958683133125 0.42025473713874817\n"
     ]
    },
    {
     "name": "stderr",
     "output_type": "stream",
     "text": [
      " 94%|█████████▍| 16/17 [00:04<00:00,  3.29it/s]\n",
      "  6%|▌         | 1/17 [00:00<00:01,  8.97it/s]"
     ]
    },
    {
     "name": "stdout",
     "output_type": "stream",
     "text": [
      "38 0.44285070709884167 0.42039954662323\n"
     ]
    },
    {
     "name": "stderr",
     "output_type": "stream",
     "text": [
      " 94%|█████████▍| 16/17 [00:04<00:00,  3.29it/s]\n",
      "  6%|▌         | 1/17 [00:00<00:01,  8.96it/s]"
     ]
    },
    {
     "name": "stdout",
     "output_type": "stream",
     "text": [
      "39 0.44476001150906086 0.42135366797447205\n"
     ]
    },
    {
     "name": "stderr",
     "output_type": "stream",
     "text": [
      " 94%|█████████▍| 16/17 [00:04<00:00,  3.29it/s]\n",
      "  6%|▌         | 1/17 [00:00<00:01,  8.97it/s]"
     ]
    },
    {
     "name": "stdout",
     "output_type": "stream",
     "text": [
      "40 0.44890122301876545 0.4226357340812683\n"
     ]
    },
    {
     "name": "stderr",
     "output_type": "stream",
     "text": [
      " 94%|█████████▍| 16/17 [00:04<00:00,  3.29it/s]\n",
      "  6%|▌         | 1/17 [00:00<00:01,  8.97it/s]"
     ]
    },
    {
     "name": "stdout",
     "output_type": "stream",
     "text": [
      "41 0.4461941570043564 0.42364680767059326\n"
     ]
    },
    {
     "name": "stderr",
     "output_type": "stream",
     "text": [
      " 94%|█████████▍| 16/17 [00:04<00:00,  3.29it/s]\n",
      "  6%|▌         | 1/17 [00:00<00:01,  8.97it/s]"
     ]
    },
    {
     "name": "stdout",
     "output_type": "stream",
     "text": [
      "42 0.4466809146106243 0.4247758984565735\n"
     ]
    },
    {
     "name": "stderr",
     "output_type": "stream",
     "text": [
      " 94%|█████████▍| 16/17 [00:04<00:00,  3.29it/s]\n",
      "  6%|▌         | 1/17 [00:00<00:01,  8.96it/s]"
     ]
    },
    {
     "name": "stdout",
     "output_type": "stream",
     "text": [
      "43 0.44536769203841686 0.42529284954071045\n"
     ]
    },
    {
     "name": "stderr",
     "output_type": "stream",
     "text": [
      " 94%|█████████▍| 16/17 [00:04<00:00,  3.28it/s]\n",
      "  6%|▌         | 1/17 [00:00<00:01,  8.95it/s]"
     ]
    },
    {
     "name": "stdout",
     "output_type": "stream",
     "text": [
      "44 0.4481645468622446 0.42628544569015503\n"
     ]
    },
    {
     "name": "stderr",
     "output_type": "stream",
     "text": [
      " 94%|█████████▍| 16/17 [00:04<00:00,  3.29it/s]\n",
      "  6%|▌         | 1/17 [00:00<00:01,  8.96it/s]"
     ]
    },
    {
     "name": "stdout",
     "output_type": "stream",
     "text": [
      "45 0.45262742042541504 0.4267827868461609\n"
     ]
    },
    {
     "name": "stderr",
     "output_type": "stream",
     "text": [
      " 94%|█████████▍| 16/17 [00:04<00:00,  3.29it/s]\n",
      "  6%|▌         | 1/17 [00:00<00:01,  8.97it/s]"
     ]
    },
    {
     "name": "stdout",
     "output_type": "stream",
     "text": [
      "46 0.450622858479619 0.4274097681045532\n"
     ]
    },
    {
     "name": "stderr",
     "output_type": "stream",
     "text": [
      " 94%|█████████▍| 16/17 [00:04<00:00,  3.29it/s]\n",
      "  6%|▌         | 1/17 [00:00<00:01,  8.97it/s]"
     ]
    },
    {
     "name": "stdout",
     "output_type": "stream",
     "text": [
      "47 0.45019047148525715 0.4266361892223358\n"
     ]
    },
    {
     "name": "stderr",
     "output_type": "stream",
     "text": [
      " 94%|█████████▍| 16/17 [00:04<00:00,  3.29it/s]\n",
      "  6%|▌         | 1/17 [00:00<00:01,  8.98it/s]"
     ]
    },
    {
     "name": "stdout",
     "output_type": "stream",
     "text": [
      "48 0.44842993654310703 0.42688247561454773\n"
     ]
    },
    {
     "name": "stderr",
     "output_type": "stream",
     "text": [
      " 94%|█████████▍| 16/17 [00:04<00:00,  3.29it/s]\n",
      "  6%|▌         | 1/17 [00:00<00:01,  8.97it/s]"
     ]
    },
    {
     "name": "stdout",
     "output_type": "stream",
     "text": [
      "49 0.4490526672452688 0.4263404607772827\n"
     ]
    },
    {
     "name": "stderr",
     "output_type": "stream",
     "text": [
      " 94%|█████████▍| 16/17 [00:04<00:00,  3.29it/s]\n",
      "  6%|▌         | 1/17 [00:00<00:01,  8.94it/s]"
     ]
    },
    {
     "name": "stdout",
     "output_type": "stream",
     "text": [
      "50 0.449019692838192 0.4269678294658661\n"
     ]
    },
    {
     "name": "stderr",
     "output_type": "stream",
     "text": [
      " 94%|█████████▍| 16/17 [00:04<00:00,  3.29it/s]\n",
      "  6%|▌         | 1/17 [00:00<00:01,  8.97it/s]"
     ]
    },
    {
     "name": "stdout",
     "output_type": "stream",
     "text": [
      "51 0.4535738080739975 0.4268699884414673\n"
     ]
    },
    {
     "name": "stderr",
     "output_type": "stream",
     "text": [
      " 94%|█████████▍| 16/17 [00:04<00:00,  3.29it/s]\n",
      "  6%|▌         | 1/17 [00:00<00:01,  8.97it/s]"
     ]
    },
    {
     "name": "stdout",
     "output_type": "stream",
     "text": [
      "52 0.44760454818606377 0.42637351155281067\n"
     ]
    },
    {
     "name": "stderr",
     "output_type": "stream",
     "text": [
      " 94%|█████████▍| 16/17 [00:04<00:00,  3.29it/s]\n",
      "  6%|▌         | 1/17 [00:00<00:01,  8.96it/s]"
     ]
    },
    {
     "name": "stdout",
     "output_type": "stream",
     "text": [
      "53 0.4514106325805187 0.42702725529670715\n"
     ]
    },
    {
     "name": "stderr",
     "output_type": "stream",
     "text": [
      " 94%|█████████▍| 16/17 [00:04<00:00,  3.29it/s]\n",
      "  6%|▌         | 1/17 [00:00<00:01,  8.97it/s]"
     ]
    },
    {
     "name": "stdout",
     "output_type": "stream",
     "text": [
      "54 0.4503533486276865 0.42591190338134766\n"
     ]
    },
    {
     "name": "stderr",
     "output_type": "stream",
     "text": [
      " 94%|█████████▍| 16/17 [00:04<00:00,  3.28it/s]\n",
      "  6%|▌         | 1/17 [00:00<00:01,  8.95it/s]"
     ]
    },
    {
     "name": "stdout",
     "output_type": "stream",
     "text": [
      "55 0.4504851009696722 0.42689281702041626\n"
     ]
    },
    {
     "name": "stderr",
     "output_type": "stream",
     "text": [
      " 94%|█████████▍| 16/17 [00:04<00:00,  3.29it/s]\n",
      "  6%|▌         | 1/17 [00:00<00:01,  8.97it/s]"
     ]
    },
    {
     "name": "stdout",
     "output_type": "stream",
     "text": [
      "56 0.4467573892325163 0.4260042905807495\n"
     ]
    },
    {
     "name": "stderr",
     "output_type": "stream",
     "text": [
      " 94%|█████████▍| 16/17 [00:04<00:00,  3.29it/s]\n",
      "  6%|▌         | 1/17 [00:00<00:01,  8.97it/s]"
     ]
    },
    {
     "name": "stdout",
     "output_type": "stream",
     "text": [
      "57 0.44806901551783085 0.4265700876712799\n"
     ]
    },
    {
     "name": "stderr",
     "output_type": "stream",
     "text": [
      " 94%|█████████▍| 16/17 [00:04<00:00,  3.29it/s]\n",
      "  6%|▌         | 1/17 [00:00<00:01,  8.96it/s]"
     ]
    },
    {
     "name": "stdout",
     "output_type": "stream",
     "text": [
      "58 0.46026475355029106 0.4258442521095276\n"
     ]
    },
    {
     "name": "stderr",
     "output_type": "stream",
     "text": [
      " 94%|█████████▍| 16/17 [00:04<00:00,  3.29it/s]\n",
      "  6%|▌         | 1/17 [00:00<00:01,  8.96it/s]"
     ]
    },
    {
     "name": "stdout",
     "output_type": "stream",
     "text": [
      "59 0.44598344527184963 0.4252101182937622\n"
     ]
    },
    {
     "name": "stderr",
     "output_type": "stream",
     "text": [
      " 94%|█████████▍| 16/17 [00:04<00:00,  3.29it/s]\n",
      "  6%|▌         | 1/17 [00:00<00:01,  8.97it/s]"
     ]
    },
    {
     "name": "stdout",
     "output_type": "stream",
     "text": [
      "60 0.44978917948901653 0.4253007769584656\n"
     ]
    },
    {
     "name": "stderr",
     "output_type": "stream",
     "text": [
      " 94%|█████████▍| 16/17 [00:04<00:00,  3.29it/s]\n",
      "  6%|▌         | 1/17 [00:00<00:01,  8.97it/s]"
     ]
    },
    {
     "name": "stdout",
     "output_type": "stream",
     "text": [
      "61 0.4502023570239544 0.4235278367996216\n"
     ]
    },
    {
     "name": "stderr",
     "output_type": "stream",
     "text": [
      " 94%|█████████▍| 16/17 [00:04<00:00,  3.29it/s]\n",
      "  6%|▌         | 1/17 [00:00<00:01,  8.96it/s]"
     ]
    },
    {
     "name": "stdout",
     "output_type": "stream",
     "text": [
      "62 0.43974658846855164 0.42066001892089844\n"
     ]
    },
    {
     "name": "stderr",
     "output_type": "stream",
     "text": [
      " 94%|█████████▍| 16/17 [00:04<00:00,  3.29it/s]\n",
      "  6%|▌         | 1/17 [00:00<00:01,  8.96it/s]"
     ]
    },
    {
     "name": "stdout",
     "output_type": "stream",
     "text": [
      "63 0.4390153717249632 0.41970470547676086\n"
     ]
    },
    {
     "name": "stderr",
     "output_type": "stream",
     "text": [
      " 94%|█████████▍| 16/17 [00:04<00:00,  3.29it/s]\n",
      "  6%|▌         | 1/17 [00:00<00:01,  8.97it/s]"
     ]
    },
    {
     "name": "stdout",
     "output_type": "stream",
     "text": [
      "64 0.44431142322719097 0.4188893735408783\n"
     ]
    },
    {
     "name": "stderr",
     "output_type": "stream",
     "text": [
      " 94%|█████████▍| 16/17 [00:04<00:00,  3.29it/s]\n",
      "  6%|▌         | 1/17 [00:00<00:01,  8.94it/s]"
     ]
    },
    {
     "name": "stdout",
     "output_type": "stream",
     "text": [
      "65 0.43735993281006813 0.4182683229446411\n"
     ]
    },
    {
     "name": "stderr",
     "output_type": "stream",
     "text": [
      " 94%|█████████▍| 16/17 [00:04<00:00,  3.28it/s]\n",
      "  6%|▌         | 1/17 [00:00<00:01,  8.97it/s]"
     ]
    },
    {
     "name": "stdout",
     "output_type": "stream",
     "text": [
      "66 0.438335994258523 0.4176151156425476\n"
     ]
    },
    {
     "name": "stderr",
     "output_type": "stream",
     "text": [
      " 94%|█████████▍| 16/17 [00:04<00:00,  3.28it/s]\n",
      "  6%|▌         | 1/17 [00:00<00:01,  8.96it/s]"
     ]
    },
    {
     "name": "stdout",
     "output_type": "stream",
     "text": [
      "67 0.44174095802009106 0.4165698289871216\n"
     ]
    },
    {
     "name": "stderr",
     "output_type": "stream",
     "text": [
      " 94%|█████████▍| 16/17 [00:04<00:00,  3.29it/s]\n",
      "  6%|▌         | 1/17 [00:00<00:01,  8.98it/s]"
     ]
    },
    {
     "name": "stdout",
     "output_type": "stream",
     "text": [
      "68 0.4331483393907547 0.414703905582428\n"
     ]
    },
    {
     "name": "stderr",
     "output_type": "stream",
     "text": [
      " 94%|█████████▍| 16/17 [00:04<00:00,  3.29it/s]\n",
      "  6%|▌         | 1/17 [00:00<00:01,  8.97it/s]"
     ]
    },
    {
     "name": "stdout",
     "output_type": "stream",
     "text": [
      "69 0.43855723552405834 0.41374504566192627\n"
     ]
    },
    {
     "name": "stderr",
     "output_type": "stream",
     "text": [
      " 94%|█████████▍| 16/17 [00:04<00:00,  3.29it/s]\n",
      "  6%|▌         | 1/17 [00:00<00:01,  8.94it/s]"
     ]
    },
    {
     "name": "stdout",
     "output_type": "stream",
     "text": [
      "70 0.4330251570791006 0.41261646151542664\n"
     ]
    },
    {
     "name": "stderr",
     "output_type": "stream",
     "text": [
      " 94%|█████████▍| 16/17 [00:04<00:00,  3.29it/s]\n",
      "  6%|▌         | 1/17 [00:00<00:01,  8.98it/s]"
     ]
    },
    {
     "name": "stdout",
     "output_type": "stream",
     "text": [
      "71 0.43401747941970825 0.4111612141132355\n"
     ]
    },
    {
     "name": "stderr",
     "output_type": "stream",
     "text": [
      " 94%|█████████▍| 16/17 [00:04<00:00,  3.29it/s]\n",
      "  6%|▌         | 1/17 [00:00<00:01,  8.98it/s]"
     ]
    },
    {
     "name": "stdout",
     "output_type": "stream",
     "text": [
      "72 0.42960418574512005 0.4094807505607605\n"
     ]
    },
    {
     "name": "stderr",
     "output_type": "stream",
     "text": [
      " 94%|█████████▍| 16/17 [00:04<00:00,  3.29it/s]\n",
      "  6%|▌         | 1/17 [00:00<00:01,  8.97it/s]"
     ]
    },
    {
     "name": "stdout",
     "output_type": "stream",
     "text": [
      "73 0.42891494184732437 0.40878844261169434\n"
     ]
    },
    {
     "name": "stderr",
     "output_type": "stream",
     "text": [
      " 94%|█████████▍| 16/17 [00:04<00:00,  3.29it/s]\n",
      "  6%|▌         | 1/17 [00:00<00:01,  8.99it/s]"
     ]
    },
    {
     "name": "stdout",
     "output_type": "stream",
     "text": [
      "74 0.4234093986451626 0.4065121114253998\n"
     ]
    },
    {
     "name": "stderr",
     "output_type": "stream",
     "text": [
      " 94%|█████████▍| 16/17 [00:04<00:00,  3.29it/s]\n",
      "  6%|▌         | 1/17 [00:00<00:01,  8.99it/s]"
     ]
    },
    {
     "name": "stdout",
     "output_type": "stream",
     "text": [
      "75 0.4254786539822817 0.40464043617248535\n"
     ]
    },
    {
     "name": "stderr",
     "output_type": "stream",
     "text": [
      " 94%|█████████▍| 16/17 [00:04<00:00,  3.29it/s]\n",
      "  6%|▌         | 1/17 [00:00<00:01,  8.97it/s]"
     ]
    },
    {
     "name": "stdout",
     "output_type": "stream",
     "text": [
      "76 0.4244969617575407 0.40397268533706665\n"
     ]
    },
    {
     "name": "stderr",
     "output_type": "stream",
     "text": [
      " 94%|█████████▍| 16/17 [00:04<00:00,  3.29it/s]\n",
      "  6%|▌         | 1/17 [00:00<00:01,  8.98it/s]"
     ]
    },
    {
     "name": "stdout",
     "output_type": "stream",
     "text": [
      "77 0.4211285524070263 0.4017048478126526\n"
     ]
    },
    {
     "name": "stderr",
     "output_type": "stream",
     "text": [
      " 94%|█████████▍| 16/17 [00:04<00:00,  3.29it/s]\n",
      "  6%|▌         | 1/17 [00:00<00:01,  8.98it/s]"
     ]
    },
    {
     "name": "stdout",
     "output_type": "stream",
     "text": [
      "78 0.4213669691234827 0.3981578052043915\n"
     ]
    },
    {
     "name": "stderr",
     "output_type": "stream",
     "text": [
      " 94%|█████████▍| 16/17 [00:04<00:00,  3.29it/s]\n",
      "  6%|▌         | 1/17 [00:00<00:01,  8.99it/s]"
     ]
    },
    {
     "name": "stdout",
     "output_type": "stream",
     "text": [
      "79 0.4166394993662834 0.39715394377708435\n"
     ]
    },
    {
     "name": "stderr",
     "output_type": "stream",
     "text": [
      " 94%|█████████▍| 16/17 [00:04<00:00,  3.29it/s]\n",
      "  6%|▌         | 1/17 [00:00<00:01,  8.98it/s]"
     ]
    },
    {
     "name": "stdout",
     "output_type": "stream",
     "text": [
      "80 0.4203066322952509 0.39596039056777954\n"
     ]
    },
    {
     "name": "stderr",
     "output_type": "stream",
     "text": [
      " 94%|█████████▍| 16/17 [00:04<00:00,  3.29it/s]\n",
      "  6%|▌         | 1/17 [00:00<00:01,  8.92it/s]"
     ]
    },
    {
     "name": "stdout",
     "output_type": "stream",
     "text": [
      "81 0.4156056307256222 0.39536288380622864\n"
     ]
    },
    {
     "name": "stderr",
     "output_type": "stream",
     "text": [
      " 94%|█████████▍| 16/17 [00:04<00:00,  3.29it/s]\n",
      "  6%|▌         | 1/17 [00:00<00:01,  8.99it/s]"
     ]
    },
    {
     "name": "stdout",
     "output_type": "stream",
     "text": [
      "82 0.41112389229238033 0.3916335105895996\n"
     ]
    },
    {
     "name": "stderr",
     "output_type": "stream",
     "text": [
      " 94%|█████████▍| 16/17 [00:04<00:00,  3.29it/s]\n",
      "  6%|▌         | 1/17 [00:00<00:01,  9.00it/s]"
     ]
    },
    {
     "name": "stdout",
     "output_type": "stream",
     "text": [
      "83 0.416550375521183 0.39010414481163025\n"
     ]
    },
    {
     "name": "stderr",
     "output_type": "stream",
     "text": [
      " 94%|█████████▍| 16/17 [00:04<00:00,  3.29it/s]\n",
      "  6%|▌         | 1/17 [00:00<00:01,  8.98it/s]"
     ]
    },
    {
     "name": "stdout",
     "output_type": "stream",
     "text": [
      "84 0.4096869621425867 0.38918688893318176\n"
     ]
    },
    {
     "name": "stderr",
     "output_type": "stream",
     "text": [
      " 94%|█████████▍| 16/17 [00:04<00:00,  3.29it/s]\n",
      "  6%|▌         | 1/17 [00:00<00:01,  8.98it/s]"
     ]
    },
    {
     "name": "stdout",
     "output_type": "stream",
     "text": [
      "85 0.4089440405368805 0.3865881860256195\n"
     ]
    },
    {
     "name": "stderr",
     "output_type": "stream",
     "text": [
      " 94%|█████████▍| 16/17 [00:04<00:00,  3.29it/s]\n",
      "  6%|▌         | 1/17 [00:00<00:01,  8.97it/s]"
     ]
    },
    {
     "name": "stdout",
     "output_type": "stream",
     "text": [
      "86 0.4046384170651436 0.38500550389289856\n"
     ]
    },
    {
     "name": "stderr",
     "output_type": "stream",
     "text": [
      " 94%|█████████▍| 16/17 [00:04<00:00,  3.29it/s]\n",
      "  6%|▌         | 1/17 [00:00<00:01,  8.98it/s]"
     ]
    },
    {
     "name": "stdout",
     "output_type": "stream",
     "text": [
      "87 0.4042669180780649 0.3834177553653717\n"
     ]
    },
    {
     "name": "stderr",
     "output_type": "stream",
     "text": [
      " 94%|█████████▍| 16/17 [00:04<00:00,  3.29it/s]\n",
      "  6%|▌         | 1/17 [00:00<00:01,  8.97it/s]"
     ]
    },
    {
     "name": "stdout",
     "output_type": "stream",
     "text": [
      "88 0.40302992425858974 0.3811604678630829\n"
     ]
    },
    {
     "name": "stderr",
     "output_type": "stream",
     "text": [
      " 94%|█████████▍| 16/17 [00:04<00:00,  3.29it/s]\n",
      "  6%|▌         | 1/17 [00:00<00:01,  8.96it/s]"
     ]
    },
    {
     "name": "stdout",
     "output_type": "stream",
     "text": [
      "89 0.4015328548848629 0.37860777974128723\n"
     ]
    },
    {
     "name": "stderr",
     "output_type": "stream",
     "text": [
      " 94%|█████████▍| 16/17 [00:04<00:00,  3.29it/s]\n",
      "  6%|▌         | 1/17 [00:00<00:01,  8.97it/s]"
     ]
    },
    {
     "name": "stdout",
     "output_type": "stream",
     "text": [
      "90 0.3979467488825321 0.37695634365081787\n"
     ]
    },
    {
     "name": "stderr",
     "output_type": "stream",
     "text": [
      " 94%|█████████▍| 16/17 [00:04<00:00,  3.29it/s]\n",
      "  6%|▌         | 1/17 [00:00<00:01,  8.95it/s]"
     ]
    },
    {
     "name": "stdout",
     "output_type": "stream",
     "text": [
      "91 0.4030715376138687 0.37538182735443115\n"
     ]
    },
    {
     "name": "stderr",
     "output_type": "stream",
     "text": [
      " 94%|█████████▍| 16/17 [00:04<00:00,  3.29it/s]\n",
      "  6%|▌         | 1/17 [00:00<00:01,  8.96it/s]"
     ]
    },
    {
     "name": "stdout",
     "output_type": "stream",
     "text": [
      "92 0.3931848257780075 0.37148284912109375\n"
     ]
    },
    {
     "name": "stderr",
     "output_type": "stream",
     "text": [
      " 94%|█████████▍| 16/17 [00:04<00:00,  3.29it/s]\n",
      "  6%|▌         | 1/17 [00:00<00:01,  8.96it/s]"
     ]
    },
    {
     "name": "stdout",
     "output_type": "stream",
     "text": [
      "93 0.389107683673501 0.36847400665283203\n"
     ]
    },
    {
     "name": "stderr",
     "output_type": "stream",
     "text": [
      " 94%|█████████▍| 16/17 [00:04<00:00,  3.29it/s]\n",
      "  6%|▌         | 1/17 [00:00<00:01,  8.96it/s]"
     ]
    },
    {
     "name": "stdout",
     "output_type": "stream",
     "text": [
      "94 0.3860182110220194 0.3648771047592163\n"
     ]
    },
    {
     "name": "stderr",
     "output_type": "stream",
     "text": [
      " 94%|█████████▍| 16/17 [00:04<00:00,  3.29it/s]\n",
      "  6%|▌         | 1/17 [00:00<00:01,  8.97it/s]"
     ]
    },
    {
     "name": "stdout",
     "output_type": "stream",
     "text": [
      "95 0.3827095180749893 0.36024561524391174\n"
     ]
    },
    {
     "name": "stderr",
     "output_type": "stream",
     "text": [
      " 94%|█████████▍| 16/17 [00:04<00:00,  3.29it/s]\n",
      "  6%|▌         | 1/17 [00:00<00:01,  8.97it/s]"
     ]
    },
    {
     "name": "stdout",
     "output_type": "stream",
     "text": [
      "96 0.38082688860595226 0.3545945882797241\n"
     ]
    },
    {
     "name": "stderr",
     "output_type": "stream",
     "text": [
      " 94%|█████████▍| 16/17 [00:04<00:00,  3.29it/s]\n",
      "  6%|▌         | 1/17 [00:00<00:01,  8.96it/s]"
     ]
    },
    {
     "name": "stdout",
     "output_type": "stream",
     "text": [
      "97 0.3742018807679415 0.3498055040836334\n"
     ]
    },
    {
     "name": "stderr",
     "output_type": "stream",
     "text": [
      " 94%|█████████▍| 16/17 [00:04<00:00,  3.29it/s]\n",
      "  6%|▌         | 1/17 [00:00<00:01,  8.96it/s]"
     ]
    },
    {
     "name": "stdout",
     "output_type": "stream",
     "text": [
      "98 0.36699108593165874 0.3453649878501892\n"
     ]
    },
    {
     "name": "stderr",
     "output_type": "stream",
     "text": [
      " 94%|█████████▍| 16/17 [00:04<00:00,  3.29it/s]\n",
      "  6%|▌         | 1/17 [00:00<00:01,  8.97it/s]"
     ]
    },
    {
     "name": "stdout",
     "output_type": "stream",
     "text": [
      "99 0.36652691289782524 0.3410454988479614\n"
     ]
    },
    {
     "name": "stderr",
     "output_type": "stream",
     "text": [
      " 94%|█████████▍| 16/17 [00:04<00:00,  3.29it/s]\n",
      "  6%|▌         | 1/17 [00:00<00:01,  8.96it/s]"
     ]
    },
    {
     "name": "stdout",
     "output_type": "stream",
     "text": [
      "100 0.3614634368568659 0.33558890223503113\n"
     ]
    },
    {
     "name": "stderr",
     "output_type": "stream",
     "text": [
      " 94%|█████████▍| 16/17 [00:04<00:00,  3.29it/s]\n",
      "  6%|▌         | 1/17 [00:00<00:01,  8.97it/s]"
     ]
    },
    {
     "name": "stdout",
     "output_type": "stream",
     "text": [
      "101 0.3535601459443569 0.3292470872402191\n"
     ]
    },
    {
     "name": "stderr",
     "output_type": "stream",
     "text": [
      " 94%|█████████▍| 16/17 [00:04<00:00,  3.29it/s]\n",
      "  6%|▌         | 1/17 [00:00<00:01,  8.97it/s]"
     ]
    },
    {
     "name": "stdout",
     "output_type": "stream",
     "text": [
      "102 0.34764548018574715 0.3206802010536194\n"
     ]
    },
    {
     "name": "stderr",
     "output_type": "stream",
     "text": [
      " 94%|█████████▍| 16/17 [00:04<00:00,  3.29it/s]\n",
      "  6%|▌         | 1/17 [00:00<00:01,  8.96it/s]"
     ]
    },
    {
     "name": "stdout",
     "output_type": "stream",
     "text": [
      "103 0.3418310768902302 0.31572094559669495\n"
     ]
    },
    {
     "name": "stderr",
     "output_type": "stream",
     "text": [
      " 94%|█████████▍| 16/17 [00:04<00:00,  3.29it/s]\n",
      "  6%|▌         | 1/17 [00:00<00:01,  8.97it/s]"
     ]
    },
    {
     "name": "stdout",
     "output_type": "stream",
     "text": [
      "104 0.3379023037850857 0.30948251485824585\n"
     ]
    },
    {
     "name": "stderr",
     "output_type": "stream",
     "text": [
      " 94%|█████████▍| 16/17 [00:04<00:00,  3.29it/s]\n",
      "  6%|▌         | 1/17 [00:00<00:01,  8.96it/s]"
     ]
    },
    {
     "name": "stdout",
     "output_type": "stream",
     "text": [
      "105 0.3358079884201288 0.30421459674835205\n"
     ]
    },
    {
     "name": "stderr",
     "output_type": "stream",
     "text": [
      " 94%|█████████▍| 16/17 [00:04<00:00,  3.29it/s]\n",
      "  6%|▌         | 1/17 [00:00<00:01,  8.97it/s]"
     ]
    },
    {
     "name": "stdout",
     "output_type": "stream",
     "text": [
      "106 0.33010602183640003 0.29854023456573486\n"
     ]
    },
    {
     "name": "stderr",
     "output_type": "stream",
     "text": [
      " 94%|█████████▍| 16/17 [00:04<00:00,  3.29it/s]\n",
      "  6%|▌         | 1/17 [00:00<00:01,  8.97it/s]"
     ]
    },
    {
     "name": "stdout",
     "output_type": "stream",
     "text": [
      "107 0.32150390464812517 0.29162701964378357\n"
     ]
    },
    {
     "name": "stderr",
     "output_type": "stream",
     "text": [
      " 94%|█████████▍| 16/17 [00:04<00:00,  3.29it/s]\n",
      "  6%|▌         | 1/17 [00:00<00:01,  8.97it/s]"
     ]
    },
    {
     "name": "stdout",
     "output_type": "stream",
     "text": [
      "108 0.3162483451887965 0.2836044132709503\n"
     ]
    },
    {
     "name": "stderr",
     "output_type": "stream",
     "text": [
      " 94%|█████████▍| 16/17 [00:04<00:00,  3.29it/s]\n",
      "  6%|▌         | 1/17 [00:00<00:01,  8.96it/s]"
     ]
    },
    {
     "name": "stdout",
     "output_type": "stream",
     "text": [
      "109 0.30425084196031094 0.27470073103904724\n"
     ]
    },
    {
     "name": "stderr",
     "output_type": "stream",
     "text": [
      " 94%|█████████▍| 16/17 [00:04<00:00,  3.29it/s]\n",
      "  6%|▌         | 1/17 [00:00<00:01,  8.99it/s]"
     ]
    },
    {
     "name": "stdout",
     "output_type": "stream",
     "text": [
      "110 0.2975087473168969 0.2679442763328552\n"
     ]
    },
    {
     "name": "stderr",
     "output_type": "stream",
     "text": [
      " 94%|█████████▍| 16/17 [00:04<00:00,  3.29it/s]\n",
      "  6%|▌         | 1/17 [00:00<00:01,  8.96it/s]"
     ]
    },
    {
     "name": "stdout",
     "output_type": "stream",
     "text": [
      "111 0.28995624650269747 0.2596845328807831\n"
     ]
    },
    {
     "name": "stderr",
     "output_type": "stream",
     "text": [
      " 94%|█████████▍| 16/17 [00:04<00:00,  3.29it/s]\n",
      "  6%|▌         | 1/17 [00:00<00:01,  8.99it/s]"
     ]
    },
    {
     "name": "stdout",
     "output_type": "stream",
     "text": [
      "112 0.28260618820786476 0.25209373235702515\n"
     ]
    },
    {
     "name": "stderr",
     "output_type": "stream",
     "text": [
      " 94%|█████████▍| 16/17 [00:04<00:00,  3.29it/s]\n",
      "  6%|▌         | 1/17 [00:00<00:01,  8.97it/s]"
     ]
    },
    {
     "name": "stdout",
     "output_type": "stream",
     "text": [
      "113 0.27965583465993404 0.2458338439464569\n"
     ]
    },
    {
     "name": "stderr",
     "output_type": "stream",
     "text": [
      " 94%|█████████▍| 16/17 [00:04<00:00,  3.29it/s]\n",
      "  6%|▌         | 1/17 [00:00<00:01,  8.98it/s]"
     ]
    },
    {
     "name": "stdout",
     "output_type": "stream",
     "text": [
      "114 0.27279124315828085 0.23919737339019775\n"
     ]
    },
    {
     "name": "stderr",
     "output_type": "stream",
     "text": [
      " 94%|█████████▍| 16/17 [00:04<00:00,  3.29it/s]\n",
      "  6%|▌         | 1/17 [00:00<00:01,  8.96it/s]"
     ]
    },
    {
     "name": "stdout",
     "output_type": "stream",
     "text": [
      "115 0.269193559885025 0.23308952152729034\n"
     ]
    },
    {
     "name": "stderr",
     "output_type": "stream",
     "text": [
      " 94%|█████████▍| 16/17 [00:04<00:00,  3.29it/s]\n",
      "  6%|▌         | 1/17 [00:00<00:01,  8.96it/s]"
     ]
    },
    {
     "name": "stdout",
     "output_type": "stream",
     "text": [
      "116 0.2548842076212168 0.22620853781700134\n"
     ]
    },
    {
     "name": "stderr",
     "output_type": "stream",
     "text": [
      " 94%|█████████▍| 16/17 [00:04<00:00,  3.29it/s]\n",
      "  6%|▌         | 1/17 [00:00<00:01,  8.98it/s]"
     ]
    },
    {
     "name": "stdout",
     "output_type": "stream",
     "text": [
      "117 0.25097208842635155 0.21720588207244873\n"
     ]
    },
    {
     "name": "stderr",
     "output_type": "stream",
     "text": [
      " 94%|█████████▍| 16/17 [00:04<00:00,  3.29it/s]\n",
      "  6%|▌         | 1/17 [00:00<00:01,  8.96it/s]"
     ]
    },
    {
     "name": "stdout",
     "output_type": "stream",
     "text": [
      "118 0.2388594951480627 0.2087571769952774\n"
     ]
    },
    {
     "name": "stderr",
     "output_type": "stream",
     "text": [
      " 94%|█████████▍| 16/17 [00:04<00:00,  3.29it/s]\n",
      "  6%|▌         | 1/17 [00:00<00:01,  8.98it/s]"
     ]
    },
    {
     "name": "stdout",
     "output_type": "stream",
     "text": [
      "119 0.2345636822283268 0.20233188569545746\n"
     ]
    },
    {
     "name": "stderr",
     "output_type": "stream",
     "text": [
      " 94%|█████████▍| 16/17 [00:04<00:00,  3.29it/s]\n",
      "  6%|▌         | 1/17 [00:00<00:01,  8.96it/s]"
     ]
    },
    {
     "name": "stdout",
     "output_type": "stream",
     "text": [
      "120 0.23288351576775312 0.19593676924705505\n"
     ]
    },
    {
     "name": "stderr",
     "output_type": "stream",
     "text": [
      " 94%|█████████▍| 16/17 [00:04<00:00,  3.29it/s]\n",
      "  6%|▌         | 1/17 [00:00<00:01,  8.94it/s]"
     ]
    },
    {
     "name": "stdout",
     "output_type": "stream",
     "text": [
      "121 0.21863259468227625 0.18863028287887573\n"
     ]
    },
    {
     "name": "stderr",
     "output_type": "stream",
     "text": [
      " 94%|█████████▍| 16/17 [00:04<00:00,  3.29it/s]\n",
      "  6%|▌         | 1/17 [00:00<00:01,  8.99it/s]"
     ]
    },
    {
     "name": "stdout",
     "output_type": "stream",
     "text": [
      "122 0.21202236600220203 0.18361379206180573\n"
     ]
    },
    {
     "name": "stderr",
     "output_type": "stream",
     "text": [
      " 94%|█████████▍| 16/17 [00:04<00:00,  3.29it/s]\n",
      "  6%|▌         | 1/17 [00:00<00:01,  8.97it/s]"
     ]
    },
    {
     "name": "stdout",
     "output_type": "stream",
     "text": [
      "123 0.21026068553328514 0.1782987117767334\n"
     ]
    },
    {
     "name": "stderr",
     "output_type": "stream",
     "text": [
      " 94%|█████████▍| 16/17 [00:04<00:00,  3.29it/s]\n",
      "  6%|▌         | 1/17 [00:00<00:01,  8.97it/s]"
     ]
    },
    {
     "name": "stdout",
     "output_type": "stream",
     "text": [
      "124 0.202016887255013 0.17589330673217773\n"
     ]
    },
    {
     "name": "stderr",
     "output_type": "stream",
     "text": [
      " 94%|█████████▍| 16/17 [00:04<00:00,  3.28it/s]\n",
      "  6%|▌         | 1/17 [00:00<00:01,  8.97it/s]"
     ]
    },
    {
     "name": "stdout",
     "output_type": "stream",
     "text": [
      "125 0.19615999329835176 0.16927209496498108\n"
     ]
    },
    {
     "name": "stderr",
     "output_type": "stream",
     "text": [
      " 94%|█████████▍| 16/17 [00:04<00:00,  3.29it/s]\n",
      "  6%|▌         | 1/17 [00:00<00:01,  8.93it/s]"
     ]
    },
    {
     "name": "stdout",
     "output_type": "stream",
     "text": [
      "126 0.1885712267830968 0.16254958510398865\n"
     ]
    },
    {
     "name": "stderr",
     "output_type": "stream",
     "text": [
      " 94%|█████████▍| 16/17 [00:04<00:00,  3.29it/s]\n",
      "  6%|▌         | 1/17 [00:00<00:01,  8.99it/s]"
     ]
    },
    {
     "name": "stdout",
     "output_type": "stream",
     "text": [
      "127 0.18833864759653807 0.15734754502773285\n"
     ]
    },
    {
     "name": "stderr",
     "output_type": "stream",
     "text": [
      " 94%|█████████▍| 16/17 [00:04<00:00,  3.28it/s]\n",
      "  6%|▌         | 1/17 [00:00<00:01,  8.99it/s]"
     ]
    },
    {
     "name": "stdout",
     "output_type": "stream",
     "text": [
      "128 0.1783255049958825 0.1511887162923813\n"
     ]
    },
    {
     "name": "stderr",
     "output_type": "stream",
     "text": [
      " 94%|█████████▍| 16/17 [00:04<00:00,  3.29it/s]\n",
      "  6%|▌         | 1/17 [00:00<00:01,  8.96it/s]"
     ]
    },
    {
     "name": "stdout",
     "output_type": "stream",
     "text": [
      "129 0.17921985406428576 0.14768798649311066\n"
     ]
    },
    {
     "name": "stderr",
     "output_type": "stream",
     "text": [
      " 94%|█████████▍| 16/17 [00:04<00:00,  3.29it/s]\n",
      "  6%|▌         | 1/17 [00:00<00:01,  8.93it/s]"
     ]
    },
    {
     "name": "stdout",
     "output_type": "stream",
     "text": [
      "130 0.1717086429707706 0.14266511797904968\n"
     ]
    },
    {
     "name": "stderr",
     "output_type": "stream",
     "text": [
      " 94%|█████████▍| 16/17 [00:04<00:00,  3.29it/s]\n",
      "  6%|▌         | 1/17 [00:00<00:01,  8.89it/s]"
     ]
    },
    {
     "name": "stdout",
     "output_type": "stream",
     "text": [
      "131 0.1685597114264965 0.1398024708032608\n"
     ]
    },
    {
     "name": "stderr",
     "output_type": "stream",
     "text": [
      " 94%|█████████▍| 16/17 [00:04<00:00,  3.29it/s]\n",
      "  6%|▌         | 1/17 [00:00<00:01,  8.91it/s]"
     ]
    },
    {
     "name": "stdout",
     "output_type": "stream",
     "text": [
      "132 0.16515936935320497 0.13970084488391876\n"
     ]
    },
    {
     "name": "stderr",
     "output_type": "stream",
     "text": [
      " 94%|█████████▍| 16/17 [00:04<00:00,  3.28it/s]\n",
      "  6%|▌         | 1/17 [00:00<00:01,  8.94it/s]"
     ]
    },
    {
     "name": "stdout",
     "output_type": "stream",
     "text": [
      "133 0.17101842164993286 0.13732139766216278\n"
     ]
    },
    {
     "name": "stderr",
     "output_type": "stream",
     "text": [
      " 94%|█████████▍| 16/17 [00:04<00:00,  3.28it/s]\n",
      "  6%|▌         | 1/17 [00:00<00:01,  8.86it/s]"
     ]
    },
    {
     "name": "stdout",
     "output_type": "stream",
     "text": [
      "134 0.16026977682486176 0.13631676137447357\n"
     ]
    },
    {
     "name": "stderr",
     "output_type": "stream",
     "text": [
      " 94%|█████████▍| 16/17 [00:04<00:00,  3.28it/s]\n",
      "  6%|▌         | 1/17 [00:00<00:01,  8.88it/s]"
     ]
    },
    {
     "name": "stdout",
     "output_type": "stream",
     "text": [
      "135 0.15243638679385185 0.13392330706119537\n"
     ]
    },
    {
     "name": "stderr",
     "output_type": "stream",
     "text": [
      " 94%|█████████▍| 16/17 [00:04<00:00,  3.28it/s]\n",
      "  6%|▌         | 1/17 [00:00<00:01,  8.90it/s]"
     ]
    },
    {
     "name": "stdout",
     "output_type": "stream",
     "text": [
      "136 0.1633332776837051 0.13518951833248138\n"
     ]
    },
    {
     "name": "stderr",
     "output_type": "stream",
     "text": [
      " 94%|█████████▍| 16/17 [00:04<00:00,  3.28it/s]\n",
      "  6%|▌         | 1/17 [00:00<00:01,  8.86it/s]"
     ]
    },
    {
     "name": "stdout",
     "output_type": "stream",
     "text": [
      "137 0.1561860623769462 0.135635107755661\n"
     ]
    },
    {
     "name": "stderr",
     "output_type": "stream",
     "text": [
      " 94%|█████████▍| 16/17 [00:04<00:00,  3.28it/s]\n",
      "  6%|▌         | 1/17 [00:00<00:01,  8.88it/s]"
     ]
    },
    {
     "name": "stdout",
     "output_type": "stream",
     "text": [
      "138 0.16096431761980057 0.13306300342082977\n"
     ]
    },
    {
     "name": "stderr",
     "output_type": "stream",
     "text": [
      " 94%|█████████▍| 16/17 [00:04<00:00,  3.28it/s]\n",
      "  6%|▌         | 1/17 [00:00<00:01,  8.90it/s]"
     ]
    },
    {
     "name": "stdout",
     "output_type": "stream",
     "text": [
      "139 0.1564941401593387 0.1354297399520874\n"
     ]
    },
    {
     "name": "stderr",
     "output_type": "stream",
     "text": [
      " 94%|█████████▍| 16/17 [00:04<00:00,  3.28it/s]\n",
      "  6%|▌         | 1/17 [00:00<00:01,  8.95it/s]"
     ]
    },
    {
     "name": "stdout",
     "output_type": "stream",
     "text": [
      "140 0.15921419812366366 0.13206282258033752\n"
     ]
    },
    {
     "name": "stderr",
     "output_type": "stream",
     "text": [
      " 94%|█████████▍| 16/17 [00:04<00:00,  3.29it/s]\n",
      "  6%|▌         | 1/17 [00:00<00:01,  8.95it/s]"
     ]
    },
    {
     "name": "stdout",
     "output_type": "stream",
     "text": [
      "141 0.1595903132110834 0.1325598657131195\n"
     ]
    },
    {
     "name": "stderr",
     "output_type": "stream",
     "text": [
      " 94%|█████████▍| 16/17 [00:04<00:00,  3.29it/s]\n",
      "  6%|▌         | 1/17 [00:00<00:01,  8.99it/s]"
     ]
    },
    {
     "name": "stdout",
     "output_type": "stream",
     "text": [
      "142 0.16175481071695685 0.1354466676712036\n"
     ]
    },
    {
     "name": "stderr",
     "output_type": "stream",
     "text": [
      " 94%|█████████▍| 16/17 [00:04<00:00,  3.29it/s]\n",
      "  6%|▌         | 1/17 [00:00<00:01,  8.98it/s]"
     ]
    },
    {
     "name": "stdout",
     "output_type": "stream",
     "text": [
      "143 0.15514612011611462 0.1327047199010849\n"
     ]
    },
    {
     "name": "stderr",
     "output_type": "stream",
     "text": [
      " 94%|█████████▍| 16/17 [00:04<00:00,  3.28it/s]\n",
      "  6%|▌         | 1/17 [00:00<00:01,  8.95it/s]"
     ]
    },
    {
     "name": "stdout",
     "output_type": "stream",
     "text": [
      "144 0.15909771341830492 0.13344550132751465\n"
     ]
    },
    {
     "name": "stderr",
     "output_type": "stream",
     "text": [
      " 94%|█████████▍| 16/17 [00:04<00:00,  3.29it/s]\n"
     ]
    }
   ],
   "source": [
    "batches_per_epoch = len(train_dl)+1\n",
    "\n",
    "\n",
    "for epoch in range(epochs):\n",
    "    train_loss = 0\n",
    "    unet_model.train()\n",
    "    for batch_idx,(xb,yb) in tqdm.tqdm(enumerate(train_dl),total=batches_per_epoch,leave=True):\n",
    "        pred = unet_model(xb)\n",
    "        loss = loss_fn(pred*gaus_mult, yb)\n",
    "        train_loss += loss.sum().to('cpu').item()\n",
    "\n",
    "        loss.backward()\n",
    "        optimizer.step()\n",
    "        optimizer.zero_grad()\n",
    "        \n",
    "        unet_model.eval()\n",
    "    with torch.no_grad():\n",
    "        valid_loss = sum(loss_fn(unet_model(xb)*gaus_mult, yb) for xb, yb in valid_dl)\n",
    "\n",
    "    train_loss_hist += [train_loss / len(train_dl)]\n",
    "    valid_loss_hist += [valid_loss.item() / len(valid_dl)]\n",
    "    print(epoch, train_loss / len(train_dl), valid_loss.item() / len(valid_dl))"
   ]
  },
  {
   "cell_type": "code",
   "execution_count": null,
   "id": "analyzed-citation",
   "metadata": {},
   "outputs": [],
   "source": [
    "fig,ax = plt.subplots(1,1)\n",
    "ax.plot(np.arange(len(train_loss_hist))[1:],train_loss_hist[1:],'b',label=\"training\")\n",
    "ax.plot(np.arange(len(valid_loss_hist)),valid_loss_hist,'r',label=\"validation\")\n",
    "ax.set_xlabel('epoch')\n",
    "ax.set_ylabel('loss')\n",
    "ax.minorticks_on()\n",
    "ax.grid(b=True)\n",
    "ax.legend()"
   ]
  },
  {
   "cell_type": "code",
   "execution_count": 46,
   "id": "understood-impact",
   "metadata": {},
   "outputs": [],
   "source": [
    "valid_sets = []\n",
    "with torch.no_grad():\n",
    "    for xv, yv in valid_dl:\n",
    "        valid_sets.append([unet_model(xv).detach().cpu().numpy(), yv.detach().cpu().numpy(), xv.detach().cpu().numpy()])"
   ]
  },
  {
   "cell_type": "code",
   "execution_count": 47,
   "id": "minute-induction",
   "metadata": {},
   "outputs": [
    {
     "data": {
      "text/plain": [
       "<matplotlib.collections.QuadMesh at 0x2aca02a134d0>"
      ]
     },
     "execution_count": 47,
     "metadata": {},
     "output_type": "execute_result"
    },
    {
     "data": {
      "image/png": "[encoded data removed]",
      "text/plain": [
       "<Figure size 648x216 with 3 Axes>"
      ]
     },
     "metadata": {
      "needs_background": "light"
     },
     "output_type": "display_data"
    }
   ],
   "source": [
    "vld_idx = 4\n",
    "fig,ax = plt.subplots(1,3,figsize=(9,3))\n",
    "ax[0].pcolormesh(y_arr*1e6,x_arr*1e6,valid_sets[0][2][vld_idx,0,...])\n",
    "ax[1].pcolormesh(y_arr*1e6,x_arr*1e6,valid_sets[0][0][vld_idx,0,...])\n",
    "ax[2].pcolormesh(y_arr*1e6,x_arr*1e6,valid_sets[0][1][vld_idx,0,...])"
   ]
  },
  {
   "cell_type": "code",
   "execution_count": 100,
   "id": "medieval-automation",
   "metadata": {},
   "outputs": [
    {
     "data": {
      "text/plain": [
       "111800.12"
      ]
     },
     "execution_count": 100,
     "metadata": {},
     "output_type": "execute_result"
    }
   ],
   "source": [
    "np.sum(valid_sets[0][0][2,0,...])"
   ]
  },
  {
   "cell_type": "code",
   "execution_count": 101,
   "id": "handed-white",
   "metadata": {},
   "outputs": [
    {
     "name": "stdout",
     "output_type": "stream",
     "text": [
      "torch.Size([39, 1, 600, 400])\n"
     ]
    }
   ],
   "source": [
    "ypred = unet_model(xb)\n",
    "print(yb.shape)"
   ]
  },
  {
   "cell_type": "code",
   "execution_count": 102,
   "id": "destroyed-spectacular",
   "metadata": {},
   "outputs": [
    {
     "data": {
      "text/plain": [
       "<matplotlib.image.AxesImage at 0x2b0ae4ccf150>"
      ]
     },
     "execution_count": 102,
     "metadata": {},
     "output_type": "execute_result"
    },
    {
     "data": {
      "image/png": "[encoded data removed]",
      "text/plain": [
       "<Figure size 432x288 with 1 Axes>"
      ]
     },
     "metadata": {
      "needs_background": "light"
     },
     "output_type": "display_data"
    },
    {
     "data": {
      "image/png": "[encoded data removed]",
      "text/plain": [
       "<Figure size 432x288 with 1 Axes>"
      ]
     },
     "metadata": {
      "needs_background": "light"
     },
     "output_type": "display_data"
    }
   ],
   "source": [
    "plt.figure()\n",
    "plt.imshow(yb[0,0,...].cpu().detach().numpy())\n",
    "\n",
    "plt.figure()\n",
    "plt.imshow(ypred[0,0,...].cpu().detach().numpy())"
   ]
  },
  {
   "cell_type": "code",
   "execution_count": 39,
   "id": "adjustable-madison",
   "metadata": {},
   "outputs": [
    {
     "data": {
      "text/plain": [
       "[<matplotlib.lines.Line2D at 0x2b73591bdc10>]"
      ]
     },
     "execution_count": 39,
     "metadata": {},
     "output_type": "execute_result"
    },
    {
     "data": {
      "image/png": "[encoded data removed]",
      "text/plain": [
       "<Figure size 432x288 with 1 Axes>"
      ]
     },
     "metadata": {
      "needs_background": "light"
     },
     "output_type": "display_data"
    }
   ],
   "source": [
    "plt.figure()\n",
    "plt.plot(valid_sets[1][0])\n",
    "plt.plot(valid_sets[1][1])"
   ]
  },
  {
   "cell_type": "code",
   "execution_count": 40,
   "id": "hired-preliminary",
   "metadata": {},
   "outputs": [
    {
     "data": {
      "text/plain": [
       "[<matplotlib.lines.Line2D at 0x2b3e50f30610>]"
      ]
     },
     "execution_count": 40,
     "metadata": {},
     "output_type": "execute_result"
    },
    {
     "data": {
      "image/png": "[encoded data removed]",
      "text/plain": [
       "<Figure size 432x288 with 1 Axes>"
      ]
     },
     "metadata": {
      "needs_background": "light"
     },
     "output_type": "display_data"
    }
   ],
   "source": [
    "plt.figure()\n",
    "plt.plot(pred.detach().cpu().numpy())\n",
    "plt.plot(yb.detach().cpu().numpy())"
   ]
  },
  {
   "cell_type": "code",
   "execution_count": 108,
   "id": "sporting-fitting",
   "metadata": {},
   "outputs": [
    {
     "data": {
      "text/html": [
       "<div><svg style=\"position: absolute; width: 0; height: 0; overflow: hidden\">\n",
       "<defs>\n",
       "<symbol id=\"icon-database\" viewBox=\"0 0 32 32\">\n",
       "<path d=\"M16 0c-8.837 0-16 2.239-16 5v4c0 2.761 7.163 5 16 5s16-2.239 16-5v-4c0-2.761-7.163-5-16-5z\"></path>\n",
       "<path d=\"M16 17c-8.837 0-16-2.239-16-5v6c0 2.761 7.163 5 16 5s16-2.239 16-5v-6c0 2.761-7.163 5-16 5z\"></path>\n",
       "<path d=\"M16 26c-8.837 0-16-2.239-16-5v6c0 2.761 7.163 5 16 5s16-2.239 16-5v-6c0 2.761-7.163 5-16 5z\"></path>\n",
       "</symbol>\n",
       "<symbol id=\"icon-file-text2\" viewBox=\"0 0 32 32\">\n",
       "<path d=\"M28.681 7.159c-0.694-0.947-1.662-2.053-2.724-3.116s-2.169-2.030-3.116-2.724c-1.612-1.182-2.393-1.319-2.841-1.319h-15.5c-1.378 0-2.5 1.121-2.5 2.5v27c0 1.378 1.122 2.5 2.5 2.5h23c1.378 0 2.5-1.122 2.5-2.5v-19.5c0-0.448-0.137-1.23-1.319-2.841zM24.543 5.457c0.959 0.959 1.712 1.825 2.268 2.543h-4.811v-4.811c0.718 0.556 1.584 1.309 2.543 2.268zM28 29.5c0 0.271-0.229 0.5-0.5 0.5h-23c-0.271 0-0.5-0.229-0.5-0.5v-27c0-0.271 0.229-0.5 0.5-0.5 0 0 15.499-0 15.5 0v7c0 0.552 0.448 1 1 1h7v19.5z\"></path>\n",
       "<path d=\"M23 26h-14c-0.552 0-1-0.448-1-1s0.448-1 1-1h14c0.552 0 1 0.448 1 1s-0.448 1-1 1z\"></path>\n",
       "<path d=\"M23 22h-14c-0.552 0-1-0.448-1-1s0.448-1 1-1h14c0.552 0 1 0.448 1 1s-0.448 1-1 1z\"></path>\n",
       "<path d=\"M23 18h-14c-0.552 0-1-0.448-1-1s0.448-1 1-1h14c0.552 0 1 0.448 1 1s-0.448 1-1 1z\"></path>\n",
       "</symbol>\n",
       "</defs>\n",
       "</svg>\n",
       "<style>/* CSS stylesheet for displaying xarray objects in jupyterlab.\n",
       " *\n",
       " */\n",
       "\n",
       ":root {\n",
       "  --xr-font-color0: var(--jp-content-font-color0, rgba(0, 0, 0, 1));\n",
       "  --xr-font-color2: var(--jp-content-font-color2, rgba(0, 0, 0, 0.54));\n",
       "  --xr-font-color3: var(--jp-content-font-color3, rgba(0, 0, 0, 0.38));\n",
       "  --xr-border-color: var(--jp-border-color2, #e0e0e0);\n",
       "  --xr-disabled-color: var(--jp-layout-color3, #bdbdbd);\n",
       "  --xr-background-color: var(--jp-layout-color0, white);\n",
       "  --xr-background-color-row-even: var(--jp-layout-color1, white);\n",
       "  --xr-background-color-row-odd: var(--jp-layout-color2, #eeeeee);\n",
       "}\n",
       "\n",
       "html[theme=dark],\n",
       "body.vscode-dark {\n",
       "  --xr-font-color0: rgba(255, 255, 255, 1);\n",
       "  --xr-font-color2: rgba(255, 255, 255, 0.54);\n",
       "  --xr-font-color3: rgba(255, 255, 255, 0.38);\n",
       "  --xr-border-color: #1F1F1F;\n",
       "  --xr-disabled-color: #515151;\n",
       "  --xr-background-color: #111111;\n",
       "  --xr-background-color-row-even: #111111;\n",
       "  --xr-background-color-row-odd: #313131;\n",
       "}\n",
       "\n",
       ".xr-wrap {\n",
       "  display: block;\n",
       "  min-width: 300px;\n",
       "  max-width: 700px;\n",
       "}\n",
       "\n",
       ".xr-text-repr-fallback {\n",
       "  /* fallback to plain text repr when CSS is not injected (untrusted notebook) */\n",
       "  display: none;\n",
       "}\n",
       "\n",
       ".xr-header {\n",
       "  padding-top: 6px;\n",
       "  padding-bottom: 6px;\n",
       "  margin-bottom: 4px;\n",
       "  border-bottom: solid 1px var(--xr-border-color);\n",
       "}\n",
       "\n",
       ".xr-header > div,\n",
       ".xr-header > ul {\n",
       "  display: inline;\n",
       "  margin-top: 0;\n",
       "  margin-bottom: 0;\n",
       "}\n",
       "\n",
       ".xr-obj-type,\n",
       ".xr-array-name {\n",
       "  margin-left: 2px;\n",
       "  margin-right: 10px;\n",
       "}\n",
       "\n",
       ".xr-obj-type {\n",
       "  color: var(--xr-font-color2);\n",
       "}\n",
       "\n",
       ".xr-sections {\n",
       "  padding-left: 0 !important;\n",
       "  display: grid;\n",
       "  grid-template-columns: 150px auto auto 1fr 20px 20px;\n",
       "}\n",
       "\n",
       ".xr-section-item {\n",
       "  display: contents;\n",
       "}\n",
       "\n",
       ".xr-section-item input {\n",
       "  display: none;\n",
       "}\n",
       "\n",
       ".xr-section-item input + label {\n",
       "  color: var(--xr-disabled-color);\n",
       "}\n",
       "\n",
       ".xr-section-item input:enabled + label {\n",
       "  cursor: pointer;\n",
       "  color: var(--xr-font-color2);\n",
       "}\n",
       "\n",
       ".xr-section-item input:enabled + label:hover {\n",
       "  color: var(--xr-font-color0);\n",
       "}\n",
       "\n",
       ".xr-section-summary {\n",
       "  grid-column: 1;\n",
       "  color: var(--xr-font-color2);\n",
       "  font-weight: 500;\n",
       "}\n",
       "\n",
       ".xr-section-summary > span {\n",
       "  display: inline-block;\n",
       "  padding-left: 0.5em;\n",
       "}\n",
       "\n",
       ".xr-section-summary-in:disabled + label {\n",
       "  color: var(--xr-font-color2);\n",
       "}\n",
       "\n",
       ".xr-section-summary-in + label:before {\n",
       "  display: inline-block;\n",
       "  content: '►';\n",
       "  font-size: 11px;\n",
       "  width: 15px;\n",
       "  text-align: center;\n",
       "}\n",
       "\n",
       ".xr-section-summary-in:disabled + label:before {\n",
       "  color: var(--xr-disabled-color);\n",
       "}\n",
       "\n",
       ".xr-section-summary-in:checked + label:before {\n",
       "  content: '▼';\n",
       "}\n",
       "\n",
       ".xr-section-summary-in:checked + label > span {\n",
       "  display: none;\n",
       "}\n",
       "\n",
       ".xr-section-summary,\n",
       ".xr-section-inline-details {\n",
       "  padding-top: 4px;\n",
       "  padding-bottom: 4px;\n",
       "}\n",
       "\n",
       ".xr-section-inline-details {\n",
       "  grid-column: 2 / -1;\n",
       "}\n",
       "\n",
       ".xr-section-details {\n",
       "  display: none;\n",
       "  grid-column: 1 / -1;\n",
       "  margin-bottom: 5px;\n",
       "}\n",
       "\n",
       ".xr-section-summary-in:checked ~ .xr-section-details {\n",
       "  display: contents;\n",
       "}\n",
       "\n",
       ".xr-array-wrap {\n",
       "  grid-column: 1 / -1;\n",
       "  display: grid;\n",
       "  grid-template-columns: 20px auto;\n",
       "}\n",
       "\n",
       ".xr-array-wrap > label {\n",
       "  grid-column: 1;\n",
       "  vertical-align: top;\n",
       "}\n",
       "\n",
       ".xr-preview {\n",
       "  color: var(--xr-font-color3);\n",
       "}\n",
       "\n",
       ".xr-array-preview,\n",
       ".xr-array-data {\n",
       "  padding: 0 5px !important;\n",
       "  grid-column: 2;\n",
       "}\n",
       "\n",
       ".xr-array-data,\n",
       ".xr-array-in:checked ~ .xr-array-preview {\n",
       "  display: none;\n",
       "}\n",
       "\n",
       ".xr-array-in:checked ~ .xr-array-data,\n",
       ".xr-array-preview {\n",
       "  display: inline-block;\n",
       "}\n",
       "\n",
       ".xr-dim-list {\n",
       "  display: inline-block !important;\n",
       "  list-style: none;\n",
       "  padding: 0 !important;\n",
       "  margin: 0;\n",
       "}\n",
       "\n",
       ".xr-dim-list li {\n",
       "  display: inline-block;\n",
       "  padding: 0;\n",
       "  margin: 0;\n",
       "}\n",
       "\n",
       ".xr-dim-list:before {\n",
       "  content: '(';\n",
       "}\n",
       "\n",
       ".xr-dim-list:after {\n",
       "  content: ')';\n",
       "}\n",
       "\n",
       ".xr-dim-list li:not(:last-child):after {\n",
       "  content: ',';\n",
       "  padding-right: 5px;\n",
       "}\n",
       "\n",
       ".xr-has-index {\n",
       "  font-weight: bold;\n",
       "}\n",
       "\n",
       ".xr-var-list,\n",
       ".xr-var-item {\n",
       "  display: contents;\n",
       "}\n",
       "\n",
       ".xr-var-item > div,\n",
       ".xr-var-item label,\n",
       ".xr-var-item > .xr-var-name span {\n",
       "  background-color: var(--xr-background-color-row-even);\n",
       "  margin-bottom: 0;\n",
       "}\n",
       "\n",
       ".xr-var-item > .xr-var-name:hover span {\n",
       "  padding-right: 5px;\n",
       "}\n",
       "\n",
       ".xr-var-list > li:nth-child(odd) > div,\n",
       ".xr-var-list > li:nth-child(odd) > label,\n",
       ".xr-var-list > li:nth-child(odd) > .xr-var-name span {\n",
       "  background-color: var(--xr-background-color-row-odd);\n",
       "}\n",
       "\n",
       ".xr-var-name {\n",
       "  grid-column: 1;\n",
       "}\n",
       "\n",
       ".xr-var-dims {\n",
       "  grid-column: 2;\n",
       "}\n",
       "\n",
       ".xr-var-dtype {\n",
       "  grid-column: 3;\n",
       "  text-align: right;\n",
       "  color: var(--xr-font-color2);\n",
       "}\n",
       "\n",
       ".xr-var-preview {\n",
       "  grid-column: 4;\n",
       "}\n",
       "\n",
       ".xr-var-name,\n",
       ".xr-var-dims,\n",
       ".xr-var-dtype,\n",
       ".xr-preview,\n",
       ".xr-attrs dt {\n",
       "  white-space: nowrap;\n",
       "  overflow: hidden;\n",
       "  text-overflow: ellipsis;\n",
       "  padding-right: 10px;\n",
       "}\n",
       "\n",
       ".xr-var-name:hover,\n",
       ".xr-var-dims:hover,\n",
       ".xr-var-dtype:hover,\n",
       ".xr-attrs dt:hover {\n",
       "  overflow: visible;\n",
       "  width: auto;\n",
       "  z-index: 1;\n",
       "}\n",
       "\n",
       ".xr-var-attrs,\n",
       ".xr-var-data {\n",
       "  display: none;\n",
       "  background-color: var(--xr-background-color) !important;\n",
       "  padding-bottom: 5px !important;\n",
       "}\n",
       "\n",
       ".xr-var-attrs-in:checked ~ .xr-var-attrs,\n",
       ".xr-var-data-in:checked ~ .xr-var-data {\n",
       "  display: block;\n",
       "}\n",
       "\n",
       ".xr-var-data > table {\n",
       "  float: right;\n",
       "}\n",
       "\n",
       ".xr-var-name span,\n",
       ".xr-var-data,\n",
       ".xr-attrs {\n",
       "  padding-left: 25px !important;\n",
       "}\n",
       "\n",
       ".xr-attrs,\n",
       ".xr-var-attrs,\n",
       ".xr-var-data {\n",
       "  grid-column: 1 / -1;\n",
       "}\n",
       "\n",
       "dl.xr-attrs {\n",
       "  padding: 0;\n",
       "  margin: 0;\n",
       "  display: grid;\n",
       "  grid-template-columns: 125px auto;\n",
       "}\n",
       "\n",
       ".xr-attrs dt,\n",
       ".xr-attrs dd {\n",
       "  padding: 0;\n",
       "  margin: 0;\n",
       "  float: left;\n",
       "  padding-right: 10px;\n",
       "  width: auto;\n",
       "}\n",
       "\n",
       ".xr-attrs dt {\n",
       "  font-weight: normal;\n",
       "  grid-column: 1;\n",
       "}\n",
       "\n",
       ".xr-attrs dt:hover span {\n",
       "  display: inline-block;\n",
       "  background: var(--xr-background-color);\n",
       "  padding-right: 10px;\n",
       "}\n",
       "\n",
       ".xr-attrs dd {\n",
       "  grid-column: 2;\n",
       "  white-space: pre-wrap;\n",
       "  word-break: break-all;\n",
       "}\n",
       "\n",
       ".xr-icon-database,\n",
       ".xr-icon-file-text2 {\n",
       "  display: inline-block;\n",
       "  vertical-align: middle;\n",
       "  width: 1em;\n",
       "  height: 1.5em !important;\n",
       "  stroke-width: 0;\n",
       "  stroke: currentColor;\n",
       "  fill: currentColor;\n",
       "}\n",
       "</style><pre class='xr-text-repr-fallback'>&lt;xarray.Dataset&gt;\n",
       "Dimensions:         (hologram_number: 50000, particle: 500000, patch_number: 800000, patch_xsize: 128, patch_ysize: 128, xsize: 512, ysize: 512)\n",
       "Dimensions without coordinates: hologram_number, particle, patch_number, patch_xsize, patch_ysize, xsize, ysize\n",
       "Data variables: (12/16)\n",
       "    hid             (particle) float32 1.0 1.0 1.0 1.0 ... 5e+04 5e+04 5e+04\n",
       "    d               (particle) float32 36.48 45.38 25.82 ... 32.3 9.01 40.48\n",
       "    x               (particle) float32 253.9 22.78 732.8 ... -616.6 -431.8\n",
       "    y               (particle) float32 708.5 -600.7 552.2 ... 106.1 -190.7 662.5\n",
       "    z               (particle) float32 5.645e+04 1.438e+05 ... 1.419e+05\n",
       "    n0              (particle) float32 ...\n",
       "    ...              ...\n",
       "    x_pixels        (particle) float32 ...\n",
       "    y_pixels        (particle) float32 ...\n",
       "    pid             (particle) float32 ...\n",
       "    x_patch_pixels  (particle) float32 ...\n",
       "    y_patch_pixels  (particle) float32 ...\n",
       "    patch           (patch_number, patch_xsize, patch_ysize) uint8 ...\n",
       "Attributes: (12/33)\n",
       "    DateCreated:           10-Feb-2021\n",
       "    Nx:                    512.0\n",
       "    Ny:                    512.0\n",
       "    dx:                    2.96e-06\n",
       "    dy:                    2.96e-06\n",
       "    lambda:                3.55e-07\n",
       "    ...                    ...\n",
       "    monodisperse:          0.0\n",
       "    should_cache:          1\n",
       "    Nx_patch:              128.0\n",
       "    Ny_patch:              128.0\n",
       "    nPatches:              800000.0\n",
       "    PatchesPerHologram:    16.0</pre><div class='xr-wrap' hidden><div class='xr-header'><div class='xr-obj-type'>xarray.Dataset</div></div><ul class='xr-sections'><li class='xr-section-item'><input id='section-9be9cb0e-6e51-45ee-9d3f-4efac02fb473' class='xr-section-summary-in' type='checkbox' disabled ><label for='section-9be9cb0e-6e51-45ee-9d3f-4efac02fb473' class='xr-section-summary'  title='Expand/collapse section'>Dimensions:</label><div class='xr-section-inline-details'><ul class='xr-dim-list'><li><span>hologram_number</span>: 50000</li><li><span>particle</span>: 500000</li><li><span>patch_number</span>: 800000</li><li><span>patch_xsize</span>: 128</li><li><span>patch_ysize</span>: 128</li><li><span>xsize</span>: 512</li><li><span>ysize</span>: 512</li></ul></div><div class='xr-section-details'></div></li><li class='xr-section-item'><input id='section-7ccfc29e-3777-4cf4-aada-beeb1145ba8c' class='xr-section-summary-in' type='checkbox' disabled ><label for='section-7ccfc29e-3777-4cf4-aada-beeb1145ba8c' class='xr-section-summary'  title='Expand/collapse section'>Coordinates: <span>(0)</span></label><div class='xr-section-inline-details'></div><div class='xr-section-details'><ul class='xr-var-list'></ul></div></li><li class='xr-section-item'><input id='section-0bdbbc20-203a-4faa-a9cd-0a2165ce3068' class='xr-section-summary-in' type='checkbox'  ><label for='section-0bdbbc20-203a-4faa-a9cd-0a2165ce3068' class='xr-section-summary' >Data variables: <span>(16)</span></label><div class='xr-section-inline-details'></div><div class='xr-section-details'><ul class='xr-var-list'><li class='xr-var-item'><div class='xr-var-name'><span>hid</span></div><div class='xr-var-dims'>(particle)</div><div class='xr-var-dtype'>float32</div><div class='xr-var-preview xr-preview'>1.0 1.0 1.0 ... 5e+04 5e+04 5e+04</div><input id='attrs-7cfc8baa-435f-4e99-9b10-a4fcc45a5345' class='xr-var-attrs-in' type='checkbox' ><label for='attrs-7cfc8baa-435f-4e99-9b10-a4fcc45a5345' title='Show/Hide attributes'><svg class='icon xr-icon-file-text2'><use xlink:href='#icon-file-text2'></use></svg></label><input id='data-6630ef5b-1e4d-4e71-97fa-62b32d705033' class='xr-var-data-in' type='checkbox'><label for='data-6630ef5b-1e4d-4e71-97fa-62b32d705033' title='Show/Hide data repr'><svg class='icon xr-icon-database'><use xlink:href='#icon-database'></use></svg></label><div class='xr-var-attrs'><dl class='xr-attrs'><dt><span>longname :</span></dt><dd>Hologram index (1-based, first hologram index = 1)</dd><dt><span>units :</span></dt><dd>unitless</dd></dl></div><div class='xr-var-data'><pre>array([1.e+00, 1.e+00, 1.e+00, ..., 5.e+04, 5.e+04, 5.e+04], dtype=float32)</pre></div></li><li class='xr-var-item'><div class='xr-var-name'><span>d</span></div><div class='xr-var-dims'>(particle)</div><div class='xr-var-dtype'>float32</div><div class='xr-var-preview xr-preview'>36.48 45.38 25.82 ... 9.01 40.48</div><input id='attrs-b3f8d722-20fc-415b-a457-a2cb2daa2e65' class='xr-var-attrs-in' type='checkbox' ><label for='attrs-b3f8d722-20fc-415b-a457-a2cb2daa2e65' title='Show/Hide attributes'><svg class='icon xr-icon-file-text2'><use xlink:href='#icon-file-text2'></use></svg></label><input id='data-88daecf9-18c8-4f34-94d8-c6aee1280d37' class='xr-var-data-in' type='checkbox'><label for='data-88daecf9-18c8-4f34-94d8-c6aee1280d37' title='Show/Hide data repr'><svg class='icon xr-icon-database'><use xlink:href='#icon-database'></use></svg></label><div class='xr-var-attrs'><dl class='xr-attrs'><dt><span>longname :</span></dt><dd>Particle Diameter</dd><dt><span>units :</span></dt><dd>microns</dd></dl></div><div class='xr-var-data'><pre>array([36.48498 , 45.37779 , 25.815104, ..., 32.303696,  9.009637, 40.483204],\n",
       "      dtype=float32)</pre></div></li><li class='xr-var-item'><div class='xr-var-name'><span>x</span></div><div class='xr-var-dims'>(particle)</div><div class='xr-var-dtype'>float32</div><div class='xr-var-preview xr-preview'>253.9 22.78 732.8 ... -616.6 -431.8</div><input id='attrs-ad0d0009-c7eb-4744-a2e4-c35c0c262a86' class='xr-var-attrs-in' type='checkbox' ><label for='attrs-ad0d0009-c7eb-4744-a2e4-c35c0c262a86' title='Show/Hide attributes'><svg class='icon xr-icon-file-text2'><use xlink:href='#icon-file-text2'></use></svg></label><input id='data-7ab9ae26-c939-47cf-a109-3383d6bcd377' class='xr-var-data-in' type='checkbox'><label for='data-7ab9ae26-c939-47cf-a109-3383d6bcd377' title='Show/Hide data repr'><svg class='icon xr-icon-database'><use xlink:href='#icon-database'></use></svg></label><div class='xr-var-attrs'><dl class='xr-attrs'><dt><span>longname :</span></dt><dd>Particle x-position (origin at center)</dd><dt><span>units :</span></dt><dd>microns</dd></dl></div><div class='xr-var-data'><pre>array([ 253.88094 ,   22.783604,  732.8068  , ..., -104.565575, -616.55133 ,\n",
       "       -431.83954 ], dtype=float32)</pre></div></li><li class='xr-var-item'><div class='xr-var-name'><span>y</span></div><div class='xr-var-dims'>(particle)</div><div class='xr-var-dtype'>float32</div><div class='xr-var-preview xr-preview'>708.5 -600.7 552.2 ... -190.7 662.5</div><input id='attrs-6165cf4b-2254-4f62-9f26-f7bdd8f5a776' class='xr-var-attrs-in' type='checkbox' ><label for='attrs-6165cf4b-2254-4f62-9f26-f7bdd8f5a776' title='Show/Hide attributes'><svg class='icon xr-icon-file-text2'><use xlink:href='#icon-file-text2'></use></svg></label><input id='data-88de8dc4-d564-4c6d-aa19-1aea8c5a1c18' class='xr-var-data-in' type='checkbox'><label for='data-88de8dc4-d564-4c6d-aa19-1aea8c5a1c18' title='Show/Hide data repr'><svg class='icon xr-icon-database'><use xlink:href='#icon-database'></use></svg></label><div class='xr-var-attrs'><dl class='xr-attrs'><dt><span>longname :</span></dt><dd>Particle y-position (origin at center)</dd><dt><span>units :</span></dt><dd>microns</dd></dl></div><div class='xr-var-data'><pre>array([ 708.4516 , -600.7245 ,  552.1817 , ...,  106.05484, -190.72815,\n",
       "        662.46295], dtype=float32)</pre></div></li><li class='xr-var-item'><div class='xr-var-name'><span>z</span></div><div class='xr-var-dims'>(particle)</div><div class='xr-var-dtype'>float32</div><div class='xr-var-preview xr-preview'>5.645e+04 1.438e+05 ... 1.419e+05</div><input id='attrs-657e06ff-b4aa-4bcc-857e-5448262b27e6' class='xr-var-attrs-in' type='checkbox' ><label for='attrs-657e06ff-b4aa-4bcc-857e-5448262b27e6' title='Show/Hide attributes'><svg class='icon xr-icon-file-text2'><use xlink:href='#icon-file-text2'></use></svg></label><input id='data-bd1f8431-4273-4a71-a35d-4d3f3eb258c3' class='xr-var-data-in' type='checkbox'><label for='data-bd1f8431-4273-4a71-a35d-4d3f3eb258c3' title='Show/Hide data repr'><svg class='icon xr-icon-database'><use xlink:href='#icon-database'></use></svg></label><div class='xr-var-attrs'><dl class='xr-attrs'><dt><span>longname :</span></dt><dd>Particle z-position (origin at sensor)</dd><dt><span>units :</span></dt><dd>microns</dd></dl></div><div class='xr-var-data'><pre>array([ 56452.47 , 143813.92 ,  44329.   , ...,  59288.707, 143020.17 ,\n",
       "       141855.9  ], dtype=float32)</pre></div></li><li class='xr-var-item'><div class='xr-var-name'><span>n0</span></div><div class='xr-var-dims'>(particle)</div><div class='xr-var-dtype'>float32</div><div class='xr-var-preview xr-preview'>...</div><input id='attrs-e5d82058-467a-4093-a026-59da8dad7879' class='xr-var-attrs-in' type='checkbox' ><label for='attrs-e5d82058-467a-4093-a026-59da8dad7879' title='Show/Hide attributes'><svg class='icon xr-icon-file-text2'><use xlink:href='#icon-file-text2'></use></svg></label><input id='data-989c516e-c82f-46a5-9a38-d03bd6c05653' class='xr-var-data-in' type='checkbox'><label for='data-989c516e-c82f-46a5-9a38-d03bd6c05653' title='Show/Hide data repr'><svg class='icon xr-icon-database'><use xlink:href='#icon-database'></use></svg></label><div class='xr-var-attrs'><dl class='xr-attrs'><dt><span>longname :</span></dt><dd>Gamma distribution N0</dd><dt><span>units :</span></dt><dd>m^-4</dd></dl></div><div class='xr-var-data'><pre>[500000 values with dtype=float32]</pre></div></li><li class='xr-var-item'><div class='xr-var-name'><span>mu</span></div><div class='xr-var-dims'>(particle)</div><div class='xr-var-dtype'>float32</div><div class='xr-var-preview xr-preview'>...</div><input id='attrs-ebda2a6e-48e6-4a12-8102-1a81cf41e4be' class='xr-var-attrs-in' type='checkbox' ><label for='attrs-ebda2a6e-48e6-4a12-8102-1a81cf41e4be' title='Show/Hide attributes'><svg class='icon xr-icon-file-text2'><use xlink:href='#icon-file-text2'></use></svg></label><input id='data-d52068d9-4b4b-4a57-961f-147ea0abc067' class='xr-var-data-in' type='checkbox'><label for='data-d52068d9-4b4b-4a57-961f-147ea0abc067' title='Show/Hide data repr'><svg class='icon xr-icon-database'><use xlink:href='#icon-database'></use></svg></label><div class='xr-var-attrs'><dl class='xr-attrs'><dt><span>longname :</span></dt><dd>Gamma distribution mu</dd><dt><span>units :</span></dt><dd>unitless</dd></dl></div><div class='xr-var-data'><pre>[500000 values with dtype=float32]</pre></div></li><li class='xr-var-item'><div class='xr-var-name'><span>lam</span></div><div class='xr-var-dims'>(particle)</div><div class='xr-var-dtype'>float32</div><div class='xr-var-preview xr-preview'>...</div><input id='attrs-0392d442-d6a5-4754-b9fb-7d7f14b74d65' class='xr-var-attrs-in' type='checkbox' ><label for='attrs-0392d442-d6a5-4754-b9fb-7d7f14b74d65' title='Show/Hide attributes'><svg class='icon xr-icon-file-text2'><use xlink:href='#icon-file-text2'></use></svg></label><input id='data-a50e8030-77e6-4011-a61a-10fc22d5dce7' class='xr-var-data-in' type='checkbox'><label for='data-a50e8030-77e6-4011-a61a-10fc22d5dce7' title='Show/Hide data repr'><svg class='icon xr-icon-database'><use xlink:href='#icon-database'></use></svg></label><div class='xr-var-attrs'><dl class='xr-attrs'><dt><span>longname :</span></dt><dd>Gamma distribution lambda</dd><dt><span>units :</span></dt><dd>1/m</dd></dl></div><div class='xr-var-data'><pre>[500000 values with dtype=float32]</pre></div></li><li class='xr-var-item'><div class='xr-var-name'><span>distid</span></div><div class='xr-var-dims'>(particle)</div><div class='xr-var-dtype'>float32</div><div class='xr-var-preview xr-preview'>...</div><input id='attrs-7d718571-80f6-4d46-aaba-b2aa0f52ea4e' class='xr-var-attrs-in' type='checkbox' ><label for='attrs-7d718571-80f6-4d46-aaba-b2aa0f52ea4e' title='Show/Hide attributes'><svg class='icon xr-icon-file-text2'><use xlink:href='#icon-file-text2'></use></svg></label><input id='data-ad084f68-8d35-41cb-94a5-8586e766d792' class='xr-var-data-in' type='checkbox'><label for='data-ad084f68-8d35-41cb-94a5-8586e766d792' title='Show/Hide data repr'><svg class='icon xr-icon-database'><use xlink:href='#icon-database'></use></svg></label><div class='xr-var-attrs'><dl class='xr-attrs'><dt><span>longname :</span></dt><dd>Gamma distribution index</dd><dt><span>units :</span></dt><dd>unitless</dd></dl></div><div class='xr-var-data'><pre>[500000 values with dtype=float32]</pre></div></li><li class='xr-var-item'><div class='xr-var-name'><span>image</span></div><div class='xr-var-dims'>(hologram_number, xsize, ysize)</div><div class='xr-var-dtype'>uint8</div><div class='xr-var-preview xr-preview'>...</div><input id='attrs-46801843-d27a-44b8-8d63-b903ccc5f08f' class='xr-var-attrs-in' type='checkbox' ><label for='attrs-46801843-d27a-44b8-8d63-b903ccc5f08f' title='Show/Hide attributes'><svg class='icon xr-icon-file-text2'><use xlink:href='#icon-file-text2'></use></svg></label><input id='data-36129042-7b8d-41c0-b966-b813e9c9cf67' class='xr-var-data-in' type='checkbox'><label for='data-36129042-7b8d-41c0-b966-b813e9c9cf67' title='Show/Hide data repr'><svg class='icon xr-icon-database'><use xlink:href='#icon-database'></use></svg></label><div class='xr-var-attrs'><dl class='xr-attrs'><dt><span>longname :</span></dt><dd>Hologram image</dd></dl></div><div class='xr-var-data'><pre>[13107200000 values with dtype=uint8]</pre></div></li><li class='xr-var-item'><div class='xr-var-name'><span>x_pixels</span></div><div class='xr-var-dims'>(particle)</div><div class='xr-var-dtype'>float32</div><div class='xr-var-preview xr-preview'>...</div><input id='attrs-7b217ee7-81ad-41cf-b260-4375c2713dcf' class='xr-var-attrs-in' type='checkbox' ><label for='attrs-7b217ee7-81ad-41cf-b260-4375c2713dcf' title='Show/Hide attributes'><svg class='icon xr-icon-file-text2'><use xlink:href='#icon-file-text2'></use></svg></label><input id='data-3c59360b-7ebf-4d48-94e1-176eeb14202d' class='xr-var-data-in' type='checkbox'><label for='data-3c59360b-7ebf-4d48-94e1-176eeb14202d' title='Show/Hide data repr'><svg class='icon xr-icon-database'><use xlink:href='#icon-database'></use></svg></label><div class='xr-var-attrs'><dl class='xr-attrs'><dt><span>longname :</span></dt><dd>Particle x-position in pixels (origin at bottom-left corner)</dd><dt><span>units :</span></dt><dd>pixels</dd></dl></div><div class='xr-var-data'><pre>[500000 values with dtype=float32]</pre></div></li><li class='xr-var-item'><div class='xr-var-name'><span>y_pixels</span></div><div class='xr-var-dims'>(particle)</div><div class='xr-var-dtype'>float32</div><div class='xr-var-preview xr-preview'>...</div><input id='attrs-9b8536a2-13ec-4bf7-ba74-aeede60ca7bd' class='xr-var-attrs-in' type='checkbox' ><label for='attrs-9b8536a2-13ec-4bf7-ba74-aeede60ca7bd' title='Show/Hide attributes'><svg class='icon xr-icon-file-text2'><use xlink:href='#icon-file-text2'></use></svg></label><input id='data-7bebadec-5a19-46ca-b4e1-e0fe507935ac' class='xr-var-data-in' type='checkbox'><label for='data-7bebadec-5a19-46ca-b4e1-e0fe507935ac' title='Show/Hide data repr'><svg class='icon xr-icon-database'><use xlink:href='#icon-database'></use></svg></label><div class='xr-var-attrs'><dl class='xr-attrs'><dt><span>longname :</span></dt><dd>Particle y-position in pixels (origin at bottom-left corner)</dd><dt><span>units :</span></dt><dd>pixels</dd></dl></div><div class='xr-var-data'><pre>[500000 values with dtype=float32]</pre></div></li><li class='xr-var-item'><div class='xr-var-name'><span>pid</span></div><div class='xr-var-dims'>(particle)</div><div class='xr-var-dtype'>float32</div><div class='xr-var-preview xr-preview'>...</div><input id='attrs-b5b27835-7446-4077-8ff6-3cd436ce5604' class='xr-var-attrs-in' type='checkbox' ><label for='attrs-b5b27835-7446-4077-8ff6-3cd436ce5604' title='Show/Hide attributes'><svg class='icon xr-icon-file-text2'><use xlink:href='#icon-file-text2'></use></svg></label><input id='data-9008e8b4-b70c-4f0f-90f9-ad690649d12d' class='xr-var-data-in' type='checkbox'><label for='data-9008e8b4-b70c-4f0f-90f9-ad690649d12d' title='Show/Hide data repr'><svg class='icon xr-icon-database'><use xlink:href='#icon-database'></use></svg></label><div class='xr-var-attrs'><dl class='xr-attrs'><dt><span>longname :</span></dt><dd>Patch index (1-based, first patch index = 1)</dd><dt><span>units :</span></dt><dd>unitless</dd></dl></div><div class='xr-var-data'><pre>[500000 values with dtype=float32]</pre></div></li><li class='xr-var-item'><div class='xr-var-name'><span>x_patch_pixels</span></div><div class='xr-var-dims'>(particle)</div><div class='xr-var-dtype'>float32</div><div class='xr-var-preview xr-preview'>...</div><input id='attrs-aa8afa7e-8e61-4bbc-af58-94fe1d59d836' class='xr-var-attrs-in' type='checkbox' ><label for='attrs-aa8afa7e-8e61-4bbc-af58-94fe1d59d836' title='Show/Hide attributes'><svg class='icon xr-icon-file-text2'><use xlink:href='#icon-file-text2'></use></svg></label><input id='data-7efbba62-9cc6-458a-a994-47df5dda7bbe' class='xr-var-data-in' type='checkbox'><label for='data-7efbba62-9cc6-458a-a994-47df5dda7bbe' title='Show/Hide data repr'><svg class='icon xr-icon-database'><use xlink:href='#icon-database'></use></svg></label><div class='xr-var-attrs'><dl class='xr-attrs'><dt><span>longname :</span></dt><dd>Patch x-position in pixels (origin at bottom-left corner)</dd><dt><span>units :</span></dt><dd>pixels</dd></dl></div><div class='xr-var-data'><pre>[500000 values with dtype=float32]</pre></div></li><li class='xr-var-item'><div class='xr-var-name'><span>y_patch_pixels</span></div><div class='xr-var-dims'>(particle)</div><div class='xr-var-dtype'>float32</div><div class='xr-var-preview xr-preview'>...</div><input id='attrs-c51828b7-bb79-433d-984a-833c4056a50b' class='xr-var-attrs-in' type='checkbox' ><label for='attrs-c51828b7-bb79-433d-984a-833c4056a50b' title='Show/Hide attributes'><svg class='icon xr-icon-file-text2'><use xlink:href='#icon-file-text2'></use></svg></label><input id='data-7edceb3d-74af-4158-b89b-efbe6944bad7' class='xr-var-data-in' type='checkbox'><label for='data-7edceb3d-74af-4158-b89b-efbe6944bad7' title='Show/Hide data repr'><svg class='icon xr-icon-database'><use xlink:href='#icon-database'></use></svg></label><div class='xr-var-attrs'><dl class='xr-attrs'><dt><span>longname :</span></dt><dd>Patch y-position in pixels (origin at bottom-left corner)</dd><dt><span>units :</span></dt><dd>pixels</dd></dl></div><div class='xr-var-data'><pre>[500000 values with dtype=float32]</pre></div></li><li class='xr-var-item'><div class='xr-var-name'><span>patch</span></div><div class='xr-var-dims'>(patch_number, patch_xsize, patch_ysize)</div><div class='xr-var-dtype'>uint8</div><div class='xr-var-preview xr-preview'>...</div><input id='attrs-83ac94e2-1816-4d0f-b414-89004f02a70d' class='xr-var-attrs-in' type='checkbox' ><label for='attrs-83ac94e2-1816-4d0f-b414-89004f02a70d' title='Show/Hide attributes'><svg class='icon xr-icon-file-text2'><use xlink:href='#icon-file-text2'></use></svg></label><input id='data-d1b039d3-0723-472c-8d4a-06cbf28efb9a' class='xr-var-data-in' type='checkbox'><label for='data-d1b039d3-0723-472c-8d4a-06cbf28efb9a' title='Show/Hide data repr'><svg class='icon xr-icon-database'><use xlink:href='#icon-database'></use></svg></label><div class='xr-var-attrs'><dl class='xr-attrs'><dt><span>longname :</span></dt><dd>Patch image</dd></dl></div><div class='xr-var-data'><pre>[13107200000 values with dtype=uint8]</pre></div></li></ul></div></li><li class='xr-section-item'><input id='section-2e9ca6ed-e413-4577-a321-ffc81d893431' class='xr-section-summary-in' type='checkbox'  ><label for='section-2e9ca6ed-e413-4577-a321-ffc81d893431' class='xr-section-summary' >Attributes: <span>(33)</span></label><div class='xr-section-inline-details'></div><div class='xr-section-details'><dl class='xr-attrs'><dt><span>DateCreated :</span></dt><dd>10-Feb-2021</dd><dt><span>Nx :</span></dt><dd>512.0</dd><dt><span>Ny :</span></dt><dd>512.0</dd><dt><span>dx :</span></dt><dd>2.96e-06</dd><dt><span>dy :</span></dt><dd>2.96e-06</dd><dt><span>lambda :</span></dt><dd>3.55e-07</dd><dt><span>Dpmin :</span></dt><dd>1e-05</dd><dt><span>Dpmax :</span></dt><dd>0.0001</dd><dt><span>zMin :</span></dt><dd>0.014</dd><dt><span>zMax :</span></dt><dd>0.158</dd><dt><span>NParticles :</span></dt><dd>10.0</dd><dt><span>Nbits :</span></dt><dd>8.0</dd><dt><span>ccdelevel :</span></dt><dd>20000.0</dd><dt><span>gainFactor :</span></dt><dd>24.0</dd><dt><span>readNoiseSTD :</span></dt><dd>12.0</dd><dt><span>gaussCornCon :</span></dt><dd>1.0</dd><dt><span>lowPassFiltCutoff :</span></dt><dd>2500.0</dd><dt><span>fracBeamDistort :</span></dt><dd>0.02</dd><dt><span>should_beam :</span></dt><dd>1</dd><dt><span>should_noise :</span></dt><dd>1</dd><dt><span>should_lnoise :</span></dt><dd>0</dd><dt><span>partRelInt :</span></dt><dd>0.5</dd><dt><span>nHolograms :</span></dt><dd>50000.0</dd><dt><span>makeRandParts :</span></dt><dd>1</dd><dt><span>should_random :</span></dt><dd>1</dd><dt><span>should_extend_domain :</span></dt><dd>0</dd><dt><span>superSamplingRate :</span></dt><dd>1.0</dd><dt><span>monodisperse :</span></dt><dd>0.0</dd><dt><span>should_cache :</span></dt><dd>1</dd><dt><span>Nx_patch :</span></dt><dd>128.0</dd><dt><span>Ny_patch :</span></dt><dd>128.0</dd><dt><span>nPatches :</span></dt><dd>800000.0</dd><dt><span>PatchesPerHologram :</span></dt><dd>16.0</dd></dl></div></li></ul></div></div>"
      ],
      "text/plain": [
       "<xarray.Dataset>\n",
       "Dimensions:         (hologram_number: 50000, particle: 500000, patch_number: 800000, patch_xsize: 128, patch_ysize: 128, xsize: 512, ysize: 512)\n",
       "Dimensions without coordinates: hologram_number, particle, patch_number, patch_xsize, patch_ysize, xsize, ysize\n",
       "Data variables: (12/16)\n",
       "    hid             (particle) float32 1.0 1.0 1.0 1.0 ... 5e+04 5e+04 5e+04\n",
       "    d               (particle) float32 36.48 45.38 25.82 ... 32.3 9.01 40.48\n",
       "    x               (particle) float32 253.9 22.78 732.8 ... -616.6 -431.8\n",
       "    y               (particle) float32 708.5 -600.7 552.2 ... 106.1 -190.7 662.5\n",
       "    z               (particle) float32 5.645e+04 1.438e+05 ... 1.419e+05\n",
       "    n0              (particle) float32 ...\n",
       "    ...              ...\n",
       "    x_pixels        (particle) float32 ...\n",
       "    y_pixels        (particle) float32 ...\n",
       "    pid             (particle) float32 ...\n",
       "    x_patch_pixels  (particle) float32 ...\n",
       "    y_patch_pixels  (particle) float32 ...\n",
       "    patch           (patch_number, patch_xsize, patch_ysize) uint8 ...\n",
       "Attributes: (12/33)\n",
       "    DateCreated:           10-Feb-2021\n",
       "    Nx:                    512.0\n",
       "    Ny:                    512.0\n",
       "    dx:                    2.96e-06\n",
       "    dy:                    2.96e-06\n",
       "    lambda:                3.55e-07\n",
       "    ...                    ...\n",
       "    monodisperse:          0.0\n",
       "    should_cache:          1\n",
       "    Nx_patch:              128.0\n",
       "    Ny_patch:              128.0\n",
       "    nPatches:              800000.0\n",
       "    PatchesPerHologram:    16.0"
      ]
     },
     "execution_count": 108,
     "metadata": {},
     "output_type": "execute_result"
    }
   ],
   "source": [
    "h_ds"
   ]
  },
  {
   "cell_type": "code",
   "execution_count": null,
   "id": "faced-comparative",
   "metadata": {},
   "outputs": [],
   "source": []
  }
 ],
 "metadata": {
  "kernelspec": {
   "display_name": "Python [conda env:miniconda3-ml-torch]",
   "language": "python",
   "name": "conda-env-miniconda3-ml-torch-py"
  },
  "language_info": {
   "codemirror_mode": {
    "name": "ipython",
    "version": 3
   },
   "file_extension": ".py",
   "mimetype": "text/x-python",
   "name": "python",
   "nbconvert_exporter": "python",
   "pygments_lexer": "ipython3",
   "version": "3.7.10"
  }
 },
 "nbformat": 4,
 "nbformat_minor": 5
}
