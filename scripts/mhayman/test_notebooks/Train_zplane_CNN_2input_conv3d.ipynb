{
 "cells": [
  {
   "cell_type": "code",
   "execution_count": 1,
   "id": "polar-cartridge",
   "metadata": {},
   "outputs": [],
   "source": [
    "import warnings\n",
    "warnings.filterwarnings(\"ignore\")\n",
    "\n",
    "import sys,os\n",
    "\n",
    "import numpy as np\n",
    "import matplotlib.pyplot as plt\n",
    "\n",
    "import glob\n",
    "import xarray as xr\n",
    "import datetime"
   ]
  },
  {
   "cell_type": "code",
   "execution_count": null,
   "id": "saved-allergy",
   "metadata": {},
   "outputs": [],
   "source": [
    "# import yaml\n",
    "import tqdm\n",
    "import torch\n",
    "import pickle\n",
    "import logging\n",
    "import random\n",
    "\n",
    "from typing import List, Dict, Callable, Union, Any, TypeVar, Tuple\n",
    "# from multiprocessing import cpu_count\n",
    "\n",
    "\n",
    "import torch\n",
    "import torch.fft\n",
    "from torch import nn\n",
    "\n",
    "import torch.nn.functional as F\n",
    "\n",
    "# from torchvision.utils import save_image\n",
    "from torch.utils.data import Dataset, DataLoader, TensorDataset\n",
    "from torch.optim.lr_scheduler import ReduceLROnPlateau"
   ]
  },
  {
   "cell_type": "code",
   "execution_count": null,
   "id": "further-warrior",
   "metadata": {},
   "outputs": [],
   "source": [
    "is_cuda = torch.cuda.is_available()\n",
    "device = torch.device(torch.cuda.current_device()) if is_cuda else torch.device(\"cpu\")\n",
    "\n",
    "if is_cuda:\n",
    "    torch.backends.cudnn.benchmark = True\n",
    "\n",
    "print(f'Preparing to use device {device}')"
   ]
  },
  {
   "cell_type": "code",
   "execution_count": 4,
   "id": "bound-demonstration",
   "metadata": {},
   "outputs": [],
   "source": [
    "dtype = torch.complex64  # fft required data type"
   ]
  },
  {
   "cell_type": "code",
   "execution_count": 5,
   "id": "detailed-textbook",
   "metadata": {},
   "outputs": [],
   "source": [
    "def torch_holo_set(Ein:torch.tensor,fx:torch.tensor,fy:torch.tensor,z_tnsr:torch.tensor,lam:float):\n",
    "    \"\"\"\n",
    "    Propagates an electric field a distance z\n",
    "    Ein complex torch.tensor\n",
    "    - input electric field\n",
    "    \n",
    "    fx:real torch.tensor\n",
    "    - x frequency axis (3D, setup to broadcast)\n",
    "    \n",
    "    fy: real torch.tensor\n",
    "    - y frequency axis (3D, setup to broadcast)\n",
    "    \n",
    "    z_tnsr: torch.tensor\n",
    "    - tensor of distances to propagate the wave Ein\n",
    "        expected to have dims (Nz,1,1) where Nz is the number of z\n",
    "        dimensions\n",
    "    \n",
    "    lam: float\n",
    "    - wavelength\n",
    "    \n",
    "    returns: complex torch.tensor with dims (Nz,fy,fx)\n",
    "    \n",
    "    Note the torch.fft library uses dtype=torch.complex64\n",
    "    This may be an issue for GPU implementation\n",
    "    \n",
    "    \"\"\"\n",
    "    Etfft = torch.fft.fft2(Ein)\n",
    "#     Eofft = Etfft*torch.cos(2*np.pi*z_tnsr/lam*torch.sqrt(1-lam**2*(fx**2+fy**2)))\n",
    "    Eofft = Etfft*torch.exp(1j*2*np.pi*z_tnsr/lam*torch.sqrt(1-lam**2*(fx**2+fy**2)))\n",
    "    \n",
    "    # It might be helpful if we could omit this step.  It would save an inverse fft.\n",
    "    Eout = torch.fft.ifft2(Eofft)\n",
    "    \n",
    "    return Eout"
   ]
  },
  {
   "cell_type": "markdown",
   "id": "awful-university",
   "metadata": {},
   "source": [
    "# Pick the Dataset"
   ]
  },
  {
   "cell_type": "code",
   "execution_count": 6,
   "id": "altered-casino",
   "metadata": {},
   "outputs": [],
   "source": [
    "data_dir = '/glade/p/cisl/aiml/ai4ess_hackathon/holodec/'"
   ]
  },
  {
   "cell_type": "code",
   "execution_count": 7,
   "id": "banned-family",
   "metadata": {},
   "outputs": [
    {
     "name": "stdout",
     "output_type": "stream",
     "text": [
      "0.) synthetic_holograms_7particle_gamma_600x400_training.nc\n",
      "1.) synthetic_holograms_10particle_gamma_512x512_validation_patches128x128.nc\n",
      "2.) synthetic_holograms_50-100particle_bidisperse_test.nc\n",
      "3.) synthetic_holograms_multiparticle_validation.nc\n",
      "4.) synthetic_holograms_1particle_training_small.nc\n",
      "5.) synthetic_holograms_6particle_gamma_600x400_test.nc\n",
      "6.) synthetic_holograms_multiparticle_training.nc\n",
      "7.) synthetic_holograms_50-100particle_gamma_private.nc\n",
      "8.) synthetic_holograms_12-25particle_gamma_600x400_validation.nc\n",
      "9.) synthetic_holograms_6particle_gamma_600x400_training.nc\n",
      "10.) synthetic_holograms_50-100particle_gamma_training.nc\n",
      "11.) synthetic_holograms_1particle_gamma_600x400_training.nc\n",
      "12.) synthetic_holograms_4particle_gamma_600x400_validation.nc\n",
      "13.) synthetic_holograms_3particle_validation.nc\n",
      "14.) synthetic_holograms_10particle_gamma_600x400_test.nc\n",
      "15.) synthetic_holograms_1particle_gamma_600x400_validation.nc\n",
      "16.) synthetic_holograms_10particle_gamma_600x400_training.nc\n",
      "17.) synthetic_holograms_50-100particle_bidisperse_training.nc\n",
      "18.) synthetic_holograms_7particle_gamma_600x400_validation.nc\n",
      "19.) synthetic_holograms_2particle_gamma_600x400_validation.nc\n",
      "20.) synthetic_holograms_9particle_gamma_600x400_training.nc\n",
      "21.) synthetic_holograms_5particle_gamma_600x400_validation.nc\n",
      "22.) synthetic_holograms_12-25particle_gamma_600x400_test.nc\n",
      "23.) synthetic_holograms_4particle_gamma_600x400_training.nc\n",
      "24.) synthetic_holograms_1particle_test.nc\n",
      "25.) synthetic_holograms_10particle_gamma_600x400_validation.nc\n",
      "26.) synthetic_holograms_2particle_gamma_600x400_test.nc\n",
      "27.) synthetic_holograms_3particle_gamma_600x400_training.nc\n",
      "28.) real_holograms_CSET_RF07_20150719_203600-203700.nc\n",
      "29.) synthetic_holograms_1particle_validation.nc\n",
      "30.) synthetic_holograms_10particle_gamma_512x512_training_patches128x128.nc\n",
      "31.) synthetic_holograms_4particle_gamma_600x400_test.nc\n",
      "32.) synthetic_holograms_8particle_gamma_600x400_test.nc\n",
      "33.) synthetic_holograms_1particle_test_small.nc\n",
      "34.) synthetic_holograms_12-25particle_gamma_600x400_training.nc\n",
      "35.) synthetic_holograms_3particle_gamma_600x400_test.nc\n",
      "36.) synthetic_holograms_8particle_gamma_600x400_validation.nc\n",
      "37.) synthetic_holograms_50-100particle_bidisperse_validation.nc\n",
      "38.) synthetic_holograms_3particle_gamma_600x400_validation.nc\n",
      "39.) synthetic_holograms_50-100particle_gamma_validation.nc\n",
      "40.) synthetic_holograms_1particle_training.nc\n",
      "41.) synthetic_holograms_5particle_gamma_600x400_training.nc\n",
      "42.) synthetic_holograms_8particle_gamma_600x400_training.nc\n",
      "43.) synthetic_holograms_50-100particle_monodisperse_test.nc\n",
      "44.) synthetic_holograms_5particle_gamma_600x400_test.nc\n",
      "45.) synthetic_holograms_7particle_gamma_600x400_test.nc\n",
      "46.) synthetic_holograms_9particle_gamma_600x400_test.nc\n",
      "47.) synthetic_holograms_10particle_gamma_512x512_test_patches128x128.nc\n",
      "48.) synthetic_holograms_2particle_gamma_600x400_training.nc\n",
      "49.) synthetic_holograms_3particle_test.nc\n",
      "50.) synthetic_holograms_1particle_gamma_600x400_test.nc\n",
      "51.) real_holograms_CSET_RF07_20150719_200000-210000.nc\n",
      "52.) synthetic_holograms_50-100particle_monodisperse_training.nc\n",
      "53.) synthetic_holograms_3particle_training.nc\n",
      "54.) synthetic_holograms_50-100particle_gamma_test.nc\n",
      "55.) synthetic_holograms_9particle_gamma_600x400_validation.nc\n",
      "56.) synthetic_holograms_multiparticle_test.nc\n",
      "57.) synthetic_holograms_50-100particle_monodisperse_validation.nc\n",
      "58.) synthetic_holograms_6particle_gamma_600x400_validation.nc\n"
     ]
    }
   ],
   "source": [
    "file_list = glob.glob(data_dir+'*.nc')\n",
    "for f_idx,file in enumerate(file_list):\n",
    "    print(f'{f_idx}.) '+file.split('/')[-1])"
   ]
  },
  {
   "cell_type": "code",
   "execution_count": 8,
   "id": "sexual-temple",
   "metadata": {},
   "outputs": [],
   "source": [
    "f_sel = 50\n",
    "dataFile = file_list[f_sel]"
   ]
  },
  {
   "cell_type": "code",
   "execution_count": 9,
   "id": "australian-allah",
   "metadata": {},
   "outputs": [],
   "source": [
    "h_ds = xr.open_dataset(dataFile)"
   ]
  },
  {
   "cell_type": "markdown",
   "id": "amber-median",
   "metadata": {},
   "source": [
    "# Build Histogram For Labels"
   ]
  },
  {
   "cell_type": "code",
   "execution_count": 67,
   "id": "civic-treatment",
   "metadata": {},
   "outputs": [],
   "source": [
    "n_bins = 100  # number of bins in histogram\n",
    "n_holograms = 300  # number of holograms to use in data set\n",
    "z_bins = np.linspace(h_ds.attrs['zMin'],h_ds.attrs['zMax'],n_bins)*1e6  # histogram bin edges\n",
    "z_centers = z_bins[:-1] + 0.5*np.diff(z_bins)  # histogram bin centers\n",
    "hologram_slice = slice(None,2*n_holograms)"
   ]
  },
  {
   "cell_type": "code",
   "execution_count": 68,
   "id": "literary-grant",
   "metadata": {},
   "outputs": [],
   "source": [
    "histogram_lst = []\n",
    "for holo_idx in h_ds['hologram_number'].values[hologram_slice]:\n",
    "    hist_tpl = np.histogram(h_ds['z'].values[np.where(h_ds['hid'].values==holo_idx+1)],bins=z_bins)\n",
    "    histogram_lst.append(hist_tpl[0])"
   ]
  },
  {
   "cell_type": "code",
   "execution_count": 69,
   "id": "micro-sound",
   "metadata": {},
   "outputs": [
    {
     "data": {
      "text/plain": [
       "Text(0.5, 0, 'z position [$\\\\mu m$]')"
      ]
     },
     "execution_count": 69,
     "metadata": {},
     "output_type": "execute_result"
    },
    {
     "data": {
      "image/png": "[encoded data removed]",
      "text/plain": [
       "<Figure size 432x288 with 1 Axes>"
      ]
     },
     "metadata": {
      "needs_background": "light"
     },
     "output_type": "display_data"
    }
   ],
   "source": [
    "# confirm histogram and particle data are aligned\n",
    "plt.figure()\n",
    "plt.plot(h_ds['z'].values[np.where(h_ds['hid'].values==holo_idx+1)],np.ones(h_ds['z'].values[np.where(h_ds['hid'].values==holo_idx+1)].shape),'o')\n",
    "plt.plot(z_centers,histogram_lst[holo_idx])\n",
    "plt.xlabel('z position [$\\mu m$]')"
   ]
  },
  {
   "cell_type": "code",
   "execution_count": 70,
   "id": "collected-retirement",
   "metadata": {},
   "outputs": [],
   "source": [
    "histogram_arr = np.stack(histogram_lst,axis=0)\n",
    "train_histogram_bin_arr = (histogram_arr[:n_holograms,:]>0).astype(float)\n",
    "valid_histogram_bin_arr = (histogram_arr[n_holograms:,:]>0).astype(float)"
   ]
  },
  {
   "cell_type": "code",
   "execution_count": 71,
   "id": "realistic-explanation",
   "metadata": {},
   "outputs": [
    {
     "data": {
      "text/plain": [
       "<matplotlib.image.AxesImage at 0x2b8615b61810>"
      ]
     },
     "execution_count": 71,
     "metadata": {},
     "output_type": "execute_result"
    },
    {
     "data": {
      "image/png": "[encoded data removed]",
      "text/plain": [
       "<Figure size 432x288 with 1 Axes>"
      ]
     },
     "metadata": {
      "needs_background": "light"
     },
     "output_type": "display_data"
    },
    {
     "data": {
      "image/png": "[encoded data removed]",
      "text/plain": [
       "<Figure size 432x288 with 1 Axes>"
      ]
     },
     "metadata": {
      "needs_background": "light"
     },
     "output_type": "display_data"
    }
   ],
   "source": [
    "plt.figure()\n",
    "plt.imshow(histogram_arr[0:20,:])\n",
    "plt.figure()\n",
    "plt.imshow(train_histogram_bin_arr[0:20,:])"
   ]
  },
  {
   "cell_type": "markdown",
   "id": "specified-pottery",
   "metadata": {},
   "source": [
    "# Build Reconstructed Plane Inputs"
   ]
  },
  {
   "cell_type": "code",
   "execution_count": 72,
   "id": "happy-luxembourg",
   "metadata": {},
   "outputs": [],
   "source": [
    "dx = h_ds.attrs['dx']      # horizontal resolution\n",
    "dy = h_ds.attrs['dy']      # vertical resolution\n",
    "Nx = int(h_ds.attrs['Nx']) # number of horizontal pixels\n",
    "Ny = int(h_ds.attrs['Ny']) # number of vertical pixels\n",
    "lam = h_ds.attrs['lambda'] # wavelength\n",
    "zMin = h_ds.attrs['zMin']  # minimum z in sample volume\n",
    "zMax = h_ds.attrs['zMax']  # maximum z in sample volume\n",
    "zCCD = 0                   # z position of the image plane\n",
    "num_per_holo = 1\n",
    "image_norm = 255.0\n",
    "n_planes = 7               # number of planes used in conv3d"
   ]
  },
  {
   "cell_type": "code",
   "execution_count": 73,
   "id": "judicial-ministry",
   "metadata": {},
   "outputs": [],
   "source": [
    "x_arr = np.arange(-Nx//2,Nx//2)*dx\n",
    "y_arr = np.arange(-Ny//2,Ny//2)*dy"
   ]
  },
  {
   "cell_type": "code",
   "execution_count": 74,
   "id": "thrown-treatment",
   "metadata": {},
   "outputs": [],
   "source": [
    "fx = torch.fft.fftfreq(Nx,dx,device=device)[None,:,None]\n",
    "fy = torch.fft.fftfreq(Ny,dy,device=device)[None,None,:]\n",
    "z_rec = torch.tensor(z_centers*1e-6,device=device)[:,None,None]"
   ]
  },
  {
   "cell_type": "markdown",
   "id": "other-reply",
   "metadata": {},
   "source": [
    "Test Reconstruction Assumptions"
   ]
  },
  {
   "cell_type": "code",
   "execution_count": 75,
   "id": "finished-residence",
   "metadata": {},
   "outputs": [
    {
     "name": "stdout",
     "output_type": "stream",
     "text": [
      "(1, 600, 400)\n",
      "(600,)\n",
      "(400,)\n"
     ]
    },
    {
     "data": {
      "image/png": "[encoded data removed]",
      "text/plain": [
       "<Figure size 432x216 with 2 Axes>"
      ]
     },
     "metadata": {
      "needs_background": "light"
     },
     "output_type": "display_data"
    }
   ],
   "source": [
    "holo_idx = 0\n",
    "p_idx = np.where(h_ds['hid'].values==holo_idx+1)[0]\n",
    "xp = h_ds['x'].values[p_idx]\n",
    "yp = h_ds['y'].values[p_idx]\n",
    "zp = h_ds['z'].values[p_idx]\n",
    "dp = h_ds['d'].values[p_idx]\n",
    "z_plane = torch.tensor(zp*1e-6,device=device)[:,None,None]\n",
    "E_input = torch.tensor(h_ds['image'].isel(hologram_number=holo_idx).values,device=device,dtype=dtype)[None,:,:] \n",
    "Eres = torch_holo_set(E_input,fx,fy,z_plane,lam).detach().cpu().numpy()\n",
    "\n",
    "print(Eres.shape)\n",
    "print(x_arr.shape)\n",
    "print(y_arr.shape)\n",
    "\n",
    "for idx,z in enumerate(zp):\n",
    "    fig,ax = plt.subplots(1,2,figsize=(6,3))\n",
    "    ax[0].pcolormesh(y_arr,x_arr,np.abs(Eres[idx,:,:]))\n",
    "    ax[0].scatter(yp[idx]*1e-6,xp[idx]*1e-6,c='r',s=2,alpha=0.3)\n",
    "    ax[0].set_title('z=%f $mm$, d=%f $\\mu m$'%(z*1e-3,dp[idx]))\n",
    "    ax[1].pcolormesh(y_arr,x_arr,np.angle(Eres[idx,:,:]))\n",
    "    ax[1].scatter(yp[idx]*1e-6,xp[idx]*1e-6,c='r',s=2,alpha=0.3)"
   ]
  },
  {
   "cell_type": "code",
   "execution_count": null,
   "id": "thorough-shift",
   "metadata": {},
   "outputs": [],
   "source": []
  },
  {
   "cell_type": "code",
   "execution_count": 76,
   "id": "settled-stock",
   "metadata": {},
   "outputs": [],
   "source": [
    "Eset1 = []\n",
    "Eset2 = []\n",
    "histset = []\n",
    "start_time = datetime.datetime.now()\n",
    "for holo_idx in range(2*n_holograms):\n",
    "    part_idx = np.where(histogram_arr[holo_idx,:] > 0)[0]\n",
    "    part_idx = part_idx[(part_idx > (n_planes//2)) & (part_idx < z_centers.size-(n_planes//2))]\n",
    "    empt_idx = np.where(histogram_arr[holo_idx,:] == 0)[0]\n",
    "    empt_idx = empt_idx[(empt_idx > (n_planes//2)) & (empt_idx < z_centers.size-(n_planes//2))]\n",
    "    if len(empt_idx) > 0 and len(part_idx) > 0:\n",
    "        set_part = np.random.choice(part_idx, num_per_holo ,replace=False)\n",
    "        set_empt = np.random.choice(empt_idx, num_per_holo ,replace=False)\n",
    "        plane_set = []\n",
    "        for plane_idx in np.concatenate([set_part,set_empt]):\n",
    "            plane_set.append(np.arange(-(n_planes//2),n_planes//2+1)+plane_idx)\n",
    "\n",
    "        z_rec_sub = torch.tensor(1e-6*z_centers[np.concatenate(plane_set)],device=device)[:,None,None]\n",
    "        E_input = torch.tensor(h_ds['image'].isel(hologram_number=holo_idx).values/image_norm,device=device,dtype=dtype)[None,:,:] \n",
    "        Eres = torch_holo_set(E_input,fx,fy,z_rec_sub,lam).detach().cpu().reshape((2*num_per_holo,1,n_planes,Nx,Ny)).permute(0,1,3,4,2)\n",
    "    #     Eset.append(torch.stack([Eres.real,Eres.imag],dim=1))\n",
    "#         Eset1.append(Eres.abs())\n",
    "#         Eset2.append(Eres.angle())\n",
    "        Eset1.append(Eres.real)\n",
    "        Eset2.append(Eres.imag)\n",
    "        histset.append(histogram_arr[holo_idx,np.concatenate([set_part,set_empt])])\n",
    "\n",
    "#     # Include All Reconstructions\n",
    "#     E_input = torch.tensor(h_ds['image'].isel(hologram_number=holo_idx).values,device=device,dtype=dtype)[None,:,:] \n",
    "#     Eres = torch_holo_set(E_input,fx,fy,z_rec,lam).detach().cpu()\n",
    "#     Eset.append(torch.stack([Eres.abs(),Eres.angle()],dim=1))\n",
    "#     # Eset.append(torch.stack([Eres.real,Eres.imag],dim=1))\n",
    "\n",
    "\n",
    "end_time = datetime.datetime.now()"
   ]
  },
  {
   "cell_type": "code",
   "execution_count": 77,
   "id": "correct-gamma",
   "metadata": {},
   "outputs": [
    {
     "name": "stdout",
     "output_type": "stream",
     "text": [
      "executed 3722 planes in 58.227941 seconds\n",
      " for 0.015644261418592154 seconds per plane\n"
     ]
    }
   ],
   "source": [
    "exec_time = end_time-start_time\n",
    "print(f'executed {2*num_per_holo*len(Eset1)} planes in {exec_time.total_seconds()} seconds')\n",
    "print(f' for {exec_time.total_seconds()/(2*num_per_holo*len(Eset1))} seconds per plane')\n",
    "\n",
    "# exec_time = end_time-start_time\n",
    "# print(f'executed {z_centers.size*len(Eset)} planes in {exec_time.total_seconds()} seconds')\n",
    "# print(f' for {exec_time.total_seconds()/(z_centers.size*len(Eset))} seconds per plane')"
   ]
  },
  {
   "cell_type": "code",
   "execution_count": 78,
   "id": "through-projection",
   "metadata": {},
   "outputs": [],
   "source": [
    "idx_arr = np.arange(len(Eset1)).astype(int)\n",
    "train_idx = np.random.choice(idx_arr, idx_arr[-1]//2 ,replace=False)\n",
    "valid_idx = np.delete(idx_arr,train_idx)"
   ]
  },
  {
   "cell_type": "code",
   "execution_count": 79,
   "id": "effective-adolescent",
   "metadata": {},
   "outputs": [
    {
     "ename": "KeyboardInterrupt",
     "evalue": "",
     "output_type": "error",
     "traceback": [
      "\u001b[0;31m---------------------------------------------------------------------------\u001b[0m",
      "\u001b[0;31mKeyboardInterrupt\u001b[0m                         Traceback (most recent call last)",
      "\u001b[0;32m<ipython-input-79-92b6caff6dad>\u001b[0m in \u001b[0;36m<module>\u001b[0;34m\u001b[0m\n\u001b[0;32m----> 1\u001b[0;31m \u001b[0mtrain_inputs1\u001b[0m \u001b[0;34m=\u001b[0m \u001b[0mtorch\u001b[0m\u001b[0;34m.\u001b[0m\u001b[0mcat\u001b[0m\u001b[0;34m(\u001b[0m\u001b[0mEset1\u001b[0m\u001b[0;34m,\u001b[0m\u001b[0mdim\u001b[0m\u001b[0;34m=\u001b[0m\u001b[0;36m0\u001b[0m\u001b[0;34m)\u001b[0m\u001b[0;34m[\u001b[0m\u001b[0mtrain_idx\u001b[0m\u001b[0;34m,\u001b[0m\u001b[0;34m:\u001b[0m\u001b[0;34m,\u001b[0m\u001b[0;34m:\u001b[0m\u001b[0;34m,\u001b[0m\u001b[0;34m:\u001b[0m\u001b[0;34m]\u001b[0m\u001b[0;34m\u001b[0m\u001b[0;34m\u001b[0m\u001b[0m\n\u001b[0m\u001b[1;32m      2\u001b[0m \u001b[0mvalid_inputs1\u001b[0m \u001b[0;34m=\u001b[0m \u001b[0mtorch\u001b[0m\u001b[0;34m.\u001b[0m\u001b[0mcat\u001b[0m\u001b[0;34m(\u001b[0m\u001b[0mEset1\u001b[0m\u001b[0;34m,\u001b[0m\u001b[0mdim\u001b[0m\u001b[0;34m=\u001b[0m\u001b[0;36m0\u001b[0m\u001b[0;34m)\u001b[0m\u001b[0;34m[\u001b[0m\u001b[0mvalid_idx\u001b[0m\u001b[0;34m,\u001b[0m\u001b[0;34m:\u001b[0m\u001b[0;34m,\u001b[0m\u001b[0;34m:\u001b[0m\u001b[0;34m,\u001b[0m\u001b[0;34m:\u001b[0m\u001b[0;34m]\u001b[0m\u001b[0;34m\u001b[0m\u001b[0;34m\u001b[0m\u001b[0m\n\u001b[1;32m      3\u001b[0m \u001b[0mtrain_inputs2\u001b[0m \u001b[0;34m=\u001b[0m \u001b[0mtorch\u001b[0m\u001b[0;34m.\u001b[0m\u001b[0mcat\u001b[0m\u001b[0;34m(\u001b[0m\u001b[0mEset2\u001b[0m\u001b[0;34m,\u001b[0m\u001b[0mdim\u001b[0m\u001b[0;34m=\u001b[0m\u001b[0;36m0\u001b[0m\u001b[0;34m)\u001b[0m\u001b[0;34m[\u001b[0m\u001b[0mtrain_idx\u001b[0m\u001b[0;34m,\u001b[0m\u001b[0;34m:\u001b[0m\u001b[0;34m,\u001b[0m\u001b[0;34m:\u001b[0m\u001b[0;34m,\u001b[0m\u001b[0;34m:\u001b[0m\u001b[0;34m]\u001b[0m\u001b[0;34m\u001b[0m\u001b[0;34m\u001b[0m\u001b[0m\n\u001b[1;32m      4\u001b[0m \u001b[0mvalid_inputs2\u001b[0m \u001b[0;34m=\u001b[0m \u001b[0mtorch\u001b[0m\u001b[0;34m.\u001b[0m\u001b[0mcat\u001b[0m\u001b[0;34m(\u001b[0m\u001b[0mEset2\u001b[0m\u001b[0;34m,\u001b[0m\u001b[0mdim\u001b[0m\u001b[0;34m=\u001b[0m\u001b[0;36m0\u001b[0m\u001b[0;34m)\u001b[0m\u001b[0;34m[\u001b[0m\u001b[0mvalid_idx\u001b[0m\u001b[0;34m,\u001b[0m\u001b[0;34m:\u001b[0m\u001b[0;34m,\u001b[0m\u001b[0;34m:\u001b[0m\u001b[0;34m,\u001b[0m\u001b[0;34m:\u001b[0m\u001b[0;34m]\u001b[0m\u001b[0;34m\u001b[0m\u001b[0;34m\u001b[0m\u001b[0m\n",
      "\u001b[0;31mKeyboardInterrupt\u001b[0m: "
     ]
    }
   ],
   "source": [
    "train_inputs1 = torch.cat(Eset1,dim=0)[train_idx,...]\n",
    "valid_inputs1 = torch.cat(Eset1,dim=0)[valid_idx,...]\n",
    "train_inputs2 = torch.cat(Eset2,dim=0)[train_idx,...]\n",
    "valid_inputs2 = torch.cat(Eset2,dim=0)[valid_idx,...]"
   ]
  },
  {
   "cell_type": "code",
   "execution_count": null,
   "id": "horizontal-swing",
   "metadata": {},
   "outputs": [],
   "source": [
    "hist_labels = np.concatenate(histset)"
   ]
  },
  {
   "cell_type": "code",
   "execution_count": null,
   "id": "million-chuck",
   "metadata": {},
   "outputs": [],
   "source": [
    "idx = np.where(hist_labels[train_idx]>0)[0][25]\n",
    "fig,ax = plt.subplots(1,2,figsize=(6,3))\n",
    "ax[0].imshow(train_inputs1[idx,0,:,:,3])\n",
    "ax[1].imshow(train_inputs2[idx,0,:,:,3])\n",
    "\n",
    "\n",
    "idx = np.where(hist_labels[valid_idx]>0)[0][4]\n",
    "fig,ax = plt.subplots(1,2,figsize=(6,3))\n",
    "ax[0].imshow(valid_inputs1[idx,0,:,:,3])\n",
    "ax[1].imshow(valid_inputs2[idx,0,:,:,3])"
   ]
  },
  {
   "cell_type": "code",
   "execution_count": null,
   "id": "immune-snake",
   "metadata": {},
   "outputs": [],
   "source": [
    "train_inputs1.max()"
   ]
  },
  {
   "cell_type": "markdown",
   "id": "controversial-database",
   "metadata": {},
   "source": [
    "# Build Model"
   ]
  },
  {
   "cell_type": "code",
   "execution_count": null,
   "id": "reliable-norfolk",
   "metadata": {},
   "outputs": [],
   "source": [
    "epochs = 30\n",
    "optimizer_type = \"adam\"\n",
    "learning_rate = 1e-4\n",
    "batch_size = 64\n",
    "dtype = torch.float"
   ]
  },
  {
   "cell_type": "code",
   "execution_count": null,
   "id": "essential-employer",
   "metadata": {},
   "outputs": [],
   "source": [
    "# train_labels = torch.tensor(train_histogram_bin_arr.reshape(-1,1),dtype=dtype)\n",
    "# valid_labels = torch.tensor(valid_histogram_bin_arr.reshape(-1,1),dtype=dtype)\n",
    "\n",
    "# ### TODO ###\n",
    "train_labels = torch.tensor(hist_labels[train_idx],dtype=dtype)[:,None]\n",
    "valid_labels = torch.tensor(hist_labels[valid_idx],dtype=dtype)[:,None]"
   ]
  },
  {
   "cell_type": "code",
   "execution_count": null,
   "id": "developing-publication",
   "metadata": {},
   "outputs": [],
   "source": [
    "train_labels.shape"
   ]
  },
  {
   "cell_type": "code",
   "execution_count": null,
   "id": "divine-religious",
   "metadata": {},
   "outputs": [],
   "source": [
    "# loss_fn = nn.CrossEntropyLoss()\n",
    "loss_fn = nn.BCELoss()"
   ]
  },
  {
   "cell_type": "code",
   "execution_count": null,
   "id": "expected-captain",
   "metadata": {},
   "outputs": [],
   "source": [
    "input_shape = train_inputs1.shape[1:]\n",
    "output_shape = train_labels.shape[1:]\n",
    "print(input_shape)\n",
    "print(output_shape)"
   ]
  },
  {
   "cell_type": "code",
   "execution_count": null,
   "id": "unique-savage",
   "metadata": {},
   "outputs": [],
   "source": [
    "# ResNet 50 notebook : /glade/work/schreck/repos/goes16ci/gunther_notebook/latest.ipynb\n",
    "conv_size = n_planes # must be less than n_planes\n",
    "class z_plane_histogram_cnn(nn.Module):\n",
    "    def __init__(self):\n",
    "        super().__init__()\n",
    "        self.conv11 = nn.Conv3d(1, 2, conv_size)\n",
    "        self.conv12 = nn.Conv2d(2, 4, 5)\n",
    "        self.conv13 = nn.Conv2d(4, 8, 5)\n",
    "        \n",
    "        self.conv21 = nn.Conv3d(1, 2, conv_size)\n",
    "        self.conv22 = nn.Conv2d(2, 4, 5)\n",
    "        self.conv23 = nn.Conv2d(4, 8, 5)\n",
    "        \n",
    "#         self.pool1 = nn.MaxPool3d(2, 2)\n",
    "        self.pool1 = nn.MaxPool2d(4, 4)\n",
    "        \n",
    "        self.fc1 = nn.Linear(2*8*35*23, 120)\n",
    "        self.fc2 = nn.Linear(120, 1)\n",
    "#         self.fc3 = nn.Linear(84, 1)\n",
    "\n",
    "    def forward(self, x1, x2):\n",
    "        \n",
    "        x1 = F.relu(self.conv11(x1))\n",
    "        x1 = x1.permute(0,1,4,2,3).flatten(1,2)\n",
    "#         print(x1.shape)\n",
    "        x1 = self.pool1(F.relu(self.conv12(x1)))\n",
    "        x1 = self.pool1(F.relu(self.conv13(x1)))\n",
    "#         print(x1.shape)\n",
    "        \n",
    "        x2 = F.relu(self.conv21(x2))\n",
    "        x2 = x2.permute(0,1,4,2,3).flatten(1,2)\n",
    "        x2 = self.pool1(F.relu(self.conv22(x2)))\n",
    "        x2 = self.pool1(F.relu(self.conv23(x2)))\n",
    "        \n",
    "        x = torch.cat([torch.flatten(x1,1),torch.flatten(x2,1)],dim=1)\n",
    "#         print(x.shape)\n",
    "#         x = torch.flatten(x, 1) # flatten all dimensions except batch\n",
    "        x = F.relu(self.fc1(x))\n",
    "        x = F.sigmoid(self.fc2(x))\n",
    "#         x = F.sigmoid(self.fc3(x))\n",
    "        return x\n",
    "    \n"
   ]
  },
  {
   "cell_type": "code",
   "execution_count": null,
   "id": "fifty-concrete",
   "metadata": {},
   "outputs": [],
   "source": [
    "cnn_model = z_plane_histogram_cnn()\n",
    "cnn_model.to(device)"
   ]
  },
  {
   "cell_type": "code",
   "execution_count": null,
   "id": "bronze-memorial",
   "metadata": {},
   "outputs": [],
   "source": [
    "if optimizer_type == \"adam\":\n",
    "    optimizer = torch.optim.Adam(cnn_model.parameters(), lr=learning_rate)\n",
    "elif optimizer_type == \"sgd\":\n",
    "    optimizer = torch.optim.SGD(cnn_model.parameters(), lr=learning_rate)\n",
    "else:\n",
    "    logging.warning(\n",
    "        f\"Optimzer type {optimizer_type} is unknown. Exiting with error.\"\n",
    "    )"
   ]
  },
  {
   "cell_type": "code",
   "execution_count": null,
   "id": "stopped-heavy",
   "metadata": {},
   "outputs": [],
   "source": [
    "train_ds = TensorDataset(train_inputs1.float().to(device), train_inputs2.float().to(device), train_labels.float().to(device))\n",
    "train_dl = DataLoader(train_ds, batch_size=batch_size,shuffle=True)\n",
    "\n",
    "valid_ds = TensorDataset(valid_inputs1.float().to(device), valid_inputs2.float().to(device), valid_labels.float().to(device))\n",
    "valid_dl = DataLoader(valid_ds, batch_size=batch_size)"
   ]
  },
  {
   "cell_type": "code",
   "execution_count": null,
   "id": "turkish-saudi",
   "metadata": {},
   "outputs": [],
   "source": [
    "batches_per_epoch = len(train_dl)\n",
    "train_loss_hist = []\n",
    "valid_loss_hist = []\n",
    "\n",
    "for epoch in range(epochs):\n",
    "    train_loss = 0\n",
    "    cnn_model.train()\n",
    "    for batch_idx,(xb1,xb2,yb) in tqdm.tqdm(enumerate(train_dl),total=batches_per_epoch,leave=True):\n",
    "        pred = cnn_model(xb1,xb2)\n",
    "        loss = loss_fn(pred, yb)\n",
    "        train_loss += loss.sum().to('cpu').item()\n",
    "\n",
    "        loss.backward()\n",
    "        optimizer.step()\n",
    "        optimizer.zero_grad()\n",
    "        \n",
    "        cnn_model.eval()\n",
    "    with torch.no_grad():\n",
    "        valid_loss = sum(loss_fn(cnn_model(xb1,xb2), yb) for xb1, xb2, yb in valid_dl)\n",
    "\n",
    "    train_loss_hist += [train_loss / len(train_dl)]\n",
    "    valid_loss_hist += [valid_loss.item() / len(valid_dl)]\n",
    "    print(epoch, train_loss / len(train_dl), valid_loss.item() / len(valid_dl))"
   ]
  },
  {
   "cell_type": "code",
   "execution_count": null,
   "id": "joint-classification",
   "metadata": {},
   "outputs": [],
   "source": [
    "xb1.shape"
   ]
  },
  {
   "cell_type": "code",
   "execution_count": null,
   "id": "controlled-declaration",
   "metadata": {},
   "outputs": [],
   "source": [
    "fig,ax = plt.subplots(1,1)\n",
    "ax.plot(np.arange(len(train_loss_hist))[1:],train_loss_hist[1:],'b',label=\"training\")\n",
    "ax.plot(np.arange(len(valid_loss_hist)),valid_loss_hist,'r',label=\"validation\")\n",
    "ax.set_xlabel('epoch')\n",
    "ax.set_ylabel('loss')\n",
    "ax.minorticks_on()\n",
    "ax.grid(b=True)\n",
    "ax.legend()"
   ]
  },
  {
   "cell_type": "code",
   "execution_count": 38,
   "id": "thrown-speaker",
   "metadata": {},
   "outputs": [
    {
     "name": "stdout",
     "output_type": "stream",
     "text": [
      "torch.Size([64, 2, 594, 394])\n",
      "torch.Size([64, 8, 35, 23])\n",
      "torch.Size([64, 2, 594, 394])\n",
      "torch.Size([64, 8, 35, 23])\n",
      "torch.Size([64, 2, 594, 394])\n",
      "torch.Size([64, 8, 35, 23])\n",
      "torch.Size([9, 2, 594, 394])\n",
      "torch.Size([9, 8, 35, 23])\n"
     ]
    }
   ],
   "source": [
    "valid_sets = []\n",
    "with torch.no_grad():\n",
    "    for xv1, xv2, yv in valid_dl:\n",
    "        valid_sets.append([cnn_model(xv1,xv2).detach().cpu().numpy(), yv.detach().cpu().numpy()])"
   ]
  },
  {
   "cell_type": "code",
   "execution_count": 39,
   "id": "together-swaziland",
   "metadata": {},
   "outputs": [
    {
     "data": {
      "text/plain": [
       "[<matplotlib.lines.Line2D at 0x2afbb1072050>]"
      ]
     },
     "execution_count": 39,
     "metadata": {},
     "output_type": "execute_result"
    },
    {
     "data": {
      "image/png": "[encoded data removed]",
      "text/plain": [
       "<Figure size 432x288 with 1 Axes>"
      ]
     },
     "metadata": {
      "needs_background": "light"
     },
     "output_type": "display_data"
    }
   ],
   "source": [
    "plt.figure()\n",
    "plt.plot(valid_sets[1][0])\n",
    "plt.plot(valid_sets[1][1])"
   ]
  },
  {
   "cell_type": "code",
   "execution_count": 40,
   "id": "forty-liver",
   "metadata": {},
   "outputs": [
    {
     "data": {
      "text/plain": [
       "[<matplotlib.lines.Line2D at 0x2afbb10e0450>]"
      ]
     },
     "execution_count": 40,
     "metadata": {},
     "output_type": "execute_result"
    },
    {
     "data": {
      "image/png": "[encoded data removed]",
      "text/plain": [
       "<Figure size 432x288 with 1 Axes>"
      ]
     },
     "metadata": {
      "needs_background": "light"
     },
     "output_type": "display_data"
    }
   ],
   "source": [
    "plt.figure()\n",
    "plt.plot(pred.detach().cpu().numpy())\n",
    "plt.plot(yb.detach().cpu().numpy())"
   ]
  },
  {
   "cell_type": "code",
   "execution_count": 108,
   "id": "golden-intro",
   "metadata": {},
   "outputs": [
    {
     "data": {
      "text/html": [
       "<div><svg style=\"position: absolute; width: 0; height: 0; overflow: hidden\">\n",
       "<defs>\n",
       "<symbol id=\"icon-database\" viewBox=\"0 0 32 32\">\n",
       "<path d=\"M16 0c-8.837 0-16 2.239-16 5v4c0 2.761 7.163 5 16 5s16-2.239 16-5v-4c0-2.761-7.163-5-16-5z\"></path>\n",
       "<path d=\"M16 17c-8.837 0-16-2.239-16-5v6c0 2.761 7.163 5 16 5s16-2.239 16-5v-6c0 2.761-7.163 5-16 5z\"></path>\n",
       "<path d=\"M16 26c-8.837 0-16-2.239-16-5v6c0 2.761 7.163 5 16 5s16-2.239 16-5v-6c0 2.761-7.163 5-16 5z\"></path>\n",
       "</symbol>\n",
       "<symbol id=\"icon-file-text2\" viewBox=\"0 0 32 32\">\n",
       "<path d=\"M28.681 7.159c-0.694-0.947-1.662-2.053-2.724-3.116s-2.169-2.030-3.116-2.724c-1.612-1.182-2.393-1.319-2.841-1.319h-15.5c-1.378 0-2.5 1.121-2.5 2.5v27c0 1.378 1.122 2.5 2.5 2.5h23c1.378 0 2.5-1.122 2.5-2.5v-19.5c0-0.448-0.137-1.23-1.319-2.841zM24.543 5.457c0.959 0.959 1.712 1.825 2.268 2.543h-4.811v-4.811c0.718 0.556 1.584 1.309 2.543 2.268zM28 29.5c0 0.271-0.229 0.5-0.5 0.5h-23c-0.271 0-0.5-0.229-0.5-0.5v-27c0-0.271 0.229-0.5 0.5-0.5 0 0 15.499-0 15.5 0v7c0 0.552 0.448 1 1 1h7v19.5z\"></path>\n",
       "<path d=\"M23 26h-14c-0.552 0-1-0.448-1-1s0.448-1 1-1h14c0.552 0 1 0.448 1 1s-0.448 1-1 1z\"></path>\n",
       "<path d=\"M23 22h-14c-0.552 0-1-0.448-1-1s0.448-1 1-1h14c0.552 0 1 0.448 1 1s-0.448 1-1 1z\"></path>\n",
       "<path d=\"M23 18h-14c-0.552 0-1-0.448-1-1s0.448-1 1-1h14c0.552 0 1 0.448 1 1s-0.448 1-1 1z\"></path>\n",
       "</symbol>\n",
       "</defs>\n",
       "</svg>\n",
       "<style>/* CSS stylesheet for displaying xarray objects in jupyterlab.\n",
       " *\n",
       " */\n",
       "\n",
       ":root {\n",
       "  --xr-font-color0: var(--jp-content-font-color0, rgba(0, 0, 0, 1));\n",
       "  --xr-font-color2: var(--jp-content-font-color2, rgba(0, 0, 0, 0.54));\n",
       "  --xr-font-color3: var(--jp-content-font-color3, rgba(0, 0, 0, 0.38));\n",
       "  --xr-border-color: var(--jp-border-color2, #e0e0e0);\n",
       "  --xr-disabled-color: var(--jp-layout-color3, #bdbdbd);\n",
       "  --xr-background-color: var(--jp-layout-color0, white);\n",
       "  --xr-background-color-row-even: var(--jp-layout-color1, white);\n",
       "  --xr-background-color-row-odd: var(--jp-layout-color2, #eeeeee);\n",
       "}\n",
       "\n",
       "html[theme=dark],\n",
       "body.vscode-dark {\n",
       "  --xr-font-color0: rgba(255, 255, 255, 1);\n",
       "  --xr-font-color2: rgba(255, 255, 255, 0.54);\n",
       "  --xr-font-color3: rgba(255, 255, 255, 0.38);\n",
       "  --xr-border-color: #1F1F1F;\n",
       "  --xr-disabled-color: #515151;\n",
       "  --xr-background-color: #111111;\n",
       "  --xr-background-color-row-even: #111111;\n",
       "  --xr-background-color-row-odd: #313131;\n",
       "}\n",
       "\n",
       ".xr-wrap {\n",
       "  display: block;\n",
       "  min-width: 300px;\n",
       "  max-width: 700px;\n",
       "}\n",
       "\n",
       ".xr-text-repr-fallback {\n",
       "  /* fallback to plain text repr when CSS is not injected (untrusted notebook) */\n",
       "  display: none;\n",
       "}\n",
       "\n",
       ".xr-header {\n",
       "  padding-top: 6px;\n",
       "  padding-bottom: 6px;\n",
       "  margin-bottom: 4px;\n",
       "  border-bottom: solid 1px var(--xr-border-color);\n",
       "}\n",
       "\n",
       ".xr-header > div,\n",
       ".xr-header > ul {\n",
       "  display: inline;\n",
       "  margin-top: 0;\n",
       "  margin-bottom: 0;\n",
       "}\n",
       "\n",
       ".xr-obj-type,\n",
       ".xr-array-name {\n",
       "  margin-left: 2px;\n",
       "  margin-right: 10px;\n",
       "}\n",
       "\n",
       ".xr-obj-type {\n",
       "  color: var(--xr-font-color2);\n",
       "}\n",
       "\n",
       ".xr-sections {\n",
       "  padding-left: 0 !important;\n",
       "  display: grid;\n",
       "  grid-template-columns: 150px auto auto 1fr 20px 20px;\n",
       "}\n",
       "\n",
       ".xr-section-item {\n",
       "  display: contents;\n",
       "}\n",
       "\n",
       ".xr-section-item input {\n",
       "  display: none;\n",
       "}\n",
       "\n",
       ".xr-section-item input + label {\n",
       "  color: var(--xr-disabled-color);\n",
       "}\n",
       "\n",
       ".xr-section-item input:enabled + label {\n",
       "  cursor: pointer;\n",
       "  color: var(--xr-font-color2);\n",
       "}\n",
       "\n",
       ".xr-section-item input:enabled + label:hover {\n",
       "  color: var(--xr-font-color0);\n",
       "}\n",
       "\n",
       ".xr-section-summary {\n",
       "  grid-column: 1;\n",
       "  color: var(--xr-font-color2);\n",
       "  font-weight: 500;\n",
       "}\n",
       "\n",
       ".xr-section-summary > span {\n",
       "  display: inline-block;\n",
       "  padding-left: 0.5em;\n",
       "}\n",
       "\n",
       ".xr-section-summary-in:disabled + label {\n",
       "  color: var(--xr-font-color2);\n",
       "}\n",
       "\n",
       ".xr-section-summary-in + label:before {\n",
       "  display: inline-block;\n",
       "  content: '►';\n",
       "  font-size: 11px;\n",
       "  width: 15px;\n",
       "  text-align: center;\n",
       "}\n",
       "\n",
       ".xr-section-summary-in:disabled + label:before {\n",
       "  color: var(--xr-disabled-color);\n",
       "}\n",
       "\n",
       ".xr-section-summary-in:checked + label:before {\n",
       "  content: '▼';\n",
       "}\n",
       "\n",
       ".xr-section-summary-in:checked + label > span {\n",
       "  display: none;\n",
       "}\n",
       "\n",
       ".xr-section-summary,\n",
       ".xr-section-inline-details {\n",
       "  padding-top: 4px;\n",
       "  padding-bottom: 4px;\n",
       "}\n",
       "\n",
       ".xr-section-inline-details {\n",
       "  grid-column: 2 / -1;\n",
       "}\n",
       "\n",
       ".xr-section-details {\n",
       "  display: none;\n",
       "  grid-column: 1 / -1;\n",
       "  margin-bottom: 5px;\n",
       "}\n",
       "\n",
       ".xr-section-summary-in:checked ~ .xr-section-details {\n",
       "  display: contents;\n",
       "}\n",
       "\n",
       ".xr-array-wrap {\n",
       "  grid-column: 1 / -1;\n",
       "  display: grid;\n",
       "  grid-template-columns: 20px auto;\n",
       "}\n",
       "\n",
       ".xr-array-wrap > label {\n",
       "  grid-column: 1;\n",
       "  vertical-align: top;\n",
       "}\n",
       "\n",
       ".xr-preview {\n",
       "  color: var(--xr-font-color3);\n",
       "}\n",
       "\n",
       ".xr-array-preview,\n",
       ".xr-array-data {\n",
       "  padding: 0 5px !important;\n",
       "  grid-column: 2;\n",
       "}\n",
       "\n",
       ".xr-array-data,\n",
       ".xr-array-in:checked ~ .xr-array-preview {\n",
       "  display: none;\n",
       "}\n",
       "\n",
       ".xr-array-in:checked ~ .xr-array-data,\n",
       ".xr-array-preview {\n",
       "  display: inline-block;\n",
       "}\n",
       "\n",
       ".xr-dim-list {\n",
       "  display: inline-block !important;\n",
       "  list-style: none;\n",
       "  padding: 0 !important;\n",
       "  margin: 0;\n",
       "}\n",
       "\n",
       ".xr-dim-list li {\n",
       "  display: inline-block;\n",
       "  padding: 0;\n",
       "  margin: 0;\n",
       "}\n",
       "\n",
       ".xr-dim-list:before {\n",
       "  content: '(';\n",
       "}\n",
       "\n",
       ".xr-dim-list:after {\n",
       "  content: ')';\n",
       "}\n",
       "\n",
       ".xr-dim-list li:not(:last-child):after {\n",
       "  content: ',';\n",
       "  padding-right: 5px;\n",
       "}\n",
       "\n",
       ".xr-has-index {\n",
       "  font-weight: bold;\n",
       "}\n",
       "\n",
       ".xr-var-list,\n",
       ".xr-var-item {\n",
       "  display: contents;\n",
       "}\n",
       "\n",
       ".xr-var-item > div,\n",
       ".xr-var-item label,\n",
       ".xr-var-item > .xr-var-name span {\n",
       "  background-color: var(--xr-background-color-row-even);\n",
       "  margin-bottom: 0;\n",
       "}\n",
       "\n",
       ".xr-var-item > .xr-var-name:hover span {\n",
       "  padding-right: 5px;\n",
       "}\n",
       "\n",
       ".xr-var-list > li:nth-child(odd) > div,\n",
       ".xr-var-list > li:nth-child(odd) > label,\n",
       ".xr-var-list > li:nth-child(odd) > .xr-var-name span {\n",
       "  background-color: var(--xr-background-color-row-odd);\n",
       "}\n",
       "\n",
       ".xr-var-name {\n",
       "  grid-column: 1;\n",
       "}\n",
       "\n",
       ".xr-var-dims {\n",
       "  grid-column: 2;\n",
       "}\n",
       "\n",
       ".xr-var-dtype {\n",
       "  grid-column: 3;\n",
       "  text-align: right;\n",
       "  color: var(--xr-font-color2);\n",
       "}\n",
       "\n",
       ".xr-var-preview {\n",
       "  grid-column: 4;\n",
       "}\n",
       "\n",
       ".xr-var-name,\n",
       ".xr-var-dims,\n",
       ".xr-var-dtype,\n",
       ".xr-preview,\n",
       ".xr-attrs dt {\n",
       "  white-space: nowrap;\n",
       "  overflow: hidden;\n",
       "  text-overflow: ellipsis;\n",
       "  padding-right: 10px;\n",
       "}\n",
       "\n",
       ".xr-var-name:hover,\n",
       ".xr-var-dims:hover,\n",
       ".xr-var-dtype:hover,\n",
       ".xr-attrs dt:hover {\n",
       "  overflow: visible;\n",
       "  width: auto;\n",
       "  z-index: 1;\n",
       "}\n",
       "\n",
       ".xr-var-attrs,\n",
       ".xr-var-data {\n",
       "  display: none;\n",
       "  background-color: var(--xr-background-color) !important;\n",
       "  padding-bottom: 5px !important;\n",
       "}\n",
       "\n",
       ".xr-var-attrs-in:checked ~ .xr-var-attrs,\n",
       ".xr-var-data-in:checked ~ .xr-var-data {\n",
       "  display: block;\n",
       "}\n",
       "\n",
       ".xr-var-data > table {\n",
       "  float: right;\n",
       "}\n",
       "\n",
       ".xr-var-name span,\n",
       ".xr-var-data,\n",
       ".xr-attrs {\n",
       "  padding-left: 25px !important;\n",
       "}\n",
       "\n",
       ".xr-attrs,\n",
       ".xr-var-attrs,\n",
       ".xr-var-data {\n",
       "  grid-column: 1 / -1;\n",
       "}\n",
       "\n",
       "dl.xr-attrs {\n",
       "  padding: 0;\n",
       "  margin: 0;\n",
       "  display: grid;\n",
       "  grid-template-columns: 125px auto;\n",
       "}\n",
       "\n",
       ".xr-attrs dt,\n",
       ".xr-attrs dd {\n",
       "  padding: 0;\n",
       "  margin: 0;\n",
       "  float: left;\n",
       "  padding-right: 10px;\n",
       "  width: auto;\n",
       "}\n",
       "\n",
       ".xr-attrs dt {\n",
       "  font-weight: normal;\n",
       "  grid-column: 1;\n",
       "}\n",
       "\n",
       ".xr-attrs dt:hover span {\n",
       "  display: inline-block;\n",
       "  background: var(--xr-background-color);\n",
       "  padding-right: 10px;\n",
       "}\n",
       "\n",
       ".xr-attrs dd {\n",
       "  grid-column: 2;\n",
       "  white-space: pre-wrap;\n",
       "  word-break: break-all;\n",
       "}\n",
       "\n",
       ".xr-icon-database,\n",
       ".xr-icon-file-text2 {\n",
       "  display: inline-block;\n",
       "  vertical-align: middle;\n",
       "  width: 1em;\n",
       "  height: 1.5em !important;\n",
       "  stroke-width: 0;\n",
       "  stroke: currentColor;\n",
       "  fill: currentColor;\n",
       "}\n",
       "</style><pre class='xr-text-repr-fallback'>&lt;xarray.Dataset&gt;\n",
       "Dimensions:         (hologram_number: 50000, particle: 500000, patch_number: 800000, patch_xsize: 128, patch_ysize: 128, xsize: 512, ysize: 512)\n",
       "Dimensions without coordinates: hologram_number, particle, patch_number, patch_xsize, patch_ysize, xsize, ysize\n",
       "Data variables: (12/16)\n",
       "    hid             (particle) float32 1.0 1.0 1.0 1.0 ... 5e+04 5e+04 5e+04\n",
       "    d               (particle) float32 36.48 45.38 25.82 ... 32.3 9.01 40.48\n",
       "    x               (particle) float32 253.9 22.78 732.8 ... -616.6 -431.8\n",
       "    y               (particle) float32 708.5 -600.7 552.2 ... 106.1 -190.7 662.5\n",
       "    z               (particle) float32 5.645e+04 1.438e+05 ... 1.419e+05\n",
       "    n0              (particle) float32 ...\n",
       "    ...              ...\n",
       "    x_pixels        (particle) float32 ...\n",
       "    y_pixels        (particle) float32 ...\n",
       "    pid             (particle) float32 ...\n",
       "    x_patch_pixels  (particle) float32 ...\n",
       "    y_patch_pixels  (particle) float32 ...\n",
       "    patch           (patch_number, patch_xsize, patch_ysize) uint8 ...\n",
       "Attributes: (12/33)\n",
       "    DateCreated:           10-Feb-2021\n",
       "    Nx:                    512.0\n",
       "    Ny:                    512.0\n",
       "    dx:                    2.96e-06\n",
       "    dy:                    2.96e-06\n",
       "    lambda:                3.55e-07\n",
       "    ...                    ...\n",
       "    monodisperse:          0.0\n",
       "    should_cache:          1\n",
       "    Nx_patch:              128.0\n",
       "    Ny_patch:              128.0\n",
       "    nPatches:              800000.0\n",
       "    PatchesPerHologram:    16.0</pre><div class='xr-wrap' hidden><div class='xr-header'><div class='xr-obj-type'>xarray.Dataset</div></div><ul class='xr-sections'><li class='xr-section-item'><input id='section-9be9cb0e-6e51-45ee-9d3f-4efac02fb473' class='xr-section-summary-in' type='checkbox' disabled ><label for='section-9be9cb0e-6e51-45ee-9d3f-4efac02fb473' class='xr-section-summary'  title='Expand/collapse section'>Dimensions:</label><div class='xr-section-inline-details'><ul class='xr-dim-list'><li><span>hologram_number</span>: 50000</li><li><span>particle</span>: 500000</li><li><span>patch_number</span>: 800000</li><li><span>patch_xsize</span>: 128</li><li><span>patch_ysize</span>: 128</li><li><span>xsize</span>: 512</li><li><span>ysize</span>: 512</li></ul></div><div class='xr-section-details'></div></li><li class='xr-section-item'><input id='section-7ccfc29e-3777-4cf4-aada-beeb1145ba8c' class='xr-section-summary-in' type='checkbox' disabled ><label for='section-7ccfc29e-3777-4cf4-aada-beeb1145ba8c' class='xr-section-summary'  title='Expand/collapse section'>Coordinates: <span>(0)</span></label><div class='xr-section-inline-details'></div><div class='xr-section-details'><ul class='xr-var-list'></ul></div></li><li class='xr-section-item'><input id='section-0bdbbc20-203a-4faa-a9cd-0a2165ce3068' class='xr-section-summary-in' type='checkbox'  ><label for='section-0bdbbc20-203a-4faa-a9cd-0a2165ce3068' class='xr-section-summary' >Data variables: <span>(16)</span></label><div class='xr-section-inline-details'></div><div class='xr-section-details'><ul class='xr-var-list'><li class='xr-var-item'><div class='xr-var-name'><span>hid</span></div><div class='xr-var-dims'>(particle)</div><div class='xr-var-dtype'>float32</div><div class='xr-var-preview xr-preview'>1.0 1.0 1.0 ... 5e+04 5e+04 5e+04</div><input id='attrs-7cfc8baa-435f-4e99-9b10-a4fcc45a5345' class='xr-var-attrs-in' type='checkbox' ><label for='attrs-7cfc8baa-435f-4e99-9b10-a4fcc45a5345' title='Show/Hide attributes'><svg class='icon xr-icon-file-text2'><use xlink:href='#icon-file-text2'></use></svg></label><input id='data-6630ef5b-1e4d-4e71-97fa-62b32d705033' class='xr-var-data-in' type='checkbox'><label for='data-6630ef5b-1e4d-4e71-97fa-62b32d705033' title='Show/Hide data repr'><svg class='icon xr-icon-database'><use xlink:href='#icon-database'></use></svg></label><div class='xr-var-attrs'><dl class='xr-attrs'><dt><span>longname :</span></dt><dd>Hologram index (1-based, first hologram index = 1)</dd><dt><span>units :</span></dt><dd>unitless</dd></dl></div><div class='xr-var-data'><pre>array([1.e+00, 1.e+00, 1.e+00, ..., 5.e+04, 5.e+04, 5.e+04], dtype=float32)</pre></div></li><li class='xr-var-item'><div class='xr-var-name'><span>d</span></div><div class='xr-var-dims'>(particle)</div><div class='xr-var-dtype'>float32</div><div class='xr-var-preview xr-preview'>36.48 45.38 25.82 ... 9.01 40.48</div><input id='attrs-b3f8d722-20fc-415b-a457-a2cb2daa2e65' class='xr-var-attrs-in' type='checkbox' ><label for='attrs-b3f8d722-20fc-415b-a457-a2cb2daa2e65' title='Show/Hide attributes'><svg class='icon xr-icon-file-text2'><use xlink:href='#icon-file-text2'></use></svg></label><input id='data-88daecf9-18c8-4f34-94d8-c6aee1280d37' class='xr-var-data-in' type='checkbox'><label for='data-88daecf9-18c8-4f34-94d8-c6aee1280d37' title='Show/Hide data repr'><svg class='icon xr-icon-database'><use xlink:href='#icon-database'></use></svg></label><div class='xr-var-attrs'><dl class='xr-attrs'><dt><span>longname :</span></dt><dd>Particle Diameter</dd><dt><span>units :</span></dt><dd>microns</dd></dl></div><div class='xr-var-data'><pre>array([36.48498 , 45.37779 , 25.815104, ..., 32.303696,  9.009637, 40.483204],\n",
       "      dtype=float32)</pre></div></li><li class='xr-var-item'><div class='xr-var-name'><span>x</span></div><div class='xr-var-dims'>(particle)</div><div class='xr-var-dtype'>float32</div><div class='xr-var-preview xr-preview'>253.9 22.78 732.8 ... -616.6 -431.8</div><input id='attrs-ad0d0009-c7eb-4744-a2e4-c35c0c262a86' class='xr-var-attrs-in' type='checkbox' ><label for='attrs-ad0d0009-c7eb-4744-a2e4-c35c0c262a86' title='Show/Hide attributes'><svg class='icon xr-icon-file-text2'><use xlink:href='#icon-file-text2'></use></svg></label><input id='data-7ab9ae26-c939-47cf-a109-3383d6bcd377' class='xr-var-data-in' type='checkbox'><label for='data-7ab9ae26-c939-47cf-a109-3383d6bcd377' title='Show/Hide data repr'><svg class='icon xr-icon-database'><use xlink:href='#icon-database'></use></svg></label><div class='xr-var-attrs'><dl class='xr-attrs'><dt><span>longname :</span></dt><dd>Particle x-position (origin at center)</dd><dt><span>units :</span></dt><dd>microns</dd></dl></div><div class='xr-var-data'><pre>array([ 253.88094 ,   22.783604,  732.8068  , ..., -104.565575, -616.55133 ,\n",
       "       -431.83954 ], dtype=float32)</pre></div></li><li class='xr-var-item'><div class='xr-var-name'><span>y</span></div><div class='xr-var-dims'>(particle)</div><div class='xr-var-dtype'>float32</div><div class='xr-var-preview xr-preview'>708.5 -600.7 552.2 ... -190.7 662.5</div><input id='attrs-6165cf4b-2254-4f62-9f26-f7bdd8f5a776' class='xr-var-attrs-in' type='checkbox' ><label for='attrs-6165cf4b-2254-4f62-9f26-f7bdd8f5a776' title='Show/Hide attributes'><svg class='icon xr-icon-file-text2'><use xlink:href='#icon-file-text2'></use></svg></label><input id='data-88de8dc4-d564-4c6d-aa19-1aea8c5a1c18' class='xr-var-data-in' type='checkbox'><label for='data-88de8dc4-d564-4c6d-aa19-1aea8c5a1c18' title='Show/Hide data repr'><svg class='icon xr-icon-database'><use xlink:href='#icon-database'></use></svg></label><div class='xr-var-attrs'><dl class='xr-attrs'><dt><span>longname :</span></dt><dd>Particle y-position (origin at center)</dd><dt><span>units :</span></dt><dd>microns</dd></dl></div><div class='xr-var-data'><pre>array([ 708.4516 , -600.7245 ,  552.1817 , ...,  106.05484, -190.72815,\n",
       "        662.46295], dtype=float32)</pre></div></li><li class='xr-var-item'><div class='xr-var-name'><span>z</span></div><div class='xr-var-dims'>(particle)</div><div class='xr-var-dtype'>float32</div><div class='xr-var-preview xr-preview'>5.645e+04 1.438e+05 ... 1.419e+05</div><input id='attrs-657e06ff-b4aa-4bcc-857e-5448262b27e6' class='xr-var-attrs-in' type='checkbox' ><label for='attrs-657e06ff-b4aa-4bcc-857e-5448262b27e6' title='Show/Hide attributes'><svg class='icon xr-icon-file-text2'><use xlink:href='#icon-file-text2'></use></svg></label><input id='data-bd1f8431-4273-4a71-a35d-4d3f3eb258c3' class='xr-var-data-in' type='checkbox'><label for='data-bd1f8431-4273-4a71-a35d-4d3f3eb258c3' title='Show/Hide data repr'><svg class='icon xr-icon-database'><use xlink:href='#icon-database'></use></svg></label><div class='xr-var-attrs'><dl class='xr-attrs'><dt><span>longname :</span></dt><dd>Particle z-position (origin at sensor)</dd><dt><span>units :</span></dt><dd>microns</dd></dl></div><div class='xr-var-data'><pre>array([ 56452.47 , 143813.92 ,  44329.   , ...,  59288.707, 143020.17 ,\n",
       "       141855.9  ], dtype=float32)</pre></div></li><li class='xr-var-item'><div class='xr-var-name'><span>n0</span></div><div class='xr-var-dims'>(particle)</div><div class='xr-var-dtype'>float32</div><div class='xr-var-preview xr-preview'>...</div><input id='attrs-e5d82058-467a-4093-a026-59da8dad7879' class='xr-var-attrs-in' type='checkbox' ><label for='attrs-e5d82058-467a-4093-a026-59da8dad7879' title='Show/Hide attributes'><svg class='icon xr-icon-file-text2'><use xlink:href='#icon-file-text2'></use></svg></label><input id='data-989c516e-c82f-46a5-9a38-d03bd6c05653' class='xr-var-data-in' type='checkbox'><label for='data-989c516e-c82f-46a5-9a38-d03bd6c05653' title='Show/Hide data repr'><svg class='icon xr-icon-database'><use xlink:href='#icon-database'></use></svg></label><div class='xr-var-attrs'><dl class='xr-attrs'><dt><span>longname :</span></dt><dd>Gamma distribution N0</dd><dt><span>units :</span></dt><dd>m^-4</dd></dl></div><div class='xr-var-data'><pre>[500000 values with dtype=float32]</pre></div></li><li class='xr-var-item'><div class='xr-var-name'><span>mu</span></div><div class='xr-var-dims'>(particle)</div><div class='xr-var-dtype'>float32</div><div class='xr-var-preview xr-preview'>...</div><input id='attrs-ebda2a6e-48e6-4a12-8102-1a81cf41e4be' class='xr-var-attrs-in' type='checkbox' ><label for='attrs-ebda2a6e-48e6-4a12-8102-1a81cf41e4be' title='Show/Hide attributes'><svg class='icon xr-icon-file-text2'><use xlink:href='#icon-file-text2'></use></svg></label><input id='data-d52068d9-4b4b-4a57-961f-147ea0abc067' class='xr-var-data-in' type='checkbox'><label for='data-d52068d9-4b4b-4a57-961f-147ea0abc067' title='Show/Hide data repr'><svg class='icon xr-icon-database'><use xlink:href='#icon-database'></use></svg></label><div class='xr-var-attrs'><dl class='xr-attrs'><dt><span>longname :</span></dt><dd>Gamma distribution mu</dd><dt><span>units :</span></dt><dd>unitless</dd></dl></div><div class='xr-var-data'><pre>[500000 values with dtype=float32]</pre></div></li><li class='xr-var-item'><div class='xr-var-name'><span>lam</span></div><div class='xr-var-dims'>(particle)</div><div class='xr-var-dtype'>float32</div><div class='xr-var-preview xr-preview'>...</div><input id='attrs-0392d442-d6a5-4754-b9fb-7d7f14b74d65' class='xr-var-attrs-in' type='checkbox' ><label for='attrs-0392d442-d6a5-4754-b9fb-7d7f14b74d65' title='Show/Hide attributes'><svg class='icon xr-icon-file-text2'><use xlink:href='#icon-file-text2'></use></svg></label><input id='data-a50e8030-77e6-4011-a61a-10fc22d5dce7' class='xr-var-data-in' type='checkbox'><label for='data-a50e8030-77e6-4011-a61a-10fc22d5dce7' title='Show/Hide data repr'><svg class='icon xr-icon-database'><use xlink:href='#icon-database'></use></svg></label><div class='xr-var-attrs'><dl class='xr-attrs'><dt><span>longname :</span></dt><dd>Gamma distribution lambda</dd><dt><span>units :</span></dt><dd>1/m</dd></dl></div><div class='xr-var-data'><pre>[500000 values with dtype=float32]</pre></div></li><li class='xr-var-item'><div class='xr-var-name'><span>distid</span></div><div class='xr-var-dims'>(particle)</div><div class='xr-var-dtype'>float32</div><div class='xr-var-preview xr-preview'>...</div><input id='attrs-7d718571-80f6-4d46-aaba-b2aa0f52ea4e' class='xr-var-attrs-in' type='checkbox' ><label for='attrs-7d718571-80f6-4d46-aaba-b2aa0f52ea4e' title='Show/Hide attributes'><svg class='icon xr-icon-file-text2'><use xlink:href='#icon-file-text2'></use></svg></label><input id='data-ad084f68-8d35-41cb-94a5-8586e766d792' class='xr-var-data-in' type='checkbox'><label for='data-ad084f68-8d35-41cb-94a5-8586e766d792' title='Show/Hide data repr'><svg class='icon xr-icon-database'><use xlink:href='#icon-database'></use></svg></label><div class='xr-var-attrs'><dl class='xr-attrs'><dt><span>longname :</span></dt><dd>Gamma distribution index</dd><dt><span>units :</span></dt><dd>unitless</dd></dl></div><div class='xr-var-data'><pre>[500000 values with dtype=float32]</pre></div></li><li class='xr-var-item'><div class='xr-var-name'><span>image</span></div><div class='xr-var-dims'>(hologram_number, xsize, ysize)</div><div class='xr-var-dtype'>uint8</div><div class='xr-var-preview xr-preview'>...</div><input id='attrs-46801843-d27a-44b8-8d63-b903ccc5f08f' class='xr-var-attrs-in' type='checkbox' ><label for='attrs-46801843-d27a-44b8-8d63-b903ccc5f08f' title='Show/Hide attributes'><svg class='icon xr-icon-file-text2'><use xlink:href='#icon-file-text2'></use></svg></label><input id='data-36129042-7b8d-41c0-b966-b813e9c9cf67' class='xr-var-data-in' type='checkbox'><label for='data-36129042-7b8d-41c0-b966-b813e9c9cf67' title='Show/Hide data repr'><svg class='icon xr-icon-database'><use xlink:href='#icon-database'></use></svg></label><div class='xr-var-attrs'><dl class='xr-attrs'><dt><span>longname :</span></dt><dd>Hologram image</dd></dl></div><div class='xr-var-data'><pre>[13107200000 values with dtype=uint8]</pre></div></li><li class='xr-var-item'><div class='xr-var-name'><span>x_pixels</span></div><div class='xr-var-dims'>(particle)</div><div class='xr-var-dtype'>float32</div><div class='xr-var-preview xr-preview'>...</div><input id='attrs-7b217ee7-81ad-41cf-b260-4375c2713dcf' class='xr-var-attrs-in' type='checkbox' ><label for='attrs-7b217ee7-81ad-41cf-b260-4375c2713dcf' title='Show/Hide attributes'><svg class='icon xr-icon-file-text2'><use xlink:href='#icon-file-text2'></use></svg></label><input id='data-3c59360b-7ebf-4d48-94e1-176eeb14202d' class='xr-var-data-in' type='checkbox'><label for='data-3c59360b-7ebf-4d48-94e1-176eeb14202d' title='Show/Hide data repr'><svg class='icon xr-icon-database'><use xlink:href='#icon-database'></use></svg></label><div class='xr-var-attrs'><dl class='xr-attrs'><dt><span>longname :</span></dt><dd>Particle x-position in pixels (origin at bottom-left corner)</dd><dt><span>units :</span></dt><dd>pixels</dd></dl></div><div class='xr-var-data'><pre>[500000 values with dtype=float32]</pre></div></li><li class='xr-var-item'><div class='xr-var-name'><span>y_pixels</span></div><div class='xr-var-dims'>(particle)</div><div class='xr-var-dtype'>float32</div><div class='xr-var-preview xr-preview'>...</div><input id='attrs-9b8536a2-13ec-4bf7-ba74-aeede60ca7bd' class='xr-var-attrs-in' type='checkbox' ><label for='attrs-9b8536a2-13ec-4bf7-ba74-aeede60ca7bd' title='Show/Hide attributes'><svg class='icon xr-icon-file-text2'><use xlink:href='#icon-file-text2'></use></svg></label><input id='data-7bebadec-5a19-46ca-b4e1-e0fe507935ac' class='xr-var-data-in' type='checkbox'><label for='data-7bebadec-5a19-46ca-b4e1-e0fe507935ac' title='Show/Hide data repr'><svg class='icon xr-icon-database'><use xlink:href='#icon-database'></use></svg></label><div class='xr-var-attrs'><dl class='xr-attrs'><dt><span>longname :</span></dt><dd>Particle y-position in pixels (origin at bottom-left corner)</dd><dt><span>units :</span></dt><dd>pixels</dd></dl></div><div class='xr-var-data'><pre>[500000 values with dtype=float32]</pre></div></li><li class='xr-var-item'><div class='xr-var-name'><span>pid</span></div><div class='xr-var-dims'>(particle)</div><div class='xr-var-dtype'>float32</div><div class='xr-var-preview xr-preview'>...</div><input id='attrs-b5b27835-7446-4077-8ff6-3cd436ce5604' class='xr-var-attrs-in' type='checkbox' ><label for='attrs-b5b27835-7446-4077-8ff6-3cd436ce5604' title='Show/Hide attributes'><svg class='icon xr-icon-file-text2'><use xlink:href='#icon-file-text2'></use></svg></label><input id='data-9008e8b4-b70c-4f0f-90f9-ad690649d12d' class='xr-var-data-in' type='checkbox'><label for='data-9008e8b4-b70c-4f0f-90f9-ad690649d12d' title='Show/Hide data repr'><svg class='icon xr-icon-database'><use xlink:href='#icon-database'></use></svg></label><div class='xr-var-attrs'><dl class='xr-attrs'><dt><span>longname :</span></dt><dd>Patch index (1-based, first patch index = 1)</dd><dt><span>units :</span></dt><dd>unitless</dd></dl></div><div class='xr-var-data'><pre>[500000 values with dtype=float32]</pre></div></li><li class='xr-var-item'><div class='xr-var-name'><span>x_patch_pixels</span></div><div class='xr-var-dims'>(particle)</div><div class='xr-var-dtype'>float32</div><div class='xr-var-preview xr-preview'>...</div><input id='attrs-aa8afa7e-8e61-4bbc-af58-94fe1d59d836' class='xr-var-attrs-in' type='checkbox' ><label for='attrs-aa8afa7e-8e61-4bbc-af58-94fe1d59d836' title='Show/Hide attributes'><svg class='icon xr-icon-file-text2'><use xlink:href='#icon-file-text2'></use></svg></label><input id='data-7efbba62-9cc6-458a-a994-47df5dda7bbe' class='xr-var-data-in' type='checkbox'><label for='data-7efbba62-9cc6-458a-a994-47df5dda7bbe' title='Show/Hide data repr'><svg class='icon xr-icon-database'><use xlink:href='#icon-database'></use></svg></label><div class='xr-var-attrs'><dl class='xr-attrs'><dt><span>longname :</span></dt><dd>Patch x-position in pixels (origin at bottom-left corner)</dd><dt><span>units :</span></dt><dd>pixels</dd></dl></div><div class='xr-var-data'><pre>[500000 values with dtype=float32]</pre></div></li><li class='xr-var-item'><div class='xr-var-name'><span>y_patch_pixels</span></div><div class='xr-var-dims'>(particle)</div><div class='xr-var-dtype'>float32</div><div class='xr-var-preview xr-preview'>...</div><input id='attrs-c51828b7-bb79-433d-984a-833c4056a50b' class='xr-var-attrs-in' type='checkbox' ><label for='attrs-c51828b7-bb79-433d-984a-833c4056a50b' title='Show/Hide attributes'><svg class='icon xr-icon-file-text2'><use xlink:href='#icon-file-text2'></use></svg></label><input id='data-7edceb3d-74af-4158-b89b-efbe6944bad7' class='xr-var-data-in' type='checkbox'><label for='data-7edceb3d-74af-4158-b89b-efbe6944bad7' title='Show/Hide data repr'><svg class='icon xr-icon-database'><use xlink:href='#icon-database'></use></svg></label><div class='xr-var-attrs'><dl class='xr-attrs'><dt><span>longname :</span></dt><dd>Patch y-position in pixels (origin at bottom-left corner)</dd><dt><span>units :</span></dt><dd>pixels</dd></dl></div><div class='xr-var-data'><pre>[500000 values with dtype=float32]</pre></div></li><li class='xr-var-item'><div class='xr-var-name'><span>patch</span></div><div class='xr-var-dims'>(patch_number, patch_xsize, patch_ysize)</div><div class='xr-var-dtype'>uint8</div><div class='xr-var-preview xr-preview'>...</div><input id='attrs-83ac94e2-1816-4d0f-b414-89004f02a70d' class='xr-var-attrs-in' type='checkbox' ><label for='attrs-83ac94e2-1816-4d0f-b414-89004f02a70d' title='Show/Hide attributes'><svg class='icon xr-icon-file-text2'><use xlink:href='#icon-file-text2'></use></svg></label><input id='data-d1b039d3-0723-472c-8d4a-06cbf28efb9a' class='xr-var-data-in' type='checkbox'><label for='data-d1b039d3-0723-472c-8d4a-06cbf28efb9a' title='Show/Hide data repr'><svg class='icon xr-icon-database'><use xlink:href='#icon-database'></use></svg></label><div class='xr-var-attrs'><dl class='xr-attrs'><dt><span>longname :</span></dt><dd>Patch image</dd></dl></div><div class='xr-var-data'><pre>[13107200000 values with dtype=uint8]</pre></div></li></ul></div></li><li class='xr-section-item'><input id='section-2e9ca6ed-e413-4577-a321-ffc81d893431' class='xr-section-summary-in' type='checkbox'  ><label for='section-2e9ca6ed-e413-4577-a321-ffc81d893431' class='xr-section-summary' >Attributes: <span>(33)</span></label><div class='xr-section-inline-details'></div><div class='xr-section-details'><dl class='xr-attrs'><dt><span>DateCreated :</span></dt><dd>10-Feb-2021</dd><dt><span>Nx :</span></dt><dd>512.0</dd><dt><span>Ny :</span></dt><dd>512.0</dd><dt><span>dx :</span></dt><dd>2.96e-06</dd><dt><span>dy :</span></dt><dd>2.96e-06</dd><dt><span>lambda :</span></dt><dd>3.55e-07</dd><dt><span>Dpmin :</span></dt><dd>1e-05</dd><dt><span>Dpmax :</span></dt><dd>0.0001</dd><dt><span>zMin :</span></dt><dd>0.014</dd><dt><span>zMax :</span></dt><dd>0.158</dd><dt><span>NParticles :</span></dt><dd>10.0</dd><dt><span>Nbits :</span></dt><dd>8.0</dd><dt><span>ccdelevel :</span></dt><dd>20000.0</dd><dt><span>gainFactor :</span></dt><dd>24.0</dd><dt><span>readNoiseSTD :</span></dt><dd>12.0</dd><dt><span>gaussCornCon :</span></dt><dd>1.0</dd><dt><span>lowPassFiltCutoff :</span></dt><dd>2500.0</dd><dt><span>fracBeamDistort :</span></dt><dd>0.02</dd><dt><span>should_beam :</span></dt><dd>1</dd><dt><span>should_noise :</span></dt><dd>1</dd><dt><span>should_lnoise :</span></dt><dd>0</dd><dt><span>partRelInt :</span></dt><dd>0.5</dd><dt><span>nHolograms :</span></dt><dd>50000.0</dd><dt><span>makeRandParts :</span></dt><dd>1</dd><dt><span>should_random :</span></dt><dd>1</dd><dt><span>should_extend_domain :</span></dt><dd>0</dd><dt><span>superSamplingRate :</span></dt><dd>1.0</dd><dt><span>monodisperse :</span></dt><dd>0.0</dd><dt><span>should_cache :</span></dt><dd>1</dd><dt><span>Nx_patch :</span></dt><dd>128.0</dd><dt><span>Ny_patch :</span></dt><dd>128.0</dd><dt><span>nPatches :</span></dt><dd>800000.0</dd><dt><span>PatchesPerHologram :</span></dt><dd>16.0</dd></dl></div></li></ul></div></div>"
      ],
      "text/plain": [
       "<xarray.Dataset>\n",
       "Dimensions:         (hologram_number: 50000, particle: 500000, patch_number: 800000, patch_xsize: 128, patch_ysize: 128, xsize: 512, ysize: 512)\n",
       "Dimensions without coordinates: hologram_number, particle, patch_number, patch_xsize, patch_ysize, xsize, ysize\n",
       "Data variables: (12/16)\n",
       "    hid             (particle) float32 1.0 1.0 1.0 1.0 ... 5e+04 5e+04 5e+04\n",
       "    d               (particle) float32 36.48 45.38 25.82 ... 32.3 9.01 40.48\n",
       "    x               (particle) float32 253.9 22.78 732.8 ... -616.6 -431.8\n",
       "    y               (particle) float32 708.5 -600.7 552.2 ... 106.1 -190.7 662.5\n",
       "    z               (particle) float32 5.645e+04 1.438e+05 ... 1.419e+05\n",
       "    n0              (particle) float32 ...\n",
       "    ...              ...\n",
       "    x_pixels        (particle) float32 ...\n",
       "    y_pixels        (particle) float32 ...\n",
       "    pid             (particle) float32 ...\n",
       "    x_patch_pixels  (particle) float32 ...\n",
       "    y_patch_pixels  (particle) float32 ...\n",
       "    patch           (patch_number, patch_xsize, patch_ysize) uint8 ...\n",
       "Attributes: (12/33)\n",
       "    DateCreated:           10-Feb-2021\n",
       "    Nx:                    512.0\n",
       "    Ny:                    512.0\n",
       "    dx:                    2.96e-06\n",
       "    dy:                    2.96e-06\n",
       "    lambda:                3.55e-07\n",
       "    ...                    ...\n",
       "    monodisperse:          0.0\n",
       "    should_cache:          1\n",
       "    Nx_patch:              128.0\n",
       "    Ny_patch:              128.0\n",
       "    nPatches:              800000.0\n",
       "    PatchesPerHologram:    16.0"
      ]
     },
     "execution_count": 108,
     "metadata": {},
     "output_type": "execute_result"
    }
   ],
   "source": [
    "h_ds"
   ]
  },
  {
   "cell_type": "code",
   "execution_count": null,
   "id": "eight-spending",
   "metadata": {},
   "outputs": [],
   "source": []
  }
 ],
 "metadata": {
  "kernelspec": {
   "display_name": "Python [conda env:miniconda3-ml-torch]",
   "language": "python",
   "name": "conda-env-miniconda3-ml-torch-py"
  },
  "language_info": {
   "codemirror_mode": {
    "name": "ipython",
    "version": 3
   },
   "file_extension": ".py",
   "mimetype": "text/x-python",
   "name": "python",
   "nbconvert_exporter": "python",
   "pygments_lexer": "ipython3",
   "version": "3.7.10"
  }
 },
 "nbformat": 4,
 "nbformat_minor": 5
}
