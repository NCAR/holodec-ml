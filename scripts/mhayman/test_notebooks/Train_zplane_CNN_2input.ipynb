{
 "cells": [
  {
   "cell_type": "code",
   "execution_count": 1,
   "id": "decent-manitoba",
   "metadata": {},
   "outputs": [],
   "source": [
    "import warnings\n",
    "warnings.filterwarnings(\"ignore\")\n",
    "\n",
    "import sys,os\n",
    "\n",
    "import numpy as np\n",
    "import matplotlib.pyplot as plt\n",
    "\n",
    "import glob\n",
    "import xarray as xr\n",
    "import datetime"
   ]
  },
  {
   "cell_type": "code",
   "execution_count": 2,
   "id": "dutch-roulette",
   "metadata": {},
   "outputs": [],
   "source": [
    "# import yaml\n",
    "import tqdm\n",
    "import torch\n",
    "import pickle\n",
    "import logging\n",
    "import random\n",
    "\n",
    "from typing import List, Dict, Callable, Union, Any, TypeVar, Tuple\n",
    "# from multiprocessing import cpu_count\n",
    "\n",
    "\n",
    "import torch\n",
    "import torch.fft\n",
    "from torch import nn\n",
    "\n",
    "import torch.nn.functional as F\n",
    "\n",
    "# from torchvision.utils import save_image\n",
    "from torch.utils.data import Dataset, DataLoader, TensorDataset\n",
    "from torch.optim.lr_scheduler import ReduceLROnPlateau"
   ]
  },
  {
   "cell_type": "code",
   "execution_count": 3,
   "id": "mineral-mirror",
   "metadata": {},
   "outputs": [
    {
     "name": "stdout",
     "output_type": "stream",
     "text": [
      "Preparing to use device cuda:0\n"
     ]
    }
   ],
   "source": [
    "is_cuda = torch.cuda.is_available()\n",
    "device = torch.device(torch.cuda.current_device()) if is_cuda else torch.device(\"cpu\")\n",
    "\n",
    "if is_cuda:\n",
    "    torch.backends.cudnn.benchmark = True\n",
    "\n",
    "print(f'Preparing to use device {device}')"
   ]
  },
  {
   "cell_type": "code",
   "execution_count": 4,
   "id": "sorted-relaxation",
   "metadata": {},
   "outputs": [],
   "source": [
    "dtype = torch.complex64  # fft required data type"
   ]
  },
  {
   "cell_type": "code",
   "execution_count": 5,
   "id": "inner-reception",
   "metadata": {},
   "outputs": [],
   "source": [
    "def torch_holo_set(Ein:torch.tensor,fx:torch.tensor,fy:torch.tensor,z_tnsr:torch.tensor,lam:float):\n",
    "    \"\"\"\n",
    "    Propagates an electric field a distance z\n",
    "    Ein complex torch.tensor\n",
    "    - input electric field\n",
    "    \n",
    "    fx:real torch.tensor\n",
    "    - x frequency axis (3D, setup to broadcast)\n",
    "    \n",
    "    fy: real torch.tensor\n",
    "    - y frequency axis (3D, setup to broadcast)\n",
    "    \n",
    "    z_tnsr: torch.tensor\n",
    "    - tensor of distances to propagate the wave Ein\n",
    "        expected to have dims (Nz,1,1) where Nz is the number of z\n",
    "        dimensions\n",
    "    \n",
    "    lam: float\n",
    "    - wavelength\n",
    "    \n",
    "    returns: complex torch.tensor with dims (Nz,fy,fx)\n",
    "    \n",
    "    Note the torch.fft library uses dtype=torch.complex64\n",
    "    This may be an issue for GPU implementation\n",
    "    \n",
    "    \"\"\"\n",
    "    Etfft = torch.fft.fft2(Ein)\n",
    "#     Eofft = Etfft*torch.cos(2*np.pi*z_tnsr/lam*torch.sqrt(1-lam**2*(fx**2+fy**2)))\n",
    "    Eofft = Etfft*torch.exp(1j*2*np.pi*z_tnsr/lam*torch.sqrt(1-lam**2*(fx**2+fy**2)))\n",
    "    \n",
    "    # It might be helpful if we could omit this step.  It would save an inverse fft.\n",
    "    Eout = torch.fft.ifft2(Eofft)\n",
    "    \n",
    "    return Eout"
   ]
  },
  {
   "cell_type": "markdown",
   "id": "destroyed-measurement",
   "metadata": {},
   "source": [
    "# Pick the Dataset"
   ]
  },
  {
   "cell_type": "code",
   "execution_count": 6,
   "id": "damaged-sentence",
   "metadata": {},
   "outputs": [],
   "source": [
    "data_dir = '/glade/p/cisl/aiml/ai4ess_hackathon/holodec/'"
   ]
  },
  {
   "cell_type": "code",
   "execution_count": 7,
   "id": "advance-ethernet",
   "metadata": {},
   "outputs": [
    {
     "name": "stdout",
     "output_type": "stream",
     "text": [
      "0.) synthetic_holograms_7particle_gamma_600x400_training.nc\n",
      "1.) synthetic_holograms_10particle_gamma_512x512_validation_patches128x128.nc\n",
      "2.) synthetic_holograms_50-100particle_bidisperse_test.nc\n",
      "3.) synthetic_holograms_multiparticle_validation.nc\n",
      "4.) synthetic_holograms_1particle_training_small.nc\n",
      "5.) synthetic_holograms_6particle_gamma_600x400_test.nc\n",
      "6.) synthetic_holograms_multiparticle_training.nc\n",
      "7.) synthetic_holograms_50-100particle_gamma_private.nc\n",
      "8.) synthetic_holograms_12-25particle_gamma_600x400_validation.nc\n",
      "9.) synthetic_holograms_6particle_gamma_600x400_training.nc\n",
      "10.) synthetic_holograms_50-100particle_gamma_training.nc\n",
      "11.) synthetic_holograms_1particle_gamma_600x400_training.nc\n",
      "12.) synthetic_holograms_4particle_gamma_600x400_validation.nc\n",
      "13.) synthetic_holograms_3particle_validation.nc\n",
      "14.) synthetic_holograms_10particle_gamma_600x400_test.nc\n",
      "15.) synthetic_holograms_1particle_gamma_600x400_validation.nc\n",
      "16.) synthetic_holograms_10particle_gamma_600x400_training.nc\n",
      "17.) synthetic_holograms_50-100particle_bidisperse_training.nc\n",
      "18.) synthetic_holograms_7particle_gamma_600x400_validation.nc\n",
      "19.) synthetic_holograms_2particle_gamma_600x400_validation.nc\n",
      "20.) synthetic_holograms_9particle_gamma_600x400_training.nc\n",
      "21.) synthetic_holograms_5particle_gamma_600x400_validation.nc\n",
      "22.) synthetic_holograms_12-25particle_gamma_600x400_test.nc\n",
      "23.) synthetic_holograms_4particle_gamma_600x400_training.nc\n",
      "24.) synthetic_holograms_1particle_test.nc\n",
      "25.) synthetic_holograms_10particle_gamma_600x400_validation.nc\n",
      "26.) synthetic_holograms_2particle_gamma_600x400_test.nc\n",
      "27.) synthetic_holograms_3particle_gamma_600x400_training.nc\n",
      "28.) real_holograms_CSET_RF07_20150719_203600-203700.nc\n",
      "29.) synthetic_holograms_1particle_validation.nc\n",
      "30.) synthetic_holograms_10particle_gamma_512x512_training_patches128x128.nc\n",
      "31.) synthetic_holograms_4particle_gamma_600x400_test.nc\n",
      "32.) synthetic_holograms_8particle_gamma_600x400_test.nc\n",
      "33.) synthetic_holograms_1particle_test_small.nc\n",
      "34.) synthetic_holograms_12-25particle_gamma_600x400_training.nc\n",
      "35.) synthetic_holograms_3particle_gamma_600x400_test.nc\n",
      "36.) synthetic_holograms_8particle_gamma_600x400_validation.nc\n",
      "37.) synthetic_holograms_50-100particle_bidisperse_validation.nc\n",
      "38.) synthetic_holograms_3particle_gamma_600x400_validation.nc\n",
      "39.) synthetic_holograms_50-100particle_gamma_validation.nc\n",
      "40.) synthetic_holograms_1particle_training.nc\n",
      "41.) synthetic_holograms_5particle_gamma_600x400_training.nc\n",
      "42.) synthetic_holograms_8particle_gamma_600x400_training.nc\n",
      "43.) synthetic_holograms_50-100particle_monodisperse_test.nc\n",
      "44.) synthetic_holograms_5particle_gamma_600x400_test.nc\n",
      "45.) synthetic_holograms_7particle_gamma_600x400_test.nc\n",
      "46.) synthetic_holograms_9particle_gamma_600x400_test.nc\n",
      "47.) synthetic_holograms_10particle_gamma_512x512_test_patches128x128.nc\n",
      "48.) synthetic_holograms_2particle_gamma_600x400_training.nc\n",
      "49.) synthetic_holograms_3particle_test.nc\n",
      "50.) synthetic_holograms_1particle_gamma_600x400_test.nc\n",
      "51.) real_holograms_CSET_RF07_20150719_200000-210000.nc\n",
      "52.) synthetic_holograms_50-100particle_monodisperse_training.nc\n",
      "53.) synthetic_holograms_3particle_training.nc\n",
      "54.) synthetic_holograms_50-100particle_gamma_test.nc\n",
      "55.) synthetic_holograms_9particle_gamma_600x400_validation.nc\n",
      "56.) synthetic_holograms_multiparticle_test.nc\n",
      "57.) synthetic_holograms_50-100particle_monodisperse_validation.nc\n",
      "58.) synthetic_holograms_6particle_gamma_600x400_validation.nc\n"
     ]
    }
   ],
   "source": [
    "file_list = glob.glob(data_dir+'*.nc')\n",
    "for f_idx,file in enumerate(file_list):\n",
    "    print(f'{f_idx}.) '+file.split('/')[-1])"
   ]
  },
  {
   "cell_type": "code",
   "execution_count": 8,
   "id": "unexpected-franchise",
   "metadata": {},
   "outputs": [],
   "source": [
    "f_sel = 40\n",
    "dataFile = file_list[f_sel]"
   ]
  },
  {
   "cell_type": "code",
   "execution_count": 9,
   "id": "domestic-clearance",
   "metadata": {},
   "outputs": [],
   "source": [
    "h_ds = xr.open_dataset(dataFile)"
   ]
  },
  {
   "cell_type": "markdown",
   "id": "premium-border",
   "metadata": {},
   "source": [
    "# Build Histogram For Labels"
   ]
  },
  {
   "cell_type": "code",
   "execution_count": 10,
   "id": "pressed-fruit",
   "metadata": {},
   "outputs": [],
   "source": [
    "n_bins = 100  # number of bins in histogram\n",
    "n_holograms = 1000  # number of holograms to use in data set\n",
    "z_bins = np.linspace(h_ds.attrs['zMin'],h_ds.attrs['zMax'],n_bins)*1e6  # histogram bin edges\n",
    "z_centers = z_bins[:-1] + 0.5*np.diff(z_bins)  # histogram bin centers\n",
    "hologram_slice = slice(None,2*n_holograms)"
   ]
  },
  {
   "cell_type": "code",
   "execution_count": 11,
   "id": "automatic-photography",
   "metadata": {},
   "outputs": [],
   "source": [
    "histogram_lst = []\n",
    "for holo_idx in h_ds['hologram_number'].values[hologram_slice]:\n",
    "    hist_tpl = np.histogram(h_ds['z'].values[np.where(h_ds['hid'].values==holo_idx+1)],bins=z_bins)\n",
    "    histogram_lst.append(hist_tpl[0])"
   ]
  },
  {
   "cell_type": "code",
   "execution_count": 12,
   "id": "nominated-revelation",
   "metadata": {},
   "outputs": [
    {
     "data": {
      "text/plain": [
       "Text(0.5, 0, 'z position [$\\\\mu m$]')"
      ]
     },
     "execution_count": 12,
     "metadata": {},
     "output_type": "execute_result"
    },
    {
     "data": {
      "image/png": "[encoded data removed]",
      "text/plain": [
       "<Figure size 432x288 with 1 Axes>"
      ]
     },
     "metadata": {
      "needs_background": "light"
     },
     "output_type": "display_data"
    }
   ],
   "source": [
    "# confirm histogram and particle data are aligned\n",
    "plt.figure()\n",
    "plt.plot(h_ds['z'].values[np.where(h_ds['hid'].values==holo_idx+1)],np.ones(h_ds['z'].values[np.where(h_ds['hid'].values==holo_idx+1)].shape),'o')\n",
    "plt.plot(z_centers,histogram_lst[holo_idx])\n",
    "plt.xlabel('z position [$\\mu m$]')"
   ]
  },
  {
   "cell_type": "code",
   "execution_count": 13,
   "id": "infectious-custody",
   "metadata": {},
   "outputs": [],
   "source": [
    "histogram_arr = np.stack(histogram_lst,axis=0)\n",
    "train_histogram_bin_arr = (histogram_arr[:n_holograms,:]>0).astype(float)\n",
    "valid_histogram_bin_arr = (histogram_arr[n_holograms:,:]>0).astype(float)"
   ]
  },
  {
   "cell_type": "code",
   "execution_count": 14,
   "id": "physical-receipt",
   "metadata": {},
   "outputs": [
    {
     "data": {
      "text/plain": [
       "<matplotlib.image.AxesImage at 0x2b7357ec7f90>"
      ]
     },
     "execution_count": 14,
     "metadata": {},
     "output_type": "execute_result"
    },
    {
     "data": {
      "image/png": "[encoded data removed]",
      "text/plain": [
       "<Figure size 432x288 with 1 Axes>"
      ]
     },
     "metadata": {
      "needs_background": "light"
     },
     "output_type": "display_data"
    },
    {
     "data": {
      "image/png": "[encoded data removed]",
      "text/plain": [
       "<Figure size 432x288 with 1 Axes>"
      ]
     },
     "metadata": {
      "needs_background": "light"
     },
     "output_type": "display_data"
    }
   ],
   "source": [
    "plt.figure()\n",
    "plt.imshow(histogram_arr[0:100,:])\n",
    "plt.figure()\n",
    "plt.imshow(train_histogram_bin_arr[0:100,:])"
   ]
  },
  {
   "cell_type": "markdown",
   "id": "reported-region",
   "metadata": {},
   "source": [
    "# Build Reconstructed Plane Inputs"
   ]
  },
  {
   "cell_type": "code",
   "execution_count": 15,
   "id": "incredible-struggle",
   "metadata": {},
   "outputs": [],
   "source": [
    "dx = h_ds.attrs['dx']      # horizontal resolution\n",
    "dy = h_ds.attrs['dy']      # vertical resolution\n",
    "Nx = int(h_ds.attrs['Nx']) # number of horizontal pixels\n",
    "Ny = int(h_ds.attrs['Ny']) # number of vertical pixels\n",
    "lam = h_ds.attrs['lambda'] # wavelength\n",
    "zMin = h_ds.attrs['zMin']  # minimum z in sample volume\n",
    "zMax = h_ds.attrs['zMax']  # maximum z in sample volume\n",
    "zCCD = 0                   # z position of the image plane\n",
    "num_per_holo = 1\n",
    "image_norm = 255.0"
   ]
  },
  {
   "cell_type": "code",
   "execution_count": 16,
   "id": "occupied-vegetable",
   "metadata": {},
   "outputs": [],
   "source": [
    "x_arr = np.arange(-Nx//2,Nx//2)*dx\n",
    "y_arr = np.arange(-Ny//2,Ny//2)*dy"
   ]
  },
  {
   "cell_type": "code",
   "execution_count": 17,
   "id": "integral-secretariat",
   "metadata": {},
   "outputs": [],
   "source": [
    "fx = torch.fft.fftfreq(Nx,dx,device=device)[None,:,None]\n",
    "fy = torch.fft.fftfreq(Ny,dy,device=device)[None,None,:]\n",
    "z_rec = torch.tensor(z_centers*1e-6,device=device)[:,None,None]"
   ]
  },
  {
   "cell_type": "markdown",
   "id": "clinical-liberty",
   "metadata": {},
   "source": [
    "Test Reconstruction Assumptions"
   ]
  },
  {
   "cell_type": "code",
   "execution_count": 18,
   "id": "sustainable-petersburg",
   "metadata": {},
   "outputs": [
    {
     "name": "stdout",
     "output_type": "stream",
     "text": [
      "(1, 600, 400)\n",
      "(600,)\n",
      "(400,)\n"
     ]
    },
    {
     "data": {
      "image/png": "[encoded data removed]",
      "text/plain": [
       "<Figure size 432x216 with 2 Axes>"
      ]
     },
     "metadata": {
      "needs_background": "light"
     },
     "output_type": "display_data"
    }
   ],
   "source": [
    "holo_idx = 0\n",
    "p_idx = np.where(h_ds['hid'].values==holo_idx+1)[0]\n",
    "xp = h_ds['x'].values[p_idx]\n",
    "yp = h_ds['y'].values[p_idx]\n",
    "zp = h_ds['z'].values[p_idx]\n",
    "dp = h_ds['d'].values[p_idx]\n",
    "z_plane = torch.tensor(zp*1e-6,device=device)[:,None,None]\n",
    "E_input = torch.tensor(h_ds['image'].isel(hologram_number=holo_idx).values,device=device,dtype=dtype)[None,:,:] \n",
    "Eres = torch_holo_set(E_input,fx,fy,z_plane,lam).detach().cpu().numpy()\n",
    "\n",
    "print(Eres.shape)\n",
    "print(x_arr.shape)\n",
    "print(y_arr.shape)\n",
    "\n",
    "for idx,z in enumerate(zp):\n",
    "    fig,ax = plt.subplots(1,2,figsize=(6,3))\n",
    "    ax[0].pcolormesh(y_arr,x_arr,np.abs(Eres[idx,:,:]))\n",
    "    ax[0].scatter(yp[idx]*1e-6,xp[idx]*1e-6,c='r',s=2,alpha=0.3)\n",
    "    ax[0].set_title('z=%f $mm$, d=%f $\\mu m$'%(z*1e-3,dp[idx]))\n",
    "    ax[1].pcolormesh(y_arr,x_arr,np.angle(Eres[idx,:,:]))\n",
    "    ax[1].scatter(yp[idx]*1e-6,xp[idx]*1e-6,c='r',s=2,alpha=0.3)"
   ]
  },
  {
   "cell_type": "code",
   "execution_count": 19,
   "id": "concrete-mambo",
   "metadata": {},
   "outputs": [],
   "source": [
    "Eset1 = []\n",
    "Eset2 = []\n",
    "histset = []\n",
    "start_time = datetime.datetime.now()\n",
    "for holo_idx in range(2*n_holograms):\n",
    "    part_idx = np.where(histogram_arr[holo_idx,:] > 0)[0]\n",
    "    empt_idx = np.where(histogram_arr[holo_idx,:] == 0)[0]\n",
    "    set_part = np.random.choice(part_idx, num_per_holo ,replace=False)\n",
    "    set_empt = np.random.choice(empt_idx, num_per_holo ,replace=False)\n",
    "    z_rec_sub = torch.tensor(1e-6*z_centers[np.concatenate([set_part,set_empt])],device=device)[:,None,None]\n",
    "    image_in = h_ds['image'].isel(hologram_number=holo_idx).values\n",
    "    image_in = image_in/image_in.max()\n",
    "    E_input = torch.tensor(image_in,device=device,dtype=dtype)[None,:,:] \n",
    "    Eres = torch_holo_set(E_input,fx,fy,z_rec_sub,lam).detach().cpu()\n",
    "#     Eset.append(torch.stack([Eres.real,Eres.imag],dim=1))\n",
    "    Eset1.append(Eres[:,None,:,:].abs())\n",
    "    Eset2.append(Eres[:,None,:,:].angle())\n",
    "    histset.append(histogram_arr[holo_idx,np.concatenate([set_part,set_empt])])\n",
    "\n",
    "#     # Include All Reconstructions\n",
    "#     E_input = torch.tensor(h_ds['image'].isel(hologram_number=holo_idx).values,device=device,dtype=dtype)[None,:,:] \n",
    "#     Eres = torch_holo_set(E_input,fx,fy,z_rec,lam).detach().cpu()\n",
    "#     Eset.append(torch.stack([Eres.abs(),Eres.angle()],dim=1))\n",
    "#     # Eset.append(torch.stack([Eres.real,Eres.imag],dim=1))\n",
    "\n",
    "\n",
    "end_time = datetime.datetime.now()"
   ]
  },
  {
   "cell_type": "code",
   "execution_count": 20,
   "id": "failing-punch",
   "metadata": {},
   "outputs": [
    {
     "name": "stdout",
     "output_type": "stream",
     "text": [
      "executed 4000 planes in 38.43879 seconds\n",
      " for 0.0096096975 seconds per plane\n"
     ]
    }
   ],
   "source": [
    "exec_time = end_time-start_time\n",
    "print(f'executed {2*num_per_holo*len(Eset1)} planes in {exec_time.total_seconds()} seconds')\n",
    "print(f' for {exec_time.total_seconds()/(2*num_per_holo*len(Eset1))} seconds per plane')\n",
    "\n",
    "# exec_time = end_time-start_time\n",
    "# print(f'executed {z_centers.size*len(Eset)} planes in {exec_time.total_seconds()} seconds')\n",
    "# print(f' for {exec_time.total_seconds()/(z_centers.size*len(Eset))} seconds per plane')"
   ]
  },
  {
   "cell_type": "code",
   "execution_count": 21,
   "id": "increased-marathon",
   "metadata": {},
   "outputs": [],
   "source": [
    "idx_arr = np.arange(len(Eset1)).astype(int)\n",
    "train_idx = np.random.choice(idx_arr, idx_arr[-1]//2 ,replace=False)\n",
    "valid_idx = np.delete(idx_arr,train_idx)"
   ]
  },
  {
   "cell_type": "code",
   "execution_count": 22,
   "id": "superior-diagram",
   "metadata": {},
   "outputs": [],
   "source": [
    "train_inputs1 = torch.cat(Eset1,dim=0)[train_idx,:,:,:]\n",
    "valid_inputs1 = torch.cat(Eset1,dim=0)[valid_idx,:,:,:]\n",
    "train_inputs2 = torch.cat(Eset2,dim=0)[train_idx,:,:,:]/np.pi\n",
    "valid_inputs2 = torch.cat(Eset2,dim=0)[valid_idx,:,:,:]/np.pi"
   ]
  },
  {
   "cell_type": "code",
   "execution_count": 23,
   "id": "announced-conclusion",
   "metadata": {},
   "outputs": [],
   "source": [
    "hist_labels = np.concatenate(histset)"
   ]
  },
  {
   "cell_type": "code",
   "execution_count": 24,
   "id": "pending-blowing",
   "metadata": {},
   "outputs": [
    {
     "data": {
      "text/plain": [
       "<matplotlib.collections.QuadMesh at 0x2b7358b8d210>"
      ]
     },
     "execution_count": 24,
     "metadata": {},
     "output_type": "execute_result"
    },
    {
     "data": {
      "image/png": "[encoded data removed]",
      "text/plain": [
       "<Figure size 432x216 with 2 Axes>"
      ]
     },
     "metadata": {
      "needs_background": "light"
     },
     "output_type": "display_data"
    },
    {
     "data": {
      "image/png": "[encoded data removed]",
      "text/plain": [
       "<Figure size 432x216 with 2 Axes>"
      ]
     },
     "metadata": {
      "needs_background": "light"
     },
     "output_type": "display_data"
    }
   ],
   "source": [
    "idx = np.where(hist_labels[train_idx]>0)[0][84]\n",
    "fig,ax = plt.subplots(1,2,figsize=(6,3))\n",
    "ax[0].pcolormesh(y_arr,x_arr,train_inputs1[idx,0,:,:])\n",
    "ax[1].pcolormesh(y_arr,x_arr,train_inputs2[idx,0,:,:])\n",
    "\n",
    "\n",
    "idx = np.where(hist_labels[valid_idx]>0)[0][4]\n",
    "fig,ax = plt.subplots(1,2,figsize=(6,3))\n",
    "ax[0].pcolormesh(y_arr,x_arr,valid_inputs1[idx,0,:,:])\n",
    "ax[1].pcolormesh(y_arr,x_arr,valid_inputs2[idx,0,:,:])"
   ]
  },
  {
   "cell_type": "code",
   "execution_count": 25,
   "id": "damaged-construction",
   "metadata": {},
   "outputs": [
    {
     "data": {
      "text/plain": [
       "tensor(1.1463, dtype=torch.float64)"
      ]
     },
     "execution_count": 25,
     "metadata": {},
     "output_type": "execute_result"
    }
   ],
   "source": [
    "train_inputs1.max()"
   ]
  },
  {
   "cell_type": "markdown",
   "id": "retired-governor",
   "metadata": {},
   "source": [
    "# Build Model"
   ]
  },
  {
   "cell_type": "code",
   "execution_count": 26,
   "id": "concrete-cookbook",
   "metadata": {},
   "outputs": [],
   "source": [
    "epochs = 300\n",
    "optimizer_type = \"adam\"\n",
    "learning_rate = 1e-8\n",
    "batch_size = 2\n",
    "dtype = torch.float"
   ]
  },
  {
   "cell_type": "code",
   "execution_count": 27,
   "id": "contrary-pricing",
   "metadata": {},
   "outputs": [],
   "source": [
    "# train_labels = torch.tensor(train_histogram_bin_arr.reshape(-1,1),dtype=dtype)\n",
    "# valid_labels = torch.tensor(valid_histogram_bin_arr.reshape(-1,1),dtype=dtype)\n",
    "\n",
    "# ### TODO ###\n",
    "train_labels = torch.tensor(hist_labels[train_idx],dtype=dtype)[:,None]\n",
    "valid_labels = torch.tensor(hist_labels[valid_idx],dtype=dtype)[:,None]"
   ]
  },
  {
   "cell_type": "code",
   "execution_count": 28,
   "id": "peaceful-establishment",
   "metadata": {},
   "outputs": [
    {
     "data": {
      "text/plain": [
       "torch.Size([999, 1])"
      ]
     },
     "execution_count": 28,
     "metadata": {},
     "output_type": "execute_result"
    }
   ],
   "source": [
    "train_labels.shape"
   ]
  },
  {
   "cell_type": "code",
   "execution_count": 29,
   "id": "atlantic-track",
   "metadata": {},
   "outputs": [],
   "source": [
    "# loss_fn = nn.CrossEntropyLoss()\n",
    "loss_fn = nn.BCELoss()"
   ]
  },
  {
   "cell_type": "code",
   "execution_count": 30,
   "id": "expected-joyce",
   "metadata": {},
   "outputs": [
    {
     "name": "stdout",
     "output_type": "stream",
     "text": [
      "torch.Size([1, 600, 400])\n",
      "torch.Size([1])\n"
     ]
    }
   ],
   "source": [
    "input_shape = train_inputs1.shape[1:]\n",
    "output_shape = train_labels.shape[1:]\n",
    "print(input_shape)\n",
    "print(output_shape)"
   ]
  },
  {
   "cell_type": "code",
   "execution_count": 31,
   "id": "destroyed-mattress",
   "metadata": {},
   "outputs": [],
   "source": [
    "# ResNet 50 notebook : /glade/work/schreck/repos/goes16ci/gunther_notebook/latest.ipynb\n",
    "\n",
    "class z_plane_histogram_cnn(nn.Module):\n",
    "    def __init__(self):\n",
    "        super().__init__()\n",
    "        self.conv11 = nn.Conv2d(1, 32, 7)\n",
    "        self.conv12 = nn.Conv2d(32, 64, 7)\n",
    "        \n",
    "        self.conv21 = nn.Conv2d(1, 32, 7)\n",
    "        self.conv22 = nn.Conv2d(32, 64, 7)\n",
    "        \n",
    "        self.pool = nn.MaxPool2d(4, 4)\n",
    "        \n",
    "        self.fc1 = nn.Linear(2*64*35*23, 120)\n",
    "        self.fc2 = nn.Linear(120, 1)\n",
    "#         self.fc3 = nn.Linear(84, 1)\n",
    "\n",
    "    def forward(self, x1, x2):\n",
    "        x1 = self.pool(F.relu(self.conv11(x1)))\n",
    "        x1 = self.pool(F.relu(self.conv12(x1)))\n",
    "        \n",
    "        x2 = self.pool(F.relu(self.conv21(x2)))\n",
    "        x2 = self.pool(F.relu(self.conv22(x2)))\n",
    "#         print(x1.shape)\n",
    "        x = torch.cat([torch.flatten(x1,1),torch.flatten(x2,1)],dim=1)\n",
    "#         print(x.shape)\n",
    "#         x = torch.flatten(x, 1) # flatten all dimensions except batch\n",
    "        x = F.relu(self.fc1(x))\n",
    "        x = F.sigmoid(self.fc2(x))\n",
    "#         x = F.sigmoid(self.fc3(x))\n",
    "        return x\n",
    "    \n"
   ]
  },
  {
   "cell_type": "code",
   "execution_count": 32,
   "id": "metallic-radius",
   "metadata": {},
   "outputs": [
    {
     "data": {
      "text/plain": [
       "z_plane_histogram_cnn(\n",
       "  (conv11): Conv2d(1, 32, kernel_size=(7, 7), stride=(1, 1))\n",
       "  (conv12): Conv2d(32, 64, kernel_size=(7, 7), stride=(1, 1))\n",
       "  (conv21): Conv2d(1, 32, kernel_size=(7, 7), stride=(1, 1))\n",
       "  (conv22): Conv2d(32, 64, kernel_size=(7, 7), stride=(1, 1))\n",
       "  (pool): MaxPool2d(kernel_size=4, stride=4, padding=0, dilation=1, ceil_mode=False)\n",
       "  (fc1): Linear(in_features=103040, out_features=120, bias=True)\n",
       "  (fc2): Linear(in_features=120, out_features=1, bias=True)\n",
       ")"
      ]
     },
     "execution_count": 32,
     "metadata": {},
     "output_type": "execute_result"
    }
   ],
   "source": [
    "cnn_model = z_plane_histogram_cnn()\n",
    "cnn_model.to(device)"
   ]
  },
  {
   "cell_type": "code",
   "execution_count": 33,
   "id": "flexible-lebanon",
   "metadata": {},
   "outputs": [],
   "source": [
    "if optimizer_type == \"adam\":\n",
    "    optimizer = torch.optim.Adam(cnn_model.parameters(), lr=learning_rate)\n",
    "elif optimizer_type == \"sgd\":\n",
    "    optimizer = torch.optim.SGD(cnn_model.parameters(), lr=learning_rate)\n",
    "else:\n",
    "    logging.warning(\n",
    "        f\"Optimzer type {optimizer_type} is unknown. Exiting with error.\"\n",
    "    )"
   ]
  },
  {
   "cell_type": "code",
   "execution_count": 34,
   "id": "potential-emperor",
   "metadata": {},
   "outputs": [],
   "source": [
    "train_ds = TensorDataset(train_inputs1.float().to(device), train_inputs2.float().to(device), train_labels.float().to(device))\n",
    "train_dl = DataLoader(train_ds, batch_size=batch_size,shuffle=True)\n",
    "\n",
    "valid_ds = TensorDataset(valid_inputs1.float().to(device), valid_inputs2.float().to(device), valid_labels.float().to(device))\n",
    "valid_dl = DataLoader(valid_ds, batch_size=batch_size)"
   ]
  },
  {
   "cell_type": "code",
   "execution_count": 35,
   "id": "demanding-setup",
   "metadata": {},
   "outputs": [],
   "source": [
    "train_loss_hist = []\n",
    "valid_loss_hist = []"
   ]
  },
  {
   "cell_type": "code",
   "execution_count": 83,
   "id": "chicken-vocabulary",
   "metadata": {},
   "outputs": [],
   "source": [
    "epochs=500"
   ]
  },
  {
   "cell_type": "code",
   "execution_count": 36,
   "id": "environmental-twenty",
   "metadata": {},
   "outputs": [
    {
     "name": "stderr",
     "output_type": "stream",
     "text": [
      "100%|██████████| 500/500 [00:05<00:00, 99.50it/s] \n",
      "  2%|▏         | 12/500 [00:00<00:04, 109.98it/s]"
     ]
    },
    {
     "name": "stdout",
     "output_type": "stream",
     "text": [
      "0 0.6932831318378448 0.6932126957023453\n"
     ]
    },
    {
     "name": "stderr",
     "output_type": "stream",
     "text": [
      "100%|██████████| 500/500 [00:04<00:00, 105.63it/s]\n",
      "  2%|▏         | 12/500 [00:00<00:04, 110.04it/s]"
     ]
    },
    {
     "name": "stdout",
     "output_type": "stream",
     "text": [
      "1 0.6932455726861954 0.6931808989442989\n"
     ]
    },
    {
     "name": "stderr",
     "output_type": "stream",
     "text": [
      "100%|██████████| 500/500 [00:04<00:00, 105.55it/s]\n",
      "  2%|▏         | 12/500 [00:00<00:04, 109.94it/s]"
     ]
    },
    {
     "name": "stdout",
     "output_type": "stream",
     "text": [
      "2 0.693194452881813 0.6931194983080714\n"
     ]
    },
    {
     "name": "stderr",
     "output_type": "stream",
     "text": [
      "100%|██████████| 500/500 [00:04<00:00, 105.60it/s]\n",
      "  2%|▏         | 12/500 [00:00<00:04, 109.96it/s]"
     ]
    },
    {
     "name": "stdout",
     "output_type": "stream",
     "text": [
      "3 0.6931000119447708 0.6930548692653755\n"
     ]
    },
    {
     "name": "stderr",
     "output_type": "stream",
     "text": [
      "100%|██████████| 500/500 [00:04<00:00, 105.55it/s]\n",
      "  2%|▏         | 12/500 [00:00<00:04, 109.85it/s]"
     ]
    },
    {
     "name": "stdout",
     "output_type": "stream",
     "text": [
      "4 0.6930671514272689 0.6930256917805016\n"
     ]
    },
    {
     "name": "stderr",
     "output_type": "stream",
     "text": [
      "100%|██████████| 500/500 [00:04<00:00, 105.85it/s]\n",
      "  2%|▏         | 12/500 [00:00<00:04, 110.05it/s]"
     ]
    },
    {
     "name": "stdout",
     "output_type": "stream",
     "text": [
      "5 0.6930091527700424 0.6929842707163797\n"
     ]
    },
    {
     "name": "stderr",
     "output_type": "stream",
     "text": [
      "100%|██████████| 500/500 [00:04<00:00, 105.63it/s]\n",
      "  2%|▏         | 12/500 [00:00<00:04, 110.30it/s]"
     ]
    },
    {
     "name": "stdout",
     "output_type": "stream",
     "text": [
      "6 0.6929427968263626 0.692941509559007\n"
     ]
    },
    {
     "name": "stderr",
     "output_type": "stream",
     "text": [
      "100%|██████████| 500/500 [00:04<00:00, 105.92it/s]\n",
      "  2%|▏         | 12/500 [00:00<00:04, 110.11it/s]"
     ]
    },
    {
     "name": "stdout",
     "output_type": "stream",
     "text": [
      "7 0.6928913186788559 0.6929161087005676\n"
     ]
    },
    {
     "name": "stderr",
     "output_type": "stream",
     "text": [
      "100%|██████████| 500/500 [00:04<00:00, 105.79it/s]\n",
      "  2%|▏         | 12/500 [00:00<00:04, 109.88it/s]"
     ]
    },
    {
     "name": "stdout",
     "output_type": "stream",
     "text": [
      "8 0.6928407261371613 0.6928910124087762\n"
     ]
    },
    {
     "name": "stderr",
     "output_type": "stream",
     "text": [
      "100%|██████████| 500/500 [00:04<00:00, 105.75it/s]\n",
      "  2%|▏         | 12/500 [00:00<00:04, 109.78it/s]"
     ]
    },
    {
     "name": "stdout",
     "output_type": "stream",
     "text": [
      "9 0.6928519557714462 0.6928500177379616\n"
     ]
    },
    {
     "name": "stderr",
     "output_type": "stream",
     "text": [
      "100%|██████████| 500/500 [00:04<00:00, 105.58it/s]\n",
      "  2%|▏         | 12/500 [00:00<00:04, 109.94it/s]"
     ]
    },
    {
     "name": "stdout",
     "output_type": "stream",
     "text": [
      "10 0.6927931747436523 0.6928279061993201\n"
     ]
    },
    {
     "name": "stderr",
     "output_type": "stream",
     "text": [
      "100%|██████████| 500/500 [00:04<00:00, 105.66it/s]\n",
      "  2%|▏         | 12/500 [00:00<00:04, 110.07it/s]"
     ]
    },
    {
     "name": "stdout",
     "output_type": "stream",
     "text": [
      "11 0.6927297769784927 0.6927997033277196\n"
     ]
    },
    {
     "name": "stderr",
     "output_type": "stream",
     "text": [
      "100%|██████████| 500/500 [00:04<00:00, 105.65it/s]\n",
      "  2%|▏         | 12/500 [00:00<00:04, 110.01it/s]"
     ]
    },
    {
     "name": "stdout",
     "output_type": "stream",
     "text": [
      "12 0.6927320866584777 0.6927775308757484\n"
     ]
    },
    {
     "name": "stderr",
     "output_type": "stream",
     "text": [
      "100%|██████████| 500/500 [00:04<00:00, 105.58it/s]\n",
      "  2%|▏         | 12/500 [00:00<00:04, 109.91it/s]"
     ]
    },
    {
     "name": "stdout",
     "output_type": "stream",
     "text": [
      "13 0.6926990180015564 0.6927546274638223\n"
     ]
    },
    {
     "name": "stderr",
     "output_type": "stream",
     "text": [
      "100%|██████████| 500/500 [00:04<00:00, 105.60it/s]\n",
      "  2%|▏         | 12/500 [00:00<00:04, 110.01it/s]"
     ]
    },
    {
     "name": "stdout",
     "output_type": "stream",
     "text": [
      "14 0.6926422156095505 0.6927442721977919\n"
     ]
    },
    {
     "name": "stderr",
     "output_type": "stream",
     "text": [
      "100%|██████████| 500/500 [00:04<00:00, 105.77it/s]\n",
      "  2%|▏         | 12/500 [00:00<00:04, 110.09it/s]"
     ]
    },
    {
     "name": "stdout",
     "output_type": "stream",
     "text": [
      "15 0.6926332458257675 0.6927250844989709\n"
     ]
    },
    {
     "name": "stderr",
     "output_type": "stream",
     "text": [
      "100%|██████████| 500/500 [00:04<00:00, 105.78it/s]\n",
      "  2%|▏         | 12/500 [00:00<00:04, 109.98it/s]"
     ]
    },
    {
     "name": "stdout",
     "output_type": "stream",
     "text": [
      "16 0.692616991519928 0.692706140453468\n"
     ]
    },
    {
     "name": "stderr",
     "output_type": "stream",
     "text": [
      "100%|██████████| 500/500 [00:04<00:00, 105.71it/s]\n",
      "  2%|▏         | 12/500 [00:00<00:04, 109.83it/s]"
     ]
    },
    {
     "name": "stdout",
     "output_type": "stream",
     "text": [
      "17 0.6925603293180466 0.6926909730344\n"
     ]
    },
    {
     "name": "stderr",
     "output_type": "stream",
     "text": [
      "100%|██████████| 500/500 [00:04<00:00, 105.58it/s]\n",
      "  2%|▏         | 12/500 [00:00<00:04, 110.03it/s]"
     ]
    },
    {
     "name": "stdout",
     "output_type": "stream",
     "text": [
      "18 0.6925045976638794 0.6926814705549837\n"
     ]
    },
    {
     "name": "stderr",
     "output_type": "stream",
     "text": [
      "100%|██████████| 500/500 [00:04<00:00, 105.71it/s]\n",
      "  2%|▏         | 12/500 [00:00<00:04, 110.23it/s]"
     ]
    },
    {
     "name": "stdout",
     "output_type": "stream",
     "text": [
      "19 0.6924890315532685 0.6926653894359718\n"
     ]
    },
    {
     "name": "stderr",
     "output_type": "stream",
     "text": [
      "100%|██████████| 500/500 [00:04<00:00, 105.74it/s]\n",
      "  2%|▏         | 12/500 [00:00<00:04, 109.87it/s]"
     ]
    },
    {
     "name": "stdout",
     "output_type": "stream",
     "text": [
      "20 0.6924570475816727 0.692654790516623\n"
     ]
    },
    {
     "name": "stderr",
     "output_type": "stream",
     "text": [
      "100%|██████████| 500/500 [00:04<00:00, 105.60it/s]\n",
      "  2%|▏         | 12/500 [00:00<00:04, 109.99it/s]"
     ]
    },
    {
     "name": "stdout",
     "output_type": "stream",
     "text": [
      "21 0.692428344130516 0.6926377956976671\n"
     ]
    },
    {
     "name": "stderr",
     "output_type": "stream",
     "text": [
      "100%|██████████| 500/500 [00:04<00:00, 105.45it/s]\n",
      "  2%|▏         | 12/500 [00:00<00:04, 109.86it/s]"
     ]
    },
    {
     "name": "stdout",
     "output_type": "stream",
     "text": [
      "22 0.6924082772731781 0.6926310952314122\n"
     ]
    },
    {
     "name": "stderr",
     "output_type": "stream",
     "text": [
      "100%|██████████| 500/500 [00:04<00:00, 105.54it/s]\n",
      "  2%|▏         | 12/500 [00:00<00:04, 110.10it/s]"
     ]
    },
    {
     "name": "stdout",
     "output_type": "stream",
     "text": [
      "23 0.6923980890512467 0.6926163542056512\n"
     ]
    },
    {
     "name": "stderr",
     "output_type": "stream",
     "text": [
      "100%|██████████| 500/500 [00:04<00:00, 105.60it/s]\n",
      "  2%|▏         | 12/500 [00:00<00:04, 109.79it/s]"
     ]
    },
    {
     "name": "stdout",
     "output_type": "stream",
     "text": [
      "24 0.6923798640966415 0.6926128821458645\n"
     ]
    },
    {
     "name": "stderr",
     "output_type": "stream",
     "text": [
      "100%|██████████| 500/500 [00:04<00:00, 105.37it/s]\n",
      "  2%|▏         | 12/500 [00:00<00:04, 109.96it/s]"
     ]
    },
    {
     "name": "stdout",
     "output_type": "stream",
     "text": [
      "25 0.6923551557064056 0.6926080090794973\n"
     ]
    },
    {
     "name": "stderr",
     "output_type": "stream",
     "text": [
      "100%|██████████| 500/500 [00:04<00:00, 105.44it/s]\n",
      "  2%|▏         | 12/500 [00:00<00:04, 109.73it/s]"
     ]
    },
    {
     "name": "stdout",
     "output_type": "stream",
     "text": [
      "26 0.692293099284172 0.6926016131798902\n"
     ]
    },
    {
     "name": "stderr",
     "output_type": "stream",
     "text": [
      "100%|██████████| 500/500 [00:04<00:00, 105.52it/s]\n",
      "  2%|▏         | 12/500 [00:00<00:04, 109.95it/s]"
     ]
    },
    {
     "name": "stdout",
     "output_type": "stream",
     "text": [
      "27 0.6922585445642472 0.6925959482402383\n"
     ]
    },
    {
     "name": "stderr",
     "output_type": "stream",
     "text": [
      "100%|██████████| 500/500 [00:04<00:00, 105.53it/s]\n",
      "  2%|▏         | 12/500 [00:00<00:04, 109.71it/s]"
     ]
    },
    {
     "name": "stdout",
     "output_type": "stream",
     "text": [
      "28 0.6923155586719513 0.692584374707616\n"
     ]
    },
    {
     "name": "stderr",
     "output_type": "stream",
     "text": [
      "100%|██████████| 500/500 [00:04<00:00, 105.48it/s]\n",
      "  2%|▏         | 12/500 [00:00<00:04, 109.71it/s]"
     ]
    },
    {
     "name": "stdout",
     "output_type": "stream",
     "text": [
      "29 0.6922614681720733 0.6925720702150386\n"
     ]
    },
    {
     "name": "stderr",
     "output_type": "stream",
     "text": [
      "100%|██████████| 500/500 [00:04<00:00, 105.49it/s]\n",
      "  2%|▏         | 12/500 [00:00<00:04, 110.33it/s]"
     ]
    },
    {
     "name": "stdout",
     "output_type": "stream",
     "text": [
      "30 0.692230188369751 0.6925745676615519\n"
     ]
    },
    {
     "name": "stderr",
     "output_type": "stream",
     "text": [
      "100%|██████████| 500/500 [00:04<00:00, 105.67it/s]\n",
      "  2%|▏         | 12/500 [00:00<00:04, 110.59it/s]"
     ]
    },
    {
     "name": "stdout",
     "output_type": "stream",
     "text": [
      "31 0.692184799194336 0.6925644560488399\n"
     ]
    },
    {
     "name": "stderr",
     "output_type": "stream",
     "text": [
      "100%|██████████| 500/500 [00:04<00:00, 105.86it/s]\n",
      "  2%|▏         | 12/500 [00:00<00:04, 110.39it/s]"
     ]
    },
    {
     "name": "stdout",
     "output_type": "stream",
     "text": [
      "32 0.69217253947258 0.6925603748557573\n"
     ]
    },
    {
     "name": "stderr",
     "output_type": "stream",
     "text": [
      "100%|██████████| 500/500 [00:04<00:00, 106.15it/s]\n",
      "  2%|▏         | 12/500 [00:00<00:04, 110.05it/s]"
     ]
    },
    {
     "name": "stdout",
     "output_type": "stream",
     "text": [
      "33 0.6921458963155747 0.692547461229884\n"
     ]
    },
    {
     "name": "stderr",
     "output_type": "stream",
     "text": [
      "100%|██████████| 500/500 [00:04<00:00, 106.00it/s]\n",
      "  2%|▏         | 12/500 [00:00<00:04, 110.50it/s]"
     ]
    },
    {
     "name": "stdout",
     "output_type": "stream",
     "text": [
      "34 0.692136466383934 0.6925454510900075\n"
     ]
    },
    {
     "name": "stderr",
     "output_type": "stream",
     "text": [
      "100%|██████████| 500/500 [00:04<00:00, 106.23it/s]\n",
      "  2%|▏         | 12/500 [00:00<00:04, 110.67it/s]"
     ]
    },
    {
     "name": "stdout",
     "output_type": "stream",
     "text": [
      "35 0.6921558283567428 0.6925382024037862\n"
     ]
    },
    {
     "name": "stderr",
     "output_type": "stream",
     "text": [
      "100%|██████████| 500/500 [00:04<00:00, 105.94it/s]\n",
      "  2%|▏         | 12/500 [00:00<00:04, 110.72it/s]"
     ]
    },
    {
     "name": "stdout",
     "output_type": "stream",
     "text": [
      "36 0.6920854421854019 0.6925301009309506\n"
     ]
    },
    {
     "name": "stderr",
     "output_type": "stream",
     "text": [
      "100%|██████████| 500/500 [00:04<00:00, 105.89it/s]\n",
      "  2%|▏         | 12/500 [00:00<00:04, 110.51it/s]"
     ]
    },
    {
     "name": "stdout",
     "output_type": "stream",
     "text": [
      "37 0.6921091022491455 0.6925234613780252\n"
     ]
    },
    {
     "name": "stderr",
     "output_type": "stream",
     "text": [
      "100%|██████████| 500/500 [00:04<00:00, 105.75it/s]\n",
      "  2%|▏         | 12/500 [00:00<00:04, 110.63it/s]"
     ]
    },
    {
     "name": "stdout",
     "output_type": "stream",
     "text": [
      "38 0.692097464799881 0.692517979178362\n"
     ]
    },
    {
     "name": "stderr",
     "output_type": "stream",
     "text": [
      "100%|██████████| 500/500 [00:04<00:00, 105.87it/s]\n",
      "  2%|▏         | 12/500 [00:00<00:04, 110.31it/s]"
     ]
    },
    {
     "name": "stdout",
     "output_type": "stream",
     "text": [
      "39 0.6920266497135162 0.6925152380785304\n"
     ]
    },
    {
     "name": "stderr",
     "output_type": "stream",
     "text": [
      "100%|██████████| 500/500 [00:04<00:00, 105.95it/s]\n",
      "  2%|▏         | 12/500 [00:00<00:04, 110.24it/s]"
     ]
    },
    {
     "name": "stdout",
     "output_type": "stream",
     "text": [
      "40 0.6920275505781174 0.692510974145459\n"
     ]
    },
    {
     "name": "stderr",
     "output_type": "stream",
     "text": [
      "100%|██████████| 500/500 [00:04<00:00, 105.66it/s]\n",
      "  2%|▏         | 12/500 [00:00<00:04, 110.29it/s]"
     ]
    },
    {
     "name": "stdout",
     "output_type": "stream",
     "text": [
      "41 0.692051282286644 0.6925048828125\n"
     ]
    },
    {
     "name": "stderr",
     "output_type": "stream",
     "text": [
      "100%|██████████| 500/500 [00:04<00:00, 105.64it/s]\n",
      "  2%|▏         | 12/500 [00:00<00:04, 110.21it/s]"
     ]
    },
    {
     "name": "stdout",
     "output_type": "stream",
     "text": [
      "42 0.6920041964054108 0.6924941011531625\n"
     ]
    },
    {
     "name": "stderr",
     "output_type": "stream",
     "text": [
      "100%|██████████| 500/500 [00:04<00:00, 105.76it/s]\n",
      "  2%|▏         | 12/500 [00:00<00:04, 110.28it/s]"
     ]
    },
    {
     "name": "stdout",
     "output_type": "stream",
     "text": [
      "43 0.6919527465105056 0.6924923346666043\n"
     ]
    },
    {
     "name": "stderr",
     "output_type": "stream",
     "text": [
      "100%|██████████| 500/500 [00:04<00:00, 105.76it/s]\n",
      "  2%|▏         | 12/500 [00:00<00:04, 110.35it/s]"
     ]
    },
    {
     "name": "stdout",
     "output_type": "stream",
     "text": [
      "44 0.6919926863908767 0.6925039691125562\n"
     ]
    },
    {
     "name": "stderr",
     "output_type": "stream",
     "text": [
      "100%|██████████| 500/500 [00:04<00:00, 105.68it/s]\n",
      "  2%|▏         | 12/500 [00:00<00:04, 110.03it/s]"
     ]
    },
    {
     "name": "stdout",
     "output_type": "stream",
     "text": [
      "45 0.6919148527383804 0.6924876443402258\n"
     ]
    },
    {
     "name": "stderr",
     "output_type": "stream",
     "text": [
      "100%|██████████| 500/500 [00:04<00:00, 105.87it/s]\n",
      "  2%|▏         | 12/500 [00:00<00:04, 110.30it/s]"
     ]
    },
    {
     "name": "stdout",
     "output_type": "stream",
     "text": [
      "46 0.6919000712633133 0.6924849641537238\n"
     ]
    },
    {
     "name": "stderr",
     "output_type": "stream",
     "text": [
      "100%|██████████| 500/500 [00:04<00:00, 105.51it/s]\n",
      "  2%|▏         | 12/500 [00:00<00:04, 109.77it/s]"
     ]
    },
    {
     "name": "stdout",
     "output_type": "stream",
     "text": [
      "47 0.6918991602659226 0.6924798474340381\n"
     ]
    },
    {
     "name": "stderr",
     "output_type": "stream",
     "text": [
      "100%|██████████| 500/500 [00:04<00:00, 105.51it/s]\n",
      "  2%|▏         | 12/500 [00:00<00:04, 109.88it/s]"
     ]
    },
    {
     "name": "stdout",
     "output_type": "stream",
     "text": [
      "48 0.6919171390533447 0.692482405793881\n"
     ]
    },
    {
     "name": "stderr",
     "output_type": "stream",
     "text": [
      "100%|██████████| 500/500 [00:04<00:00, 105.43it/s]\n",
      "  2%|▏         | 12/500 [00:00<00:04, 109.72it/s]"
     ]
    },
    {
     "name": "stdout",
     "output_type": "stream",
     "text": [
      "49 0.6918942960500717 0.6924821012272331\n"
     ]
    },
    {
     "name": "stderr",
     "output_type": "stream",
     "text": [
      "100%|██████████| 500/500 [00:04<00:00, 105.41it/s]\n",
      "  2%|▏         | 12/500 [00:00<00:04, 109.96it/s]"
     ]
    },
    {
     "name": "stdout",
     "output_type": "stream",
     "text": [
      "50 0.6919117456674576 0.6924911164000125\n"
     ]
    },
    {
     "name": "stderr",
     "output_type": "stream",
     "text": [
      "100%|██████████| 500/500 [00:04<00:00, 105.55it/s]\n",
      "  2%|▏         | 12/500 [00:00<00:04, 109.92it/s]"
     ]
    },
    {
     "name": "stdout",
     "output_type": "stream",
     "text": [
      "51 0.6918263428211212 0.6924733906211016\n"
     ]
    },
    {
     "name": "stderr",
     "output_type": "stream",
     "text": [
      "100%|██████████| 500/500 [00:04<00:00, 105.65it/s]\n",
      "  2%|▏         | 12/500 [00:00<00:04, 109.95it/s]"
     ]
    },
    {
     "name": "stdout",
     "output_type": "stream",
     "text": [
      "52 0.691818200469017 0.6924746088876934\n"
     ]
    },
    {
     "name": "stderr",
     "output_type": "stream",
     "text": [
      "100%|██████████| 500/500 [00:04<00:00, 105.65it/s]\n",
      "  2%|▏         | 12/500 [00:00<00:04, 109.74it/s]"
     ]
    },
    {
     "name": "stdout",
     "output_type": "stream",
     "text": [
      "53 0.6918237503767014 0.6924817966605851\n"
     ]
    },
    {
     "name": "stderr",
     "output_type": "stream",
     "text": [
      "100%|██████████| 500/500 [00:04<00:00, 105.59it/s]\n",
      "  2%|▏         | 12/500 [00:00<00:04, 110.18it/s]"
     ]
    },
    {
     "name": "stdout",
     "output_type": "stream",
     "text": [
      "54 0.6917632485628128 0.6924677256814497\n"
     ]
    },
    {
     "name": "stderr",
     "output_type": "stream",
     "text": [
      "100%|██████████| 500/500 [00:04<00:00, 105.60it/s]\n",
      "  2%|▏         | 12/500 [00:00<00:04, 110.21it/s]"
     ]
    },
    {
     "name": "stdout",
     "output_type": "stream",
     "text": [
      "55 0.6917919023036957 0.6924662028482098\n"
     ]
    },
    {
     "name": "stderr",
     "output_type": "stream",
     "text": [
      "100%|██████████| 500/500 [00:04<00:00, 105.68it/s]\n",
      "  2%|▏         | 12/500 [00:00<00:04, 110.07it/s]"
     ]
    },
    {
     "name": "stdout",
     "output_type": "stream",
     "text": [
      "56 0.691726266503334 0.6924595632952845\n"
     ]
    },
    {
     "name": "stderr",
     "output_type": "stream",
     "text": [
      "100%|██████████| 500/500 [00:04<00:00, 105.70it/s]\n",
      "  2%|▏         | 12/500 [00:00<00:04, 109.90it/s]"
     ]
    },
    {
     "name": "stdout",
     "output_type": "stream",
     "text": [
      "57 0.6917144002914428 0.6924674211148016\n"
     ]
    },
    {
     "name": "stderr",
     "output_type": "stream",
     "text": [
      "100%|██████████| 500/500 [00:04<00:00, 105.70it/s]\n",
      "  2%|▏         | 12/500 [00:00<00:04, 109.77it/s]"
     ]
    },
    {
     "name": "stdout",
     "output_type": "stream",
     "text": [
      "58 0.6917372779846191 0.6924664465015282\n"
     ]
    },
    {
     "name": "stderr",
     "output_type": "stream",
     "text": [
      "100%|██████████| 500/500 [00:04<00:00, 105.56it/s]\n",
      "  2%|▏         | 12/500 [00:00<00:04, 110.23it/s]"
     ]
    },
    {
     "name": "stdout",
     "output_type": "stream",
     "text": [
      "59 0.6917049976587295 0.6924536547023141\n"
     ]
    },
    {
     "name": "stderr",
     "output_type": "stream",
     "text": [
      "100%|██████████| 500/500 [00:04<00:00, 105.57it/s]\n",
      "  2%|▏         | 12/500 [00:00<00:04, 109.68it/s]"
     ]
    },
    {
     "name": "stdout",
     "output_type": "stream",
     "text": [
      "60 0.6917061220407486 0.6924529846556886\n"
     ]
    },
    {
     "name": "stderr",
     "output_type": "stream",
     "text": [
      "100%|██████████| 500/500 [00:04<00:00, 105.76it/s]\n",
      "  2%|▏         | 11/500 [00:00<00:04, 109.98it/s]"
     ]
    },
    {
     "name": "stdout",
     "output_type": "stream",
     "text": [
      "61 0.6917033007144928 0.6924507917758234\n"
     ]
    },
    {
     "name": "stderr",
     "output_type": "stream",
     "text": [
      "100%|██████████| 500/500 [00:04<00:00, 105.63it/s]\n",
      "  2%|▏         | 11/500 [00:00<00:04, 109.88it/s]"
     ]
    },
    {
     "name": "stdout",
     "output_type": "stream",
     "text": [
      "62 0.69160415828228 0.6924580404620446\n"
     ]
    },
    {
     "name": "stderr",
     "output_type": "stream",
     "text": [
      "100%|██████████| 500/500 [00:04<00:00, 105.43it/s]\n",
      "  2%|▏         | 12/500 [00:00<00:04, 109.65it/s]"
     ]
    },
    {
     "name": "stdout",
     "output_type": "stream",
     "text": [
      "63 0.6916568953990936 0.6924534110489957\n"
     ]
    },
    {
     "name": "stderr",
     "output_type": "stream",
     "text": [
      "100%|██████████| 500/500 [00:04<00:00, 105.56it/s]\n",
      "  2%|▏         | 12/500 [00:00<00:04, 109.67it/s]"
     ]
    },
    {
     "name": "stdout",
     "output_type": "stream",
     "text": [
      "64 0.6916231961250305 0.6924507308624938\n"
     ]
    },
    {
     "name": "stderr",
     "output_type": "stream",
     "text": [
      "100%|██████████| 500/500 [00:04<00:00, 105.57it/s]\n",
      "  2%|▏         | 12/500 [00:00<00:04, 110.08it/s]"
     ]
    },
    {
     "name": "stdout",
     "output_type": "stream",
     "text": [
      "65 0.6915496790409088 0.6924517054757672\n"
     ]
    },
    {
     "name": "stderr",
     "output_type": "stream",
     "text": [
      "100%|██████████| 500/500 [00:04<00:00, 105.43it/s]\n",
      "  2%|▏         | 12/500 [00:00<00:04, 110.21it/s]"
     ]
    },
    {
     "name": "stdout",
     "output_type": "stream",
     "text": [
      "66 0.69156989133358 0.692456944022112\n"
     ]
    },
    {
     "name": "stderr",
     "output_type": "stream",
     "text": [
      "100%|██████████| 500/500 [00:04<00:00, 105.63it/s]\n",
      "  2%|▏         | 12/500 [00:00<00:04, 109.87it/s]"
     ]
    },
    {
     "name": "stdout",
     "output_type": "stream",
     "text": [
      "67 0.6915235507488251 0.692448903462606\n"
     ]
    },
    {
     "name": "stderr",
     "output_type": "stream",
     "text": [
      "100%|██████████| 500/500 [00:04<00:00, 105.60it/s]\n",
      "  2%|▏         | 12/500 [00:00<00:04, 109.71it/s]"
     ]
    },
    {
     "name": "stdout",
     "output_type": "stream",
     "text": [
      "68 0.6915477517843246 0.6924437867429204\n"
     ]
    },
    {
     "name": "stderr",
     "output_type": "stream",
     "text": [
      "100%|██████████| 500/500 [00:04<00:00, 105.46it/s]\n",
      "  2%|▏         | 12/500 [00:00<00:04, 109.83it/s]"
     ]
    },
    {
     "name": "stdout",
     "output_type": "stream",
     "text": [
      "69 0.691575847029686 0.6924515227357785\n"
     ]
    },
    {
     "name": "stderr",
     "output_type": "stream",
     "text": [
      "100%|██████████| 500/500 [00:04<00:00, 105.42it/s]\n",
      "  2%|▏         | 12/500 [00:00<00:04, 109.71it/s]"
     ]
    },
    {
     "name": "stdout",
     "output_type": "stream",
     "text": [
      "70 0.6915401896238327 0.6924431776096245\n"
     ]
    },
    {
     "name": "stderr",
     "output_type": "stream",
     "text": [
      "100%|██████████| 500/500 [00:04<00:00, 105.41it/s]\n",
      "  2%|▏         | 12/500 [00:00<00:04, 110.18it/s]"
     ]
    },
    {
     "name": "stdout",
     "output_type": "stream",
     "text": [
      "71 0.6915309590101242 0.69245426383561\n"
     ]
    },
    {
     "name": "stderr",
     "output_type": "stream",
     "text": [
      "100%|██████████| 500/500 [00:04<00:00, 105.55it/s]\n",
      "  2%|▏         | 12/500 [00:00<00:04, 110.14it/s]"
     ]
    },
    {
     "name": "stdout",
     "output_type": "stream",
     "text": [
      "72 0.6913544163703919 0.6924529846556886\n"
     ]
    },
    {
     "name": "stderr",
     "output_type": "stream",
     "text": [
      "100%|██████████| 500/500 [00:04<00:00, 105.61it/s]\n",
      "  2%|▏         | 12/500 [00:00<00:04, 109.78it/s]"
     ]
    },
    {
     "name": "stdout",
     "output_type": "stream",
     "text": [
      "73 0.6914832277297973 0.6924496953358907\n"
     ]
    },
    {
     "name": "stderr",
     "output_type": "stream",
     "text": [
      "100%|██████████| 500/500 [00:04<00:00, 105.62it/s]\n",
      "  2%|▏         | 12/500 [00:00<00:04, 110.02it/s]"
     ]
    },
    {
     "name": "stdout",
     "output_type": "stream",
     "text": [
      "74 0.6914495108127594 0.6924415329497255\n"
     ]
    },
    {
     "name": "stderr",
     "output_type": "stream",
     "text": [
      "100%|██████████| 500/500 [00:04<00:00, 105.54it/s]\n",
      "  2%|▏         | 12/500 [00:00<00:04, 110.07it/s]"
     ]
    },
    {
     "name": "stdout",
     "output_type": "stream",
     "text": [
      "75 0.6914063727855683 0.6924415329497255\n"
     ]
    },
    {
     "name": "stderr",
     "output_type": "stream",
     "text": [
      "100%|██████████| 500/500 [00:04<00:00, 105.61it/s]\n",
      "  2%|▏         | 12/500 [00:00<00:04, 109.81it/s]"
     ]
    },
    {
     "name": "stdout",
     "output_type": "stream",
     "text": [
      "76 0.6914445823431015 0.6924488425492764\n"
     ]
    },
    {
     "name": "stderr",
     "output_type": "stream",
     "text": [
      "100%|██████████| 500/500 [00:04<00:00, 105.75it/s]\n",
      "  2%|▏         | 12/500 [00:00<00:04, 110.06it/s]"
     ]
    },
    {
     "name": "stdout",
     "output_type": "stream",
     "text": [
      "77 0.6913813738822937 0.6924538983556325\n"
     ]
    },
    {
     "name": "stderr",
     "output_type": "stream",
     "text": [
      "100%|██████████| 500/500 [00:04<00:00, 105.67it/s]\n",
      "  2%|▏         | 12/500 [00:00<00:04, 110.28it/s]"
     ]
    },
    {
     "name": "stdout",
     "output_type": "stream",
     "text": [
      "78 0.6914337998628617 0.6924468933227296\n"
     ]
    },
    {
     "name": "stderr",
     "output_type": "stream",
     "text": [
      "100%|██████████| 500/500 [00:04<00:00, 105.77it/s]\n",
      "  2%|▏         | 12/500 [00:00<00:04, 110.02it/s]"
     ]
    },
    {
     "name": "stdout",
     "output_type": "stream",
     "text": [
      "79 0.6913773832321167 0.6924393400698603\n"
     ]
    },
    {
     "name": "stderr",
     "output_type": "stream",
     "text": [
      "100%|██████████| 500/500 [00:04<00:00, 105.66it/s]\n",
      "  2%|▏         | 12/500 [00:00<00:04, 110.37it/s]"
     ]
    },
    {
     "name": "stdout",
     "output_type": "stream",
     "text": [
      "80 0.6913662315607071 0.6924484161559693\n"
     ]
    },
    {
     "name": "stderr",
     "output_type": "stream",
     "text": [
      "100%|██████████| 500/500 [00:04<00:00, 105.69it/s]\n",
      "  2%|▏         | 12/500 [00:00<00:04, 110.31it/s]"
     ]
    },
    {
     "name": "stdout",
     "output_type": "stream",
     "text": [
      "81 0.6913864221572876 0.6924421420830215\n"
     ]
    },
    {
     "name": "stderr",
     "output_type": "stream",
     "text": [
      "100%|██████████| 500/500 [00:04<00:00, 105.74it/s]\n",
      "  2%|▏         | 12/500 [00:00<00:04, 109.77it/s]"
     ]
    },
    {
     "name": "stdout",
     "output_type": "stream",
     "text": [
      "82 0.6913609634637833 0.6924496953358907\n"
     ]
    },
    {
     "name": "stderr",
     "output_type": "stream",
     "text": [
      "100%|██████████| 500/500 [00:04<00:00, 105.57it/s]\n",
      "  2%|▏         | 12/500 [00:00<00:04, 109.64it/s]"
     ]
    },
    {
     "name": "stdout",
     "output_type": "stream",
     "text": [
      "83 0.6913913402557373 0.6924524364357223\n"
     ]
    },
    {
     "name": "stderr",
     "output_type": "stream",
     "text": [
      "100%|██████████| 500/500 [00:04<00:00, 105.45it/s]\n",
      "  2%|▏         | 12/500 [00:00<00:04, 109.77it/s]"
     ]
    },
    {
     "name": "stdout",
     "output_type": "stream",
     "text": [
      "84 0.6912949868440628 0.6924546902289171\n"
     ]
    },
    {
     "name": "stderr",
     "output_type": "stream",
     "text": [
      "100%|██████████| 500/500 [00:04<00:00, 105.37it/s]\n",
      "  2%|▏         | 12/500 [00:00<00:04, 110.02it/s]"
     ]
    },
    {
     "name": "stdout",
     "output_type": "stream",
     "text": [
      "85 0.6913778297901153 0.6924429339563062\n"
     ]
    },
    {
     "name": "stderr",
     "output_type": "stream",
     "text": [
      "100%|██████████| 500/500 [00:04<00:00, 105.50it/s]\n",
      "  2%|▏         | 12/500 [00:00<00:04, 109.73it/s]"
     ]
    },
    {
     "name": "stdout",
     "output_type": "stream",
     "text": [
      "86 0.6912793701887131 0.6924553602755427\n"
     ]
    },
    {
     "name": "stderr",
     "output_type": "stream",
     "text": [
      "100%|██████████| 500/500 [00:04<00:00, 105.88it/s]\n",
      "  2%|▏         | 12/500 [00:00<00:04, 109.94it/s]"
     ]
    },
    {
     "name": "stdout",
     "output_type": "stream",
     "text": [
      "87 0.6913200874328613 0.6924442131362275\n"
     ]
    },
    {
     "name": "stderr",
     "output_type": "stream",
     "text": [
      "100%|██████████| 500/500 [00:04<00:00, 105.44it/s]\n",
      "  2%|▏         | 12/500 [00:00<00:04, 109.65it/s]"
     ]
    },
    {
     "name": "stdout",
     "output_type": "stream",
     "text": [
      "88 0.6912523030042649 0.6924397664631674\n"
     ]
    },
    {
     "name": "stderr",
     "output_type": "stream",
     "text": [
      "100%|██████████| 500/500 [00:04<00:00, 105.47it/s]\n",
      "  2%|▏         | 12/500 [00:00<00:04, 109.77it/s]"
     ]
    },
    {
     "name": "stdout",
     "output_type": "stream",
     "text": [
      "89 0.6912232866287231 0.6924429339563062\n"
     ]
    },
    {
     "name": "stderr",
     "output_type": "stream",
     "text": [
      "100%|██████████| 500/500 [00:04<00:00, 105.59it/s]\n",
      "  2%|▏         | 11/500 [00:00<00:04, 109.85it/s]"
     ]
    },
    {
     "name": "stdout",
     "output_type": "stream",
     "text": [
      "90 0.6912575604915618 0.6924470151493887\n"
     ]
    },
    {
     "name": "stderr",
     "output_type": "stream",
     "text": [
      "100%|██████████| 500/500 [00:04<00:00, 105.61it/s]\n",
      "  2%|▏         | 12/500 [00:00<00:04, 110.16it/s]"
     ]
    },
    {
     "name": "stdout",
     "output_type": "stream",
     "text": [
      "91 0.6912770510911942 0.6924426293896582\n"
     ]
    },
    {
     "name": "stderr",
     "output_type": "stream",
     "text": [
      "100%|██████████| 500/500 [00:04<00:00, 105.54it/s]\n",
      "  2%|▏         | 12/500 [00:00<00:04, 110.19it/s]"
     ]
    },
    {
     "name": "stdout",
     "output_type": "stream",
     "text": [
      "92 0.6912162846326828 0.6924408629031\n"
     ]
    },
    {
     "name": "stderr",
     "output_type": "stream",
     "text": [
      "100%|██████████| 500/500 [00:04<00:00, 105.55it/s]\n",
      "  2%|▏         | 12/500 [00:00<00:04, 110.58it/s]"
     ]
    },
    {
     "name": "stdout",
     "output_type": "stream",
     "text": [
      "93 0.6912315038442611 0.6924417156897144\n"
     ]
    },
    {
     "name": "stderr",
     "output_type": "stream",
     "text": [
      "100%|██████████| 500/500 [00:04<00:00, 105.71it/s]\n",
      "  2%|▏         | 11/500 [00:00<00:04, 108.69it/s]"
     ]
    },
    {
     "name": "stdout",
     "output_type": "stream",
     "text": [
      "94 0.6911793594360351 0.6924482334159805\n"
     ]
    },
    {
     "name": "stderr",
     "output_type": "stream",
     "text": [
      "100%|██████████| 500/500 [00:04<00:00, 105.81it/s]\n",
      "  2%|▏         | 12/500 [00:00<00:04, 109.86it/s]"
     ]
    },
    {
     "name": "stdout",
     "output_type": "stream",
     "text": [
      "95 0.6911614867448806 0.6924621216551272\n"
     ]
    },
    {
     "name": "stderr",
     "output_type": "stream",
     "text": [
      "100%|██████████| 500/500 [00:04<00:00, 105.81it/s]\n",
      "  2%|▏         | 12/500 [00:00<00:04, 110.15it/s]"
     ]
    },
    {
     "name": "stdout",
     "output_type": "stream",
     "text": [
      "96 0.6912045041322709 0.6924517054757672\n"
     ]
    },
    {
     "name": "stderr",
     "output_type": "stream",
     "text": [
      "100%|██████████| 500/500 [00:04<00:00, 105.71it/s]\n",
      "  2%|▏         | 12/500 [00:00<00:04, 110.38it/s]"
     ]
    },
    {
     "name": "stdout",
     "output_type": "stream",
     "text": [
      "97 0.6912031766176224 0.6924739388410679\n"
     ]
    },
    {
     "name": "stderr",
     "output_type": "stream",
     "text": [
      "100%|██████████| 500/500 [00:04<00:00, 105.85it/s]\n",
      "  2%|▏         | 12/500 [00:00<00:04, 110.55it/s]"
     ]
    },
    {
     "name": "stdout",
     "output_type": "stream",
     "text": [
      "98 0.6911661459207534 0.6924595023819549\n"
     ]
    },
    {
     "name": "stderr",
     "output_type": "stream",
     "text": [
      "100%|██████████| 500/500 [00:04<00:00, 105.84it/s]\n",
      "  2%|▏         | 12/500 [00:00<00:04, 110.48it/s]"
     ]
    },
    {
     "name": "stdout",
     "output_type": "stream",
     "text": [
      "99 0.6911400629281997 0.6924571267621008\n"
     ]
    },
    {
     "name": "stderr",
     "output_type": "stream",
     "text": [
      "100%|██████████| 500/500 [00:04<00:00, 105.74it/s]\n",
      "  2%|▏         | 12/500 [00:00<00:04, 110.19it/s]"
     ]
    },
    {
     "name": "stdout",
     "output_type": "stream",
     "text": [
      "100 0.6910971930027008 0.6924644972749813\n"
     ]
    },
    {
     "name": "stderr",
     "output_type": "stream",
     "text": [
      "100%|██████████| 500/500 [00:04<00:00, 105.59it/s]\n",
      "  2%|▏         | 12/500 [00:00<00:04, 110.00it/s]"
     ]
    },
    {
     "name": "stdout",
     "output_type": "stream",
     "text": [
      "101 0.6911336963176727 0.692458893248659\n"
     ]
    },
    {
     "name": "stderr",
     "output_type": "stream",
     "text": [
      "100%|██████████| 500/500 [00:04<00:00, 105.57it/s]\n",
      "  2%|▏         | 12/500 [00:00<00:04, 111.20it/s]"
     ]
    },
    {
     "name": "stdout",
     "output_type": "stream",
     "text": [
      "102 0.6910653692483902 0.6924601115152508\n"
     ]
    },
    {
     "name": "stderr",
     "output_type": "stream",
     "text": [
      "100%|██████████| 500/500 [00:04<00:00, 105.83it/s]\n",
      "  2%|▏         | 12/500 [00:00<00:04, 109.91it/s]"
     ]
    },
    {
     "name": "stdout",
     "output_type": "stream",
     "text": [
      "103 0.69112249147892 0.6924687612080527\n"
     ]
    },
    {
     "name": "stderr",
     "output_type": "stream",
     "text": [
      "100%|██████████| 500/500 [00:04<00:00, 105.70it/s]\n",
      "  2%|▏         | 12/500 [00:00<00:04, 109.94it/s]"
     ]
    },
    {
     "name": "stdout",
     "output_type": "stream",
     "text": [
      "104 0.6910895466804504 0.6924632790083894\n"
     ]
    },
    {
     "name": "stderr",
     "output_type": "stream",
     "text": [
      "100%|██████████| 500/500 [00:04<00:00, 105.68it/s]\n",
      "  2%|▏         | 12/500 [00:00<00:04, 111.06it/s]"
     ]
    },
    {
     "name": "stdout",
     "output_type": "stream",
     "text": [
      "105 0.6910591379404069 0.6924584668553518\n"
     ]
    },
    {
     "name": "stderr",
     "output_type": "stream",
     "text": [
      "100%|██████████| 500/500 [00:04<00:00, 105.65it/s]\n",
      "  2%|▏         | 11/500 [00:00<00:04, 109.37it/s]"
     ]
    },
    {
     "name": "stdout",
     "output_type": "stream",
     "text": [
      "106 0.6911045678853989 0.6924515227357785\n"
     ]
    },
    {
     "name": "stderr",
     "output_type": "stream",
     "text": [
      "100%|██████████| 500/500 [00:04<00:00, 105.45it/s]\n",
      "  2%|▏         | 12/500 [00:00<00:04, 109.82it/s]"
     ]
    },
    {
     "name": "stdout",
     "output_type": "stream",
     "text": [
      "107 0.6910289487838746 0.6924566394554641\n"
     ]
    },
    {
     "name": "stderr",
     "output_type": "stream",
     "text": [
      "100%|██████████| 500/500 [00:04<00:00, 105.52it/s]\n",
      "  2%|▏         | 12/500 [00:00<00:04, 110.04it/s]"
     ]
    },
    {
     "name": "stdout",
     "output_type": "stream",
     "text": [
      "108 0.69104290163517 0.692461268868513\n"
     ]
    },
    {
     "name": "stderr",
     "output_type": "stream",
     "text": [
      "100%|██████████| 500/500 [00:04<00:00, 105.45it/s]\n",
      "  2%|▏         | 12/500 [00:00<00:04, 109.85it/s]"
     ]
    },
    {
     "name": "stdout",
     "output_type": "stream",
     "text": [
      "109 0.6910012698173523 0.6924485988959581\n"
     ]
    },
    {
     "name": "stderr",
     "output_type": "stream",
     "text": [
      "100%|██████████| 500/500 [00:04<00:00, 105.50it/s]\n",
      "  2%|▏         | 12/500 [00:00<00:04, 109.62it/s]"
     ]
    },
    {
     "name": "stdout",
     "output_type": "stream",
     "text": [
      "110 0.6910507937669754 0.6924536547023141\n"
     ]
    },
    {
     "name": "stderr",
     "output_type": "stream",
     "text": [
      "100%|██████████| 500/500 [00:04<00:00, 105.43it/s]\n",
      "  2%|▏         | 12/500 [00:00<00:04, 109.90it/s]"
     ]
    },
    {
     "name": "stdout",
     "output_type": "stream",
     "text": [
      "111 0.6909443883895874 0.6924477461093438\n"
     ]
    },
    {
     "name": "stderr",
     "output_type": "stream",
     "text": [
      "100%|██████████| 500/500 [00:04<00:00, 105.31it/s]\n",
      "  2%|▏         | 11/500 [00:00<00:04, 109.91it/s]"
     ]
    },
    {
     "name": "stdout",
     "output_type": "stream",
     "text": [
      "112 0.6909550613164902 0.6924570658487712\n"
     ]
    },
    {
     "name": "stderr",
     "output_type": "stream",
     "text": [
      "100%|██████████| 500/500 [00:04<00:00, 105.21it/s]\n",
      "  2%|▏         | 12/500 [00:00<00:04, 109.81it/s]"
     ]
    },
    {
     "name": "stdout",
     "output_type": "stream",
     "text": [
      "113 0.6909634224176406 0.6924546293155875\n"
     ]
    },
    {
     "name": "stderr",
     "output_type": "stream",
     "text": [
      "100%|██████████| 500/500 [00:04<00:00, 105.41it/s]\n",
      "  2%|▏         | 12/500 [00:00<00:04, 110.00it/s]"
     ]
    },
    {
     "name": "stdout",
     "output_type": "stream",
     "text": [
      "114 0.6910049517154694 0.6924506090358346\n"
     ]
    },
    {
     "name": "stderr",
     "output_type": "stream",
     "text": [
      "100%|██████████| 500/500 [00:04<00:00, 105.45it/s]\n",
      "  2%|▏         | 12/500 [00:00<00:04, 110.02it/s]"
     ]
    },
    {
     "name": "stdout",
     "output_type": "stream",
     "text": [
      "115 0.6909565246105194 0.6924575531554079\n"
     ]
    },
    {
     "name": "stderr",
     "output_type": "stream",
     "text": [
      "100%|██████████| 500/500 [00:04<00:00, 105.56it/s]\n",
      "  2%|▏         | 12/500 [00:00<00:04, 109.90it/s]"
     ]
    },
    {
     "name": "stdout",
     "output_type": "stream",
     "text": [
      "116 0.6909243906736374 0.692461999828468\n"
     ]
    },
    {
     "name": "stderr",
     "output_type": "stream",
     "text": [
      "100%|██████████| 500/500 [00:04<00:00, 105.49it/s]\n",
      "  2%|▏         | 11/500 [00:00<00:04, 109.95it/s]"
     ]
    },
    {
     "name": "stdout",
     "output_type": "stream",
     "text": [
      "117 0.6909165674448013 0.6924579186353855\n"
     ]
    },
    {
     "name": "stderr",
     "output_type": "stream",
     "text": [
      "100%|██████████| 500/500 [00:04<00:00, 105.50it/s]\n",
      "  2%|▏         | 12/500 [00:00<00:04, 108.75it/s]"
     ]
    },
    {
     "name": "stdout",
     "output_type": "stream",
     "text": [
      "118 0.6908421252965927 0.6924624262217752\n"
     ]
    },
    {
     "name": "stderr",
     "output_type": "stream",
     "text": [
      "100%|██████████| 500/500 [00:04<00:00, 105.49it/s]\n",
      "  2%|▏         | 12/500 [00:00<00:04, 109.68it/s]"
     ]
    },
    {
     "name": "stdout",
     "output_type": "stream",
     "text": [
      "119 0.6908576347827912 0.6924538983556325\n"
     ]
    },
    {
     "name": "stderr",
     "output_type": "stream",
     "text": [
      "100%|██████████| 500/500 [00:04<00:00, 105.70it/s]\n",
      "  2%|▏         | 12/500 [00:00<00:04, 109.86it/s]"
     ]
    },
    {
     "name": "stdout",
     "output_type": "stream",
     "text": [
      "120 0.6909079464673996 0.6924554211888723\n"
     ]
    },
    {
     "name": "stderr",
     "output_type": "stream",
     "text": [
      "100%|██████████| 500/500 [00:04<00:00, 105.60it/s]\n",
      "  2%|▏         | 12/500 [00:00<00:04, 109.89it/s]"
     ]
    },
    {
     "name": "stdout",
     "output_type": "stream",
     "text": [
      "121 0.6908903992176056 0.6924666292415169\n"
     ]
    },
    {
     "name": "stderr",
     "output_type": "stream",
     "text": [
      "100%|██████████| 500/500 [00:04<00:00, 105.38it/s]\n",
      "  2%|▏         | 12/500 [00:00<00:04, 108.62it/s]"
     ]
    },
    {
     "name": "stdout",
     "output_type": "stream",
     "text": [
      "122 0.6908825659751892 0.6924583450286926\n"
     ]
    },
    {
     "name": "stderr",
     "output_type": "stream",
     "text": [
      "100%|██████████| 500/500 [00:04<00:00, 105.62it/s]\n",
      "  2%|▏         | 12/500 [00:00<00:04, 110.08it/s]"
     ]
    },
    {
     "name": "stdout",
     "output_type": "stream",
     "text": [
      "123 0.690854733467102 0.6924666901548465\n"
     ]
    },
    {
     "name": "stderr",
     "output_type": "stream",
     "text": [
      "100%|██████████| 500/500 [00:04<00:00, 105.81it/s]\n",
      "  2%|▏         | 12/500 [00:00<00:04, 109.85it/s]"
     ]
    },
    {
     "name": "stdout",
     "output_type": "stream",
     "text": [
      "124 0.6908945310115814 0.6924671774614832\n"
     ]
    },
    {
     "name": "stderr",
     "output_type": "stream",
     "text": [
      "100%|██████████| 500/500 [00:04<00:00, 105.44it/s]\n",
      "  2%|▏         | 12/500 [00:00<00:04, 109.72it/s]"
     ]
    },
    {
     "name": "stdout",
     "output_type": "stream",
     "text": [
      "125 0.6908156858682633 0.6924634008350486\n"
     ]
    },
    {
     "name": "stderr",
     "output_type": "stream",
     "text": [
      "100%|██████████| 500/500 [00:04<00:00, 105.40it/s]\n",
      "  2%|▏         | 12/500 [00:00<00:04, 109.81it/s]"
     ]
    },
    {
     "name": "stdout",
     "output_type": "stream",
     "text": [
      "126 0.690852066040039 0.692459928775262\n"
     ]
    },
    {
     "name": "stderr",
     "output_type": "stream",
     "text": [
      "100%|██████████| 500/500 [00:04<00:00, 105.60it/s]\n",
      "  2%|▏         | 12/500 [00:00<00:04, 109.76it/s]"
     ]
    },
    {
     "name": "stdout",
     "output_type": "stream",
     "text": [
      "127 0.6908077090978623 0.6924715023078842\n"
     ]
    },
    {
     "name": "stderr",
     "output_type": "stream",
     "text": [
      "100%|██████████| 500/500 [00:04<00:00, 105.42it/s]\n",
      "  2%|▏         | 12/500 [00:00<00:04, 109.83it/s]"
     ]
    },
    {
     "name": "stdout",
     "output_type": "stream",
     "text": [
      "128 0.6908205950260162 0.6924675429414608\n"
     ]
    },
    {
     "name": "stderr",
     "output_type": "stream",
     "text": [
      "100%|██████████| 500/500 [00:04<00:00, 105.75it/s]\n",
      "  2%|▏         | 12/500 [00:00<00:04, 110.05it/s]"
     ]
    },
    {
     "name": "stdout",
     "output_type": "stream",
     "text": [
      "129 0.6907857600450515 0.6924702231279628\n"
     ]
    },
    {
     "name": "stderr",
     "output_type": "stream",
     "text": [
      "100%|██████████| 500/500 [00:04<00:00, 105.85it/s]\n",
      "  2%|▏         | 12/500 [00:00<00:04, 109.90it/s]"
     ]
    },
    {
     "name": "stdout",
     "output_type": "stream",
     "text": [
      "130 0.6908063815832138 0.6924712586545658\n"
     ]
    },
    {
     "name": "stderr",
     "output_type": "stream",
     "text": [
      "100%|██████████| 500/500 [00:04<00:00, 105.76it/s]\n",
      "  2%|▏         | 11/500 [00:00<00:04, 108.46it/s]"
     ]
    },
    {
     "name": "stdout",
     "output_type": "stream",
     "text": [
      "131 0.6908399239778519 0.6924789946474239\n"
     ]
    },
    {
     "name": "stderr",
     "output_type": "stream",
     "text": [
      "100%|██████████| 500/500 [00:04<00:00, 105.83it/s]\n",
      "  2%|▏         | 12/500 [00:00<00:04, 109.66it/s]"
     ]
    },
    {
     "name": "stdout",
     "output_type": "stream",
     "text": [
      "132 0.6907027893066406 0.6924663855881986\n"
     ]
    },
    {
     "name": "stderr",
     "output_type": "stream",
     "text": [
      "100%|██████████| 500/500 [00:04<00:00, 105.43it/s]\n",
      "  2%|▏         | 12/500 [00:00<00:04, 109.60it/s]"
     ]
    },
    {
     "name": "stdout",
     "output_type": "stream",
     "text": [
      "133 0.6907709655761719 0.6924648627549589\n"
     ]
    },
    {
     "name": "stderr",
     "output_type": "stream",
     "text": [
      "100%|██████████| 500/500 [00:04<00:00, 105.36it/s]\n",
      "  2%|▏         | 12/500 [00:00<00:04, 109.93it/s]"
     ]
    },
    {
     "name": "stdout",
     "output_type": "stream",
     "text": [
      "134 0.6907674117088318 0.6924796646940494\n"
     ]
    },
    {
     "name": "stderr",
     "output_type": "stream",
     "text": [
      "100%|██████████| 500/500 [00:04<00:00, 105.46it/s]\n",
      "  2%|▏         | 12/500 [00:00<00:04, 109.83it/s]"
     ]
    },
    {
     "name": "stdout",
     "output_type": "stream",
     "text": [
      "135 0.6906779305934906 0.6924712586545658\n"
     ]
    },
    {
     "name": "stderr",
     "output_type": "stream",
     "text": [
      "100%|██████████| 500/500 [00:04<00:00, 105.58it/s]\n",
      "  2%|▏         | 12/500 [00:00<00:04, 110.03it/s]"
     ]
    },
    {
     "name": "stdout",
     "output_type": "stream",
     "text": [
      "136 0.6907346022129058 0.6924780809474801\n"
     ]
    },
    {
     "name": "stderr",
     "output_type": "stream",
     "text": [
      "100%|██████████| 500/500 [00:04<00:00, 105.54it/s]\n",
      "  2%|▏         | 12/500 [00:00<00:04, 109.92it/s]"
     ]
    },
    {
     "name": "stdout",
     "output_type": "stream",
     "text": [
      "137 0.6906776955127716 0.6924694921680077\n"
     ]
    },
    {
     "name": "stderr",
     "output_type": "stream",
     "text": [
      "100%|██████████| 500/500 [00:04<00:00, 105.35it/s]\n",
      "  2%|▏         | 12/500 [00:00<00:04, 109.61it/s]"
     ]
    },
    {
     "name": "stdout",
     "output_type": "stream",
     "text": [
      "138 0.6907474862337113 0.6924734515344312\n"
     ]
    },
    {
     "name": "stderr",
     "output_type": "stream",
     "text": [
      "100%|██████████| 500/500 [00:04<00:00, 105.64it/s]\n",
      "  2%|▏         | 11/500 [00:00<00:04, 109.29it/s]"
     ]
    },
    {
     "name": "stdout",
     "output_type": "stream",
     "text": [
      "139 0.6907195956707001 0.6924719287011913\n"
     ]
    },
    {
     "name": "stderr",
     "output_type": "stream",
     "text": [
      "100%|██████████| 500/500 [00:04<00:00, 105.56it/s]\n",
      "  2%|▏         | 12/500 [00:00<00:04, 110.01it/s]"
     ]
    },
    {
     "name": "stdout",
     "output_type": "stream",
     "text": [
      "140 0.6906500624418259 0.6924841113671095\n"
     ]
    },
    {
     "name": "stderr",
     "output_type": "stream",
     "text": [
      "100%|██████████| 500/500 [00:04<00:00, 105.40it/s]\n",
      "  2%|▏         | 12/500 [00:00<00:04, 109.97it/s]"
     ]
    },
    {
     "name": "stdout",
     "output_type": "stream",
     "text": [
      "141 0.6906905744075775 0.6924772281608658\n"
     ]
    },
    {
     "name": "stderr",
     "output_type": "stream",
     "text": [
      "100%|██████████| 500/500 [00:04<00:00, 105.65it/s]\n",
      "  2%|▏         | 12/500 [00:00<00:04, 109.90it/s]"
     ]
    },
    {
     "name": "stdout",
     "output_type": "stream",
     "text": [
      "142 0.6906237294673919 0.69248106570063\n"
     ]
    },
    {
     "name": "stderr",
     "output_type": "stream",
     "text": [
      "100%|██████████| 500/500 [00:04<00:00, 105.31it/s]\n",
      "  2%|▏         | 12/500 [00:00<00:04, 109.76it/s]"
     ]
    },
    {
     "name": "stdout",
     "output_type": "stream",
     "text": [
      "143 0.6905618631839752 0.6924744261477046\n"
     ]
    },
    {
     "name": "stderr",
     "output_type": "stream",
     "text": [
      "100%|██████████| 500/500 [00:04<00:00, 105.66it/s]\n",
      "  2%|▏         | 12/500 [00:00<00:04, 111.18it/s]"
     ]
    },
    {
     "name": "stdout",
     "output_type": "stream",
     "text": [
      "144 0.6905841745138168 0.6924819794005739\n"
     ]
    },
    {
     "name": "stderr",
     "output_type": "stream",
     "text": [
      "100%|██████████| 500/500 [00:04<00:00, 105.77it/s]\n",
      "  2%|▏         | 12/500 [00:00<00:04, 109.82it/s]"
     ]
    },
    {
     "name": "stdout",
     "output_type": "stream",
     "text": [
      "145 0.6905928803682327 0.6924828931005177\n"
     ]
    },
    {
     "name": "stderr",
     "output_type": "stream",
     "text": [
      "100%|██████████| 500/500 [00:04<00:00, 105.58it/s]\n",
      "  2%|▏         | 11/500 [00:00<00:04, 107.94it/s]"
     ]
    },
    {
     "name": "stdout",
     "output_type": "stream",
     "text": [
      "146 0.6906243315935134 0.6924886798668288\n"
     ]
    },
    {
     "name": "stderr",
     "output_type": "stream",
     "text": [
      "100%|██████████| 500/500 [00:04<00:00, 105.32it/s]\n",
      "  2%|▏         | 11/500 [00:00<00:04, 109.87it/s]"
     ]
    },
    {
     "name": "stdout",
     "output_type": "stream",
     "text": [
      "147 0.6906284606456756 0.6924832585804953\n"
     ]
    },
    {
     "name": "stderr",
     "output_type": "stream",
     "text": [
      "100%|██████████| 500/500 [00:04<00:00, 105.54it/s]\n",
      "  2%|▏         | 12/500 [00:00<00:04, 109.84it/s]"
     ]
    },
    {
     "name": "stdout",
     "output_type": "stream",
     "text": [
      "148 0.6906053507328034 0.6924929437999002\n"
     ]
    },
    {
     "name": "stderr",
     "output_type": "stream",
     "text": [
      "100%|██████████| 500/500 [00:04<00:00, 105.55it/s]\n",
      "  2%|▏         | 12/500 [00:00<00:04, 110.20it/s]"
     ]
    },
    {
     "name": "stdout",
     "output_type": "stream",
     "text": [
      "149 0.6905881781578064 0.6924827712738585\n"
     ]
    },
    {
     "name": "stderr",
     "output_type": "stream",
     "text": [
      "100%|██████████| 500/500 [00:04<00:00, 105.45it/s]\n",
      "  2%|▏         | 12/500 [00:00<00:04, 109.75it/s]"
     ]
    },
    {
     "name": "stdout",
     "output_type": "stream",
     "text": [
      "150 0.6905849823951721 0.692489837220091\n"
     ]
    },
    {
     "name": "stderr",
     "output_type": "stream",
     "text": [
      "100%|██████████| 500/500 [00:04<00:00, 105.51it/s]\n",
      "  2%|▏         | 12/500 [00:00<00:04, 109.75it/s]"
     ]
    },
    {
     "name": "stdout",
     "output_type": "stream",
     "text": [
      "151 0.6905264074802399 0.6924873397735778\n"
     ]
    },
    {
     "name": "stderr",
     "output_type": "stream",
     "text": [
      "100%|██████████| 500/500 [00:04<00:00, 105.50it/s]\n",
      "  2%|▏         | 12/500 [00:00<00:04, 109.77it/s]"
     ]
    },
    {
     "name": "stdout",
     "output_type": "stream",
     "text": [
      "152 0.6906191111803055 0.6924920300999563\n"
     ]
    },
    {
     "name": "stderr",
     "output_type": "stream",
     "text": [
      "100%|██████████| 500/500 [00:04<00:00, 105.28it/s]\n",
      "  2%|▏         | 11/500 [00:00<00:04, 109.89it/s]"
     ]
    },
    {
     "name": "stdout",
     "output_type": "stream",
     "text": [
      "153 0.6905356986522675 0.6924961722063685\n"
     ]
    },
    {
     "name": "stderr",
     "output_type": "stream",
     "text": [
      "100%|██████████| 500/500 [00:04<00:00, 105.40it/s]\n",
      "  2%|▏         | 12/500 [00:00<00:04, 109.75it/s]"
     ]
    },
    {
     "name": "stdout",
     "output_type": "stream",
     "text": [
      "154 0.6904813956022262 0.6924911773133421\n"
     ]
    },
    {
     "name": "stderr",
     "output_type": "stream",
     "text": [
      "100%|██████████| 500/500 [00:04<00:00, 105.37it/s]\n",
      "  2%|▏         | 12/500 [00:00<00:04, 109.97it/s]"
     ]
    },
    {
     "name": "stdout",
     "output_type": "stream",
     "text": [
      "155 0.6904613333940506 0.6924962331196981\n"
     ]
    },
    {
     "name": "stderr",
     "output_type": "stream",
     "text": [
      "100%|██████████| 500/500 [00:04<00:00, 105.37it/s]\n",
      "  2%|▏         | 12/500 [00:00<00:04, 109.70it/s]"
     ]
    },
    {
     "name": "stdout",
     "output_type": "stream",
     "text": [
      "156 0.6905236941576004 0.6924955630730726\n"
     ]
    },
    {
     "name": "stderr",
     "output_type": "stream",
     "text": [
      "100%|██████████| 500/500 [00:04<00:00, 105.69it/s]\n",
      "  2%|▏         | 12/500 [00:00<00:04, 110.06it/s]"
     ]
    },
    {
     "name": "stdout",
     "output_type": "stream",
     "text": [
      "157 0.6905260128974915 0.6924971468196419\n"
     ]
    },
    {
     "name": "stderr",
     "output_type": "stream",
     "text": [
      "100%|██████████| 500/500 [00:04<00:00, 105.62it/s]\n",
      "  2%|▏         | 12/500 [00:00<00:04, 109.70it/s]"
     ]
    },
    {
     "name": "stdout",
     "output_type": "stream",
     "text": [
      "158 0.6904240081310272 0.6924977559529378\n"
     ]
    },
    {
     "name": "stderr",
     "output_type": "stream",
     "text": [
      "100%|██████████| 500/500 [00:04<00:00, 105.34it/s]\n",
      "  2%|▏         | 12/500 [00:00<00:04, 109.73it/s]"
     ]
    },
    {
     "name": "stdout",
     "output_type": "stream",
     "text": [
      "159 0.690409704208374 0.6924997660928144\n"
     ]
    },
    {
     "name": "stderr",
     "output_type": "stream",
     "text": [
      "100%|██████████| 500/500 [00:04<00:00, 105.55it/s]\n",
      "  2%|▏         | 12/500 [00:00<00:04, 109.91it/s]"
     ]
    },
    {
     "name": "stdout",
     "output_type": "stream",
     "text": [
      "160 0.6904387274980545 0.6925128624586764\n"
     ]
    },
    {
     "name": "stderr",
     "output_type": "stream",
     "text": [
      "100%|██████████| 500/500 [00:04<00:00, 105.51it/s]\n",
      "  2%|▏         | 12/500 [00:00<00:04, 109.68it/s]"
     ]
    },
    {
     "name": "stdout",
     "output_type": "stream",
     "text": [
      "161 0.6905242930650711 0.6925010452727358\n"
     ]
    },
    {
     "name": "stderr",
     "output_type": "stream",
     "text": [
      "100%|██████████| 500/500 [00:04<00:00, 105.69it/s]\n",
      "  2%|▏         | 12/500 [00:00<00:04, 110.38it/s]"
     ]
    },
    {
     "name": "stdout",
     "output_type": "stream",
     "text": [
      "162 0.6903640563488007 0.6925017762326908\n"
     ]
    },
    {
     "name": "stderr",
     "output_type": "stream",
     "text": [
      "100%|██████████| 500/500 [00:04<00:00, 105.74it/s]\n",
      "  2%|▏         | 12/500 [00:00<00:04, 109.81it/s]"
     ]
    },
    {
     "name": "stdout",
     "output_type": "stream",
     "text": [
      "163 0.6904197808504104 0.6925000706594623\n"
     ]
    },
    {
     "name": "stderr",
     "output_type": "stream",
     "text": [
      "100%|██████████| 500/500 [00:04<00:00, 105.54it/s]\n",
      "  2%|▏         | 12/500 [00:00<00:04, 110.12it/s]"
     ]
    },
    {
     "name": "stdout",
     "output_type": "stream",
     "text": [
      "164 0.6904005302190781 0.6925056746857847\n"
     ]
    },
    {
     "name": "stderr",
     "output_type": "stream",
     "text": [
      "100%|██████████| 500/500 [00:04<00:00, 105.71it/s]\n",
      "  2%|▏         | 12/500 [00:00<00:04, 110.50it/s]"
     ]
    },
    {
     "name": "stdout",
     "output_type": "stream",
     "text": [
      "165 0.6904280247688294 0.6925112177987774\n"
     ]
    },
    {
     "name": "stderr",
     "output_type": "stream",
     "text": [
      "100%|██████████| 500/500 [00:04<00:00, 105.80it/s]\n",
      "  2%|▏         | 12/500 [00:00<00:04, 110.41it/s]"
     ]
    },
    {
     "name": "stdout",
     "output_type": "stream",
     "text": [
      "166 0.690403367638588 0.6925092685722305\n"
     ]
    },
    {
     "name": "stderr",
     "output_type": "stream",
     "text": [
      "100%|██████████| 500/500 [00:04<00:00, 105.79it/s]\n",
      "  2%|▏         | 12/500 [00:00<00:04, 110.06it/s]"
     ]
    },
    {
     "name": "stdout",
     "output_type": "stream",
     "text": [
      "167 0.690419810295105 0.6925036645459082\n"
     ]
    },
    {
     "name": "stderr",
     "output_type": "stream",
     "text": [
      "100%|██████████| 500/500 [00:04<00:00, 105.58it/s]\n",
      "  2%|▏         | 12/500 [00:00<00:04, 110.33it/s]"
     ]
    },
    {
     "name": "stdout",
     "output_type": "stream",
     "text": [
      "168 0.6904049068689346 0.6925080503056387\n"
     ]
    },
    {
     "name": "stderr",
     "output_type": "stream",
     "text": [
      "100%|██████████| 500/500 [00:04<00:00, 105.55it/s]\n",
      "  2%|▏         | 12/500 [00:00<00:04, 109.95it/s]"
     ]
    },
    {
     "name": "stdout",
     "output_type": "stream",
     "text": [
      "169 0.690371994972229 0.6925082939589571\n"
     ]
    },
    {
     "name": "stderr",
     "output_type": "stream",
     "text": [
      "100%|██████████| 500/500 [00:04<00:00, 105.59it/s]\n",
      "  2%|▏         | 12/500 [00:00<00:04, 109.85it/s]"
     ]
    },
    {
     "name": "stdout",
     "output_type": "stream",
     "text": [
      "170 0.6904073286056519 0.69251529899186\n"
     ]
    },
    {
     "name": "stderr",
     "output_type": "stream",
     "text": [
      "100%|██████████| 500/500 [00:04<00:00, 105.51it/s]\n",
      "  2%|▏         | 12/500 [00:00<00:04, 109.96it/s]"
     ]
    },
    {
     "name": "stdout",
     "output_type": "stream",
     "text": [
      "171 0.6903693143129349 0.6925121924120509\n"
     ]
    },
    {
     "name": "stderr",
     "output_type": "stream",
     "text": [
      "100%|██████████| 500/500 [00:04<00:00, 105.55it/s]\n",
      "  2%|▏         | 12/500 [00:00<00:04, 110.12it/s]"
     ]
    },
    {
     "name": "stdout",
     "output_type": "stream",
     "text": [
      "172 0.6903320598602295 0.6925162736051335\n"
     ]
    },
    {
     "name": "stderr",
     "output_type": "stream",
     "text": [
      "100%|██████████| 500/500 [00:04<00:00, 105.56it/s]\n",
      "  2%|▏         | 12/500 [00:00<00:04, 109.85it/s]"
     ]
    },
    {
     "name": "stdout",
     "output_type": "stream",
     "text": [
      "173 0.6903734122514724 0.6925135325053019\n"
     ]
    },
    {
     "name": "stderr",
     "output_type": "stream",
     "text": [
      "100%|██████████| 500/500 [00:04<00:00, 105.42it/s]\n",
      "  2%|▏         | 12/500 [00:00<00:04, 109.73it/s]"
     ]
    },
    {
     "name": "stdout",
     "output_type": "stream",
     "text": [
      "174 0.6903737845420838 0.692520354798216\n"
     ]
    },
    {
     "name": "stderr",
     "output_type": "stream",
     "text": [
      "100%|██████████| 500/500 [00:04<00:00, 105.34it/s]\n",
      "  2%|▏         | 12/500 [00:00<00:04, 109.91it/s]"
     ]
    },
    {
     "name": "stdout",
     "output_type": "stream",
     "text": [
      "175 0.69038656270504 0.6925159690384856\n"
     ]
    },
    {
     "name": "stderr",
     "output_type": "stream",
     "text": [
      "100%|██████████| 500/500 [00:04<00:00, 105.33it/s]\n",
      "  2%|▏         | 12/500 [00:00<00:04, 109.58it/s]"
     ]
    },
    {
     "name": "stdout",
     "output_type": "stream",
     "text": [
      "176 0.6903050178289414 0.6925216339781375\n"
     ]
    },
    {
     "name": "stderr",
     "output_type": "stream",
     "text": [
      "100%|██████████| 500/500 [00:04<00:00, 105.41it/s]\n",
      "  2%|▏         | 12/500 [00:00<00:04, 109.96it/s]"
     ]
    },
    {
     "name": "stdout",
     "output_type": "stream",
     "text": [
      "177 0.6902975420951843 0.6925150553385416\n"
     ]
    },
    {
     "name": "stderr",
     "output_type": "stream",
     "text": [
      "100%|██████████| 500/500 [00:04<00:00, 105.40it/s]\n",
      "  2%|▏         | 12/500 [00:00<00:04, 110.14it/s]"
     ]
    },
    {
     "name": "stdout",
     "output_type": "stream",
     "text": [
      "178 0.6902900027036667 0.6925185883116579\n"
     ]
    },
    {
     "name": "stderr",
     "output_type": "stream",
     "text": [
      "100%|██████████| 500/500 [00:04<00:00, 105.62it/s]\n",
      "  2%|▏         | 12/500 [00:00<00:04, 109.78it/s]"
     ]
    },
    {
     "name": "stdout",
     "output_type": "stream",
     "text": [
      "179 0.6902656054496765 0.692521999458115\n"
     ]
    },
    {
     "name": "stderr",
     "output_type": "stream",
     "text": [
      "100%|██████████| 500/500 [00:04<00:00, 105.50it/s]\n",
      "  2%|▏         | 12/500 [00:00<00:04, 110.05it/s]"
     ]
    },
    {
     "name": "stdout",
     "output_type": "stream",
     "text": [
      "180 0.6901814658641815 0.6925141416385978\n"
     ]
    },
    {
     "name": "stderr",
     "output_type": "stream",
     "text": [
      "100%|██████████| 500/500 [00:04<00:00, 105.28it/s]\n",
      "  2%|▏         | 12/500 [00:00<00:04, 110.08it/s]"
     ]
    },
    {
     "name": "stdout",
     "output_type": "stream",
     "text": [
      "181 0.690229551076889 0.692535400390625\n"
     ]
    },
    {
     "name": "stderr",
     "output_type": "stream",
     "text": [
      "100%|██████████| 500/500 [00:04<00:00, 105.49it/s]\n",
      "  2%|▏         | 12/500 [00:00<00:04, 109.76it/s]"
     ]
    },
    {
     "name": "stdout",
     "output_type": "stream",
     "text": [
      "182 0.6902660075426101 0.6925262024778568\n"
     ]
    },
    {
     "name": "stderr",
     "output_type": "stream",
     "text": [
      "100%|██████████| 500/500 [00:04<00:00, 105.49it/s]\n",
      "  2%|▏         | 12/500 [00:00<00:04, 109.96it/s]"
     ]
    },
    {
     "name": "stdout",
     "output_type": "stream",
     "text": [
      "183 0.6902170723676682 0.692532415637475\n"
     ]
    },
    {
     "name": "stderr",
     "output_type": "stream",
     "text": [
      "100%|██████████| 500/500 [00:04<00:00, 105.55it/s]\n",
      "  2%|▏         | 12/500 [00:00<00:04, 109.99it/s]"
     ]
    },
    {
     "name": "stdout",
     "output_type": "stream",
     "text": [
      "184 0.6901480541229248 0.6925220603714446\n"
     ]
    },
    {
     "name": "stderr",
     "output_type": "stream",
     "text": [
      "100%|██████████| 500/500 [00:04<00:00, 105.54it/s]\n",
      "  2%|▏         | 12/500 [00:00<00:04, 109.95it/s]"
     ]
    },
    {
     "name": "stdout",
     "output_type": "stream",
     "text": [
      "185 0.6901466082334519 0.6925262633911864\n"
     ]
    },
    {
     "name": "stderr",
     "output_type": "stream",
     "text": [
      "100%|██████████| 500/500 [00:04<00:00, 105.65it/s]\n",
      "  2%|▏         | 12/500 [00:00<00:04, 110.23it/s]"
     ]
    },
    {
     "name": "stdout",
     "output_type": "stream",
     "text": [
      "186 0.6902136952877045 0.6925298572776323\n"
     ]
    },
    {
     "name": "stderr",
     "output_type": "stream",
     "text": [
      "100%|██████████| 500/500 [00:04<00:00, 105.71it/s]\n",
      "  2%|▏         | 12/500 [00:00<00:04, 109.79it/s]"
     ]
    },
    {
     "name": "stdout",
     "output_type": "stream",
     "text": [
      "187 0.6902141414880753 0.6925359486105913\n"
     ]
    },
    {
     "name": "stderr",
     "output_type": "stream",
     "text": [
      "100%|██████████| 500/500 [00:04<00:00, 105.62it/s]\n",
      "  2%|▏         | 12/500 [00:00<00:04, 109.72it/s]"
     ]
    },
    {
     "name": "stdout",
     "output_type": "stream",
     "text": [
      "188 0.6901961418390274 0.6925410653302769\n"
     ]
    },
    {
     "name": "stderr",
     "output_type": "stream",
     "text": [
      "100%|██████████| 500/500 [00:04<00:00, 105.57it/s]\n",
      "  2%|▏         | 11/500 [00:00<00:04, 109.82it/s]"
     ]
    },
    {
     "name": "stdout",
     "output_type": "stream",
     "text": [
      "189 0.6901438702344894 0.6925470957499065\n"
     ]
    },
    {
     "name": "stderr",
     "output_type": "stream",
     "text": [
      "100%|██████████| 500/500 [00:04<00:00, 105.46it/s]\n",
      "  2%|▏         | 12/500 [00:00<00:04, 109.60it/s]"
     ]
    },
    {
     "name": "stdout",
     "output_type": "stream",
     "text": [
      "190 0.690157829284668 0.6925431363834831\n"
     ]
    },
    {
     "name": "stderr",
     "output_type": "stream",
     "text": [
      "100%|██████████| 500/500 [00:04<00:00, 105.44it/s]\n",
      "  2%|▏         | 12/500 [00:00<00:04, 110.00it/s]"
     ]
    },
    {
     "name": "stdout",
     "output_type": "stream",
     "text": [
      "191 0.6901912131309509 0.6925386287970933\n"
     ]
    },
    {
     "name": "stderr",
     "output_type": "stream",
     "text": [
      "100%|██████████| 500/500 [00:04<00:00, 105.59it/s]\n",
      "  2%|▏         | 12/500 [00:00<00:04, 110.02it/s]"
     ]
    },
    {
     "name": "stdout",
     "output_type": "stream",
     "text": [
      "192 0.6901079552173615 0.6925411871569361\n"
     ]
    },
    {
     "name": "stderr",
     "output_type": "stream",
     "text": [
      "100%|██████████| 500/500 [00:04<00:00, 105.46it/s]\n",
      "  2%|▏         | 12/500 [00:00<00:04, 109.67it/s]"
     ]
    },
    {
     "name": "stdout",
     "output_type": "stream",
     "text": [
      "193 0.6901119327545167 0.6925397861503555\n"
     ]
    },
    {
     "name": "stderr",
     "output_type": "stream",
     "text": [
      "100%|██████████| 500/500 [00:04<00:00, 105.53it/s]\n",
      "  2%|▏         | 12/500 [00:00<00:04, 109.79it/s]"
     ]
    },
    {
     "name": "stdout",
     "output_type": "stream",
     "text": [
      "194 0.6900667042732239 0.6925382633171158\n"
     ]
    },
    {
     "name": "stderr",
     "output_type": "stream",
     "text": [
      "100%|██████████| 500/500 [00:04<00:00, 105.57it/s]\n",
      "  2%|▏         | 12/500 [00:00<00:04, 109.97it/s]"
     ]
    },
    {
     "name": "stdout",
     "output_type": "stream",
     "text": [
      "195 0.6901056677103042 0.6925415526369136\n"
     ]
    },
    {
     "name": "stderr",
     "output_type": "stream",
     "text": [
      "100%|██████████| 500/500 [00:04<00:00, 105.46it/s]\n",
      "  2%|▏         | 12/500 [00:00<00:04, 109.91it/s]"
     ]
    },
    {
     "name": "stdout",
     "output_type": "stream",
     "text": [
      "196 0.6900764397382736 0.6925516033362962\n"
     ]
    },
    {
     "name": "stderr",
     "output_type": "stream",
     "text": [
      "100%|██████████| 500/500 [00:04<00:00, 105.48it/s]\n",
      "  2%|▏         | 12/500 [00:00<00:04, 109.87it/s]"
     ]
    },
    {
     "name": "stdout",
     "output_type": "stream",
     "text": [
      "197 0.6901083388328553 0.6925381414904566\n"
     ]
    },
    {
     "name": "stderr",
     "output_type": "stream",
     "text": [
      "100%|██████████| 500/500 [00:04<00:00, 105.51it/s]\n",
      "  2%|▏         | 12/500 [00:00<00:04, 109.90it/s]"
     ]
    },
    {
     "name": "stdout",
     "output_type": "stream",
     "text": [
      "198 0.6900742573738098 0.6925395424970372\n"
     ]
    },
    {
     "name": "stderr",
     "output_type": "stream",
     "text": [
      "100%|██████████| 500/500 [00:04<00:00, 105.56it/s]\n",
      "  2%|▏         | 12/500 [00:00<00:04, 109.96it/s]"
     ]
    },
    {
     "name": "stdout",
     "output_type": "stream",
     "text": [
      "199 0.690031186580658 0.6925453292633483\n"
     ]
    },
    {
     "name": "stderr",
     "output_type": "stream",
     "text": [
      "100%|██████████| 500/500 [00:04<00:00, 105.71it/s]\n",
      "  2%|▏         | 12/500 [00:00<00:04, 109.58it/s]"
     ]
    },
    {
     "name": "stdout",
     "output_type": "stream",
     "text": [
      "200 0.6898684158325196 0.6925506287230228\n"
     ]
    },
    {
     "name": "stderr",
     "output_type": "stream",
     "text": [
      "100%|██████████| 500/500 [00:04<00:00, 105.45it/s]\n",
      "  2%|▏         | 12/500 [00:00<00:04, 109.78it/s]"
     ]
    },
    {
     "name": "stdout",
     "output_type": "stream",
     "text": [
      "201 0.6899877948760986 0.6925405171103106\n"
     ]
    },
    {
     "name": "stderr",
     "output_type": "stream",
     "text": [
      "100%|██████████| 500/500 [00:04<00:00, 105.48it/s]\n",
      "  2%|▏         | 11/500 [00:00<00:04, 108.43it/s]"
     ]
    },
    {
     "name": "stdout",
     "output_type": "stream",
     "text": [
      "202 0.6900349227190018 0.6925413698969249\n"
     ]
    },
    {
     "name": "stderr",
     "output_type": "stream",
     "text": [
      "100%|██████████| 500/500 [00:04<00:00, 105.37it/s]\n",
      "  2%|▏         | 12/500 [00:00<00:04, 109.70it/s]"
     ]
    },
    {
     "name": "stdout",
     "output_type": "stream",
     "text": [
      "203 0.6900015621185303 0.6925543444361277\n"
     ]
    },
    {
     "name": "stderr",
     "output_type": "stream",
     "text": [
      "100%|██████████| 500/500 [00:04<00:00, 105.47it/s]\n",
      "  2%|▏         | 12/500 [00:00<00:04, 109.76it/s]"
     ]
    },
    {
     "name": "stdout",
     "output_type": "stream",
     "text": [
      "204 0.68999369597435 0.6925470348365769\n"
     ]
    },
    {
     "name": "stderr",
     "output_type": "stream",
     "text": [
      "100%|██████████| 500/500 [00:04<00:00, 105.95it/s]\n",
      "  2%|▏         | 12/500 [00:00<00:04, 109.69it/s]"
     ]
    },
    {
     "name": "stdout",
     "output_type": "stream",
     "text": [
      "205 0.6900224956274033 0.6925422835968688\n"
     ]
    },
    {
     "name": "stderr",
     "output_type": "stream",
     "text": [
      "100%|██████████| 500/500 [00:04<00:00, 105.36it/s]\n",
      "  2%|▏         | 12/500 [00:00<00:04, 110.05it/s]"
     ]
    },
    {
     "name": "stdout",
     "output_type": "stream",
     "text": [
      "206 0.6900193765163422 0.6925475221432136\n"
     ]
    },
    {
     "name": "stderr",
     "output_type": "stream",
     "text": [
      "100%|██████████| 500/500 [00:04<00:00, 105.67it/s]\n",
      "  2%|▏         | 12/500 [00:00<00:04, 110.07it/s]"
     ]
    },
    {
     "name": "stdout",
     "output_type": "stream",
     "text": [
      "207 0.6899841542243957 0.6925425272501872\n"
     ]
    },
    {
     "name": "stderr",
     "output_type": "stream",
     "text": [
      "100%|██████████| 500/500 [00:04<00:00, 105.77it/s]\n",
      "  2%|▏         | 12/500 [00:00<00:04, 109.95it/s]"
     ]
    },
    {
     "name": "stdout",
     "output_type": "stream",
     "text": [
      "208 0.6898975363969803 0.6925422835968688\n"
     ]
    },
    {
     "name": "stderr",
     "output_type": "stream",
     "text": [
      "100%|██████████| 500/500 [00:04<00:00, 105.40it/s]\n",
      "  2%|▏         | 12/500 [00:00<00:04, 109.84it/s]"
     ]
    },
    {
     "name": "stdout",
     "output_type": "stream",
     "text": [
      "209 0.6899036910533906 0.6925464866166106\n"
     ]
    },
    {
     "name": "stderr",
     "output_type": "stream",
     "text": [
      "100%|██████████| 500/500 [00:04<00:00, 105.39it/s]\n",
      "  2%|▏         | 12/500 [00:00<00:04, 109.74it/s]"
     ]
    },
    {
     "name": "stdout",
     "output_type": "stream",
     "text": [
      "210 0.6899792870283127 0.6925523952095808\n"
     ]
    },
    {
     "name": "stderr",
     "output_type": "stream",
     "text": [
      "100%|██████████| 500/500 [00:04<00:00, 105.49it/s]\n",
      "  2%|▏         | 12/500 [00:00<00:04, 110.17it/s]"
     ]
    },
    {
     "name": "stdout",
     "output_type": "stream",
     "text": [
      "211 0.6899748014211655 0.6925581210625624\n"
     ]
    },
    {
     "name": "stderr",
     "output_type": "stream",
     "text": [
      "100%|██████████| 500/500 [00:04<00:00, 105.48it/s]\n",
      "  2%|▏         | 12/500 [00:00<00:04, 109.87it/s]"
     ]
    },
    {
     "name": "stdout",
     "output_type": "stream",
     "text": [
      "212 0.6898499431610108 0.6925550753960829\n"
     ]
    },
    {
     "name": "stderr",
     "output_type": "stream",
     "text": [
      "100%|██████████| 500/500 [00:04<00:00, 105.51it/s]\n",
      "  2%|▏         | 12/500 [00:00<00:04, 110.10it/s]"
     ]
    },
    {
     "name": "stdout",
     "output_type": "stream",
     "text": [
      "213 0.6898968830108643 0.6925630550422592\n"
     ]
    },
    {
     "name": "stderr",
     "output_type": "stream",
     "text": [
      "100%|██████████| 500/500 [00:04<00:00, 105.57it/s]\n",
      "  2%|▏         | 12/500 [00:00<00:04, 109.81it/s]"
     ]
    },
    {
     "name": "stdout",
     "output_type": "stream",
     "text": [
      "214 0.6898836759328842 0.6925615322090195\n"
     ]
    },
    {
     "name": "stderr",
     "output_type": "stream",
     "text": [
      "100%|██████████| 500/500 [00:04<00:00, 105.54it/s]\n",
      "  2%|▏         | 12/500 [00:00<00:04, 109.53it/s]"
     ]
    },
    {
     "name": "stdout",
     "output_type": "stream",
     "text": [
      "215 0.6898608212471008 0.6925588520225174\n"
     ]
    },
    {
     "name": "stderr",
     "output_type": "stream",
     "text": [
      "100%|██████████| 500/500 [00:04<00:00, 105.45it/s]\n",
      "  2%|▏         | 12/500 [00:00<00:04, 109.83it/s]"
     ]
    },
    {
     "name": "stdout",
     "output_type": "stream",
     "text": [
      "216 0.6898396996259689 0.6925625068222929\n"
     ]
    },
    {
     "name": "stderr",
     "output_type": "stream",
     "text": [
      "100%|██████████| 500/500 [00:04<00:00, 105.41it/s]\n",
      "  2%|▏         | 12/500 [00:00<00:04, 109.59it/s]"
     ]
    },
    {
     "name": "stdout",
     "output_type": "stream",
     "text": [
      "217 0.689867693066597 0.6925625068222929\n"
     ]
    },
    {
     "name": "stderr",
     "output_type": "stream",
     "text": [
      "100%|██████████| 500/500 [00:04<00:00, 105.41it/s]\n",
      "  2%|▏         | 12/500 [00:00<00:04, 109.70it/s]"
     ]
    },
    {
     "name": "stdout",
     "output_type": "stream",
     "text": [
      "218 0.6899100414514542 0.6925644560488399\n"
     ]
    },
    {
     "name": "stderr",
     "output_type": "stream",
     "text": [
      "100%|██████████| 500/500 [00:04<00:00, 105.42it/s]\n",
      "  2%|▏         | 12/500 [00:00<00:04, 109.67it/s]"
     ]
    },
    {
     "name": "stdout",
     "output_type": "stream",
     "text": [
      "219 0.6898752399682999 0.6925651260954653\n"
     ]
    },
    {
     "name": "stderr",
     "output_type": "stream",
     "text": [
      "100%|██████████| 500/500 [00:04<00:00, 105.58it/s]\n",
      "  2%|▏         | 12/500 [00:00<00:04, 110.01it/s]"
     ]
    },
    {
     "name": "stdout",
     "output_type": "stream",
     "text": [
      "220 0.6899365799427033 0.6925770651080652\n"
     ]
    },
    {
     "name": "stderr",
     "output_type": "stream",
     "text": [
      "100%|██████████| 500/500 [00:04<00:00, 105.58it/s]\n",
      "  2%|▏         | 11/500 [00:00<00:04, 108.91it/s]"
     ]
    },
    {
     "name": "stdout",
     "output_type": "stream",
     "text": [
      "221 0.6898387248516082 0.6925732275683009\n"
     ]
    },
    {
     "name": "stderr",
     "output_type": "stream",
     "text": [
      "100%|██████████| 500/500 [00:04<00:00, 105.42it/s]\n",
      "  2%|▏         | 12/500 [00:00<00:04, 111.15it/s]"
     ]
    },
    {
     "name": "stdout",
     "output_type": "stream",
     "text": [
      "222 0.6898686171770095 0.6925765168880988\n"
     ]
    },
    {
     "name": "stderr",
     "output_type": "stream",
     "text": [
      "100%|██████████| 500/500 [00:04<00:00, 105.56it/s]\n",
      "  2%|▏         | 12/500 [00:00<00:04, 110.07it/s]"
     ]
    },
    {
     "name": "stdout",
     "output_type": "stream",
     "text": [
      "223 0.6898579323291778 0.6925802326012038\n"
     ]
    },
    {
     "name": "stderr",
     "output_type": "stream",
     "text": [
      "100%|██████████| 500/500 [00:04<00:00, 105.45it/s]\n",
      "  2%|▏         | 12/500 [00:00<00:04, 109.63it/s]"
     ]
    },
    {
     "name": "stdout",
     "output_type": "stream",
     "text": [
      "224 0.6898378009796142 0.6925766996280875\n"
     ]
    },
    {
     "name": "stderr",
     "output_type": "stream",
     "text": [
      "100%|██████████| 500/500 [00:04<00:00, 105.44it/s]\n",
      "  2%|▏         | 12/500 [00:00<00:04, 109.98it/s]"
     ]
    },
    {
     "name": "stdout",
     "output_type": "stream",
     "text": [
      "225 0.6897910056114197 0.6925843137942864\n"
     ]
    },
    {
     "name": "stderr",
     "output_type": "stream",
     "text": [
      "100%|██████████| 500/500 [00:04<00:00, 105.64it/s]\n",
      "  2%|▏         | 12/500 [00:00<00:04, 110.14it/s]"
     ]
    },
    {
     "name": "stdout",
     "output_type": "stream",
     "text": [
      "226 0.689782689332962 0.6925805371678518\n"
     ]
    },
    {
     "name": "stderr",
     "output_type": "stream",
     "text": [
      "100%|██████████| 500/500 [00:04<00:00, 105.56it/s]\n",
      "  2%|▏         | 11/500 [00:00<00:04, 109.72it/s]"
     ]
    },
    {
     "name": "stdout",
     "output_type": "stream",
     "text": [
      "227 0.6897993285655976 0.6925718874750499\n"
     ]
    },
    {
     "name": "stderr",
     "output_type": "stream",
     "text": [
      "100%|██████████| 500/500 [00:04<00:00, 105.67it/s]\n",
      "  2%|▏         | 12/500 [00:00<00:04, 109.79it/s]"
     ]
    },
    {
     "name": "stdout",
     "output_type": "stream",
     "text": [
      "228 0.6898170982599259 0.6925927198337699\n"
     ]
    },
    {
     "name": "stderr",
     "output_type": "stream",
     "text": [
      "100%|██████████| 500/500 [00:04<00:00, 105.63it/s]\n",
      "  2%|▏         | 12/500 [00:00<00:04, 109.73it/s]"
     ]
    },
    {
     "name": "stdout",
     "output_type": "stream",
     "text": [
      "229 0.6897727257013321 0.6925816945211141\n"
     ]
    },
    {
     "name": "stderr",
     "output_type": "stream",
     "text": [
      "100%|██████████| 500/500 [00:04<00:00, 105.62it/s]\n",
      "  2%|▏         | 12/500 [00:00<00:04, 110.76it/s]"
     ]
    },
    {
     "name": "stdout",
     "output_type": "stream",
     "text": [
      "230 0.6897356518507004 0.6925801107745446\n"
     ]
    },
    {
     "name": "stderr",
     "output_type": "stream",
     "text": [
      "100%|██████████| 500/500 [00:04<00:00, 105.99it/s]\n",
      "  2%|▏         | 12/500 [00:00<00:04, 109.92it/s]"
     ]
    },
    {
     "name": "stdout",
     "output_type": "stream",
     "text": [
      "231 0.6896937905550004 0.6925777960680202\n"
     ]
    },
    {
     "name": "stderr",
     "output_type": "stream",
     "text": [
      "100%|██████████| 500/500 [00:04<00:00, 105.51it/s]\n",
      "  2%|▏         | 12/500 [00:00<00:04, 110.07it/s]"
     ]
    },
    {
     "name": "stdout",
     "output_type": "stream",
     "text": [
      "232 0.6896810920238495 0.6925807199078405\n"
     ]
    },
    {
     "name": "stderr",
     "output_type": "stream",
     "text": [
      "100%|██████████| 500/500 [00:04<00:00, 105.78it/s]\n",
      "  2%|▏         | 11/500 [00:00<00:04, 106.20it/s]"
     ]
    },
    {
     "name": "stdout",
     "output_type": "stream",
     "text": [
      "233 0.6896760269403458 0.692577978808009\n"
     ]
    },
    {
     "name": "stderr",
     "output_type": "stream",
     "text": [
      "100%|██████████| 500/500 [00:04<00:00, 105.42it/s]\n",
      "  2%|▏         | 12/500 [00:00<00:04, 109.74it/s]"
     ]
    },
    {
     "name": "stdout",
     "output_type": "stream",
     "text": [
      "234 0.6897127323150635 0.6925905269539047\n"
     ]
    },
    {
     "name": "stderr",
     "output_type": "stream",
     "text": [
      "100%|██████████| 500/500 [00:04<00:00, 105.56it/s]\n",
      "  2%|▏         | 12/500 [00:00<00:04, 110.14it/s]"
     ]
    },
    {
     "name": "stdout",
     "output_type": "stream",
     "text": [
      "235 0.689738648891449 0.6925950345402944\n"
     ]
    },
    {
     "name": "stderr",
     "output_type": "stream",
     "text": [
      "100%|██████████| 500/500 [00:04<00:00, 106.06it/s]\n",
      "  2%|▏         | 12/500 [00:00<00:04, 109.78it/s]"
     ]
    },
    {
     "name": "stdout",
     "output_type": "stream",
     "text": [
      "236 0.6896207404136657 0.6925922325271332\n"
     ]
    },
    {
     "name": "stderr",
     "output_type": "stream",
     "text": [
      "100%|██████████| 500/500 [00:04<00:00, 105.87it/s]\n",
      "  2%|▏         | 12/500 [00:00<00:04, 110.17it/s]"
     ]
    },
    {
     "name": "stdout",
     "output_type": "stream",
     "text": [
      "237 0.6896908427476883 0.6926092882594187\n"
     ]
    },
    {
     "name": "stderr",
     "output_type": "stream",
     "text": [
      "100%|██████████| 500/500 [00:04<00:00, 105.59it/s]\n",
      "  2%|▏         | 12/500 [00:00<00:04, 110.14it/s]"
     ]
    },
    {
     "name": "stdout",
     "output_type": "stream",
     "text": [
      "238 0.6897237607240677 0.6926023441398453\n"
     ]
    },
    {
     "name": "stderr",
     "output_type": "stream",
     "text": [
      "100%|██████████| 500/500 [00:04<00:00, 105.57it/s]\n",
      "  2%|▏         | 11/500 [00:00<00:04, 108.69it/s]"
     ]
    },
    {
     "name": "stdout",
     "output_type": "stream",
     "text": [
      "239 0.6897728935480117 0.692595400020272\n"
     ]
    },
    {
     "name": "stderr",
     "output_type": "stream",
     "text": [
      "100%|██████████| 500/500 [00:04<00:00, 104.35it/s]\n",
      "  2%|▏         | 11/500 [00:00<00:04, 107.87it/s]"
     ]
    },
    {
     "name": "stdout",
     "output_type": "stream",
     "text": [
      "240 0.6896891528367997 0.6925927198337699\n"
     ]
    },
    {
     "name": "stderr",
     "output_type": "stream",
     "text": [
      "100%|██████████| 500/500 [00:04<00:00, 104.12it/s]\n",
      "  2%|▏         | 11/500 [00:00<00:04, 108.46it/s]"
     ]
    },
    {
     "name": "stdout",
     "output_type": "stream",
     "text": [
      "241 0.689664006471634 0.6925894914273016\n"
     ]
    },
    {
     "name": "stderr",
     "output_type": "stream",
     "text": [
      "100%|██████████| 500/500 [00:04<00:00, 104.09it/s]\n",
      "  2%|▏         | 11/500 [00:00<00:04, 109.67it/s]"
     ]
    },
    {
     "name": "stdout",
     "output_type": "stream",
     "text": [
      "242 0.6896704720258713 0.6925867503274701\n"
     ]
    },
    {
     "name": "stderr",
     "output_type": "stream",
     "text": [
      "100%|██████████| 500/500 [00:04<00:00, 104.15it/s]\n",
      "  2%|▏         | 11/500 [00:00<00:04, 107.57it/s]"
     ]
    },
    {
     "name": "stdout",
     "output_type": "stream",
     "text": [
      "243 0.6896036179065704 0.6925982020334331\n"
     ]
    },
    {
     "name": "stderr",
     "output_type": "stream",
     "text": [
      "100%|██████████| 500/500 [00:04<00:00, 104.01it/s]\n",
      "  2%|▏         | 11/500 [00:00<00:04, 107.80it/s]"
     ]
    },
    {
     "name": "stdout",
     "output_type": "stream",
     "text": [
      "244 0.6895978345870971 0.6925962528068862\n"
     ]
    },
    {
     "name": "stderr",
     "output_type": "stream",
     "text": [
      "100%|██████████| 500/500 [00:04<00:00, 104.12it/s]\n",
      "  2%|▏         | 11/500 [00:00<00:04, 107.62it/s]"
     ]
    },
    {
     "name": "stdout",
     "output_type": "stream",
     "text": [
      "245 0.6896411007642747 0.6926038060597555\n"
     ]
    },
    {
     "name": "stderr",
     "output_type": "stream",
     "text": [
      "100%|██████████| 500/500 [00:04<00:00, 104.07it/s]\n",
      "  2%|▏         | 11/500 [00:00<00:04, 108.88it/s]"
     ]
    },
    {
     "name": "stdout",
     "output_type": "stream",
     "text": [
      "246 0.689615306019783 0.6926041715397331\n"
     ]
    },
    {
     "name": "stderr",
     "output_type": "stream",
     "text": [
      "100%|██████████| 500/500 [00:04<00:00, 103.98it/s]\n",
      "  2%|▏         | 11/500 [00:00<00:04, 107.82it/s]"
     ]
    },
    {
     "name": "stdout",
     "output_type": "stream",
     "text": [
      "247 0.6895666363239288 0.6926033796664484\n"
     ]
    },
    {
     "name": "stderr",
     "output_type": "stream",
     "text": [
      "100%|██████████| 500/500 [00:04<00:00, 104.05it/s]\n",
      "  2%|▏         | 11/500 [00:00<00:04, 107.88it/s]"
     ]
    },
    {
     "name": "stdout",
     "output_type": "stream",
     "text": [
      "248 0.6896087491512298 0.6926150750257298\n"
     ]
    },
    {
     "name": "stderr",
     "output_type": "stream",
     "text": [
      "100%|██████████| 500/500 [00:04<00:00, 103.93it/s]\n",
      "  2%|▏         | 11/500 [00:00<00:04, 107.37it/s]"
     ]
    },
    {
     "name": "stdout",
     "output_type": "stream",
     "text": [
      "249 0.6895904328823089 0.6926081918194861\n"
     ]
    },
    {
     "name": "stderr",
     "output_type": "stream",
     "text": [
      "100%|██████████| 500/500 [00:04<00:00, 104.54it/s]\n",
      "  2%|▏         | 11/500 [00:00<00:04, 107.62it/s]"
     ]
    },
    {
     "name": "stdout",
     "output_type": "stream",
     "text": [
      "250 0.6895202167034149 0.6926190953054828\n"
     ]
    },
    {
     "name": "stderr",
     "output_type": "stream",
     "text": [
      "100%|██████████| 500/500 [00:04<00:00, 104.12it/s]\n",
      "  2%|▏         | 11/500 [00:00<00:04, 107.95it/s]"
     ]
    },
    {
     "name": "stdout",
     "output_type": "stream",
     "text": [
      "251 0.6895882841348648 0.6926232983252245\n"
     ]
    },
    {
     "name": "stderr",
     "output_type": "stream",
     "text": [
      "100%|██████████| 500/500 [00:04<00:00, 104.25it/s]\n",
      "  2%|▏         | 11/500 [00:00<00:04, 107.51it/s]"
     ]
    },
    {
     "name": "stdout",
     "output_type": "stream",
     "text": [
      "252 0.6895005784034729 0.6926106892659992\n"
     ]
    },
    {
     "name": "stderr",
     "output_type": "stream",
     "text": [
      "100%|██████████| 500/500 [00:04<00:00, 103.96it/s]\n",
      "  2%|▏         | 11/500 [00:00<00:04, 107.96it/s]"
     ]
    },
    {
     "name": "stdout",
     "output_type": "stream",
     "text": [
      "253 0.6895308430194855 0.6926167805989584\n"
     ]
    },
    {
     "name": "stderr",
     "output_type": "stream",
     "text": [
      "100%|██████████| 500/500 [00:04<00:00, 103.98it/s]\n",
      "  2%|▏         | 11/500 [00:00<00:04, 109.21it/s]"
     ]
    },
    {
     "name": "stdout",
     "output_type": "stream",
     "text": [
      "254 0.689553991317749 0.6926246993318051\n"
     ]
    },
    {
     "name": "stderr",
     "output_type": "stream",
     "text": [
      "100%|██████████| 500/500 [00:04<00:00, 104.02it/s]\n",
      "  2%|▏         | 11/500 [00:00<00:04, 107.93it/s]"
     ]
    },
    {
     "name": "stdout",
     "output_type": "stream",
     "text": [
      "255 0.6894990935325622 0.6926294505715133\n"
     ]
    },
    {
     "name": "stderr",
     "output_type": "stream",
     "text": [
      "100%|██████████| 500/500 [00:04<00:00, 103.97it/s]\n",
      "  2%|▏         | 11/500 [00:00<00:04, 109.05it/s]"
     ]
    },
    {
     "name": "stdout",
     "output_type": "stream",
     "text": [
      "256 0.6894938513040543 0.6926332881112774\n"
     ]
    },
    {
     "name": "stderr",
     "output_type": "stream",
     "text": [
      "100%|██████████| 500/500 [00:04<00:00, 104.28it/s]\n",
      "  2%|▏         | 11/500 [00:00<00:04, 108.03it/s]"
     ]
    },
    {
     "name": "stdout",
     "output_type": "stream",
     "text": [
      "257 0.6895208541154861 0.6926338972445734\n"
     ]
    },
    {
     "name": "stderr",
     "output_type": "stream",
     "text": [
      "100%|██████████| 500/500 [00:04<00:00, 104.63it/s]\n",
      "  2%|▏         | 11/500 [00:00<00:04, 105.74it/s]"
     ]
    },
    {
     "name": "stdout",
     "output_type": "stream",
     "text": [
      "258 0.6895323348045349 0.6926251866384419\n"
     ]
    },
    {
     "name": "stderr",
     "output_type": "stream",
     "text": [
      "100%|██████████| 500/500 [00:04<00:00, 104.49it/s]\n",
      "  2%|▏         | 11/500 [00:00<00:04, 107.83it/s]"
     ]
    },
    {
     "name": "stdout",
     "output_type": "stream",
     "text": [
      "259 0.6894599366188049 0.6926267094716816\n"
     ]
    },
    {
     "name": "stderr",
     "output_type": "stream",
     "text": [
      "100%|██████████| 500/500 [00:04<00:00, 104.18it/s]\n",
      "  2%|▏         | 11/500 [00:00<00:04, 109.03it/s]"
     ]
    },
    {
     "name": "stdout",
     "output_type": "stream",
     "text": [
      "260 0.6895262460708618 0.6926248211584644\n"
     ]
    },
    {
     "name": "stderr",
     "output_type": "stream",
     "text": [
      "100%|██████████| 500/500 [00:04<00:00, 104.94it/s]\n",
      "  2%|▏         | 11/500 [00:00<00:04, 109.72it/s]"
     ]
    },
    {
     "name": "stdout",
     "output_type": "stream",
     "text": [
      "261 0.6893886547088623 0.6926192171321419\n"
     ]
    },
    {
     "name": "stderr",
     "output_type": "stream",
     "text": [
      "100%|██████████| 500/500 [00:04<00:00, 104.24it/s]\n",
      "  2%|▏         | 12/500 [00:00<00:04, 109.43it/s]"
     ]
    },
    {
     "name": "stdout",
     "output_type": "stream",
     "text": [
      "262 0.6895592728853226 0.6926105065260105\n"
     ]
    },
    {
     "name": "stderr",
     "output_type": "stream",
     "text": [
      "100%|██████████| 500/500 [00:04<00:00, 104.17it/s]\n",
      "  2%|▏         | 11/500 [00:00<00:04, 107.65it/s]"
     ]
    },
    {
     "name": "stdout",
     "output_type": "stream",
     "text": [
      "263 0.6894404118061066 0.6926229937585766\n"
     ]
    },
    {
     "name": "stderr",
     "output_type": "stream",
     "text": [
      "100%|██████████| 500/500 [00:04<00:00, 104.20it/s]\n",
      "  2%|▏         | 11/500 [00:00<00:04, 107.72it/s]"
     ]
    },
    {
     "name": "stdout",
     "output_type": "stream",
     "text": [
      "264 0.6895128720998764 0.6926338972445734\n"
     ]
    },
    {
     "name": "stderr",
     "output_type": "stream",
     "text": [
      "100%|██████████| 500/500 [00:04<00:00, 104.16it/s]\n",
      "  2%|▏         | 11/500 [00:00<00:04, 107.75it/s]"
     ]
    },
    {
     "name": "stdout",
     "output_type": "stream",
     "text": [
      "265 0.6893854283094406 0.6926182425188685\n"
     ]
    },
    {
     "name": "stderr",
     "output_type": "stream",
     "text": [
      "100%|██████████| 500/500 [00:04<00:00, 104.10it/s]\n",
      "  2%|▏         | 11/500 [00:00<00:04, 108.64it/s]"
     ]
    },
    {
     "name": "stdout",
     "output_type": "stream",
     "text": [
      "266 0.6894444959163666 0.6926221409719623\n"
     ]
    },
    {
     "name": "stderr",
     "output_type": "stream",
     "text": [
      "100%|██████████| 500/500 [00:04<00:00, 104.08it/s]\n",
      "  2%|▏         | 11/500 [00:00<00:04, 107.62it/s]"
     ]
    },
    {
     "name": "stdout",
     "output_type": "stream",
     "text": [
      "267 0.6894519786834716 0.6926169024256175\n"
     ]
    },
    {
     "name": "stderr",
     "output_type": "stream",
     "text": [
      "100%|██████████| 500/500 [00:04<00:00, 103.90it/s]\n",
      "  2%|▏         | 11/500 [00:00<00:04, 107.90it/s]"
     ]
    },
    {
     "name": "stdout",
     "output_type": "stream",
     "text": [
      "268 0.6894181365966797 0.6926246993318051\n"
     ]
    },
    {
     "name": "stderr",
     "output_type": "stream",
     "text": [
      "100%|██████████| 500/500 [00:04<00:00, 103.92it/s]\n",
      "  2%|▏         | 11/500 [00:00<00:04, 108.23it/s]"
     ]
    },
    {
     "name": "stdout",
     "output_type": "stream",
     "text": [
      "269 0.6893828439712525 0.6926273795183071\n"
     ]
    },
    {
     "name": "stderr",
     "output_type": "stream",
     "text": [
      "100%|██████████| 500/500 [00:04<00:00, 103.98it/s]\n",
      "  2%|▏         | 11/500 [00:00<00:04, 108.44it/s]"
     ]
    },
    {
     "name": "stdout",
     "output_type": "stream",
     "text": [
      "270 0.6894020729064941 0.692639013964259\n"
     ]
    },
    {
     "name": "stderr",
     "output_type": "stream",
     "text": [
      "100%|██████████| 500/500 [00:04<00:00, 104.04it/s]\n",
      "  2%|▏         | 11/500 [00:00<00:04, 108.94it/s]"
     ]
    },
    {
     "name": "stdout",
     "output_type": "stream",
     "text": [
      "271 0.6894230055809021 0.6926376738710079\n"
     ]
    },
    {
     "name": "stderr",
     "output_type": "stream",
     "text": [
      "100%|██████████| 500/500 [00:04<00:00, 104.25it/s]\n",
      "  2%|▏         | 11/500 [00:00<00:04, 109.10it/s]"
     ]
    },
    {
     "name": "stdout",
     "output_type": "stream",
     "text": [
      "272 0.689365141749382 0.6926366992577345\n"
     ]
    },
    {
     "name": "stderr",
     "output_type": "stream",
     "text": [
      "100%|██████████| 500/500 [00:04<00:00, 104.12it/s]\n",
      "  2%|▏         | 11/500 [00:00<00:04, 107.86it/s]"
     ]
    },
    {
     "name": "stdout",
     "output_type": "stream",
     "text": [
      "273 0.6893133090734482 0.69263736930436\n"
     ]
    },
    {
     "name": "stderr",
     "output_type": "stream",
     "text": [
      "100%|██████████| 500/500 [00:04<00:00, 103.99it/s]\n",
      "  2%|▏         | 11/500 [00:00<00:04, 107.94it/s]"
     ]
    },
    {
     "name": "stdout",
     "output_type": "stream",
     "text": [
      "274 0.6893388086557388 0.69264035405751\n"
     ]
    },
    {
     "name": "stderr",
     "output_type": "stream",
     "text": [
      "100%|██████████| 500/500 [00:04<00:00, 103.86it/s]\n",
      "  2%|▏         | 11/500 [00:00<00:04, 108.22it/s]"
     ]
    },
    {
     "name": "stdout",
     "output_type": "stream",
     "text": [
      "275 0.6893006755113602 0.6926378566109967\n"
     ]
    },
    {
     "name": "stderr",
     "output_type": "stream",
     "text": [
      "100%|██████████| 500/500 [00:04<00:00, 104.06it/s]\n",
      "  2%|▏         | 11/500 [00:00<00:04, 109.10it/s]"
     ]
    },
    {
     "name": "stdout",
     "output_type": "stream",
     "text": [
      "276 0.6892528834342957 0.6926429733306824\n"
     ]
    },
    {
     "name": "stderr",
     "output_type": "stream",
     "text": [
      "100%|██████████| 500/500 [00:04<00:00, 104.18it/s]\n",
      "  2%|▏         | 11/500 [00:00<00:04, 109.92it/s]"
     ]
    },
    {
     "name": "stdout",
     "output_type": "stream",
     "text": [
      "277 0.6893563339710236 0.6926450443838885\n"
     ]
    },
    {
     "name": "stderr",
     "output_type": "stream",
     "text": [
      "100%|██████████| 500/500 [00:04<00:00, 104.36it/s]\n",
      "  2%|▏         | 11/500 [00:00<00:04, 107.90it/s]"
     ]
    },
    {
     "name": "stdout",
     "output_type": "stream",
     "text": [
      "278 0.6893605272769928 0.6926402322308508\n"
     ]
    },
    {
     "name": "stderr",
     "output_type": "stream",
     "text": [
      "100%|██████████| 500/500 [00:04<00:00, 104.27it/s]\n",
      "  2%|▏         | 11/500 [00:00<00:04, 107.75it/s]"
     ]
    },
    {
     "name": "stdout",
     "output_type": "stream",
     "text": [
      "279 0.6893118101358414 0.6926293287448541\n"
     ]
    },
    {
     "name": "stderr",
     "output_type": "stream",
     "text": [
      "100%|██████████| 500/500 [00:04<00:00, 104.21it/s]\n",
      "  2%|▏         | 11/500 [00:00<00:04, 106.53it/s]"
     ]
    },
    {
     "name": "stdout",
     "output_type": "stream",
     "text": [
      "280 0.6893754260540008 0.6926448007305701\n"
     ]
    },
    {
     "name": "stderr",
     "output_type": "stream",
     "text": [
      "100%|██████████| 500/500 [00:04<00:00, 104.08it/s]\n",
      "  2%|▏         | 11/500 [00:00<00:04, 108.56it/s]"
     ]
    },
    {
     "name": "stdout",
     "output_type": "stream",
     "text": [
      "281 0.6892669591903686 0.692647054523765\n"
     ]
    },
    {
     "name": "stderr",
     "output_type": "stream",
     "text": [
      "100%|██████████| 500/500 [00:04<00:00, 104.22it/s]\n",
      "  2%|▏         | 11/500 [00:00<00:04, 108.90it/s]"
     ]
    },
    {
     "name": "stdout",
     "output_type": "stream",
     "text": [
      "282 0.6892313648462296 0.6926398667508733\n"
     ]
    },
    {
     "name": "stderr",
     "output_type": "stream",
     "text": [
      "100%|██████████| 500/500 [00:04<00:00, 104.24it/s]\n",
      "  2%|▏         | 11/500 [00:00<00:04, 109.83it/s]"
     ]
    },
    {
     "name": "stdout",
     "output_type": "stream",
     "text": [
      "283 0.6892746150493622 0.6926439479439558\n"
     ]
    },
    {
     "name": "stderr",
     "output_type": "stream",
     "text": [
      "100%|██████████| 500/500 [00:04<00:00, 104.19it/s]\n",
      "  2%|▏         | 11/500 [00:00<00:04, 108.27it/s]"
     ]
    },
    {
     "name": "stdout",
     "output_type": "stream",
     "text": [
      "284 0.6892302598953247 0.6926515011968251\n"
     ]
    },
    {
     "name": "stderr",
     "output_type": "stream",
     "text": [
      "100%|██████████| 500/500 [00:04<00:00, 104.08it/s]\n",
      "  2%|▏         | 11/500 [00:00<00:04, 107.75it/s]"
     ]
    },
    {
     "name": "stdout",
     "output_type": "stream",
     "text": [
      "285 0.6891481612920761 0.6926578361831025\n"
     ]
    },
    {
     "name": "stderr",
     "output_type": "stream",
     "text": [
      "100%|██████████| 500/500 [00:04<00:00, 104.34it/s]\n",
      "  2%|▏         | 11/500 [00:00<00:04, 107.55it/s]"
     ]
    },
    {
     "name": "stdout",
     "output_type": "stream",
     "text": [
      "286 0.6891918721199035 0.6926677041424962\n"
     ]
    },
    {
     "name": "stderr",
     "output_type": "stream",
     "text": [
      "100%|██████████| 500/500 [00:04<00:00, 104.06it/s]\n",
      "  2%|▏         | 11/500 [00:00<00:04, 109.35it/s]"
     ]
    },
    {
     "name": "stdout",
     "output_type": "stream",
     "text": [
      "287 0.6892275445461273 0.6926529022034057\n"
     ]
    },
    {
     "name": "stderr",
     "output_type": "stream",
     "text": [
      "100%|██████████| 500/500 [00:04<00:00, 104.04it/s]\n",
      "  2%|▏         | 11/500 [00:00<00:04, 107.50it/s]"
     ]
    },
    {
     "name": "stdout",
     "output_type": "stream",
     "text": [
      "288 0.6891192996501923 0.692664475736028\n"
     ]
    },
    {
     "name": "stderr",
     "output_type": "stream",
     "text": [
      "100%|██████████| 500/500 [00:04<00:00, 104.01it/s]\n",
      "  2%|▏         | 11/500 [00:00<00:04, 108.15it/s]"
     ]
    },
    {
     "name": "stdout",
     "output_type": "stream",
     "text": [
      "289 0.6892111089229583 0.6926694706290544\n"
     ]
    },
    {
     "name": "stderr",
     "output_type": "stream",
     "text": [
      "100%|██████████| 500/500 [00:04<00:00, 104.05it/s]\n",
      "  2%|▏         | 11/500 [00:00<00:04, 108.06it/s]"
     ]
    },
    {
     "name": "stdout",
     "output_type": "stream",
     "text": [
      "290 0.689240383386612 0.6926695924557136\n"
     ]
    },
    {
     "name": "stderr",
     "output_type": "stream",
     "text": [
      "100%|██████████| 500/500 [00:04<00:00, 103.96it/s]\n",
      "  2%|▏         | 11/500 [00:00<00:04, 109.03it/s]"
     ]
    },
    {
     "name": "stdout",
     "output_type": "stream",
     "text": [
      "291 0.6892485266923905 0.6926695924557136\n"
     ]
    },
    {
     "name": "stderr",
     "output_type": "stream",
     "text": [
      "100%|██████████| 500/500 [00:04<00:00, 104.08it/s]\n",
      "  2%|▏         | 11/500 [00:00<00:04, 109.54it/s]"
     ]
    },
    {
     "name": "stdout",
     "output_type": "stream",
     "text": [
      "292 0.6891400641202927 0.6926661203959269\n"
     ]
    },
    {
     "name": "stderr",
     "output_type": "stream",
     "text": [
      "100%|██████████| 500/500 [00:04<00:00, 104.28it/s]\n",
      "  2%|▏         | 11/500 [00:00<00:04, 107.74it/s]"
     ]
    },
    {
     "name": "stdout",
     "output_type": "stream",
     "text": [
      "293 0.6891044397354126 0.6926562524365332\n"
     ]
    },
    {
     "name": "stderr",
     "output_type": "stream",
     "text": [
      "100%|██████████| 500/500 [00:04<00:00, 104.13it/s]\n",
      "  2%|▏         | 11/500 [00:00<00:04, 107.71it/s]"
     ]
    },
    {
     "name": "stdout",
     "output_type": "stream",
     "text": [
      "294 0.689127032995224 0.6926730645155003\n"
     ]
    },
    {
     "name": "stderr",
     "output_type": "stream",
     "text": [
      "100%|██████████| 500/500 [00:04<00:00, 104.01it/s]\n",
      "  2%|▏         | 11/500 [00:00<00:04, 107.81it/s]"
     ]
    },
    {
     "name": "stdout",
     "output_type": "stream",
     "text": [
      "295 0.6892195146083832 0.692662526509481\n"
     ]
    },
    {
     "name": "stderr",
     "output_type": "stream",
     "text": [
      "100%|██████████| 500/500 [00:04<00:00, 103.96it/s]\n",
      "  2%|▏         | 11/500 [00:00<00:04, 107.79it/s]"
     ]
    },
    {
     "name": "stdout",
     "output_type": "stream",
     "text": [
      "296 0.6891959388256073 0.6926728817755115\n"
     ]
    },
    {
     "name": "stderr",
     "output_type": "stream",
     "text": [
      "100%|██████████| 500/500 [00:04<00:00, 104.02it/s]\n",
      "  2%|▏         | 11/500 [00:00<00:04, 107.78it/s]"
     ]
    },
    {
     "name": "stdout",
     "output_type": "stream",
     "text": [
      "297 0.6890954649448395 0.692659419929672\n"
     ]
    },
    {
     "name": "stderr",
     "output_type": "stream",
     "text": [
      "100%|██████████| 500/500 [00:04<00:00, 104.42it/s]\n",
      "  2%|▏         | 11/500 [00:00<00:04, 109.76it/s]"
     ]
    },
    {
     "name": "stdout",
     "output_type": "stream",
     "text": [
      "298 0.6891236914396286 0.6926762320086389\n"
     ]
    },
    {
     "name": "stderr",
     "output_type": "stream",
     "text": [
      "100%|██████████| 500/500 [00:04<00:00, 104.33it/s]\n"
     ]
    },
    {
     "name": "stdout",
     "output_type": "stream",
     "text": [
      "299 0.6890827078819275 0.6926752573953655\n"
     ]
    }
   ],
   "source": [
    "batches_per_epoch = len(train_dl)+1\n",
    "\n",
    "\n",
    "for epoch in range(epochs):\n",
    "    train_loss = 0\n",
    "    cnn_model.train()\n",
    "    for batch_idx,(xb1,xb2,yb) in tqdm.tqdm(enumerate(train_dl),total=batches_per_epoch,leave=True):\n",
    "        pred = cnn_model(xb1,xb2)\n",
    "        loss = loss_fn(pred, yb)\n",
    "        train_loss += loss.sum().to('cpu').item()\n",
    "\n",
    "        loss.backward()\n",
    "        optimizer.step()\n",
    "        optimizer.zero_grad()\n",
    "        \n",
    "        cnn_model.eval()\n",
    "    with torch.no_grad():\n",
    "        valid_loss = sum(loss_fn(cnn_model(xb1,xb2), yb) for xb1, xb2, yb in valid_dl)\n",
    "\n",
    "    train_loss_hist += [train_loss / len(train_dl)]\n",
    "    valid_loss_hist += [valid_loss.item() / len(valid_dl)]\n",
    "    print(epoch, train_loss / len(train_dl), valid_loss.item() / len(valid_dl))"
   ]
  },
  {
   "cell_type": "code",
   "execution_count": 37,
   "id": "normal-degree",
   "metadata": {},
   "outputs": [
    {
     "data": {
      "text/plain": [
       "<matplotlib.legend.Legend at 0x2b7358bddb10>"
      ]
     },
     "execution_count": 37,
     "metadata": {},
     "output_type": "execute_result"
    },
    {
     "data": {
      "image/png": "[encoded data removed]",
      "text/plain": [
       "<Figure size 432x288 with 1 Axes>"
      ]
     },
     "metadata": {
      "needs_background": "light"
     },
     "output_type": "display_data"
    }
   ],
   "source": [
    "fig,ax = plt.subplots(1,1)\n",
    "ax.plot(np.arange(len(train_loss_hist))[1:],train_loss_hist[1:],'b',label=\"training\")\n",
    "ax.plot(np.arange(len(valid_loss_hist)),valid_loss_hist,'r',label=\"validation\")\n",
    "ax.set_xlabel('epoch')\n",
    "ax.set_ylabel('loss')\n",
    "ax.minorticks_on()\n",
    "ax.grid(b=True)\n",
    "ax.legend()"
   ]
  },
  {
   "cell_type": "code",
   "execution_count": 38,
   "id": "exclusive-builder",
   "metadata": {},
   "outputs": [],
   "source": [
    "valid_sets = []\n",
    "with torch.no_grad():\n",
    "    for xv1, xv2, yv in valid_dl:\n",
    "        valid_sets.append([cnn_model(xv1,xv2).detach().cpu().numpy(), yv.detach().cpu().numpy()])"
   ]
  },
  {
   "cell_type": "code",
   "execution_count": 39,
   "id": "italic-hampton",
   "metadata": {},
   "outputs": [
    {
     "data": {
      "text/plain": [
       "[<matplotlib.lines.Line2D at 0x2b73591bdc10>]"
      ]
     },
     "execution_count": 39,
     "metadata": {},
     "output_type": "execute_result"
    },
    {
     "data": {
      "image/png": "[encoded data removed]",
      "text/plain": [
       "<Figure size 432x288 with 1 Axes>"
      ]
     },
     "metadata": {
      "needs_background": "light"
     },
     "output_type": "display_data"
    }
   ],
   "source": [
    "plt.figure()\n",
    "plt.plot(valid_sets[1][0])\n",
    "plt.plot(valid_sets[1][1])"
   ]
  },
  {
   "cell_type": "code",
   "execution_count": 40,
   "id": "satisfactory-sister",
   "metadata": {},
   "outputs": [
    {
     "data": {
      "text/plain": [
       "[<matplotlib.lines.Line2D at 0x2b3e50f30610>]"
      ]
     },
     "execution_count": 40,
     "metadata": {},
     "output_type": "execute_result"
    },
    {
     "data": {
      "image/png": "[encoded data removed]",
      "text/plain": [
       "<Figure size 432x288 with 1 Axes>"
      ]
     },
     "metadata": {
      "needs_background": "light"
     },
     "output_type": "display_data"
    }
   ],
   "source": [
    "plt.figure()\n",
    "plt.plot(pred.detach().cpu().numpy())\n",
    "plt.plot(yb.detach().cpu().numpy())"
   ]
  },
  {
   "cell_type": "code",
   "execution_count": 108,
   "id": "loose-savings",
   "metadata": {},
   "outputs": [
    {
     "data": {
      "text/html": [
       "<div><svg style=\"position: absolute; width: 0; height: 0; overflow: hidden\">\n",
       "<defs>\n",
       "<symbol id=\"icon-database\" viewBox=\"0 0 32 32\">\n",
       "<path d=\"M16 0c-8.837 0-16 2.239-16 5v4c0 2.761 7.163 5 16 5s16-2.239 16-5v-4c0-2.761-7.163-5-16-5z\"></path>\n",
       "<path d=\"M16 17c-8.837 0-16-2.239-16-5v6c0 2.761 7.163 5 16 5s16-2.239 16-5v-6c0 2.761-7.163 5-16 5z\"></path>\n",
       "<path d=\"M16 26c-8.837 0-16-2.239-16-5v6c0 2.761 7.163 5 16 5s16-2.239 16-5v-6c0 2.761-7.163 5-16 5z\"></path>\n",
       "</symbol>\n",
       "<symbol id=\"icon-file-text2\" viewBox=\"0 0 32 32\">\n",
       "<path d=\"M28.681 7.159c-0.694-0.947-1.662-2.053-2.724-3.116s-2.169-2.030-3.116-2.724c-1.612-1.182-2.393-1.319-2.841-1.319h-15.5c-1.378 0-2.5 1.121-2.5 2.5v27c0 1.378 1.122 2.5 2.5 2.5h23c1.378 0 2.5-1.122 2.5-2.5v-19.5c0-0.448-0.137-1.23-1.319-2.841zM24.543 5.457c0.959 0.959 1.712 1.825 2.268 2.543h-4.811v-4.811c0.718 0.556 1.584 1.309 2.543 2.268zM28 29.5c0 0.271-0.229 0.5-0.5 0.5h-23c-0.271 0-0.5-0.229-0.5-0.5v-27c0-0.271 0.229-0.5 0.5-0.5 0 0 15.499-0 15.5 0v7c0 0.552 0.448 1 1 1h7v19.5z\"></path>\n",
       "<path d=\"M23 26h-14c-0.552 0-1-0.448-1-1s0.448-1 1-1h14c0.552 0 1 0.448 1 1s-0.448 1-1 1z\"></path>\n",
       "<path d=\"M23 22h-14c-0.552 0-1-0.448-1-1s0.448-1 1-1h14c0.552 0 1 0.448 1 1s-0.448 1-1 1z\"></path>\n",
       "<path d=\"M23 18h-14c-0.552 0-1-0.448-1-1s0.448-1 1-1h14c0.552 0 1 0.448 1 1s-0.448 1-1 1z\"></path>\n",
       "</symbol>\n",
       "</defs>\n",
       "</svg>\n",
       "<style>/* CSS stylesheet for displaying xarray objects in jupyterlab.\n",
       " *\n",
       " */\n",
       "\n",
       ":root {\n",
       "  --xr-font-color0: var(--jp-content-font-color0, rgba(0, 0, 0, 1));\n",
       "  --xr-font-color2: var(--jp-content-font-color2, rgba(0, 0, 0, 0.54));\n",
       "  --xr-font-color3: var(--jp-content-font-color3, rgba(0, 0, 0, 0.38));\n",
       "  --xr-border-color: var(--jp-border-color2, #e0e0e0);\n",
       "  --xr-disabled-color: var(--jp-layout-color3, #bdbdbd);\n",
       "  --xr-background-color: var(--jp-layout-color0, white);\n",
       "  --xr-background-color-row-even: var(--jp-layout-color1, white);\n",
       "  --xr-background-color-row-odd: var(--jp-layout-color2, #eeeeee);\n",
       "}\n",
       "\n",
       "html[theme=dark],\n",
       "body.vscode-dark {\n",
       "  --xr-font-color0: rgba(255, 255, 255, 1);\n",
       "  --xr-font-color2: rgba(255, 255, 255, 0.54);\n",
       "  --xr-font-color3: rgba(255, 255, 255, 0.38);\n",
       "  --xr-border-color: #1F1F1F;\n",
       "  --xr-disabled-color: #515151;\n",
       "  --xr-background-color: #111111;\n",
       "  --xr-background-color-row-even: #111111;\n",
       "  --xr-background-color-row-odd: #313131;\n",
       "}\n",
       "\n",
       ".xr-wrap {\n",
       "  display: block;\n",
       "  min-width: 300px;\n",
       "  max-width: 700px;\n",
       "}\n",
       "\n",
       ".xr-text-repr-fallback {\n",
       "  /* fallback to plain text repr when CSS is not injected (untrusted notebook) */\n",
       "  display: none;\n",
       "}\n",
       "\n",
       ".xr-header {\n",
       "  padding-top: 6px;\n",
       "  padding-bottom: 6px;\n",
       "  margin-bottom: 4px;\n",
       "  border-bottom: solid 1px var(--xr-border-color);\n",
       "}\n",
       "\n",
       ".xr-header > div,\n",
       ".xr-header > ul {\n",
       "  display: inline;\n",
       "  margin-top: 0;\n",
       "  margin-bottom: 0;\n",
       "}\n",
       "\n",
       ".xr-obj-type,\n",
       ".xr-array-name {\n",
       "  margin-left: 2px;\n",
       "  margin-right: 10px;\n",
       "}\n",
       "\n",
       ".xr-obj-type {\n",
       "  color: var(--xr-font-color2);\n",
       "}\n",
       "\n",
       ".xr-sections {\n",
       "  padding-left: 0 !important;\n",
       "  display: grid;\n",
       "  grid-template-columns: 150px auto auto 1fr 20px 20px;\n",
       "}\n",
       "\n",
       ".xr-section-item {\n",
       "  display: contents;\n",
       "}\n",
       "\n",
       ".xr-section-item input {\n",
       "  display: none;\n",
       "}\n",
       "\n",
       ".xr-section-item input + label {\n",
       "  color: var(--xr-disabled-color);\n",
       "}\n",
       "\n",
       ".xr-section-item input:enabled + label {\n",
       "  cursor: pointer;\n",
       "  color: var(--xr-font-color2);\n",
       "}\n",
       "\n",
       ".xr-section-item input:enabled + label:hover {\n",
       "  color: var(--xr-font-color0);\n",
       "}\n",
       "\n",
       ".xr-section-summary {\n",
       "  grid-column: 1;\n",
       "  color: var(--xr-font-color2);\n",
       "  font-weight: 500;\n",
       "}\n",
       "\n",
       ".xr-section-summary > span {\n",
       "  display: inline-block;\n",
       "  padding-left: 0.5em;\n",
       "}\n",
       "\n",
       ".xr-section-summary-in:disabled + label {\n",
       "  color: var(--xr-font-color2);\n",
       "}\n",
       "\n",
       ".xr-section-summary-in + label:before {\n",
       "  display: inline-block;\n",
       "  content: '►';\n",
       "  font-size: 11px;\n",
       "  width: 15px;\n",
       "  text-align: center;\n",
       "}\n",
       "\n",
       ".xr-section-summary-in:disabled + label:before {\n",
       "  color: var(--xr-disabled-color);\n",
       "}\n",
       "\n",
       ".xr-section-summary-in:checked + label:before {\n",
       "  content: '▼';\n",
       "}\n",
       "\n",
       ".xr-section-summary-in:checked + label > span {\n",
       "  display: none;\n",
       "}\n",
       "\n",
       ".xr-section-summary,\n",
       ".xr-section-inline-details {\n",
       "  padding-top: 4px;\n",
       "  padding-bottom: 4px;\n",
       "}\n",
       "\n",
       ".xr-section-inline-details {\n",
       "  grid-column: 2 / -1;\n",
       "}\n",
       "\n",
       ".xr-section-details {\n",
       "  display: none;\n",
       "  grid-column: 1 / -1;\n",
       "  margin-bottom: 5px;\n",
       "}\n",
       "\n",
       ".xr-section-summary-in:checked ~ .xr-section-details {\n",
       "  display: contents;\n",
       "}\n",
       "\n",
       ".xr-array-wrap {\n",
       "  grid-column: 1 / -1;\n",
       "  display: grid;\n",
       "  grid-template-columns: 20px auto;\n",
       "}\n",
       "\n",
       ".xr-array-wrap > label {\n",
       "  grid-column: 1;\n",
       "  vertical-align: top;\n",
       "}\n",
       "\n",
       ".xr-preview {\n",
       "  color: var(--xr-font-color3);\n",
       "}\n",
       "\n",
       ".xr-array-preview,\n",
       ".xr-array-data {\n",
       "  padding: 0 5px !important;\n",
       "  grid-column: 2;\n",
       "}\n",
       "\n",
       ".xr-array-data,\n",
       ".xr-array-in:checked ~ .xr-array-preview {\n",
       "  display: none;\n",
       "}\n",
       "\n",
       ".xr-array-in:checked ~ .xr-array-data,\n",
       ".xr-array-preview {\n",
       "  display: inline-block;\n",
       "}\n",
       "\n",
       ".xr-dim-list {\n",
       "  display: inline-block !important;\n",
       "  list-style: none;\n",
       "  padding: 0 !important;\n",
       "  margin: 0;\n",
       "}\n",
       "\n",
       ".xr-dim-list li {\n",
       "  display: inline-block;\n",
       "  padding: 0;\n",
       "  margin: 0;\n",
       "}\n",
       "\n",
       ".xr-dim-list:before {\n",
       "  content: '(';\n",
       "}\n",
       "\n",
       ".xr-dim-list:after {\n",
       "  content: ')';\n",
       "}\n",
       "\n",
       ".xr-dim-list li:not(:last-child):after {\n",
       "  content: ',';\n",
       "  padding-right: 5px;\n",
       "}\n",
       "\n",
       ".xr-has-index {\n",
       "  font-weight: bold;\n",
       "}\n",
       "\n",
       ".xr-var-list,\n",
       ".xr-var-item {\n",
       "  display: contents;\n",
       "}\n",
       "\n",
       ".xr-var-item > div,\n",
       ".xr-var-item label,\n",
       ".xr-var-item > .xr-var-name span {\n",
       "  background-color: var(--xr-background-color-row-even);\n",
       "  margin-bottom: 0;\n",
       "}\n",
       "\n",
       ".xr-var-item > .xr-var-name:hover span {\n",
       "  padding-right: 5px;\n",
       "}\n",
       "\n",
       ".xr-var-list > li:nth-child(odd) > div,\n",
       ".xr-var-list > li:nth-child(odd) > label,\n",
       ".xr-var-list > li:nth-child(odd) > .xr-var-name span {\n",
       "  background-color: var(--xr-background-color-row-odd);\n",
       "}\n",
       "\n",
       ".xr-var-name {\n",
       "  grid-column: 1;\n",
       "}\n",
       "\n",
       ".xr-var-dims {\n",
       "  grid-column: 2;\n",
       "}\n",
       "\n",
       ".xr-var-dtype {\n",
       "  grid-column: 3;\n",
       "  text-align: right;\n",
       "  color: var(--xr-font-color2);\n",
       "}\n",
       "\n",
       ".xr-var-preview {\n",
       "  grid-column: 4;\n",
       "}\n",
       "\n",
       ".xr-var-name,\n",
       ".xr-var-dims,\n",
       ".xr-var-dtype,\n",
       ".xr-preview,\n",
       ".xr-attrs dt {\n",
       "  white-space: nowrap;\n",
       "  overflow: hidden;\n",
       "  text-overflow: ellipsis;\n",
       "  padding-right: 10px;\n",
       "}\n",
       "\n",
       ".xr-var-name:hover,\n",
       ".xr-var-dims:hover,\n",
       ".xr-var-dtype:hover,\n",
       ".xr-attrs dt:hover {\n",
       "  overflow: visible;\n",
       "  width: auto;\n",
       "  z-index: 1;\n",
       "}\n",
       "\n",
       ".xr-var-attrs,\n",
       ".xr-var-data {\n",
       "  display: none;\n",
       "  background-color: var(--xr-background-color) !important;\n",
       "  padding-bottom: 5px !important;\n",
       "}\n",
       "\n",
       ".xr-var-attrs-in:checked ~ .xr-var-attrs,\n",
       ".xr-var-data-in:checked ~ .xr-var-data {\n",
       "  display: block;\n",
       "}\n",
       "\n",
       ".xr-var-data > table {\n",
       "  float: right;\n",
       "}\n",
       "\n",
       ".xr-var-name span,\n",
       ".xr-var-data,\n",
       ".xr-attrs {\n",
       "  padding-left: 25px !important;\n",
       "}\n",
       "\n",
       ".xr-attrs,\n",
       ".xr-var-attrs,\n",
       ".xr-var-data {\n",
       "  grid-column: 1 / -1;\n",
       "}\n",
       "\n",
       "dl.xr-attrs {\n",
       "  padding: 0;\n",
       "  margin: 0;\n",
       "  display: grid;\n",
       "  grid-template-columns: 125px auto;\n",
       "}\n",
       "\n",
       ".xr-attrs dt,\n",
       ".xr-attrs dd {\n",
       "  padding: 0;\n",
       "  margin: 0;\n",
       "  float: left;\n",
       "  padding-right: 10px;\n",
       "  width: auto;\n",
       "}\n",
       "\n",
       ".xr-attrs dt {\n",
       "  font-weight: normal;\n",
       "  grid-column: 1;\n",
       "}\n",
       "\n",
       ".xr-attrs dt:hover span {\n",
       "  display: inline-block;\n",
       "  background: var(--xr-background-color);\n",
       "  padding-right: 10px;\n",
       "}\n",
       "\n",
       ".xr-attrs dd {\n",
       "  grid-column: 2;\n",
       "  white-space: pre-wrap;\n",
       "  word-break: break-all;\n",
       "}\n",
       "\n",
       ".xr-icon-database,\n",
       ".xr-icon-file-text2 {\n",
       "  display: inline-block;\n",
       "  vertical-align: middle;\n",
       "  width: 1em;\n",
       "  height: 1.5em !important;\n",
       "  stroke-width: 0;\n",
       "  stroke: currentColor;\n",
       "  fill: currentColor;\n",
       "}\n",
       "</style><pre class='xr-text-repr-fallback'>&lt;xarray.Dataset&gt;\n",
       "Dimensions:         (hologram_number: 50000, particle: 500000, patch_number: 800000, patch_xsize: 128, patch_ysize: 128, xsize: 512, ysize: 512)\n",
       "Dimensions without coordinates: hologram_number, particle, patch_number, patch_xsize, patch_ysize, xsize, ysize\n",
       "Data variables: (12/16)\n",
       "    hid             (particle) float32 1.0 1.0 1.0 1.0 ... 5e+04 5e+04 5e+04\n",
       "    d               (particle) float32 36.48 45.38 25.82 ... 32.3 9.01 40.48\n",
       "    x               (particle) float32 253.9 22.78 732.8 ... -616.6 -431.8\n",
       "    y               (particle) float32 708.5 -600.7 552.2 ... 106.1 -190.7 662.5\n",
       "    z               (particle) float32 5.645e+04 1.438e+05 ... 1.419e+05\n",
       "    n0              (particle) float32 ...\n",
       "    ...              ...\n",
       "    x_pixels        (particle) float32 ...\n",
       "    y_pixels        (particle) float32 ...\n",
       "    pid             (particle) float32 ...\n",
       "    x_patch_pixels  (particle) float32 ...\n",
       "    y_patch_pixels  (particle) float32 ...\n",
       "    patch           (patch_number, patch_xsize, patch_ysize) uint8 ...\n",
       "Attributes: (12/33)\n",
       "    DateCreated:           10-Feb-2021\n",
       "    Nx:                    512.0\n",
       "    Ny:                    512.0\n",
       "    dx:                    2.96e-06\n",
       "    dy:                    2.96e-06\n",
       "    lambda:                3.55e-07\n",
       "    ...                    ...\n",
       "    monodisperse:          0.0\n",
       "    should_cache:          1\n",
       "    Nx_patch:              128.0\n",
       "    Ny_patch:              128.0\n",
       "    nPatches:              800000.0\n",
       "    PatchesPerHologram:    16.0</pre><div class='xr-wrap' hidden><div class='xr-header'><div class='xr-obj-type'>xarray.Dataset</div></div><ul class='xr-sections'><li class='xr-section-item'><input id='section-9be9cb0e-6e51-45ee-9d3f-4efac02fb473' class='xr-section-summary-in' type='checkbox' disabled ><label for='section-9be9cb0e-6e51-45ee-9d3f-4efac02fb473' class='xr-section-summary'  title='Expand/collapse section'>Dimensions:</label><div class='xr-section-inline-details'><ul class='xr-dim-list'><li><span>hologram_number</span>: 50000</li><li><span>particle</span>: 500000</li><li><span>patch_number</span>: 800000</li><li><span>patch_xsize</span>: 128</li><li><span>patch_ysize</span>: 128</li><li><span>xsize</span>: 512</li><li><span>ysize</span>: 512</li></ul></div><div class='xr-section-details'></div></li><li class='xr-section-item'><input id='section-7ccfc29e-3777-4cf4-aada-beeb1145ba8c' class='xr-section-summary-in' type='checkbox' disabled ><label for='section-7ccfc29e-3777-4cf4-aada-beeb1145ba8c' class='xr-section-summary'  title='Expand/collapse section'>Coordinates: <span>(0)</span></label><div class='xr-section-inline-details'></div><div class='xr-section-details'><ul class='xr-var-list'></ul></div></li><li class='xr-section-item'><input id='section-0bdbbc20-203a-4faa-a9cd-0a2165ce3068' class='xr-section-summary-in' type='checkbox'  ><label for='section-0bdbbc20-203a-4faa-a9cd-0a2165ce3068' class='xr-section-summary' >Data variables: <span>(16)</span></label><div class='xr-section-inline-details'></div><div class='xr-section-details'><ul class='xr-var-list'><li class='xr-var-item'><div class='xr-var-name'><span>hid</span></div><div class='xr-var-dims'>(particle)</div><div class='xr-var-dtype'>float32</div><div class='xr-var-preview xr-preview'>1.0 1.0 1.0 ... 5e+04 5e+04 5e+04</div><input id='attrs-7cfc8baa-435f-4e99-9b10-a4fcc45a5345' class='xr-var-attrs-in' type='checkbox' ><label for='attrs-7cfc8baa-435f-4e99-9b10-a4fcc45a5345' title='Show/Hide attributes'><svg class='icon xr-icon-file-text2'><use xlink:href='#icon-file-text2'></use></svg></label><input id='data-6630ef5b-1e4d-4e71-97fa-62b32d705033' class='xr-var-data-in' type='checkbox'><label for='data-6630ef5b-1e4d-4e71-97fa-62b32d705033' title='Show/Hide data repr'><svg class='icon xr-icon-database'><use xlink:href='#icon-database'></use></svg></label><div class='xr-var-attrs'><dl class='xr-attrs'><dt><span>longname :</span></dt><dd>Hologram index (1-based, first hologram index = 1)</dd><dt><span>units :</span></dt><dd>unitless</dd></dl></div><div class='xr-var-data'><pre>array([1.e+00, 1.e+00, 1.e+00, ..., 5.e+04, 5.e+04, 5.e+04], dtype=float32)</pre></div></li><li class='xr-var-item'><div class='xr-var-name'><span>d</span></div><div class='xr-var-dims'>(particle)</div><div class='xr-var-dtype'>float32</div><div class='xr-var-preview xr-preview'>36.48 45.38 25.82 ... 9.01 40.48</div><input id='attrs-b3f8d722-20fc-415b-a457-a2cb2daa2e65' class='xr-var-attrs-in' type='checkbox' ><label for='attrs-b3f8d722-20fc-415b-a457-a2cb2daa2e65' title='Show/Hide attributes'><svg class='icon xr-icon-file-text2'><use xlink:href='#icon-file-text2'></use></svg></label><input id='data-88daecf9-18c8-4f34-94d8-c6aee1280d37' class='xr-var-data-in' type='checkbox'><label for='data-88daecf9-18c8-4f34-94d8-c6aee1280d37' title='Show/Hide data repr'><svg class='icon xr-icon-database'><use xlink:href='#icon-database'></use></svg></label><div class='xr-var-attrs'><dl class='xr-attrs'><dt><span>longname :</span></dt><dd>Particle Diameter</dd><dt><span>units :</span></dt><dd>microns</dd></dl></div><div class='xr-var-data'><pre>array([36.48498 , 45.37779 , 25.815104, ..., 32.303696,  9.009637, 40.483204],\n",
       "      dtype=float32)</pre></div></li><li class='xr-var-item'><div class='xr-var-name'><span>x</span></div><div class='xr-var-dims'>(particle)</div><div class='xr-var-dtype'>float32</div><div class='xr-var-preview xr-preview'>253.9 22.78 732.8 ... -616.6 -431.8</div><input id='attrs-ad0d0009-c7eb-4744-a2e4-c35c0c262a86' class='xr-var-attrs-in' type='checkbox' ><label for='attrs-ad0d0009-c7eb-4744-a2e4-c35c0c262a86' title='Show/Hide attributes'><svg class='icon xr-icon-file-text2'><use xlink:href='#icon-file-text2'></use></svg></label><input id='data-7ab9ae26-c939-47cf-a109-3383d6bcd377' class='xr-var-data-in' type='checkbox'><label for='data-7ab9ae26-c939-47cf-a109-3383d6bcd377' title='Show/Hide data repr'><svg class='icon xr-icon-database'><use xlink:href='#icon-database'></use></svg></label><div class='xr-var-attrs'><dl class='xr-attrs'><dt><span>longname :</span></dt><dd>Particle x-position (origin at center)</dd><dt><span>units :</span></dt><dd>microns</dd></dl></div><div class='xr-var-data'><pre>array([ 253.88094 ,   22.783604,  732.8068  , ..., -104.565575, -616.55133 ,\n",
       "       -431.83954 ], dtype=float32)</pre></div></li><li class='xr-var-item'><div class='xr-var-name'><span>y</span></div><div class='xr-var-dims'>(particle)</div><div class='xr-var-dtype'>float32</div><div class='xr-var-preview xr-preview'>708.5 -600.7 552.2 ... -190.7 662.5</div><input id='attrs-6165cf4b-2254-4f62-9f26-f7bdd8f5a776' class='xr-var-attrs-in' type='checkbox' ><label for='attrs-6165cf4b-2254-4f62-9f26-f7bdd8f5a776' title='Show/Hide attributes'><svg class='icon xr-icon-file-text2'><use xlink:href='#icon-file-text2'></use></svg></label><input id='data-88de8dc4-d564-4c6d-aa19-1aea8c5a1c18' class='xr-var-data-in' type='checkbox'><label for='data-88de8dc4-d564-4c6d-aa19-1aea8c5a1c18' title='Show/Hide data repr'><svg class='icon xr-icon-database'><use xlink:href='#icon-database'></use></svg></label><div class='xr-var-attrs'><dl class='xr-attrs'><dt><span>longname :</span></dt><dd>Particle y-position (origin at center)</dd><dt><span>units :</span></dt><dd>microns</dd></dl></div><div class='xr-var-data'><pre>array([ 708.4516 , -600.7245 ,  552.1817 , ...,  106.05484, -190.72815,\n",
       "        662.46295], dtype=float32)</pre></div></li><li class='xr-var-item'><div class='xr-var-name'><span>z</span></div><div class='xr-var-dims'>(particle)</div><div class='xr-var-dtype'>float32</div><div class='xr-var-preview xr-preview'>5.645e+04 1.438e+05 ... 1.419e+05</div><input id='attrs-657e06ff-b4aa-4bcc-857e-5448262b27e6' class='xr-var-attrs-in' type='checkbox' ><label for='attrs-657e06ff-b4aa-4bcc-857e-5448262b27e6' title='Show/Hide attributes'><svg class='icon xr-icon-file-text2'><use xlink:href='#icon-file-text2'></use></svg></label><input id='data-bd1f8431-4273-4a71-a35d-4d3f3eb258c3' class='xr-var-data-in' type='checkbox'><label for='data-bd1f8431-4273-4a71-a35d-4d3f3eb258c3' title='Show/Hide data repr'><svg class='icon xr-icon-database'><use xlink:href='#icon-database'></use></svg></label><div class='xr-var-attrs'><dl class='xr-attrs'><dt><span>longname :</span></dt><dd>Particle z-position (origin at sensor)</dd><dt><span>units :</span></dt><dd>microns</dd></dl></div><div class='xr-var-data'><pre>array([ 56452.47 , 143813.92 ,  44329.   , ...,  59288.707, 143020.17 ,\n",
       "       141855.9  ], dtype=float32)</pre></div></li><li class='xr-var-item'><div class='xr-var-name'><span>n0</span></div><div class='xr-var-dims'>(particle)</div><div class='xr-var-dtype'>float32</div><div class='xr-var-preview xr-preview'>...</div><input id='attrs-e5d82058-467a-4093-a026-59da8dad7879' class='xr-var-attrs-in' type='checkbox' ><label for='attrs-e5d82058-467a-4093-a026-59da8dad7879' title='Show/Hide attributes'><svg class='icon xr-icon-file-text2'><use xlink:href='#icon-file-text2'></use></svg></label><input id='data-989c516e-c82f-46a5-9a38-d03bd6c05653' class='xr-var-data-in' type='checkbox'><label for='data-989c516e-c82f-46a5-9a38-d03bd6c05653' title='Show/Hide data repr'><svg class='icon xr-icon-database'><use xlink:href='#icon-database'></use></svg></label><div class='xr-var-attrs'><dl class='xr-attrs'><dt><span>longname :</span></dt><dd>Gamma distribution N0</dd><dt><span>units :</span></dt><dd>m^-4</dd></dl></div><div class='xr-var-data'><pre>[500000 values with dtype=float32]</pre></div></li><li class='xr-var-item'><div class='xr-var-name'><span>mu</span></div><div class='xr-var-dims'>(particle)</div><div class='xr-var-dtype'>float32</div><div class='xr-var-preview xr-preview'>...</div><input id='attrs-ebda2a6e-48e6-4a12-8102-1a81cf41e4be' class='xr-var-attrs-in' type='checkbox' ><label for='attrs-ebda2a6e-48e6-4a12-8102-1a81cf41e4be' title='Show/Hide attributes'><svg class='icon xr-icon-file-text2'><use xlink:href='#icon-file-text2'></use></svg></label><input id='data-d52068d9-4b4b-4a57-961f-147ea0abc067' class='xr-var-data-in' type='checkbox'><label for='data-d52068d9-4b4b-4a57-961f-147ea0abc067' title='Show/Hide data repr'><svg class='icon xr-icon-database'><use xlink:href='#icon-database'></use></svg></label><div class='xr-var-attrs'><dl class='xr-attrs'><dt><span>longname :</span></dt><dd>Gamma distribution mu</dd><dt><span>units :</span></dt><dd>unitless</dd></dl></div><div class='xr-var-data'><pre>[500000 values with dtype=float32]</pre></div></li><li class='xr-var-item'><div class='xr-var-name'><span>lam</span></div><div class='xr-var-dims'>(particle)</div><div class='xr-var-dtype'>float32</div><div class='xr-var-preview xr-preview'>...</div><input id='attrs-0392d442-d6a5-4754-b9fb-7d7f14b74d65' class='xr-var-attrs-in' type='checkbox' ><label for='attrs-0392d442-d6a5-4754-b9fb-7d7f14b74d65' title='Show/Hide attributes'><svg class='icon xr-icon-file-text2'><use xlink:href='#icon-file-text2'></use></svg></label><input id='data-a50e8030-77e6-4011-a61a-10fc22d5dce7' class='xr-var-data-in' type='checkbox'><label for='data-a50e8030-77e6-4011-a61a-10fc22d5dce7' title='Show/Hide data repr'><svg class='icon xr-icon-database'><use xlink:href='#icon-database'></use></svg></label><div class='xr-var-attrs'><dl class='xr-attrs'><dt><span>longname :</span></dt><dd>Gamma distribution lambda</dd><dt><span>units :</span></dt><dd>1/m</dd></dl></div><div class='xr-var-data'><pre>[500000 values with dtype=float32]</pre></div></li><li class='xr-var-item'><div class='xr-var-name'><span>distid</span></div><div class='xr-var-dims'>(particle)</div><div class='xr-var-dtype'>float32</div><div class='xr-var-preview xr-preview'>...</div><input id='attrs-7d718571-80f6-4d46-aaba-b2aa0f52ea4e' class='xr-var-attrs-in' type='checkbox' ><label for='attrs-7d718571-80f6-4d46-aaba-b2aa0f52ea4e' title='Show/Hide attributes'><svg class='icon xr-icon-file-text2'><use xlink:href='#icon-file-text2'></use></svg></label><input id='data-ad084f68-8d35-41cb-94a5-8586e766d792' class='xr-var-data-in' type='checkbox'><label for='data-ad084f68-8d35-41cb-94a5-8586e766d792' title='Show/Hide data repr'><svg class='icon xr-icon-database'><use xlink:href='#icon-database'></use></svg></label><div class='xr-var-attrs'><dl class='xr-attrs'><dt><span>longname :</span></dt><dd>Gamma distribution index</dd><dt><span>units :</span></dt><dd>unitless</dd></dl></div><div class='xr-var-data'><pre>[500000 values with dtype=float32]</pre></div></li><li class='xr-var-item'><div class='xr-var-name'><span>image</span></div><div class='xr-var-dims'>(hologram_number, xsize, ysize)</div><div class='xr-var-dtype'>uint8</div><div class='xr-var-preview xr-preview'>...</div><input id='attrs-46801843-d27a-44b8-8d63-b903ccc5f08f' class='xr-var-attrs-in' type='checkbox' ><label for='attrs-46801843-d27a-44b8-8d63-b903ccc5f08f' title='Show/Hide attributes'><svg class='icon xr-icon-file-text2'><use xlink:href='#icon-file-text2'></use></svg></label><input id='data-36129042-7b8d-41c0-b966-b813e9c9cf67' class='xr-var-data-in' type='checkbox'><label for='data-36129042-7b8d-41c0-b966-b813e9c9cf67' title='Show/Hide data repr'><svg class='icon xr-icon-database'><use xlink:href='#icon-database'></use></svg></label><div class='xr-var-attrs'><dl class='xr-attrs'><dt><span>longname :</span></dt><dd>Hologram image</dd></dl></div><div class='xr-var-data'><pre>[13107200000 values with dtype=uint8]</pre></div></li><li class='xr-var-item'><div class='xr-var-name'><span>x_pixels</span></div><div class='xr-var-dims'>(particle)</div><div class='xr-var-dtype'>float32</div><div class='xr-var-preview xr-preview'>...</div><input id='attrs-7b217ee7-81ad-41cf-b260-4375c2713dcf' class='xr-var-attrs-in' type='checkbox' ><label for='attrs-7b217ee7-81ad-41cf-b260-4375c2713dcf' title='Show/Hide attributes'><svg class='icon xr-icon-file-text2'><use xlink:href='#icon-file-text2'></use></svg></label><input id='data-3c59360b-7ebf-4d48-94e1-176eeb14202d' class='xr-var-data-in' type='checkbox'><label for='data-3c59360b-7ebf-4d48-94e1-176eeb14202d' title='Show/Hide data repr'><svg class='icon xr-icon-database'><use xlink:href='#icon-database'></use></svg></label><div class='xr-var-attrs'><dl class='xr-attrs'><dt><span>longname :</span></dt><dd>Particle x-position in pixels (origin at bottom-left corner)</dd><dt><span>units :</span></dt><dd>pixels</dd></dl></div><div class='xr-var-data'><pre>[500000 values with dtype=float32]</pre></div></li><li class='xr-var-item'><div class='xr-var-name'><span>y_pixels</span></div><div class='xr-var-dims'>(particle)</div><div class='xr-var-dtype'>float32</div><div class='xr-var-preview xr-preview'>...</div><input id='attrs-9b8536a2-13ec-4bf7-ba74-aeede60ca7bd' class='xr-var-attrs-in' type='checkbox' ><label for='attrs-9b8536a2-13ec-4bf7-ba74-aeede60ca7bd' title='Show/Hide attributes'><svg class='icon xr-icon-file-text2'><use xlink:href='#icon-file-text2'></use></svg></label><input id='data-7bebadec-5a19-46ca-b4e1-e0fe507935ac' class='xr-var-data-in' type='checkbox'><label for='data-7bebadec-5a19-46ca-b4e1-e0fe507935ac' title='Show/Hide data repr'><svg class='icon xr-icon-database'><use xlink:href='#icon-database'></use></svg></label><div class='xr-var-attrs'><dl class='xr-attrs'><dt><span>longname :</span></dt><dd>Particle y-position in pixels (origin at bottom-left corner)</dd><dt><span>units :</span></dt><dd>pixels</dd></dl></div><div class='xr-var-data'><pre>[500000 values with dtype=float32]</pre></div></li><li class='xr-var-item'><div class='xr-var-name'><span>pid</span></div><div class='xr-var-dims'>(particle)</div><div class='xr-var-dtype'>float32</div><div class='xr-var-preview xr-preview'>...</div><input id='attrs-b5b27835-7446-4077-8ff6-3cd436ce5604' class='xr-var-attrs-in' type='checkbox' ><label for='attrs-b5b27835-7446-4077-8ff6-3cd436ce5604' title='Show/Hide attributes'><svg class='icon xr-icon-file-text2'><use xlink:href='#icon-file-text2'></use></svg></label><input id='data-9008e8b4-b70c-4f0f-90f9-ad690649d12d' class='xr-var-data-in' type='checkbox'><label for='data-9008e8b4-b70c-4f0f-90f9-ad690649d12d' title='Show/Hide data repr'><svg class='icon xr-icon-database'><use xlink:href='#icon-database'></use></svg></label><div class='xr-var-attrs'><dl class='xr-attrs'><dt><span>longname :</span></dt><dd>Patch index (1-based, first patch index = 1)</dd><dt><span>units :</span></dt><dd>unitless</dd></dl></div><div class='xr-var-data'><pre>[500000 values with dtype=float32]</pre></div></li><li class='xr-var-item'><div class='xr-var-name'><span>x_patch_pixels</span></div><div class='xr-var-dims'>(particle)</div><div class='xr-var-dtype'>float32</div><div class='xr-var-preview xr-preview'>...</div><input id='attrs-aa8afa7e-8e61-4bbc-af58-94fe1d59d836' class='xr-var-attrs-in' type='checkbox' ><label for='attrs-aa8afa7e-8e61-4bbc-af58-94fe1d59d836' title='Show/Hide attributes'><svg class='icon xr-icon-file-text2'><use xlink:href='#icon-file-text2'></use></svg></label><input id='data-7efbba62-9cc6-458a-a994-47df5dda7bbe' class='xr-var-data-in' type='checkbox'><label for='data-7efbba62-9cc6-458a-a994-47df5dda7bbe' title='Show/Hide data repr'><svg class='icon xr-icon-database'><use xlink:href='#icon-database'></use></svg></label><div class='xr-var-attrs'><dl class='xr-attrs'><dt><span>longname :</span></dt><dd>Patch x-position in pixels (origin at bottom-left corner)</dd><dt><span>units :</span></dt><dd>pixels</dd></dl></div><div class='xr-var-data'><pre>[500000 values with dtype=float32]</pre></div></li><li class='xr-var-item'><div class='xr-var-name'><span>y_patch_pixels</span></div><div class='xr-var-dims'>(particle)</div><div class='xr-var-dtype'>float32</div><div class='xr-var-preview xr-preview'>...</div><input id='attrs-c51828b7-bb79-433d-984a-833c4056a50b' class='xr-var-attrs-in' type='checkbox' ><label for='attrs-c51828b7-bb79-433d-984a-833c4056a50b' title='Show/Hide attributes'><svg class='icon xr-icon-file-text2'><use xlink:href='#icon-file-text2'></use></svg></label><input id='data-7edceb3d-74af-4158-b89b-efbe6944bad7' class='xr-var-data-in' type='checkbox'><label for='data-7edceb3d-74af-4158-b89b-efbe6944bad7' title='Show/Hide data repr'><svg class='icon xr-icon-database'><use xlink:href='#icon-database'></use></svg></label><div class='xr-var-attrs'><dl class='xr-attrs'><dt><span>longname :</span></dt><dd>Patch y-position in pixels (origin at bottom-left corner)</dd><dt><span>units :</span></dt><dd>pixels</dd></dl></div><div class='xr-var-data'><pre>[500000 values with dtype=float32]</pre></div></li><li class='xr-var-item'><div class='xr-var-name'><span>patch</span></div><div class='xr-var-dims'>(patch_number, patch_xsize, patch_ysize)</div><div class='xr-var-dtype'>uint8</div><div class='xr-var-preview xr-preview'>...</div><input id='attrs-83ac94e2-1816-4d0f-b414-89004f02a70d' class='xr-var-attrs-in' type='checkbox' ><label for='attrs-83ac94e2-1816-4d0f-b414-89004f02a70d' title='Show/Hide attributes'><svg class='icon xr-icon-file-text2'><use xlink:href='#icon-file-text2'></use></svg></label><input id='data-d1b039d3-0723-472c-8d4a-06cbf28efb9a' class='xr-var-data-in' type='checkbox'><label for='data-d1b039d3-0723-472c-8d4a-06cbf28efb9a' title='Show/Hide data repr'><svg class='icon xr-icon-database'><use xlink:href='#icon-database'></use></svg></label><div class='xr-var-attrs'><dl class='xr-attrs'><dt><span>longname :</span></dt><dd>Patch image</dd></dl></div><div class='xr-var-data'><pre>[13107200000 values with dtype=uint8]</pre></div></li></ul></div></li><li class='xr-section-item'><input id='section-2e9ca6ed-e413-4577-a321-ffc81d893431' class='xr-section-summary-in' type='checkbox'  ><label for='section-2e9ca6ed-e413-4577-a321-ffc81d893431' class='xr-section-summary' >Attributes: <span>(33)</span></label><div class='xr-section-inline-details'></div><div class='xr-section-details'><dl class='xr-attrs'><dt><span>DateCreated :</span></dt><dd>10-Feb-2021</dd><dt><span>Nx :</span></dt><dd>512.0</dd><dt><span>Ny :</span></dt><dd>512.0</dd><dt><span>dx :</span></dt><dd>2.96e-06</dd><dt><span>dy :</span></dt><dd>2.96e-06</dd><dt><span>lambda :</span></dt><dd>3.55e-07</dd><dt><span>Dpmin :</span></dt><dd>1e-05</dd><dt><span>Dpmax :</span></dt><dd>0.0001</dd><dt><span>zMin :</span></dt><dd>0.014</dd><dt><span>zMax :</span></dt><dd>0.158</dd><dt><span>NParticles :</span></dt><dd>10.0</dd><dt><span>Nbits :</span></dt><dd>8.0</dd><dt><span>ccdelevel :</span></dt><dd>20000.0</dd><dt><span>gainFactor :</span></dt><dd>24.0</dd><dt><span>readNoiseSTD :</span></dt><dd>12.0</dd><dt><span>gaussCornCon :</span></dt><dd>1.0</dd><dt><span>lowPassFiltCutoff :</span></dt><dd>2500.0</dd><dt><span>fracBeamDistort :</span></dt><dd>0.02</dd><dt><span>should_beam :</span></dt><dd>1</dd><dt><span>should_noise :</span></dt><dd>1</dd><dt><span>should_lnoise :</span></dt><dd>0</dd><dt><span>partRelInt :</span></dt><dd>0.5</dd><dt><span>nHolograms :</span></dt><dd>50000.0</dd><dt><span>makeRandParts :</span></dt><dd>1</dd><dt><span>should_random :</span></dt><dd>1</dd><dt><span>should_extend_domain :</span></dt><dd>0</dd><dt><span>superSamplingRate :</span></dt><dd>1.0</dd><dt><span>monodisperse :</span></dt><dd>0.0</dd><dt><span>should_cache :</span></dt><dd>1</dd><dt><span>Nx_patch :</span></dt><dd>128.0</dd><dt><span>Ny_patch :</span></dt><dd>128.0</dd><dt><span>nPatches :</span></dt><dd>800000.0</dd><dt><span>PatchesPerHologram :</span></dt><dd>16.0</dd></dl></div></li></ul></div></div>"
      ],
      "text/plain": [
       "<xarray.Dataset>\n",
       "Dimensions:         (hologram_number: 50000, particle: 500000, patch_number: 800000, patch_xsize: 128, patch_ysize: 128, xsize: 512, ysize: 512)\n",
       "Dimensions without coordinates: hologram_number, particle, patch_number, patch_xsize, patch_ysize, xsize, ysize\n",
       "Data variables: (12/16)\n",
       "    hid             (particle) float32 1.0 1.0 1.0 1.0 ... 5e+04 5e+04 5e+04\n",
       "    d               (particle) float32 36.48 45.38 25.82 ... 32.3 9.01 40.48\n",
       "    x               (particle) float32 253.9 22.78 732.8 ... -616.6 -431.8\n",
       "    y               (particle) float32 708.5 -600.7 552.2 ... 106.1 -190.7 662.5\n",
       "    z               (particle) float32 5.645e+04 1.438e+05 ... 1.419e+05\n",
       "    n0              (particle) float32 ...\n",
       "    ...              ...\n",
       "    x_pixels        (particle) float32 ...\n",
       "    y_pixels        (particle) float32 ...\n",
       "    pid             (particle) float32 ...\n",
       "    x_patch_pixels  (particle) float32 ...\n",
       "    y_patch_pixels  (particle) float32 ...\n",
       "    patch           (patch_number, patch_xsize, patch_ysize) uint8 ...\n",
       "Attributes: (12/33)\n",
       "    DateCreated:           10-Feb-2021\n",
       "    Nx:                    512.0\n",
       "    Ny:                    512.0\n",
       "    dx:                    2.96e-06\n",
       "    dy:                    2.96e-06\n",
       "    lambda:                3.55e-07\n",
       "    ...                    ...\n",
       "    monodisperse:          0.0\n",
       "    should_cache:          1\n",
       "    Nx_patch:              128.0\n",
       "    Ny_patch:              128.0\n",
       "    nPatches:              800000.0\n",
       "    PatchesPerHologram:    16.0"
      ]
     },
     "execution_count": 108,
     "metadata": {},
     "output_type": "execute_result"
    }
   ],
   "source": [
    "h_ds"
   ]
  },
  {
   "cell_type": "code",
   "execution_count": null,
   "id": "public-appearance",
   "metadata": {},
   "outputs": [],
   "source": []
  }
 ],
 "metadata": {
  "kernelspec": {
   "display_name": "Python [conda env:miniconda3-ml-torch]",
   "language": "python",
   "name": "conda-env-miniconda3-ml-torch-py"
  },
  "language_info": {
   "codemirror_mode": {
    "name": "ipython",
    "version": 3
   },
   "file_extension": ".py",
   "mimetype": "text/x-python",
   "name": "python",
   "nbconvert_exporter": "python",
   "pygments_lexer": "ipython3",
   "version": "3.7.10"
  }
 },
 "nbformat": 4,
 "nbformat_minor": 5
}
