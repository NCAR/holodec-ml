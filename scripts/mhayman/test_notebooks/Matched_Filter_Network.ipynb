{
 "cells": [
  {
   "cell_type": "code",
   "execution_count": 1,
   "id": "a7004afc-5cda-48c6-8de9-12a905fdf08f",
   "metadata": {},
   "outputs": [],
   "source": [
    "import warnings\n",
    "warnings.filterwarnings(\"ignore\")\n",
    "\n",
    "import sys,os\n",
    "\n",
    "import numpy as np\n",
    "import matplotlib.pyplot as plt\n",
    "\n",
    "import glob\n",
    "import xarray as xr\n",
    "import datetime"
   ]
  },
  {
   "cell_type": "code",
   "execution_count": 2,
   "id": "ccf6d243-a0a1-4b53-b4f5-52cbe27124a7",
   "metadata": {},
   "outputs": [],
   "source": [
    "# import yaml\n",
    "import tqdm\n",
    "import torch\n",
    "import pickle\n",
    "import logging\n",
    "import random\n",
    "\n",
    "from typing import List, Dict, Callable, Union, Any, TypeVar, Tuple\n",
    "# from multiprocessing import cpu_count\n",
    "\n",
    "\n",
    "import torch\n",
    "import torch.fft\n",
    "from torch import nn\n",
    "\n",
    "import torch.nn.functional as F\n",
    "\n",
    "# from torchvision.utils import save_image\n",
    "from torch.utils.data import Dataset, DataLoader, TensorDataset\n",
    "from torch.optim.lr_scheduler import ReduceLROnPlateau"
   ]
  },
  {
   "cell_type": "code",
   "execution_count": null,
   "id": "fabde7a3-bbac-4df7-9c7f-4822fd19384a",
   "metadata": {},
   "outputs": [],
   "source": [
    "dx = h_ds.attrs['dx']      # horizontal resolution\n",
    "dy = h_ds.attrs['dy']      # vertical resolution\n",
    "Nx = int(h_ds.attrs['Nx']) # number of horizontal pixels\n",
    "Ny = int(h_ds.attrs['Ny']) # number of vertical pixels\n",
    "lam = h_ds.attrs['lambda'] # wavelength\n",
    "zMin = h_ds.attrs['zMin']  # minimum z in sample volume\n",
    "zMax = h_ds.attrs['zMax']  # maximum z in sample volume\n",
    "zCCD = 0                   # z position of the image plane\n",
    "num_per_holo = 1\n",
    "image_norm = 255.0"
   ]
  },
  {
   "cell_type": "code",
   "execution_count": null,
   "id": "06357061-c44b-4e5d-9ad0-b8e2f7996af4",
   "metadata": {},
   "outputs": [],
   "source": [
    "x_arr = np.arange(-Nx//2,Nx//2)*dx\n",
    "y_arr = np.arange(-Ny//2,Ny//2)*dy"
   ]
  },
  {
   "cell_type": "code",
   "execution_count": null,
   "id": "567b306f-bdc1-4c74-bbd6-c98d6d78e157",
   "metadata": {},
   "outputs": [],
   "source": [
    "fx = torch.fft.fftfreq(Nx,dx,device=device)[None,:,None]\n",
    "fy = torch.fft.fftfreq(Ny,dy,device=device)[None,None,:]"
   ]
  },
  {
   "cell_type": "code",
   "execution_count": null,
   "id": "c3f23db0-bb21-4eec-863e-747e9b86f5b1",
   "metadata": {},
   "outputs": [],
   "source": []
  },
  {
   "cell_type": "code",
   "execution_count": null,
   "id": "a4e5770d-8c98-434f-a3b7-2969d681f964",
   "metadata": {},
   "outputs": [],
   "source": [
    "class DepthNet(nn.Module):\n",
    "    def __init__(self,Nz):\n",
    "        \"\"\"\n",
    "        Train an array of z values to use as a prefilter\n",
    "        on Fourier Transformed hologram \n",
    "        \"\"\"\n",
    "        super().__init__()\n",
    "        self.Nz = int(Nz)  # number of z filters\n",
    "        self.z_arr = torch.nn.Parameter(torch.randn((1,1,self.Nz,1,1)))\n",
    "        self.cos_arg = 2*np.pi/lam*torch.sqrt(1-lam**2*(fx**2+fy**2))\n",
    "        \n",
    "\n",
    "    def forward(self, x):\n",
    "        \"\"\"\n",
    "        Apply the z filter to the input hologram fft\n",
    "        \"\"\"\n",
    "        in_shape = x.shape\n",
    "        y = torch.cos(self.cos_arg*self.z_arr)*x[:,:,None,...]\n",
    "\n",
    "        return \n",
    "    def string(self):\n",
    "        \"\"\"\n",
    "        Just like any class in Python, you can also define custom method on PyTorch modules\n",
    "        \"\"\"\n",
    "        return f\"Cosine filter with {self.Nz} filters\""
   ]
  },
  {
   "cell_type": "code",
   "execution_count": 4,
   "id": "930f071a-9e76-4eb0-b96f-9eb1035de233",
   "metadata": {},
   "outputs": [
    {
     "data": {
      "text/plain": [
       "tensor([-0.7030,  1.7485, -1.4849,  0.5411, -0.9013])"
      ]
     },
     "execution_count": 4,
     "metadata": {},
     "output_type": "execute_result"
    }
   ],
   "source": [
    "torch.randn((5))"
   ]
  },
  {
   "cell_type": "code",
   "execution_count": null,
   "id": "7d29a24e-317f-41a8-9bb8-cb52ae8e6767",
   "metadata": {},
   "outputs": [],
   "source": []
  }
 ],
 "metadata": {
  "kernelspec": {
   "display_name": "Python [conda env:miniconda3-ml-torch]",
   "language": "python",
   "name": "conda-env-miniconda3-ml-torch-py"
  },
  "language_info": {
   "codemirror_mode": {
    "name": "ipython",
    "version": 3
   },
   "file_extension": ".py",
   "mimetype": "text/x-python",
   "name": "python",
   "nbconvert_exporter": "python",
   "pygments_lexer": "ipython3",
   "version": "3.7.10"
  }
 },
 "nbformat": 4,
 "nbformat_minor": 5
}
