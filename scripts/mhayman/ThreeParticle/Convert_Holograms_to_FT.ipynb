{
 "cells": [
  {
   "cell_type": "code",
   "execution_count": 42,
   "metadata": {},
   "outputs": [],
   "source": [
    "import numpy as np\n",
    "import xarray as xr\n",
    "#import pandas as pd\n",
    "#from tensorflow.keras.layers import Input, Conv2D, Dense, Flatten, Activation, MaxPool2D\n",
    "#from tensorflow.keras.models import Model, save_model\n",
    "import matplotlib.pyplot as plt\n",
    "import FourierOpticsLib as FO\n",
    "#from sklearn.preprocessing import MinMaxScaler\n",
    "%matplotlib inline"
   ]
  },
  {
   "cell_type": "code",
   "execution_count": 43,
   "metadata": {},
   "outputs": [],
   "source": [
    "ds_path = \"/scr/sci/mhayman/holodec/holodec-ml-data/\"\n",
    "ds_name = \"synthetic_holograms_v02.nc\"\n",
    "ds = xr.open_dataset(ds_path+ds_name)"
   ]
  },
  {
   "cell_type": "code",
   "execution_count": 44,
   "metadata": {},
   "outputs": [
    {
     "data": {
      "text/plain": [
       "<xarray.DataArray 'hologram_number' (hologram_number: 10000)>\n",
       "array([   0,    1,    2, ..., 9997, 9998, 9999])\n",
       "Dimensions without coordinates: hologram_number"
      ]
     },
     "execution_count": 44,
     "metadata": {},
     "output_type": "execute_result"
    }
   ],
   "source": [
    "ds['hologram_number']"
   ]
  },
  {
   "cell_type": "code",
   "execution_count": 45,
   "metadata": {},
   "outputs": [],
   "source": [
    "# initialize the image Fourier Transform\n",
    "image_ft = xr.DataArray(np.zeros(ds['image'].shape,dtype='float32'),\n",
    "                    dims=['hologram_number','xsize','ysize'])\n",
    "\n",
    "# initialize the particle size bins\n",
    "diam_bin_edges = np.linspace(20,70,25)  # define the particle size histogram bins\n",
    "diam_bin_centers = 0.5*(diam_bin_edges[:-1]+diam_bin_edges[1:])\n",
    "diam_histogram = xr.DataArray(np.zeros((ds['image'].shape[0],diam_bin_centers.size)),\n",
    "                              coords=[ds['hologram_number'],diam_bin_centers],\n",
    "                              dims=['hologram_number','diameter_bin_centers'])\n"
   ]
  },
  {
   "cell_type": "code",
   "execution_count": 31,
   "metadata": {},
   "outputs": [
    {
     "data": {
      "text/plain": [
       "array([21.04166667, 23.125     , 25.20833333, 27.29166667, 29.375     ,\n",
       "       31.45833333, 33.54166667, 35.625     , 37.70833333, 39.79166667,\n",
       "       41.875     , 43.95833333, 46.04166667, 48.125     , 50.20833333,\n",
       "       52.29166667, 54.375     , 56.45833333, 58.54166667, 60.625     ,\n",
       "       62.70833333, 64.79166667, 66.875     , 68.95833333])"
      ]
     },
     "execution_count": 31,
     "metadata": {},
     "output_type": "execute_result"
    }
   ],
   "source": [
    "diam_bin_centers"
   ]
  },
  {
   "cell_type": "code",
   "execution_count": 32,
   "metadata": {},
   "outputs": [],
   "source": [
    "ds_ft = ds.assign(image_ft=image_ft)\n",
    "ds_ft = ds_ft.assign(diam_histogram=diam_histogram)\n",
    "ds_ft = ds_ft.assign_coords(diam_bin_edges=diam_bin_edges)"
   ]
  },
  {
   "cell_type": "code",
   "execution_count": 33,
   "metadata": {},
   "outputs": [
    {
     "data": {
      "text/plain": [
       "<xarray.Dataset>\n",
       "Dimensions:               (diam_bin_edges: 25, diameter_bin_centers: 24, hologram_number: 10000, particle: 30000, xsize: 600, ysize: 400)\n",
       "Coordinates:\n",
       "  * hologram_number       (hologram_number) int64 0 1 2 3 ... 9997 9998 9999\n",
       "  * diameter_bin_centers  (diameter_bin_centers) float64 21.04 23.12 ... 68.96\n",
       "  * diam_bin_edges        (diam_bin_edges) float64 20.0 22.08 ... 67.92 70.0\n",
       "Dimensions without coordinates: particle, xsize, ysize\n",
       "Data variables:\n",
       "    hid                   (particle) float32 1.0 1.0 1.0 ... 10000.0 10000.0\n",
       "    d                     (particle) float32 ...\n",
       "    x                     (particle) float32 ...\n",
       "    y                     (particle) float32 ...\n",
       "    z                     (particle) float32 ...\n",
       "    image                 (hologram_number, xsize, ysize) uint8 ...\n",
       "    image_ft              (hologram_number, xsize, ysize) float32 0.0 ... 0.0\n",
       "    diam_histogram        (hologram_number, diameter_bin_centers) float64 0.0 ... 0.0\n",
       "Attributes:\n",
       "    DateCreated:           13-Nov-2019\n",
       "    Nx:                    600.0\n",
       "    Ny:                    400.0\n",
       "    dx:                    2.96e-06\n",
       "    dy:                    2.96e-06\n",
       "    lambda:                3.55e-07\n",
       "    Dpmin:                 2e-05\n",
       "    Dpmax:                 7e-05\n",
       "    zMin:                  0.014\n",
       "    zMax:                  0.158\n",
       "    NParticles:            3.0\n",
       "    Nbits:                 8.0\n",
       "    ccdelevel:             20000.0\n",
       "    gainFactor:            24.0\n",
       "    readNoiseSTD:          12.0\n",
       "    gaussCornCon:          1.0\n",
       "    lowPassFiltCutoff:     2500.0\n",
       "    fracBeamDistort:       0.02\n",
       "    should_beam:           1\n",
       "    should_noise:          1\n",
       "    should_lnoise:         0\n",
       "    partRelInt:            0.5\n",
       "    nHolograms:            10000.0\n",
       "    makeRandParts:         1\n",
       "    should_random:         1\n",
       "    should_extend_domain:  0\n",
       "    superSamplingRate:     1.0\n",
       "    should_cache:          1"
      ]
     },
     "execution_count": 33,
     "metadata": {},
     "output_type": "execute_result"
    }
   ],
   "source": [
    "ds_ft"
   ]
  },
  {
   "cell_type": "code",
   "execution_count": 4,
   "metadata": {},
   "outputs": [],
   "source": [
    "# store the Fourier Transform and particle size histogram for each hologram\n",
    "for im in ds_ft['hologram_number'].values:\n",
    "    particle_index = np.nonzero(ds_ft['hid'].values==im+1)  # find the particles in this hologram\n",
    "    \n",
    "    # make a histogram of particle sizes and store it in the data set\n",
    "    hist0 = np.histogram(ds_ft['d'].values[particle_index],bins=ds_ft['diam_bin_edges'])\n",
    "    ds_ft['diam_histogram'][im,:],_ = hist0[0]\n",
    "    \n",
    "    # FT the image and store the amplitude of it\n",
    "    image_ft0 = FO.OpticsFFT(ds_ft['image_ft'][:,:,im]-np.mean(ds_ft['image_ft'][:,:,im]))\n",
    "    ds_ft['image_ft'][:,:,im] = np.abs(image_ft0)"
   ]
  },
  {
   "cell_type": "code",
   "execution_count": 41,
   "metadata": {},
   "outputs": [
    {
     "data": {
      "text/plain": [
       "(array([0, 1, 2]),)"
      ]
     },
     "execution_count": 41,
     "metadata": {},
     "output_type": "execute_result"
    }
   ],
   "source": [
    "np.nonzero(ds_ft['hid'].values==1)"
   ]
  },
  {
   "cell_type": "code",
   "execution_count": 6,
   "metadata": {},
   "outputs": [
    {
     "data": {
      "text/plain": [
       "<xarray.Dataset>\n",
       "Dimensions:   (hologram_number: 10000, particle: 10000, xsize: 600, ysize: 400)\n",
       "Dimensions without coordinates: hologram_number, particle, xsize, ysize\n",
       "Data variables:\n",
       "    hid       (particle) float32 ...\n",
       "    d         (particle) float32 ...\n",
       "    x         (particle) float32 ...\n",
       "    y         (particle) float32 ...\n",
       "    z         (particle) float32 ...\n",
       "    image     (ysize, xsize, hologram_number) uint8 ...\n",
       "    image_ft  (ysize, xsize, hologram_number) float32 0.71851695 ... 0.8084589\n",
       "Attributes:\n",
       "    DateCreated:           28-Oct-2019\n",
       "    Nx:                    600.0\n",
       "    Ny:                    400.0\n",
       "    dx:                    2.96e-06\n",
       "    dy:                    2.96e-06\n",
       "    lambda:                3.55e-07\n",
       "    Dpmin:                 2e-05\n",
       "    Dpmax:                 7e-05\n",
       "    zMin:                  0.014\n",
       "    zMax:                  0.158\n",
       "    NParticles:            1.0\n",
       "    Nbits:                 8.0\n",
       "    ccdelevel:             20000.0\n",
       "    gainFactor:            24.0\n",
       "    readNoiseSTD:          12.0\n",
       "    gaussCornCon:          1.0\n",
       "    lowPassFiltCutoff:     2500.0\n",
       "    fracBeamDistort:       0.02\n",
       "    should_beam:           1\n",
       "    should_noise:          1\n",
       "    should_lnoise:         0\n",
       "    partRelInt:            0.5\n",
       "    nHolograms:            10000.0\n",
       "    makeRandParts:         1\n",
       "    should_random:         1\n",
       "    should_extend_domain:  0\n",
       "    superSamplingRate:     1.0\n",
       "    should_cache:          1"
      ]
     },
     "execution_count": 6,
     "metadata": {},
     "output_type": "execute_result"
    }
   ],
   "source": [
    "ds_ft"
   ]
  },
  {
   "cell_type": "code",
   "execution_count": 7,
   "metadata": {},
   "outputs": [],
   "source": [
    "ds_ft.to_netcdf(ds_path+ds_name.replace('synthethic_holograms','synthethic_holograms_ft_ac_amp'))\n",
    "#ds_ft.to_netcdf(ds_path+\"synthethic_holograms_ft_ac_v0.nc\")"
   ]
  },
  {
   "cell_type": "code",
   "execution_count": null,
   "metadata": {},
   "outputs": [],
   "source": []
  }
 ],
 "metadata": {
  "kernelspec": {
   "display_name": "Python 3",
   "language": "python",
   "name": "python3"
  },
  "language_info": {
   "codemirror_mode": {
    "name": "ipython",
    "version": 3
   },
   "file_extension": ".py",
   "mimetype": "text/x-python",
   "name": "python",
   "nbconvert_exporter": "python",
   "pygments_lexer": "ipython3",
   "version": "3.7.3"
  }
 },
 "nbformat": 4,
 "nbformat_minor": 2
}
