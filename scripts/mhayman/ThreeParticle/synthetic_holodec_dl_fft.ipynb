{
 "cells": [
  {
   "cell_type": "code",
   "execution_count": 1,
   "metadata": {},
   "outputs": [],
   "source": [
    "import numpy as np\n",
    "import xarray as xr\n",
    "import pandas as pd\n",
    "from tensorflow.keras.layers import Input, Conv2D, Dense, Flatten, Activation, MaxPool2D, SeparableConv2D, AveragePooling2D, concatenate\n",
    "from tensorflow.keras.models import Model, save_model, load_model\n",
    "from tensorflow.keras.utils import plot_model, to_categorical\n",
    "import matplotlib.pyplot as plt\n",
    "from sklearn.preprocessing import MinMaxScaler\n",
    "import datetime\n",
    "%matplotlib inline"
   ]
  },
  {
   "cell_type": "code",
   "execution_count": 2,
   "metadata": {},
   "outputs": [],
   "source": [
    "ds_path = \"/scr/sci/mhayman/holodec/holodec-ml-data/\"\n",
    "#ds_name = \"synthetic_holograms_v02_ft_ac_d_amplitude_float32.nc\"\n",
    "ds_name = \"synthetic_holograms_v02_ft_ac_d_real_imag_float32.nc\"\n",
    "#ds_name = \"synthethic_holograms_v0_ft_ac_d_amplitude_float32_histogram.nc\"  # single particle histograms\n",
    "#ds_name = \"synthethic_holograms_v0_ft_ac_dzxy_amplitude_real_imag_float32_histogram.nc\"  # single particle\n",
    "\n",
    "epochs = 40\n",
    "\n",
    "ds = xr.open_dataset(ds_path+ds_name)  # file with mean (DC) value removed"
   ]
  },
  {
   "cell_type": "code",
   "execution_count": 3,
   "metadata": {},
   "outputs": [],
   "source": [
    "# flatten the histogram to a single axis with the hologram number remaining as the first axis\n",
    "particle_labels = ds['particle_histogram'].stack(histogram_line=ds['particle_histogram'].dims[1:]).values\n",
    "\n",
    "all_labels = pd.DataFrame(particle_labels, index=ds['hologram_number'])\n",
    "\n",
    "# Fourier Transform the histograms\n",
    "#particle_labels_ft0 = np.fft.fft(particle_labels,axis=0)[:,:particle_labels.shape[1]//2]\n",
    "#particle_labels_ft = np.concatenate((np.real(particle_labels_ft0),np.imag(particle_labels_ft0)),axis=1)\n",
    "#print(particle_labels_ft.shape)\n",
    "#all_labels = pd.DataFrame(particle_labels_ft, index=ds['hologram_number'])"
   ]
  },
  {
   "cell_type": "code",
   "execution_count": 4,
   "metadata": {},
   "outputs": [
    {
     "data": {
      "text/plain": [
       "('d_bin_centers',)"
      ]
     },
     "execution_count": 4,
     "metadata": {},
     "output_type": "execute_result"
    }
   ],
   "source": [
    "ds['particle_histogram'].dims[1:]"
   ]
  },
  {
   "cell_type": "code",
   "execution_count": 5,
   "metadata": {},
   "outputs": [],
   "source": [
    "split_index = 7000  # number of training+validation points\n",
    "valid_index = 2000  # number of validation points\n",
    "train_labels = all_labels.iloc[valid_index:split_index]\n",
    "test_labels = all_labels.iloc[split_index:]\n",
    "val_labels = all_labels.iloc[:valid_index]\n",
    "\n",
    "#scaler = MinMaxScaler()\n",
    "#scaled_train_labels = pd.DataFrame(scaler.fit_transform(train_labels), index=train_labels.index, columns=train_labels.columns)\n",
    "#scaled_test_labels = pd.DataFrame(scaler.transform(test_labels), index=test_labels.index, columns=test_labels.columns)\n",
    "#scaled_val_labels = pd.DataFrame(scaler.transform(val_labels), index=val_labels.index, columns=val_labels.columns)\n",
    "\n",
    "#scaler = MinMaxScaler()\n",
    "scaled_train_labels = pd.DataFrame(train_labels, index=train_labels.index, columns=train_labels.columns)\n",
    "scaled_test_labels = pd.DataFrame(test_labels, index=test_labels.index, columns=test_labels.columns)\n",
    "scaled_val_labels = pd.DataFrame(val_labels, index=val_labels.index, columns=val_labels.columns)"
   ]
  },
  {
   "cell_type": "code",
   "execution_count": 6,
   "metadata": {},
   "outputs": [],
   "source": [
    "if not \"channel\" in ds[\"image_ft\"].dims:\n",
    "    in_data = ds[\"image_ft\"].transpose(\"hologram_number\", \"xsize\", 'ysize').expand_dims(\"channel\", 3)\n",
    "else:\n",
    "    in_data = ds[\"image_ft\"].transpose(\"hologram_number\", \"xsize\", 'ysize',\"channel\")"
   ]
  },
  {
   "cell_type": "code",
   "execution_count": 7,
   "metadata": {},
   "outputs": [
    {
     "data": {
      "text/plain": [
       "('hologram_number', 'xsize', 'ysize', 'channel')"
      ]
     },
     "execution_count": 7,
     "metadata": {},
     "output_type": "execute_result"
    }
   ],
   "source": [
    "in_data.dims"
   ]
  },
  {
   "cell_type": "code",
   "execution_count": 8,
   "metadata": {},
   "outputs": [
    {
     "data": {
      "text/plain": [
       "<xarray.DataArray 'image_ft' ()>\n",
       "array(2.115811)"
      ]
     },
     "execution_count": 8,
     "metadata": {},
     "output_type": "execute_result"
    }
   ],
   "source": [
    "ds[\"image_ft\"].max()"
   ]
  },
  {
   "cell_type": "code",
   "execution_count": 9,
   "metadata": {},
   "outputs": [
    {
     "data": {
      "text/plain": [
       "[<matplotlib.lines.Line2D at 0x7fb0c9722e80>]"
      ]
     },
     "execution_count": 9,
     "metadata": {},
     "output_type": "execute_result"
    },
    {
     "data": {
      "image/png": "[encoded data removed]",
      "text/plain": [
       "<Figure size 432x288 with 1 Axes>"
      ]
     },
     "metadata": {
      "needs_background": "light"
     },
     "output_type": "display_data"
    }
   ],
   "source": [
    "plt.figure(); plt.plot(scaled_train_labels.values[10,:])"
   ]
  },
  {
   "cell_type": "code",
   "execution_count": null,
   "metadata": {},
   "outputs": [],
   "source": [
    "scaled_in_data = in_data / 2"
   ]
  },
  {
   "cell_type": "code",
   "execution_count": null,
   "metadata": {},
   "outputs": [],
   "source": [
    "nn_descript = 'CNN_binary_crossentropy'\n",
    "\n",
    "conv_input = Input(shape=in_data.shape[1:])  \n",
    "conv_1 = SeparableConv2D(8, (5, 5), padding=\"same\")(conv_input)\n",
    "act_1 = Activation(\"relu\")(conv_1)\n",
    "pool_1 = MaxPool2D(pool_size=(4, 4))(act_1)\n",
    "\n",
    "conv_2 = Conv2D(16, (5, 5), padding=\"same\")(pool_1)\n",
    "act_2 = Activation(\"relu\")(conv_2)\n",
    "pool_2 = MaxPool2D(pool_size=(4, 4))(act_2)\n",
    "conv_3 = Conv2D(32, (5, 5), padding=\"same\")(pool_2)\n",
    "act_3 = Activation(\"relu\")(conv_3)\n",
    "pool_3 = MaxPool2D(pool_size=(4, 4))(act_3)\n",
    "flat = Flatten()(pool_3)\n",
    "dense_1 = Dense(64, activation=\"relu\")(flat)\n",
    "dense_2 = Dense(32, activation=\"relu\")(dense_1)\n",
    "out = Dense(all_labels.shape[1],activation='sigmoid')(dense_2)  # number of outputs determined by the parameters we are training to\n",
    "mod = Model(conv_input, out)\n",
    "mod.compile(optimizer=\"rmsprop\", loss=\"binary_crossentropy\",metrics=['acc'])\n",
    "mod.summary()"
   ]
  },
  {
   "cell_type": "code",
   "execution_count": null,
   "metadata": {},
   "outputs": [],
   "source": [
    "plot_model(mod,show_shapes=True,to_file=\"results/holodec_\"+nn_descript+'_'+ds_name.replace(\".nc\",\"\")+\".png\")"
   ]
  },
  {
   "cell_type": "code",
   "execution_count": null,
   "metadata": {},
   "outputs": [],
   "source": [
    "history = mod.fit(scaled_in_data[valid_index:split_index].values, scaled_train_labels.values, \n",
    "                  batch_size=16, epochs=epochs, verbose=1,\n",
    "                  validation_data=(scaled_in_data[:valid_index].values,scaled_val_labels.values))"
   ]
  },
  {
   "cell_type": "code",
   "execution_count": null,
   "metadata": {},
   "outputs": [],
   "source": [
    "epochs = np.arange(len(history.history['acc']))+1\n",
    "fig, ax = plt.subplots(1, 1, figsize=(8, 4))\n",
    "ax.plot(epochs,history.history['loss'],'bo-',alpha=0.5,label='Training')\n",
    "ax.plot(epochs,history.history['val_loss'],'rs-',alpha=0.5,label='Validation')\n",
    "ax.set_xlabel('Epoch')\n",
    "ax.set_ylabel('Loss')\n",
    "ax.grid(b=True)\n",
    "plt.legend()\n",
    "plt.savefig(\"results/LossHistory_\"+nn_descript+'_'+ds_name.replace(\".nc\",\"\")+f\"{epochs}epochs\"+\".png\", dpi=200, bbox_inches=\"tight\")\n",
    "\n",
    "fig, bx = plt.subplots(1, 1, figsize=(8, 4))\n",
    "bx.plot(epochs,history.history['acc'],'bo-',alpha=0.5,label='Training')\n",
    "bx.plot(epochs,history.history['val_acc'],'rs-',alpha=0.5,label='Validation')\n",
    "bx.set_xlabel('Epoch')\n",
    "bx.set_ylabel('Accuracy')\n",
    "bx.grid(b=True)\n",
    "plt.legend()\n",
    "plt.savefig(\"results/AccuracyHistory_\"+nn_descript+'_'+ds_name.replace(\".nc\",\"\")+f\"{epochs}epochs\"+\".png\", dpi=200, bbox_inches=\"tight\")\n"
   ]
  },
  {
   "cell_type": "code",
   "execution_count": null,
   "metadata": {},
   "outputs": [],
   "source": [
    "# can skip the training process and just load the CNN model\n",
    "#mod = load_model(\"holodec_ft_cnn.h5\")"
   ]
  },
  {
   "cell_type": "code",
   "execution_count": null,
   "metadata": {},
   "outputs": [],
   "source": [
    "cnn_start = datetime.datetime.now()\n",
    "preds_out = mod.predict(scaled_in_data.values, batch_size=64)\n",
    "cnn_stop = datetime.datetime.now()\n",
    "print(f\"{scaled_in_data.values.shape[0]} samples in {(cnn_stop-cnn_start).total_seconds()} seconds\")\n",
    "print(f\"for {(cnn_stop-cnn_start).total_seconds()/scaled_in_data.values.shape[0]} seconds per hologram\")"
   ]
  },
  {
   "cell_type": "code",
   "execution_count": null,
   "metadata": {},
   "outputs": [],
   "source": [
    "save_model(mod, ds_path+\"/models/holodec_histogram_\"+nn_descript+'_'+ds_name.replace(\".nc\",\"\")+f\"{epochs}epochs\"+\".h5\", save_format=\"h5\")"
   ]
  },
  {
   "cell_type": "code",
   "execution_count": null,
   "metadata": {},
   "outputs": [],
   "source": [
    "preds_out.shape"
   ]
  },
  {
   "cell_type": "code",
   "execution_count": null,
   "metadata": {},
   "outputs": [],
   "source": [
    "fig,axes = plt.subplots(1,1,figsize=(12,4))\n",
    "axes.imshow(scaled_test_labels.values.T)\n",
    "axes.set_xlabel('Hologram Number')\n",
    "axes.set_ylabel('Histogram Index')\n",
    "axes.set_title('Test Labels')\n",
    "plt.savefig(\"results/Label_Histogram_\"+nn_descript+'_'+ds_name.replace(\".nc\",\"\")+f\"{epochs}epochs\"+\".png\", dpi=200, bbox_inches=\"tight\")\n",
    "\n",
    "fig,axes = plt.subplots(1,1,figsize=(12,4))\n",
    "axes.imshow(preds_out[split_index:,:].T,vmin=0,vmax=0.3)\n",
    "axes.set_xlabel('Hologram Number')\n",
    "axes.set_ylabel('Histogram Index')\n",
    "axes.set_title('Test Output')\n",
    "plt.savefig(\"results/Output_Histogram_\"+nn_descript+'_'+ds_name.replace(\".nc\",\"\")+f\"{epochs}epochs\"+\".png\", dpi=200, bbox_inches=\"tight\")\n"
   ]
  },
  {
   "cell_type": "code",
   "execution_count": null,
   "metadata": {},
   "outputs": [],
   "source": [
    "hindices = [10,234,500,1293]\n",
    "fig,axes = plt.subplots(2,2,figsize=(8,8))\n",
    "axes=axes.ravel()\n",
    "for hi,holo_index in enumerate(hindices):\n",
    "    axes[hi].plot(ds['particle_histogram'].d_bin_centers.values,test_labels.iloc[holo_index,:],label=f'Test Label {holo_index}')\n",
    "    axes[hi].plot(ds['particle_histogram'].d_bin_centers.values,preds_out[split_index+holo_index,0:],label=f'Test Output {holo_index}')\n",
    "    axes[hi].set_ylabel('Probability')\n",
    "    axes[hi].set_xlabel('Particle Diameter [$\\mu m$]')\n",
    "    #axes[hi].set_title(f'Hologram {holo_index}')\n",
    "    axes[hi].grid(b=True)\n",
    "    axes[hi].legend()\n",
    "\n",
    "plt.savefig(\"results/Example_Hists_\"+nn_descript+'_'+ds_name.replace(\".nc\",\"\")+f\"{epochs}epochs\"+\".png\", dpi=200, bbox_inches=\"tight\")"
   ]
  },
  {
   "cell_type": "code",
   "execution_count": null,
   "metadata": {},
   "outputs": [],
   "source": [
    "part_indices = np.nonzero(scaled_test_labels.values)\n",
    "pred_values = (preds_out[split_index:,:])[part_indices]\n",
    "label_moments = []\n",
    "label_moments.append(np.sum(scaled_test_labels.values*ds['particle_histogram'].d_bin_centers.values[np.newaxis,:],axis=1)/np.sum(scaled_test_labels.values,axis=1))\n",
    "label_moments.append(np.sum(scaled_test_labels.values*ds['particle_histogram'].d_bin_centers.values[np.newaxis,:]**2,axis=1)/np.sum(scaled_test_labels.values,axis=1))\n",
    "label_moments.append(np.sum(scaled_test_labels.values*ds['particle_histogram'].d_bin_centers.values[np.newaxis,:]**3,axis=1)/np.sum(scaled_test_labels.values,axis=1))\n",
    "label_moments.append(np.sum(scaled_test_labels.values*ds['particle_histogram'].d_bin_centers.values[np.newaxis,:]**4,axis=1)/np.sum(scaled_test_labels.values,axis=1))\n",
    "\n",
    "pred_moments = []\n",
    "pred_moments.append(np.sum(preds_out[split_index:,:]*ds['particle_histogram'].d_bin_centers.values[np.newaxis,:],axis=1)/np.sum(preds_out[split_index:,:],axis=1))\n",
    "pred_moments.append(np.sum(preds_out[split_index:,:]*ds['particle_histogram'].d_bin_centers.values[np.newaxis,:]**2,axis=1)/np.sum(preds_out[split_index:,:],axis=1))\n",
    "pred_moments.append(np.sum(preds_out[split_index:,:]*ds['particle_histogram'].d_bin_centers.values[np.newaxis,:]**3,axis=1)/np.sum(preds_out[split_index:,:],axis=1))\n",
    "pred_moments.append(np.sum(preds_out[split_index:,:]*ds['particle_histogram'].d_bin_centers.values[np.newaxis,:]**4,axis=1)/np.sum(preds_out[split_index:,:],axis=1))\n",
    "std_pred = np.sqrt(pred_moments[1]-pred_moments[0]**2)\n",
    "\n",
    "mean_error = []\n",
    "std_error = []\n",
    "fig, axes = plt.subplots(2, 2, figsize=(8, 8))\n",
    "for ai,ax in enumerate(axes.ravel()):\n",
    "    if ai == 0:\n",
    "        mean_error.append(np.mean(pred_moments[ai]-label_moments[ai]))\n",
    "    else:\n",
    "        mean_error.append(np.abs(np.mean(pred_moments[ai]-label_moments[ai]))**(1/(1.0+ai)))\n",
    "    std_error.append(np.std(pred_moments[ai]-label_moments[ai])**(1/(1.0+ai)))\n",
    "    ax.scatter(label_moments[ai]**(1/(1.0+ai)),pred_moments[ai]**(1/(1.0+ai)), 1, 'k')\n",
    "    diag = np.linspace(label_moments[ai].min()**(1/(1.0+ai)), label_moments[ai].max()**(1/(1.0+ai)), 10)\n",
    "    ax.plot(diag, diag, 'b--' )\n",
    "    plt.text(0.1,0.9,f\"${mean_error[ai]:.1f} \\pm {std_error[ai]:.1f} \\mu m$\",ha='left',va='top',transform=ax.transAxes)\n",
    "    ax.grid(b=True)\n",
    "    ax.set_title('moment %d'%(ai+1))\n",
    "plt.savefig(\"results/Moment_Scatter_\"+nn_descript+'_'+ds_name.replace(\".nc\",\"\")+f\"{epochs}epochs\"+\".png\", dpi=200, bbox_inches=\"tight\")\n"
   ]
  },
  {
   "cell_type": "code",
   "execution_count": null,
   "metadata": {},
   "outputs": [],
   "source": [
    "np.mean(pred_moments[0]-label_moments[0])"
   ]
  },
  {
   "cell_type": "code",
   "execution_count": null,
   "metadata": {},
   "outputs": [],
   "source": [
    "np.mean((pred_moments[0]-label_moments[0])**2)"
   ]
  },
  {
   "cell_type": "code",
   "execution_count": null,
   "metadata": {},
   "outputs": [],
   "source": [
    "np.mean(pred_moments[1]-pred_moments[0]**2)"
   ]
  },
  {
   "cell_type": "code",
   "execution_count": null,
   "metadata": {},
   "outputs": [],
   "source": []
  }
 ],
 "metadata": {
  "kernelspec": {
   "display_name": "Python 3",
   "language": "python",
   "name": "python3"
  },
  "language_info": {
   "codemirror_mode": {
    "name": "ipython",
    "version": 3
   },
   "file_extension": ".py",
   "mimetype": "text/x-python",
   "name": "python",
   "nbconvert_exporter": "python",
   "pygments_lexer": "ipython3",
   "version": "3.7.3"
  }
 },
 "nbformat": 4,
 "nbformat_minor": 4
}
