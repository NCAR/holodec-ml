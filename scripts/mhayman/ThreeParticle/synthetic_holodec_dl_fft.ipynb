{
 "cells": [
  {
   "cell_type": "code",
   "execution_count": 10,
   "metadata": {},
   "outputs": [],
   "source": [
    "import numpy as np\n",
    "import xarray as xr\n",
    "import pandas as pd\n",
    "from tensorflow.keras.layers import Input, Conv2D, Dense, Flatten, Activation, MaxPool2D, AveragePooling2D\n",
    "from tensorflow.keras.models import Model, save_model, load_model\n",
    "import matplotlib.pyplot as plt\n",
    "from sklearn.preprocessing import MinMaxScaler\n",
    "import datetime\n",
    "%matplotlib inline"
   ]
  },
  {
   "cell_type": "code",
   "execution_count": 2,
   "metadata": {},
   "outputs": [],
   "source": [
    "ds_path = \"/scr/sci/mhayman/holodec/holodec-ml-data/\"\n",
    "ds_name = \"synthetic_holograms_v02_ft_ac_d_amplitude_float32.nc\"\n",
    "#ds_name = \"synthetic_holograms_v02_ft_ac_d_real_imag_float32.nc\"\n",
    "ds = xr.open_dataset(ds_path+ds_name)  # file with mean (DC) value removed"
   ]
  },
  {
   "cell_type": "code",
   "execution_count": 3,
   "metadata": {},
   "outputs": [],
   "source": [
    "particle_labels = ds['particle_histogram'].stack(histogram_line=ds['particle_histogram'].dims[1:]).values\n",
    "all_labels = pd.DataFrame(particle_labels, index=ds['hologram_number'])"
   ]
  },
  {
   "cell_type": "code",
   "execution_count": 4,
   "metadata": {},
   "outputs": [],
   "source": [
    "split_index = 7000\n",
    "train_labels = all_labels.iloc[:split_index]\n",
    "test_labels = all_labels.iloc[split_index:]\n",
    "scaler = MinMaxScaler()\n",
    "scaled_train_labels = pd.DataFrame(scaler.fit_transform(train_labels), index=train_labels.index, columns=train_labels.columns)\n",
    "scaled_test_labels = pd.DataFrame(scaler.transform(test_labels), index=test_labels.index, columns=test_labels.columns)"
   ]
  },
  {
   "cell_type": "code",
   "execution_count": 5,
   "metadata": {},
   "outputs": [],
   "source": [
    "if not \"channel\" in ds[\"image_ft\"].dims:\n",
    "    in_data = ds[\"image_ft\"].transpose(\"hologram_number\", \"xsize\", 'ysize').expand_dims(\"channel\", 3)\n",
    "else:\n",
    "    in_data = ds[\"image_ft\"].transpose(\"hologram_number\", \"xsize\", 'ysize',\"channel\")"
   ]
  },
  {
   "cell_type": "code",
   "execution_count": 6,
   "metadata": {},
   "outputs": [
    {
     "data": {
      "text/plain": [
       "('hologram_number', 'xsize', 'ysize', 'channel')"
      ]
     },
     "execution_count": 6,
     "metadata": {},
     "output_type": "execute_result"
    }
   ],
   "source": [
    "in_data.dims"
   ]
  },
  {
   "cell_type": "code",
   "execution_count": 7,
   "metadata": {},
   "outputs": [
    {
     "data": {
      "text/plain": [
       "<xarray.DataArray 'image_ft' ()>\n",
       "array(2.313813)"
      ]
     },
     "execution_count": 7,
     "metadata": {},
     "output_type": "execute_result"
    }
   ],
   "source": [
    "ds[\"image_ft\"].max()"
   ]
  },
  {
   "cell_type": "code",
   "execution_count": 8,
   "metadata": {},
   "outputs": [],
   "source": [
    "scaled_in_data = in_data / 2.5"
   ]
  },
  {
   "cell_type": "code",
   "execution_count": 11,
   "metadata": {},
   "outputs": [
    {
     "name": "stdout",
     "output_type": "stream",
     "text": [
      "Model: \"model\"\n",
      "_________________________________________________________________\n",
      "Layer (type)                 Output Shape              Param #   \n",
      "=================================================================\n",
      "input_2 (InputLayer)         [(None, 600, 400, 1)]     0         \n",
      "_________________________________________________________________\n",
      "average_pooling2d (AveragePo (None, 75, 50, 1)         0         \n",
      "_________________________________________________________________\n",
      "flatten (Flatten)            (None, 3750)              0         \n",
      "_________________________________________________________________\n",
      "dense (Dense)                (None, 128)               480128    \n",
      "_________________________________________________________________\n",
      "dense_1 (Dense)              (None, 64)                8256      \n",
      "_________________________________________________________________\n",
      "dense_2 (Dense)              (None, 32)                2080      \n",
      "_________________________________________________________________\n",
      "dense_3 (Dense)              (None, 24)                792       \n",
      "=================================================================\n",
      "Total params: 491,256\n",
      "Trainable params: 491,256\n",
      "Non-trainable params: 0\n",
      "_________________________________________________________________\n"
     ]
    }
   ],
   "source": [
    "filter_input = Input(shape=in_data.shape[1:])\n",
    "pool_1 = AveragePooling2D(pool_size=(8, 8))(filter_input)\n",
    "flat = Flatten()(pool_1)\n",
    "dense_1 = Dense(128, activation=\"relu\")(flat)\n",
    "dense_2 = Dense(64, activation=\"relu\")(dense_1)\n",
    "dense_3 = Dense(32, activation=\"relu\")(dense_2)\n",
    "out = Dense(all_labels.shape[1],activation='relu')(dense_3)  # number of outputs determined by the parameters we are training to\n",
    "mod = Model(filter_input, out)\n",
    "mod.compile(optimizer=\"adam\", loss=\"categorical_crossentropy\")\n",
    "mod.summary()"
   ]
  },
  {
   "cell_type": "code",
   "execution_count": null,
   "metadata": {},
   "outputs": [],
   "source": [
    "conv_input = Input(shape=in_data.shape[1:])\n",
    "conv_1 = Conv2D(8, (5, 5), padding=\"same\")(conv_input)\n",
    "act_1 = Activation(\"relu\")(conv_1)\n",
    "pool_1 = MaxPool2D(pool_size=(4, 4))(act_1)\n",
    "conv_2 = Conv2D(16, (5, 5), padding=\"same\")(pool_1)\n",
    "act_2 = Activation(\"relu\")(conv_2)\n",
    "pool_2 = MaxPool2D(pool_size=(4, 4))(act_2)\n",
    "conv_3 = Conv2D(32, (5, 5), padding=\"same\")(pool_2)\n",
    "act_3 = Activation(\"relu\")(conv_3)\n",
    "pool_3 = MaxPool2D(pool_size=(4, 4))(act_3)\n",
    "flat = Flatten()(pool_3)\n",
    "dense_1 = Dense(64, activation=\"relu\")(flat)\n",
    "dense_2 = Dense(32, activation=\"relu\")(dense_1)\n",
    "out = Dense(all_labels.shape[1])(dense_2)  # number of outputs determined by the parameters we are training to\n",
    "mod = Model(conv_input, out)\n",
    "mod.compile(optimizer=\"adam\", loss=\"categorical_crossentropy\")\n",
    "#mod.compile(optimizer=\"adam\", loss=\"mae\")\n",
    "mod.summary()"
   ]
  },
  {
   "cell_type": "code",
   "execution_count": 12,
   "metadata": {},
   "outputs": [
    {
     "name": "stdout",
     "output_type": "stream",
     "text": [
      "Train on 7000 samples\n",
      "Epoch 1/30\n",
      "7000/7000 [==============================] - 35s 5ms/sample - loss: 10.1874\n",
      "Epoch 2/30\n",
      "7000/7000 [==============================] - 31s 4ms/sample - loss: 8.6319\n",
      "Epoch 3/30\n",
      "7000/7000 [==============================] - 29s 4ms/sample - loss: 8.5765\n",
      "Epoch 4/30\n",
      "7000/7000 [==============================] - 31s 4ms/sample - loss: 9.1557\n",
      "Epoch 5/30\n",
      "7000/7000 [==============================] - 30s 4ms/sample - loss: 8.3750\n",
      "Epoch 6/30\n",
      "7000/7000 [==============================] - 30s 4ms/sample - loss: 8.1367\n",
      "Epoch 7/30\n",
      "7000/7000 [==============================] - 31s 4ms/sample - loss: 7.0304\n",
      "Epoch 8/30\n",
      "7000/7000 [==============================] - 31s 4ms/sample - loss: 7.0015\n",
      "Epoch 9/30\n",
      "7000/7000 [==============================] - 30s 4ms/sample - loss: 6.9778\n",
      "Epoch 10/30\n",
      "7000/7000 [==============================] - 30s 4ms/sample - loss: 6.9878\n",
      "Epoch 11/30\n",
      "7000/7000 [==============================] - 29s 4ms/sample - loss: 7.0210\n",
      "Epoch 12/30\n",
      "7000/7000 [==============================] - 30s 4ms/sample - loss: 6.9805\n",
      "Epoch 13/30\n",
      "7000/7000 [==============================] - 29s 4ms/sample - loss: 6.9533\n",
      "Epoch 14/30\n",
      "7000/7000 [==============================] - 29s 4ms/sample - loss: 6.9438\n",
      "Epoch 15/30\n",
      "7000/7000 [==============================] - 28s 4ms/sample - loss: 6.9381\n",
      "Epoch 16/30\n",
      "7000/7000 [==============================] - 29s 4ms/sample - loss: 7.1012\n",
      "Epoch 17/30\n",
      "7000/7000 [==============================] - 28s 4ms/sample - loss: 6.9952\n",
      "Epoch 18/30\n",
      "7000/7000 [==============================] - 28s 4ms/sample - loss: 7.5966\n",
      "Epoch 19/30\n",
      "7000/7000 [==============================] - 28s 4ms/sample - loss: 7.4852\n",
      "Epoch 20/30\n",
      "7000/7000 [==============================] - 28s 4ms/sample - loss: 7.4947\n",
      "Epoch 21/30\n",
      "7000/7000 [==============================] - 29s 4ms/sample - loss: 7.4888\n",
      "Epoch 22/30\n",
      "7000/7000 [==============================] - 31s 4ms/sample - loss: 7.4581\n",
      "Epoch 23/30\n",
      "7000/7000 [==============================] - 30s 4ms/sample - loss: 7.4494\n",
      "Epoch 24/30\n",
      "7000/7000 [==============================] - 30s 4ms/sample - loss: 7.5188\n",
      "Epoch 25/30\n",
      "7000/7000 [==============================] - 29s 4ms/sample - loss: 7.4353\n",
      "Epoch 26/30\n",
      "7000/7000 [==============================] - 30s 4ms/sample - loss: 7.4438\n",
      "Epoch 27/30\n",
      "7000/7000 [==============================] - 29s 4ms/sample - loss: 7.4578\n",
      "Epoch 28/30\n",
      "7000/7000 [==============================] - 29s 4ms/sample - loss: 7.4008\n",
      "Epoch 29/30\n",
      "7000/7000 [==============================] - 29s 4ms/sample - loss: 7.4544\n",
      "Epoch 30/30\n",
      "7000/7000 [==============================] - 29s 4ms/sample - loss: 7.1253\n"
     ]
    },
    {
     "data": {
      "text/plain": [
       "<tensorflow.python.keras.callbacks.History at 0x7f2ef072eba8>"
      ]
     },
     "execution_count": 12,
     "metadata": {},
     "output_type": "execute_result"
    }
   ],
   "source": [
    "mod.fit(scaled_in_data[:split_index].values, scaled_train_labels.values, batch_size=16, epochs=30, verbose=1)"
   ]
  },
  {
   "cell_type": "code",
   "execution_count": null,
   "metadata": {},
   "outputs": [],
   "source": [
    "# can skip the training process and just load the CNN model\n",
    "#mod = load_model(\"holodec_ft_cnn.h5\")"
   ]
  },
  {
   "cell_type": "code",
   "execution_count": 13,
   "metadata": {},
   "outputs": [
    {
     "name": "stdout",
     "output_type": "stream",
     "text": [
      "10000 samples in 28.925127 seconds\n",
      "for 0.0028925127 seconds per hologram\n"
     ]
    }
   ],
   "source": [
    "cnn_start = datetime.datetime.now()\n",
    "preds_out = mod.predict(scaled_in_data.values, batch_size=64)\n",
    "cnn_stop = datetime.datetime.now()\n",
    "print(f\"{scaled_in_data.values.shape[0]} samples in {(cnn_stop-cnn_start).total_seconds()} seconds\")\n",
    "print(f\"for {(cnn_stop-cnn_start).total_seconds()/scaled_in_data.values.shape[0]} seconds per hologram\")"
   ]
  },
  {
   "cell_type": "code",
   "execution_count": null,
   "metadata": {},
   "outputs": [],
   "source": [
    "save_model(mod, \"results/holodec_\"+ds_file.replace(\".nc\",\"\")+\"\".join(all_labels.columns)+\"_DenseNN.h5\", save_format=\"h5\")"
   ]
  },
  {
   "cell_type": "code",
   "execution_count": 14,
   "metadata": {},
   "outputs": [],
   "source": [
    "preds_original = scaler.inverse_transform(preds_out)"
   ]
  },
  {
   "cell_type": "code",
   "execution_count": null,
   "metadata": {},
   "outputs": [],
   "source": [
    "(test_labels.max() - test_labels.min())"
   ]
  },
  {
   "cell_type": "code",
   "execution_count": 15,
   "metadata": {},
   "outputs": [
    {
     "data": {
      "text/plain": [
       "[<matplotlib.lines.Line2D at 0x7f2e9041d630>]"
      ]
     },
     "execution_count": 15,
     "metadata": {},
     "output_type": "execute_result"
    },
    {
     "data": {
      "image/png": "[encoded data removed]",
      "text/plain": [
       "<Figure size 576x576 with 1 Axes>"
      ]
     },
     "metadata": {
      "needs_background": "light"
     },
     "output_type": "display_data"
    }
   ],
   "source": [
    "fig,axes = plt.subplots(1,1,figsize=(8,8))\n",
    "axes.plot(test_labels.iloc[10,:])\n",
    "axes.plot(preds_original[10])"
   ]
  },
  {
   "cell_type": "code",
   "execution_count": null,
   "metadata": {},
   "outputs": [],
   "source": [
    "preds_original[10]"
   ]
  },
  {
   "cell_type": "code",
   "execution_count": null,
   "metadata": {},
   "outputs": [],
   "source": [
    "fig, axes = plt.subplots(1, 1, figsize=(8, 8))\n",
    "axes.scatter(test_labels, preds_original[split_index:], 1, 'k')\n",
    "diag = np.linspace(test_labels.min(), test_labels.max(), 10)\n",
    "axes.plot(diag, diag, 'b--' )\n",
    "axes.set_title(test_labels.columns[0])\n",
    "plt.savefig(\"results/error_hist_fft.png\", dpi=200, bbox_inches=\"tight\")\n",
    "# for a, ax in enumerate(axes.ravel()):\n",
    "    "
   ]
  },
  {
   "cell_type": "code",
   "execution_count": null,
   "metadata": {},
   "outputs": [],
   "source": [
    "fig, axes = plt.subplots(1, 1, figsize=(8, 8))\n",
    "axes.hist( (preds_original[split_index:] - test_labels.values)/ (test_labels.values.max() - test_labels.values.min()) ,\n",
    "           bins=20)\n",
    "axes.set_yscale(\"log\")\n",
    "axes.set_xlabel(\"Error in \"+test_labels.columns[0])\n",
    "plt.savefig(\"results/relative_error_histogram_fft.png\", dpi=200, bbox_inches=\"tight\")"
   ]
  },
  {
   "cell_type": "code",
   "execution_count": null,
   "metadata": {},
   "outputs": [],
   "source": [
    "np.mean(np.abs(preds_original[split_index:] - test_labels.values), axis=0)"
   ]
  },
  {
   "cell_type": "code",
   "execution_count": null,
   "metadata": {},
   "outputs": [],
   "source": [
    "np.mean(np.abs(preds_out[split_index:] - scaled_test_labels.values), axis=0)"
   ]
  },
  {
   "cell_type": "code",
   "execution_count": null,
   "metadata": {},
   "outputs": [],
   "source": [
    "test_labels[\"d\"].max()"
   ]
  },
  {
   "cell_type": "code",
   "execution_count": null,
   "metadata": {},
   "outputs": [],
   "source": [
    "ds[\"xsize\"]"
   ]
  },
  {
   "cell_type": "code",
   "execution_count": null,
   "metadata": {},
   "outputs": [],
   "source": []
  }
 ],
 "metadata": {
  "kernelspec": {
   "display_name": "Python 3",
   "language": "python",
   "name": "python3"
  },
  "language_info": {
   "codemirror_mode": {
    "name": "ipython",
    "version": 3
   },
   "file_extension": ".py",
   "mimetype": "text/x-python",
   "name": "python",
   "nbconvert_exporter": "python",
   "pygments_lexer": "ipython3",
   "version": "3.7.3"
  }
 },
 "nbformat": 4,
 "nbformat_minor": 4
}
