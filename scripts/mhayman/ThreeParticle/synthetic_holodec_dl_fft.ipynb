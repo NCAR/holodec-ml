{
 "cells": [
  {
   "cell_type": "code",
   "execution_count": 9,
   "metadata": {},
   "outputs": [],
   "source": [
    "import numpy as np\n",
    "import xarray as xr\n",
    "import pandas as pd\n",
    "from tensorflow.keras.layers import Input, Conv2D, Dense, Flatten, Activation, MaxPool2D, SeparableConv2D, AveragePooling2D, concatenate\n",
    "from tensorflow.keras.models import Model, save_model, load_model\n",
    "import matplotlib.pyplot as plt\n",
    "from sklearn.preprocessing import MinMaxScaler\n",
    "import datetime\n",
    "%matplotlib inline"
   ]
  },
  {
   "cell_type": "code",
   "execution_count": 2,
   "metadata": {},
   "outputs": [],
   "source": [
    "ds_path = \"/scr/sci/mhayman/holodec/holodec-ml-data/\"\n",
    "#ds_name = \"synthetic_holograms_v02_ft_ac_d_amplitude_float32.nc\"\n",
    "#ds_name = \"synthetic_holograms_v02_ft_ac_d_real_imag_float32.nc\"\n",
    "ds_name = \"synthethic_holograms_v0_ft_ac_d_amplitude_float32.nc\"  # single particle histograms\n",
    "ds = xr.open_dataset(ds_path+ds_name)  # file with mean (DC) value removed"
   ]
  },
  {
   "cell_type": "code",
   "execution_count": 36,
   "metadata": {},
   "outputs": [],
   "source": [
    "#particle_labels = ds['particle_histogram'].stack(histogram_line=ds['particle_histogram'].dims[1:]).values\n",
    "#all_labels = pd.DataFrame(particle_labels, index=ds['hologram_number'])\n",
    "\n",
    "particle_labels_ft0 = np.fft.fft(particle_labels,axis=0)[:,:particle_labels.shape[1]//2]\n",
    "particle_labels_ft = np.concatenate((np.real(particle_labels_ft0),np.imag(particle_labels_ft0)),axis=1)\n",
    "particle_labels_ft.shape\n",
    "all_labels = pd.DataFrame(particle_labels_ft, index=ds['hologram_number'])"
   ]
  },
  {
   "cell_type": "code",
   "execution_count": 37,
   "metadata": {},
   "outputs": [],
   "source": [
    "split_index = 7000  # number of training+validation points\n",
    "valid_index = 2000  # number of validation points\n",
    "train_labels = all_labels.iloc[valid_index:split_index]\n",
    "test_labels = all_labels.iloc[split_index:]\n",
    "val_labels = all_labels.iloc[:valid_index]\n",
    "\n",
    "scaler = MinMaxScaler()\n",
    "scaled_train_labels = pd.DataFrame(scaler.fit_transform(train_labels), index=train_labels.index, columns=train_labels.columns)\n",
    "scaled_test_labels = pd.DataFrame(scaler.transform(test_labels), index=test_labels.index, columns=test_labels.columns)\n",
    "scaled_val_labels = pd.DataFrame(scaler.fit_transform(val_labels), index=val_labels.index, columns=val_labels.columns)"
   ]
  },
  {
   "cell_type": "code",
   "execution_count": 38,
   "metadata": {},
   "outputs": [],
   "source": [
    "if not \"channel\" in ds[\"image_ft\"].dims:\n",
    "    in_data = ds[\"image_ft\"].transpose(\"hologram_number\", \"xsize\", 'ysize').expand_dims(\"channel\", 3)\n",
    "else:\n",
    "    in_data = ds[\"image_ft\"].transpose(\"hologram_number\", \"xsize\", 'ysize',\"channel\")"
   ]
  },
  {
   "cell_type": "code",
   "execution_count": 6,
   "metadata": {},
   "outputs": [
    {
     "data": {
      "text/plain": [
       "('hologram_number', 'xsize', 'ysize', 'channel')"
      ]
     },
     "execution_count": 6,
     "metadata": {},
     "output_type": "execute_result"
    }
   ],
   "source": [
    "in_data.dims"
   ]
  },
  {
   "cell_type": "code",
   "execution_count": 7,
   "metadata": {},
   "outputs": [
    {
     "data": {
      "text/plain": [
       "<xarray.DataArray 'image_ft' ()>\n",
       "array(2.313813)"
      ]
     },
     "execution_count": 7,
     "metadata": {},
     "output_type": "execute_result"
    }
   ],
   "source": [
    "ds[\"image_ft\"].max()"
   ]
  },
  {
   "cell_type": "code",
   "execution_count": 7,
   "metadata": {},
   "outputs": [],
   "source": [
    "scaled_in_data = in_data / 2.5"
   ]
  },
  {
   "cell_type": "code",
   "execution_count": 41,
   "metadata": {},
   "outputs": [
    {
     "name": "stdout",
     "output_type": "stream",
     "text": [
      "Model: \"model_7\"\n",
      "__________________________________________________________________________________________________\n",
      "Layer (type)                    Output Shape         Param #     Connected to                     \n",
      "==================================================================================================\n",
      "input_11 (InputLayer)           [(None, 600, 400, 2) 0                                            \n",
      "__________________________________________________________________________________________________\n",
      "separable_conv2d_9 (SeparableCo (None, 600, 400, 8)  74          input_11[0][0]                   \n",
      "__________________________________________________________________________________________________\n",
      "activation_18 (Activation)      (None, 600, 400, 8)  0           separable_conv2d_9[0][0]         \n",
      "__________________________________________________________________________________________________\n",
      "average_pooling2d_10 (AveragePo (None, 75, 50, 2)    0           input_11[0][0]                   \n",
      "__________________________________________________________________________________________________\n",
      "max_pooling2d_27 (MaxPooling2D) (None, 150, 100, 8)  0           activation_18[0][0]              \n",
      "__________________________________________________________________________________________________\n",
      "dense_34 (Dense)                (None, 75, 50, 32)   96          average_pooling2d_10[0][0]       \n",
      "__________________________________________________________________________________________________\n",
      "conv2d_9 (Conv2D)               (None, 150, 100, 16) 3216        max_pooling2d_27[0][0]           \n",
      "__________________________________________________________________________________________________\n",
      "dense_35 (Dense)                (None, 75, 50, 32)   1056        dense_34[0][0]                   \n",
      "__________________________________________________________________________________________________\n",
      "activation_19 (Activation)      (None, 150, 100, 16) 0           conv2d_9[0][0]                   \n",
      "__________________________________________________________________________________________________\n",
      "max_pooling2d_26 (MaxPooling2D) (None, 37, 25, 32)   0           dense_35[0][0]                   \n",
      "__________________________________________________________________________________________________\n",
      "max_pooling2d_28 (MaxPooling2D) (None, 37, 25, 16)   0           activation_19[0][0]              \n",
      "__________________________________________________________________________________________________\n",
      "concatenate_9 (Concatenate)     (None, 37, 25, 48)   0           max_pooling2d_26[0][0]           \n",
      "                                                                 max_pooling2d_28[0][0]           \n",
      "__________________________________________________________________________________________________\n",
      "flatten_6 (Flatten)             (None, 44400)        0           concatenate_9[0][0]              \n",
      "__________________________________________________________________________________________________\n",
      "dense_36 (Dense)                (None, 32)           1420832     flatten_6[0][0]                  \n",
      "__________________________________________________________________________________________________\n",
      "dense_37 (Dense)                (None, 24)           792         dense_36[0][0]                   \n",
      "==================================================================================================\n",
      "Total params: 1,426,066\n",
      "Trainable params: 1,426,066\n",
      "Non-trainable params: 0\n",
      "__________________________________________________________________________________________________\n"
     ]
    }
   ],
   "source": [
    "nn_descript = 'CombCNN_DenseNN'\n",
    "filter_input = Input(shape=in_data.shape[1:])\n",
    "pool_d1 = AveragePooling2D(pool_size=(8, 8))(filter_input)\n",
    "dense_1 = Dense(32, activation=\"relu\")(pool_d1)\n",
    "dense_2 = Dense(32, activation=\"relu\")(dense_1)\n",
    "pool_d2 = MaxPool2D(pool_size=(2, 2))(dense_2)\n",
    "\n",
    "conv_1 = SeparableConv2D(8, (5, 5), padding=\"same\")(filter_input)\n",
    "act_1 = Activation(\"relu\")(conv_1)\n",
    "pool_1 = MaxPool2D(pool_size=(4, 4))(act_1)\n",
    "conv_2 = Conv2D(16, (5, 5), padding=\"same\")(pool_1)\n",
    "act_2 = Activation(\"relu\")(conv_2)\n",
    "pool_2 = MaxPool2D(pool_size=(4, 4))(act_2)\n",
    "\n",
    "\n",
    "\n",
    "concat = concatenate([pool_d2,pool_2],axis=-1)\n",
    "flat = flat = Flatten()(concat)\n",
    "dense_3 = Dense(32, activation=\"relu\")(flat)\n",
    "out = Dense(all_labels.shape[1],activation='relu')(dense_3)  # number of outputs determined by the parameters we are training to\n",
    "mod = Model(filter_input, out)\n",
    "mod.compile(optimizer=\"adam\", loss=\"mae\",metrics=['acc'])\n",
    "mod.summary()"
   ]
  },
  {
   "cell_type": "code",
   "execution_count": null,
   "metadata": {},
   "outputs": [],
   "source": [
    "plot_model(mod,show_shapes=True,to_file=\"results/holodec_\"+nn_descript+'_'+ds_file.replace(\".nc\",\"\")+\"\".join(all_labels.columns)+\".png\")"
   ]
  },
  {
   "cell_type": "code",
   "execution_count": 42,
   "metadata": {},
   "outputs": [
    {
     "name": "stdout",
     "output_type": "stream",
     "text": [
      "Train on 5000 samples, validate on 2000 samples\n",
      "Epoch 1/30\n",
      "5000/5000 [==============================] - 178s 36ms/sample - loss: 0.2190 - acc: 0.0602 - val_loss: 0.3010 - val_acc: 0.0000e+00\n",
      "Epoch 2/30\n",
      "5000/5000 [==============================] - 176s 35ms/sample - loss: 0.2105 - acc: 0.0728 - val_loss: 0.3171 - val_acc: 0.0785\n",
      "Epoch 3/30\n",
      "5000/5000 [==============================] - 176s 35ms/sample - loss: 0.2104 - acc: 0.0734 - val_loss: 0.3057 - val_acc: 0.0000e+00\n",
      "Epoch 4/30\n",
      "5000/5000 [==============================] - 172s 34ms/sample - loss: 0.2099 - acc: 0.0738 - val_loss: 0.3042 - val_acc: 0.0000e+00\n",
      "Epoch 5/30\n",
      "5000/5000 [==============================] - 172s 34ms/sample - loss: 0.2100 - acc: 0.0760 - val_loss: 0.3141 - val_acc: 0.0000e+00\n",
      "Epoch 6/30\n",
      "5000/5000 [==============================] - 172s 34ms/sample - loss: 0.2098 - acc: 0.0800 - val_loss: 0.3127 - val_acc: 0.0000e+00\n",
      "Epoch 7/30\n",
      "5000/5000 [==============================] - 173s 35ms/sample - loss: 0.2095 - acc: 0.0790 - val_loss: 0.3106 - val_acc: 0.0000e+00\n",
      "Epoch 8/30\n",
      "5000/5000 [==============================] - 176s 35ms/sample - loss: 0.2096 - acc: 0.0746 - val_loss: 0.3089 - val_acc: 0.0000e+00\n",
      "Epoch 9/30\n",
      "5000/5000 [==============================] - 168s 34ms/sample - loss: 0.2095 - acc: 0.0732 - val_loss: 0.3129 - val_acc: 0.0490\n",
      "Epoch 10/30\n",
      "5000/5000 [==============================] - 165s 33ms/sample - loss: 0.2094 - acc: 0.0766 - val_loss: 0.3137 - val_acc: 5.0000e-04\n",
      "Epoch 11/30\n",
      "5000/5000 [==============================] - 166s 33ms/sample - loss: 0.2093 - acc: 0.0756 - val_loss: 0.3039 - val_acc: 0.0010\n",
      "Epoch 12/30\n",
      "5000/5000 [==============================] - 171s 34ms/sample - loss: 0.2095 - acc: 0.0752 - val_loss: 0.3006 - val_acc: 5.0000e-04\n",
      "Epoch 13/30\n",
      "5000/5000 [==============================] - 169s 34ms/sample - loss: 0.2092 - acc: 0.0824 - val_loss: 0.3138 - val_acc: 5.0000e-04\n",
      "Epoch 14/30\n",
      "5000/5000 [==============================] - 167s 33ms/sample - loss: 0.2086 - acc: 0.0788 - val_loss: 0.2955 - val_acc: 0.0010\n",
      "Epoch 15/30\n",
      "5000/5000 [==============================] - 168s 34ms/sample - loss: 0.1927 - acc: 0.0808 - val_loss: 0.2939 - val_acc: 0.0010\n",
      "Epoch 16/30\n",
      "5000/5000 [==============================] - 168s 34ms/sample - loss: 0.1926 - acc: 0.0838 - val_loss: 0.2924 - val_acc: 0.0020\n",
      "Epoch 17/30\n",
      "5000/5000 [==============================] - 170s 34ms/sample - loss: 0.1925 - acc: 0.0794 - val_loss: 0.2901 - val_acc: 0.0135\n",
      "Epoch 18/30\n",
      "5000/5000 [==============================] - 169s 34ms/sample - loss: 0.1922 - acc: 0.0798 - val_loss: 0.2924 - val_acc: 0.0000e+00\n",
      "Epoch 19/30\n",
      "5000/5000 [==============================] - 167s 33ms/sample - loss: 0.1920 - acc: 0.0790 - val_loss: 0.2878 - val_acc: 0.0090\n",
      "Epoch 20/30\n",
      "5000/5000 [==============================] - 168s 34ms/sample - loss: 0.1917 - acc: 0.0802 - val_loss: 0.2950 - val_acc: 0.0070\n",
      "Epoch 21/30\n",
      "5000/5000 [==============================] - 167s 33ms/sample - loss: 0.1915 - acc: 0.0866 - val_loss: 0.2868 - val_acc: 0.0040\n",
      "Epoch 22/30\n",
      "5000/5000 [==============================] - 166s 33ms/sample - loss: 0.1914 - acc: 0.0798 - val_loss: 0.2950 - val_acc: 0.0165\n",
      "Epoch 23/30\n",
      "5000/5000 [==============================] - 164s 33ms/sample - loss: 0.1911 - acc: 0.0836 - val_loss: 0.3045 - val_acc: 0.0015\n",
      "Epoch 24/30\n",
      "5000/5000 [==============================] - 165s 33ms/sample - loss: 0.1909 - acc: 0.0874 - val_loss: 0.2928 - val_acc: 0.0045\n",
      "Epoch 25/30\n",
      "5000/5000 [==============================] - 164s 33ms/sample - loss: 0.1909 - acc: 0.0838 - val_loss: 0.2963 - val_acc: 0.0050\n",
      "Epoch 26/30\n",
      "5000/5000 [==============================] - 165s 33ms/sample - loss: 0.1906 - acc: 0.0834 - val_loss: 0.2910 - val_acc: 0.0045\n",
      "Epoch 27/30\n",
      "5000/5000 [==============================] - 166s 33ms/sample - loss: 0.1800 - acc: 0.0866 - val_loss: 0.2830 - val_acc: 0.0365\n",
      "Epoch 28/30\n",
      "5000/5000 [==============================] - 165s 33ms/sample - loss: 0.1714 - acc: 0.0848 - val_loss: 0.2897 - val_acc: 0.0120\n",
      "Epoch 29/30\n",
      "5000/5000 [==============================] - 165s 33ms/sample - loss: 0.1711 - acc: 0.0878 - val_loss: 0.2787 - val_acc: 0.0190\n",
      "Epoch 30/30\n",
      "5000/5000 [==============================] - 167s 33ms/sample - loss: 0.1709 - acc: 0.0852 - val_loss: 0.2828 - val_acc: 0.0110\n"
     ]
    }
   ],
   "source": [
    "history = mod.fit(scaled_in_data[valid_index:split_index].values, scaled_train_labels.values, \n",
    "                  batch_size=16, epochs=30, verbose=1,\n",
    "                  validation_data=(scaled_in_data[:valid_index].values,scaled_val_labels.values))"
   ]
  },
  {
   "cell_type": "code",
   "execution_count": 45,
   "metadata": {},
   "outputs": [
    {
     "data": {
      "image/png": "[encoded data removed]",
      "text/plain": [
       "<Figure size 576x288 with 1 Axes>"
      ]
     },
     "metadata": {
      "needs_background": "light"
     },
     "output_type": "display_data"
    },
    {
     "data": {
      "image/png": "[encoded data removed]",
      "text/plain": [
       "<Figure size 576x288 with 1 Axes>"
      ]
     },
     "metadata": {
      "needs_background": "light"
     },
     "output_type": "display_data"
    }
   ],
   "source": [
    "epochs = np.arange(len(history.history['acc']))+1\n",
    "fig, ax = plt.subplots(1, 1, figsize=(8, 4))\n",
    "ax.plot(epochs,history.history['loss'],'bo-',alpha=0.5,label='Training')\n",
    "ax.plot(epochs,history.history['val_loss'],'rs-',alpha=0.5,label='Validation')\n",
    "ax.set_xlabel('Epoch')\n",
    "ax.set_ylabel('Loss')\n",
    "ax.grid(b=True)\n",
    "plt.legend()\n",
    "plt.savefig(\"results/LossHistory_\"+nn_descript+'_'+ds_name.replace(\".nc\",\"\")+\".png\", dpi=200, bbox_inches=\"tight\")\n",
    "\n",
    "fig, bx = plt.subplots(1, 1, figsize=(8, 4))\n",
    "bx.plot(epochs,history.history['acc'],'bo-',alpha=0.5,label='Training')\n",
    "bx.plot(epochs,history.history['val_acc'],'rs-',alpha=0.5,label='Validation')\n",
    "bx.set_xlabel('Epoch')\n",
    "bx.set_ylabel('Accuracy')\n",
    "bx.grid(b=True)\n",
    "plt.legend()\n",
    "plt.savefig(\"results/AccuracyHistory_\"+nn_descript+'_'+ds_name.replace(\".nc\",\"\")+\".png\", dpi=200, bbox_inches=\"tight\")\n"
   ]
  },
  {
   "cell_type": "code",
   "execution_count": null,
   "metadata": {},
   "outputs": [],
   "source": [
    "# can skip the training process and just load the CNN model\n",
    "#mod = load_model(\"holodec_ft_cnn.h5\")"
   ]
  },
  {
   "cell_type": "code",
   "execution_count": 47,
   "metadata": {},
   "outputs": [
    {
     "name": "stdout",
     "output_type": "stream",
     "text": [
      "10000 samples in 85.743122 seconds\n",
      "for 0.0085743122 seconds per hologram\n"
     ]
    }
   ],
   "source": [
    "cnn_start = datetime.datetime.now()\n",
    "preds_out = mod.predict(scaled_in_data.values, batch_size=64)\n",
    "cnn_stop = datetime.datetime.now()\n",
    "print(f\"{scaled_in_data.values.shape[0]} samples in {(cnn_stop-cnn_start).total_seconds()} seconds\")\n",
    "print(f\"for {(cnn_stop-cnn_start).total_seconds()/scaled_in_data.values.shape[0]} seconds per hologram\")"
   ]
  },
  {
   "cell_type": "code",
   "execution_count": 51,
   "metadata": {},
   "outputs": [],
   "source": [
    "save_model(mod, \"results/holodec_\"+nn_descript+'_'+ds_name.replace(\".nc\",\"\")+\".h5\", save_format=\"h5\")"
   ]
  },
  {
   "cell_type": "code",
   "execution_count": 48,
   "metadata": {},
   "outputs": [],
   "source": [
    "preds_original = scaler.inverse_transform(preds_out)"
   ]
  },
  {
   "cell_type": "code",
   "execution_count": null,
   "metadata": {},
   "outputs": [],
   "source": [
    "(test_labels.max() - test_labels.min())"
   ]
  },
  {
   "cell_type": "code",
   "execution_count": 49,
   "metadata": {},
   "outputs": [
    {
     "data": {
      "text/plain": [
       "[<matplotlib.lines.Line2D at 0x7fd53489b400>]"
      ]
     },
     "execution_count": 49,
     "metadata": {},
     "output_type": "execute_result"
    },
    {
     "data": {
      "image/png": "[encoded data removed]",
      "text/plain": [
       "<Figure size 576x576 with 1 Axes>"
      ]
     },
     "metadata": {
      "needs_background": "light"
     },
     "output_type": "display_data"
    }
   ],
   "source": [
    "fig,axes = plt.subplots(1,1,figsize=(8,8))\n",
    "axes.plot(test_labels.iloc[10,:])\n",
    "axes.plot(preds_original[10])"
   ]
  },
  {
   "cell_type": "code",
   "execution_count": null,
   "metadata": {},
   "outputs": [],
   "source": [
    "preds_original[10]"
   ]
  },
  {
   "cell_type": "code",
   "execution_count": null,
   "metadata": {},
   "outputs": [],
   "source": [
    "fig, axes = plt.subplots(1, 1, figsize=(8, 8))\n",
    "axes.scatter(test_labels, preds_original[split_index:], 1, 'k')\n",
    "diag = np.linspace(test_labels.min(), test_labels.max(), 10)\n",
    "axes.plot(diag, diag, 'b--' )\n",
    "axes.set_title(test_labels.columns[0])\n",
    "plt.savefig(\"results/error_hist_fft_\"+nn_descript+'_'+ds_name.replace(\".nc\",\"\")+\".png\", dpi=200, bbox_inches=\"tight\")\n",
    "# for a, ax in enumerate(axes.ravel()):\n",
    "    "
   ]
  },
  {
   "cell_type": "code",
   "execution_count": null,
   "metadata": {},
   "outputs": [],
   "source": [
    "fig, axes = plt.subplots(1, 1, figsize=(8, 8))\n",
    "axes.hist( (preds_original[split_index:] - test_labels.values)/ (test_labels.values.max() - test_labels.values.min()) ,\n",
    "           bins=20)\n",
    "axes.set_yscale(\"log\")\n",
    "axes.set_xlabel(\"Error in \"+test_labels.columns[0])\n",
    "plt.savefig(\"results/relative_error_histogram_fft.png\", dpi=200, bbox_inches=\"tight\")"
   ]
  },
  {
   "cell_type": "code",
   "execution_count": null,
   "metadata": {},
   "outputs": [],
   "source": [
    "np.mean(np.abs(preds_original[split_index:] - test_labels.values), axis=0)"
   ]
  },
  {
   "cell_type": "code",
   "execution_count": null,
   "metadata": {},
   "outputs": [],
   "source": [
    "np.mean(np.abs(preds_out[split_index:] - scaled_test_labels.values), axis=0)"
   ]
  },
  {
   "cell_type": "code",
   "execution_count": null,
   "metadata": {},
   "outputs": [],
   "source": [
    "test_labels[\"d\"].max()"
   ]
  },
  {
   "cell_type": "code",
   "execution_count": null,
   "metadata": {},
   "outputs": [],
   "source": [
    "ds[\"xsize\"]"
   ]
  },
  {
   "cell_type": "code",
   "execution_count": null,
   "metadata": {},
   "outputs": [],
   "source": []
  }
 ],
 "metadata": {
  "kernelspec": {
   "display_name": "Python 3",
   "language": "python",
   "name": "python3"
  },
  "language_info": {
   "codemirror_mode": {
    "name": "ipython",
    "version": 3
   },
   "file_extension": ".py",
   "mimetype": "text/x-python",
   "name": "python",
   "nbconvert_exporter": "python",
   "pygments_lexer": "ipython3",
   "version": "3.7.3"
  }
 },
 "nbformat": 4,
 "nbformat_minor": 4
}
