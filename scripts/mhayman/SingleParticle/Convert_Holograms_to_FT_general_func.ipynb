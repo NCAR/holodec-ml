{
 "cells": [
  {
   "cell_type": "code",
   "execution_count": 1,
   "metadata": {},
   "outputs": [],
   "source": [
    "import numpy as np\n",
    "import xarray as xr\n",
    "import pandas as pd\n",
    "#from tensorflow.keras.layers import Input, Conv2D, Dense, Flatten, Activation, MaxPool2D\n",
    "#from tensorflow.keras.models import Model, save_model\n",
    "import matplotlib.pyplot as plt\n",
    "import FourierOpticsLib as FO\n",
    "#from sklearn.preprocessing import MinMaxScaler\n",
    "%matplotlib inline"
   ]
  },
  {
   "cell_type": "code",
   "execution_count": 2,
   "metadata": {},
   "outputs": [],
   "source": [
    "ds_path = \"/scr/sci/mhayman/holodec/holodec-ml-data/\"\n",
    "ds_name = \"synthethic_holograms_v0.nc\"\n",
    "ds = xr.open_dataset(ds_path+ds_name)\n",
    "ds_base = ds_name.replace(\".nc\",\"\")"
   ]
  },
  {
   "cell_type": "code",
   "execution_count": 3,
   "metadata": {},
   "outputs": [],
   "source": [
    "# define the functions to be applied to the fourier transformed data\n",
    "ft_func = {'real':np.real,'imag':np.imag,'amplitude':np.abs}\n",
    "ft_scale = {'real':255,'imag':255,'amplitude':255}  # rescaling factors\n",
    "encoded_dtype = \"int16\""
   ]
  },
  {
   "cell_type": "code",
   "execution_count": 4,
   "metadata": {},
   "outputs": [],
   "source": [
    "# initialize the image Fourier Transform channels\n",
    "image_ft = {}\n",
    "for func in ft_func.keys():\n",
    "    image_ft[func] = xr.DataArray(np.zeros(ds['image'].shape,dtype='float32'),\n",
    "                        dims=['ysize','xsize','hologram_number'])"
   ]
  },
  {
   "cell_type": "code",
   "execution_count": 5,
   "metadata": {},
   "outputs": [],
   "source": [
    "# create a variable with the amplitude of the Fourier Transform of each image\n",
    "for im in range(ds['image'].shape[2]):\n",
    "    image_ft0 = FO.OpticsFFT(ds['image'][:,:,im]-np.mean(ds['image'][:,:,im]))\n",
    "    for func in ft_func.keys():\n",
    "        image_ft[func][:,:,im] = ft_func[func](image_ft0) / ft_scale[func]"
   ]
  },
  {
   "cell_type": "code",
   "execution_count": 6,
   "metadata": {},
   "outputs": [],
   "source": [
    "image_ft = xr.concat(list(image_ft.values()),pd.Index(ft_func.keys(),name='channels'))"
   ]
  },
  {
   "cell_type": "code",
   "execution_count": 7,
   "metadata": {},
   "outputs": [
    {
     "data": {
      "text/plain": [
       "<xarray.DataArray 'image' (ysize: 400, xsize: 600, hologram_number: 10000)>\n",
       "[2400000000 values with dtype=uint8]\n",
       "Dimensions without coordinates: ysize, xsize, hologram_number\n",
       "Attributes:\n",
       "    longname:  Hologram image"
      ]
     },
     "execution_count": 7,
     "metadata": {},
     "output_type": "execute_result"
    }
   ],
   "source": [
    "ds['image']"
   ]
  },
  {
   "cell_type": "code",
   "execution_count": 8,
   "metadata": {},
   "outputs": [],
   "source": [
    "ds_ft = ds.assign(image_ft=image_ft)"
   ]
  },
  {
   "cell_type": "code",
   "execution_count": 9,
   "metadata": {},
   "outputs": [],
   "source": [
    "encode_defs = {'image_ft':{'dtype':encoded_dtype,\n",
    "                           'scale_factor':(image_ft.max()-image_ft.min()).values/(np.iinfo(encoded_dtype).max-np.iinfo(encoded_dtype).min),\n",
    "                           'add_offset':image_ft.mean().values}}"
   ]
  },
  {
   "cell_type": "code",
   "execution_count": 10,
   "metadata": {},
   "outputs": [
    {
     "data": {
      "text/plain": [
       "{'image_ft': {'dtype': 'int16',\n",
       "  'scale_factor': 3.053771919249906e-05,\n",
       "  'add_offset': array(0.00174452, dtype=float32)}}"
      ]
     },
     "execution_count": 10,
     "metadata": {},
     "output_type": "execute_result"
    }
   ],
   "source": [
    "encode_defs"
   ]
  },
  {
   "cell_type": "code",
   "execution_count": 11,
   "metadata": {},
   "outputs": [
    {
     "data": {
      "text/plain": [
       "<xarray.Dataset>\n",
       "Dimensions:   (channels: 3, hologram_number: 10000, particle: 10000, xsize: 600, ysize: 400)\n",
       "Coordinates:\n",
       "  * channels  (channels) object 'real' 'imag' 'amplitude'\n",
       "Dimensions without coordinates: hologram_number, particle, xsize, ysize\n",
       "Data variables:\n",
       "    hid       (particle) float32 ...\n",
       "    d         (particle) float32 ...\n",
       "    x         (particle) float32 ...\n",
       "    y         (particle) float32 ...\n",
       "    z         (particle) float32 ...\n",
       "    image     (ysize, xsize, hologram_number) uint8 ...\n",
       "    image_ft  (channels, ysize, xsize, hologram_number) float32 0.0028177137 ... 0.0031704279\n",
       "Attributes:\n",
       "    DateCreated:           28-Oct-2019\n",
       "    Nx:                    600.0\n",
       "    Ny:                    400.0\n",
       "    dx:                    2.96e-06\n",
       "    dy:                    2.96e-06\n",
       "    lambda:                3.55e-07\n",
       "    Dpmin:                 2e-05\n",
       "    Dpmax:                 7e-05\n",
       "    zMin:                  0.014\n",
       "    zMax:                  0.158\n",
       "    NParticles:            1.0\n",
       "    Nbits:                 8.0\n",
       "    ccdelevel:             20000.0\n",
       "    gainFactor:            24.0\n",
       "    readNoiseSTD:          12.0\n",
       "    gaussCornCon:          1.0\n",
       "    lowPassFiltCutoff:     2500.0\n",
       "    fracBeamDistort:       0.02\n",
       "    should_beam:           1\n",
       "    should_noise:          1\n",
       "    should_lnoise:         0\n",
       "    partRelInt:            0.5\n",
       "    nHolograms:            10000.0\n",
       "    makeRandParts:         1\n",
       "    should_random:         1\n",
       "    should_extend_domain:  0\n",
       "    superSamplingRate:     1.0\n",
       "    should_cache:          1"
      ]
     },
     "execution_count": 11,
     "metadata": {},
     "output_type": "execute_result"
    }
   ],
   "source": [
    "ds_ft"
   ]
  },
  {
   "cell_type": "code",
   "execution_count": 12,
   "metadata": {},
   "outputs": [],
   "source": [
    "ds_ft.to_netcdf(ds_path+ds_base+\"_ft_ac_\"+\"_\".join(ft_func.keys())+\".nc\",encoding=encode_defs)"
   ]
  },
  {
   "cell_type": "code",
   "execution_count": 14,
   "metadata": {},
   "outputs": [],
   "source": [
    "ds.close()\n",
    "ds_ft.close()"
   ]
  },
  {
   "cell_type": "code",
   "execution_count": null,
   "metadata": {},
   "outputs": [],
   "source": []
  }
 ],
 "metadata": {
  "kernelspec": {
   "display_name": "Python 3",
   "language": "python",
   "name": "python3"
  },
  "language_info": {
   "codemirror_mode": {
    "name": "ipython",
    "version": 3
   },
   "file_extension": ".py",
   "mimetype": "text/x-python",
   "name": "python",
   "nbconvert_exporter": "python",
   "pygments_lexer": "ipython3",
   "version": "3.7.3"
  }
 },
 "nbformat": 4,
 "nbformat_minor": 2
}
