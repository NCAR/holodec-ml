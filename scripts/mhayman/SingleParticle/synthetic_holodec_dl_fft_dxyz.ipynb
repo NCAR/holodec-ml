{
 "cells": [
  {
   "cell_type": "code",
   "execution_count": 1,
   "metadata": {},
   "outputs": [],
   "source": [
    "import numpy as np\n",
    "import xarray as xr\n",
    "import pandas as pd\n",
    "from tensorflow.keras.layers import Input, Conv2D, Dense, Flatten, Activation, MaxPool2D\n",
    "from tensorflow.keras.models import Model, save_model, load_model\n",
    "import matplotlib.pyplot as plt\n",
    "from sklearn.preprocessing import MinMaxScaler\n",
    "import datetime\n",
    "%matplotlib inline"
   ]
  },
  {
   "cell_type": "code",
   "execution_count": 2,
   "metadata": {},
   "outputs": [],
   "source": [
    "ds_path = \"/scr/sci/mhayman/holodec/holodec-ml-data/\"\n",
    "# ds_path = \"../../\"\n",
    "ds = xr.open_dataset(ds_path+\"synthethic_holograms_ft_ac_complex_v0.nc\")  # file with mean (DC) value removed"
   ]
  },
  {
   "cell_type": "code",
   "execution_count": 3,
   "metadata": {},
   "outputs": [],
   "source": [
    "split_index = 7000\n",
    "all_labels = ds[[\"x\", \"y\", \"z\", \"d\"]].to_dataframe()\n",
    "train_labels = all_labels.iloc[:split_index]\n",
    "test_labels = all_labels.iloc[split_index:]\n",
    "scaler = MinMaxScaler()\n",
    "scaled_train_labels = pd.DataFrame(scaler.fit_transform(train_labels), index=train_labels.index, columns=train_labels.columns)\n",
    "scaled_test_labels = pd.DataFrame(scaler.transform(test_labels), index=test_labels.index, columns=test_labels.columns)"
   ]
  },
  {
   "cell_type": "code",
   "execution_count": 4,
   "metadata": {},
   "outputs": [],
   "source": [
    "in_data = ds[\"image_ft\"].transpose(\"hologram_number\", \"ysize\", \"xsize\",\"complex\").expand_dims(\"channel\", 4)"
   ]
  },
  {
   "cell_type": "code",
   "execution_count": 5,
   "metadata": {},
   "outputs": [
    {
     "data": {
      "text/plain": [
       "('complex', 'ysize', 'xsize', 'hologram_number')"
      ]
     },
     "execution_count": 5,
     "metadata": {},
     "output_type": "execute_result"
    }
   ],
   "source": [
    "ds[\"image_ft\"].dims"
   ]
  },
  {
   "cell_type": "code",
   "execution_count": 6,
   "metadata": {},
   "outputs": [
    {
     "data": {
      "text/plain": [
       "<xarray.DataArray 'image_ft' ()>\n",
       "array(244.501297)"
      ]
     },
     "execution_count": 6,
     "metadata": {},
     "output_type": "execute_result"
    }
   ],
   "source": [
    "ds[\"image_ft\"].max()"
   ]
  },
  {
   "cell_type": "code",
   "execution_count": 7,
   "metadata": {},
   "outputs": [],
   "source": [
    "scaled_in_data = in_data / 255"
   ]
  },
  {
   "cell_type": "code",
   "execution_count": 15,
   "metadata": {},
   "outputs": [
    {
     "name": "stdout",
     "output_type": "stream",
     "text": [
      "Model: \"model_1\"\n",
      "_________________________________________________________________\n",
      "Layer (type)                 Output Shape              Param #   \n",
      "=================================================================\n",
      "input_3 (InputLayer)         [(None, 400, 600, 2)]     0         \n",
      "_________________________________________________________________\n",
      "conv2d_4 (Conv2D)            (None, 400, 600, 8)       408       \n",
      "_________________________________________________________________\n",
      "activation_3 (Activation)    (None, 400, 600, 8)       0         \n",
      "_________________________________________________________________\n",
      "max_pooling2d_3 (MaxPooling2 (None, 100, 150, 8)       0         \n",
      "_________________________________________________________________\n",
      "conv2d_5 (Conv2D)            (None, 100, 150, 16)      3216      \n",
      "_________________________________________________________________\n",
      "activation_4 (Activation)    (None, 100, 150, 16)      0         \n",
      "_________________________________________________________________\n",
      "max_pooling2d_4 (MaxPooling2 (None, 25, 37, 16)        0         \n",
      "_________________________________________________________________\n",
      "conv2d_6 (Conv2D)            (None, 25, 37, 32)        12832     \n",
      "_________________________________________________________________\n",
      "activation_5 (Activation)    (None, 25, 37, 32)        0         \n",
      "_________________________________________________________________\n",
      "max_pooling2d_5 (MaxPooling2 (None, 6, 9, 32)          0         \n",
      "_________________________________________________________________\n",
      "flatten_1 (Flatten)          (None, 1728)              0         \n",
      "_________________________________________________________________\n",
      "dense_3 (Dense)              (None, 64)                110656    \n",
      "_________________________________________________________________\n",
      "dense_4 (Dense)              (None, 32)                2080      \n",
      "_________________________________________________________________\n",
      "dense_5 (Dense)              (None, 4)                 132       \n",
      "=================================================================\n",
      "Total params: 129,324\n",
      "Trainable params: 129,324\n",
      "Non-trainable params: 0\n",
      "_________________________________________________________________\n"
     ]
    }
   ],
   "source": [
    "conv_input = Input(shape=(400, 600, 2,))  # increase third dimension from 1 to 2 for complex FT data\n",
    "conv_1 = Conv2D(8, (5, 5), padding=\"same\")(conv_input)\n",
    "act_1 = Activation(\"relu\")(conv_1)\n",
    "pool_1 = MaxPool2D(pool_size=(4, 4))(act_1)\n",
    "conv_2 = Conv2D(16, (5, 5), padding=\"same\")(pool_1)\n",
    "act_2 = Activation(\"relu\")(conv_2)\n",
    "pool_2 = MaxPool2D(pool_size=(4, 4))(act_2)\n",
    "conv_3 = Conv2D(32, (5, 5), padding=\"same\")(pool_2)\n",
    "act_3 = Activation(\"relu\")(conv_3)\n",
    "pool_3 = MaxPool2D(pool_size=(4, 4))(act_3)\n",
    "flat = Flatten()(pool_3)\n",
    "dense_1 = Dense(64, activation=\"relu\")(flat)\n",
    "dense_2 = Dense(32, activation=\"relu\")(dense_1)\n",
    "out = Dense(all_labels.shape[1])(dense_2)  # number of outputs determined by the parameters we are training to\n",
    "mod = Model(conv_input, out)\n",
    "mod.compile(optimizer=\"adam\", loss=\"mae\")\n",
    "mod.summary()"
   ]
  },
  {
   "cell_type": "code",
   "execution_count": 22,
   "metadata": {},
   "outputs": [
    {
     "name": "stdout",
     "output_type": "stream",
     "text": [
      "Train on 7000 samples\n",
      "Epoch 1/30\n",
      "7000/7000 [==============================] - 132s 19ms/sample - loss: 0.1661\n",
      "Epoch 2/30\n",
      "7000/7000 [==============================] - 124s 18ms/sample - loss: 0.0663\n",
      "Epoch 3/30\n",
      "7000/7000 [==============================] - 124s 18ms/sample - loss: 0.0429\n",
      "Epoch 4/30\n",
      "7000/7000 [==============================] - 128s 18ms/sample - loss: 0.0362\n",
      "Epoch 5/30\n",
      "7000/7000 [==============================] - 128s 18ms/sample - loss: 0.0317\n",
      "Epoch 6/30\n",
      "7000/7000 [==============================] - 137s 20ms/sample - loss: 0.0294\n",
      "Epoch 7/30\n",
      "7000/7000 [==============================] - 134s 19ms/sample - loss: 0.0269\n",
      "Epoch 8/30\n",
      "7000/7000 [==============================] - 125s 18ms/sample - loss: 0.0252\n",
      "Epoch 9/30\n",
      "7000/7000 [==============================] - 127s 18ms/sample - loss: 0.0238\n",
      "Epoch 10/30\n",
      "7000/7000 [==============================] - 133s 19ms/sample - loss: 0.0223\n",
      "Epoch 11/30\n",
      "7000/7000 [==============================] - 135s 19ms/sample - loss: 0.0218\n",
      "Epoch 12/30\n",
      "7000/7000 [==============================] - 127s 18ms/sample - loss: 0.0212\n",
      "Epoch 13/30\n",
      "7000/7000 [==============================] - 126s 18ms/sample - loss: 0.0204\n",
      "Epoch 14/30\n",
      "7000/7000 [==============================] - 127s 18ms/sample - loss: 0.0199\n",
      "Epoch 15/30\n",
      "7000/7000 [==============================] - 127s 18ms/sample - loss: 0.0196\n",
      "Epoch 16/30\n",
      "7000/7000 [==============================] - 126s 18ms/sample - loss: 0.0191\n",
      "Epoch 17/30\n",
      "7000/7000 [==============================] - 129s 18ms/sample - loss: 0.0181\n",
      "Epoch 18/30\n",
      "7000/7000 [==============================] - 134s 19ms/sample - loss: 0.0184\n",
      "Epoch 19/30\n",
      "7000/7000 [==============================] - 132s 19ms/sample - loss: 0.0176\n",
      "Epoch 20/30\n",
      "7000/7000 [==============================] - 128s 18ms/sample - loss: 0.0177\n",
      "Epoch 21/30\n",
      "7000/7000 [==============================] - 121s 17ms/sample - loss: 0.0166\n",
      "Epoch 22/30\n",
      "7000/7000 [==============================] - 124s 18ms/sample - loss: 0.0172\n",
      "Epoch 23/30\n",
      "7000/7000 [==============================] - 124s 18ms/sample - loss: 0.0166\n",
      "Epoch 24/30\n",
      "7000/7000 [==============================] - 124s 18ms/sample - loss: 0.0166\n",
      "Epoch 25/30\n",
      "7000/7000 [==============================] - 121s 17ms/sample - loss: 0.0162\n",
      "Epoch 26/30\n",
      "7000/7000 [==============================] - 124s 18ms/sample - loss: 0.0153\n",
      "Epoch 27/30\n",
      "7000/7000 [==============================] - 120s 17ms/sample - loss: 0.0157\n",
      "Epoch 28/30\n",
      "7000/7000 [==============================] - 122s 17ms/sample - loss: 0.0150\n",
      "Epoch 29/30\n",
      "7000/7000 [==============================] - 124s 18ms/sample - loss: 0.0156\n",
      "Epoch 30/30\n",
      "7000/7000 [==============================] - 127s 18ms/sample - loss: 0.0149\n"
     ]
    },
    {
     "data": {
      "text/plain": [
       "<tensorflow.python.keras.callbacks.History at 0x7f0a28538dd8>"
      ]
     },
     "execution_count": 22,
     "metadata": {},
     "output_type": "execute_result"
    }
   ],
   "source": [
    "mod.fit(scaled_in_data[:split_index].values[:,:,:,:,0], scaled_train_labels.values, batch_size=16, epochs=30, verbose=1)"
   ]
  },
  {
   "cell_type": "code",
   "execution_count": 21,
   "metadata": {},
   "outputs": [
    {
     "data": {
      "text/plain": [
       "(7000, 400, 600, 2)"
      ]
     },
     "execution_count": 21,
     "metadata": {},
     "output_type": "execute_result"
    }
   ],
   "source": [
    "scaled_in_data[:split_index].values[:,:,:,:,0].shape"
   ]
  },
  {
   "cell_type": "code",
   "execution_count": 7,
   "metadata": {},
   "outputs": [],
   "source": [
    "# can skip the training process and just load the CNN model\n",
    "#mod = load_model(\"holodec_ft_dxyz_cnn.h5\")"
   ]
  },
  {
   "cell_type": "code",
   "execution_count": 24,
   "metadata": {},
   "outputs": [
    {
     "name": "stdout",
     "output_type": "stream",
     "text": [
      "10000 samples in 29.485424 seconds\n",
      "for 0.0029485424 seconds per hologram\n"
     ]
    }
   ],
   "source": [
    "cnn_start = datetime.datetime.now()\n",
    "preds_out = mod.predict(scaled_in_data.values[:,:,:,:,0], batch_size=64)\n",
    "cnn_stop = datetime.datetime.now()\n",
    "print(f\"{scaled_in_data.values.shape[0]} samples in {(cnn_stop-cnn_start).total_seconds()} seconds\")\n",
    "print(f\"for {(cnn_stop-cnn_start).total_seconds()/scaled_in_data.values.shape[0]} seconds per hologram\")"
   ]
  },
  {
   "cell_type": "code",
   "execution_count": 25,
   "metadata": {},
   "outputs": [],
   "source": [
    "save_model(mod, \"holodec_ft_dxyz_cnn.h5\", save_format=\"h5\")"
   ]
  },
  {
   "cell_type": "code",
   "execution_count": 26,
   "metadata": {},
   "outputs": [],
   "source": [
    "preds_original = scaler.inverse_transform(preds_out)"
   ]
  },
  {
   "cell_type": "code",
   "execution_count": 27,
   "metadata": {},
   "outputs": [
    {
     "data": {
      "text/plain": [
       "x      1770.686768\n",
       "y      1180.613525\n",
       "z    143946.109375\n",
       "d        49.954773\n",
       "dtype: float32"
      ]
     },
     "execution_count": 27,
     "metadata": {},
     "output_type": "execute_result"
    }
   ],
   "source": [
    "(test_labels.max() - test_labels.min())"
   ]
  },
  {
   "cell_type": "code",
   "execution_count": 28,
   "metadata": {},
   "outputs": [
    {
     "data": {
      "image/png": "[encoded data removed]",
      "text/plain": [
       "<Figure size 576x576 with 4 Axes>"
      ]
     },
     "metadata": {
      "needs_background": "light"
     },
     "output_type": "display_data"
    }
   ],
   "source": [
    "fig, axes = plt.subplots(2, 2, figsize=(8, 8))\n",
    "for a, ax in enumerate(axes.ravel()):\n",
    "    ax.scatter(test_labels.iloc[:, a], preds_original[split_index:, a], 1, 'k')\n",
    "    diag = np.linspace(test_labels.iloc[:, a].min(), test_labels.iloc[:, a].max(), 10)\n",
    "    ax.plot(diag, diag, 'b--' )\n",
    "    ax.set_title(test_labels.columns[a])\n",
    "plt.savefig(\"error_hist_fft_dxyz.png\", dpi=200, bbox_inches=\"tight\")\n",
    "# for a, ax in enumerate(axes.ravel()):\n",
    "    "
   ]
  },
  {
   "cell_type": "code",
   "execution_count": 30,
   "metadata": {},
   "outputs": [
    {
     "data": {
      "image/png": "[encoded data removed]",
      "text/plain": [
       "<Figure size 576x576 with 4 Axes>"
      ]
     },
     "metadata": {
      "needs_background": "light"
     },
     "output_type": "display_data"
    }
   ],
   "source": [
    "fig, axes = plt.subplots(2, 2, figsize=(8, 8))\n",
    "for a, ax in enumerate(axes.ravel()):\n",
    "    ax.hist( (preds_original[split_index:, a] - test_labels.iloc[:, a].values) / (test_labels.iloc[:, a].max() - test_labels.iloc[:, a].min()),\n",
    "           bins=20)\n",
    "    ax.set_yscale(\"log\")\n",
    "    ax.set_xlabel(\"Error in \"+test_labels.columns[a])\n",
    "plt.savefig(\"relative_error_histogram_fft_dxyz.png\", dpi=200, bbox_inches=\"tight\")"
   ]
  },
  {
   "cell_type": "code",
   "execution_count": 31,
   "metadata": {},
   "outputs": [
    {
     "data": {
      "text/plain": [
       "array([2.7639597e+01, 2.3661020e+01, 2.4324028e+03, 7.4768418e-01],\n",
       "      dtype=float32)"
      ]
     },
     "execution_count": 31,
     "metadata": {},
     "output_type": "execute_result"
    }
   ],
   "source": [
    "np.mean(np.abs(preds_original[split_index:] - test_labels.values), axis=0)"
   ]
  },
  {
   "cell_type": "code",
   "execution_count": 32,
   "metadata": {},
   "outputs": [
    {
     "data": {
      "text/plain": [
       "array([0.01559324, 0.02003713, 0.01689381, 0.01496175])"
      ]
     },
     "execution_count": 32,
     "metadata": {},
     "output_type": "execute_result"
    }
   ],
   "source": [
    "np.mean(np.abs(preds_out[split_index:] - scaled_test_labels.values), axis=0)"
   ]
  },
  {
   "cell_type": "code",
   "execution_count": 33,
   "metadata": {},
   "outputs": [
    {
     "data": {
      "text/plain": [
       "69.97508"
      ]
     },
     "execution_count": 33,
     "metadata": {},
     "output_type": "execute_result"
    }
   ],
   "source": [
    "test_labels[\"d\"].max()"
   ]
  },
  {
   "cell_type": "code",
   "execution_count": 34,
   "metadata": {},
   "outputs": [
    {
     "data": {
      "text/plain": [
       "<xarray.DataArray 'xsize' (xsize: 600)>\n",
       "array([  0,   1,   2, ..., 597, 598, 599])\n",
       "Dimensions without coordinates: xsize"
      ]
     },
     "execution_count": 34,
     "metadata": {},
     "output_type": "execute_result"
    }
   ],
   "source": [
    "ds[\"xsize\"]"
   ]
  },
  {
   "cell_type": "code",
   "execution_count": null,
   "metadata": {},
   "outputs": [],
   "source": []
  }
 ],
 "metadata": {
  "kernelspec": {
   "display_name": "Python 3",
   "language": "python",
   "name": "python3"
  },
  "language_info": {
   "codemirror_mode": {
    "name": "ipython",
    "version": 3
   },
   "file_extension": ".py",
   "mimetype": "text/x-python",
   "name": "python",
   "nbconvert_exporter": "python",
   "pygments_lexer": "ipython3",
   "version": "3.7.3"
  }
 },
 "nbformat": 4,
 "nbformat_minor": 4
}
