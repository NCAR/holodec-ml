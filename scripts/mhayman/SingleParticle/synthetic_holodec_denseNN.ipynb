{
 "cells": [
  {
   "cell_type": "code",
   "execution_count": 1,
   "metadata": {},
   "outputs": [],
   "source": [
    "import numpy as np\n",
    "import xarray as xr\n",
    "import pandas as pd\n",
    "from tensorflow.keras.layers import Input, Conv2D, Dense, Flatten, Activation, MaxPool2D, SeparableConv2D, AveragePooling2D\n",
    "from tensorflow.keras.models import Model, save_model, load_model\n",
    "from tensorflow import concat\n",
    "import matplotlib.pyplot as plt\n",
    "from sklearn.preprocessing import MinMaxScaler\n",
    "import datetime\n",
    "%matplotlib inline"
   ]
  },
  {
   "cell_type": "code",
   "execution_count": 2,
   "metadata": {},
   "outputs": [],
   "source": [
    "ds_path = \"/scr/sci/mhayman/holodec/holodec-ml-data/\"\n",
    "\n",
    "#ds_file = \"synthethic_holograms_ft_ac_complex_v0.nc\"\n",
    "#data_rescale = 255  # set to 1 or 255 depending on input file\n",
    "#channel_name = \"complex\"\n",
    "\n",
    "#ds_file = \"synthethic_holograms_ft_ac_complex_amp_phase_v0.nc\" # amplitude and phase\n",
    "#data_rescale = 1  # set to 1 or 255 depending on input file\n",
    "#channel_name = \"complex\"\n",
    "\n",
    "#ds_file = \"synthethic_holograms_v0_ft_ac_real_imag_amplitude.nc\"  # real, imaginary, amplitude\n",
    "#data_rescale = 1  # set to 1 or 255 depending on input file\n",
    "#channel_name = \"channels\"\n",
    "\n",
    "ds_file = \"synthethic_holograms_ft_ac_v0.nc\"  # amplitude only\n",
    "data_rescale = 255\n",
    "channel_name = None\n",
    "\n",
    "ds = xr.open_dataset(ds_path+ds_file)  # file with mean (DC) value removed"
   ]
  },
  {
   "cell_type": "code",
   "execution_count": 3,
   "metadata": {},
   "outputs": [],
   "source": [
    "split_index = 7000\n",
    "all_labels = ds[[\"d\"]].to_dataframe()\n",
    "train_labels = all_labels.iloc[:split_index]\n",
    "test_labels = all_labels.iloc[split_index:]\n",
    "scaler = MinMaxScaler()\n",
    "scaled_train_labels = pd.DataFrame(scaler.fit_transform(train_labels), index=train_labels.index, columns=train_labels.columns)\n",
    "scaled_test_labels = pd.DataFrame(scaler.transform(test_labels), index=test_labels.index, columns=test_labels.columns)"
   ]
  },
  {
   "cell_type": "code",
   "execution_count": 4,
   "metadata": {},
   "outputs": [],
   "source": [
    "if channel_name is None:\n",
    "    in_data = ds[\"image_ft\"].transpose(\"hologram_number\", \"ysize\", 'xsize').expand_dims(\"channel\", 3)\n",
    "else:\n",
    "    in_data = ds[\"image_ft\"].transpose(\"hologram_number\", \"ysize\", \"xsize\",channel_name)"
   ]
  },
  {
   "cell_type": "code",
   "execution_count": 5,
   "metadata": {},
   "outputs": [],
   "source": [
    "scaled_in_data = in_data / data_rescale"
   ]
  },
  {
   "cell_type": "code",
   "execution_count": 6,
   "metadata": {},
   "outputs": [
    {
     "name": "stdout",
     "output_type": "stream",
     "text": [
      "Model: \"model\"\n",
      "_________________________________________________________________\n",
      "Layer (type)                 Output Shape              Param #   \n",
      "=================================================================\n",
      "input_1 (InputLayer)         [(None, 400, 600, 1)]     0         \n",
      "_________________________________________________________________\n",
      "average_pooling2d (AveragePo (None, 100, 150, 1)       0         \n",
      "_________________________________________________________________\n",
      "flatten (Flatten)            (None, 15000)             0         \n",
      "_________________________________________________________________\n",
      "dense (Dense)                (None, 64)                960064    \n",
      "_________________________________________________________________\n",
      "dense_1 (Dense)              (None, 32)                2080      \n",
      "_________________________________________________________________\n",
      "dense_2 (Dense)              (None, 16)                528       \n",
      "_________________________________________________________________\n",
      "dense_3 (Dense)              (None, 8)                 136       \n",
      "_________________________________________________________________\n",
      "dense_4 (Dense)              (None, 1)                 9         \n",
      "=================================================================\n",
      "Total params: 962,817\n",
      "Trainable params: 962,817\n",
      "Non-trainable params: 0\n",
      "_________________________________________________________________\n"
     ]
    }
   ],
   "source": [
    "filter_input = Input(shape=in_data.shape[1:])\n",
    "\n",
    "# use average pooling for input\n",
    "pool_1 = AveragePooling2D(pool_size=(4, 4))(filter_input)\n",
    "flat = Flatten()(pool_1)\n",
    "\n",
    "# skip average pooling\n",
    "#flat = Flatten()(filter_input)  \n",
    "\n",
    "dense_1 = Dense(64, activation=\"relu\")(flat)\n",
    "dense_2 = Dense(32, activation=\"relu\")(dense_1)\n",
    "dense_3 = Dense(16, activation=\"relu\")(dense_2)\n",
    "dense_4 = Dense(8, activation=\"relu\")(dense_3)\n",
    "out = Dense(all_labels.shape[1])(dense_4)  # number of outputs determined by the parameters we are training to\n",
    "mod = Model(filter_input, out)\n",
    "mod.compile(optimizer=\"adam\", loss=\"mae\", metrics=['accuracy'])\n",
    "mod.summary()"
   ]
  },
  {
   "cell_type": "code",
   "execution_count": 7,
   "metadata": {},
   "outputs": [
    {
     "name": "stdout",
     "output_type": "stream",
     "text": [
      "Train on 7000 samples\n",
      "Epoch 1/30\n",
      "7000/7000 [==============================] - 33s 5ms/sample - loss: 0.0609\n",
      "Epoch 2/30\n",
      "7000/7000 [==============================] - 30s 4ms/sample - loss: 0.0316\n",
      "Epoch 3/30\n",
      "7000/7000 [==============================] - 29s 4ms/sample - loss: 0.0266\n",
      "Epoch 4/30\n",
      "7000/7000 [==============================] - 29s 4ms/sample - loss: 0.0259\n",
      "Epoch 5/30\n",
      "7000/7000 [==============================] - 29s 4ms/sample - loss: 0.0243\n",
      "Epoch 6/30\n",
      "7000/7000 [==============================] - 28s 4ms/sample - loss: 0.0225\n",
      "Epoch 7/30\n",
      "7000/7000 [==============================] - 29s 4ms/sample - loss: 0.0210\n",
      "Epoch 8/30\n",
      "7000/7000 [==============================] - 30s 4ms/sample - loss: 0.0201\n",
      "Epoch 9/30\n",
      "7000/7000 [==============================] - 29s 4ms/sample - loss: 0.0195\n",
      "Epoch 10/30\n",
      "7000/7000 [==============================] - 30s 4ms/sample - loss: 0.0185\n",
      "Epoch 11/30\n",
      "7000/7000 [==============================] - 30s 4ms/sample - loss: 0.0189\n",
      "Epoch 12/30\n",
      "7000/7000 [==============================] - 31s 4ms/sample - loss: 0.0180\n",
      "Epoch 13/30\n",
      "7000/7000 [==============================] - 31s 4ms/sample - loss: 0.0170\n",
      "Epoch 14/30\n",
      "7000/7000 [==============================] - 31s 4ms/sample - loss: 0.0172\n",
      "Epoch 15/30\n",
      "7000/7000 [==============================] - 29s 4ms/sample - loss: 0.0165\n",
      "Epoch 16/30\n",
      "7000/7000 [==============================] - 31s 4ms/sample - loss: 0.0158\n",
      "Epoch 17/30\n",
      "7000/7000 [==============================] - 31s 4ms/sample - loss: 0.0145\n",
      "Epoch 18/30\n",
      "7000/7000 [==============================] - 30s 4ms/sample - loss: 0.0145\n",
      "Epoch 19/30\n",
      "7000/7000 [==============================] - 29s 4ms/sample - loss: 0.0145\n",
      "Epoch 20/30\n",
      "7000/7000 [==============================] - 30s 4ms/sample - loss: 0.0145\n",
      "Epoch 21/30\n",
      "7000/7000 [==============================] - 31s 4ms/sample - loss: 0.0149\n",
      "Epoch 22/30\n",
      "7000/7000 [==============================] - 31s 4ms/sample - loss: 0.0129\n",
      "Epoch 23/30\n",
      "7000/7000 [==============================] - 32s 5ms/sample - loss: 0.0134\n",
      "Epoch 24/30\n",
      "7000/7000 [==============================] - 32s 5ms/sample - loss: 0.0127\n",
      "Epoch 25/30\n",
      "7000/7000 [==============================] - 30s 4ms/sample - loss: 0.0130\n",
      "Epoch 26/30\n",
      "7000/7000 [==============================] - 31s 4ms/sample - loss: 0.0123\n",
      "Epoch 27/30\n",
      "7000/7000 [==============================] - 32s 5ms/sample - loss: 0.0116\n",
      "Epoch 28/30\n",
      "7000/7000 [==============================] - 29s 4ms/sample - loss: 0.0120\n",
      "Epoch 29/30\n",
      "7000/7000 [==============================] - 31s 4ms/sample - loss: 0.0116\n",
      "Epoch 30/30\n",
      "7000/7000 [==============================] - 32s 5ms/sample - loss: 0.0117\n"
     ]
    },
    {
     "data": {
      "text/plain": [
       "<tensorflow.python.keras.callbacks.History at 0x7f29941ad940>"
      ]
     },
     "execution_count": 7,
     "metadata": {},
     "output_type": "execute_result"
    }
   ],
   "source": [
    "history = mod.fit(scaled_in_data[:split_index].values, scaled_train_labels.values, batch_size=16, epochs=30, verbose=1)"
   ]
  },
  {
   "cell_type": "code",
   "execution_count": 8,
   "metadata": {},
   "outputs": [
    {
     "data": {
      "text/plain": [
       "(7000, 400, 600, 1)"
      ]
     },
     "execution_count": 8,
     "metadata": {},
     "output_type": "execute_result"
    }
   ],
   "source": [
    "scaled_in_data[:split_index].values.shape"
   ]
  },
  {
   "cell_type": "code",
   "execution_count": 9,
   "metadata": {},
   "outputs": [],
   "source": [
    "# can skip the training process and just load the CNN model\n",
    "# mod = load_model(\"holodec_ft_dxyz_cnn.h5\")"
   ]
  },
  {
   "cell_type": "code",
   "execution_count": 22,
   "metadata": {},
   "outputs": [
    {
     "name": "stdout",
     "output_type": "stream",
     "text": [
      "10000 samples in 28.718432 seconds\n",
      "for 0.0028718432 seconds per hologram\n"
     ]
    }
   ],
   "source": [
    "cnn_start = datetime.datetime.now()\n",
    "preds_out = mod.predict(scaled_in_data.values, batch_size=64)\n",
    "cnn_stop = datetime.datetime.now()\n",
    "print(f\"{scaled_in_data.values.shape[0]} samples in {(cnn_stop-cnn_start).total_seconds()} seconds\")\n",
    "print(f\"for {(cnn_stop-cnn_start).total_seconds()/scaled_in_data.values.shape[0]} seconds per hologram\")"
   ]
  },
  {
   "cell_type": "code",
   "execution_count": 11,
   "metadata": {},
   "outputs": [],
   "source": [
    "save_model(mod, \"results/holodec_\"+ds_file.replace(\".nc\",\"\")+\"\".join(all_labels.columns)+\"_denseNN.h5\", save_format=\"h5\")"
   ]
  },
  {
   "cell_type": "code",
   "execution_count": 12,
   "metadata": {},
   "outputs": [],
   "source": [
    "preds_original = scaler.inverse_transform(preds_out)"
   ]
  },
  {
   "cell_type": "code",
   "execution_count": 13,
   "metadata": {},
   "outputs": [
    {
     "data": {
      "text/plain": [
       "d    49.954773\n",
       "dtype: float32"
      ]
     },
     "execution_count": 13,
     "metadata": {},
     "output_type": "execute_result"
    }
   ],
   "source": [
    "(test_labels.max() - test_labels.min())"
   ]
  },
  {
   "cell_type": "code",
   "execution_count": 25,
   "metadata": {},
   "outputs": [],
   "source": [
    "mean_error = np.mean(preds_original[split_index:] - test_labels.values, axis=0)\n",
    "std_error = np.std(preds_original[split_index:] - test_labels.values, axis=0)"
   ]
  },
  {
   "cell_type": "code",
   "execution_count": 33,
   "metadata": {},
   "outputs": [
    {
     "data": {
      "image/png": "[encoded data removed]",
      "text/plain": [
       "<Figure size 576x576 with 4 Axes>"
      ]
     },
     "metadata": {
      "needs_background": "light"
     },
     "output_type": "display_data"
    }
   ],
   "source": [
    "validation_data = {}\n",
    "fig, axes = plt.subplots(2, 2, figsize=(8, 8))\n",
    "for a, clabel in enumerate(all_labels.columns):\n",
    "    ax=axes.ravel()[a]\n",
    "    ax.scatter(test_labels.iloc[:, a], preds_original[split_index:, a], 1, 'k')\n",
    "    diag = np.linspace(test_labels.iloc[:, a].min(), test_labels.iloc[:, a].max(), 10)\n",
    "    ax.plot(diag, diag, 'b--' )\n",
    "    ax.set_title(test_labels.columns[a])\n",
    "    plt.text(0.1,0.9,f\"${mean_error[a]:.1f} \\pm {std_error[a]:.1f} \\mu m$\",ha='left',va='top',transform=ax.transAxes)\n",
    "    validation_data[test_labels.columns[a]] = test_labels.iloc[:, a]\n",
    "    validation_data[test_labels.columns[a]+'_pred'] = preds_original[split_index:, a]\n",
    "plt.savefig(\"results/error_scatter_denseNN_\"+ds_file.replace(\".nc\",\"_\")+\"\".join(all_labels.columns)+\".png\", dpi=200, bbox_inches=\"tight\")\n",
    "validation_data_df = pd.DataFrame(validation_data)\n",
    "validation_data_df.to_csv('results/validation_data_denseNN_'+ds_file.replace(\".nc\",\"_\")+''.join(all_labels.columns)+'.txt')\n",
    "    "
   ]
  },
  {
   "cell_type": "code",
   "execution_count": 16,
   "metadata": {},
   "outputs": [
    {
     "data": {
      "image/png": "[encoded data removed]",
      "text/plain": [
       "<Figure size 576x576 with 4 Axes>"
      ]
     },
     "metadata": {
      "needs_background": "light"
     },
     "output_type": "display_data"
    }
   ],
   "source": [
    "fig, axes = plt.subplots(2, 2, figsize=(8, 8))\n",
    "for a, clabel in enumerate(all_labels.columns):\n",
    "    ax=axes.ravel()[a]\n",
    "    ax.hist( (preds_original[split_index:, a] - test_labels.iloc[:, a].values) / (test_labels.iloc[:, a].max() - test_labels.iloc[:, a].min()),\n",
    "           bins=20)\n",
    "    ax.set_yscale(\"log\")\n",
    "    ax.set_xlabel(\"Error in \"+test_labels.columns[a])\n",
    "plt.savefig(\"results/relative_error_histogram_denseNN_\"+ds_file.replace(\".nc\",\"_\")+\"\".join(all_labels.columns)+\".png\", dpi=200, bbox_inches=\"tight\")"
   ]
  },
  {
   "cell_type": "code",
   "execution_count": 17,
   "metadata": {},
   "outputs": [
    {
     "data": {
      "text/plain": [
       "array([0.82502], dtype=float32)"
      ]
     },
     "execution_count": 17,
     "metadata": {},
     "output_type": "execute_result"
    }
   ],
   "source": [
    "np.mean(np.abs(preds_original[split_index:] - test_labels.values), axis=0)"
   ]
  },
  {
   "cell_type": "code",
   "execution_count": 18,
   "metadata": {},
   "outputs": [
    {
     "data": {
      "text/plain": [
       "array([0.58247125], dtype=float32)"
      ]
     },
     "execution_count": 18,
     "metadata": {},
     "output_type": "execute_result"
    }
   ],
   "source": [
    "np.mean(preds_original[split_index:] - test_labels.values, axis=0)"
   ]
  },
  {
   "cell_type": "code",
   "execution_count": 19,
   "metadata": {},
   "outputs": [
    {
     "data": {
      "text/plain": [
       "array([0.8011555], dtype=float32)"
      ]
     },
     "execution_count": 19,
     "metadata": {},
     "output_type": "execute_result"
    }
   ],
   "source": [
    "np.std(preds_original[split_index:] - test_labels.values, axis=0)"
   ]
  },
  {
   "cell_type": "code",
   "execution_count": 20,
   "metadata": {},
   "outputs": [
    {
     "data": {
      "text/plain": [
       "array([0.01650929])"
      ]
     },
     "execution_count": 20,
     "metadata": {},
     "output_type": "execute_result"
    }
   ],
   "source": [
    "np.mean(np.abs(preds_out[split_index:] - scaled_test_labels.values), axis=0)"
   ]
  },
  {
   "cell_type": "code",
   "execution_count": 21,
   "metadata": {},
   "outputs": [
    {
     "data": {
      "text/plain": [
       "<xarray.DataArray 'xsize' (xsize: 600)>\n",
       "array([  0,   1,   2, ..., 597, 598, 599])\n",
       "Dimensions without coordinates: xsize"
      ]
     },
     "execution_count": 21,
     "metadata": {},
     "output_type": "execute_result"
    }
   ],
   "source": [
    "ds[\"xsize\"]"
   ]
  },
  {
   "cell_type": "code",
   "execution_count": null,
   "metadata": {},
   "outputs": [],
   "source": []
  }
 ],
 "metadata": {
  "kernelspec": {
   "display_name": "Python 3",
   "language": "python",
   "name": "python3"
  },
  "language_info": {
   "codemirror_mode": {
    "name": "ipython",
    "version": 3
   },
   "file_extension": ".py",
   "mimetype": "text/x-python",
   "name": "python",
   "nbconvert_exporter": "python",
   "pygments_lexer": "ipython3",
   "version": "3.7.3"
  }
 },
 "nbformat": 4,
 "nbformat_minor": 4
}
